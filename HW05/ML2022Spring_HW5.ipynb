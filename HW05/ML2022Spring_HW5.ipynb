{
 "cells": [
  {
   "cell_type": "markdown",
   "metadata": {
    "id": "AFEKWoh3p1Mv"
   },
   "source": [
    "# Homework Description\n",
    "- English to Chinese (Traditional) Translation\n",
    "  - Input: an English sentence         (e.g.\t\ttom is a student .)\n",
    "  - Output: the Chinese translation  (e.g. \t\t湯姆 是 個 學生 。)\n",
    "\n",
    "- TODO\n",
    "    - Train a simple RNN seq2seq to acheive translation\n",
    "    - Switch to transformer model to boost performance\n",
    "    - Apply Back-translation to furthur boost performance"
   ]
  },
  {
   "cell_type": "code",
   "execution_count": null,
   "metadata": {
    "id": "3Vf1Q79XPQ3D"
   },
   "outputs": [],
   "source": [
    "!nvidia-smi"
   ]
  },
  {
   "cell_type": "markdown",
   "metadata": {
    "id": "59neB_Sxp5Ub"
   },
   "source": [
    "# Download and import required packages"
   ]
  },
  {
   "cell_type": "code",
   "execution_count": null,
   "metadata": {
    "id": "rRlFbfFRpZYT"
   },
   "outputs": [],
   "source": [
    "!pip install 'torch>=1.6.0' editdistance matplotlib sacrebleu sacremoses sentencepiece tqdm wandb\n",
    "!pip install --upgrade jupyter ipywidgets"
   ]
  },
  {
   "cell_type": "code",
   "execution_count": null,
   "metadata": {
    "id": "fSksMTdmp-Wt"
   },
   "outputs": [],
   "source": [
    "!git clone https://github.com/pytorch/fairseq.git\n",
    "!cd fairseq && git checkout 9a1c497\n",
    "!pip install --upgrade ./fairseq/"
   ]
  },
  {
   "cell_type": "code",
   "execution_count": null,
   "metadata": {},
   "outputs": [],
   "source": [
    "!pip install seaborn"
   ]
  },
  {
   "cell_type": "code",
   "execution_count": 1,
   "metadata": {
    "id": "uRLTiuIuqGNc"
   },
   "outputs": [
    {
     "name": "stderr",
     "output_type": "stream",
     "text": [
      "No protocol specified\n"
     ]
    }
   ],
   "source": [
    "import sys\n",
    "import pdb\n",
    "import pprint\n",
    "import logging\n",
    "import os\n",
    "import random\n",
    "\n",
    "import torch\n",
    "import torch.nn as nn\n",
    "import torch.nn.functional as F\n",
    "from torch.utils import data\n",
    "import numpy as np\n",
    "import tqdm.auto as tqdm\n",
    "from pathlib import Path\n",
    "from argparse import Namespace\n",
    "from fairseq import utils\n",
    "\n",
    "import matplotlib.pyplot as plt\n",
    "import seaborn as sns"
   ]
  },
  {
   "cell_type": "markdown",
   "metadata": {
    "id": "0n07Za1XqJzA"
   },
   "source": [
    "# Fix random seed"
   ]
  },
  {
   "cell_type": "code",
   "execution_count": 2,
   "metadata": {
    "id": "xllxxyWxqI7s"
   },
   "outputs": [],
   "source": [
    "seed = 73\n",
    "random.seed(seed)\n",
    "torch.manual_seed(seed)\n",
    "if torch.cuda.is_available():\n",
    "    torch.cuda.manual_seed(seed)\n",
    "    torch.cuda.manual_seed_all(seed)  \n",
    "np.random.seed(seed)  \n",
    "torch.backends.cudnn.benchmark = False\n",
    "torch.backends.cudnn.deterministic = True"
   ]
  },
  {
   "cell_type": "markdown",
   "metadata": {
    "id": "N5ORDJ-2qdYw"
   },
   "source": [
    "# Dataset\n",
    "\n",
    "## En-Zh Bilingual Parallel Corpus\n",
    "* [TED2020](#reimers-2020-multilingual-sentence-bert)\n",
    "    - Raw: 398,066 (sentences)   \n",
    "    - Processed: 393,980 (sentences)\n",
    "    \n",
    "\n",
    "## Testdata\n",
    "- Size: 4,000 (sentences)\n",
    "- **Chinese translation is undisclosed. The provided (.zh) file is psuedo translation, each line is a '。'**"
   ]
  },
  {
   "cell_type": "markdown",
   "metadata": {
    "id": "GQw2mY4Dqkzd"
   },
   "source": [
    "## Dataset Download"
   ]
  },
  {
   "cell_type": "code",
   "execution_count": 3,
   "metadata": {},
   "outputs": [],
   "source": [
    "data_dir = './DATA/rawdata'\n",
    "dataset_name = 'ted2020'\n",
    "urls = (\n",
    "    \"https://github.com/yuhsinchan/ML2022-HW5Dataset/releases/download/v1.0.2/ted2020.tgz\",\n",
    "    \"https://github.com/yuhsinchan/ML2022-HW5Dataset/releases/download/v1.0.2/test.tgz\",\n",
    ")\n",
    "file_names = (\n",
    "    'ted2020.tgz', # train & valid\n",
    "    'test.tgz',    # test\n",
    ")\n",
    "prefix = Path(data_dir).absolute() / dataset_name"
   ]
  },
  {
   "cell_type": "code",
   "execution_count": 4,
   "metadata": {
    "id": "SXT42xQtqijD"
   },
   "outputs": [
    {
     "name": "stdout",
     "output_type": "stream",
     "text": [
      "raw.en\n",
      "raw.zh\n",
      "test/\n",
      "test/test.zh\n",
      "test/test.en\n"
     ]
    }
   ],
   "source": [
    "prefix.mkdir(parents=True, exist_ok=True)\n",
    "for u, f in zip(urls, file_names):\n",
    "    path = prefix/f\n",
    "    if not path.exists():\n",
    "        !wget {u} -O {path}\n",
    "    if path.suffix == \".tgz\":\n",
    "        !tar -xvf {path} -C {prefix}\n",
    "    elif path.suffix == \".zip\":\n",
    "        !unzip -o {path} -d {prefix}\n",
    "!mv {prefix/'raw.en'} {prefix/'train_dev.raw.en'}\n",
    "!mv {prefix/'raw.zh'} {prefix/'train_dev.raw.zh'}\n",
    "!mv {prefix/'test/test.en'} {prefix/'test.raw.en'}\n",
    "!mv {prefix/'test/test.zh'} {prefix/'test.raw.zh'}\n",
    "!rm -rf {prefix/'test'}"
   ]
  },
  {
   "cell_type": "markdown",
   "metadata": {
    "id": "YLkJwNiFrIwZ"
   },
   "source": [
    "## Language"
   ]
  },
  {
   "cell_type": "code",
   "execution_count": 5,
   "metadata": {
    "id": "_uJYkCncrKJb"
   },
   "outputs": [],
   "source": [
    "src_lang = 'zh'\n",
    "tgt_lang = 'en'\n",
    "\n",
    "data_prefix = f'{prefix}/train_dev.raw'\n",
    "test_prefix = f'{prefix}/test.raw'"
   ]
  },
  {
   "cell_type": "code",
   "execution_count": 6,
   "metadata": {
    "id": "0t2CPt1brOT3"
   },
   "outputs": [
    {
     "name": "stdout",
     "output_type": "stream",
     "text": [
      "非常謝謝你，克里斯。能有這個機會第二度踏上這個演講台\n",
      "真是一大榮幸。我非常感激。\n",
      "這個研討會給我留下了極為深刻的印象，我想感謝大家 對我之前演講的好評。\n",
      "我是由衷的想這麼說，有部份原因是因為 —— 我真的有需要!\n",
      "請你們設身處地為我想一想！\n",
      "Thank you so much, Chris.\n",
      "And it's truly a great honor to have the opportunity to come to this stage twice; I'm extremely grateful.\n",
      "I have been blown away by this conference, and I want to thank all of you for the many nice comments about what I had to say the other night.\n",
      "And I say that sincerely, partly because  I need that.\n",
      "Put yourselves in my position.\n"
     ]
    }
   ],
   "source": [
    "!head {data_prefix+'.'+src_lang} -n 5\n",
    "!head {data_prefix+'.'+tgt_lang} -n 5"
   ]
  },
  {
   "cell_type": "markdown",
   "metadata": {
    "id": "pRoE9UK7r1gY"
   },
   "source": [
    "## Preprocess files"
   ]
  },
  {
   "cell_type": "code",
   "execution_count": 7,
   "metadata": {
    "id": "3tzFwtnFrle3"
   },
   "outputs": [],
   "source": [
    "import re\n",
    "\n",
    "def strQ2B(ustring):\n",
    "    \"\"\"Full width -> half width\"\"\"\n",
    "    # reference:https://ithelp.ithome.com.tw/articles/10233122\n",
    "    ss = []\n",
    "    for s in ustring:\n",
    "        rstring = \"\"\n",
    "        for uchar in s:\n",
    "            inside_code = ord(uchar)\n",
    "            if inside_code == 12288:  # Full width space: direct conversion\n",
    "                inside_code = 32\n",
    "            elif (inside_code >= 65281 and inside_code <= 65374):  # Full width chars (except space) conversion\n",
    "                inside_code -= 65248\n",
    "            rstring += chr(inside_code)\n",
    "        ss.append(rstring)\n",
    "    return ''.join(ss)\n",
    "                \n",
    "def clean_s(s, lang):\n",
    "    if lang == 'en':                                 # Clean some symbols for English\n",
    "        s = re.sub(r\"\\([^()]*\\)\", \"\", s)             # remove ([text])\n",
    "        s = s.replace('-', '')                       # remove '-'\n",
    "        s = re.sub('([.,;!?()\\\"])', r' \\1 ', s)      # keep punctuation\n",
    "    elif lang == 'zh':\n",
    "        s = strQ2B(s)                                # Q2B\n",
    "        s = re.sub(r\"\\([^()]*\\)\", \"\", s)             # remove ([text])\n",
    "        s = s.replace(' ', '')\n",
    "        s = s.replace('—', '')\n",
    "        s = s.replace('“', '\"')\n",
    "        s = s.replace('”', '\"')\n",
    "        s = s.replace('_', '')\n",
    "        s = re.sub('([。,;!?()\\\"~「」])', r' \\1 ', s) # keep punctuation\n",
    "    s = ' '.join(s.strip().split())\n",
    "    return s\n",
    "\n",
    "def len_s(s, lang):\n",
    "    if lang == 'zh':\n",
    "        return len(s)\n",
    "    return len(s.split())\n",
    "\n",
    "def clean_corpus(prefix, l1, l2, ratio=9, max_len=1000, min_len=1):\n",
    "    \"\"\"\n",
    "    Arguments:\n",
    "        prefix: Your raw data path.\n",
    "        l1    : Source language.\n",
    "        l2    : Target language.\n",
    "    \"\"\"\n",
    "    if Path(f'{prefix}.clean.{l1}').exists() and Path(f'{prefix}.clean.{l2}').exists():\n",
    "        print(f'{prefix}.clean.{l1} & {l2} exists. skipping clean.')\n",
    "        return\n",
    "    with open(f'{prefix}.{l1}', 'r') as l1_in_f:\n",
    "        with open(f'{prefix}.{l2}', 'r') as l2_in_f:\n",
    "            with open(f'{prefix}.clean.{l1}', 'w') as l1_out_f:\n",
    "                with open(f'{prefix}.clean.{l2}', 'w') as l2_out_f:\n",
    "                    for s1 in l1_in_f:\n",
    "                        s1 = s1.strip()                 # Source sentence.\n",
    "                        s2 = l2_in_f.readline().strip() # Target sentence.\n",
    "                        s1 = clean_s(s1, l1)            # Clean source sentence\n",
    "                        s2 = clean_s(s2, l2)            # Clean target sentence\n",
    "                        s1_len = len_s(s1, l1)          # Length of source sentence after clean.\n",
    "                        s2_len = len_s(s2, l2)          # Length of target sentence after clean.\n",
    "                        if min_len > 0:                 # remove short sentence\n",
    "                            if s1_len < min_len or s2_len < min_len:\n",
    "                                continue\n",
    "                        if max_len > 0:                 # remove long sentence\n",
    "                            if s1_len > max_len or s2_len > max_len:\n",
    "                                continue\n",
    "                        if ratio > 0:                   # remove by ratio of length\n",
    "                            if s1_len/s2_len > ratio or s2_len/s1_len > ratio:\n",
    "                                continue\n",
    "                        print(s1, file=l1_out_f)\n",
    "                        print(s2, file=l2_out_f)"
   ]
  },
  {
   "cell_type": "code",
   "execution_count": 8,
   "metadata": {
    "id": "h_i8b1PRr9Nf"
   },
   "outputs": [
    {
     "name": "stdout",
     "output_type": "stream",
     "text": [
      "/home/tienyi/ML/HW05/DATA/rawdata/ted2020/train_dev.raw.clean.zh & en exists. skipping clean.\n",
      "/home/tienyi/ML/HW05/DATA/rawdata/ted2020/test.raw.clean.zh & en exists. skipping clean.\n"
     ]
    }
   ],
   "source": [
    "clean_corpus(data_prefix, src_lang, tgt_lang)\n",
    "clean_corpus(test_prefix, src_lang, tgt_lang, ratio=-1, min_len=-1, max_len=-1)"
   ]
  },
  {
   "cell_type": "code",
   "execution_count": 9,
   "metadata": {
    "id": "gjT3XCy9r_rj"
   },
   "outputs": [
    {
     "name": "stdout",
     "output_type": "stream",
     "text": [
      "非常謝謝你 , 克里斯 。 能有這個機會第二度踏上這個演講台\n",
      "真是一大榮幸 。 我非常感激 。\n",
      "這個研討會給我留下了極為深刻的印象 , 我想感謝大家對我之前演講的好評 。\n",
      "我是由衷的想這麼說 , 有部份原因是因為我真的有需要 !\n",
      "請你們設身處地為我想一想 !\n",
      "Thank you so much , Chris .\n",
      "And it's truly a great honor to have the opportunity to come to this stage twice ; I'm extremely grateful .\n",
      "I have been blown away by this conference , and I want to thank all of you for the many nice comments about what I had to say the other night .\n",
      "And I say that sincerely , partly because I need that .\n",
      "Put yourselves in my position .\n"
     ]
    }
   ],
   "source": [
    "!head {data_prefix+'.clean.'+src_lang} -n 5\n",
    "!head {data_prefix+'.clean.'+tgt_lang} -n 5"
   ]
  },
  {
   "cell_type": "markdown",
   "metadata": {
    "id": "nKb4u67-sT_Z"
   },
   "source": [
    "## Split into train/valid"
   ]
  },
  {
   "cell_type": "code",
   "execution_count": 10,
   "metadata": {
    "id": "AuFKeDz3sGHL"
   },
   "outputs": [],
   "source": [
    "valid_ratio = 0.01 # 3000~4000 would suffice\n",
    "train_ratio = 1 - valid_ratio"
   ]
  },
  {
   "cell_type": "code",
   "execution_count": 11,
   "metadata": {
    "id": "QR2NVldqsXyY"
   },
   "outputs": [
    {
     "name": "stdout",
     "output_type": "stream",
     "text": [
      "train/valid splits exists. skipping split.\n"
     ]
    }
   ],
   "source": [
    "if (prefix/f'train.clean.{src_lang}').exists() \\\n",
    "and (prefix/f'train.clean.{tgt_lang}').exists() \\\n",
    "and (prefix/f'valid.clean.{src_lang}').exists() \\\n",
    "and (prefix/f'valid.clean.{tgt_lang}').exists():\n",
    "    print(f'train/valid splits exists. skipping split.')\n",
    "else:\n",
    "    line_num = sum(1 for line in open(f'{data_prefix}.clean.{src_lang}'))\n",
    "    labels = list(range(line_num))\n",
    "    random.shuffle(labels)\n",
    "    for lang in [src_lang, tgt_lang]:\n",
    "        train_f = open(os.path.join(data_dir, dataset_name, f'train.clean.{lang}'), 'w')\n",
    "        valid_f = open(os.path.join(data_dir, dataset_name, f'valid.clean.{lang}'), 'w')\n",
    "        count = 0\n",
    "        for line in open(f'{data_prefix}.clean.{lang}', 'r'):\n",
    "            if labels[count]/line_num < train_ratio:\n",
    "                train_f.write(line)\n",
    "            else:\n",
    "                valid_f.write(line)\n",
    "            count += 1\n",
    "        train_f.close()\n",
    "        valid_f.close()"
   ]
  },
  {
   "cell_type": "markdown",
   "metadata": {
    "id": "n1rwQysTsdJq"
   },
   "source": [
    "## Subword Units \n",
    "Out of vocabulary (OOV) has been a major problem in machine translation. This can be alleviated by using subword units.\n",
    "- We will use the [sentencepiece](#kudo-richardson-2018-sentencepiece) package\n",
    "- select 'unigram' or 'byte-pair encoding (BPE)' algorithm"
   ]
  },
  {
   "cell_type": "code",
   "execution_count": 12,
   "metadata": {
    "id": "Ecwllsa7sZRA"
   },
   "outputs": [
    {
     "name": "stdout",
     "output_type": "stream",
     "text": [
      "/home/tienyi/ML/HW05/DATA/rawdata/ted2020/spm16000.model exists. skipping spm_train.\n"
     ]
    }
   ],
   "source": [
    "import sentencepiece as spm\n",
    "vocab_size = 16000\n",
    "if (prefix/f'spm{vocab_size}.model').exists():\n",
    "    print(f'{prefix}/spm{vocab_size}.model exists. skipping spm_train.')\n",
    "else:\n",
    "    spm.SentencePieceTrainer.train(\n",
    "        input=','.join([f'{prefix}/train.clean.{src_lang}',\n",
    "                        f'{prefix}/valid.clean.{src_lang}',\n",
    "                        f'{prefix}/train.clean.{tgt_lang}',\n",
    "                        f'{prefix}/valid.clean.{tgt_lang}']),\n",
    "        model_prefix=prefix/f'spm{vocab_size}',\n",
    "        vocab_size=vocab_size,\n",
    "        character_coverage=1,\n",
    "        model_type='bpe', # 'bpe' works as well\n",
    "        input_sentence_size=1e6,\n",
    "        shuffle_input_sentence=True,\n",
    "        normalization_rule_name='nmt_nfkc_cf',\n",
    "    )"
   ]
  },
  {
   "cell_type": "code",
   "execution_count": 13,
   "metadata": {
    "id": "lQPRNldqse_V"
   },
   "outputs": [
    {
     "name": "stdout",
     "output_type": "stream",
     "text": [
      "/home/tienyi/ML/HW05/DATA/rawdata/ted2020/train.zh exists. skipping spm_encode.\n",
      "/home/tienyi/ML/HW05/DATA/rawdata/ted2020/train.en exists. skipping spm_encode.\n",
      "/home/tienyi/ML/HW05/DATA/rawdata/ted2020/valid.zh exists. skipping spm_encode.\n",
      "/home/tienyi/ML/HW05/DATA/rawdata/ted2020/valid.en exists. skipping spm_encode.\n",
      "/home/tienyi/ML/HW05/DATA/rawdata/ted2020/test.zh exists. skipping spm_encode.\n",
      "/home/tienyi/ML/HW05/DATA/rawdata/ted2020/test.en exists. skipping spm_encode.\n"
     ]
    }
   ],
   "source": [
    "spm_model = spm.SentencePieceProcessor(model_file=str(prefix/f'spm{vocab_size}.model'))\n",
    "in_tag = {\n",
    "    'train': 'train.clean',\n",
    "    'valid': 'valid.clean',\n",
    "    'test': 'test.raw.clean',\n",
    "}\n",
    "for split in ['train', 'valid', 'test']:\n",
    "    for lang in [src_lang, tgt_lang]:\n",
    "        out_path = prefix/f'{split}.{lang}'\n",
    "        if out_path.exists():\n",
    "            print(f\"{out_path} exists. skipping spm_encode.\")\n",
    "        else:\n",
    "            with open(prefix/f'{split}.{lang}', 'w') as out_f:\n",
    "                with open(prefix/f'{in_tag[split]}.{lang}', 'r') as in_f:\n",
    "                    for line in in_f:\n",
    "                        line = line.strip()\n",
    "                        tok = spm_model.encode(line, out_type=str)\n",
    "                        print(' '.join(tok), file=out_f)"
   ]
  },
  {
   "cell_type": "code",
   "execution_count": 14,
   "metadata": {
    "id": "4j6lXHjAsjXa"
   },
   "outputs": [
    {
     "name": "stdout",
     "output_type": "stream",
     "text": [
      "▁非常謝謝 你 ▁, ▁克里斯 ▁。 ▁能 有 這個 機會 第二 度 踏 上 這個 演講 台\n",
      "▁真 是一 大 榮 幸 ▁。 ▁我非常 感 激 ▁。\n",
      "▁這個 研 討 會 給我 留下 了 極為 深刻 的 印象 ▁, ▁我想 感謝 大家 對我 之前 演講 的好 評 ▁。\n",
      "▁我是 由 衷 的 想 這麼說 ▁, ▁有 部份 原因 是因為 我 真的 有 需要 ▁!\n",
      "▁請 你們 設 身處 地 為 我想 一 想 ▁!\n",
      "▁thank ▁you ▁so ▁much ▁, ▁chris ▁.\n",
      "▁and ▁it ' s ▁truly ▁a ▁great ▁honor ▁to ▁have ▁the ▁opportunity ▁to ▁come ▁to ▁this ▁stage ▁twice ▁; ▁i ' m ▁extremely ▁gr ate ful ▁.\n",
      "▁i ▁have ▁been ▁bl own ▁away ▁by ▁this ▁conference ▁, ▁and ▁i ▁want ▁to ▁thank ▁all ▁of ▁you ▁for ▁the ▁many ▁nice ▁com ments ▁about ▁what ▁i ▁had ▁to ▁say ▁the ▁other ▁night ▁.\n",
      "▁and ▁i ▁say ▁that ▁since re ly ▁, ▁part ly ▁because ▁i ▁need ▁that ▁.\n",
      "▁put ▁your selves ▁in ▁my ▁position ▁.\n"
     ]
    }
   ],
   "source": [
    "!head {data_dir+'/'+dataset_name+'/train.'+src_lang} -n 5\n",
    "!head {data_dir+'/'+dataset_name+'/train.'+tgt_lang} -n 5"
   ]
  },
  {
   "cell_type": "markdown",
   "metadata": {
    "id": "59si_C0Wsms7"
   },
   "source": [
    "## Binarize the data with fairseq"
   ]
  },
  {
   "cell_type": "code",
   "execution_count": 15,
   "metadata": {
    "id": "w-cHVLSpsknh"
   },
   "outputs": [
    {
     "name": "stdout",
     "output_type": "stream",
     "text": [
      "DATA/data-bin/ted2020 exists, will not overwrite!\n"
     ]
    }
   ],
   "source": [
    "binpath = Path('./DATA/data-bin', dataset_name)\n",
    "if binpath.exists():\n",
    "    print(binpath, \"exists, will not overwrite!\")\n",
    "else:\n",
    "    !python -m fairseq_cli.preprocess \\\n",
    "        --source-lang {src_lang}\\\n",
    "        --target-lang {tgt_lang}\\\n",
    "        --trainpref {prefix/'train'}\\\n",
    "        --validpref {prefix/'valid'}\\\n",
    "        --testpref {prefix/'test'}\\\n",
    "        --destdir {binpath}\\\n",
    "        --joined-dictionary\\\n",
    "        --workers 2"
   ]
  },
  {
   "cell_type": "markdown",
   "metadata": {},
   "source": [
    "# Back-translation"
   ]
  },
  {
   "cell_type": "markdown",
   "metadata": {},
   "source": [
    "## Train a backward translation model"
   ]
  },
  {
   "cell_type": "markdown",
   "metadata": {},
   "source": [
    "1. Switch the source_lang and target_lang in **config** \n",
    "2. Change the savedir in **config** (eg. \"./checkpoints/transformer-back\")\n",
    "3. Train model"
   ]
  },
  {
   "cell_type": "markdown",
   "metadata": {},
   "source": [
    "## Generate synthetic data with backward model "
   ]
  },
  {
   "cell_type": "markdown",
   "metadata": {},
   "source": [
    "### Download monolingual data"
   ]
  },
  {
   "cell_type": "code",
   "execution_count": 16,
   "metadata": {},
   "outputs": [],
   "source": [
    "mono_dataset_name = 'mono'"
   ]
  },
  {
   "cell_type": "code",
   "execution_count": 17,
   "metadata": {},
   "outputs": [
    {
     "name": "stdout",
     "output_type": "stream",
     "text": [
      "ted_zh_corpus.deduped.gz is exist, skip downloading\n"
     ]
    }
   ],
   "source": [
    "mono_prefix = Path(data_dir).absolute() / mono_dataset_name\n",
    "mono_prefix.mkdir(parents=True, exist_ok=True)\n",
    "\n",
    "urls = (\n",
    "    \"https://github.com/yuhsinchan/ML2022-HW5Dataset/releases/download/v1.0.2/ted_zh_corpus.deduped.gz\",\n",
    ")\n",
    "file_names = (\n",
    "    'ted_zh_corpus.deduped.gz',\n",
    ")\n",
    "\n",
    "for u, f in zip(urls, file_names):\n",
    "    path = mono_prefix/f\n",
    "    if not path.exists():\n",
    "        !wget {u} -O {path}\n",
    "    else:\n",
    "        print(f'{f} is exist, skip downloading')\n",
    "    if path.suffix == \".tgz\":\n",
    "        !tar -xvf {path} -C {prefix}\n",
    "    elif path.suffix == \".zip\":\n",
    "        !unzip -o {path} -d {prefix}\n",
    "    elif path.suffix == \".gz\":\n",
    "        !gzip -fkd {path}"
   ]
  },
  {
   "cell_type": "markdown",
   "metadata": {},
   "source": [
    "### TODO: clean corpus\n",
    "\n",
    "1. remove sentences that are too long or too short\n",
    "2. unify punctuation\n",
    "\n",
    "hint: you can use clean_s() defined above to do this"
   ]
  },
  {
   "cell_type": "code",
   "execution_count": 18,
   "metadata": {},
   "outputs": [],
   "source": [
    "src_lang = 'zh'\n",
    "tgt_lang = 'en'\n",
    "\n",
    "data_prefix = f'{mono_prefix}/ted_zh_corpus.deduped'"
   ]
  },
  {
   "cell_type": "code",
   "execution_count": 19,
   "metadata": {},
   "outputs": [],
   "source": [
    "def clean_mono_corpus(prefix, l1, l2, max_len=1000, min_len=1):\n",
    "    if Path(f'{prefix}.clean.{l1}').exists() and Path(f'{prefix}.clean.{l2}').exists():\n",
    "        print(f'{prefix}.clean.{l1} & {l2} exists. skipping clean.')\n",
    "        return\n",
    "    with open(f'{prefix}', 'r') as l1_in_f:\n",
    "        with open(f'{prefix}.clean.{l1}', 'w') as l1_out_f:\n",
    "            with open(f'{prefix}.clean.{l2}', 'w') as l2_out_f:\n",
    "                for s1 in l1_in_f:\n",
    "                    s1 = s1.strip()\n",
    "                    s1 = clean_s(s1, l1)\n",
    "                    s1_len = len_s(s1, l1)\n",
    "                    if min_len > 0:            # Remove short sentence\n",
    "                        if s1_len < min_len:\n",
    "                            continue\n",
    "                    if max_len > 0:            # Remove long sentence\n",
    "                        if s1_len > max_len:\n",
    "                            continue\n",
    "                    print(s1, file=l1_out_f)\n",
    "                    print('.', file=l2_out_f)  # Fake file"
   ]
  },
  {
   "cell_type": "code",
   "execution_count": 20,
   "metadata": {},
   "outputs": [
    {
     "name": "stdout",
     "output_type": "stream",
     "text": [
      "在 16 世紀中葉 意大利人被一種男歌手迷住了 那種男歌手的音域廣闊，包含的音高 先前是一般成年男性不可能達到的\n",
      "但是，這天賦有一個很高的代價\n",
      "要防止他們變聲 這些歌手在青春期前被閹割 來停止荷爾蒙的變化， 以免他們的聲線變低沉\n",
      "被稱為「閹伶」，他們輕輕的、 天使般的聲音在整個歐洲很有名 直到這個殘酷的程序， 在 19 世紀被禁止\n",
      "雖然阻止聲帶的成長， 可以產生一個非凡廣闊的音域 但自然發展的聲音， 已經具有極多的可能性\n"
     ]
    }
   ],
   "source": [
    "!head {data_prefix} -n 5"
   ]
  },
  {
   "cell_type": "code",
   "execution_count": 21,
   "metadata": {},
   "outputs": [
    {
     "name": "stdout",
     "output_type": "stream",
     "text": [
      "/home/tienyi/ML/HW05/DATA/rawdata/mono/ted_zh_corpus.deduped.clean.zh & en exists. skipping clean.\n"
     ]
    }
   ],
   "source": [
    "clean_mono_corpus(data_prefix, src_lang, tgt_lang)"
   ]
  },
  {
   "cell_type": "code",
   "execution_count": 22,
   "metadata": {},
   "outputs": [
    {
     "name": "stdout",
     "output_type": "stream",
     "text": [
      "在16世紀中葉意大利人被一種男歌手迷住了那種男歌手的音域廣闊 , 包含的音高先前是一般成年男性不可能達到的\n",
      "但是 , 這天賦有一個很高的代價\n",
      "要防止他們變聲這些歌手在青春期前被閹割來停止荷爾蒙的變化 , 以免他們的聲線變低沉\n",
      "被稱為 「 閹伶 」 , 他們輕輕的、天使般的聲音在整個歐洲很有名直到這個殘酷的程序 , 在19世紀被禁止\n",
      "雖然阻止聲帶的成長 , 可以產生一個非凡廣闊的音域但自然發展的聲音 , 已經具有極多的可能性\n",
      ".\n",
      ".\n",
      ".\n",
      ".\n",
      ".\n"
     ]
    }
   ],
   "source": [
    "!head {data_prefix+'.clean.'+src_lang} -n 5\n",
    "!head {data_prefix+'.clean.'+tgt_lang} -n 5"
   ]
  },
  {
   "cell_type": "markdown",
   "metadata": {},
   "source": [
    "### TODO: Subword Units\n",
    "\n",
    "Use the spm model of the backward model to tokenize the data into subword units\n",
    "\n",
    "hint: spm model is located at DATA/raw-data/\\[dataset\\]/spm\\[vocab_num\\].model"
   ]
  },
  {
   "cell_type": "code",
   "execution_count": 23,
   "metadata": {},
   "outputs": [
    {
     "name": "stdout",
     "output_type": "stream",
     "text": [
      "/home/tienyi/ML/HW05/DATA/rawdata/mono/mono.tok.zh exists. skipping spm_encode.\n",
      "/home/tienyi/ML/HW05/DATA/rawdata/mono/mono.tok.en exists. skipping spm_encode.\n"
     ]
    }
   ],
   "source": [
    "for lang in [src_lang, tgt_lang]:\n",
    "    out_path = mono_prefix/f\"mono.tok.{lang}\"\n",
    "    if out_path.exists():\n",
    "        print(f\"{out_path} exists. skipping spm_encode.\")\n",
    "    else:\n",
    "        with open(out_path, 'w') as out_f:\n",
    "            with open(f'{data_prefix}.clean.{lang}', 'r') as in_f:\n",
    "                for line in in_f:\n",
    "                    line = line.strip()\n",
    "                    tok = spm_model.encode(line, out_type=str)\n",
    "                    print(' '.join(tok), file=out_f)"
   ]
  },
  {
   "cell_type": "code",
   "execution_count": 24,
   "metadata": {},
   "outputs": [
    {
     "name": "stdout",
     "output_type": "stream",
     "text": [
      "▁在 16 世紀 中 葉 意 大利 人 被 一種 男 歌 手 迷 住了 那種 男 歌 手 的 音 域 廣 闊 ▁, ▁ 包含 的 音 高 先前 是一 般 成年 男性 不可能 達 到的\n",
      "▁但是 ▁, ▁這 天 賦 有一個 很 高的 代價\n",
      "▁要 防止 他們 變 聲 這些 歌 手 在 青 春 期 前 被 閹 割 來 停止 荷 爾蒙 的 變化 ▁, ▁以 免 他們的 聲 線 變 低 沉\n",
      "▁被 稱為 ▁「 ▁ 閹 伶 ▁」 ▁, ▁他們 輕 輕 的 、 天 使 般 的聲音 在 整個 歐洲 很有 名 直到 這個 殘 酷 的 程序 ▁, ▁在 19 世紀 被 禁止\n",
      "▁雖然 阻止 聲 帶 的 成長 ▁, ▁可以 產生 一個 非凡 廣 闊 的 音 域 但 自然 發展 的聲音 ▁, ▁已經 具有 極 多的 可能性\n",
      "▁in ▁the ▁mid 16 th ▁century ▁, ▁it al ians ▁were ▁m es mer ized ▁by ▁a ▁kind ▁of ▁male ▁sing er ▁whose ▁scale ▁cont ained ▁notes ▁previous ly ▁impossible ▁for ▁adult ▁men ▁.\n",
      "▁but ▁there ' s ▁a ▁high ▁price ▁to ▁this ▁gift ▁.\n",
      "▁to ▁prevent ▁them ▁from ▁breaking ▁, ▁these ▁sing ers ▁had ▁been ▁cast rated ▁before ▁pu ber ty ▁to ▁stop ▁horm on al ▁changes ▁, ▁in ▁order ▁to ▁keep ▁their ▁voices ▁low ▁.\n",
      "▁it ▁was ▁called ▁cast r at i ▁, ▁and ▁they ▁were ▁re n own ed ▁for ▁their ▁light ▁, ▁ange lic ▁voices ▁throughout ▁europe ▁until ▁this ▁cru el ▁proced ure ▁that ▁was ▁out l aw ed ▁in ▁the ▁19 th ▁century ▁.\n",
      "▁while ▁stop ping ▁the ▁voc al ▁growth ▁can ▁produce ▁an ▁extraordinary ▁range ▁of ▁voices ▁, ▁naturally ▁developing ▁voices ▁are ▁already ▁capable ▁of ▁incredible ▁possibilities ▁.\n"
     ]
    }
   ],
   "source": [
    "!head {str(mono_prefix)+'/mono.tok.'+src_lang} -n 5\n",
    "!head {str(mono_prefix)+'/mono.tok.'+tgt_lang} -n 5"
   ]
  },
  {
   "cell_type": "markdown",
   "metadata": {},
   "source": [
    "### Binarize\n",
    "\n",
    "use fairseq to binarize data"
   ]
  },
  {
   "cell_type": "code",
   "execution_count": 25,
   "metadata": {},
   "outputs": [
    {
     "name": "stdout",
     "output_type": "stream",
     "text": [
      "DATA/data-bin/mono exists, will not overwrite!\n"
     ]
    }
   ],
   "source": [
    "binpath = Path('./DATA/data-bin', mono_dataset_name)\n",
    "src_dict_file = './DATA/data-bin/ted2020/dict.en.txt'\n",
    "tgt_dict_file = src_dict_file\n",
    "monopref = str(mono_prefix/\"mono.tok\") # whatever filepath you get after applying subword tokenization\n",
    "if binpath.exists():\n",
    "    print(binpath, \"exists, will not overwrite!\")\n",
    "else:\n",
    "    !python -m fairseq_cli.preprocess\\\n",
    "        --source-lang 'zh'\\\n",
    "        --target-lang 'en'\\\n",
    "        --trainpref {monopref}\\\n",
    "        --destdir {binpath}\\\n",
    "        --srcdict {src_dict_file}\\\n",
    "        --tgtdict {tgt_dict_file}\\\n",
    "        --workers 2"
   ]
  },
  {
   "cell_type": "markdown",
   "metadata": {},
   "source": [
    "### TODO: Generate synthetic data with backward model\n",
    "\n",
    "Add binarized monolingual data to the original data directory, and name it with \"split_name\"\n",
    "\n",
    "ex. ./DATA/data-bin/ted2020/\\[split_name\\].zh-en.\\[\"en\", \"zh\"\\].\\[\"bin\", \"idx\"\\]\n",
    "\n",
    "then you can use 'generate_prediction(model, task, split=\"split_name\")' to generate translation prediction"
   ]
  },
  {
   "cell_type": "code",
   "execution_count": 26,
   "metadata": {},
   "outputs": [],
   "source": [
    "# Add binarized monolingual data to the original data directory, and name it with \"split_name\"\n",
    "# ex. ./DATA/data-bin/ted2020/\\[split_name\\].zh-en.\\[\"en\", \"zh\"\\].\\[\"bin\", \"idx\"\\]\n",
    "!cp ./DATA/data-bin/mono/train.zh-en.zh.bin ./DATA/data-bin/ted2020/mono.zh-en.zh.bin\n",
    "!cp ./DATA/data-bin/mono/train.zh-en.zh.idx ./DATA/data-bin/ted2020/mono.zh-en.zh.idx\n",
    "!cp ./DATA/data-bin/mono/train.zh-en.en.bin ./DATA/data-bin/ted2020/mono.zh-en.en.bin\n",
    "!cp ./DATA/data-bin/mono/train.zh-en.en.idx ./DATA/data-bin/ted2020/mono.zh-en.en.idx"
   ]
  },
  {
   "cell_type": "markdown",
   "metadata": {
    "id": "szMuH1SWLPWA"
   },
   "source": [
    "# Configuration for experiments"
   ]
  },
  {
   "cell_type": "code",
   "execution_count": 27,
   "metadata": {
    "id": "5Luz3_tVLUxs"
   },
   "outputs": [],
   "source": [
    "config = Namespace(\n",
    "    datadir = \"./DATA/data-bin/ted2020\",\n",
    "    savedir = \"./checkpoints/transformer-back-translation\",\n",
    "    source_lang = \"zh\",\n",
    "    target_lang = \"en\",\n",
    "    \n",
    "    # cpu threads when fetching & processing data.\n",
    "    num_workers=8,  \n",
    "    # batch size in terms of tokens. gradient accumulation increases the effective batchsize.\n",
    "    max_tokens=4096,\n",
    "    accum_steps=8,\n",
    "    \n",
    "    # the lr s calculated from Noam lr scheduler. you can tune the maximum lr by this factor.\n",
    "    lr_factor=2.,\n",
    "    lr_warmup=4000,\n",
    "    \n",
    "    # clipping gradient norm helps alleviate gradient exploding\n",
    "    clip_norm=1.0,\n",
    "    \n",
    "    # maximum epochs for training\n",
    "    max_epoch=50,\n",
    "    start_epoch=1,\n",
    "    \n",
    "    # beam size for beam search\n",
    "    beam=5, \n",
    "    # generate sequences of maximum length ax + b, where x is the source length\n",
    "    max_len_a=1.2, \n",
    "    max_len_b=10, \n",
    "    # when decoding, post process sentence by removing sentencepiece symbols and jieba tokenization.\n",
    "    post_process = \"sentencepiece\",\n",
    "    \n",
    "    # checkpoints\n",
    "    keep_last_epochs=15,\n",
    "    resume=None, # if resume from checkpoint name (under config.savedir)\n",
    "    \n",
    "    # logging\n",
    "    use_wandb=False,\n",
    ")"
   ]
  },
  {
   "cell_type": "markdown",
   "metadata": {
    "id": "cjrJFvyQLg86"
   },
   "source": [
    "# Logging\n",
    "- logging package logs ordinary messages\n",
    "- wandb logs the loss, bleu, etc. in the training process"
   ]
  },
  {
   "cell_type": "code",
   "execution_count": 28,
   "metadata": {
    "id": "-ZiMyDWALbDk"
   },
   "outputs": [],
   "source": [
    "logging.basicConfig(\n",
    "    format=\"%(asctime)s | %(levelname)s | %(name)s | %(message)s\",\n",
    "    datefmt=\"%Y-%m-%d %H:%M:%S\",\n",
    "    level=\"INFO\", # \"DEBUG\" \"WARNING\" \"ERROR\"\n",
    "    stream=sys.stdout,\n",
    ")\n",
    "proj = \"hw5.seq2seq\"\n",
    "logger = logging.getLogger(proj)\n",
    "if config.use_wandb:\n",
    "    import wandb\n",
    "    wandb.init(project=proj, name=Path(config.savedir).stem, config=config)"
   ]
  },
  {
   "cell_type": "markdown",
   "metadata": {
    "id": "BNoSkK45Lmqc"
   },
   "source": [
    "# CUDA Environments"
   ]
  },
  {
   "cell_type": "code",
   "execution_count": 29,
   "metadata": {
    "id": "oqrsbmcoLqMl"
   },
   "outputs": [
    {
     "name": "stdout",
     "output_type": "stream",
     "text": [
      "2022-03-28 20:08:57 | INFO | fairseq.utils | ***********************CUDA enviroments for all 1 workers***********************\n",
      "2022-03-28 20:08:57 | INFO | fairseq.utils | rank   0: capabilities =  8.6  ; total memory = 23.692 GB ; name = NVIDIA GeForce RTX 3090                 \n",
      "2022-03-28 20:08:57 | INFO | fairseq.utils | ***********************CUDA enviroments for all 1 workers***********************\n"
     ]
    }
   ],
   "source": [
    "cuda_env = utils.CudaEnvironment()\n",
    "utils.CudaEnvironment.pretty_print_cuda_env_list([cuda_env])\n",
    "device = torch.device('cuda' if torch.cuda.is_available() else 'cpu')"
   ]
  },
  {
   "cell_type": "markdown",
   "metadata": {
    "id": "TbJuBIHLLt2D"
   },
   "source": [
    "# Dataloading"
   ]
  },
  {
   "cell_type": "markdown",
   "metadata": {
    "id": "oOpG4EBRLwe_"
   },
   "source": [
    "## We borrow the TranslationTask from fairseq\n",
    "* used to load the binarized data created above\n",
    "* well-implemented data iterator (dataloader)\n",
    "* built-in task.source_dictionary and task.target_dictionary are also handy\n",
    "* well-implemented beach search decoder"
   ]
  },
  {
   "cell_type": "code",
   "execution_count": 30,
   "metadata": {
    "id": "3gSEy1uFLvVs"
   },
   "outputs": [
    {
     "name": "stdout",
     "output_type": "stream",
     "text": [
      "2022-03-28 20:08:59 | INFO | fairseq.tasks.translation | [zh] dictionary: 15960 types\n",
      "2022-03-28 20:08:59 | INFO | fairseq.tasks.translation | [en] dictionary: 15960 types\n"
     ]
    }
   ],
   "source": [
    "from fairseq.tasks.translation import TranslationConfig, TranslationTask\n",
    "\n",
    "## setup task\n",
    "task_cfg = TranslationConfig(\n",
    "    data=config.datadir,\n",
    "    source_lang=config.source_lang,\n",
    "    target_lang=config.target_lang,\n",
    "    train_subset=\"train\",\n",
    "    required_seq_len_multiple=8,\n",
    "    dataset_impl=\"mmap\",\n",
    "    upsample_primary=1,\n",
    ")\n",
    "task = TranslationTask.setup_task(task_cfg)"
   ]
  },
  {
   "cell_type": "code",
   "execution_count": 31,
   "metadata": {
    "id": "mR7Bhov7L4IU"
   },
   "outputs": [
    {
     "name": "stdout",
     "output_type": "stream",
     "text": [
      "2022-03-28 20:08:59 | INFO | hw5.seq2seq | loading data for epoch 1\n",
      "2022-03-28 20:08:59 | INFO | fairseq.data.data_utils | loaded 390,041 examples from: ./DATA/data-bin/ted2020/train.zh-en.zh\n",
      "2022-03-28 20:08:59 | INFO | fairseq.data.data_utils | loaded 390,041 examples from: ./DATA/data-bin/ted2020/train.zh-en.en\n",
      "2022-03-28 20:08:59 | INFO | fairseq.tasks.translation | ./DATA/data-bin/ted2020 train zh-en 390041 examples\n",
      "2022-03-28 20:08:59 | INFO | fairseq.data.data_utils | loaded 3,939 examples from: ./DATA/data-bin/ted2020/valid.zh-en.zh\n",
      "2022-03-28 20:08:59 | INFO | fairseq.data.data_utils | loaded 3,939 examples from: ./DATA/data-bin/ted2020/valid.zh-en.en\n",
      "2022-03-28 20:08:59 | INFO | fairseq.tasks.translation | ./DATA/data-bin/ted2020 valid zh-en 3939 examples\n"
     ]
    }
   ],
   "source": [
    "logger.info(\"loading data for epoch 1\")\n",
    "task.load_dataset(split=\"train\", epoch=1, combine=True) # combine if you have back-translation data.\n",
    "task.load_dataset(split=\"valid\", epoch=1)"
   ]
  },
  {
   "cell_type": "code",
   "execution_count": 32,
   "metadata": {
    "id": "P0BCEm_9L6ig"
   },
   "outputs": [
    {
     "name": "stdout",
     "output_type": "stream",
     "text": [
      "{'id': 1,\n",
      " 'source': tensor([  105,  3468,   212,  3655,   930,   356,   440,   408, 10591,  4059,\n",
      "            2]),\n",
      " 'target': tensor([  13,   10,   18, 1543,   39,   16,   56, 9225,  653, 1160, 1339,    5,\n",
      "           2])}\n",
      "'Source: 這實在就是我所做的--光學操控思想'\n",
      "\"Target: that's exactly what i do optical mind control .\"\n"
     ]
    }
   ],
   "source": [
    "sample = task.dataset(\"valid\")[1]\n",
    "pprint.pprint(sample)\n",
    "pprint.pprint(\n",
    "    \"Source: \" + \\\n",
    "    task.source_dictionary.string(\n",
    "        sample['source'],\n",
    "        config.post_process,\n",
    "    )\n",
    ")\n",
    "pprint.pprint(\n",
    "    \"Target: \" + \\\n",
    "    task.target_dictionary.string(\n",
    "        sample['target'],\n",
    "        config.post_process,\n",
    "    )\n",
    ")"
   ]
  },
  {
   "cell_type": "markdown",
   "metadata": {
    "id": "UcfCVa2FMBSE"
   },
   "source": [
    "# Dataset iterator"
   ]
  },
  {
   "cell_type": "markdown",
   "metadata": {
    "id": "yBvc-B_6MKZM"
   },
   "source": [
    "* Controls every batch to contain no more than N tokens, which optimizes GPU memory efficiency\n",
    "* Shuffles the training set for every epoch\n",
    "* Ignore sentences exceeding maximum length\n",
    "* Pad all sentences in a batch to the same length, which enables parallel computing by GPU\n",
    "* Add eos and shift one token\n",
    "    - teacher forcing: to train the model to predict the next token based on prefix, we feed the right shifted target sequence as the decoder input.\n",
    "    - generally, prepending bos to the target would do the job (as shown below)\n",
    "![seq2seq](https://i.imgur.com/0zeDyuI.png)\n",
    "    - in fairseq however, this is done by moving the eos token to the begining. Empirically, this has the same effect. For instance:\n",
    "    ```\n",
    "    # output target (target) and Decoder input (prev_output_tokens): \n",
    "                   eos = 2\n",
    "                target = 419,  711,  238,  888,  792,   60,  968,    8,    2\n",
    "    prev_output_tokens = 2,  419,  711,  238,  888,  792,   60,  968,    8\n",
    "    ```\n",
    "\n"
   ]
  },
  {
   "cell_type": "code",
   "execution_count": 33,
   "metadata": {
    "id": "OWFJFmCnMDXW"
   },
   "outputs": [
    {
     "name": "stdout",
     "output_type": "stream",
     "text": [
      "2022-03-28 20:09:02 | WARNING | fairseq.tasks.fairseq_task | 2,030 samples have invalid sizes and will be skipped, max_positions=(20, 20), first few sample ids=[668, 1772, 2675, 669, 2032, 447, 636, 137, 2816, 2731]\n"
     ]
    },
    {
     "data": {
      "text/plain": [
       "{'id': tensor([1702]),\n",
       " 'nsentences': 1,\n",
       " 'ntokens': 12,\n",
       " 'net_input': {'src_tokens': tensor([[7240, 8806,    4, 1776,   34,  290,    4,    2]]),\n",
       "  'src_lengths': tensor([8]),\n",
       "  'prev_output_tokens': tensor([[   2,   78, 5947,    4,   28,   10,   54,  691,   17,   91, 2673,    5,\n",
       "              1,    1,    1,    1]])},\n",
       " 'target': tensor([[  78, 5947,    4,   28,   10,   54,  691,   17,   91, 2673,    5,    2,\n",
       "             1,    1,    1,    1]])}"
      ]
     },
     "execution_count": 33,
     "metadata": {},
     "output_type": "execute_result"
    }
   ],
   "source": [
    "def load_data_iterator(task, split, epoch=1, max_tokens=4000, num_workers=1, cached=True):\n",
    "    batch_iterator = task.get_batch_iterator(\n",
    "        dataset=task.dataset(split),\n",
    "        max_tokens=max_tokens,\n",
    "        max_sentences=None,\n",
    "        max_positions=utils.resolve_max_positions(\n",
    "            task.max_positions(),\n",
    "            max_tokens,\n",
    "        ),\n",
    "        ignore_invalid_inputs=True,\n",
    "        seed=seed,\n",
    "        num_workers=num_workers,\n",
    "        epoch=epoch,\n",
    "        disable_iterator_cache=not cached,\n",
    "        # Set this to False to speed up. However, if set to False, changing max_tokens beyond \n",
    "        # first call of this method has no effect. \n",
    "    )\n",
    "    return batch_iterator\n",
    "\n",
    "demo_epoch_obj = load_data_iterator(task, \"valid\", epoch=1, max_tokens=20, num_workers=1, cached=False)\n",
    "demo_iter = demo_epoch_obj.next_epoch_itr(shuffle=True)\n",
    "sample = next(demo_iter)\n",
    "sample"
   ]
  },
  {
   "cell_type": "markdown",
   "metadata": {
    "id": "p86K-0g7Me4M"
   },
   "source": [
    "* each batch is a python dict, with string key and Tensor value. Contents are described below:\n",
    "```python\n",
    "batch = {\n",
    "    \"id\": id, # id for each example \n",
    "    \"nsentences\": len(samples), # batch size (sentences)\n",
    "    \"ntokens\": ntokens, # batch size (tokens)\n",
    "    \"net_input\": {\n",
    "        \"src_tokens\": src_tokens, # sequence in source language\n",
    "        \"src_lengths\": src_lengths, # sequence length of each example before padding\n",
    "        \"prev_output_tokens\": prev_output_tokens, # right shifted target, as mentioned above.\n",
    "    },\n",
    "    \"target\": target, # target sequence\n",
    "}\n",
    "```"
   ]
  },
  {
   "cell_type": "markdown",
   "metadata": {
    "id": "9EyDBE5ZMkFZ"
   },
   "source": [
    "# Model Architecture\n",
    "* We again inherit fairseq's encoder, decoder and model, so that in the testing phase we can directly leverage fairseq's beam search decoder."
   ]
  },
  {
   "cell_type": "code",
   "execution_count": 34,
   "metadata": {
    "id": "Hzh74qLIMfW_"
   },
   "outputs": [],
   "source": [
    "from fairseq.models import (\n",
    "    FairseqEncoder, \n",
    "    FairseqIncrementalDecoder,\n",
    "    FairseqEncoderDecoderModel\n",
    ")"
   ]
  },
  {
   "cell_type": "markdown",
   "metadata": {
    "id": "OI46v1z7MotH"
   },
   "source": [
    "# Encoder"
   ]
  },
  {
   "cell_type": "markdown",
   "metadata": {
    "id": "Wn0wSeLLMrbc"
   },
   "source": [
    "- The Encoder is a RNN or Transformer Encoder. The following description is for RNN. For every input token, Encoder will generate a output vector and a hidden states vector, and the hidden states vector is passed on to the next step. In other words, the Encoder sequentially reads in the input sequence, and outputs a single vector at each timestep, then finally outputs the final hidden states, or content vector, at the last timestep.\n",
    "- Parameters:\n",
    "  - *args*\n",
    "      - encoder_embed_dim: the dimension of embeddings, this compresses the one-hot vector into fixed dimensions, which achieves dimension reduction\n",
    "      - encoder_ffn_embed_dim is the dimension of hidden states and output vectors\n",
    "      - encoder_layers is the number of layers for Encoder RNN\n",
    "      - dropout determines the probability of a neuron's activation being set to 0, in order to prevent overfitting. Generally this is applied in training, and removed in testing.\n",
    "  - *dictionary*: the dictionary provided by fairseq. it's used to obtain the padding index, and in turn the encoder padding mask. \n",
    "  - *embed_tokens*: an instance of token embeddings (nn.Embedding)\n",
    "\n",
    "- Inputs: \n",
    "    - *src_tokens*: integer sequence representing english e.g. 1, 28, 29, 205, 2 \n",
    "- Outputs: \n",
    "    - *outputs*: the output of RNN at each timestep, can be furthur processed by Attention\n",
    "    - *final_hiddens*: the hidden states of each timestep, will be passed to decoder for decoding\n",
    "    - *encoder_padding_mask*: this tells the decoder which position to ignore\n"
   ]
  },
  {
   "cell_type": "code",
   "execution_count": 35,
   "metadata": {
    "id": "WcX3W4iGMq-S"
   },
   "outputs": [],
   "source": [
    "class RNNEncoder(FairseqEncoder):\n",
    "    def __init__(self, args, dictionary, embed_tokens):\n",
    "        super().__init__(dictionary)\n",
    "        self.embed_tokens = embed_tokens\n",
    "        \n",
    "        self.embed_dim = args.encoder_embed_dim\n",
    "        self.hidden_dim = args.encoder_ffn_embed_dim\n",
    "        self.num_layers = args.encoder_layers\n",
    "        \n",
    "        self.dropout_in_module = nn.Dropout(args.dropout)\n",
    "        self.rnn = nn.GRU(\n",
    "            self.embed_dim, \n",
    "            self.hidden_dim, \n",
    "            self.num_layers, \n",
    "            dropout=args.dropout, \n",
    "            batch_first=False, \n",
    "            bidirectional=True\n",
    "        )\n",
    "        self.dropout_out_module = nn.Dropout(args.dropout)\n",
    "        \n",
    "        self.padding_idx = dictionary.pad()\n",
    "        \n",
    "    def combine_bidir(self, outs, bsz: int):\n",
    "        out = outs.view(self.num_layers, 2, bsz, -1).transpose(1, 2).contiguous()\n",
    "        return out.view(self.num_layers, bsz, -1)\n",
    "\n",
    "    def forward(self, src_tokens, **unused):\n",
    "        bsz, seqlen = src_tokens.size()\n",
    "        \n",
    "        # get embeddings\n",
    "        x = self.embed_tokens(src_tokens)\n",
    "        x = self.dropout_in_module(x)\n",
    "\n",
    "        # B x T x C -> T x B x C\n",
    "        x = x.transpose(0, 1)\n",
    "        \n",
    "        # pass thru bidirectional RNN\n",
    "        h0 = x.new_zeros(2 * self.num_layers, bsz, self.hidden_dim)\n",
    "        x, final_hiddens = self.rnn(x, h0)\n",
    "        outputs = self.dropout_out_module(x)\n",
    "        # outputs = [sequence len, batch size, hid dim * directions]\n",
    "        # hidden =  [num_layers * directions, batch size  , hid dim]\n",
    "        \n",
    "        # Since Encoder is bidirectional, we need to concatenate the hidden states of two directions\n",
    "        final_hiddens = self.combine_bidir(final_hiddens, bsz)\n",
    "        # hidden =  [num_layers * batch * num_directions, hidden]\n",
    "        \n",
    "        encoder_padding_mask = src_tokens.eq(self.padding_idx).t()\n",
    "        return tuple(\n",
    "            (\n",
    "                outputs,  # (seq_len x batch x hidden)\n",
    "                final_hiddens,  # (num_layers x batch x num_directions*hidden)\n",
    "                encoder_padding_mask,  # (seq_len x batch)\n",
    "            )\n",
    "        )\n",
    "    \n",
    "    def reorder_encoder_out(self, encoder_out, new_order):\n",
    "        # This is used by fairseq's beam search. How and why is not particularly important here.\n",
    "        return tuple(\n",
    "            (\n",
    "                encoder_out[0].index_select(1, new_order),\n",
    "                encoder_out[1].index_select(1, new_order),\n",
    "                encoder_out[2].index_select(1, new_order),\n",
    "            )\n",
    "        )"
   ]
  },
  {
   "cell_type": "markdown",
   "metadata": {
    "id": "6ZlE_1JnMv56"
   },
   "source": [
    "## Attention"
   ]
  },
  {
   "cell_type": "markdown",
   "metadata": {
    "id": "ZSFSKt_ZMzgh"
   },
   "source": [
    "- When the input sequence is long, \"content vector\" alone cannot accurately represent the whole sequence, attention mechanism can provide the Decoder more information.\n",
    "- According to the **Decoder embeddings** of the current timestep, match the **Encoder outputs** with decoder embeddings to determine correlation, and then sum the Encoder outputs weighted by the correlation as the input to **Decoder** RNN.\n",
    "- Common attention implementations use neural network / dot product as the correlation between **query** (decoder embeddings) and **key** (Encoder outputs), followed by **softmax**  to obtain a distribution, and finally **values** (Encoder outputs) is **weighted sum**-ed by said distribution.\n",
    "\n",
    "- Parameters:\n",
    "  - *input_embed_dim*: dimensionality of key, should be that of the vector in decoder to attend others\n",
    "  - *source_embed_dim*: dimensionality of query, should be that of the vector to be attended to (encoder outputs)\n",
    "  - *output_embed_dim*: dimensionality of value, should be that of the vector after attention, expected by the next layer\n",
    "\n",
    "- Inputs: \n",
    "    - *inputs*: is the key, the vector to attend to others\n",
    "    - *encoder_outputs*:  is the query/value, the vector to be attended to\n",
    "    - *encoder_padding_mask*: this tells the decoder which position to ignore\n",
    "- Outputs: \n",
    "    - *output*: the context vector after attention\n",
    "    - *attention score*: the attention distribution\n"
   ]
  },
  {
   "cell_type": "code",
   "execution_count": 36,
   "metadata": {
    "id": "1Atf_YuCMyyF"
   },
   "outputs": [],
   "source": [
    "class AttentionLayer(nn.Module):\n",
    "    def __init__(self, input_embed_dim, source_embed_dim, output_embed_dim, bias=False):\n",
    "        super().__init__()\n",
    "\n",
    "        self.input_proj = nn.Linear(input_embed_dim, source_embed_dim, bias=bias)\n",
    "        self.output_proj = nn.Linear(\n",
    "            input_embed_dim + source_embed_dim, output_embed_dim, bias=bias\n",
    "        )\n",
    "\n",
    "    def forward(self, inputs, encoder_outputs, encoder_padding_mask):\n",
    "        # inputs: T, B, dim\n",
    "        # encoder_outputs: S x B x dim\n",
    "        # padding mask:  S x B\n",
    "        \n",
    "        # convert all to batch first\n",
    "        inputs = inputs.transpose(1,0) # B, T, dim\n",
    "        encoder_outputs = encoder_outputs.transpose(1,0) # B, S, dim\n",
    "        encoder_padding_mask = encoder_padding_mask.transpose(1,0) # B, S\n",
    "        \n",
    "        # project to the dimensionality of encoder_outputs\n",
    "        x = self.input_proj(inputs)\n",
    "\n",
    "        # compute attention\n",
    "        # (B, T, dim) x (B, dim, S) = (B, T, S)\n",
    "        attn_scores = torch.bmm(x, encoder_outputs.transpose(1,2))\n",
    "\n",
    "        # cancel the attention at positions corresponding to padding\n",
    "        if encoder_padding_mask is not None:\n",
    "            # leveraging broadcast  B, S -> (B, 1, S)\n",
    "            encoder_padding_mask = encoder_padding_mask.unsqueeze(1)\n",
    "            attn_scores = (\n",
    "                attn_scores.float()\n",
    "                .masked_fill_(encoder_padding_mask, float(\"-inf\"))\n",
    "                .type_as(attn_scores)\n",
    "            )  # FP16 support: cast to float and back\n",
    "\n",
    "        # softmax on the dimension corresponding to source sequence\n",
    "        attn_scores = F.softmax(attn_scores, dim=-1)\n",
    "\n",
    "        # shape (B, T, S) x (B, S, dim) = (B, T, dim) weighted sum\n",
    "        x = torch.bmm(attn_scores, encoder_outputs)\n",
    "\n",
    "        # (B, T, dim)\n",
    "        x = torch.cat((x, inputs), dim=-1)\n",
    "        x = torch.tanh(self.output_proj(x)) # concat + linear + tanh\n",
    "        \n",
    "        # restore shape (B, T, dim) -> (T, B, dim)\n",
    "        return x.transpose(1,0), attn_scores"
   ]
  },
  {
   "cell_type": "markdown",
   "metadata": {
    "id": "doSCOA2gM7fK"
   },
   "source": [
    "# Decoder"
   ]
  },
  {
   "cell_type": "markdown",
   "metadata": {
    "id": "2M8Vod2gNABR"
   },
   "source": [
    "* The hidden states of **Decoder** will be initialized by the final hidden states of **Encoder** (the content vector)\n",
    "* At the same time, **Decoder** will change its hidden states based on the input of the current timestep (the outputs of previous timesteps), and generates an output\n",
    "* Attention improves the performance\n",
    "* The seq2seq steps are implemented in decoder, so that later the Seq2Seq class can accept RNN and Transformer, without furthur modification.\n",
    "- Parameters:\n",
    "  - *args*\n",
    "      - decoder_embed_dim: is the dimensionality of the decoder embeddings, similar to encoder_embed_dim，\n",
    "      - decoder_ffn_embed_dim: is the dimensionality of the decoder RNN hidden states, similar to encoder_ffn_embed_dim\n",
    "      - decoder_layers: number of layers of RNN decoder\n",
    "      - share_decoder_input_output_embed: usually, the projection matrix of the decoder will share weights with the decoder input embeddings\n",
    "  - *dictionary*: the dictionary provided by fairseq\n",
    "  - *embed_tokens*: an instance of token embeddings (nn.Embedding)\n",
    "- Inputs: \n",
    "    - *prev_output_tokens*: integer sequence representing the right-shifted target e.g. 1, 28, 29, 205, 2 \n",
    "    - *encoder_out*: encoder's output.\n",
    "    - *incremental_state*: in order to speed up decoding during test time, we will save the hidden state of each timestep. see forward() for details.\n",
    "- Outputs: \n",
    "    - *outputs*: the logits (before softmax) output of decoder for each timesteps\n",
    "    - *extra*: unsused"
   ]
  },
  {
   "cell_type": "code",
   "execution_count": 37,
   "metadata": {
    "id": "QfvgqHYDM6Lp"
   },
   "outputs": [],
   "source": [
    "class RNNDecoder(FairseqIncrementalDecoder):\n",
    "    def __init__(self, args, dictionary, embed_tokens):\n",
    "        super().__init__(dictionary)\n",
    "        self.embed_tokens = embed_tokens\n",
    "        \n",
    "        assert args.decoder_layers == args.encoder_layers, f\"\"\"seq2seq rnn requires that encoder \n",
    "        and decoder have same layers of rnn. got: {args.encoder_layers, args.decoder_layers}\"\"\"\n",
    "        assert args.decoder_ffn_embed_dim == args.encoder_ffn_embed_dim*2, f\"\"\"seq2seq-rnn requires \n",
    "        that decoder hidden to be 2*encoder hidden dim. got: {args.decoder_ffn_embed_dim, args.encoder_ffn_embed_dim*2}\"\"\"\n",
    "        \n",
    "        self.embed_dim = args.decoder_embed_dim\n",
    "        self.hidden_dim = args.decoder_ffn_embed_dim\n",
    "        self.num_layers = args.decoder_layers\n",
    "        \n",
    "        \n",
    "        self.dropout_in_module = nn.Dropout(args.dropout)\n",
    "        self.rnn = nn.GRU(\n",
    "            self.embed_dim, \n",
    "            self.hidden_dim, \n",
    "            self.num_layers, \n",
    "            dropout=args.dropout, \n",
    "            batch_first=False, \n",
    "            bidirectional=False\n",
    "        )\n",
    "        self.attention = AttentionLayer(\n",
    "            self.embed_dim, self.hidden_dim, self.embed_dim, bias=False\n",
    "        ) \n",
    "        # self.attention = None\n",
    "        self.dropout_out_module = nn.Dropout(args.dropout)\n",
    "        \n",
    "        if self.hidden_dim != self.embed_dim:\n",
    "            self.project_out_dim = nn.Linear(self.hidden_dim, self.embed_dim)\n",
    "        else:\n",
    "            self.project_out_dim = None\n",
    "        \n",
    "        if args.share_decoder_input_output_embed:\n",
    "            self.output_projection = nn.Linear(\n",
    "                self.embed_tokens.weight.shape[1],\n",
    "                self.embed_tokens.weight.shape[0],\n",
    "                bias=False,\n",
    "            )\n",
    "            self.output_projection.weight = self.embed_tokens.weight\n",
    "        else:\n",
    "            self.output_projection = nn.Linear(\n",
    "                self.output_embed_dim, len(dictionary), bias=False\n",
    "            )\n",
    "            nn.init.normal_(\n",
    "                self.output_projection.weight, mean=0, std=self.output_embed_dim ** -0.5\n",
    "            )\n",
    "        \n",
    "    def forward(self, prev_output_tokens, encoder_out, incremental_state=None, **unused):\n",
    "        # extract the outputs from encoder\n",
    "        encoder_outputs, encoder_hiddens, encoder_padding_mask = encoder_out\n",
    "        # outputs:          seq_len x batch x num_directions*hidden\n",
    "        # encoder_hiddens:  num_layers x batch x num_directions*encoder_hidden\n",
    "        # padding_mask:     seq_len x batch\n",
    "        \n",
    "        if incremental_state is not None and len(incremental_state) > 0:\n",
    "            # if the information from last timestep is retained, we can continue from there instead of starting from bos\n",
    "            prev_output_tokens = prev_output_tokens[:, -1:]\n",
    "            cache_state = self.get_incremental_state(incremental_state, \"cached_state\")\n",
    "            prev_hiddens = cache_state[\"prev_hiddens\"]\n",
    "        else:\n",
    "            # incremental state does not exist, either this is training time, or the first timestep of test time\n",
    "            # prepare for seq2seq: pass the encoder_hidden to the decoder hidden states\n",
    "            prev_hiddens = encoder_hiddens\n",
    "        \n",
    "        bsz, seqlen = prev_output_tokens.size()\n",
    "        \n",
    "        # embed tokens\n",
    "        x = self.embed_tokens(prev_output_tokens)\n",
    "        x = self.dropout_in_module(x)\n",
    "\n",
    "        # B x T x C -> T x B x C\n",
    "        x = x.transpose(0, 1)\n",
    "                \n",
    "        # decoder-to-encoder attention\n",
    "        if self.attention is not None:\n",
    "            x, attn = self.attention(x, encoder_outputs, encoder_padding_mask)\n",
    "                        \n",
    "        # pass thru unidirectional RNN\n",
    "        x, final_hiddens = self.rnn(x, prev_hiddens)\n",
    "        # outputs = [sequence len, batch size, hid dim]\n",
    "        # hidden =  [num_layers * directions, batch size  , hid dim]\n",
    "        x = self.dropout_out_module(x)\n",
    "                \n",
    "        # project to embedding size (if hidden differs from embed size, and share_embedding is True, \n",
    "        # we need to do an extra projection)\n",
    "        if self.project_out_dim != None:\n",
    "            x = self.project_out_dim(x)\n",
    "        \n",
    "        # project to vocab size\n",
    "        x = self.output_projection(x)\n",
    "        \n",
    "        # T x B x C -> B x T x C\n",
    "        x = x.transpose(1, 0)\n",
    "        \n",
    "        # if incremental, record the hidden states of current timestep, which will be restored in the next timestep\n",
    "        cache_state = {\n",
    "            \"prev_hiddens\": final_hiddens,\n",
    "        }\n",
    "        self.set_incremental_state(incremental_state, \"cached_state\", cache_state)\n",
    "        \n",
    "        return x, None\n",
    "    \n",
    "    def reorder_incremental_state(\n",
    "        self,\n",
    "        incremental_state,\n",
    "        new_order,\n",
    "    ):\n",
    "        # This is used by fairseq's beam search. How and why is not particularly important here.\n",
    "        cache_state = self.get_incremental_state(incremental_state, \"cached_state\")\n",
    "        prev_hiddens = cache_state[\"prev_hiddens\"]\n",
    "        prev_hiddens = [p.index_select(0, new_order) for p in prev_hiddens]\n",
    "        cache_state = {\n",
    "            \"prev_hiddens\": torch.stack(prev_hiddens),\n",
    "        }\n",
    "        self.set_incremental_state(incremental_state, \"cached_state\", cache_state)\n",
    "        return"
   ]
  },
  {
   "cell_type": "markdown",
   "metadata": {
    "id": "UDAPmxjRNEEL"
   },
   "source": [
    "## Seq2Seq\n",
    "- Composed of **Encoder** and **Decoder**\n",
    "- Recieves inputs and pass to **Encoder** \n",
    "- Pass the outputs from **Encoder** to **Decoder**\n",
    "- **Decoder** will decode according to outputs of previous timesteps as well as **Encoder** outputs  \n",
    "- Once done decoding, return the **Decoder** outputs"
   ]
  },
  {
   "cell_type": "code",
   "execution_count": 38,
   "metadata": {
    "id": "oRwKdLa0NEU6"
   },
   "outputs": [],
   "source": [
    "class Seq2Seq(FairseqEncoderDecoderModel):\n",
    "    def __init__(self, args, encoder, decoder):\n",
    "        super().__init__(encoder, decoder)\n",
    "        self.args = args\n",
    "    \n",
    "    def forward(\n",
    "        self,\n",
    "        src_tokens,\n",
    "        src_lengths,\n",
    "        prev_output_tokens,\n",
    "        return_all_hiddens: bool = True,\n",
    "    ):\n",
    "        \"\"\"\n",
    "        Run the forward pass for an encoder-decoder model.\n",
    "        \"\"\"\n",
    "        encoder_out = self.encoder(\n",
    "            src_tokens, src_lengths=src_lengths, return_all_hiddens=return_all_hiddens\n",
    "        )\n",
    "        logits, extra = self.decoder(\n",
    "            prev_output_tokens,\n",
    "            encoder_out=encoder_out,\n",
    "            src_lengths=src_lengths,\n",
    "            return_all_hiddens=return_all_hiddens,\n",
    "        )\n",
    "        return logits, extra"
   ]
  },
  {
   "cell_type": "markdown",
   "metadata": {
    "id": "zu3C2JfqNHzk"
   },
   "source": [
    "# Model Initialization"
   ]
  },
  {
   "cell_type": "code",
   "execution_count": 39,
   "metadata": {
    "id": "nyI9FOx-NJ2m"
   },
   "outputs": [],
   "source": [
    "# HINT: transformer architecture\n",
    "from fairseq.models.transformer import (\n",
    "    TransformerEncoder, \n",
    "    TransformerDecoder,\n",
    ")\n",
    "\n",
    "def build_model(args, task):\n",
    "    \"\"\" build a model instance based on hyperparameters \"\"\"\n",
    "    src_dict, tgt_dict = task.source_dictionary, task.target_dictionary\n",
    "\n",
    "    # token embeddings\n",
    "    encoder_embed_tokens = nn.Embedding(len(src_dict), args.encoder_embed_dim, src_dict.pad())\n",
    "    decoder_embed_tokens = nn.Embedding(len(tgt_dict), args.decoder_embed_dim, tgt_dict.pad())\n",
    "    \n",
    "    # encoder decoder\n",
    "    # HINT: TODO: switch to TransformerEncoder & TransformerDecoder\n",
    "    # encoder = RNNEncoder(args, src_dict, encoder_embed_tokens)\n",
    "    # decoder = RNNDecoder(args, tgt_dict, decoder_embed_tokens)\n",
    "    encoder = TransformerEncoder(args, src_dict, encoder_embed_tokens)\n",
    "    decoder = TransformerDecoder(args, tgt_dict, decoder_embed_tokens)\n",
    "\n",
    "    # sequence to sequence model\n",
    "    model = Seq2Seq(args, encoder, decoder)\n",
    "    \n",
    "    # initialization for seq2seq model is important, requires extra handling\n",
    "    def init_params(module):\n",
    "        from fairseq.modules import MultiheadAttention\n",
    "        if isinstance(module, nn.Linear):\n",
    "            module.weight.data.normal_(mean=0.0, std=0.02)\n",
    "            if module.bias is not None:\n",
    "                module.bias.data.zero_()\n",
    "        if isinstance(module, nn.Embedding):\n",
    "            module.weight.data.normal_(mean=0.0, std=0.02)\n",
    "            if module.padding_idx is not None:\n",
    "                module.weight.data[module.padding_idx].zero_()\n",
    "        if isinstance(module, MultiheadAttention):\n",
    "            module.q_proj.weight.data.normal_(mean=0.0, std=0.02)\n",
    "            module.k_proj.weight.data.normal_(mean=0.0, std=0.02)\n",
    "            module.v_proj.weight.data.normal_(mean=0.0, std=0.02)\n",
    "        if isinstance(module, nn.RNNBase):\n",
    "            for name, param in module.named_parameters():\n",
    "                if \"weight\" in name or \"bias\" in name:\n",
    "                    param.data.uniform_(-0.1, 0.1)\n",
    "            \n",
    "    # weight initialization\n",
    "    model.apply(init_params)\n",
    "    return model"
   ]
  },
  {
   "cell_type": "markdown",
   "metadata": {
    "id": "ce5n4eS7NQNy"
   },
   "source": [
    "## Architecture Related Configuration\n",
    "\n",
    "For strong baseline, please refer to the hyperparameters for *transformer-base* in Table 3 in [Attention is all you need](#vaswani2017)"
   ]
  },
  {
   "cell_type": "code",
   "execution_count": 40,
   "metadata": {
    "id": "Cyn30VoGNT6N"
   },
   "outputs": [],
   "source": [
    "arch_args = Namespace(\n",
    "    encoder_embed_dim=512,\n",
    "    encoder_ffn_embed_dim=2048,\n",
    "    encoder_layers=8,\n",
    "    decoder_embed_dim=512,\n",
    "    decoder_ffn_embed_dim=2048,\n",
    "    decoder_layers=8,\n",
    "    share_decoder_input_output_embed=True,\n",
    "    dropout=0.1,\n",
    ")\n",
    "\n",
    "# HINT: these patches on parameters for Transformer\n",
    "def add_transformer_args(args):\n",
    "    args.encoder_attention_heads=8\n",
    "    args.encoder_normalize_before=False\n",
    "    \n",
    "    args.decoder_attention_heads=8\n",
    "    args.decoder_normalize_before=False\n",
    "    \n",
    "    args.encoder_learned_pos = True\n",
    "    args.decoder_learned_pos = True\n",
    "    \n",
    "    args.encoder_layerdrop = 0.1\n",
    "    args.decoder_layerdrop = 0.1\n",
    "    \n",
    "    \n",
    "    args.activation_fn=\"relu\"\n",
    "    args.max_source_positions=1024\n",
    "    args.max_target_positions=1024\n",
    "    \n",
    "    # patches on default parameters for Transformer (those not set above)\n",
    "    from fairseq.models.transformer import base_architecture\n",
    "    base_architecture(arch_args)\n",
    "\n",
    "add_transformer_args(arch_args)"
   ]
  },
  {
   "cell_type": "code",
   "execution_count": 41,
   "metadata": {
    "id": "Nbb76QLCNZZZ"
   },
   "outputs": [],
   "source": [
    "if config.use_wandb:\n",
    "    wandb.config.update(vars(arch_args))"
   ]
  },
  {
   "cell_type": "code",
   "execution_count": 42,
   "metadata": {
    "id": "7ZWfxsCDNatH"
   },
   "outputs": [
    {
     "name": "stdout",
     "output_type": "stream",
     "text": [
      "2022-03-28 20:09:34 | INFO | hw5.seq2seq | Seq2Seq(\n",
      "  (encoder): TransformerEncoder(\n",
      "    (dropout_module): FairseqDropout()\n",
      "    (embed_tokens): Embedding(15960, 512, padding_idx=1)\n",
      "    (embed_positions): LearnedPositionalEmbedding(1026, 512, padding_idx=1)\n",
      "    (layers): LayerDropModuleList(\n",
      "      (0): TransformerEncoderLayer(\n",
      "        (self_attn): MultiheadAttention(\n",
      "          (dropout_module): FairseqDropout()\n",
      "          (k_proj): Linear(in_features=512, out_features=512, bias=True)\n",
      "          (v_proj): Linear(in_features=512, out_features=512, bias=True)\n",
      "          (q_proj): Linear(in_features=512, out_features=512, bias=True)\n",
      "          (out_proj): Linear(in_features=512, out_features=512, bias=True)\n",
      "        )\n",
      "        (self_attn_layer_norm): LayerNorm((512,), eps=1e-05, elementwise_affine=True)\n",
      "        (dropout_module): FairseqDropout()\n",
      "        (activation_dropout_module): FairseqDropout()\n",
      "        (fc1): Linear(in_features=512, out_features=2048, bias=True)\n",
      "        (fc2): Linear(in_features=2048, out_features=512, bias=True)\n",
      "        (final_layer_norm): LayerNorm((512,), eps=1e-05, elementwise_affine=True)\n",
      "      )\n",
      "      (1): TransformerEncoderLayer(\n",
      "        (self_attn): MultiheadAttention(\n",
      "          (dropout_module): FairseqDropout()\n",
      "          (k_proj): Linear(in_features=512, out_features=512, bias=True)\n",
      "          (v_proj): Linear(in_features=512, out_features=512, bias=True)\n",
      "          (q_proj): Linear(in_features=512, out_features=512, bias=True)\n",
      "          (out_proj): Linear(in_features=512, out_features=512, bias=True)\n",
      "        )\n",
      "        (self_attn_layer_norm): LayerNorm((512,), eps=1e-05, elementwise_affine=True)\n",
      "        (dropout_module): FairseqDropout()\n",
      "        (activation_dropout_module): FairseqDropout()\n",
      "        (fc1): Linear(in_features=512, out_features=2048, bias=True)\n",
      "        (fc2): Linear(in_features=2048, out_features=512, bias=True)\n",
      "        (final_layer_norm): LayerNorm((512,), eps=1e-05, elementwise_affine=True)\n",
      "      )\n",
      "      (2): TransformerEncoderLayer(\n",
      "        (self_attn): MultiheadAttention(\n",
      "          (dropout_module): FairseqDropout()\n",
      "          (k_proj): Linear(in_features=512, out_features=512, bias=True)\n",
      "          (v_proj): Linear(in_features=512, out_features=512, bias=True)\n",
      "          (q_proj): Linear(in_features=512, out_features=512, bias=True)\n",
      "          (out_proj): Linear(in_features=512, out_features=512, bias=True)\n",
      "        )\n",
      "        (self_attn_layer_norm): LayerNorm((512,), eps=1e-05, elementwise_affine=True)\n",
      "        (dropout_module): FairseqDropout()\n",
      "        (activation_dropout_module): FairseqDropout()\n",
      "        (fc1): Linear(in_features=512, out_features=2048, bias=True)\n",
      "        (fc2): Linear(in_features=2048, out_features=512, bias=True)\n",
      "        (final_layer_norm): LayerNorm((512,), eps=1e-05, elementwise_affine=True)\n",
      "      )\n",
      "      (3): TransformerEncoderLayer(\n",
      "        (self_attn): MultiheadAttention(\n",
      "          (dropout_module): FairseqDropout()\n",
      "          (k_proj): Linear(in_features=512, out_features=512, bias=True)\n",
      "          (v_proj): Linear(in_features=512, out_features=512, bias=True)\n",
      "          (q_proj): Linear(in_features=512, out_features=512, bias=True)\n",
      "          (out_proj): Linear(in_features=512, out_features=512, bias=True)\n",
      "        )\n",
      "        (self_attn_layer_norm): LayerNorm((512,), eps=1e-05, elementwise_affine=True)\n",
      "        (dropout_module): FairseqDropout()\n",
      "        (activation_dropout_module): FairseqDropout()\n",
      "        (fc1): Linear(in_features=512, out_features=2048, bias=True)\n",
      "        (fc2): Linear(in_features=2048, out_features=512, bias=True)\n",
      "        (final_layer_norm): LayerNorm((512,), eps=1e-05, elementwise_affine=True)\n",
      "      )\n",
      "      (4): TransformerEncoderLayer(\n",
      "        (self_attn): MultiheadAttention(\n",
      "          (dropout_module): FairseqDropout()\n",
      "          (k_proj): Linear(in_features=512, out_features=512, bias=True)\n",
      "          (v_proj): Linear(in_features=512, out_features=512, bias=True)\n",
      "          (q_proj): Linear(in_features=512, out_features=512, bias=True)\n",
      "          (out_proj): Linear(in_features=512, out_features=512, bias=True)\n",
      "        )\n",
      "        (self_attn_layer_norm): LayerNorm((512,), eps=1e-05, elementwise_affine=True)\n",
      "        (dropout_module): FairseqDropout()\n",
      "        (activation_dropout_module): FairseqDropout()\n",
      "        (fc1): Linear(in_features=512, out_features=2048, bias=True)\n",
      "        (fc2): Linear(in_features=2048, out_features=512, bias=True)\n",
      "        (final_layer_norm): LayerNorm((512,), eps=1e-05, elementwise_affine=True)\n",
      "      )\n",
      "      (5): TransformerEncoderLayer(\n",
      "        (self_attn): MultiheadAttention(\n",
      "          (dropout_module): FairseqDropout()\n",
      "          (k_proj): Linear(in_features=512, out_features=512, bias=True)\n",
      "          (v_proj): Linear(in_features=512, out_features=512, bias=True)\n",
      "          (q_proj): Linear(in_features=512, out_features=512, bias=True)\n",
      "          (out_proj): Linear(in_features=512, out_features=512, bias=True)\n",
      "        )\n",
      "        (self_attn_layer_norm): LayerNorm((512,), eps=1e-05, elementwise_affine=True)\n",
      "        (dropout_module): FairseqDropout()\n",
      "        (activation_dropout_module): FairseqDropout()\n",
      "        (fc1): Linear(in_features=512, out_features=2048, bias=True)\n",
      "        (fc2): Linear(in_features=2048, out_features=512, bias=True)\n",
      "        (final_layer_norm): LayerNorm((512,), eps=1e-05, elementwise_affine=True)\n",
      "      )\n",
      "      (6): TransformerEncoderLayer(\n",
      "        (self_attn): MultiheadAttention(\n",
      "          (dropout_module): FairseqDropout()\n",
      "          (k_proj): Linear(in_features=512, out_features=512, bias=True)\n",
      "          (v_proj): Linear(in_features=512, out_features=512, bias=True)\n",
      "          (q_proj): Linear(in_features=512, out_features=512, bias=True)\n",
      "          (out_proj): Linear(in_features=512, out_features=512, bias=True)\n",
      "        )\n",
      "        (self_attn_layer_norm): LayerNorm((512,), eps=1e-05, elementwise_affine=True)\n",
      "        (dropout_module): FairseqDropout()\n",
      "        (activation_dropout_module): FairseqDropout()\n",
      "        (fc1): Linear(in_features=512, out_features=2048, bias=True)\n",
      "        (fc2): Linear(in_features=2048, out_features=512, bias=True)\n",
      "        (final_layer_norm): LayerNorm((512,), eps=1e-05, elementwise_affine=True)\n",
      "      )\n",
      "      (7): TransformerEncoderLayer(\n",
      "        (self_attn): MultiheadAttention(\n",
      "          (dropout_module): FairseqDropout()\n",
      "          (k_proj): Linear(in_features=512, out_features=512, bias=True)\n",
      "          (v_proj): Linear(in_features=512, out_features=512, bias=True)\n",
      "          (q_proj): Linear(in_features=512, out_features=512, bias=True)\n",
      "          (out_proj): Linear(in_features=512, out_features=512, bias=True)\n",
      "        )\n",
      "        (self_attn_layer_norm): LayerNorm((512,), eps=1e-05, elementwise_affine=True)\n",
      "        (dropout_module): FairseqDropout()\n",
      "        (activation_dropout_module): FairseqDropout()\n",
      "        (fc1): Linear(in_features=512, out_features=2048, bias=True)\n",
      "        (fc2): Linear(in_features=2048, out_features=512, bias=True)\n",
      "        (final_layer_norm): LayerNorm((512,), eps=1e-05, elementwise_affine=True)\n",
      "      )\n",
      "    )\n",
      "  )\n",
      "  (decoder): TransformerDecoder(\n",
      "    (dropout_module): FairseqDropout()\n",
      "    (embed_tokens): Embedding(15960, 512, padding_idx=1)\n",
      "    (embed_positions): LearnedPositionalEmbedding(1026, 512, padding_idx=1)\n",
      "    (layers): LayerDropModuleList(\n",
      "      (0): TransformerDecoderLayer(\n",
      "        (dropout_module): FairseqDropout()\n",
      "        (self_attn): MultiheadAttention(\n",
      "          (dropout_module): FairseqDropout()\n",
      "          (k_proj): Linear(in_features=512, out_features=512, bias=True)\n",
      "          (v_proj): Linear(in_features=512, out_features=512, bias=True)\n",
      "          (q_proj): Linear(in_features=512, out_features=512, bias=True)\n",
      "          (out_proj): Linear(in_features=512, out_features=512, bias=True)\n",
      "        )\n",
      "        (activation_dropout_module): FairseqDropout()\n",
      "        (self_attn_layer_norm): LayerNorm((512,), eps=1e-05, elementwise_affine=True)\n",
      "        (encoder_attn): MultiheadAttention(\n",
      "          (dropout_module): FairseqDropout()\n",
      "          (k_proj): Linear(in_features=512, out_features=512, bias=True)\n",
      "          (v_proj): Linear(in_features=512, out_features=512, bias=True)\n",
      "          (q_proj): Linear(in_features=512, out_features=512, bias=True)\n",
      "          (out_proj): Linear(in_features=512, out_features=512, bias=True)\n",
      "        )\n",
      "        (encoder_attn_layer_norm): LayerNorm((512,), eps=1e-05, elementwise_affine=True)\n",
      "        (fc1): Linear(in_features=512, out_features=2048, bias=True)\n",
      "        (fc2): Linear(in_features=2048, out_features=512, bias=True)\n",
      "        (final_layer_norm): LayerNorm((512,), eps=1e-05, elementwise_affine=True)\n",
      "      )\n",
      "      (1): TransformerDecoderLayer(\n",
      "        (dropout_module): FairseqDropout()\n",
      "        (self_attn): MultiheadAttention(\n",
      "          (dropout_module): FairseqDropout()\n",
      "          (k_proj): Linear(in_features=512, out_features=512, bias=True)\n",
      "          (v_proj): Linear(in_features=512, out_features=512, bias=True)\n",
      "          (q_proj): Linear(in_features=512, out_features=512, bias=True)\n",
      "          (out_proj): Linear(in_features=512, out_features=512, bias=True)\n",
      "        )\n",
      "        (activation_dropout_module): FairseqDropout()\n",
      "        (self_attn_layer_norm): LayerNorm((512,), eps=1e-05, elementwise_affine=True)\n",
      "        (encoder_attn): MultiheadAttention(\n",
      "          (dropout_module): FairseqDropout()\n",
      "          (k_proj): Linear(in_features=512, out_features=512, bias=True)\n",
      "          (v_proj): Linear(in_features=512, out_features=512, bias=True)\n",
      "          (q_proj): Linear(in_features=512, out_features=512, bias=True)\n",
      "          (out_proj): Linear(in_features=512, out_features=512, bias=True)\n",
      "        )\n",
      "        (encoder_attn_layer_norm): LayerNorm((512,), eps=1e-05, elementwise_affine=True)\n",
      "        (fc1): Linear(in_features=512, out_features=2048, bias=True)\n",
      "        (fc2): Linear(in_features=2048, out_features=512, bias=True)\n",
      "        (final_layer_norm): LayerNorm((512,), eps=1e-05, elementwise_affine=True)\n",
      "      )\n",
      "      (2): TransformerDecoderLayer(\n",
      "        (dropout_module): FairseqDropout()\n",
      "        (self_attn): MultiheadAttention(\n",
      "          (dropout_module): FairseqDropout()\n",
      "          (k_proj): Linear(in_features=512, out_features=512, bias=True)\n",
      "          (v_proj): Linear(in_features=512, out_features=512, bias=True)\n",
      "          (q_proj): Linear(in_features=512, out_features=512, bias=True)\n",
      "          (out_proj): Linear(in_features=512, out_features=512, bias=True)\n",
      "        )\n",
      "        (activation_dropout_module): FairseqDropout()\n",
      "        (self_attn_layer_norm): LayerNorm((512,), eps=1e-05, elementwise_affine=True)\n",
      "        (encoder_attn): MultiheadAttention(\n",
      "          (dropout_module): FairseqDropout()\n",
      "          (k_proj): Linear(in_features=512, out_features=512, bias=True)\n",
      "          (v_proj): Linear(in_features=512, out_features=512, bias=True)\n",
      "          (q_proj): Linear(in_features=512, out_features=512, bias=True)\n",
      "          (out_proj): Linear(in_features=512, out_features=512, bias=True)\n",
      "        )\n",
      "        (encoder_attn_layer_norm): LayerNorm((512,), eps=1e-05, elementwise_affine=True)\n",
      "        (fc1): Linear(in_features=512, out_features=2048, bias=True)\n",
      "        (fc2): Linear(in_features=2048, out_features=512, bias=True)\n",
      "        (final_layer_norm): LayerNorm((512,), eps=1e-05, elementwise_affine=True)\n",
      "      )\n",
      "      (3): TransformerDecoderLayer(\n",
      "        (dropout_module): FairseqDropout()\n",
      "        (self_attn): MultiheadAttention(\n",
      "          (dropout_module): FairseqDropout()\n",
      "          (k_proj): Linear(in_features=512, out_features=512, bias=True)\n",
      "          (v_proj): Linear(in_features=512, out_features=512, bias=True)\n",
      "          (q_proj): Linear(in_features=512, out_features=512, bias=True)\n",
      "          (out_proj): Linear(in_features=512, out_features=512, bias=True)\n",
      "        )\n",
      "        (activation_dropout_module): FairseqDropout()\n",
      "        (self_attn_layer_norm): LayerNorm((512,), eps=1e-05, elementwise_affine=True)\n",
      "        (encoder_attn): MultiheadAttention(\n",
      "          (dropout_module): FairseqDropout()\n",
      "          (k_proj): Linear(in_features=512, out_features=512, bias=True)\n",
      "          (v_proj): Linear(in_features=512, out_features=512, bias=True)\n",
      "          (q_proj): Linear(in_features=512, out_features=512, bias=True)\n",
      "          (out_proj): Linear(in_features=512, out_features=512, bias=True)\n",
      "        )\n",
      "        (encoder_attn_layer_norm): LayerNorm((512,), eps=1e-05, elementwise_affine=True)\n",
      "        (fc1): Linear(in_features=512, out_features=2048, bias=True)\n",
      "        (fc2): Linear(in_features=2048, out_features=512, bias=True)\n",
      "        (final_layer_norm): LayerNorm((512,), eps=1e-05, elementwise_affine=True)\n",
      "      )\n",
      "      (4): TransformerDecoderLayer(\n",
      "        (dropout_module): FairseqDropout()\n",
      "        (self_attn): MultiheadAttention(\n",
      "          (dropout_module): FairseqDropout()\n",
      "          (k_proj): Linear(in_features=512, out_features=512, bias=True)\n",
      "          (v_proj): Linear(in_features=512, out_features=512, bias=True)\n",
      "          (q_proj): Linear(in_features=512, out_features=512, bias=True)\n",
      "          (out_proj): Linear(in_features=512, out_features=512, bias=True)\n",
      "        )\n",
      "        (activation_dropout_module): FairseqDropout()\n",
      "        (self_attn_layer_norm): LayerNorm((512,), eps=1e-05, elementwise_affine=True)\n",
      "        (encoder_attn): MultiheadAttention(\n",
      "          (dropout_module): FairseqDropout()\n",
      "          (k_proj): Linear(in_features=512, out_features=512, bias=True)\n",
      "          (v_proj): Linear(in_features=512, out_features=512, bias=True)\n",
      "          (q_proj): Linear(in_features=512, out_features=512, bias=True)\n",
      "          (out_proj): Linear(in_features=512, out_features=512, bias=True)\n",
      "        )\n",
      "        (encoder_attn_layer_norm): LayerNorm((512,), eps=1e-05, elementwise_affine=True)\n",
      "        (fc1): Linear(in_features=512, out_features=2048, bias=True)\n",
      "        (fc2): Linear(in_features=2048, out_features=512, bias=True)\n",
      "        (final_layer_norm): LayerNorm((512,), eps=1e-05, elementwise_affine=True)\n",
      "      )\n",
      "      (5): TransformerDecoderLayer(\n",
      "        (dropout_module): FairseqDropout()\n",
      "        (self_attn): MultiheadAttention(\n",
      "          (dropout_module): FairseqDropout()\n",
      "          (k_proj): Linear(in_features=512, out_features=512, bias=True)\n",
      "          (v_proj): Linear(in_features=512, out_features=512, bias=True)\n",
      "          (q_proj): Linear(in_features=512, out_features=512, bias=True)\n",
      "          (out_proj): Linear(in_features=512, out_features=512, bias=True)\n",
      "        )\n",
      "        (activation_dropout_module): FairseqDropout()\n",
      "        (self_attn_layer_norm): LayerNorm((512,), eps=1e-05, elementwise_affine=True)\n",
      "        (encoder_attn): MultiheadAttention(\n",
      "          (dropout_module): FairseqDropout()\n",
      "          (k_proj): Linear(in_features=512, out_features=512, bias=True)\n",
      "          (v_proj): Linear(in_features=512, out_features=512, bias=True)\n",
      "          (q_proj): Linear(in_features=512, out_features=512, bias=True)\n",
      "          (out_proj): Linear(in_features=512, out_features=512, bias=True)\n",
      "        )\n",
      "        (encoder_attn_layer_norm): LayerNorm((512,), eps=1e-05, elementwise_affine=True)\n",
      "        (fc1): Linear(in_features=512, out_features=2048, bias=True)\n",
      "        (fc2): Linear(in_features=2048, out_features=512, bias=True)\n",
      "        (final_layer_norm): LayerNorm((512,), eps=1e-05, elementwise_affine=True)\n",
      "      )\n",
      "      (6): TransformerDecoderLayer(\n",
      "        (dropout_module): FairseqDropout()\n",
      "        (self_attn): MultiheadAttention(\n",
      "          (dropout_module): FairseqDropout()\n",
      "          (k_proj): Linear(in_features=512, out_features=512, bias=True)\n",
      "          (v_proj): Linear(in_features=512, out_features=512, bias=True)\n",
      "          (q_proj): Linear(in_features=512, out_features=512, bias=True)\n",
      "          (out_proj): Linear(in_features=512, out_features=512, bias=True)\n",
      "        )\n",
      "        (activation_dropout_module): FairseqDropout()\n",
      "        (self_attn_layer_norm): LayerNorm((512,), eps=1e-05, elementwise_affine=True)\n",
      "        (encoder_attn): MultiheadAttention(\n",
      "          (dropout_module): FairseqDropout()\n",
      "          (k_proj): Linear(in_features=512, out_features=512, bias=True)\n",
      "          (v_proj): Linear(in_features=512, out_features=512, bias=True)\n",
      "          (q_proj): Linear(in_features=512, out_features=512, bias=True)\n",
      "          (out_proj): Linear(in_features=512, out_features=512, bias=True)\n",
      "        )\n",
      "        (encoder_attn_layer_norm): LayerNorm((512,), eps=1e-05, elementwise_affine=True)\n",
      "        (fc1): Linear(in_features=512, out_features=2048, bias=True)\n",
      "        (fc2): Linear(in_features=2048, out_features=512, bias=True)\n",
      "        (final_layer_norm): LayerNorm((512,), eps=1e-05, elementwise_affine=True)\n",
      "      )\n",
      "      (7): TransformerDecoderLayer(\n",
      "        (dropout_module): FairseqDropout()\n",
      "        (self_attn): MultiheadAttention(\n",
      "          (dropout_module): FairseqDropout()\n",
      "          (k_proj): Linear(in_features=512, out_features=512, bias=True)\n",
      "          (v_proj): Linear(in_features=512, out_features=512, bias=True)\n",
      "          (q_proj): Linear(in_features=512, out_features=512, bias=True)\n",
      "          (out_proj): Linear(in_features=512, out_features=512, bias=True)\n",
      "        )\n",
      "        (activation_dropout_module): FairseqDropout()\n",
      "        (self_attn_layer_norm): LayerNorm((512,), eps=1e-05, elementwise_affine=True)\n",
      "        (encoder_attn): MultiheadAttention(\n",
      "          (dropout_module): FairseqDropout()\n",
      "          (k_proj): Linear(in_features=512, out_features=512, bias=True)\n",
      "          (v_proj): Linear(in_features=512, out_features=512, bias=True)\n",
      "          (q_proj): Linear(in_features=512, out_features=512, bias=True)\n",
      "          (out_proj): Linear(in_features=512, out_features=512, bias=True)\n",
      "        )\n",
      "        (encoder_attn_layer_norm): LayerNorm((512,), eps=1e-05, elementwise_affine=True)\n",
      "        (fc1): Linear(in_features=512, out_features=2048, bias=True)\n",
      "        (fc2): Linear(in_features=2048, out_features=512, bias=True)\n",
      "        (final_layer_norm): LayerNorm((512,), eps=1e-05, elementwise_affine=True)\n",
      "      )\n",
      "    )\n",
      "    (output_projection): Linear(in_features=512, out_features=15960, bias=False)\n",
      "  )\n",
      ")\n"
     ]
    }
   ],
   "source": [
    "model = build_model(arch_args, task)\n",
    "logger.info(model)"
   ]
  },
  {
   "cell_type": "markdown",
   "metadata": {
    "id": "aHll7GRNNdqc"
   },
   "source": [
    "# Optimization"
   ]
  },
  {
   "cell_type": "markdown",
   "metadata": {
    "id": "rUB9f1WCNgMH"
   },
   "source": [
    "## Loss: Label Smoothing Regularization\n",
    "* let the model learn to generate less concentrated distribution, and prevent over-confidence\n",
    "* sometimes the ground truth may not be the only answer. thus, when calculating loss, we reserve some probability for incorrect labels\n",
    "* avoids overfitting\n",
    "\n",
    "code [source](https://fairseq.readthedocs.io/en/latest/_modules/fairseq/criterions/label_smoothed_cross_entropy.html)"
   ]
  },
  {
   "cell_type": "code",
   "execution_count": 43,
   "metadata": {
    "id": "IgspdJn0NdYF"
   },
   "outputs": [],
   "source": [
    "class LabelSmoothedCrossEntropyCriterion(nn.Module):\n",
    "    def __init__(self, smoothing, ignore_index=None, reduce=True):\n",
    "        super().__init__()\n",
    "        self.smoothing = smoothing\n",
    "        self.ignore_index = ignore_index\n",
    "        self.reduce = reduce\n",
    "    \n",
    "    def forward(self, lprobs, target):\n",
    "        if target.dim() == lprobs.dim() - 1:\n",
    "            target = target.unsqueeze(-1)\n",
    "        # nll: Negative log likelihood，the cross-entropy when target is one-hot. following line is same as F.nll_loss\n",
    "        nll_loss = -lprobs.gather(dim=-1, index=target)\n",
    "        #  reserve some probability for other labels. thus when calculating cross-entropy, \n",
    "        # equivalent to summing the log probs of all labels\n",
    "        smooth_loss = -lprobs.sum(dim=-1, keepdim=True)\n",
    "        if self.ignore_index is not None:\n",
    "            pad_mask = target.eq(self.ignore_index)\n",
    "            nll_loss.masked_fill_(pad_mask, 0.0)\n",
    "            smooth_loss.masked_fill_(pad_mask, 0.0)\n",
    "        else:\n",
    "            nll_loss = nll_loss.squeeze(-1)\n",
    "            smooth_loss = smooth_loss.squeeze(-1)\n",
    "        if self.reduce:\n",
    "            nll_loss = nll_loss.sum()\n",
    "            smooth_loss = smooth_loss.sum()\n",
    "        # when calculating cross-entropy, add the loss of other labels\n",
    "        eps_i = self.smoothing / lprobs.size(-1)\n",
    "        loss = (1.0 - self.smoothing) * nll_loss + eps_i * smooth_loss\n",
    "        return loss\n",
    "\n",
    "# generally, 0.1 is good enough\n",
    "criterion = LabelSmoothedCrossEntropyCriterion(\n",
    "    smoothing=0.1,\n",
    "    ignore_index=task.target_dictionary.pad(),\n",
    ")"
   ]
  },
  {
   "cell_type": "markdown",
   "metadata": {
    "id": "aRalDto2NkJJ"
   },
   "source": [
    "## Optimizer: Adam + lr scheduling\n",
    "Inverse square root scheduling is important to the stability when training Transformer. It's later used on RNN as well.\n",
    "Update the learning rate according to the following equation. Linearly increase the first stage, then decay proportionally to the inverse square root of timestep.\n",
    "$$lrate = d_{\\text{model}}^{-0.5}\\cdot\\min({step\\_num}^{-0.5},{step\\_num}\\cdot{warmup\\_steps}^{-1.5})$$"
   ]
  },
  {
   "cell_type": "code",
   "execution_count": 44,
   "metadata": {
    "id": "sS7tQj1ROBYm"
   },
   "outputs": [],
   "source": [
    "def get_rate(d_model, step_num, warmup_step):\n",
    "    # TODO: Change lr from constant to the equation shown above\n",
    "    # lr = 0.001\n",
    "    lr = d_model ** (-0.5) * min(step_num ** (-0.5), step_num * warmup_step ** (-1.5))\n",
    "    return lr"
   ]
  },
  {
   "cell_type": "code",
   "execution_count": 45,
   "metadata": {
    "id": "J8hoAjHPNkh3"
   },
   "outputs": [],
   "source": [
    "class NoamOpt:\n",
    "    \"Optim wrapper that implements rate.\"\n",
    "    def __init__(self, model_size, factor, warmup, optimizer):\n",
    "        self.optimizer = optimizer\n",
    "        self._step = 0\n",
    "        self.warmup = warmup\n",
    "        self.factor = factor\n",
    "        self.model_size = model_size\n",
    "        self._rate = 0\n",
    "    \n",
    "    @property\n",
    "    def param_groups(self):\n",
    "        return self.optimizer.param_groups\n",
    "        \n",
    "    def multiply_grads(self, c):\n",
    "        \"\"\"Multiplies grads by a constant *c*.\"\"\"                \n",
    "        for group in self.param_groups:\n",
    "            for p in group['params']:\n",
    "                if p.grad is not None:\n",
    "                    p.grad.data.mul_(c)\n",
    "        \n",
    "    def step(self):\n",
    "        \"Update parameters and rate\"\n",
    "        self._step += 1\n",
    "        rate = self.rate()\n",
    "        for p in self.param_groups:\n",
    "            p['lr'] = rate\n",
    "        self._rate = rate\n",
    "        self.optimizer.step()\n",
    "        \n",
    "    def rate(self, step = None):\n",
    "        \"Implement `lrate` above\"\n",
    "        if step is None:\n",
    "            step = self._step\n",
    "        return 0 if not step else self.factor * get_rate(self.model_size, step, self.warmup)"
   ]
  },
  {
   "cell_type": "markdown",
   "metadata": {
    "id": "VFJlkOMONsc6"
   },
   "source": [
    "## Scheduling Visualized"
   ]
  },
  {
   "cell_type": "code",
   "execution_count": 46,
   "metadata": {
    "id": "A135fwPCNrQs"
   },
   "outputs": [
    {
     "data": {
      "image/png": "[encoded data removed]",
      "text/plain": [
       "<Figure size 432x288 with 1 Axes>"
      ]
     },
     "metadata": {
      "needs_background": "light"
     },
     "output_type": "display_data"
    }
   ],
   "source": [
    "optimizer = NoamOpt(\n",
    "    model_size=arch_args.encoder_embed_dim, \n",
    "    factor=config.lr_factor, \n",
    "    warmup=config.lr_warmup, \n",
    "    optimizer=torch.optim.AdamW(model.parameters(), lr=0, betas=(0.9, 0.98), eps=1e-9, weight_decay=0.0001))\n",
    "plt.plot(np.arange(1, 100000), [optimizer.rate(i) for i in range(1, 100000)])\n",
    "plt.legend([f\"{optimizer.model_size}:{optimizer.warmup}\"])\n",
    "None"
   ]
  },
  {
   "cell_type": "markdown",
   "metadata": {
    "id": "TOR0g-cVO5ZO"
   },
   "source": [
    "# Training Procedure"
   ]
  },
  {
   "cell_type": "markdown",
   "metadata": {
    "id": "f-0ZjbK3O8Iv"
   },
   "source": [
    "## Training"
   ]
  },
  {
   "cell_type": "code",
   "execution_count": 47,
   "metadata": {
    "id": "foal3xM1O404"
   },
   "outputs": [],
   "source": [
    "from fairseq.data import iterators\n",
    "from torch.cuda.amp import GradScaler, autocast\n",
    "\n",
    "def train_one_epoch(epoch_itr, model, task, criterion, optimizer, accum_steps=1):\n",
    "    itr = epoch_itr.next_epoch_itr(shuffle=True)\n",
    "    itr = iterators.GroupedIterator(itr, accum_steps) # gradient accumulation: update every accum_steps samples\n",
    "    \n",
    "    stats = {\"loss\": [], \"norm\": []}\n",
    "    scaler = GradScaler() # automatic mixed precision (amp) \n",
    "    \n",
    "    model.train()\n",
    "    progress = tqdm.tqdm(itr, desc=f\"train epoch {epoch_itr.epoch}\", leave=False)\n",
    "    for samples in progress:\n",
    "        model.zero_grad()\n",
    "        accum_loss = 0\n",
    "        sample_size = 0\n",
    "        # gradient accumulation: update every accum_steps samples\n",
    "        for i, sample in enumerate(samples):\n",
    "            if i == 1:\n",
    "                # emptying the CUDA cache after the first step can reduce the chance of OOM\n",
    "                torch.cuda.empty_cache()\n",
    "\n",
    "            sample = utils.move_to_cuda(sample, device=device)\n",
    "            target = sample[\"target\"]\n",
    "            sample_size_i = sample[\"ntokens\"]\n",
    "            sample_size += sample_size_i\n",
    "            \n",
    "            # mixed precision training\n",
    "            with autocast():\n",
    "                net_output = model.forward(**sample[\"net_input\"])\n",
    "                lprobs = F.log_softmax(net_output[0], -1)            \n",
    "                loss = criterion(lprobs.view(-1, lprobs.size(-1)), target.view(-1))\n",
    "                \n",
    "                # logging\n",
    "                accum_loss += loss.item()\n",
    "                # back-prop\n",
    "                scaler.scale(loss).backward()                \n",
    "        \n",
    "        scaler.unscale_(optimizer)\n",
    "        optimizer.multiply_grads(1 / (sample_size or 1.0)) # (sample_size or 1.0) handles the case of a zero gradient\n",
    "        gnorm = nn.utils.clip_grad_norm_(model.parameters(), config.clip_norm) # grad norm clipping prevents gradient exploding\n",
    "        \n",
    "        scaler.step(optimizer)\n",
    "        scaler.update()\n",
    "        \n",
    "        # logging\n",
    "        loss_print = accum_loss/sample_size\n",
    "        stats[\"loss\"].append(loss_print)\n",
    "        stats[\"norm\"].append(gnorm)\n",
    "        progress.set_postfix(loss=loss_print)\n",
    "        if config.use_wandb:\n",
    "            wandb.log({\n",
    "                \"train/loss\": loss_print,\n",
    "                \"train/grad_norm\": gnorm.item(),\n",
    "                \"train/lr\": optimizer.rate(),\n",
    "                \"train/sample_size\": sample_size,\n",
    "            })\n",
    "        \n",
    "    loss_print = np.mean(stats[\"loss\"])\n",
    "    logger.info(f\"training loss: {loss_print:.4f}\")\n",
    "    return stats"
   ]
  },
  {
   "cell_type": "markdown",
   "metadata": {
    "id": "Gt1lX3DRO_yU"
   },
   "source": [
    "## Validation & Inference\n",
    "To prevent overfitting, validation is required every epoch to validate the performance on unseen data.\n",
    "- the procedure is essensially same as training, with the addition of inference step\n",
    "- after validation we can save the model weights\n",
    "\n",
    "Validation loss alone cannot describe the actual performance of the model\n",
    "- Directly produce translation hypotheses based on current model, then calculate BLEU with the reference translation\n",
    "- We can also manually examine the hypotheses' quality\n",
    "- We use fairseq's sequence generator for beam search to generate translation hypotheses"
   ]
  },
  {
   "cell_type": "code",
   "execution_count": 48,
   "metadata": {
    "id": "2og80HYQPAKq"
   },
   "outputs": [],
   "source": [
    "# fairseq's beam search generator\n",
    "# given model and input seqeunce, produce translation hypotheses by beam search\n",
    "sequence_generator = task.build_generator([model], config)\n",
    "\n",
    "def decode(toks, dictionary):\n",
    "    # convert from Tensor to human readable sentence\n",
    "    s = dictionary.string(\n",
    "        toks.int().cpu(),\n",
    "        config.post_process,\n",
    "    )\n",
    "    return s if s else \"<unk>\"\n",
    "\n",
    "def inference_step(sample, model):\n",
    "    gen_out = sequence_generator.generate([model], sample)\n",
    "    srcs = []\n",
    "    hyps = []\n",
    "    refs = []\n",
    "    for i in range(len(gen_out)):\n",
    "        # for each sample, collect the input, hypothesis and reference, later be used to calculate BLEU\n",
    "        srcs.append(decode(\n",
    "            utils.strip_pad(sample[\"net_input\"][\"src_tokens\"][i], task.source_dictionary.pad()), \n",
    "            task.source_dictionary,\n",
    "        ))\n",
    "        hyps.append(decode(\n",
    "            gen_out[i][0][\"tokens\"], # 0 indicates using the top hypothesis in beam\n",
    "            task.target_dictionary,\n",
    "        ))\n",
    "        refs.append(decode(\n",
    "            utils.strip_pad(sample[\"target\"][i], task.target_dictionary.pad()), \n",
    "            task.target_dictionary,\n",
    "        ))\n",
    "    return srcs, hyps, refs"
   ]
  },
  {
   "cell_type": "code",
   "execution_count": 49,
   "metadata": {
    "id": "y1o7LeDkPDsd"
   },
   "outputs": [],
   "source": [
    "import shutil\n",
    "import sacrebleu\n",
    "\n",
    "def validate(model, task, criterion, log_to_wandb=True):\n",
    "    logger.info('begin validation')\n",
    "    itr = load_data_iterator(task, \"valid\", 1, config.max_tokens, config.num_workers).next_epoch_itr(shuffle=False)\n",
    "    \n",
    "    stats = {\"loss\":[], \"bleu\": 0, \"srcs\":[], \"hyps\":[], \"refs\":[]}\n",
    "    srcs = []\n",
    "    hyps = []\n",
    "    refs = []\n",
    "    \n",
    "    model.eval()\n",
    "    progress = tqdm.tqdm(itr, desc=f\"validation\", leave=False)\n",
    "    with torch.no_grad():\n",
    "        for i, sample in enumerate(progress):\n",
    "            # validation loss\n",
    "            sample = utils.move_to_cuda(sample, device=device)\n",
    "            net_output = model.forward(**sample[\"net_input\"])\n",
    "\n",
    "            lprobs = F.log_softmax(net_output[0], -1)\n",
    "            target = sample[\"target\"]\n",
    "            sample_size = sample[\"ntokens\"]\n",
    "            loss = criterion(lprobs.view(-1, lprobs.size(-1)), target.view(-1)) / sample_size\n",
    "            progress.set_postfix(valid_loss=loss.item())\n",
    "            stats[\"loss\"].append(loss)\n",
    "            \n",
    "            # do inference\n",
    "            s, h, r = inference_step(sample, model)\n",
    "            srcs.extend(s)\n",
    "            hyps.extend(h)\n",
    "            refs.extend(r)\n",
    "            \n",
    "    tok = 'zh' if task.cfg.target_lang == 'zh' else '13a'\n",
    "    stats[\"loss\"] = torch.stack(stats[\"loss\"]).mean().item()\n",
    "    stats[\"bleu\"] = sacrebleu.corpus_bleu(hyps, [refs], tokenize=tok) # 計算BLEU score\n",
    "    stats[\"srcs\"] = srcs\n",
    "    stats[\"hyps\"] = hyps\n",
    "    stats[\"refs\"] = refs\n",
    "    \n",
    "    if config.use_wandb and log_to_wandb:\n",
    "        wandb.log({\n",
    "            \"valid/loss\": stats[\"loss\"],\n",
    "            \"valid/bleu\": stats[\"bleu\"].score,\n",
    "        }, commit=False)\n",
    "    \n",
    "    showid = np.random.randint(len(hyps))\n",
    "    logger.info(\"example source: \" + srcs[showid])\n",
    "    logger.info(\"example hypothesis: \" + hyps[showid])\n",
    "    logger.info(\"example reference: \" + refs[showid])\n",
    "    \n",
    "    # show bleu results\n",
    "    logger.info(f\"validation loss:\\t{stats['loss']:.4f}\")\n",
    "    logger.info(stats[\"bleu\"].format())\n",
    "    return stats"
   ]
  },
  {
   "cell_type": "markdown",
   "metadata": {
    "id": "1sRF6nd4PGEE"
   },
   "source": [
    "# Save and Load Model Weights\n"
   ]
  },
  {
   "cell_type": "code",
   "execution_count": 50,
   "metadata": {
    "id": "edBuLlkuPGr9"
   },
   "outputs": [],
   "source": [
    "def validate_and_save(model, task, criterion, optimizer, epoch, save=True):   \n",
    "    stats = validate(model, task, criterion)\n",
    "    bleu = stats['bleu']\n",
    "    loss = stats['loss']\n",
    "    if save:\n",
    "        # save epoch checkpoints\n",
    "        savedir = Path(config.savedir).absolute()\n",
    "        savedir.mkdir(parents=True, exist_ok=True)\n",
    "        \n",
    "        check = {\n",
    "            \"model\": model.state_dict(),\n",
    "            \"stats\": {\"bleu\": bleu.score, \"loss\": loss},\n",
    "            \"optim\": {\"step\": optimizer._step}\n",
    "        }\n",
    "        torch.save(check, savedir/f\"checkpoint{epoch}.pt\")\n",
    "        shutil.copy(savedir/f\"checkpoint{epoch}.pt\", savedir/f\"checkpoint_last.pt\")\n",
    "        logger.info(f\"saved epoch checkpoint: {savedir}/checkpoint{epoch}.pt\")\n",
    "    \n",
    "        # save epoch samples\n",
    "        with open(savedir/f\"samples{epoch}.{config.source_lang}-{config.target_lang}.txt\", \"w\") as f:\n",
    "            for s, h in zip(stats[\"srcs\"], stats[\"hyps\"]):\n",
    "                f.write(f\"{s}\\t{h}\\n\")\n",
    "\n",
    "        # get best valid bleu    \n",
    "        if getattr(validate_and_save, \"best_bleu\", 0) < bleu.score:\n",
    "            validate_and_save.best_bleu = bleu.score\n",
    "            torch.save(check, savedir/f\"checkpoint_best.pt\")\n",
    "            \n",
    "        del_file = savedir / f\"checkpoint{epoch - config.keep_last_epochs}.pt\"\n",
    "        if del_file.exists():\n",
    "            del_file.unlink()\n",
    "    \n",
    "    return stats\n",
    "\n",
    "def try_load_checkpoint(model, optimizer=None, name=None):\n",
    "    name = name if name else \"checkpoint_last.pt\"\n",
    "    checkpath = Path(config.savedir)/name\n",
    "    if checkpath.exists():\n",
    "        check = torch.load(checkpath)\n",
    "        model.load_state_dict(check[\"model\"])\n",
    "        stats = check[\"stats\"]\n",
    "        step = \"unknown\"\n",
    "        if optimizer != None:\n",
    "            optimizer._step = step = check[\"optim\"][\"step\"]\n",
    "        logger.info(f\"loaded checkpoint {checkpath}: step={step} loss={stats['loss']} bleu={stats['bleu']}\")\n",
    "    else:\n",
    "        logger.info(f\"no checkpoints found at {checkpath}!\")"
   ]
  },
  {
   "cell_type": "markdown",
   "metadata": {
    "id": "KyIFpibfPJ5u"
   },
   "source": [
    "# Main\n",
    "## Training loop"
   ]
  },
  {
   "cell_type": "code",
   "execution_count": 51,
   "metadata": {
    "id": "hu7RZbCUPKQr"
   },
   "outputs": [],
   "source": [
    "model = model.to(device=device)\n",
    "criterion = criterion.to(device=device)"
   ]
  },
  {
   "cell_type": "code",
   "execution_count": 52,
   "metadata": {
    "id": "5xxlJxU2PeAo"
   },
   "outputs": [
    {
     "name": "stdout",
     "output_type": "stream",
     "text": [
      "2022-03-28 20:09:48 | INFO | hw5.seq2seq | task: TranslationTask\n",
      "2022-03-28 20:09:48 | INFO | hw5.seq2seq | encoder: TransformerEncoder\n",
      "2022-03-28 20:09:48 | INFO | hw5.seq2seq | decoder: TransformerDecoder\n",
      "2022-03-28 20:09:48 | INFO | hw5.seq2seq | criterion: LabelSmoothedCrossEntropyCriterion\n",
      "2022-03-28 20:09:48 | INFO | hw5.seq2seq | optimizer: NoamOpt\n",
      "2022-03-28 20:09:48 | INFO | hw5.seq2seq | num. model params: 76,244,992 (num. trained: 76,244,992)\n",
      "2022-03-28 20:09:48 | INFO | hw5.seq2seq | max tokens per batch = 4096, accumulate steps = 8\n"
     ]
    }
   ],
   "source": [
    "logger.info(\"task: {}\".format(task.__class__.__name__))\n",
    "logger.info(\"encoder: {}\".format(model.encoder.__class__.__name__))\n",
    "logger.info(\"decoder: {}\".format(model.decoder.__class__.__name__))\n",
    "logger.info(\"criterion: {}\".format(criterion.__class__.__name__))\n",
    "logger.info(\"optimizer: {}\".format(optimizer.__class__.__name__))\n",
    "logger.info(\n",
    "    \"num. model params: {:,} (num. trained: {:,})\".format(\n",
    "        sum(p.numel() for p in model.parameters()),\n",
    "        sum(p.numel() for p in model.parameters() if p.requires_grad),\n",
    "    )\n",
    ")\n",
    "logger.info(f\"max tokens per batch = {config.max_tokens}, accumulate steps = {config.accum_steps}\")"
   ]
  },
  {
   "cell_type": "code",
   "execution_count": 55,
   "metadata": {
    "id": "MSPRqpQUPfaX"
   },
   "outputs": [
    {
     "name": "stdout",
     "output_type": "stream",
     "text": [
      "2022-03-28 00:16:02 | INFO | hw5.seq2seq | loaded checkpoint checkpoints/transformer-back-translation/checkpoint_last.pt: step=14834 loss=3.0141279697418213 bleu=21.434513106586312\n"
     ]
    }
   ],
   "source": [
    "epoch_itr = load_data_iterator(task, \"train\", config.start_epoch, config.max_tokens, config.num_workers)\n",
    "try_load_checkpoint(model, optimizer, name=config.resume)\n",
    "norm = []\n",
    "while epoch_itr.next_epoch_idx <= config.max_epoch:\n",
    "    # train for one epoch\n",
    "    stats = train_one_epoch(epoch_itr, model, task, criterion, optimizer, config.accum_steps)\n",
    "    norm += stats[\"norm\"]\n",
    "    stats = validate_and_save(model, task, criterion, optimizer, epoch=epoch_itr.epoch)\n",
    "    logger.info(\"end of epoch {}\".format(epoch_itr.epoch))    \n",
    "    epoch_itr = load_data_iterator(task, \"train\", epoch_itr.next_epoch_idx, config.max_tokens, config.num_workers)"
   ]
  },
  {
   "cell_type": "markdown",
   "metadata": {
    "id": "KyjRwllxPjtf"
   },
   "source": [
    "# Submission"
   ]
  },
  {
   "cell_type": "code",
   "execution_count": 53,
   "metadata": {
    "id": "N70Gc6smPi1d"
   },
   "outputs": [
    {
     "name": "stdout",
     "output_type": "stream",
     "text": [
      "No protocol specified\n",
      "Namespace(checkpoint_upper_bound=None, inputs=['./checkpoints/transformer-back-translation'], num_epoch_checkpoints=15, num_update_checkpoints=None, output='./checkpoints/transformer-back-translation/avg_last_15_checkpoint.pt')\n",
      "averaging checkpoints:  ['./checkpoints/transformer-back-translation/checkpoint50.pt', './checkpoints/transformer-back-translation/checkpoint49.pt', './checkpoints/transformer-back-translation/checkpoint48.pt', './checkpoints/transformer-back-translation/checkpoint47.pt', './checkpoints/transformer-back-translation/checkpoint46.pt', './checkpoints/transformer-back-translation/checkpoint45.pt', './checkpoints/transformer-back-translation/checkpoint44.pt', './checkpoints/transformer-back-translation/checkpoint43.pt', './checkpoints/transformer-back-translation/checkpoint42.pt', './checkpoints/transformer-back-translation/checkpoint41.pt', './checkpoints/transformer-back-translation/checkpoint40.pt', './checkpoints/transformer-back-translation/checkpoint39.pt', './checkpoints/transformer-back-translation/checkpoint38.pt', './checkpoints/transformer-back-translation/checkpoint37.pt', './checkpoints/transformer-back-translation/checkpoint36.pt']\n",
      "Finished writing averaged checkpoint to ./checkpoints/transformer-back-translation/avg_last_15_checkpoint.pt\n"
     ]
    }
   ],
   "source": [
    "# averaging a few checkpoints can have a similar effect to ensemble\n",
    "checkpoint_name = f\"avg_last_{config.keep_last_epochs}_checkpoint.pt\"\n",
    "checkdir=config.savedir\n",
    "!python ./fairseq/scripts/average_checkpoints.py \\\n",
    "--inputs {checkdir} \\\n",
    "--num-epoch-checkpoints {config.keep_last_epochs} \\\n",
    "--output {checkdir}/{checkpoint_name}"
   ]
  },
  {
   "cell_type": "markdown",
   "metadata": {
    "id": "BAGMiun8PnZy"
   },
   "source": [
    "## Confirm model weights used to generate submission"
   ]
  },
  {
   "cell_type": "code",
   "execution_count": 54,
   "metadata": {
    "id": "tvRdivVUPnsU"
   },
   "outputs": [
    {
     "name": "stdout",
     "output_type": "stream",
     "text": [
      "2022-03-28 20:09:56 | INFO | hw5.seq2seq | loaded checkpoint checkpoints/transformer-back-translation/avg_last_15_checkpoint.pt: step=unknown loss=3.0141279697418213 bleu=21.434513106586312\n",
      "2022-03-28 20:09:56 | INFO | hw5.seq2seq | begin validation\n"
     ]
    },
    {
     "name": "stderr",
     "output_type": "stream",
     "text": [
      "validation:   0%|          | 0/38 [00:00<?, ?it/s, valid_loss=2.49]/home/tienyi/.local/lib/python3.8/site-packages/fairseq/search.py:140: UserWarning: __floordiv__ is deprecated, and its behavior will change in a future version of pytorch. It currently rounds toward 0 (like the 'trunc' function NOT 'floor'). This results in incorrect rounding for negative values. To keep the current behavior, use torch.div(a, b, rounding_mode='trunc'), or for actual floor division, use torch.div(a, b, rounding_mode='floor').\n",
      "  beams_buf = indices_buf // vocab_size\n",
      "/home/tienyi/.local/lib/python3.8/site-packages/fairseq/sequence_generator.py:657: UserWarning: __floordiv__ is deprecated, and its behavior will change in a future version of pytorch. It currently rounds toward 0 (like the 'trunc' function NOT 'floor'). This results in incorrect rounding for negative values. To keep the current behavior, use torch.div(a, b, rounding_mode='trunc'), or for actual floor division, use torch.div(a, b, rounding_mode='floor').\n",
      "  unfin_idx = idx // beam_size\n",
      "                                                                            \r"
     ]
    },
    {
     "name": "stdout",
     "output_type": "stream",
     "text": [
      "2022-03-28 20:10:18 | WARNING | sacrebleu | That's 100 lines that end in a tokenized period ('.')\n",
      "2022-03-28 20:10:18 | WARNING | sacrebleu | It looks like you forgot to detokenize your test data, which may hurt your score.\n",
      "2022-03-28 20:10:18 | WARNING | sacrebleu | If you insist your data is detokenized, or don't care, you can suppress this message with the `force` parameter.\n",
      "2022-03-28 20:10:18 | INFO | hw5.seq2seq | example source: \" 我可以拿出來大講特講 \"\n",
      "2022-03-28 20:10:18 | INFO | hw5.seq2seq | example hypothesis: i can get out of the way and give a talk . \"\n",
      "2022-03-28 20:10:18 | INFO | hw5.seq2seq | example reference: i can sink my teeth into this . \"\n",
      "2022-03-28 20:10:18 | INFO | hw5.seq2seq | validation loss:\t2.9202\n",
      "2022-03-28 20:10:18 | INFO | hw5.seq2seq | BLEU = 22.65 57.9/30.0/17.7/10.8 (BP = 0.945 ratio = 0.946 hyp_len = 72914 ref_len = 77050)\n"
     ]
    }
   ],
   "source": [
    "# checkpoint_last.pt : latest epoch\n",
    "# checkpoint_best.pt : highest validation bleu\n",
    "# avg_last_5_checkpoint.pt:　the average of last 5 epochs\n",
    "try_load_checkpoint(model, name=checkpoint_name)\n",
    "validate(model, task, criterion, log_to_wandb=False)\n",
    "None"
   ]
  },
  {
   "cell_type": "markdown",
   "metadata": {
    "id": "ioAIflXpPsxt"
   },
   "source": [
    "## Generate Prediction"
   ]
  },
  {
   "cell_type": "code",
   "execution_count": 55,
   "metadata": {
    "id": "oYMxA8FlPtIq"
   },
   "outputs": [],
   "source": [
    "def generate_prediction(model, task, split=\"test\", outfile=\"./prediction.txt\"):    \n",
    "    task.load_dataset(split=split, epoch=1)\n",
    "    itr = load_data_iterator(task, split, 1, config.max_tokens, config.num_workers).next_epoch_itr(shuffle=False)\n",
    "    \n",
    "    idxs = []\n",
    "    hyps = []\n",
    "\n",
    "    model.eval()\n",
    "    progress = tqdm.tqdm(itr, desc=f\"prediction\")\n",
    "    with torch.no_grad():\n",
    "        for i, sample in enumerate(progress):\n",
    "            # validation loss\n",
    "            sample = utils.move_to_cuda(sample, device=device)\n",
    "\n",
    "            # do inference\n",
    "            s, h, r = inference_step(sample, model)\n",
    "            \n",
    "            hyps.extend(h)\n",
    "            idxs.extend(list(sample['id']))\n",
    "            \n",
    "    # sort based on the order before preprocess\n",
    "    hyps = [x for _,x in sorted(zip(idxs,hyps))]\n",
    "    \n",
    "    with open(outfile, \"w\") as f:\n",
    "        for h in hyps:\n",
    "            f.write(h+\"\\n\")"
   ]
  },
  {
   "cell_type": "code",
   "execution_count": 56,
   "metadata": {
    "id": "Le4RFWXxjmm0"
   },
   "outputs": [
    {
     "name": "stdout",
     "output_type": "stream",
     "text": [
      "2022-03-28 20:10:18 | INFO | fairseq.data.data_utils | loaded 781,713 examples from: ./DATA/data-bin/ted2020/mono.zh-en.zh\n",
      "2022-03-28 20:10:18 | INFO | fairseq.data.data_utils | loaded 781,713 examples from: ./DATA/data-bin/ted2020/mono.zh-en.en\n",
      "2022-03-28 20:10:18 | INFO | fairseq.tasks.translation | ./DATA/data-bin/ted2020 mono zh-en 781713 examples\n"
     ]
    },
    {
     "name": "stderr",
     "output_type": "stream",
     "text": [
      "prediction: 100%|██████████| 2854/2854 [35:12<00:00,  1.35it/s]\n"
     ]
    }
   ],
   "source": [
    "generate_prediction(model, task, split='mono', outfile=\"./DATA/rawdata/mono/mono_prediction.txt\")"
   ]
  },
  {
   "cell_type": "code",
   "execution_count": 57,
   "metadata": {},
   "outputs": [
    {
     "name": "stdout",
     "output_type": "stream",
     "text": [
      "in the mid16th century , italians were mesmerized by a kind of male singer whose scale contained notes previously impossible for adult men .\n",
      "but there's a high price to this gift .\n",
      "to prevent them from breaking , these singers had been castrated before puberty to stop hormonal changes , in order to keep their voices low .\n",
      "it was called castrati , and they were renowned for their light , angelic voices throughout europe until this cruel procedure that was outlawed in the 19th century .\n",
      "while stopping the vocal growth can produce an extraordinary range of voices , naturally developing voices are already capable of incredible possibilities .\n"
     ]
    }
   ],
   "source": [
    "!head {\"./DATA/rawdata/mono/mono_prediction.txt\"} -n 5"
   ]
  },
  {
   "cell_type": "markdown",
   "metadata": {},
   "source": [
    "### TODO: Create new dataset\n",
    "\n",
    "1. Combine the prediction data with monolingual data\n",
    "2. Use the original spm model to tokenize data into Subword Units\n",
    "3. Binarize data with fairseq"
   ]
  },
  {
   "cell_type": "code",
   "execution_count": 58,
   "metadata": {},
   "outputs": [
    {
     "name": "stdout",
     "output_type": "stream",
     "text": [
      "DATA/data-bin/synthetic exists, will not overwrite!\n"
     ]
    }
   ],
   "source": [
    "# Combine prediction_file (.en) and mono.zh (.zh) into a new dataset.\n",
    "# \n",
    "# hint: tokenize prediction_file with the spm model\n",
    "# spm_model.encode(line, out_type=str)\n",
    "# output: ./DATA/rawdata/mono/mono.tok.en & mono.tok.zh\n",
    "# Mono prediction txt file to mono.tok.en\n",
    "with open(f\"{str(mono_prefix)}/mono.tok.en\", 'w') as out_f:\n",
    "    with open(f\"{str(mono_prefix)}/mono_prediction.txt\", 'r') as in_f:\n",
    "        for line in in_f:\n",
    "            line = line.strip()\n",
    "            tok = spm_model.encode(line, out_type=str)\n",
    "            print(' '.join(tok), file=out_f)\n",
    "\n",
    "# hint: use fairseq to binarize these two files again\n",
    "binpath = Path('./DATA/data-bin/synthetic')\n",
    "src_dict_file = './DATA/data-bin/ted2020/dict.en.txt'\n",
    "tgt_dict_file = src_dict_file\n",
    "monopref = str(mono_prefix/\"mono.tok\") # or whatever path after applying subword tokenization, w/o the suffix (.zh/.en)\n",
    "if binpath.exists():\n",
    "    print(binpath, \"exists, will not overwrite!\")\n",
    "else:\n",
    "    !python -m fairseq_cli.preprocess\\\n",
    "        --source-lang 'zh'\\\n",
    "        --target-lang 'en'\\\n",
    "        --trainpref {monopref}\\\n",
    "        --destdir {binpath}\\\n",
    "        --srcdict {src_dict_file}\\\n",
    "        --tgtdict {tgt_dict_file}\\\n",
    "        --workers 2"
   ]
  },
  {
   "cell_type": "code",
   "execution_count": 59,
   "metadata": {},
   "outputs": [],
   "source": [
    "# create a new dataset from all the files prepared above\n",
    "!cp -r ./DATA/data-bin/ted2020/ ./DATA/data-bin/ted2020_with_mono/\n",
    "\n",
    "!cp ./DATA/data-bin/synthetic/train.zh-en.zh.bin ./DATA/data-bin/ted2020_with_mono/train1.en-zh.zh.bin\n",
    "!cp ./DATA/data-bin/synthetic/train.zh-en.zh.idx ./DATA/data-bin/ted2020_with_mono/train1.en-zh.zh.idx\n",
    "!cp ./DATA/data-bin/synthetic/train.zh-en.en.bin ./DATA/data-bin/ted2020_with_mono/train1.en-zh.en.bin\n",
    "!cp ./DATA/data-bin/synthetic/train.zh-en.en.idx ./DATA/data-bin/ted2020_with_mono/train1.en-zh.en.idx"
   ]
  },
  {
   "cell_type": "code",
   "execution_count": 60,
   "metadata": {
    "id": "3R35JTaTQjkm"
   },
   "outputs": [
    {
     "name": "stdout",
     "output_type": "stream",
     "text": [
      "DATA/data-bin/synthetic exists, will not overwrite!\n"
     ]
    }
   ],
   "source": [
    "# Combine prediction_file (.en) and mono.zh (.zh) into a new dataset.\n",
    "# \n",
    "# hint: tokenize prediction_file with the spm model\n",
    "# output: ./DATA/rawdata/mono/mono.tok.en & mono.tok.zh\n",
    "with open(f\"{str(mono_prefix)}/mono.tok.en\", 'w') as out_f:\n",
    "    with open(f\"{str(mono_prefix)}/mono_prediction.txt\", 'r') as in_f:\n",
    "        for line in in_f:\n",
    "            line = line.strip()\n",
    "            tok = spm_model.encode(line, out_type=str)\n",
    "            print(' '.join(tok), file=out_f)\n",
    "\n",
    "# hint: use fairseq to binarize these two files again\n",
    "binpath = Path('./DATA/data-bin/synthetic')\n",
    "src_dict_file = './DATA/data-bin/ted2020/dict.en.txt'\n",
    "tgt_dict_file = src_dict_file\n",
    "monopref = str(mono_prefix/\"mono.tok\") # or whatever path after applying subword tokenization, w/o the suffix (.zh/.en)\n",
    "if binpath.exists():\n",
    "    print(binpath, \"exists, will not overwrite!\")\n",
    "else:\n",
    "    !python -m fairseq_cli.preprocess\\\n",
    "        --source-lang 'zh'\\\n",
    "        --target-lang 'en'\\\n",
    "        --trainpref {monopref}\\\n",
    "        --destdir {binpath}\\\n",
    "        --srcdict {src_dict_file}\\\n",
    "        --tgtdict {tgt_dict_file}\\\n",
    "        --workers 2"
   ]
  },
  {
   "cell_type": "markdown",
   "metadata": {
    "id": "YVdxVGO3QrSs"
   },
   "source": [
    "Created new dataset \"ted2020_with_mono\"\n",
    "\n",
    "1. Change the datadir in **config** (\"./DATA/data-bin/ted2020_with_mono\")\n",
    "2. Switch back the source_lang and target_lang in **config** (\"en\", \"zh\")\n",
    "2. Change the savedir in **config** (eg. \"./checkpoints/transformer-bt\")\n",
    "3. Train model"
   ]
  },
  {
   "cell_type": "markdown",
   "metadata": {
    "id": "_CZU2beUQtl3"
   },
   "source": [
    "1. <a name=ott2019fairseq></a>Ott, M., Edunov, S., Baevski, A., Fan, A., Gross, S., Ng, N., ... & Auli, M. (2019, June). fairseq: A Fast, Extensible Toolkit for Sequence Modeling. In Proceedings of the 2019 Conference of the North American Chapter of the Association for Computational Linguistics (Demonstrations) (pp. 48-53).\n",
    "2. <a name=vaswani2017></a>Vaswani, A., Shazeer, N., Parmar, N., Uszkoreit, J., Jones, L., Gomez, A. N., ... & Polosukhin, I. (2017, December). Attention is all you need. In Proceedings of the 31st International Conference on Neural Information Processing Systems (pp. 6000-6010).\n",
    "3. <a name=reimers-2020-multilingual-sentence-bert></a>Reimers, N., & Gurevych, I. (2020, November). Making Monolingual Sentence Embeddings Multilingual Using Knowledge Distillation. In Proceedings of the 2020 Conference on Empirical Methods in Natural Language Processing (EMNLP) (pp. 4512-4525).\n",
    "4. <a name=tiedemann2012parallel></a>Tiedemann, J. (2012, May). Parallel Data, Tools and Interfaces in OPUS. In Lrec (Vol. 2012, pp. 2214-2218).\n",
    "5. <a name=kudo-richardson-2018-sentencepiece></a>Kudo, T., & Richardson, J. (2018, November). SentencePiece: A simple and language independent subword tokenizer and detokenizer for Neural Text Processing. In Proceedings of the 2018 Conference on Empirical Methods in Natural Language Processing: System Demonstrations (pp. 66-71).\n",
    "6. <a name=sennrich-etal-2016-improving></a>Sennrich, R., Haddow, B., & Birch, A. (2016, August). Improving Neural Machine Translation Models with Monolingual Data. In Proceedings of the 54th Annual Meeting of the Association for Computational Linguistics (Volume 1: Long Papers) (pp. 86-96).\n",
    "7. <a name=edunov-etal-2018-understanding></a>Edunov, S., Ott, M., Auli, M., & Grangier, D. (2018). Understanding Back-Translation at Scale. In Proceedings of the 2018 Conference on Empirical Methods in Natural Language Processing (pp. 489-500).\n",
    "8. https://github.com/ajinkyakulkarni14/TED-Multilingual-Parallel-Corpus\n",
    "9. https://ithelp.ithome.com.tw/articles/10233122\n",
    "10. https://nlp.seas.harvard.edu/2018/04/03/attention.html\n",
    "11. https://colab.research.google.com/github/ga642381/ML2021-Spring/blob/main/HW05/HW05.ipynb"
   ]
  },
  {
   "cell_type": "markdown",
   "metadata": {
    "id": "Rrfm6iLJQ0tS"
   },
   "source": [
    "# Retrain a model to translate English to Traditional Chinese"
   ]
  },
  {
   "cell_type": "markdown",
   "metadata": {},
   "source": [
    "# Configuration for experiments"
   ]
  },
  {
   "cell_type": "code",
   "execution_count": 61,
   "metadata": {},
   "outputs": [],
   "source": [
    "# Configuration\n",
    "config = Namespace(\n",
    "    datadir = \"./DATA/data-bin/ted2020_with_mono\",\n",
    "    savedir = \"./checkpoints/transformer-big\",\n",
    "    source_lang = \"en\",\n",
    "    target_lang = \"zh\",\n",
    "    \n",
    "    # cpu threads when fetching & processing data.\n",
    "    num_workers=8,  \n",
    "    # batch size in terms of tokens. gradient accumulation increases the effective batchsize.\n",
    "    max_tokens=4096,\n",
    "    accum_steps=8,\n",
    "    \n",
    "    # the lr s calculated from Noam lr scheduler. you can tune the maximum lr by this factor.\n",
    "    lr_factor=4.,\n",
    "    lr_warmup=6000,\n",
    "    \n",
    "    # clipping gradient norm helps alleviate gradient exploding\n",
    "    clip_norm=1.0,\n",
    "    \n",
    "    # maximum epochs for training\n",
    "    max_epoch=50,\n",
    "    start_epoch=1,\n",
    "    \n",
    "    # beam size for beam search\n",
    "    beam=10, \n",
    "    # generate sequences of maximum length ax + b, where x is the source length\n",
    "    max_len_a=1.2, \n",
    "    max_len_b=10, \n",
    "    # when decoding, post process sentence by removing sentencepiece symbols and jieba tokenization.\n",
    "    post_process = \"sentencepiece\",\n",
    "    \n",
    "    # checkpoints\n",
    "    keep_last_epochs=15,\n",
    "    resume=None, # if resume from checkpoint name (under config.savedir)\n",
    "    \n",
    "    # logging\n",
    "    use_wandb=False,\n",
    ")"
   ]
  },
  {
   "cell_type": "markdown",
   "metadata": {},
   "source": [
    "# Logging\n",
    "- logging package logs ordinary messages\n",
    "- wandb logs the loss, bleu, etc. in the training process"
   ]
  },
  {
   "cell_type": "code",
   "execution_count": 62,
   "metadata": {},
   "outputs": [],
   "source": [
    "logging.basicConfig(\n",
    "    format=\"%(asctime)s | %(levelname)s | %(name)s | %(message)s\",\n",
    "    datefmt=\"%Y-%m-%d %H:%M:%S\",\n",
    "    level=\"INFO\", # \"DEBUG\" \"WARNING\" \"ERROR\"\n",
    "    stream=sys.stdout,\n",
    ")\n",
    "proj = \"hw5.seq2seq\"\n",
    "logger = logging.getLogger(proj)\n",
    "if config.use_wandb:\n",
    "    import wandb\n",
    "    wandb.init(project=proj, name=Path(config.savedir).stem, config=config)"
   ]
  },
  {
   "cell_type": "markdown",
   "metadata": {},
   "source": [
    "# CUDA Environments"
   ]
  },
  {
   "cell_type": "code",
   "execution_count": 63,
   "metadata": {},
   "outputs": [
    {
     "name": "stdout",
     "output_type": "stream",
     "text": [
      "2022-03-28 20:52:34 | INFO | fairseq.utils | ***********************CUDA enviroments for all 1 workers***********************\n",
      "2022-03-28 20:52:34 | INFO | fairseq.utils | rank   0: capabilities =  8.6  ; total memory = 23.692 GB ; name = NVIDIA GeForce RTX 3090                 \n",
      "2022-03-28 20:52:34 | INFO | fairseq.utils | ***********************CUDA enviroments for all 1 workers***********************\n"
     ]
    }
   ],
   "source": [
    "cuda_env = utils.CudaEnvironment()\n",
    "utils.CudaEnvironment.pretty_print_cuda_env_list([cuda_env])\n",
    "device = torch.device('cuda' if torch.cuda.is_available() else 'cpu')"
   ]
  },
  {
   "cell_type": "markdown",
   "metadata": {},
   "source": [
    "# Dataloading"
   ]
  },
  {
   "cell_type": "markdown",
   "metadata": {},
   "source": [
    "## We borrow the TranslationTask from fairseq\n",
    "* used to load the binarized data created above\n",
    "* well-implemented data iterator (dataloader)\n",
    "* built-in task.source_dictionary and task.target_dictionary are also handy\n",
    "* well-implemented beach search decoder"
   ]
  },
  {
   "cell_type": "code",
   "execution_count": 64,
   "metadata": {},
   "outputs": [
    {
     "name": "stdout",
     "output_type": "stream",
     "text": [
      "2022-03-28 20:52:34 | INFO | fairseq.tasks.translation | [en] dictionary: 15960 types\n",
      "2022-03-28 20:52:34 | INFO | fairseq.tasks.translation | [zh] dictionary: 15960 types\n"
     ]
    }
   ],
   "source": [
    "task_cfg = TranslationConfig(\n",
    "    data=config.datadir,\n",
    "    source_lang=config.source_lang,\n",
    "    target_lang=config.target_lang,\n",
    "    train_subset=\"train\",\n",
    "    required_seq_len_multiple=8,\n",
    "    dataset_impl=\"mmap\",\n",
    "    upsample_primary=1,\n",
    ")\n",
    "task = TranslationTask.setup_task(task_cfg)"
   ]
  },
  {
   "cell_type": "code",
   "execution_count": 65,
   "metadata": {},
   "outputs": [
    {
     "name": "stdout",
     "output_type": "stream",
     "text": [
      "2022-03-28 20:52:34 | INFO | hw5.seq2seq | loading data for epoch 1\n",
      "2022-03-28 20:52:34 | INFO | fairseq.data.data_utils | loaded 390,041 examples from: ./DATA/data-bin/ted2020_with_mono/train.zh-en.en\n",
      "2022-03-28 20:52:34 | INFO | fairseq.data.data_utils | loaded 390,041 examples from: ./DATA/data-bin/ted2020_with_mono/train.zh-en.zh\n",
      "2022-03-28 20:52:34 | INFO | fairseq.tasks.translation | ./DATA/data-bin/ted2020_with_mono train en-zh 390041 examples\n",
      "2022-03-28 20:52:34 | INFO | fairseq.data.data_utils | loaded 781,713 examples from: ./DATA/data-bin/ted2020_with_mono/train1.en-zh.en\n",
      "2022-03-28 20:52:34 | INFO | fairseq.data.data_utils | loaded 781,713 examples from: ./DATA/data-bin/ted2020_with_mono/train1.en-zh.zh\n",
      "2022-03-28 20:52:34 | INFO | fairseq.tasks.translation | ./DATA/data-bin/ted2020_with_mono train1 en-zh 781713 examples\n",
      "2022-03-28 20:52:34 | INFO | fairseq.data.data_utils | loaded 3,939 examples from: ./DATA/data-bin/ted2020_with_mono/valid.zh-en.en\n",
      "2022-03-28 20:52:34 | INFO | fairseq.data.data_utils | loaded 3,939 examples from: ./DATA/data-bin/ted2020_with_mono/valid.zh-en.zh\n",
      "2022-03-28 20:52:34 | INFO | fairseq.tasks.translation | ./DATA/data-bin/ted2020_with_mono valid en-zh 3939 examples\n"
     ]
    }
   ],
   "source": [
    "logger.info(\"loading data for epoch 1\")\n",
    "task.load_dataset(split=\"train\", epoch=1, combine=True) # combine if you have back-translation data.\n",
    "task.load_dataset(split=\"valid\", epoch=1)"
   ]
  },
  {
   "cell_type": "code",
   "execution_count": 66,
   "metadata": {},
   "outputs": [
    {
     "name": "stdout",
     "output_type": "stream",
     "text": [
      "{'id': 1,\n",
      " 'source': tensor([  13,   10,   18, 1543,   39,   16,   56, 9225,  653, 1160, 1339,    5,\n",
      "           2]),\n",
      " 'target': tensor([  105,  3468,   212,  3655,   930,   356,   440,   408, 10591,  4059,\n",
      "            2])}\n",
      "\"Source: that's exactly what i do optical mind control .\"\n",
      "'Target: 這實在就是我所做的--光學操控思想'\n"
     ]
    }
   ],
   "source": [
    "sample = task.dataset(\"valid\")[1]\n",
    "pprint.pprint(sample)\n",
    "pprint.pprint(\n",
    "    \"Source: \" + \\\n",
    "    task.source_dictionary.string(\n",
    "        sample['source'],\n",
    "        config.post_process,\n",
    "    )\n",
    ")\n",
    "pprint.pprint(\n",
    "    \"Target: \" + \\\n",
    "    task.target_dictionary.string(\n",
    "        sample['target'],\n",
    "        config.post_process,\n",
    "    )\n",
    ")"
   ]
  },
  {
   "cell_type": "markdown",
   "metadata": {},
   "source": [
    "# Dataset iterator"
   ]
  },
  {
   "cell_type": "code",
   "execution_count": 67,
   "metadata": {},
   "outputs": [
    {
     "name": "stdout",
     "output_type": "stream",
     "text": [
      "2022-03-28 20:52:34 | WARNING | fairseq.tasks.fairseq_task | 2,030 samples have invalid sizes and will be skipped, max_positions=(20, 20), first few sample ids=[29, 1025, 682, 935, 648, 672, 2524, 222, 1484, 984]\n"
     ]
    },
    {
     "data": {
      "text/plain": [
       "{'id': tensor([1236]),\n",
       " 'nsentences': 1,\n",
       " 'ntokens': 7,\n",
       " 'net_input': {'src_tokens': tensor([[  1,   1,   1,   1,   1,  32, 273,  56,  16,  35,   9, 165,   9, 641,\n",
       "            25,   2]]),\n",
       "  'src_lengths': tensor([11]),\n",
       "  'prev_output_tokens': tensor([[   2, 7167,  994, 2058,  146, 7724,   25,    1]])},\n",
       " 'target': tensor([[7167,  994, 2058,  146, 7724,   25,    2,    1]])}"
      ]
     },
     "execution_count": 67,
     "metadata": {},
     "output_type": "execute_result"
    }
   ],
   "source": [
    "demo_epoch_obj = load_data_iterator(task, \"valid\", epoch=1, max_tokens=20, num_workers=1, cached=False)\n",
    "demo_iter = demo_epoch_obj.next_epoch_itr(shuffle=True)\n",
    "sample = next(demo_iter)\n",
    "sample"
   ]
  },
  {
   "cell_type": "markdown",
   "metadata": {},
   "source": [
    "## Architecture Related Configuration\n",
    "\n",
    "For strong baseline, please refer to the hyperparameters for *transformer-base* in Table 3 in [Attention is all you need](#vaswani2017)"
   ]
  },
  {
   "cell_type": "code",
   "execution_count": 68,
   "metadata": {},
   "outputs": [],
   "source": [
    "# Model Configuration\n",
    "arch_args = Namespace(\n",
    "    encoder_embed_dim=1024,\n",
    "    encoder_ffn_embed_dim=4096,\n",
    "    encoder_layers=8,\n",
    "    decoder_embed_dim=1024,\n",
    "    decoder_ffn_embed_dim=4096,\n",
    "    decoder_layers=8,\n",
    "    share_decoder_input_output_embed=True,\n",
    "    dropout=0.3,\n",
    ")\n",
    "\n",
    "# HINT: these patches on parameters for Transformer\n",
    "def add_transformer_args(args):\n",
    "    args.encoder_attention_heads=16\n",
    "    args.encoder_normalize_before=True\n",
    "    \n",
    "    args.decoder_attention_heads=16\n",
    "    args.decoder_normalize_before=True\n",
    "    \n",
    "    # args.encoder_learned_pos = True\n",
    "    # args.decoder_learned_pos = True\n",
    "    \n",
    "    args.encoder_layerdrop = 0.1\n",
    "    args.decoder_layerdrop = 0.1\n",
    "    \n",
    "    \n",
    "    args.activation_fn=\"relu\"\n",
    "    args.max_source_positions=1024\n",
    "    args.max_target_positions=1024\n",
    "    \n",
    "    # patches on default parameters for Transformer (those not set above)\n",
    "    from fairseq.models.transformer import base_architecture\n",
    "    base_architecture(arch_args)\n",
    "\n",
    "add_transformer_args(arch_args)"
   ]
  },
  {
   "cell_type": "code",
   "execution_count": 69,
   "metadata": {},
   "outputs": [],
   "source": [
    "if config.use_wandb:\n",
    "    wandb.config.update(vars(arch_args))"
   ]
  },
  {
   "cell_type": "code",
   "execution_count": 70,
   "metadata": {},
   "outputs": [
    {
     "name": "stdout",
     "output_type": "stream",
     "text": [
      "2022-03-28 20:52:38 | INFO | hw5.seq2seq | Seq2Seq(\n",
      "  (encoder): TransformerEncoder(\n",
      "    (dropout_module): FairseqDropout()\n",
      "    (embed_tokens): Embedding(15960, 1024, padding_idx=1)\n",
      "    (embed_positions): SinusoidalPositionalEmbedding()\n",
      "    (layers): LayerDropModuleList(\n",
      "      (0): TransformerEncoderLayer(\n",
      "        (self_attn): MultiheadAttention(\n",
      "          (dropout_module): FairseqDropout()\n",
      "          (k_proj): Linear(in_features=1024, out_features=1024, bias=True)\n",
      "          (v_proj): Linear(in_features=1024, out_features=1024, bias=True)\n",
      "          (q_proj): Linear(in_features=1024, out_features=1024, bias=True)\n",
      "          (out_proj): Linear(in_features=1024, out_features=1024, bias=True)\n",
      "        )\n",
      "        (self_attn_layer_norm): LayerNorm((1024,), eps=1e-05, elementwise_affine=True)\n",
      "        (dropout_module): FairseqDropout()\n",
      "        (activation_dropout_module): FairseqDropout()\n",
      "        (fc1): Linear(in_features=1024, out_features=4096, bias=True)\n",
      "        (fc2): Linear(in_features=4096, out_features=1024, bias=True)\n",
      "        (final_layer_norm): LayerNorm((1024,), eps=1e-05, elementwise_affine=True)\n",
      "      )\n",
      "      (1): TransformerEncoderLayer(\n",
      "        (self_attn): MultiheadAttention(\n",
      "          (dropout_module): FairseqDropout()\n",
      "          (k_proj): Linear(in_features=1024, out_features=1024, bias=True)\n",
      "          (v_proj): Linear(in_features=1024, out_features=1024, bias=True)\n",
      "          (q_proj): Linear(in_features=1024, out_features=1024, bias=True)\n",
      "          (out_proj): Linear(in_features=1024, out_features=1024, bias=True)\n",
      "        )\n",
      "        (self_attn_layer_norm): LayerNorm((1024,), eps=1e-05, elementwise_affine=True)\n",
      "        (dropout_module): FairseqDropout()\n",
      "        (activation_dropout_module): FairseqDropout()\n",
      "        (fc1): Linear(in_features=1024, out_features=4096, bias=True)\n",
      "        (fc2): Linear(in_features=4096, out_features=1024, bias=True)\n",
      "        (final_layer_norm): LayerNorm((1024,), eps=1e-05, elementwise_affine=True)\n",
      "      )\n",
      "      (2): TransformerEncoderLayer(\n",
      "        (self_attn): MultiheadAttention(\n",
      "          (dropout_module): FairseqDropout()\n",
      "          (k_proj): Linear(in_features=1024, out_features=1024, bias=True)\n",
      "          (v_proj): Linear(in_features=1024, out_features=1024, bias=True)\n",
      "          (q_proj): Linear(in_features=1024, out_features=1024, bias=True)\n",
      "          (out_proj): Linear(in_features=1024, out_features=1024, bias=True)\n",
      "        )\n",
      "        (self_attn_layer_norm): LayerNorm((1024,), eps=1e-05, elementwise_affine=True)\n",
      "        (dropout_module): FairseqDropout()\n",
      "        (activation_dropout_module): FairseqDropout()\n",
      "        (fc1): Linear(in_features=1024, out_features=4096, bias=True)\n",
      "        (fc2): Linear(in_features=4096, out_features=1024, bias=True)\n",
      "        (final_layer_norm): LayerNorm((1024,), eps=1e-05, elementwise_affine=True)\n",
      "      )\n",
      "      (3): TransformerEncoderLayer(\n",
      "        (self_attn): MultiheadAttention(\n",
      "          (dropout_module): FairseqDropout()\n",
      "          (k_proj): Linear(in_features=1024, out_features=1024, bias=True)\n",
      "          (v_proj): Linear(in_features=1024, out_features=1024, bias=True)\n",
      "          (q_proj): Linear(in_features=1024, out_features=1024, bias=True)\n",
      "          (out_proj): Linear(in_features=1024, out_features=1024, bias=True)\n",
      "        )\n",
      "        (self_attn_layer_norm): LayerNorm((1024,), eps=1e-05, elementwise_affine=True)\n",
      "        (dropout_module): FairseqDropout()\n",
      "        (activation_dropout_module): FairseqDropout()\n",
      "        (fc1): Linear(in_features=1024, out_features=4096, bias=True)\n",
      "        (fc2): Linear(in_features=4096, out_features=1024, bias=True)\n",
      "        (final_layer_norm): LayerNorm((1024,), eps=1e-05, elementwise_affine=True)\n",
      "      )\n",
      "      (4): TransformerEncoderLayer(\n",
      "        (self_attn): MultiheadAttention(\n",
      "          (dropout_module): FairseqDropout()\n",
      "          (k_proj): Linear(in_features=1024, out_features=1024, bias=True)\n",
      "          (v_proj): Linear(in_features=1024, out_features=1024, bias=True)\n",
      "          (q_proj): Linear(in_features=1024, out_features=1024, bias=True)\n",
      "          (out_proj): Linear(in_features=1024, out_features=1024, bias=True)\n",
      "        )\n",
      "        (self_attn_layer_norm): LayerNorm((1024,), eps=1e-05, elementwise_affine=True)\n",
      "        (dropout_module): FairseqDropout()\n",
      "        (activation_dropout_module): FairseqDropout()\n",
      "        (fc1): Linear(in_features=1024, out_features=4096, bias=True)\n",
      "        (fc2): Linear(in_features=4096, out_features=1024, bias=True)\n",
      "        (final_layer_norm): LayerNorm((1024,), eps=1e-05, elementwise_affine=True)\n",
      "      )\n",
      "      (5): TransformerEncoderLayer(\n",
      "        (self_attn): MultiheadAttention(\n",
      "          (dropout_module): FairseqDropout()\n",
      "          (k_proj): Linear(in_features=1024, out_features=1024, bias=True)\n",
      "          (v_proj): Linear(in_features=1024, out_features=1024, bias=True)\n",
      "          (q_proj): Linear(in_features=1024, out_features=1024, bias=True)\n",
      "          (out_proj): Linear(in_features=1024, out_features=1024, bias=True)\n",
      "        )\n",
      "        (self_attn_layer_norm): LayerNorm((1024,), eps=1e-05, elementwise_affine=True)\n",
      "        (dropout_module): FairseqDropout()\n",
      "        (activation_dropout_module): FairseqDropout()\n",
      "        (fc1): Linear(in_features=1024, out_features=4096, bias=True)\n",
      "        (fc2): Linear(in_features=4096, out_features=1024, bias=True)\n",
      "        (final_layer_norm): LayerNorm((1024,), eps=1e-05, elementwise_affine=True)\n",
      "      )\n",
      "      (6): TransformerEncoderLayer(\n",
      "        (self_attn): MultiheadAttention(\n",
      "          (dropout_module): FairseqDropout()\n",
      "          (k_proj): Linear(in_features=1024, out_features=1024, bias=True)\n",
      "          (v_proj): Linear(in_features=1024, out_features=1024, bias=True)\n",
      "          (q_proj): Linear(in_features=1024, out_features=1024, bias=True)\n",
      "          (out_proj): Linear(in_features=1024, out_features=1024, bias=True)\n",
      "        )\n",
      "        (self_attn_layer_norm): LayerNorm((1024,), eps=1e-05, elementwise_affine=True)\n",
      "        (dropout_module): FairseqDropout()\n",
      "        (activation_dropout_module): FairseqDropout()\n",
      "        (fc1): Linear(in_features=1024, out_features=4096, bias=True)\n",
      "        (fc2): Linear(in_features=4096, out_features=1024, bias=True)\n",
      "        (final_layer_norm): LayerNorm((1024,), eps=1e-05, elementwise_affine=True)\n",
      "      )\n",
      "      (7): TransformerEncoderLayer(\n",
      "        (self_attn): MultiheadAttention(\n",
      "          (dropout_module): FairseqDropout()\n",
      "          (k_proj): Linear(in_features=1024, out_features=1024, bias=True)\n",
      "          (v_proj): Linear(in_features=1024, out_features=1024, bias=True)\n",
      "          (q_proj): Linear(in_features=1024, out_features=1024, bias=True)\n",
      "          (out_proj): Linear(in_features=1024, out_features=1024, bias=True)\n",
      "        )\n",
      "        (self_attn_layer_norm): LayerNorm((1024,), eps=1e-05, elementwise_affine=True)\n",
      "        (dropout_module): FairseqDropout()\n",
      "        (activation_dropout_module): FairseqDropout()\n",
      "        (fc1): Linear(in_features=1024, out_features=4096, bias=True)\n",
      "        (fc2): Linear(in_features=4096, out_features=1024, bias=True)\n",
      "        (final_layer_norm): LayerNorm((1024,), eps=1e-05, elementwise_affine=True)\n",
      "      )\n",
      "    )\n",
      "    (layer_norm): LayerNorm((1024,), eps=1e-05, elementwise_affine=True)\n",
      "  )\n",
      "  (decoder): TransformerDecoder(\n",
      "    (dropout_module): FairseqDropout()\n",
      "    (embed_tokens): Embedding(15960, 1024, padding_idx=1)\n",
      "    (embed_positions): SinusoidalPositionalEmbedding()\n",
      "    (layers): LayerDropModuleList(\n",
      "      (0): TransformerDecoderLayer(\n",
      "        (dropout_module): FairseqDropout()\n",
      "        (self_attn): MultiheadAttention(\n",
      "          (dropout_module): FairseqDropout()\n",
      "          (k_proj): Linear(in_features=1024, out_features=1024, bias=True)\n",
      "          (v_proj): Linear(in_features=1024, out_features=1024, bias=True)\n",
      "          (q_proj): Linear(in_features=1024, out_features=1024, bias=True)\n",
      "          (out_proj): Linear(in_features=1024, out_features=1024, bias=True)\n",
      "        )\n",
      "        (activation_dropout_module): FairseqDropout()\n",
      "        (self_attn_layer_norm): LayerNorm((1024,), eps=1e-05, elementwise_affine=True)\n",
      "        (encoder_attn): MultiheadAttention(\n",
      "          (dropout_module): FairseqDropout()\n",
      "          (k_proj): Linear(in_features=1024, out_features=1024, bias=True)\n",
      "          (v_proj): Linear(in_features=1024, out_features=1024, bias=True)\n",
      "          (q_proj): Linear(in_features=1024, out_features=1024, bias=True)\n",
      "          (out_proj): Linear(in_features=1024, out_features=1024, bias=True)\n",
      "        )\n",
      "        (encoder_attn_layer_norm): LayerNorm((1024,), eps=1e-05, elementwise_affine=True)\n",
      "        (fc1): Linear(in_features=1024, out_features=4096, bias=True)\n",
      "        (fc2): Linear(in_features=4096, out_features=1024, bias=True)\n",
      "        (final_layer_norm): LayerNorm((1024,), eps=1e-05, elementwise_affine=True)\n",
      "      )\n",
      "      (1): TransformerDecoderLayer(\n",
      "        (dropout_module): FairseqDropout()\n",
      "        (self_attn): MultiheadAttention(\n",
      "          (dropout_module): FairseqDropout()\n",
      "          (k_proj): Linear(in_features=1024, out_features=1024, bias=True)\n",
      "          (v_proj): Linear(in_features=1024, out_features=1024, bias=True)\n",
      "          (q_proj): Linear(in_features=1024, out_features=1024, bias=True)\n",
      "          (out_proj): Linear(in_features=1024, out_features=1024, bias=True)\n",
      "        )\n",
      "        (activation_dropout_module): FairseqDropout()\n",
      "        (self_attn_layer_norm): LayerNorm((1024,), eps=1e-05, elementwise_affine=True)\n",
      "        (encoder_attn): MultiheadAttention(\n",
      "          (dropout_module): FairseqDropout()\n",
      "          (k_proj): Linear(in_features=1024, out_features=1024, bias=True)\n",
      "          (v_proj): Linear(in_features=1024, out_features=1024, bias=True)\n",
      "          (q_proj): Linear(in_features=1024, out_features=1024, bias=True)\n",
      "          (out_proj): Linear(in_features=1024, out_features=1024, bias=True)\n",
      "        )\n",
      "        (encoder_attn_layer_norm): LayerNorm((1024,), eps=1e-05, elementwise_affine=True)\n",
      "        (fc1): Linear(in_features=1024, out_features=4096, bias=True)\n",
      "        (fc2): Linear(in_features=4096, out_features=1024, bias=True)\n",
      "        (final_layer_norm): LayerNorm((1024,), eps=1e-05, elementwise_affine=True)\n",
      "      )\n",
      "      (2): TransformerDecoderLayer(\n",
      "        (dropout_module): FairseqDropout()\n",
      "        (self_attn): MultiheadAttention(\n",
      "          (dropout_module): FairseqDropout()\n",
      "          (k_proj): Linear(in_features=1024, out_features=1024, bias=True)\n",
      "          (v_proj): Linear(in_features=1024, out_features=1024, bias=True)\n",
      "          (q_proj): Linear(in_features=1024, out_features=1024, bias=True)\n",
      "          (out_proj): Linear(in_features=1024, out_features=1024, bias=True)\n",
      "        )\n",
      "        (activation_dropout_module): FairseqDropout()\n",
      "        (self_attn_layer_norm): LayerNorm((1024,), eps=1e-05, elementwise_affine=True)\n",
      "        (encoder_attn): MultiheadAttention(\n",
      "          (dropout_module): FairseqDropout()\n",
      "          (k_proj): Linear(in_features=1024, out_features=1024, bias=True)\n",
      "          (v_proj): Linear(in_features=1024, out_features=1024, bias=True)\n",
      "          (q_proj): Linear(in_features=1024, out_features=1024, bias=True)\n",
      "          (out_proj): Linear(in_features=1024, out_features=1024, bias=True)\n",
      "        )\n",
      "        (encoder_attn_layer_norm): LayerNorm((1024,), eps=1e-05, elementwise_affine=True)\n",
      "        (fc1): Linear(in_features=1024, out_features=4096, bias=True)\n",
      "        (fc2): Linear(in_features=4096, out_features=1024, bias=True)\n",
      "        (final_layer_norm): LayerNorm((1024,), eps=1e-05, elementwise_affine=True)\n",
      "      )\n",
      "      (3): TransformerDecoderLayer(\n",
      "        (dropout_module): FairseqDropout()\n",
      "        (self_attn): MultiheadAttention(\n",
      "          (dropout_module): FairseqDropout()\n",
      "          (k_proj): Linear(in_features=1024, out_features=1024, bias=True)\n",
      "          (v_proj): Linear(in_features=1024, out_features=1024, bias=True)\n",
      "          (q_proj): Linear(in_features=1024, out_features=1024, bias=True)\n",
      "          (out_proj): Linear(in_features=1024, out_features=1024, bias=True)\n",
      "        )\n",
      "        (activation_dropout_module): FairseqDropout()\n",
      "        (self_attn_layer_norm): LayerNorm((1024,), eps=1e-05, elementwise_affine=True)\n",
      "        (encoder_attn): MultiheadAttention(\n",
      "          (dropout_module): FairseqDropout()\n",
      "          (k_proj): Linear(in_features=1024, out_features=1024, bias=True)\n",
      "          (v_proj): Linear(in_features=1024, out_features=1024, bias=True)\n",
      "          (q_proj): Linear(in_features=1024, out_features=1024, bias=True)\n",
      "          (out_proj): Linear(in_features=1024, out_features=1024, bias=True)\n",
      "        )\n",
      "        (encoder_attn_layer_norm): LayerNorm((1024,), eps=1e-05, elementwise_affine=True)\n",
      "        (fc1): Linear(in_features=1024, out_features=4096, bias=True)\n",
      "        (fc2): Linear(in_features=4096, out_features=1024, bias=True)\n",
      "        (final_layer_norm): LayerNorm((1024,), eps=1e-05, elementwise_affine=True)\n",
      "      )\n",
      "      (4): TransformerDecoderLayer(\n",
      "        (dropout_module): FairseqDropout()\n",
      "        (self_attn): MultiheadAttention(\n",
      "          (dropout_module): FairseqDropout()\n",
      "          (k_proj): Linear(in_features=1024, out_features=1024, bias=True)\n",
      "          (v_proj): Linear(in_features=1024, out_features=1024, bias=True)\n",
      "          (q_proj): Linear(in_features=1024, out_features=1024, bias=True)\n",
      "          (out_proj): Linear(in_features=1024, out_features=1024, bias=True)\n",
      "        )\n",
      "        (activation_dropout_module): FairseqDropout()\n",
      "        (self_attn_layer_norm): LayerNorm((1024,), eps=1e-05, elementwise_affine=True)\n",
      "        (encoder_attn): MultiheadAttention(\n",
      "          (dropout_module): FairseqDropout()\n",
      "          (k_proj): Linear(in_features=1024, out_features=1024, bias=True)\n",
      "          (v_proj): Linear(in_features=1024, out_features=1024, bias=True)\n",
      "          (q_proj): Linear(in_features=1024, out_features=1024, bias=True)\n",
      "          (out_proj): Linear(in_features=1024, out_features=1024, bias=True)\n",
      "        )\n",
      "        (encoder_attn_layer_norm): LayerNorm((1024,), eps=1e-05, elementwise_affine=True)\n",
      "        (fc1): Linear(in_features=1024, out_features=4096, bias=True)\n",
      "        (fc2): Linear(in_features=4096, out_features=1024, bias=True)\n",
      "        (final_layer_norm): LayerNorm((1024,), eps=1e-05, elementwise_affine=True)\n",
      "      )\n",
      "      (5): TransformerDecoderLayer(\n",
      "        (dropout_module): FairseqDropout()\n",
      "        (self_attn): MultiheadAttention(\n",
      "          (dropout_module): FairseqDropout()\n",
      "          (k_proj): Linear(in_features=1024, out_features=1024, bias=True)\n",
      "          (v_proj): Linear(in_features=1024, out_features=1024, bias=True)\n",
      "          (q_proj): Linear(in_features=1024, out_features=1024, bias=True)\n",
      "          (out_proj): Linear(in_features=1024, out_features=1024, bias=True)\n",
      "        )\n",
      "        (activation_dropout_module): FairseqDropout()\n",
      "        (self_attn_layer_norm): LayerNorm((1024,), eps=1e-05, elementwise_affine=True)\n",
      "        (encoder_attn): MultiheadAttention(\n",
      "          (dropout_module): FairseqDropout()\n",
      "          (k_proj): Linear(in_features=1024, out_features=1024, bias=True)\n",
      "          (v_proj): Linear(in_features=1024, out_features=1024, bias=True)\n",
      "          (q_proj): Linear(in_features=1024, out_features=1024, bias=True)\n",
      "          (out_proj): Linear(in_features=1024, out_features=1024, bias=True)\n",
      "        )\n",
      "        (encoder_attn_layer_norm): LayerNorm((1024,), eps=1e-05, elementwise_affine=True)\n",
      "        (fc1): Linear(in_features=1024, out_features=4096, bias=True)\n",
      "        (fc2): Linear(in_features=4096, out_features=1024, bias=True)\n",
      "        (final_layer_norm): LayerNorm((1024,), eps=1e-05, elementwise_affine=True)\n",
      "      )\n",
      "      (6): TransformerDecoderLayer(\n",
      "        (dropout_module): FairseqDropout()\n",
      "        (self_attn): MultiheadAttention(\n",
      "          (dropout_module): FairseqDropout()\n",
      "          (k_proj): Linear(in_features=1024, out_features=1024, bias=True)\n",
      "          (v_proj): Linear(in_features=1024, out_features=1024, bias=True)\n",
      "          (q_proj): Linear(in_features=1024, out_features=1024, bias=True)\n",
      "          (out_proj): Linear(in_features=1024, out_features=1024, bias=True)\n",
      "        )\n",
      "        (activation_dropout_module): FairseqDropout()\n",
      "        (self_attn_layer_norm): LayerNorm((1024,), eps=1e-05, elementwise_affine=True)\n",
      "        (encoder_attn): MultiheadAttention(\n",
      "          (dropout_module): FairseqDropout()\n",
      "          (k_proj): Linear(in_features=1024, out_features=1024, bias=True)\n",
      "          (v_proj): Linear(in_features=1024, out_features=1024, bias=True)\n",
      "          (q_proj): Linear(in_features=1024, out_features=1024, bias=True)\n",
      "          (out_proj): Linear(in_features=1024, out_features=1024, bias=True)\n",
      "        )\n",
      "        (encoder_attn_layer_norm): LayerNorm((1024,), eps=1e-05, elementwise_affine=True)\n",
      "        (fc1): Linear(in_features=1024, out_features=4096, bias=True)\n",
      "        (fc2): Linear(in_features=4096, out_features=1024, bias=True)\n",
      "        (final_layer_norm): LayerNorm((1024,), eps=1e-05, elementwise_affine=True)\n",
      "      )\n",
      "      (7): TransformerDecoderLayer(\n",
      "        (dropout_module): FairseqDropout()\n",
      "        (self_attn): MultiheadAttention(\n",
      "          (dropout_module): FairseqDropout()\n",
      "          (k_proj): Linear(in_features=1024, out_features=1024, bias=True)\n",
      "          (v_proj): Linear(in_features=1024, out_features=1024, bias=True)\n",
      "          (q_proj): Linear(in_features=1024, out_features=1024, bias=True)\n",
      "          (out_proj): Linear(in_features=1024, out_features=1024, bias=True)\n",
      "        )\n",
      "        (activation_dropout_module): FairseqDropout()\n",
      "        (self_attn_layer_norm): LayerNorm((1024,), eps=1e-05, elementwise_affine=True)\n",
      "        (encoder_attn): MultiheadAttention(\n",
      "          (dropout_module): FairseqDropout()\n",
      "          (k_proj): Linear(in_features=1024, out_features=1024, bias=True)\n",
      "          (v_proj): Linear(in_features=1024, out_features=1024, bias=True)\n",
      "          (q_proj): Linear(in_features=1024, out_features=1024, bias=True)\n",
      "          (out_proj): Linear(in_features=1024, out_features=1024, bias=True)\n",
      "        )\n",
      "        (encoder_attn_layer_norm): LayerNorm((1024,), eps=1e-05, elementwise_affine=True)\n",
      "        (fc1): Linear(in_features=1024, out_features=4096, bias=True)\n",
      "        (fc2): Linear(in_features=4096, out_features=1024, bias=True)\n",
      "        (final_layer_norm): LayerNorm((1024,), eps=1e-05, elementwise_affine=True)\n",
      "      )\n",
      "    )\n",
      "    (layer_norm): LayerNorm((1024,), eps=1e-05, elementwise_affine=True)\n",
      "    (output_projection): Linear(in_features=1024, out_features=15960, bias=False)\n",
      "  )\n",
      ")\n"
     ]
    }
   ],
   "source": [
    "model = build_model(arch_args, task)\n",
    "logger.info(model)"
   ]
  },
  {
   "cell_type": "markdown",
   "metadata": {},
   "source": [
    "# Criterion (Loss Function)"
   ]
  },
  {
   "cell_type": "code",
   "execution_count": 71,
   "metadata": {},
   "outputs": [],
   "source": [
    "criterion = LabelSmoothedCrossEntropyCriterion(\n",
    "    smoothing=0.1,\n",
    "    ignore_index=task.target_dictionary.pad(),\n",
    ")"
   ]
  },
  {
   "cell_type": "markdown",
   "metadata": {},
   "source": [
    "# Optimizer with Scheduling Visualized"
   ]
  },
  {
   "cell_type": "code",
   "execution_count": 72,
   "metadata": {},
   "outputs": [
    {
     "data": {
      "text/plain": [
       "<matplotlib.legend.Legend at 0x7fcaa875e730>"
      ]
     },
     "execution_count": 72,
     "metadata": {},
     "output_type": "execute_result"
    },
    {
     "data": {
      "image/png": "[encoded data removed]",
      "text/plain": [
       "<Figure size 432x288 with 1 Axes>"
      ]
     },
     "metadata": {
      "needs_background": "light"
     },
     "output_type": "display_data"
    }
   ],
   "source": [
    "optimizer = NoamOpt(\n",
    "    model_size=arch_args.encoder_embed_dim, \n",
    "    factor=config.lr_factor, \n",
    "    warmup=config.lr_warmup, \n",
    "    optimizer=torch.optim.AdamW(model.parameters(), lr=0, betas=(0.9, 0.98), eps=1e-9, weight_decay=0.0001))\n",
    "plt.plot(np.arange(1, 100000), [optimizer.rate(i) for i in range(1, 100000)])\n",
    "plt.legend([f\"{optimizer.model_size}:{optimizer.warmup}\"])"
   ]
  },
  {
   "cell_type": "code",
   "execution_count": 73,
   "metadata": {},
   "outputs": [],
   "source": [
    "# fairseq's beam search generator\n",
    "# given model and input seqeunce, produce translation hypotheses by beam search\n",
    "sequence_generator = task.build_generator([model], config)"
   ]
  },
  {
   "cell_type": "markdown",
   "metadata": {},
   "source": [
    "# Main\n",
    "## Training loop"
   ]
  },
  {
   "cell_type": "code",
   "execution_count": 74,
   "metadata": {},
   "outputs": [],
   "source": [
    "model = model.to(device=device)\n",
    "criterion = criterion.to(device=device)"
   ]
  },
  {
   "cell_type": "code",
   "execution_count": 75,
   "metadata": {},
   "outputs": [
    {
     "name": "stdout",
     "output_type": "stream",
     "text": [
      "2022-03-28 20:52:38 | INFO | hw5.seq2seq | task: TranslationTask\n",
      "2022-03-28 20:52:38 | INFO | hw5.seq2seq | encoder: TransformerEncoder\n",
      "2022-03-28 20:52:38 | INFO | hw5.seq2seq | decoder: TransformerDecoder\n",
      "2022-03-28 20:52:38 | INFO | hw5.seq2seq | criterion: LabelSmoothedCrossEntropyCriterion\n",
      "2022-03-28 20:52:38 | INFO | hw5.seq2seq | optimizer: NoamOpt\n",
      "2022-03-28 20:52:38 | INFO | hw5.seq2seq | num. model params: 267,833,344 (num. trained: 267,833,344)\n",
      "2022-03-28 20:52:38 | INFO | hw5.seq2seq | max tokens per batch = 4096, accumulate steps = 8\n"
     ]
    }
   ],
   "source": [
    "logger.info(\"task: {}\".format(task.__class__.__name__))\n",
    "logger.info(\"encoder: {}\".format(model.encoder.__class__.__name__))\n",
    "logger.info(\"decoder: {}\".format(model.decoder.__class__.__name__))\n",
    "logger.info(\"criterion: {}\".format(criterion.__class__.__name__))\n",
    "logger.info(\"optimizer: {}\".format(optimizer.__class__.__name__))\n",
    "logger.info(\n",
    "    \"num. model params: {:,} (num. trained: {:,})\".format(\n",
    "        sum(p.numel() for p in model.parameters()),\n",
    "        sum(p.numel() for p in model.parameters() if p.requires_grad),\n",
    "    )\n",
    ")\n",
    "logger.info(f\"max tokens per batch = {config.max_tokens}, accumulate steps = {config.accum_steps}\")"
   ]
  },
  {
   "cell_type": "code",
   "execution_count": 76,
   "metadata": {},
   "outputs": [
    {
     "name": "stdout",
     "output_type": "stream",
     "text": [
      "2022-03-28 20:52:38 | INFO | hw5.seq2seq | no checkpoints found at checkpoints/transformer-big/checkpoint_last.pt!\n"
     ]
    },
    {
     "name": "stderr",
     "output_type": "stream",
     "text": [
      "                                                                           "
     ]
    },
    {
     "name": "stdout",
     "output_type": "stream",
     "text": [
      "2022-03-28 21:11:39 | INFO | hw5.seq2seq | training loss: 7.1988\n",
      "2022-03-28 21:11:39 | INFO | hw5.seq2seq | begin validation\n"
     ]
    },
    {
     "name": "stderr",
     "output_type": "stream",
     "text": [
      "validation:   0%|          | 0/33 [00:00<?, ?it/s, valid_loss=4.56]/home/tienyi/.local/lib/python3.8/site-packages/fairseq/search.py:140: UserWarning: __floordiv__ is deprecated, and its behavior will change in a future version of pytorch. It currently rounds toward 0 (like the 'trunc' function NOT 'floor'). This results in incorrect rounding for negative values. To keep the current behavior, use torch.div(a, b, rounding_mode='trunc'), or for actual floor division, use torch.div(a, b, rounding_mode='floor').\n",
      "  beams_buf = indices_buf // vocab_size\n",
      "/home/tienyi/.local/lib/python3.8/site-packages/fairseq/sequence_generator.py:657: UserWarning: __floordiv__ is deprecated, and its behavior will change in a future version of pytorch. It currently rounds toward 0 (like the 'trunc' function NOT 'floor'). This results in incorrect rounding for negative values. To keep the current behavior, use torch.div(a, b, rounding_mode='trunc'), or for actual floor division, use torch.div(a, b, rounding_mode='floor').\n",
      "  unfin_idx = idx // beam_size\n",
      "                                                                            \r"
     ]
    },
    {
     "name": "stdout",
     "output_type": "stream",
     "text": [
      "2022-03-28 21:12:19 | INFO | hw5.seq2seq | example source: sometimes you will trip .\n",
      "2022-03-28 21:12:19 | INFO | hw5.seq2seq | example hypothesis: 有時 , 你就會開始 。\n",
      "2022-03-28 21:12:19 | INFO | hw5.seq2seq | example reference: 有些時候你會被絆倒 。\n",
      "2022-03-28 21:12:19 | INFO | hw5.seq2seq | validation loss:\t5.9100\n",
      "2022-03-28 21:12:19 | INFO | hw5.seq2seq | BLEU = 6.20 35.1/13.0/5.1/2.2 (BP = 0.738 ratio = 0.767 hyp_len = 85723 ref_len = 111811)\n",
      "2022-03-28 21:12:21 | INFO | hw5.seq2seq | saved epoch checkpoint: /home/tienyi/ML/HW05/checkpoints/transformer-big/checkpoint1.pt\n",
      "2022-03-28 21:12:22 | INFO | hw5.seq2seq | end of epoch 1\n"
     ]
    },
    {
     "name": "stderr",
     "output_type": "stream",
     "text": [
      "                                                                           "
     ]
    },
    {
     "name": "stdout",
     "output_type": "stream",
     "text": [
      "2022-03-28 21:31:24 | INFO | hw5.seq2seq | training loss: 4.9731\n",
      "2022-03-28 21:31:24 | INFO | hw5.seq2seq | begin validation\n"
     ]
    },
    {
     "name": "stderr",
     "output_type": "stream",
     "text": [
      "                                                                            \r"
     ]
    },
    {
     "name": "stdout",
     "output_type": "stream",
     "text": [
      "2022-03-28 21:32:03 | INFO | hw5.seq2seq | example source: you should have started with z .\n",
      "2022-03-28 21:32:03 | INFO | hw5.seq2seq | example hypothesis: 你應該從z開始\n",
      "2022-03-28 21:32:03 | INFO | hw5.seq2seq | example reference: 要從z開始讀 。\n",
      "2022-03-28 21:32:03 | INFO | hw5.seq2seq | validation loss:\t4.4567\n",
      "2022-03-28 21:32:03 | INFO | hw5.seq2seq | BLEU = 19.37 54.4/28.4/15.4/8.9 (BP = 0.903 ratio = 0.908 hyp_len = 101478 ref_len = 111811)\n",
      "2022-03-28 21:32:06 | INFO | hw5.seq2seq | saved epoch checkpoint: /home/tienyi/ML/HW05/checkpoints/transformer-big/checkpoint2.pt\n",
      "2022-03-28 21:32:10 | INFO | hw5.seq2seq | end of epoch 2\n"
     ]
    },
    {
     "name": "stderr",
     "output_type": "stream",
     "text": [
      "                                                                           "
     ]
    },
    {
     "name": "stdout",
     "output_type": "stream",
     "text": [
      "2022-03-28 21:51:11 | INFO | hw5.seq2seq | training loss: 4.0142\n",
      "2022-03-28 21:51:11 | INFO | hw5.seq2seq | begin validation\n"
     ]
    },
    {
     "name": "stderr",
     "output_type": "stream",
     "text": [
      "                                                                            \r"
     ]
    },
    {
     "name": "stdout",
     "output_type": "stream",
     "text": [
      "2022-03-28 21:51:56 | INFO | hw5.seq2seq | example source: bruno giussani: alice , basically what you're saying , the talk is , unless wealthy nations start cutting 10 percent per year the emissions now , this year , not in 2020 or '25 , we are going to go straight to the fourplusdegree scenario .\n",
      "2022-03-28 21:51:56 | INFO | hw5.seq2seq | example hypothesis: 布魯諾·吉尼尼:阿里斯 , 基本上你所說的 , 演講是 , 除非富裕國家在每年排放量開始減少百分之十 , 今年 , 不是在20或25年 , 我們將會直接走向四微的情景 。\n",
      "2022-03-28 21:51:56 | INFO | hw5.seq2seq | example reference: 艾莉絲 , 你演講提到除非富國每年減排10%現在今年開始不是2020或2025年否則我們將直入溫升4°c\n",
      "2022-03-28 21:51:56 | INFO | hw5.seq2seq | validation loss:\t4.0074\n",
      "2022-03-28 21:51:56 | INFO | hw5.seq2seq | BLEU = 23.11 57.7/31.7/18.3/11.2 (BP = 0.935 ratio = 0.937 hyp_len = 104746 ref_len = 111811)\n",
      "2022-03-28 21:51:59 | INFO | hw5.seq2seq | saved epoch checkpoint: /home/tienyi/ML/HW05/checkpoints/transformer-big/checkpoint3.pt\n",
      "2022-03-28 21:52:02 | INFO | hw5.seq2seq | end of epoch 3\n"
     ]
    },
    {
     "name": "stderr",
     "output_type": "stream",
     "text": [
      "                                                                           "
     ]
    },
    {
     "name": "stdout",
     "output_type": "stream",
     "text": [
      "2022-03-28 22:11:00 | INFO | hw5.seq2seq | training loss: 3.6904\n",
      "2022-03-28 22:11:00 | INFO | hw5.seq2seq | begin validation\n"
     ]
    },
    {
     "name": "stderr",
     "output_type": "stream",
     "text": [
      "                                                                            \r"
     ]
    },
    {
     "name": "stdout",
     "output_type": "stream",
     "text": [
      "2022-03-28 22:11:38 | INFO | hw5.seq2seq | example source: you've forgotten all about the elephant haven't you ? \"\n",
      "2022-03-28 22:11:38 | INFO | hw5.seq2seq | example hypothesis: 你忘了關於大象沒有你嗎 ? 」\n",
      "2022-03-28 22:11:38 | INFO | hw5.seq2seq | example reference: 難道你忘了大象嗎 ?\n",
      "2022-03-28 22:11:38 | INFO | hw5.seq2seq | validation loss:\t3.8355\n",
      "2022-03-28 22:11:38 | INFO | hw5.seq2seq | BLEU = 24.72 59.0/33.5/20.0/12.6 (BP = 0.932 ratio = 0.934 hyp_len = 104403 ref_len = 111811)\n",
      "2022-03-28 22:11:42 | INFO | hw5.seq2seq | saved epoch checkpoint: /home/tienyi/ML/HW05/checkpoints/transformer-big/checkpoint4.pt\n",
      "2022-03-28 22:11:45 | INFO | hw5.seq2seq | end of epoch 4\n"
     ]
    },
    {
     "name": "stderr",
     "output_type": "stream",
     "text": [
      "                                                                           "
     ]
    },
    {
     "name": "stdout",
     "output_type": "stream",
     "text": [
      "2022-03-28 22:30:44 | INFO | hw5.seq2seq | training loss: 3.5219\n",
      "2022-03-28 22:30:44 | INFO | hw5.seq2seq | begin validation\n"
     ]
    },
    {
     "name": "stderr",
     "output_type": "stream",
     "text": [
      "                                                                            \r"
     ]
    },
    {
     "name": "stdout",
     "output_type": "stream",
     "text": [
      "2022-03-28 22:31:23 | INFO | hw5.seq2seq | example source: in this case , opposites attract .\n",
      "2022-03-28 22:31:23 | INFO | hw5.seq2seq | example hypothesis: 在這個例子中 , 異性會吸引\n",
      "2022-03-28 22:31:23 | INFO | hw5.seq2seq | example reference: 在這種情形下 , 異性就會相吸\n",
      "2022-03-28 22:31:23 | INFO | hw5.seq2seq | validation loss:\t3.7362\n",
      "2022-03-28 22:31:23 | INFO | hw5.seq2seq | BLEU = 25.58 59.1/33.8/20.3/12.8 (BP = 0.953 ratio = 0.954 hyp_len = 106695 ref_len = 111811)\n",
      "2022-03-28 22:31:26 | INFO | hw5.seq2seq | saved epoch checkpoint: /home/tienyi/ML/HW05/checkpoints/transformer-big/checkpoint5.pt\n",
      "2022-03-28 22:31:29 | INFO | hw5.seq2seq | end of epoch 5\n"
     ]
    },
    {
     "name": "stderr",
     "output_type": "stream",
     "text": [
      "                                                                           "
     ]
    },
    {
     "name": "stdout",
     "output_type": "stream",
     "text": [
      "2022-03-28 22:50:28 | INFO | hw5.seq2seq | training loss: 3.4080\n",
      "2022-03-28 22:50:28 | INFO | hw5.seq2seq | begin validation\n"
     ]
    },
    {
     "name": "stderr",
     "output_type": "stream",
     "text": [
      "                                                                            \r"
     ]
    },
    {
     "name": "stdout",
     "output_type": "stream",
     "text": [
      "2022-03-28 22:51:08 | INFO | hw5.seq2seq | example source: maybe some of them are here now .\n",
      "2022-03-28 22:51:08 | INFO | hw5.seq2seq | example hypothesis: 或許有些現在就在這裡了 。\n",
      "2022-03-28 22:51:08 | INFO | hw5.seq2seq | example reference: 現在也許他們其中的一些也坐在這裡 。\n",
      "2022-03-28 22:51:08 | INFO | hw5.seq2seq | validation loss:\t3.6200\n",
      "2022-03-28 22:51:08 | INFO | hw5.seq2seq | BLEU = 26.60 58.6/33.7/20.4/13.1 (BP = 0.987 ratio = 0.987 hyp_len = 110381 ref_len = 111811)\n",
      "2022-03-28 22:51:12 | INFO | hw5.seq2seq | saved epoch checkpoint: /home/tienyi/ML/HW05/checkpoints/transformer-big/checkpoint6.pt\n",
      "2022-03-28 22:51:15 | INFO | hw5.seq2seq | end of epoch 6\n"
     ]
    },
    {
     "name": "stderr",
     "output_type": "stream",
     "text": [
      "                                                                           "
     ]
    },
    {
     "name": "stdout",
     "output_type": "stream",
     "text": [
      "2022-03-28 23:10:14 | INFO | hw5.seq2seq | training loss: 3.3220\n",
      "2022-03-28 23:10:14 | INFO | hw5.seq2seq | begin validation\n"
     ]
    },
    {
     "name": "stderr",
     "output_type": "stream",
     "text": [
      "                                                                            \r"
     ]
    },
    {
     "name": "stdout",
     "output_type": "stream",
     "text": [
      "2022-03-28 23:10:54 | INFO | hw5.seq2seq | example source: the mayor defined the city's new normal as one of permanent drought .\n",
      "2022-03-28 23:10:54 | INFO | hw5.seq2seq | example hypothesis: 市長把城市的新常態定義為永久乾旱之一 。\n",
      "2022-03-28 23:10:54 | INFO | hw5.seq2seq | example reference: 市長把該市的新常態定義為永久的乾旱 。\n",
      "2022-03-28 23:10:54 | INFO | hw5.seq2seq | validation loss:\t3.5536\n",
      "2022-03-28 23:10:54 | INFO | hw5.seq2seq | BLEU = 26.92 59.3/34.4/21.0/13.6 (BP = 0.975 ratio = 0.975 hyp_len = 109065 ref_len = 111811)\n",
      "2022-03-28 23:10:57 | INFO | hw5.seq2seq | saved epoch checkpoint: /home/tienyi/ML/HW05/checkpoints/transformer-big/checkpoint7.pt\n",
      "2022-03-28 23:11:00 | INFO | hw5.seq2seq | end of epoch 7\n"
     ]
    },
    {
     "name": "stderr",
     "output_type": "stream",
     "text": [
      "                                                                           "
     ]
    },
    {
     "name": "stdout",
     "output_type": "stream",
     "text": [
      "2022-03-28 23:30:00 | INFO | hw5.seq2seq | training loss: 3.2456\n",
      "2022-03-28 23:30:00 | INFO | hw5.seq2seq | begin validation\n"
     ]
    },
    {
     "name": "stderr",
     "output_type": "stream",
     "text": [
      "                                                                            \r"
     ]
    },
    {
     "name": "stdout",
     "output_type": "stream",
     "text": [
      "2022-03-28 23:30:39 | INFO | hw5.seq2seq | example source: the idea is very , very simple .\n",
      "2022-03-28 23:30:39 | INFO | hw5.seq2seq | example hypothesis: 這個想法非常非常簡單 。\n",
      "2022-03-28 23:30:39 | INFO | hw5.seq2seq | example reference: 這個主意其實很簡單\n",
      "2022-03-28 23:30:39 | INFO | hw5.seq2seq | validation loss:\t3.4987\n",
      "2022-03-28 23:30:39 | INFO | hw5.seq2seq | BLEU = 27.43 59.7/34.9/21.5/13.9 (BP = 0.976 ratio = 0.977 hyp_len = 109193 ref_len = 111811)\n",
      "2022-03-28 23:30:43 | INFO | hw5.seq2seq | saved epoch checkpoint: /home/tienyi/ML/HW05/checkpoints/transformer-big/checkpoint8.pt\n",
      "2022-03-28 23:30:46 | INFO | hw5.seq2seq | end of epoch 8\n"
     ]
    },
    {
     "name": "stderr",
     "output_type": "stream",
     "text": [
      "                                                                           "
     ]
    },
    {
     "name": "stdout",
     "output_type": "stream",
     "text": [
      "2022-03-28 23:49:44 | INFO | hw5.seq2seq | training loss: 3.1681\n",
      "2022-03-28 23:49:44 | INFO | hw5.seq2seq | begin validation\n"
     ]
    },
    {
     "name": "stderr",
     "output_type": "stream",
     "text": [
      "                                                                            \r"
     ]
    },
    {
     "name": "stdout",
     "output_type": "stream",
     "text": [
      "2022-03-28 23:50:24 | INFO | hw5.seq2seq | example source: and it's about our fixation with celebrity and celebrity culture , and the importance of the image: celebrity is born of photography .\n",
      "2022-03-28 23:50:24 | INFO | hw5.seq2seq | example hypothesis: 這是關於我們與名人及名人的文化的修正 , 圖片的重要性:名人是天生的攝影 。\n",
      "2022-03-28 23:50:24 | INFO | hw5.seq2seq | example reference: 就是我們對名人和名人文化的迷戀以及圖像的重要性 。 名人是從攝影中產生的 。\n",
      "2022-03-28 23:50:24 | INFO | hw5.seq2seq | validation loss:\t3.4376\n",
      "2022-03-28 23:50:24 | INFO | hw5.seq2seq | BLEU = 27.81 60.3/35.5/22.1/14.5 (BP = 0.966 ratio = 0.967 hyp_len = 108121 ref_len = 111811)\n",
      "2022-03-28 23:50:28 | INFO | hw5.seq2seq | saved epoch checkpoint: /home/tienyi/ML/HW05/checkpoints/transformer-big/checkpoint9.pt\n",
      "2022-03-28 23:50:31 | INFO | hw5.seq2seq | end of epoch 9\n"
     ]
    },
    {
     "name": "stderr",
     "output_type": "stream",
     "text": [
      "                                                                            "
     ]
    },
    {
     "name": "stdout",
     "output_type": "stream",
     "text": [
      "2022-03-29 00:09:30 | INFO | hw5.seq2seq | training loss: 3.0664\n",
      "2022-03-29 00:09:30 | INFO | hw5.seq2seq | begin validation\n"
     ]
    },
    {
     "name": "stderr",
     "output_type": "stream",
     "text": [
      "                                                                            \r"
     ]
    },
    {
     "name": "stdout",
     "output_type": "stream",
     "text": [
      "2022-03-29 00:10:10 | INFO | hw5.seq2seq | example source: see that chair there ? the orange one ? that's the organic chair . 1940 .\n",
      "2022-03-29 00:10:10 | INFO | hw5.seq2seq | example hypothesis: 看到那張椅子了嗎 ? 橘色的那張 ? 那是有機椅子 。 1940年 。\n",
      "2022-03-29 00:10:10 | INFO | hw5.seq2seq | example reference: 看見那張椅子嗎 ? 橘黃色那個 ? 這是有機椅子 。 一九四零年 。\n",
      "2022-03-29 00:10:10 | INFO | hw5.seq2seq | validation loss:\t3.3645\n",
      "2022-03-29 00:10:10 | INFO | hw5.seq2seq | BLEU = 28.38 60.1/35.7/22.3/14.6 (BP = 0.981 ratio = 0.982 hyp_len = 109757 ref_len = 111811)\n",
      "2022-03-29 00:10:14 | INFO | hw5.seq2seq | saved epoch checkpoint: /home/tienyi/ML/HW05/checkpoints/transformer-big/checkpoint10.pt\n",
      "2022-03-29 00:10:17 | INFO | hw5.seq2seq | end of epoch 10\n"
     ]
    },
    {
     "name": "stderr",
     "output_type": "stream",
     "text": [
      "                                                                            "
     ]
    },
    {
     "name": "stdout",
     "output_type": "stream",
     "text": [
      "2022-03-29 00:29:17 | INFO | hw5.seq2seq | training loss: 2.9728\n",
      "2022-03-29 00:29:17 | INFO | hw5.seq2seq | begin validation\n"
     ]
    },
    {
     "name": "stderr",
     "output_type": "stream",
     "text": [
      "                                                                            \r"
     ]
    },
    {
     "name": "stdout",
     "output_type": "stream",
     "text": [
      "2022-03-29 00:29:57 | INFO | hw5.seq2seq | example source: they did this because this was common practice in medicine , even though it was obvious that this was not a good idea .\n",
      "2022-03-29 00:29:57 | INFO | hw5.seq2seq | example hypothesis: 他們這麼做是因為在醫學上這是普遍的做法 , 雖然很明顯這並不是個好主意 。\n",
      "2022-03-29 00:29:57 | INFO | hw5.seq2seq | example reference: 他們這樣做 , 是因為醫學上這是通常的手續 , 即使很明顯的 , 並不是個好主意 。\n",
      "2022-03-29 00:29:57 | INFO | hw5.seq2seq | validation loss:\t3.3270\n",
      "2022-03-29 00:29:57 | INFO | hw5.seq2seq | BLEU = 28.79 60.9/36.5/23.1/15.3 (BP = 0.967 ratio = 0.967 hyp_len = 108171 ref_len = 111811)\n",
      "2022-03-29 00:30:01 | INFO | hw5.seq2seq | saved epoch checkpoint: /home/tienyi/ML/HW05/checkpoints/transformer-big/checkpoint11.pt\n",
      "2022-03-29 00:30:04 | INFO | hw5.seq2seq | end of epoch 11\n"
     ]
    },
    {
     "name": "stderr",
     "output_type": "stream",
     "text": [
      "                                                                            "
     ]
    },
    {
     "name": "stdout",
     "output_type": "stream",
     "text": [
      "2022-03-29 00:49:06 | INFO | hw5.seq2seq | training loss: 2.8927\n",
      "2022-03-29 00:49:06 | INFO | hw5.seq2seq | begin validation\n"
     ]
    },
    {
     "name": "stderr",
     "output_type": "stream",
     "text": [
      "                                                                            \r"
     ]
    },
    {
     "name": "stdout",
     "output_type": "stream",
     "text": [
      "2022-03-29 00:49:45 | INFO | hw5.seq2seq | example source: we're supported in our demands by global bodies like unaids , the world health organization and amnesty international .\n",
      "2022-03-29 00:49:45 | INFO | hw5.seq2seq | example hypothesis: 我們受到聯合國愛滋病組織、世界衛生組織和國際特赦組織的支持 。\n",
      "2022-03-29 00:49:45 | INFO | hw5.seq2seq | example reference: 支持我們的是全球性機構 , 像聯合國愛滋規劃署、世界衛生組織 , 和國際特赦組織 。\n",
      "2022-03-29 00:49:45 | INFO | hw5.seq2seq | validation loss:\t3.2945\n",
      "2022-03-29 00:49:45 | INFO | hw5.seq2seq | BLEU = 29.52 61.0/36.7/23.3/15.6 (BP = 0.983 ratio = 0.983 hyp_len = 109938 ref_len = 111811)\n",
      "2022-03-29 00:49:49 | INFO | hw5.seq2seq | saved epoch checkpoint: /home/tienyi/ML/HW05/checkpoints/transformer-big/checkpoint12.pt\n",
      "2022-03-29 00:49:52 | INFO | hw5.seq2seq | end of epoch 12\n"
     ]
    },
    {
     "name": "stderr",
     "output_type": "stream",
     "text": [
      "                                                                            "
     ]
    },
    {
     "name": "stdout",
     "output_type": "stream",
     "text": [
      "2022-03-29 01:08:52 | INFO | hw5.seq2seq | training loss: 2.8270\n",
      "2022-03-29 01:08:52 | INFO | hw5.seq2seq | begin validation\n"
     ]
    },
    {
     "name": "stderr",
     "output_type": "stream",
     "text": [
      "                                                                            \r"
     ]
    },
    {
     "name": "stdout",
     "output_type": "stream",
     "text": [
      "2022-03-29 01:09:33 | INFO | hw5.seq2seq | example source: so we need students to stick around long enough through the difficult parts to appreciate the beauty when it all ties together .\n",
      "2022-03-29 01:09:33 | INFO | hw5.seq2seq | example hypothesis: 所以 , 我們需要學生在困難的部分上堅持得夠久 , 才能欣賞美 。\n",
      "2022-03-29 01:09:33 | INFO | hw5.seq2seq | example reference: 所以我們需要學生能夠撐久一點 , 撐過困難的部分 , 才能在一切結合起來時欣賞它的美麗 。\n",
      "2022-03-29 01:09:33 | INFO | hw5.seq2seq | validation loss:\t3.2602\n",
      "2022-03-29 01:09:33 | INFO | hw5.seq2seq | BLEU = 29.98 60.8/36.9/23.6/15.9 (BP = 0.990 ratio = 0.990 hyp_len = 110670 ref_len = 111811)\n",
      "2022-03-29 01:09:36 | INFO | hw5.seq2seq | saved epoch checkpoint: /home/tienyi/ML/HW05/checkpoints/transformer-big/checkpoint13.pt\n",
      "2022-03-29 01:09:40 | INFO | hw5.seq2seq | end of epoch 13\n"
     ]
    },
    {
     "name": "stderr",
     "output_type": "stream",
     "text": [
      "                                                                            "
     ]
    },
    {
     "name": "stdout",
     "output_type": "stream",
     "text": [
      "2022-03-29 01:28:39 | INFO | hw5.seq2seq | training loss: 2.7667\n",
      "2022-03-29 01:28:39 | INFO | hw5.seq2seq | begin validation\n"
     ]
    },
    {
     "name": "stderr",
     "output_type": "stream",
     "text": [
      "                                                                            \r"
     ]
    },
    {
     "name": "stdout",
     "output_type": "stream",
     "text": [
      "2022-03-29 01:29:19 | INFO | hw5.seq2seq | example source: the real problems are what i like to call the m&amp ; ms , the managers and the meetings .\n",
      "2022-03-29 01:29:19 | INFO | hw5.seq2seq | example hypothesis: 真正的問題是我所謂的 「 m&amp ; ms 」 , 經理和會議 。\n",
      "2022-03-29 01:29:19 | INFO | hw5.seq2seq | example reference: 真正的問題我稱做是m&amp ; m's經理和會議\n",
      "2022-03-29 01:29:19 | INFO | hw5.seq2seq | validation loss:\t3.2374\n",
      "2022-03-29 01:29:19 | INFO | hw5.seq2seq | BLEU = 30.37 61.2/37.3/24.1/16.4 (BP = 0.985 ratio = 0.985 hyp_len = 110147 ref_len = 111811)\n",
      "2022-03-29 01:29:23 | INFO | hw5.seq2seq | saved epoch checkpoint: /home/tienyi/ML/HW05/checkpoints/transformer-big/checkpoint14.pt\n",
      "2022-03-29 01:29:26 | INFO | hw5.seq2seq | end of epoch 14\n"
     ]
    },
    {
     "name": "stderr",
     "output_type": "stream",
     "text": [
      "                                                                            "
     ]
    },
    {
     "name": "stdout",
     "output_type": "stream",
     "text": [
      "2022-03-29 01:48:25 | INFO | hw5.seq2seq | training loss: 2.7115\n",
      "2022-03-29 01:48:25 | INFO | hw5.seq2seq | begin validation\n"
     ]
    },
    {
     "name": "stderr",
     "output_type": "stream",
     "text": [
      "                                                                            \r"
     ]
    },
    {
     "name": "stdout",
     "output_type": "stream",
     "text": [
      "2022-03-29 01:49:05 | INFO | hw5.seq2seq | example source: maybe we wouldn't buy light fittings , but we'd pay for the service of light , and the manufacturers would recover the materials and change the light fittings when we had more efficient products .\n",
      "2022-03-29 01:49:05 | INFO | hw5.seq2seq | example hypothesis: 也許我們不會買光線 , 但我們會付錢買光 , 製造商會還原材料 , 當我們有更有效率的產品時 , 改變燈光配置 。\n",
      "2022-03-29 01:49:05 | INFO | hw5.seq2seq | example reference: 可能我們不買燈具 , 但我們買 「 燈光 」 的服務 , 廠商就負責管理回收這些材料 , 如果有更環保的燈具 , 就由他們更換 。\n",
      "2022-03-29 01:49:05 | INFO | hw5.seq2seq | validation loss:\t3.2208\n",
      "2022-03-29 01:49:05 | INFO | hw5.seq2seq | BLEU = 30.36 61.7/37.8/24.4/16.6 (BP = 0.973 ratio = 0.974 hyp_len = 108861 ref_len = 111811)\n",
      "2022-03-29 01:49:08 | INFO | hw5.seq2seq | saved epoch checkpoint: /home/tienyi/ML/HW05/checkpoints/transformer-big/checkpoint15.pt\n",
      "2022-03-29 01:49:08 | INFO | hw5.seq2seq | end of epoch 15\n"
     ]
    },
    {
     "name": "stderr",
     "output_type": "stream",
     "text": [
      "                                                                            "
     ]
    },
    {
     "name": "stdout",
     "output_type": "stream",
     "text": [
      "2022-03-29 02:08:10 | INFO | hw5.seq2seq | training loss: 2.6609\n",
      "2022-03-29 02:08:10 | INFO | hw5.seq2seq | begin validation\n"
     ]
    },
    {
     "name": "stderr",
     "output_type": "stream",
     "text": [
      "                                                                            \r"
     ]
    },
    {
     "name": "stdout",
     "output_type": "stream",
     "text": [
      "2022-03-29 02:08:51 | INFO | hw5.seq2seq | example source: rm: ok , here we go , ok .\n",
      "2022-03-29 02:08:51 | INFO | hw5.seq2seq | example hypothesis: 馬斯:好 , 來囉 , 好 。\n",
      "2022-03-29 02:08:51 | INFO | hw5.seq2seq | example reference: 馬斯:好 , 我們來 。\n",
      "2022-03-29 02:08:51 | INFO | hw5.seq2seq | validation loss:\t3.2032\n",
      "2022-03-29 02:08:51 | INFO | hw5.seq2seq | BLEU = 30.95 61.0/37.4/24.3/16.7 (BP = 0.997 ratio = 0.997 hyp_len = 111482 ref_len = 111811)\n",
      "2022-03-29 02:08:55 | INFO | hw5.seq2seq | saved epoch checkpoint: /home/tienyi/ML/HW05/checkpoints/transformer-big/checkpoint16.pt\n",
      "2022-03-29 02:08:58 | INFO | hw5.seq2seq | end of epoch 16\n"
     ]
    },
    {
     "name": "stderr",
     "output_type": "stream",
     "text": [
      "                                                                            "
     ]
    },
    {
     "name": "stdout",
     "output_type": "stream",
     "text": [
      "2022-03-29 02:27:57 | INFO | hw5.seq2seq | training loss: 2.6176\n",
      "2022-03-29 02:27:57 | INFO | hw5.seq2seq | begin validation\n"
     ]
    },
    {
     "name": "stderr",
     "output_type": "stream",
     "text": [
      "                                                                            \r"
     ]
    },
    {
     "name": "stdout",
     "output_type": "stream",
     "text": [
      "2022-03-29 02:28:36 | INFO | hw5.seq2seq | example source: and lots of people watch .\n",
      "2022-03-29 02:28:36 | INFO | hw5.seq2seq | example hypothesis: 而很多人會觀看\n",
      "2022-03-29 02:28:36 | INFO | hw5.seq2seq | example reference: 而很多人看了\n",
      "2022-03-29 02:28:36 | INFO | hw5.seq2seq | validation loss:\t3.1892\n",
      "2022-03-29 02:28:36 | INFO | hw5.seq2seq | BLEU = 31.02 61.9/38.3/25.1/17.4 (BP = 0.973 ratio = 0.974 hyp_len = 108871 ref_len = 111811)\n",
      "2022-03-29 02:28:40 | INFO | hw5.seq2seq | saved epoch checkpoint: /home/tienyi/ML/HW05/checkpoints/transformer-big/checkpoint17.pt\n",
      "2022-03-29 02:28:43 | INFO | hw5.seq2seq | end of epoch 17\n"
     ]
    },
    {
     "name": "stderr",
     "output_type": "stream",
     "text": [
      "                                                                            "
     ]
    },
    {
     "name": "stdout",
     "output_type": "stream",
     "text": [
      "2022-03-29 02:47:43 | INFO | hw5.seq2seq | training loss: 2.5731\n",
      "2022-03-29 02:47:43 | INFO | hw5.seq2seq | begin validation\n"
     ]
    },
    {
     "name": "stderr",
     "output_type": "stream",
     "text": [
      "                                                                            \r"
     ]
    },
    {
     "name": "stdout",
     "output_type": "stream",
     "text": [
      "2022-03-29 02:48:23 | INFO | hw5.seq2seq | example source: we call them artists , musicians , sculptors , painters , cinematographers they're all pattern creators .\n",
      "2022-03-29 02:48:23 | INFO | hw5.seq2seq | example hypothesis: 我們稱他們為藝術家、音樂家、雕塑家、畫家、電影製作人 , 都是模式創作者 。\n",
      "2022-03-29 02:48:23 | INFO | hw5.seq2seq | example reference: 我們稱他們為藝術家、音樂家、雕塑家、畫家、攝影師他們都是模式創作者 。\n",
      "2022-03-29 02:48:23 | INFO | hw5.seq2seq | validation loss:\t3.1632\n",
      "2022-03-29 02:48:23 | INFO | hw5.seq2seq | BLEU = 31.52 61.6/38.2/25.2/17.5 (BP = 0.987 ratio = 0.987 hyp_len = 110382 ref_len = 111811)\n",
      "2022-03-29 02:48:26 | INFO | hw5.seq2seq | saved epoch checkpoint: /home/tienyi/ML/HW05/checkpoints/transformer-big/checkpoint18.pt\n",
      "2022-03-29 02:48:29 | INFO | hw5.seq2seq | end of epoch 18\n"
     ]
    },
    {
     "name": "stderr",
     "output_type": "stream",
     "text": [
      "                                                                            "
     ]
    },
    {
     "name": "stdout",
     "output_type": "stream",
     "text": [
      "2022-03-29 03:07:33 | INFO | hw5.seq2seq | training loss: 2.5365\n",
      "2022-03-29 03:07:33 | INFO | hw5.seq2seq | begin validation\n"
     ]
    },
    {
     "name": "stderr",
     "output_type": "stream",
     "text": [
      "                                                                            \r"
     ]
    },
    {
     "name": "stdout",
     "output_type": "stream",
     "text": [
      "2022-03-29 03:08:14 | INFO | hw5.seq2seq | example source: what's cool about kuuk thaayorre is , in kuuk thaayorre , they don't use words like \" left \" and \" right , \" and instead , everything is in cardinal directions: north , south , east and west .\n",
      "2022-03-29 03:08:14 | INFO | hw5.seq2seq | example hypothesis: 庫克薩優里很酷的一點是 , 在庫克薩優里 , 他們不會用 「 左 」 及 「 右 」 等字眼 , 取而代之的是 , 北、南、東、西 。\n",
      "2022-03-29 03:08:14 | INFO | hw5.seq2seq | example reference: 庫克薩優里族很酷的一點是 , 在庫克薩優里語中 , 他們不用 「 左 」 、 「 右 」 這些字 , 一切都是用基本的方向:北、南、東、西 。\n",
      "2022-03-29 03:08:14 | INFO | hw5.seq2seq | validation loss:\t3.1572\n",
      "2022-03-29 03:08:14 | INFO | hw5.seq2seq | BLEU = 31.56 60.9/37.8/24.9/17.3 (BP = 1.000 ratio = 1.005 hyp_len = 112421 ref_len = 111811)\n",
      "2022-03-29 03:08:18 | INFO | hw5.seq2seq | saved epoch checkpoint: /home/tienyi/ML/HW05/checkpoints/transformer-big/checkpoint19.pt\n",
      "2022-03-29 03:08:21 | INFO | hw5.seq2seq | end of epoch 19\n"
     ]
    },
    {
     "name": "stderr",
     "output_type": "stream",
     "text": [
      "                                                                            "
     ]
    },
    {
     "name": "stdout",
     "output_type": "stream",
     "text": [
      "2022-03-29 03:27:20 | INFO | hw5.seq2seq | training loss: 2.5034\n",
      "2022-03-29 03:27:20 | INFO | hw5.seq2seq | begin validation\n"
     ]
    },
    {
     "name": "stderr",
     "output_type": "stream",
     "text": [
      "                                                                            \r"
     ]
    },
    {
     "name": "stdout",
     "output_type": "stream",
     "text": [
      "2022-03-29 03:28:00 | INFO | hw5.seq2seq | example source: so in all , we are very confident that we have actually determined what the target is .\n",
      "2022-03-29 03:28:00 | INFO | hw5.seq2seq | example hypothesis: 總而言之 , 我們非常有信心能確定目標是什麼 。\n",
      "2022-03-29 03:28:00 | INFO | hw5.seq2seq | example reference: 簡言之我們相當有信心我們已經找出真正的特定攻擊目標\n",
      "2022-03-29 03:28:00 | INFO | hw5.seq2seq | validation loss:\t3.1482\n",
      "2022-03-29 03:28:00 | INFO | hw5.seq2seq | BLEU = 31.82 61.8/38.5/25.5/17.9 (BP = 0.985 ratio = 0.985 hyp_len = 110116 ref_len = 111811)\n",
      "2022-03-29 03:28:03 | INFO | hw5.seq2seq | saved epoch checkpoint: /home/tienyi/ML/HW05/checkpoints/transformer-big/checkpoint20.pt\n",
      "2022-03-29 03:28:06 | INFO | hw5.seq2seq | end of epoch 20\n"
     ]
    },
    {
     "name": "stderr",
     "output_type": "stream",
     "text": [
      "                                                                            "
     ]
    },
    {
     "name": "stdout",
     "output_type": "stream",
     "text": [
      "2022-03-29 03:47:09 | INFO | hw5.seq2seq | training loss: 2.4668\n",
      "2022-03-29 03:47:09 | INFO | hw5.seq2seq | begin validation\n"
     ]
    },
    {
     "name": "stderr",
     "output_type": "stream",
     "text": [
      "                                                                            \r"
     ]
    },
    {
     "name": "stdout",
     "output_type": "stream",
     "text": [
      "2022-03-29 03:47:50 | INFO | hw5.seq2seq | example source: congo will go from 60 to 120 .\n",
      "2022-03-29 03:47:50 | INFO | hw5.seq2seq | example hypothesis: 剛果則會從60增加到120\n",
      "2022-03-29 03:47:50 | INFO | hw5.seq2seq | example reference: 剛果則會從6千萬到1億2千萬\n",
      "2022-03-29 03:47:50 | INFO | hw5.seq2seq | validation loss:\t3.1531\n",
      "2022-03-29 03:47:50 | INFO | hw5.seq2seq | BLEU = 32.14 61.7/38.5/25.6/18.0 (BP = 0.993 ratio = 0.993 hyp_len = 111077 ref_len = 111811)\n",
      "2022-03-29 03:47:53 | INFO | hw5.seq2seq | saved epoch checkpoint: /home/tienyi/ML/HW05/checkpoints/transformer-big/checkpoint21.pt\n",
      "2022-03-29 03:47:57 | INFO | hw5.seq2seq | end of epoch 21\n"
     ]
    },
    {
     "name": "stderr",
     "output_type": "stream",
     "text": [
      "                                                                            "
     ]
    },
    {
     "name": "stdout",
     "output_type": "stream",
     "text": [
      "2022-03-29 04:06:55 | INFO | hw5.seq2seq | training loss: 2.4416\n",
      "2022-03-29 04:06:55 | INFO | hw5.seq2seq | begin validation\n"
     ]
    },
    {
     "name": "stderr",
     "output_type": "stream",
     "text": [
      "                                                                            \r"
     ]
    },
    {
     "name": "stdout",
     "output_type": "stream",
     "text": [
      "2022-03-29 04:07:35 | INFO | hw5.seq2seq | example source: the rivers changed in response to the wolves , and the reason was that the regenerating forests stabilized the banks so that they collapsed less often , so that the rivers became more fixed in their course .\n",
      "2022-03-29 04:07:35 | INFO | hw5.seq2seq | example hypothesis: 河流們因應狼群而改變 , 原因是再生森林穩定了河岸 , 以致使河水倒塌不那麼頻繁 , 因此河水在它們的航程中變得更加固定 。\n",
      "2022-03-29 04:07:35 | INFO | hw5.seq2seq | example reference: 河流因狼群而改變 , 河流因狼群而改變 , 原因在於新生的樹林穩固了河岸 , 滑坡減少 , 河道也就更為固定 。\n",
      "2022-03-29 04:07:35 | INFO | hw5.seq2seq | validation loss:\t3.1179\n",
      "2022-03-29 04:07:35 | INFO | hw5.seq2seq | BLEU = 32.33 62.1/39.0/26.1/18.5 (BP = 0.984 ratio = 0.984 hyp_len = 110025 ref_len = 111811)\n",
      "2022-03-29 04:07:38 | INFO | hw5.seq2seq | saved epoch checkpoint: /home/tienyi/ML/HW05/checkpoints/transformer-big/checkpoint22.pt\n",
      "2022-03-29 04:07:42 | INFO | hw5.seq2seq | end of epoch 22\n"
     ]
    },
    {
     "name": "stderr",
     "output_type": "stream",
     "text": [
      "                                                                            "
     ]
    },
    {
     "name": "stdout",
     "output_type": "stream",
     "text": [
      "2022-03-29 04:26:42 | INFO | hw5.seq2seq | training loss: 2.4139\n",
      "2022-03-29 04:26:42 | INFO | hw5.seq2seq | begin validation\n"
     ]
    },
    {
     "name": "stderr",
     "output_type": "stream",
     "text": [
      "                                                                            \r"
     ]
    },
    {
     "name": "stdout",
     "output_type": "stream",
     "text": [
      "2022-03-29 04:27:23 | INFO | hw5.seq2seq | example source: for the new drugs that are being developed all the time , supercomputers are being used to find potential interactions while those drugs are still in development .\n",
      "2022-03-29 04:27:23 | INFO | hw5.seq2seq | example hypothesis: 對一直在研發的新藥而言 , 超級電腦被用來尋找潛在的交互作用 , 而那些藥物還在研發階段 。\n",
      "2022-03-29 04:27:23 | INFO | hw5.seq2seq | example reference: 因為新的藥物不斷地研發出來 , 在這些藥物還在研發階段時 , 就可以用超級電腦找出可能的交互作用 。\n",
      "2022-03-29 04:27:23 | INFO | hw5.seq2seq | validation loss:\t3.1135\n",
      "2022-03-29 04:27:23 | INFO | hw5.seq2seq | BLEU = 32.33 62.0/39.1/26.2/18.5 (BP = 0.982 ratio = 0.982 hyp_len = 109799 ref_len = 111811)\n",
      "2022-03-29 04:27:26 | INFO | hw5.seq2seq | saved epoch checkpoint: /home/tienyi/ML/HW05/checkpoints/transformer-big/checkpoint23.pt\n",
      "2022-03-29 04:27:26 | INFO | hw5.seq2seq | end of epoch 23\n"
     ]
    },
    {
     "name": "stderr",
     "output_type": "stream",
     "text": [
      "                                                                            "
     ]
    },
    {
     "name": "stdout",
     "output_type": "stream",
     "text": [
      "2022-03-29 04:46:28 | INFO | hw5.seq2seq | training loss: 2.3862\n",
      "2022-03-29 04:46:28 | INFO | hw5.seq2seq | begin validation\n"
     ]
    },
    {
     "name": "stderr",
     "output_type": "stream",
     "text": [
      "                                                                            \r"
     ]
    },
    {
     "name": "stdout",
     "output_type": "stream",
     "text": [
      "2022-03-29 04:47:09 | INFO | hw5.seq2seq | example source: the other reason given is that most of those changes are a loss of function , and it's actually really hard to develop drugs that restore function .\n",
      "2022-03-29 04:47:09 | INFO | hw5.seq2seq | example hypothesis: 另一項原因是這些變化都造成了功能的喪失 , 其實要開發出能恢復功能的藥物真的很難 。\n",
      "2022-03-29 04:47:09 | INFO | hw5.seq2seq | example reference: 另一個原因是大部分變化的發生是因為功能的喪失 , 事實上 , 真的很難去開發具有恢復功能的藥物 。\n",
      "2022-03-29 04:47:09 | INFO | hw5.seq2seq | validation loss:\t3.1085\n",
      "2022-03-29 04:47:09 | INFO | hw5.seq2seq | BLEU = 32.75 62.1/39.2/26.3/18.7 (BP = 0.990 ratio = 0.990 hyp_len = 110648 ref_len = 111811)\n",
      "2022-03-29 04:47:12 | INFO | hw5.seq2seq | saved epoch checkpoint: /home/tienyi/ML/HW05/checkpoints/transformer-big/checkpoint24.pt\n",
      "2022-03-29 04:47:15 | INFO | hw5.seq2seq | end of epoch 24\n"
     ]
    },
    {
     "name": "stderr",
     "output_type": "stream",
     "text": [
      "                                                                            "
     ]
    },
    {
     "name": "stdout",
     "output_type": "stream",
     "text": [
      "2022-03-29 05:06:17 | INFO | hw5.seq2seq | training loss: 2.3626\n",
      "2022-03-29 05:06:17 | INFO | hw5.seq2seq | begin validation\n"
     ]
    },
    {
     "name": "stderr",
     "output_type": "stream",
     "text": [
      "                                                                            \r"
     ]
    },
    {
     "name": "stdout",
     "output_type": "stream",
     "text": [
      "2022-03-29 05:06:57 | INFO | hw5.seq2seq | example source: do you have a ring as well ?\n",
      "2022-03-29 05:06:57 | INFO | hw5.seq2seq | example hypothesis: 你也有戒指嗎 ?\n",
      "2022-03-29 05:06:57 | INFO | hw5.seq2seq | example reference: 你的戒指呢 ?\n",
      "2022-03-29 05:06:57 | INFO | hw5.seq2seq | validation loss:\t3.1023\n",
      "2022-03-29 05:06:57 | INFO | hw5.seq2seq | BLEU = 32.67 62.0/39.1/26.4/18.8 (BP = 0.987 ratio = 0.987 hyp_len = 110329 ref_len = 111811)\n",
      "2022-03-29 05:07:01 | INFO | hw5.seq2seq | saved epoch checkpoint: /home/tienyi/ML/HW05/checkpoints/transformer-big/checkpoint25.pt\n",
      "2022-03-29 05:07:01 | INFO | hw5.seq2seq | end of epoch 25\n"
     ]
    },
    {
     "name": "stderr",
     "output_type": "stream",
     "text": [
      "                                                                            "
     ]
    },
    {
     "name": "stdout",
     "output_type": "stream",
     "text": [
      "2022-03-29 05:26:03 | INFO | hw5.seq2seq | training loss: 2.3364\n",
      "2022-03-29 05:26:03 | INFO | hw5.seq2seq | begin validation\n"
     ]
    },
    {
     "name": "stderr",
     "output_type": "stream",
     "text": [
      "                                                                            \r"
     ]
    },
    {
     "name": "stdout",
     "output_type": "stream",
     "text": [
      "2022-03-29 05:26:44 | INFO | hw5.seq2seq | example source: what is unique about this demographic dividend is that india will be the only country in the world to have this demographic dividend .\n",
      "2022-03-29 05:26:44 | INFO | hw5.seq2seq | example hypothesis: 這種人口紅利的特點是印度會成為世界上唯一有這種人口紅利的國家 。\n",
      "2022-03-29 05:26:44 | INFO | hw5.seq2seq | example reference: 印度是世界上唯一能夠因為人口增加 , 而享有好處的國家 。\n",
      "2022-03-29 05:26:44 | INFO | hw5.seq2seq | validation loss:\t3.0840\n",
      "2022-03-29 05:26:44 | INFO | hw5.seq2seq | BLEU = 33.14 62.4/39.6/26.9/19.4 (BP = 0.984 ratio = 0.985 hyp_len = 110088 ref_len = 111811)\n",
      "2022-03-29 05:26:48 | INFO | hw5.seq2seq | saved epoch checkpoint: /home/tienyi/ML/HW05/checkpoints/transformer-big/checkpoint26.pt\n",
      "2022-03-29 05:26:51 | INFO | hw5.seq2seq | end of epoch 26\n"
     ]
    },
    {
     "name": "stderr",
     "output_type": "stream",
     "text": [
      "                                                                            "
     ]
    },
    {
     "name": "stdout",
     "output_type": "stream",
     "text": [
      "2022-03-29 05:45:49 | INFO | hw5.seq2seq | training loss: 2.3240\n",
      "2022-03-29 05:45:49 | INFO | hw5.seq2seq | begin validation\n"
     ]
    },
    {
     "name": "stderr",
     "output_type": "stream",
     "text": [
      "                                                                            \r"
     ]
    },
    {
     "name": "stdout",
     "output_type": "stream",
     "text": [
      "2022-03-29 05:46:30 | INFO | hw5.seq2seq | example source: it's really like an easy street for bacteria , with the occasional interruption of the unintended forced rush to the exit .\n",
      "2022-03-29 05:46:30 | INFO | hw5.seq2seq | example hypothesis: 這條路就像一條簡易的街道 , 對細菌而言 , 偶爾 , 會因為無意間強迫性的快速通行而被打斷 。\n",
      "2022-03-29 05:46:30 | INFO | hw5.seq2seq | example reference: 這簡直是細菌的天堂 , 除了偶爾會被強迫性的推向出口 。\n",
      "2022-03-29 05:46:30 | INFO | hw5.seq2seq | validation loss:\t3.0848\n",
      "2022-03-29 05:46:30 | INFO | hw5.seq2seq | BLEU = 33.24 61.8/39.1/26.5/19.1 (BP = 1.000 ratio = 1.003 hyp_len = 112157 ref_len = 111811)\n",
      "2022-03-29 05:46:33 | INFO | hw5.seq2seq | saved epoch checkpoint: /home/tienyi/ML/HW05/checkpoints/transformer-big/checkpoint27.pt\n",
      "2022-03-29 05:46:36 | INFO | hw5.seq2seq | end of epoch 27\n"
     ]
    },
    {
     "name": "stderr",
     "output_type": "stream",
     "text": [
      "                                                                            "
     ]
    },
    {
     "name": "stdout",
     "output_type": "stream",
     "text": [
      "2022-03-29 06:05:38 | INFO | hw5.seq2seq | training loss: 2.3012\n",
      "2022-03-29 06:05:38 | INFO | hw5.seq2seq | begin validation\n"
     ]
    },
    {
     "name": "stderr",
     "output_type": "stream",
     "text": [
      "                                                                            \r"
     ]
    },
    {
     "name": "stdout",
     "output_type": "stream",
     "text": [
      "2022-03-29 06:06:18 | INFO | hw5.seq2seq | example source: cilia and the clearance of mucus are also involved in awful diseases like cystic fibrosis .\n",
      "2022-03-29 06:06:18 | INFO | hw5.seq2seq | example hypothesis: 纖毛和黏液的清除也與囊性纖維化這類可怕的疾病有關\n",
      "2022-03-29 06:06:18 | INFO | hw5.seq2seq | example reference: 纖毛以及黏液的清除也和囊性纖維化等嚴重疾病有關\n",
      "2022-03-29 06:06:18 | INFO | hw5.seq2seq | validation loss:\t3.0811\n",
      "2022-03-29 06:06:18 | INFO | hw5.seq2seq | BLEU = 33.48 62.3/39.7/27.1/19.5 (BP = 0.990 ratio = 0.990 hyp_len = 110726 ref_len = 111811)\n",
      "2022-03-29 06:06:22 | INFO | hw5.seq2seq | saved epoch checkpoint: /home/tienyi/ML/HW05/checkpoints/transformer-big/checkpoint28.pt\n",
      "2022-03-29 06:06:25 | INFO | hw5.seq2seq | end of epoch 28\n"
     ]
    },
    {
     "name": "stderr",
     "output_type": "stream",
     "text": [
      "                                                                            "
     ]
    },
    {
     "name": "stdout",
     "output_type": "stream",
     "text": [
      "2022-03-29 06:25:24 | INFO | hw5.seq2seq | training loss: 2.2771\n",
      "2022-03-29 06:25:24 | INFO | hw5.seq2seq | begin validation\n"
     ]
    },
    {
     "name": "stderr",
     "output_type": "stream",
     "text": [
      "                                                                            \r"
     ]
    },
    {
     "name": "stdout",
     "output_type": "stream",
     "text": [
      "2022-03-29 06:26:05 | INFO | hw5.seq2seq | example source: i would spend hours looking at the connections , saying , \" oh , the little kid up at the top has red hair ; so does that first generation up there . \"\n",
      "2022-03-29 06:26:05 | INFO | hw5.seq2seq | example hypothesis: 我會花數小時看這些連結 , 說: 「 喔 , 在頂端的小孩子有紅髮 ; 第一代也有 。 」\n",
      "2022-03-29 06:26:05 | INFO | hw5.seq2seq | example reference: 盯著它好幾個鐘頭 , 找出其中的關聯 「 喔 ! 最上面那個小孩頭髮是紅的 」 「 他的第一代祖先也是紅頭髮耶 ! 」\n",
      "2022-03-29 06:26:05 | INFO | hw5.seq2seq | validation loss:\t3.0737\n",
      "2022-03-29 06:26:05 | INFO | hw5.seq2seq | BLEU = 33.81 62.0/39.6/27.1/19.7 (BP = 1.000 ratio = 1.000 hyp_len = 111768 ref_len = 111811)\n",
      "2022-03-29 06:26:09 | INFO | hw5.seq2seq | saved epoch checkpoint: /home/tienyi/ML/HW05/checkpoints/transformer-big/checkpoint29.pt\n",
      "2022-03-29 06:26:12 | INFO | hw5.seq2seq | end of epoch 29\n"
     ]
    },
    {
     "name": "stderr",
     "output_type": "stream",
     "text": [
      "                                                                            "
     ]
    },
    {
     "name": "stdout",
     "output_type": "stream",
     "text": [
      "2022-03-29 06:45:14 | INFO | hw5.seq2seq | training loss: 2.2592\n",
      "2022-03-29 06:45:14 | INFO | hw5.seq2seq | begin validation\n"
     ]
    },
    {
     "name": "stderr",
     "output_type": "stream",
     "text": [
      "                                                                            \r"
     ]
    },
    {
     "name": "stdout",
     "output_type": "stream",
     "text": [
      "2022-03-29 06:45:55 | INFO | hw5.seq2seq | example source: they can cost you a lot .\n",
      "2022-03-29 06:45:55 | INFO | hw5.seq2seq | example hypothesis: 它們可以讓你付出很大的代價 。\n",
      "2022-03-29 06:45:55 | INFO | hw5.seq2seq | example reference: 錯誤會造成重大的損失 。\n",
      "2022-03-29 06:45:55 | INFO | hw5.seq2seq | validation loss:\t3.0664\n",
      "2022-03-29 06:45:55 | INFO | hw5.seq2seq | BLEU = 33.70 62.3/39.8/27.2/19.7 (BP = 0.992 ratio = 0.992 hyp_len = 110923 ref_len = 111811)\n",
      "2022-03-29 06:45:58 | INFO | hw5.seq2seq | saved epoch checkpoint: /home/tienyi/ML/HW05/checkpoints/transformer-big/checkpoint30.pt\n",
      "2022-03-29 06:45:58 | INFO | hw5.seq2seq | end of epoch 30\n"
     ]
    },
    {
     "name": "stderr",
     "output_type": "stream",
     "text": [
      "                                                                            "
     ]
    },
    {
     "name": "stdout",
     "output_type": "stream",
     "text": [
      "2022-03-29 07:05:00 | INFO | hw5.seq2seq | training loss: 2.2464\n",
      "2022-03-29 07:05:00 | INFO | hw5.seq2seq | begin validation\n"
     ]
    },
    {
     "name": "stderr",
     "output_type": "stream",
     "text": [
      "                                                                            \r"
     ]
    },
    {
     "name": "stdout",
     "output_type": "stream",
     "text": [
      "2022-03-29 07:05:40 | INFO | hw5.seq2seq | example source: and i think you also see it in the kinds of riders that are on the streets .\n",
      "2022-03-29 07:05:40 | INFO | hw5.seq2seq | example hypothesis: 我想 , 你也可以在街上看到這種騎車 。\n",
      "2022-03-29 07:05:40 | INFO | hw5.seq2seq | example reference: 我想你也有看到這樣的騎士騎在街上\n",
      "2022-03-29 07:05:40 | INFO | hw5.seq2seq | validation loss:\t3.0559\n",
      "2022-03-29 07:05:40 | INFO | hw5.seq2seq | BLEU = 34.06 63.0/40.5/27.9/20.4 (BP = 0.982 ratio = 0.982 hyp_len = 109769 ref_len = 111811)\n",
      "2022-03-29 07:05:43 | INFO | hw5.seq2seq | saved epoch checkpoint: /home/tienyi/ML/HW05/checkpoints/transformer-big/checkpoint31.pt\n",
      "2022-03-29 07:05:46 | INFO | hw5.seq2seq | end of epoch 31\n"
     ]
    },
    {
     "name": "stderr",
     "output_type": "stream",
     "text": [
      "                                                                            "
     ]
    },
    {
     "name": "stdout",
     "output_type": "stream",
     "text": [
      "2022-03-29 07:24:47 | INFO | hw5.seq2seq | training loss: 2.2281\n",
      "2022-03-29 07:24:47 | INFO | hw5.seq2seq | begin validation\n"
     ]
    },
    {
     "name": "stderr",
     "output_type": "stream",
     "text": [
      "                                                                            \r"
     ]
    },
    {
     "name": "stdout",
     "output_type": "stream",
     "text": [
      "2022-03-29 07:25:28 | INFO | hw5.seq2seq | example source: after sleeping in the mud at woodstock , i went off to mit to go to college , where to make money , i worked on the multics project .\n",
      "2022-03-29 07:25:28 | INFO | hw5.seq2seq | example hypothesis: 睡在伍德斯托克的泥巴裡後 , 我去麻省理工學院上大學 , 在哪裡賺錢 , 投身multics專案 。\n",
      "2022-03-29 07:25:28 | INFO | hw5.seq2seq | example reference: 睡在胡士托音樂節的泥裡後 , 我去麻省理工學院上課 , 為multics專案工作賺些錢 。\n",
      "2022-03-29 07:25:28 | INFO | hw5.seq2seq | validation loss:\t3.0501\n",
      "2022-03-29 07:25:28 | INFO | hw5.seq2seq | BLEU = 34.12 62.5/40.3/27.8/20.4 (BP = 0.987 ratio = 0.987 hyp_len = 110374 ref_len = 111811)\n",
      "2022-03-29 07:25:31 | INFO | hw5.seq2seq | saved epoch checkpoint: /home/tienyi/ML/HW05/checkpoints/transformer-big/checkpoint32.pt\n",
      "2022-03-29 07:25:34 | INFO | hw5.seq2seq | end of epoch 32\n"
     ]
    },
    {
     "name": "stderr",
     "output_type": "stream",
     "text": [
      "                                                                            "
     ]
    },
    {
     "name": "stdout",
     "output_type": "stream",
     "text": [
      "2022-03-29 07:44:35 | INFO | hw5.seq2seq | training loss: 2.2155\n",
      "2022-03-29 07:44:35 | INFO | hw5.seq2seq | begin validation\n"
     ]
    },
    {
     "name": "stderr",
     "output_type": "stream",
     "text": [
      "                                                                            \r"
     ]
    },
    {
     "name": "stdout",
     "output_type": "stream",
     "text": [
      "2022-03-29 07:45:15 | INFO | hw5.seq2seq | example source: and congressman markey asks , you know , \" is it going to take a submarine ride to see if there are really oil plumes ? \"\n",
      "2022-03-29 07:45:15 | INFO | hw5.seq2seq | example hypothesis: 國會議員馬基就會問: 「 是否要搭潛水艇出海 , 才能知道真的有油羽 ? 」\n",
      "2022-03-29 07:45:15 | INFO | hw5.seq2seq | example reference: 國會議員馬凱就質疑: \" 為什麼不坐潛水艇 , 下去看看水底是否真的有浮油 ? \"\n",
      "2022-03-29 07:45:15 | INFO | hw5.seq2seq | validation loss:\t3.0463\n",
      "2022-03-29 07:45:15 | INFO | hw5.seq2seq | BLEU = 33.98 62.9/40.5/27.9/20.4 (BP = 0.978 ratio = 0.979 hyp_len = 109431 ref_len = 111811)\n",
      "2022-03-29 07:45:19 | INFO | hw5.seq2seq | saved epoch checkpoint: /home/tienyi/ML/HW05/checkpoints/transformer-big/checkpoint33.pt\n",
      "2022-03-29 07:45:19 | INFO | hw5.seq2seq | end of epoch 33\n"
     ]
    },
    {
     "name": "stderr",
     "output_type": "stream",
     "text": [
      "                                                                            "
     ]
    },
    {
     "name": "stdout",
     "output_type": "stream",
     "text": [
      "2022-03-29 08:04:19 | INFO | hw5.seq2seq | training loss: 2.1986\n",
      "2022-03-29 08:04:19 | INFO | hw5.seq2seq | begin validation\n"
     ]
    },
    {
     "name": "stderr",
     "output_type": "stream",
     "text": [
      "                                                                            \r"
     ]
    },
    {
     "name": "stdout",
     "output_type": "stream",
     "text": [
      "2022-03-29 08:05:01 | INFO | hw5.seq2seq | example source: and they produce 20 million lifesaving bednets for africans around the world .\n",
      "2022-03-29 08:05:01 | INFO | hw5.seq2seq | example hypothesis: 且為全世界的非洲人生產出兩千萬張救命的蚊帳 。\n",
      "2022-03-29 08:05:01 | INFO | hw5.seq2seq | example reference: 每年生產2千萬個防瘧疾的蚊帳給全世界的非洲人民 。\n",
      "2022-03-29 08:05:01 | INFO | hw5.seq2seq | validation loss:\t3.0487\n",
      "2022-03-29 08:05:01 | INFO | hw5.seq2seq | BLEU = 34.23 62.1/39.9/27.5/20.2 (BP = 1.000 ratio = 1.003 hyp_len = 112100 ref_len = 111811)\n",
      "2022-03-29 08:05:04 | INFO | hw5.seq2seq | saved epoch checkpoint: /home/tienyi/ML/HW05/checkpoints/transformer-big/checkpoint34.pt\n",
      "2022-03-29 08:05:07 | INFO | hw5.seq2seq | end of epoch 34\n"
     ]
    },
    {
     "name": "stderr",
     "output_type": "stream",
     "text": [
      "                                                                            "
     ]
    },
    {
     "name": "stdout",
     "output_type": "stream",
     "text": [
      "2022-03-29 08:24:07 | INFO | hw5.seq2seq | training loss: 2.1850\n",
      "2022-03-29 08:24:07 | INFO | hw5.seq2seq | begin validation\n"
     ]
    },
    {
     "name": "stderr",
     "output_type": "stream",
     "text": [
      "                                                                            \r"
     ]
    },
    {
     "name": "stdout",
     "output_type": "stream",
     "text": [
      "2022-03-29 08:24:48 | INFO | hw5.seq2seq | example source: only , i think it's quite a big blow again .\n",
      "2022-03-29 08:24:48 | INFO | hw5.seq2seq | example hypothesis: 不過 , 我想這又是一個很大的打擊 。\n",
      "2022-03-29 08:24:48 | INFO | hw5.seq2seq | example reference: 另一個鏡頭又是一記重擊\n",
      "2022-03-29 08:24:48 | INFO | hw5.seq2seq | validation loss:\t3.0372\n",
      "2022-03-29 08:24:48 | INFO | hw5.seq2seq | BLEU = 34.41 62.6/40.4/28.0/20.5 (BP = 0.991 ratio = 0.991 hyp_len = 110773 ref_len = 111811)\n",
      "2022-03-29 08:24:52 | INFO | hw5.seq2seq | saved epoch checkpoint: /home/tienyi/ML/HW05/checkpoints/transformer-big/checkpoint35.pt\n",
      "2022-03-29 08:24:55 | INFO | hw5.seq2seq | end of epoch 35\n"
     ]
    },
    {
     "name": "stderr",
     "output_type": "stream",
     "text": [
      "                                                                            "
     ]
    },
    {
     "name": "stdout",
     "output_type": "stream",
     "text": [
      "2022-03-29 08:43:54 | INFO | hw5.seq2seq | training loss: 2.1725\n",
      "2022-03-29 08:43:54 | INFO | hw5.seq2seq | begin validation\n"
     ]
    },
    {
     "name": "stderr",
     "output_type": "stream",
     "text": [
      "                                                                            \r"
     ]
    },
    {
     "name": "stdout",
     "output_type": "stream",
     "text": [
      "2022-03-29 08:44:33 | INFO | hw5.seq2seq | example source: will he be able to be normal ?\n",
      "2022-03-29 08:44:33 | INFO | hw5.seq2seq | example hypothesis: 他能夠正常嗎 ?\n",
      "2022-03-29 08:44:33 | INFO | hw5.seq2seq | example reference: 他能變回正常嗎 ?\n",
      "2022-03-29 08:44:33 | INFO | hw5.seq2seq | validation loss:\t3.0266\n",
      "2022-03-29 08:44:33 | INFO | hw5.seq2seq | BLEU = 34.31 63.4/41.0/28.4/20.9 (BP = 0.973 ratio = 0.974 hyp_len = 108884 ref_len = 111811)\n",
      "2022-03-29 08:44:37 | INFO | hw5.seq2seq | saved epoch checkpoint: /home/tienyi/ML/HW05/checkpoints/transformer-big/checkpoint36.pt\n",
      "2022-03-29 08:44:37 | INFO | hw5.seq2seq | end of epoch 36\n"
     ]
    },
    {
     "name": "stderr",
     "output_type": "stream",
     "text": [
      "                                                                            "
     ]
    },
    {
     "name": "stdout",
     "output_type": "stream",
     "text": [
      "2022-03-29 09:03:38 | INFO | hw5.seq2seq | training loss: 2.1562\n",
      "2022-03-29 09:03:38 | INFO | hw5.seq2seq | begin validation\n"
     ]
    },
    {
     "name": "stderr",
     "output_type": "stream",
     "text": [
      "                                                                            \r"
     ]
    },
    {
     "name": "stdout",
     "output_type": "stream",
     "text": [
      "2022-03-29 09:04:18 | INFO | hw5.seq2seq | example source: you may of heard of it heard it called starlink , especially when all those taco shells were taken out of the supermarkets about a year and a half ago .\n",
      "2022-03-29 09:04:18 | INFO | hw5.seq2seq | example hypothesis: 你可能聽過它 , 叫做星聯 , 特別是當那些被超級市場取走的t&lt ; br/&gt ; 殼時 , 大約一年半前被捕出 。\n",
      "2022-03-29 09:04:18 | INFO | hw5.seq2seq | example reference: 你可能聽說過星聯玉米 , 尤其是一年半前當所有這些玉米糠皮被超市下架的時候 。\n",
      "2022-03-29 09:04:18 | INFO | hw5.seq2seq | validation loss:\t3.0139\n",
      "2022-03-29 09:04:18 | INFO | hw5.seq2seq | BLEU = 34.63 63.2/41.1/28.6/21.2 (BP = 0.977 ratio = 0.978 hyp_len = 109319 ref_len = 111811)\n",
      "2022-03-29 09:04:21 | INFO | hw5.seq2seq | saved epoch checkpoint: /home/tienyi/ML/HW05/checkpoints/transformer-big/checkpoint37.pt\n",
      "2022-03-29 09:04:25 | INFO | hw5.seq2seq | end of epoch 37\n"
     ]
    },
    {
     "name": "stderr",
     "output_type": "stream",
     "text": [
      "                                                                            "
     ]
    },
    {
     "name": "stdout",
     "output_type": "stream",
     "text": [
      "2022-03-29 09:23:23 | INFO | hw5.seq2seq | training loss: 2.1456\n",
      "2022-03-29 09:23:23 | INFO | hw5.seq2seq | begin validation\n"
     ]
    },
    {
     "name": "stderr",
     "output_type": "stream",
     "text": [
      "                                                                            \r"
     ]
    },
    {
     "name": "stdout",
     "output_type": "stream",
     "text": [
      "2022-03-29 09:24:04 | INFO | hw5.seq2seq | example source: they picked up his identification , and they phoned his name in to the terrorist war room , where the terrorist war room googled him , and found a picture and called their operatives on the ground and said , \" your hostage , is he heavyset ?\n",
      "2022-03-29 09:24:04 | INFO | hw5.seq2seq | example hypothesis: 他們拿起了他的身份證明 , 把他的名字打給恐怖份子戰情室 , 恐怖份子戰情室用google搜尋他 , 找出一張稱呼他們為戰場的照片 , 問道: 「 你們的人質 , 他是天堂嗎 ?\n",
      "2022-03-29 09:24:04 | INFO | hw5.seq2seq | example reference: 他們拿他的身份證件打電話到他們的中控中心通報這男子的名字中控中心的人用google搜索找到一張照片 , 然後回電給在旅館的恐怖份子 , 問他: \" 你抓的人 , 是不是胖胖的 ,\n",
      "2022-03-29 09:24:04 | INFO | hw5.seq2seq | validation loss:\t3.0238\n",
      "2022-03-29 09:24:04 | INFO | hw5.seq2seq | BLEU = 35.16 62.9/41.0/28.6/21.2 (BP = 0.994 ratio = 0.994 hyp_len = 111182 ref_len = 111811)\n",
      "2022-03-29 09:24:07 | INFO | hw5.seq2seq | saved epoch checkpoint: /home/tienyi/ML/HW05/checkpoints/transformer-big/checkpoint38.pt\n",
      "2022-03-29 09:24:10 | INFO | hw5.seq2seq | end of epoch 38\n"
     ]
    },
    {
     "name": "stderr",
     "output_type": "stream",
     "text": [
      "                                                                            "
     ]
    },
    {
     "name": "stdout",
     "output_type": "stream",
     "text": [
      "2022-03-29 09:43:10 | INFO | hw5.seq2seq | training loss: 2.1356\n",
      "2022-03-29 09:43:10 | INFO | hw5.seq2seq | begin validation\n"
     ]
    },
    {
     "name": "stderr",
     "output_type": "stream",
     "text": [
      "                                                                            \r"
     ]
    },
    {
     "name": "stdout",
     "output_type": "stream",
     "text": [
      "2022-03-29 09:43:50 | INFO | hw5.seq2seq | example source: right ?\n",
      "2022-03-29 09:43:50 | INFO | hw5.seq2seq | example hypothesis: 對吧 ?\n",
      "2022-03-29 09:43:50 | INFO | hw5.seq2seq | example reference: 一項不僅能促進平等權益的發明 ,\n",
      "2022-03-29 09:43:50 | INFO | hw5.seq2seq | validation loss:\t3.0080\n",
      "2022-03-29 09:43:50 | INFO | hw5.seq2seq | BLEU = 34.83 63.0/41.0/28.5/21.1 (BP = 0.987 ratio = 0.987 hyp_len = 110357 ref_len = 111811)\n",
      "2022-03-29 09:43:53 | INFO | hw5.seq2seq | saved epoch checkpoint: /home/tienyi/ML/HW05/checkpoints/transformer-big/checkpoint39.pt\n",
      "2022-03-29 09:43:53 | INFO | hw5.seq2seq | end of epoch 39\n"
     ]
    },
    {
     "name": "stderr",
     "output_type": "stream",
     "text": [
      "                                                                            "
     ]
    },
    {
     "name": "stdout",
     "output_type": "stream",
     "text": [
      "2022-03-29 10:02:49 | INFO | hw5.seq2seq | training loss: 2.1235\n",
      "2022-03-29 10:02:49 | INFO | hw5.seq2seq | begin validation\n"
     ]
    },
    {
     "name": "stderr",
     "output_type": "stream",
     "text": [
      "                                                                            \r"
     ]
    },
    {
     "name": "stdout",
     "output_type": "stream",
     "text": [
      "2022-03-29 10:03:30 | INFO | hw5.seq2seq | example source: and the remarkable thing was that 18 monthold babies , just barely walking and talking , would give her the crackers if she liked the crackers , but they would give her the broccoli if she liked the broccoli .\n",
      "2022-03-29 10:03:30 | INFO | hw5.seq2seq | example hypothesis: 最特別的是 , 18個月大的寶寶幾乎不會說話 , 如果她喜歡金魚燒薄脆餅的話 , 他們會給她綠花椰 。\n",
      "2022-03-29 10:03:30 | INFO | hw5.seq2seq | example reference: 驚人的是 , 18個月大的寶寶剛剛會走、勉強會說 , 會給她薄餅 , 若她喜歡薄餅的話但若她喜歡的話 , 他們會給她綠花椰 。\n",
      "2022-03-29 10:03:30 | INFO | hw5.seq2seq | validation loss:\t3.0004\n",
      "2022-03-29 10:03:30 | INFO | hw5.seq2seq | BLEU = 35.36 63.2/41.3/29.0/21.6 (BP = 0.989 ratio = 0.989 hyp_len = 110627 ref_len = 111811)\n",
      "2022-03-29 10:03:33 | INFO | hw5.seq2seq | saved epoch checkpoint: /home/tienyi/ML/HW05/checkpoints/transformer-big/checkpoint40.pt\n",
      "2022-03-29 10:03:36 | INFO | hw5.seq2seq | end of epoch 40\n"
     ]
    },
    {
     "name": "stderr",
     "output_type": "stream",
     "text": [
      "                                                                            "
     ]
    },
    {
     "name": "stdout",
     "output_type": "stream",
     "text": [
      "2022-03-29 10:22:34 | INFO | hw5.seq2seq | training loss: 2.1131\n",
      "2022-03-29 10:22:34 | INFO | hw5.seq2seq | begin validation\n"
     ]
    },
    {
     "name": "stderr",
     "output_type": "stream",
     "text": [
      "                                                                            \r"
     ]
    },
    {
     "name": "stdout",
     "output_type": "stream",
     "text": [
      "2022-03-29 10:23:14 | INFO | hw5.seq2seq | example source: the opposite of depression is not happiness , but vitality , and these days , my life is vital , even on the days when i'm sad .\n",
      "2022-03-29 10:23:14 | INFO | hw5.seq2seq | example hypothesis: 憂鬱的反面不是快樂 , 而是活力 。 這些日子 , 我的生命非常重要 , 即使在悲傷的日子 。\n",
      "2022-03-29 10:23:14 | INFO | hw5.seq2seq | example reference: 憂鬱的反面不是快樂 , 而是活力 。 現在 , 我的生活充滿活力 , 即使在我感到難過的時候也是如此 。\n",
      "2022-03-29 10:23:14 | INFO | hw5.seq2seq | validation loss:\t3.0052\n",
      "2022-03-29 10:23:14 | INFO | hw5.seq2seq | BLEU = 35.45 63.1/41.2/29.0/21.6 (BP = 0.992 ratio = 0.993 hyp_len = 110973 ref_len = 111811)\n",
      "2022-03-29 10:23:17 | INFO | hw5.seq2seq | saved epoch checkpoint: /home/tienyi/ML/HW05/checkpoints/transformer-big/checkpoint41.pt\n",
      "2022-03-29 10:23:21 | INFO | hw5.seq2seq | end of epoch 41\n"
     ]
    },
    {
     "name": "stderr",
     "output_type": "stream",
     "text": [
      "                                                                            "
     ]
    },
    {
     "name": "stdout",
     "output_type": "stream",
     "text": [
      "2022-03-29 10:42:17 | INFO | hw5.seq2seq | training loss: 2.1017\n",
      "2022-03-29 10:42:17 | INFO | hw5.seq2seq | begin validation\n"
     ]
    },
    {
     "name": "stderr",
     "output_type": "stream",
     "text": [
      "                                                                            \r"
     ]
    },
    {
     "name": "stdout",
     "output_type": "stream",
     "text": [
      "2022-03-29 10:42:57 | INFO | hw5.seq2seq | example source: and finally , you not only get immediate effects of mood with exercise but those last for a long time .\n",
      "2022-03-29 10:42:57 | INFO | hw5.seq2seq | example hypothesis: 最後 , 情緒不只會對運動有立即性的影響 , 且會持續很久 。\n",
      "2022-03-29 10:42:57 | INFO | hw5.seq2seq | example reference: 最後 , 你做運動會得到的不只是心情上的立即效應 , 還會有長期的效應 。\n",
      "2022-03-29 10:42:57 | INFO | hw5.seq2seq | validation loss:\t2.9964\n",
      "2022-03-29 10:42:57 | INFO | hw5.seq2seq | BLEU = 35.42 62.8/41.0/28.8/21.5 (BP = 0.997 ratio = 0.997 hyp_len = 111498 ref_len = 111811)\n",
      "2022-03-29 10:43:01 | INFO | hw5.seq2seq | saved epoch checkpoint: /home/tienyi/ML/HW05/checkpoints/transformer-big/checkpoint42.pt\n",
      "2022-03-29 10:43:01 | INFO | hw5.seq2seq | end of epoch 42\n"
     ]
    },
    {
     "name": "stderr",
     "output_type": "stream",
     "text": [
      "                                                                            "
     ]
    },
    {
     "name": "stdout",
     "output_type": "stream",
     "text": [
      "2022-03-29 11:01:56 | INFO | hw5.seq2seq | training loss: 2.0930\n",
      "2022-03-29 11:01:56 | INFO | hw5.seq2seq | begin validation\n"
     ]
    },
    {
     "name": "stderr",
     "output_type": "stream",
     "text": [
      "                                                                            \r"
     ]
    },
    {
     "name": "stdout",
     "output_type": "stream",
     "text": [
      "2022-03-29 11:02:37 | INFO | hw5.seq2seq | example source: to face those challenges , we need new tools of measurement , new ways of valuing progress .\n",
      "2022-03-29 11:02:37 | INFO | hw5.seq2seq | example hypothesis: 若要面對那些挑戰 , 我們就需要新的測量工具 , 新的方式來重視進步 。\n",
      "2022-03-29 11:02:37 | INFO | hw5.seq2seq | example reference: 要面對這些挑戰 , 我們需要新的尺度工具 , 新的評價機制 。\n",
      "2022-03-29 11:02:37 | INFO | hw5.seq2seq | validation loss:\t2.9960\n",
      "2022-03-29 11:02:37 | INFO | hw5.seq2seq | BLEU = 35.66 63.1/41.4/29.2/21.8 (BP = 0.993 ratio = 0.993 hyp_len = 110977 ref_len = 111811)\n",
      "2022-03-29 11:02:40 | INFO | hw5.seq2seq | saved epoch checkpoint: /home/tienyi/ML/HW05/checkpoints/transformer-big/checkpoint43.pt\n",
      "2022-03-29 11:02:44 | INFO | hw5.seq2seq | end of epoch 43\n"
     ]
    },
    {
     "name": "stderr",
     "output_type": "stream",
     "text": [
      "                                                                            "
     ]
    },
    {
     "name": "stdout",
     "output_type": "stream",
     "text": [
      "2022-03-29 11:21:40 | INFO | hw5.seq2seq | training loss: 2.0831\n",
      "2022-03-29 11:21:40 | INFO | hw5.seq2seq | begin validation\n"
     ]
    },
    {
     "name": "stderr",
     "output_type": "stream",
     "text": [
      "                                                                            \r"
     ]
    },
    {
     "name": "stdout",
     "output_type": "stream",
     "text": [
      "2022-03-29 11:22:20 | INFO | hw5.seq2seq | example source: those changes in turn drive their decline , and subsequently , the failure of the whole organism .\n",
      "2022-03-29 11:22:20 | INFO | hw5.seq2seq | example hypothesis: 那些隨之而來的變革推動了他們的衰弱 , 隨後便是整個有機體衰竭 。\n",
      "2022-03-29 11:22:20 | INFO | hw5.seq2seq | example reference: 這些改變進而導致它們的衰退然後是整個生物的衰竭\n",
      "2022-03-29 11:22:20 | INFO | hw5.seq2seq | validation loss:\t2.9924\n",
      "2022-03-29 11:22:20 | INFO | hw5.seq2seq | BLEU = 35.81 63.2/41.6/29.4/22.0 (BP = 0.992 ratio = 0.992 hyp_len = 110939 ref_len = 111811)\n",
      "2022-03-29 11:22:24 | INFO | hw5.seq2seq | saved epoch checkpoint: /home/tienyi/ML/HW05/checkpoints/transformer-big/checkpoint44.pt\n",
      "2022-03-29 11:22:27 | INFO | hw5.seq2seq | end of epoch 44\n"
     ]
    },
    {
     "name": "stderr",
     "output_type": "stream",
     "text": [
      "                                                                            "
     ]
    },
    {
     "name": "stdout",
     "output_type": "stream",
     "text": [
      "2022-03-29 11:41:24 | INFO | hw5.seq2seq | training loss: 2.0708\n",
      "2022-03-29 11:41:24 | INFO | hw5.seq2seq | begin validation\n"
     ]
    },
    {
     "name": "stderr",
     "output_type": "stream",
     "text": [
      "                                                                            \r"
     ]
    },
    {
     "name": "stdout",
     "output_type": "stream",
     "text": [
      "2022-03-29 11:42:04 | INFO | hw5.seq2seq | example source: and he was very , very sorry .\n",
      "2022-03-29 11:42:04 | INFO | hw5.seq2seq | example hypothesis: 而他非常 , 非常抱歉\n",
      "2022-03-29 11:42:04 | INFO | hw5.seq2seq | example reference: 而且他也非常、非常後悔\n",
      "2022-03-29 11:42:04 | INFO | hw5.seq2seq | validation loss:\t2.9939\n",
      "2022-03-29 11:42:04 | INFO | hw5.seq2seq | BLEU = 35.82 63.5/41.8/29.6/22.3 (BP = 0.985 ratio = 0.985 hyp_len = 110109 ref_len = 111811)\n",
      "2022-03-29 11:42:07 | INFO | hw5.seq2seq | saved epoch checkpoint: /home/tienyi/ML/HW05/checkpoints/transformer-big/checkpoint45.pt\n",
      "2022-03-29 11:42:10 | INFO | hw5.seq2seq | end of epoch 45\n"
     ]
    },
    {
     "name": "stderr",
     "output_type": "stream",
     "text": [
      "                                                                            "
     ]
    },
    {
     "name": "stdout",
     "output_type": "stream",
     "text": [
      "2022-03-29 12:01:09 | INFO | hw5.seq2seq | training loss: 2.0634\n",
      "2022-03-29 12:01:09 | INFO | hw5.seq2seq | begin validation\n"
     ]
    },
    {
     "name": "stderr",
     "output_type": "stream",
     "text": [
      "                                                                            \r"
     ]
    },
    {
     "name": "stdout",
     "output_type": "stream",
     "text": [
      "2022-03-29 12:01:49 | INFO | hw5.seq2seq | example source: i also know what i hope for for our girls .\n",
      "2022-03-29 12:01:49 | INFO | hw5.seq2seq | example hypothesis: 我也知道我希望我們的女兒\n",
      "2022-03-29 12:01:49 | INFO | hw5.seq2seq | example reference: 我同樣也知道 , 對於我們的女孩子 , 我所期待的是什麽 。\n",
      "2022-03-29 12:01:49 | INFO | hw5.seq2seq | validation loss:\t2.9852\n",
      "2022-03-29 12:01:49 | INFO | hw5.seq2seq | BLEU = 35.89 63.1/41.5/29.4/22.1 (BP = 0.994 ratio = 0.994 hyp_len = 111088 ref_len = 111811)\n",
      "2022-03-29 12:01:53 | INFO | hw5.seq2seq | saved epoch checkpoint: /home/tienyi/ML/HW05/checkpoints/transformer-big/checkpoint46.pt\n",
      "2022-03-29 12:01:56 | INFO | hw5.seq2seq | end of epoch 46\n"
     ]
    },
    {
     "name": "stderr",
     "output_type": "stream",
     "text": [
      "                                                                            "
     ]
    },
    {
     "name": "stdout",
     "output_type": "stream",
     "text": [
      "2022-03-29 12:20:52 | INFO | hw5.seq2seq | training loss: 2.0612\n",
      "2022-03-29 12:20:52 | INFO | hw5.seq2seq | begin validation\n"
     ]
    },
    {
     "name": "stderr",
     "output_type": "stream",
     "text": [
      "                                                                            \r"
     ]
    },
    {
     "name": "stdout",
     "output_type": "stream",
     "text": [
      "2022-03-29 12:21:32 | INFO | hw5.seq2seq | example source: but humans are curious , and they like to add things to their bodies so they can go to the alps one day and then become a fish in the sea the next .\n",
      "2022-03-29 12:21:32 | INFO | hw5.seq2seq | example hypothesis: 但是人類是好奇的 , 喜歡把東西加到牠們身體裡 , 以便有一天能夠進入阿爾卑斯山 , 並成為下一個海裡的一條魚 。\n",
      "2022-03-29 12:21:32 | INFO | hw5.seq2seq | example reference: 但人們好奇心又強 , 喜歡在身體上加掛東西這樣一來可以爬上阿爾卑斯山又可以下海游 。\n",
      "2022-03-29 12:21:32 | INFO | hw5.seq2seq | validation loss:\t2.9785\n",
      "2022-03-29 12:21:32 | INFO | hw5.seq2seq | BLEU = 35.83 63.4/41.8/29.6/22.4 (BP = 0.984 ratio = 0.984 hyp_len = 110045 ref_len = 111811)\n",
      "2022-03-29 12:21:35 | INFO | hw5.seq2seq | saved epoch checkpoint: /home/tienyi/ML/HW05/checkpoints/transformer-big/checkpoint47.pt\n",
      "2022-03-29 12:21:36 | INFO | hw5.seq2seq | end of epoch 47\n"
     ]
    },
    {
     "name": "stderr",
     "output_type": "stream",
     "text": [
      "                                                                            "
     ]
    },
    {
     "name": "stdout",
     "output_type": "stream",
     "text": [
      "2022-03-29 12:40:32 | INFO | hw5.seq2seq | training loss: 2.0480\n",
      "2022-03-29 12:40:32 | INFO | hw5.seq2seq | begin validation\n"
     ]
    },
    {
     "name": "stderr",
     "output_type": "stream",
     "text": [
      "                                                                            \r"
     ]
    },
    {
     "name": "stdout",
     "output_type": "stream",
     "text": [
      "2022-03-29 12:41:12 | INFO | hw5.seq2seq | example source: nobody , so like i said , i'm a titan .\n",
      "2022-03-29 12:41:12 | INFO | hw5.seq2seq | example hypothesis: 沒有人 , 就像我說的 , 我是個霸主 。\n",
      "2022-03-29 12:41:12 | INFO | hw5.seq2seq | example reference: 沒有人 , 就像我說的 , 我是個霸主 。\n",
      "2022-03-29 12:41:12 | INFO | hw5.seq2seq | validation loss:\t2.9816\n",
      "2022-03-29 12:41:12 | INFO | hw5.seq2seq | BLEU = 36.10 63.5/42.0/29.8/22.4 (BP = 0.988 ratio = 0.988 hyp_len = 110465 ref_len = 111811)\n",
      "2022-03-29 12:41:16 | INFO | hw5.seq2seq | saved epoch checkpoint: /home/tienyi/ML/HW05/checkpoints/transformer-big/checkpoint48.pt\n",
      "2022-03-29 12:41:19 | INFO | hw5.seq2seq | end of epoch 48\n"
     ]
    },
    {
     "name": "stderr",
     "output_type": "stream",
     "text": [
      "                                                                            "
     ]
    },
    {
     "name": "stdout",
     "output_type": "stream",
     "text": [
      "2022-03-29 13:00:15 | INFO | hw5.seq2seq | training loss: 2.0374\n",
      "2022-03-29 13:00:15 | INFO | hw5.seq2seq | begin validation\n"
     ]
    },
    {
     "name": "stderr",
     "output_type": "stream",
     "text": [
      "                                                                            \r"
     ]
    },
    {
     "name": "stdout",
     "output_type": "stream",
     "text": [
      "2022-03-29 13:00:55 | INFO | hw5.seq2seq | example source: and at the bottom left are monkeys from costa rica .\n",
      "2022-03-29 13:00:55 | INFO | hw5.seq2seq | example hypothesis: 左下角是哥斯大黎加的猴子 。\n",
      "2022-03-29 13:00:55 | INFO | hw5.seq2seq | example reference: 左下角則是在哥斯大黎加的猴子 。\n",
      "2022-03-29 13:00:55 | INFO | hw5.seq2seq | validation loss:\t2.9745\n",
      "2022-03-29 13:00:55 | INFO | hw5.seq2seq | BLEU = 36.09 63.6/42.0/29.9/22.6 (BP = 0.984 ratio = 0.984 hyp_len = 110071 ref_len = 111811)\n",
      "2022-03-29 13:00:58 | INFO | hw5.seq2seq | saved epoch checkpoint: /home/tienyi/ML/HW05/checkpoints/transformer-big/checkpoint49.pt\n",
      "2022-03-29 13:00:59 | INFO | hw5.seq2seq | end of epoch 49\n"
     ]
    },
    {
     "name": "stderr",
     "output_type": "stream",
     "text": [
      "                                                                            "
     ]
    },
    {
     "name": "stdout",
     "output_type": "stream",
     "text": [
      "2022-03-29 13:19:58 | INFO | hw5.seq2seq | training loss: 2.0309\n",
      "2022-03-29 13:19:58 | INFO | hw5.seq2seq | begin validation\n"
     ]
    },
    {
     "name": "stderr",
     "output_type": "stream",
     "text": [
      "                                                                            \r"
     ]
    },
    {
     "name": "stdout",
     "output_type": "stream",
     "text": [
      "2022-03-29 13:20:38 | INFO | hw5.seq2seq | example source: police took this blurry photo of me holding leaflets as evidence .\n",
      "2022-03-29 13:20:38 | INFO | hw5.seq2seq | example hypothesis: 警察拍了這張我手上的模糊照片 , 把傳單當作是證據 。\n",
      "2022-03-29 13:20:38 | INFO | hw5.seq2seq | example reference: 警察幫我拍了這張模糊的相片 , 把傳單當作是證據 。\n",
      "2022-03-29 13:20:38 | INFO | hw5.seq2seq | validation loss:\t2.9707\n",
      "2022-03-29 13:20:38 | INFO | hw5.seq2seq | BLEU = 36.43 63.7/42.2/30.1/22.8 (BP = 0.988 ratio = 0.988 hyp_len = 110471 ref_len = 111811)\n",
      "2022-03-29 13:20:42 | INFO | hw5.seq2seq | saved epoch checkpoint: /home/tienyi/ML/HW05/checkpoints/transformer-big/checkpoint50.pt\n",
      "2022-03-29 13:20:45 | INFO | hw5.seq2seq | end of epoch 50\n"
     ]
    }
   ],
   "source": [
    "epoch_itr = load_data_iterator(task, \"train\", config.start_epoch, config.max_tokens, config.num_workers)\n",
    "try_load_checkpoint(model, optimizer, name=config.resume)\n",
    "norm = []\n",
    "while epoch_itr.next_epoch_idx <= config.max_epoch:\n",
    "    # train for one epoch\n",
    "    stats = train_one_epoch(epoch_itr, model, task, criterion, optimizer, config.accum_steps)\n",
    "    norm += stats[\"norm\"]\n",
    "    stats = validate_and_save(model, task, criterion, optimizer, epoch=epoch_itr.epoch)\n",
    "    logger.info(\"end of epoch {}\".format(epoch_itr.epoch))    \n",
    "    epoch_itr = load_data_iterator(task, \"train\", epoch_itr.next_epoch_idx, config.max_tokens, config.num_workers)\n"
   ]
  },
  {
   "cell_type": "markdown",
   "metadata": {},
   "source": [
    "# Plot the clipping norm"
   ]
  },
  {
   "cell_type": "code",
   "execution_count": 77,
   "metadata": {},
   "outputs": [
    {
     "data": {
      "image/png": "[encoded data removed]",
      "text/plain": [
       "<Figure size 1728x576 with 1 Axes>"
      ]
     },
     "metadata": {
      "needs_background": "light"
     },
     "output_type": "display_data"
    }
   ],
   "source": [
    "norm_ = [n.detach().cpu() for n in norm]\n",
    "plt.figure(figsize=(24, 8))\n",
    "plt.plot(list(range(1, len(norm_)+1, 10)), norm_[::10])\n",
    "plt.axhline(y=1, xmin=0, color='r')\n",
    "plt.xlabel('Steps')\n",
    "plt.xlim(0, 40000)\n",
    "plt.ylabel('Grad norm')\n",
    "plt.savefig('gnorm.png')\n",
    "plt.show()"
   ]
  },
  {
   "cell_type": "markdown",
   "metadata": {},
   "source": [
    "# Plot positional embeddings"
   ]
  },
  {
   "cell_type": "code",
   "execution_count": 78,
   "metadata": {},
   "outputs": [
    {
     "name": "stdout",
     "output_type": "stream",
     "text": [
      "2022-03-29 13:20:46 | INFO | hw5.seq2seq | loaded checkpoint checkpoints/transformer-big/checkpoint_last.pt: step=36528 loss=2.9706804752349854 bleu=36.42864046982063\n"
     ]
    },
    {
     "data": {
      "image/png": "[encoded data removed]",
      "text/plain": [
       "<Figure size 720x720 with 2 Axes>"
      ]
     },
     "metadata": {
      "needs_background": "light"
     },
     "output_type": "display_data"
    }
   ],
   "source": [
    "try_load_checkpoint(model, optimizer, name=config.resume)\n",
    "pos_emb = model.decoder.embed_positions.weights.cpu().detach()\n",
    "N = pos_emb.shape[0]\n",
    "cos_similarity = np.zeros((N, N))\n",
    "for row in range(N):\n",
    "    for col in range(N):\n",
    "        cos_similarity[row, col] = F.cosine_similarity(pos_emb[row], pos_emb[col], dim=0).squeeze(-1)\n",
    "\n",
    "plt.figure(figsize=(10, 10))\n",
    "ax = sns.heatmap(cos_similarity)\n",
    "plt.xticks([])\n",
    "plt.yticks([])\n",
    "plt.savefig('positional_embedding.png')\n",
    "plt.show()"
   ]
  },
  {
   "cell_type": "markdown",
   "metadata": {},
   "source": [
    "# Submission"
   ]
  },
  {
   "cell_type": "code",
   "execution_count": 79,
   "metadata": {},
   "outputs": [
    {
     "name": "stdout",
     "output_type": "stream",
     "text": [
      "No protocol specified\n",
      "Namespace(checkpoint_upper_bound=None, inputs=['./checkpoints/transformer-big'], num_epoch_checkpoints=15, num_update_checkpoints=None, output='./checkpoints/transformer-big/avg_last_15_checkpoint.pt')\n",
      "averaging checkpoints:  ['./checkpoints/transformer-big/checkpoint50.pt', './checkpoints/transformer-big/checkpoint49.pt', './checkpoints/transformer-big/checkpoint48.pt', './checkpoints/transformer-big/checkpoint47.pt', './checkpoints/transformer-big/checkpoint46.pt', './checkpoints/transformer-big/checkpoint45.pt', './checkpoints/transformer-big/checkpoint44.pt', './checkpoints/transformer-big/checkpoint43.pt', './checkpoints/transformer-big/checkpoint42.pt', './checkpoints/transformer-big/checkpoint41.pt', './checkpoints/transformer-big/checkpoint40.pt', './checkpoints/transformer-big/checkpoint39.pt', './checkpoints/transformer-big/checkpoint38.pt', './checkpoints/transformer-big/checkpoint37.pt', './checkpoints/transformer-big/checkpoint36.pt']\n",
      "Finished writing averaged checkpoint to ./checkpoints/transformer-big/avg_last_15_checkpoint.pt\n"
     ]
    }
   ],
   "source": [
    "# averaging a few checkpoints can have a similar effect to ensemble\n",
    "checkpoint_name = f\"avg_last_{config.keep_last_epochs}_checkpoint.pt\"\n",
    "checkdir=config.savedir\n",
    "!python ./fairseq/scripts/average_checkpoints.py \\\n",
    "--inputs {checkdir} \\\n",
    "--num-epoch-checkpoints {config.keep_last_epochs} \\\n",
    "--output {checkdir}/{checkpoint_name}"
   ]
  },
  {
   "cell_type": "markdown",
   "metadata": {},
   "source": [
    "## Confirm model weights used to generate submission"
   ]
  },
  {
   "cell_type": "code",
   "execution_count": 80,
   "metadata": {},
   "outputs": [
    {
     "name": "stdout",
     "output_type": "stream",
     "text": [
      "2022-03-29 13:21:10 | INFO | hw5.seq2seq | loaded checkpoint checkpoints/transformer-big/avg_last_15_checkpoint.pt: step=unknown loss=2.9706804752349854 bleu=36.42864046982063\n",
      "2022-03-29 13:21:10 | INFO | hw5.seq2seq | begin validation\n"
     ]
    },
    {
     "name": "stderr",
     "output_type": "stream",
     "text": [
      "                                                                            \r"
     ]
    },
    {
     "name": "stdout",
     "output_type": "stream",
     "text": [
      "2022-03-29 13:21:50 | INFO | hw5.seq2seq | example source: so this is already evidence of how , in the academic literature , we will see a biased sample of the true picture of all of the scientific studies that have been conducted .\n",
      "2022-03-29 13:21:50 | INFO | hw5.seq2seq | example hypothesis: 這已經是學術文獻中如何產生偏頗結果的證據 , 在已進行的科學研究中 , 我們會有一個偏頗的樣本 。\n",
      "2022-03-29 13:21:50 | INFO | hw5.seq2seq | example reference: 由此可見 , 在學術界裡許多科學研究都存在一種特定偏見\n",
      "2022-03-29 13:21:50 | INFO | hw5.seq2seq | validation loss:\t2.9424\n",
      "2022-03-29 13:21:50 | INFO | hw5.seq2seq | BLEU = 36.84 63.9/42.6/30.5/23.1 (BP = 0.990 ratio = 0.990 hyp_len = 110707 ref_len = 111811)\n"
     ]
    }
   ],
   "source": [
    "# checkpoint_last.pt : latest epoch\n",
    "# checkpoint_best.pt : highest validation bleu\n",
    "# avg_last_5_checkpoint.pt:　the average of last 5 epochs\n",
    "try_load_checkpoint(model, name=checkpoint_name)\n",
    "validate(model, task, criterion, log_to_wandb=False)\n",
    "None"
   ]
  },
  {
   "cell_type": "markdown",
   "metadata": {},
   "source": [
    "## Generate Prediction"
   ]
  },
  {
   "cell_type": "code",
   "execution_count": 81,
   "metadata": {},
   "outputs": [
    {
     "name": "stdout",
     "output_type": "stream",
     "text": [
      "2022-03-29 13:21:50 | INFO | fairseq.data.data_utils | loaded 4,000 examples from: ./DATA/data-bin/ted2020_with_mono/test.zh-en.en\n",
      "2022-03-29 13:21:50 | INFO | fairseq.data.data_utils | loaded 4,000 examples from: ./DATA/data-bin/ted2020_with_mono/test.zh-en.zh\n",
      "2022-03-29 13:21:50 | INFO | fairseq.tasks.translation | ./DATA/data-bin/ted2020_with_mono test en-zh 4000 examples\n"
     ]
    },
    {
     "name": "stderr",
     "output_type": "stream",
     "text": [
      "prediction: 100%|██████████| 26/26 [00:34<00:00,  1.33s/it]\n"
     ]
    }
   ],
   "source": [
    "generate_prediction(model, task, outfile=\"prediction.txt\")"
   ]
  },
  {
   "cell_type": "code",
   "execution_count": 82,
   "metadata": {},
   "outputs": [
    {
     "name": "stdout",
     "output_type": "stream",
     "text": [
      "所以我們做的第一件事就是給成人一個我們給小孩子的版本海盜問題\n",
      "這是唯一的解釋 。 因為為什麼你需要告訴人們某個東西是炎熱的 ?\n",
      "謝謝 。\n",
      "儘管源源源不絕地制定公制 , 許多美國人認為用腳和英鎊比較直觀 。\n",
      "然後我們製作了一張概率地圖 , 標示他們可能去過哪裡 。\n"
     ]
    }
   ],
   "source": [
    "!head prediction.txt -n 5"
   ]
  },
  {
   "cell_type": "code",
   "execution_count": null,
   "metadata": {},
   "outputs": [],
   "source": []
  },
  {
   "cell_type": "code",
   "execution_count": null,
   "metadata": {},
   "outputs": [],
   "source": []
  }
 ],
 "metadata": {
  "accelerator": "GPU",
  "colab": {
   "collapsed_sections": [
    "nKb4u67-sT_Z",
    "n1rwQysTsdJq",
    "59si_C0Wsms7",
    "oOpG4EBRLwe_",
    "6ZlE_1JnMv56",
    "UDAPmxjRNEEL",
    "ce5n4eS7NQNy",
    "rUB9f1WCNgMH",
    "VFJlkOMONsc6",
    "Gt1lX3DRO_yU",
    "BAGMiun8PnZy",
    "JOVQRHzGQU4-",
    "jegH0bvMQVmR",
    "a65glBVXQZiE",
    "smA0JraEQdxz",
    "Jn4XeawpQjLk"
   ],
   "name": "HW05.ipynb",
   "provenance": []
  },
  "kernelspec": {
   "display_name": "Python 3 (ipykernel)",
   "language": "python",
   "name": "python3"
  },
  "language_info": {
   "codemirror_mode": {
    "name": "ipython",
    "version": 3
   },
   "file_extension": ".py",
   "mimetype": "text/x-python",
   "name": "python",
   "nbconvert_exporter": "python",
   "pygments_lexer": "ipython3",
   "version": "3.8.10"
  }
 },
 "nbformat": 4,
 "nbformat_minor": 1
}
