{
  "cells": [
    {
      "cell_type": "markdown",
      "metadata": {
        "id": "xvSGDbExff_I"
      },
      "source": [
        "# **Homework 7 - Bert (Question Answering)**\n",
        "\n",
        "If you have any questions, feel free to email us at mlta-2022-spring@googlegroups.com\n",
        "\n",
        "\n",
        "\n",
        "Slide:    [Link](https://docs.google.com/presentation/d/1H5ZONrb2LMOCixLY7D5_5-7LkIaXO6AGEaV2mRdTOMY/edit?usp=sharing)　Kaggle: [Link](https://www.kaggle.com/c/ml2022spring-hw7)　Data: [Link](https://drive.google.com/uc?id=1AVgZvy3VFeg0fX-6WQJMHPVrx3A-M1kb)\n",
        "\n",
        "\n"
      ]
    },
    {
      "cell_type": "markdown",
      "metadata": {
        "id": "WGOr_eS3wJJf"
      },
      "source": [
        "## Task description\n",
        "- Chinese Extractive Question Answering\n",
        "  - Input: Paragraph + Question\n",
        "  - Output: Answer\n",
        "\n",
        "- Objective: Learn how to fine tune a pretrained model on downstream task using transformers\n",
        "\n",
        "- Todo\n",
        "    - Fine tune a pretrained chinese BERT model\n",
        "    - Change hyperparameters (e.g. doc_stride)\n",
        "    - Apply linear learning rate decay\n",
        "    - Try other pretrained models\n",
        "    - Improve preprocessing\n",
        "    - Improve postprocessing\n",
        "- Training tips\n",
        "    - Automatic mixed precision\n",
        "    - Gradient accumulation\n",
        "    - Ensemble\n",
        "\n",
        "- Estimated training time (tesla t4 with automatic mixed precision enabled)\n",
        "    - Simple: 8mins\n",
        "    - Medium: 8mins\n",
        "    - Strong: 25mins\n",
        "    - Boss: 2.5hrs\n",
        "  "
      ]
    },
    {
      "cell_type": "markdown",
      "metadata": {
        "id": "TJ1fSAJE2oaC"
      },
      "source": [
        "## Download Dataset"
      ]
    },
    {
      "cell_type": "code",
      "execution_count": null,
      "metadata": {
        "colab": {
          "base_uri": "https://localhost:8080/"
        },
        "id": "YPrc4Eie9Yo5",
        "outputId": "d98ac5d7-dfba-4c11-8336-337279b710e4"
      },
      "outputs": [],
      "source": [
        "# Download link 1\n",
        "!gdown --id '1AVgZvy3VFeg0fX-6WQJMHPVrx3A-M1kb' --output hw7_data.zip\n",
        "\n",
        "# Download Link 2 (if the above link fails) \n",
        "# !gdown --id '1qwjbRjq481lHsnTrrF4OjKQnxzgoLEFR' --output hw7_data.zip\n",
        "\n",
        "# Download Link 3 (if the above link fails) \n",
        "# !gdown --id '1QXuWjNRZH6DscSd6QcRER0cnxmpZvijn' --output hw7_data.zip\n",
        "\n",
        "!unzip -o hw7_data.zip\n",
        "\n",
        "# For this HW, K80 < P4 < T4 < P100 <= T4(fp16) < V100\n",
        "!nvidia-smi"
      ]
    },
    {
      "cell_type": "markdown",
      "metadata": {
        "id": "TevOvhC03m0h"
      },
      "source": [
        "## Install transformers\n",
        "\n",
        "Documentation for the toolkit:　https://huggingface.co/transformers/"
      ]
    },
    {
      "cell_type": "code",
      "execution_count": null,
      "metadata": {
        "colab": {
          "base_uri": "https://localhost:8080/"
        },
        "id": "tbxWFX_jpDom",
        "outputId": "28cab3e5-f03d-4061-e0ba-982de077306c"
      },
      "outputs": [],
      "source": [
        "# You are allowed to change version of transformers or use other toolkits\n",
        "!pip install transformers==4.5.0"
      ]
    },
    {
      "cell_type": "markdown",
      "metadata": {
        "id": "8dKM4yCh4LI_"
      },
      "source": [
        "## Import Packages"
      ]
    },
    {
      "cell_type": "code",
      "execution_count": 1,
      "metadata": {},
      "outputs": [],
      "source": [
        "import json\n",
        "import numpy as np\n",
        "import random\n",
        "import torch\n",
        "import os\n",
        "from torch.utils.data import DataLoader, Dataset \n",
        "from transformers import BertForQuestionAnswering, BertTokenizerFast\n",
        "\n",
        "from tqdm.auto import tqdm\n",
        "\n",
        "device = \"cuda\" if torch.cuda.is_available() else \"cpu\"\n",
        "\n",
        "# Fix random seed for reproducibility\n",
        "def same_seeds(seed):\n",
        "    torch.manual_seed(seed)\n",
        "    if torch.cuda.is_available():\n",
        "        torch.cuda.manual_seed(seed)\n",
        "        torch.cuda.manual_seed_all(seed)\n",
        "    np.random.seed(seed)\n",
        "    random.seed(seed)\n",
        "    torch.backends.cudnn.benchmark = False\n",
        "    torch.backends.cudnn.deterministic = True\n",
        "same_seeds(0)\n"
      ]
    },
    {
      "cell_type": "code",
      "execution_count": 2,
      "metadata": {
        "id": "7pBtSZP1SKQO"
      },
      "outputs": [
        {
          "name": "stdout",
          "output_type": "stream",
          "text": [
            "Requirement already satisfied: accelerate==0.2.0 in /home/tienyi/Machine Learning/MLVENV/lib/python3.8/site-packages (0.2.0)\n",
            "Requirement already satisfied: torch>=1.4.0 in /home/tienyi/Machine Learning/MLVENV/lib/python3.8/site-packages (from accelerate==0.2.0) (1.10.2+cu113)\n",
            "Requirement already satisfied: pyaml>=20.4.0 in /home/tienyi/Machine Learning/MLVENV/lib/python3.8/site-packages (from accelerate==0.2.0) (21.10.1)\n",
            "Requirement already satisfied: typing-extensions in /home/tienyi/Machine Learning/MLVENV/lib/python3.8/site-packages (from torch>=1.4.0->accelerate==0.2.0) (4.1.1)\n",
            "Requirement already satisfied: PyYAML in /home/tienyi/Machine Learning/MLVENV/lib/python3.8/site-packages (from pyaml>=20.4.0->accelerate==0.2.0) (6.0)\n"
          ]
        }
      ],
      "source": [
        "# Change \"fp16_training\" to True to support automatic mixed precision training (fp16)\t\n",
        "fp16_training = True\n",
        "\n",
        "if fp16_training:\n",
        "    !pip install accelerate==0.2.0\n",
        "    from accelerate import Accelerator\n",
        "    accelerator = Accelerator(fp16=True)\n",
        "    device = accelerator.device\n",
        "\n",
        "# Documentation for the toolkit:  https://huggingface.co/docs/accelerate/"
      ]
    },
    {
      "cell_type": "markdown",
      "metadata": {
        "id": "2YgXHuVLp_6j"
      },
      "source": [
        "## Load Tokenizer"
      ]
    },
    {
      "cell_type": "code",
      "execution_count": 3,
      "metadata": {
        "colab": {
          "base_uri": "https://localhost:8080/",
          "height": 287,
          "referenced_widgets": [
            "8b1cd8574eeb4be481b9a81689671f21",
            "fe357de2578b42c2880bf0696b2fbddf",
            "c5fc2e83919a4e339133a10a5794951e",
            "b00759c1e81e41b795679f115bb200ce",
            "9a6e94d371804e81ba5040a33ed4a9bd",
            "83c25332291b46abac011349b8795d92",
            "e8a4fe6ad6bc40649cd2a71552f6485d",
            "c88fa61d9eb946d2afdf45bfd1dda431",
            "9976f33250d84ffd85da6df20dc9107e",
            "862f35dc94d3496ca03a33a0a2d66f7a",
            "d6cbe631180340c5ac3837457a212610",
            "48395b91ef1940c3a37619e1c6d5a719",
            "41ca88d91aeb49f98a10ca1d9923de40",
            "5d4bddac56cc49e6badae42e5a3be7ba",
            "6c18df09f6bb43f0a248fa6dc567374f",
            "0ff1ec1d6cce4076856a325d983bba90",
            "3e13f72cd62e41eab73688915cb1e430",
            "5f2f61f4648b46c8a83a4fcd610bdbf4",
            "7369ec53e6964a44ab1b217c51967d8c",
            "2ff1b05c562140deb9aa8210e1556bf8",
            "824667f4ed754e0ea4e7265af89e434a",
            "32f567d5fcb349458b6d3624449b8935",
            "8c7001b1dc584a3b8abc3999e9dabce9",
            "0a49726a094f484e85a503828619f8eb",
            "2a365f55329d4eb5989bf1415aa841a2",
            "7092c547dc0c4f769b05e0c4b510582c",
            "cf79dec0847142bca22871a019df6740",
            "68edf5ce0e224f11b4cc92b7cbdd189b",
            "95dc984b74fa4dc1be056f7455c21554",
            "0881b8789a97483babee4c52201a8574",
            "f342bbce7b2b452280a38a63781b0f35",
            "58fb752d7f7c4d2292a1a17eb72d217b",
            "43c8e2f94f4641d0aa2b36b5aa60b296",
            "d6f32459b3b04dd2b1c48d935b51a9be",
            "25dd086b18ef431cb00129ab8e78f27f",
            "946cf759cefd45bab98955ba95caf271",
            "88853de796f14a7e9c0a9d8182f181df",
            "1ad40cfa6edf41aea4c5e796ac1893b7",
            "f91747d6687e4245ba03624d39ef9d79",
            "3fa44210c2314dcb85be53c8fbd0fd7d",
            "53df685d281e4b9ead87b8891f788825",
            "1ea24fdaee53457eae02f5349b0c4196",
            "590fced4b9bf46e0b9afa5613ad0d5b8",
            "ca6aada7ba224c6eba1cdd4b1bce6504",
            "da689370fc98488eaa3be4a56a1271c0",
            "513da36fbe49481fb827e302463b0a5f",
            "6468d98ca49e4e088ab18bfc6af14701",
            "f559d69de6514e2f8795389409532697",
            "7178fb2e98ce48aca28885c726740d43",
            "1f6e1c93ad78452a84972838947ac87a",
            "f6f67dc7418c4d2eae5fc706f5f3944d",
            "5d9e9b5a38a142b6ad50d6bc6ddd9f20",
            "0e718373d3d64b8cb7908c0bf27d1d79",
            "2d5d292a2ace4d43a5dad92ed8f376a4",
            "b872511013814bb786b1c8fb84d28e14"
          ]
        },
        "id": "xyBCYGjAp3ym",
        "outputId": "5a9fdfd5-8cec-49b8-ea20-db8c5045dd57"
      },
      "outputs": [],
      "source": [
        "tokenizer = BertTokenizerFast.from_pretrained(\"luhua/chinese_pretrain_mrc_macbert_large\")"
      ]
    },
    {
      "cell_type": "markdown",
      "metadata": {
        "id": "3Td-GTmk5OW4"
      },
      "source": [
        "## Read Data\n",
        "\n",
        "- Training set: 31690 QA pairs\n",
        "- Dev set: 4131  QA pairs\n",
        "- Test set: 4957  QA pairs\n",
        "\n",
        "- {train/dev/test}_questions:\t\n",
        "  - List of dicts with the following keys:\n",
        "   - id (int)\n",
        "   - paragraph_id (int)\n",
        "   - question_text (string)\n",
        "   - answer_text (string)\n",
        "   - answer_start (int)\n",
        "   - answer_end (int)\n",
        "- {train/dev/test}_paragraphs: \n",
        "  - List of strings\n",
        "  - paragraph_ids in questions correspond to indexs in paragraphs\n",
        "  - A paragraph may be used by several questions "
      ]
    },
    {
      "cell_type": "code",
      "execution_count": 4,
      "metadata": {
        "id": "NvX7hlepogvu"
      },
      "outputs": [],
      "source": [
        "def read_data(file):\n",
        "    with open(file, 'r', encoding=\"utf-8\") as reader:\n",
        "        data = json.load(reader)\n",
        "    return data[\"questions\"], data[\"paragraphs\"]\n",
        "\n",
        "dev_questions, dev_paragraphs = read_data(\"hw7_dev.json\")\n",
        "test_questions, test_paragraphs = read_data(\"hw7_test.json\")"
      ]
    },
    {
      "cell_type": "markdown",
      "metadata": {
        "id": "Fm0rpTHq0e4N"
      },
      "source": [
        "## Tokenize Data"
      ]
    },
    {
      "cell_type": "code",
      "execution_count": 5,
      "metadata": {
        "colab": {
          "base_uri": "https://localhost:8080/"
        },
        "id": "rTZ6B70Hoxie",
        "outputId": "103223aa-a2bb-4775-b533-c603c07ba6e7"
      },
      "outputs": [],
      "source": [
        "# Tokenize questions and paragraphs separately\n",
        "# 「add_special_tokens」 is set to False since special tokens will be added when tokenized questions and paragraphs are combined in datset __getitem__ \n",
        "\n",
        "dev_questions_tokenized = tokenizer([dev_question[\"question_text\"] for dev_question in dev_questions], add_special_tokens=False)\n",
        "test_questions_tokenized = tokenizer([test_question[\"question_text\"] for test_question in test_questions], add_special_tokens=False) \n",
        "\n",
        "dev_paragraphs_tokenized = tokenizer(dev_paragraphs, add_special_tokens=False)\n",
        "test_paragraphs_tokenized = tokenizer(test_paragraphs, add_special_tokens=False)\n",
        "\n",
        "# You can safely ignore the warning message as tokenized sequences will be futher processed in datset __getitem__ before passing to model"
      ]
    },
    {
      "cell_type": "markdown",
      "metadata": {
        "id": "Ws8c8_4d5UCI"
      },
      "source": [
        "## Dataset and Dataloader"
      ]
    },
    {
      "cell_type": "code",
      "execution_count": 6,
      "metadata": {
        "id": "Xjooag-Swnuh"
      },
      "outputs": [],
      "source": [
        "class QA_Dataset(Dataset):\n",
        "    def __init__(self, split, questions, tokenized_questions, tokenized_paragraphs, max_seq_len=512, doc_stride=256):\n",
        "        self.split = split\n",
        "        self.questions = questions\n",
        "        self.tokenized_questions = tokenized_questions\n",
        "        self.tokenized_paragraphs = tokenized_paragraphs\n",
        "        # Input sequence length = [CLS] + question + [SEP] + paragraph + [SEP]\n",
        "        self.max_seq_len = max_seq_len\n",
        "        self.max_question_len = 40\n",
        "        self.max_paragraph_len = max_seq_len - (1 + self.max_question_len + 1 + 1)\n",
        "        \n",
        "        ##### TODO: Change value of doc_stride #####\n",
        "        self.doc_stride = doc_stride       # Overlapping\n",
        "\n",
        "        \n",
        "\n",
        "    def __len__(self):\n",
        "        return len(self.questions)\n",
        "\n",
        "    def __getitem__(self, idx):\n",
        "        question = self.questions[idx]\n",
        "        tokenized_question = self.tokenized_questions[idx]\n",
        "        tokenized_paragraph = self.tokenized_paragraphs[question[\"paragraph_id\"]]\n",
        "\n",
        "        ##### TODO: Preprocessing #####\n",
        "        # Hint: How to prevent model from learning something it should not learn\n",
        "\n",
        "        if self.split == \"train\":\n",
        "            # Convert answer's start/end positions in paragraph_text to start/end positions in tokenized_paragraph\n",
        "            answer_start_token = tokenized_paragraph.char_to_token(question[\"answer_start\"])\n",
        "            answer_end_token = tokenized_paragraph.char_to_token(question[\"answer_end\"])\n",
        "\n",
        "            # A single window is obtained by slicing the portion of paragraph containing the answer\n",
        "            mid = int(random.uniform(answer_start_token, answer_end_token))\n",
        "            # mid = int((answer_start_token + answer_end_token) // (2 + random.uniform(-1, 1)))\n",
        "            # mid = (answer_start_token + answer_end_token) // 2\n",
        "            paragraph_start = max(0, min(mid - self.max_paragraph_len // 2, len(tokenized_paragraph) - self.max_paragraph_len))\n",
        "            paragraph_end = paragraph_start + self.max_paragraph_len\n",
        "            \n",
        "            # Slice question/paragraph and add special tokens (101: CLS, 102: SEP)\n",
        "            input_ids_question = [101] + tokenized_question.ids[:self.max_question_len] + [102]\n",
        "            input_ids_paragraph = tokenized_paragraph.ids[paragraph_start : paragraph_end] + [102]\n",
        "            \n",
        "            # Convert answer's start/end positions in tokenized_paragraph to start/end positions in the window  \n",
        "            answer_start_token += len(input_ids_question) - paragraph_start\n",
        "            answer_end_token += len(input_ids_question) - paragraph_start\n",
        "            \n",
        "            # Pad sequence and obtain inputs to model \n",
        "            input_ids, token_type_ids, attention_mask = self.padding(input_ids_question, input_ids_paragraph)\n",
        "            return torch.tensor(input_ids), torch.tensor(token_type_ids), torch.tensor(attention_mask), answer_start_token, answer_end_token\n",
        "\n",
        "        # Validation/Testing\n",
        "        else:\n",
        "            input_ids_list, token_type_ids_list, attention_mask_list = [], [], []\n",
        "            \n",
        "            # Paragraph is split into several windows, each with start positions separated by step \"doc_stride\"\n",
        "            for i in range(0, len(tokenized_paragraph), self.doc_stride):\n",
        "                \n",
        "                # Slice question/paragraph and add special tokens (101: CLS, 102: SEP)\n",
        "                input_ids_question = [101] + tokenized_question.ids[:self.max_question_len] + [102]\n",
        "                input_ids_paragraph = tokenized_paragraph.ids[i : i + self.max_paragraph_len] + [102]\n",
        "                \n",
        "                # Pad sequence and obtain inputs to model\n",
        "                input_ids, token_type_ids, attention_mask = self.padding(input_ids_question, input_ids_paragraph)\n",
        "                \n",
        "                input_ids_list.append(input_ids)\n",
        "                token_type_ids_list.append(token_type_ids)\n",
        "                attention_mask_list.append(attention_mask)\n",
        "            \n",
        "            return torch.tensor(input_ids_list), torch.tensor(token_type_ids_list), torch.tensor(attention_mask_list)\n",
        "\n",
        "    def padding(self, input_ids_question, input_ids_paragraph):\n",
        "        # Pad zeros if sequence length is shorter than max_seq_len\n",
        "        padding_len = self.max_seq_len - len(input_ids_question) - len(input_ids_paragraph)\n",
        "        # Indices of input sequence tokens in the vocabulary\n",
        "        input_ids = input_ids_question + input_ids_paragraph + [0] * padding_len\n",
        "        # Segment token indices to indicate first and second portions of the inputs. Indices are selected in [0, 1]\n",
        "        token_type_ids = [0] * len(input_ids_question) + [1] * len(input_ids_paragraph) + [0] * padding_len\n",
        "        # Mask to avoid performing attention on padding token indices. Mask values selected in [0, 1]\n",
        "        attention_mask = [1] * (len(input_ids_question) + len(input_ids_paragraph)) + [0] * padding_len\n",
        "        \n",
        "        return input_ids, token_type_ids, attention_mask"
      ]
    },
    {
      "cell_type": "markdown",
      "metadata": {},
      "source": [
        "## Configuration"
      ]
    },
    {
      "cell_type": "code",
      "execution_count": 7,
      "metadata": {},
      "outputs": [],
      "source": [
        "max_seq_len = 512\n",
        "doc_stride = 256\n",
        "topk = 5"
      ]
    },
    {
      "cell_type": "markdown",
      "metadata": {},
      "source": [
        "## DataLoader"
      ]
    },
    {
      "cell_type": "code",
      "execution_count": 8,
      "metadata": {},
      "outputs": [],
      "source": [
        "dev_set = QA_Dataset(\"dev\", dev_questions, dev_questions_tokenized, dev_paragraphs_tokenized, max_seq_len=max_seq_len, doc_stride=doc_stride)\n",
        "test_set = QA_Dataset(\"test\", test_questions, test_questions_tokenized, test_paragraphs_tokenized, max_seq_len=max_seq_len, doc_stride=doc_stride)\n",
        "\n",
        "# Note: Do NOT change batch size of dev_loader / test_loader !\n",
        "# Although batch size=1, it is actually a batch consisting of several windows from the same QA pair\n",
        "dev_loader = DataLoader(dev_set, batch_size=1, shuffle=False, pin_memory=True)\n",
        "test_loader = DataLoader(test_set, batch_size=1, shuffle=False, pin_memory=True)"
      ]
    },
    {
      "cell_type": "markdown",
      "metadata": {
        "id": "kMmdLOKBMsdE"
      },
      "source": [
        "## Testing"
      ]
    },
    {
      "cell_type": "code",
      "execution_count": 9,
      "metadata": {},
      "outputs": [
        {
          "name": "stdout",
          "output_type": "stream",
          "text": [
            "Requirement already satisfied: accelerate==0.2.0 in /home/tienyi/Machine Learning/MLVENV/lib/python3.8/site-packages (0.2.0)\n",
            "Requirement already satisfied: torch>=1.4.0 in /home/tienyi/Machine Learning/MLVENV/lib/python3.8/site-packages (from accelerate==0.2.0) (1.10.2+cu113)\n",
            "Requirement already satisfied: pyaml>=20.4.0 in /home/tienyi/Machine Learning/MLVENV/lib/python3.8/site-packages (from accelerate==0.2.0) (21.10.1)\n",
            "Requirement already satisfied: typing-extensions in /home/tienyi/Machine Learning/MLVENV/lib/python3.8/site-packages (from torch>=1.4.0->accelerate==0.2.0) (4.1.1)\n",
            "Requirement already satisfied: PyYAML in /home/tienyi/Machine Learning/MLVENV/lib/python3.8/site-packages (from pyaml>=20.4.0->accelerate==0.2.0) (6.0)\n",
            "Start Training ...\n"
          ]
        },
        {
          "name": "stderr",
          "output_type": "stream",
          "text": [
            " 25%|██▌       | 998/3962 [04:56<14:33,  3.39it/s]"
          ]
        },
        {
          "name": "stdout",
          "output_type": "stream",
          "text": [
            "Epoch 1 | Step 1000 | loss = 0.642, acc = 0.750\n"
          ]
        },
        {
          "name": "stderr",
          "output_type": "stream",
          "text": [
            " 50%|█████     | 1998/3962 [09:56<09:42,  3.37it/s]"
          ]
        },
        {
          "name": "stdout",
          "output_type": "stream",
          "text": [
            "Epoch 1 | Step 2000 | loss = 0.518, acc = 0.800\n"
          ]
        },
        {
          "name": "stderr",
          "output_type": "stream",
          "text": [
            " 76%|███████▌  | 2998/3962 [15:00<04:48,  3.34it/s]"
          ]
        },
        {
          "name": "stdout",
          "output_type": "stream",
          "text": [
            "Epoch 1 | Step 3000 | loss = 0.482, acc = 0.807\n"
          ]
        },
        {
          "name": "stderr",
          "output_type": "stream",
          "text": [
            "100%|██████████| 3962/3962 [19:52<00:00,  3.32it/s]\n",
            "  0%|          | 0/4131 [00:00<?, ?it/s]"
          ]
        },
        {
          "name": "stdout",
          "output_type": "stream",
          "text": [
            "Evaluating Dev Set ...\n"
          ]
        },
        {
          "name": "stderr",
          "output_type": "stream",
          "text": [
            "100%|██████████| 4131/4131 [02:37<00:00, 26.15it/s]\n"
          ]
        },
        {
          "name": "stdout",
          "output_type": "stream",
          "text": [
            "Validation | Epoch 1 | acc = 0.816\n",
            "Saving Model with Epoch 1...\n"
          ]
        },
        {
          "name": "stderr",
          "output_type": "stream",
          "text": [
            " 25%|██▌       | 998/3962 [05:02<14:45,  3.35it/s]"
          ]
        },
        {
          "name": "stdout",
          "output_type": "stream",
          "text": [
            "Epoch 2 | Step 1000 | loss = 0.186, acc = 0.906\n"
          ]
        },
        {
          "name": "stderr",
          "output_type": "stream",
          "text": [
            " 50%|█████     | 1998/3962 [10:05<09:49,  3.33it/s]"
          ]
        },
        {
          "name": "stdout",
          "output_type": "stream",
          "text": [
            "Epoch 2 | Step 2000 | loss = 0.181, acc = 0.909\n"
          ]
        },
        {
          "name": "stderr",
          "output_type": "stream",
          "text": [
            " 76%|███████▌  | 2998/3962 [15:08<04:49,  3.33it/s]"
          ]
        },
        {
          "name": "stdout",
          "output_type": "stream",
          "text": [
            "Epoch 2 | Step 3000 | loss = 0.166, acc = 0.919\n"
          ]
        },
        {
          "name": "stderr",
          "output_type": "stream",
          "text": [
            "100%|██████████| 3962/3962 [19:59<00:00,  3.30it/s]\n",
            "  0%|          | 0/4131 [00:00<?, ?it/s]"
          ]
        },
        {
          "name": "stdout",
          "output_type": "stream",
          "text": [
            "Evaluating Dev Set ...\n"
          ]
        },
        {
          "name": "stderr",
          "output_type": "stream",
          "text": [
            "100%|██████████| 4131/4131 [02:38<00:00, 26.14it/s]\n"
          ]
        },
        {
          "name": "stdout",
          "output_type": "stream",
          "text": [
            "Validation | Epoch 2 | acc = 0.824\n",
            "Saving Model with Epoch 2...\n"
          ]
        },
        {
          "name": "stderr",
          "output_type": "stream",
          "text": [
            " 25%|██▌       | 998/3962 [05:02<14:44,  3.35it/s]"
          ]
        },
        {
          "name": "stdout",
          "output_type": "stream",
          "text": [
            "Epoch 3 | Step 1000 | loss = 0.060, acc = 0.968\n"
          ]
        },
        {
          "name": "stderr",
          "output_type": "stream",
          "text": [
            " 50%|█████     | 1998/3962 [10:05<09:45,  3.35it/s]"
          ]
        },
        {
          "name": "stdout",
          "output_type": "stream",
          "text": [
            "Epoch 3 | Step 2000 | loss = 0.058, acc = 0.969\n"
          ]
        },
        {
          "name": "stderr",
          "output_type": "stream",
          "text": [
            " 76%|███████▌  | 2998/3962 [15:08<04:47,  3.35it/s]"
          ]
        },
        {
          "name": "stdout",
          "output_type": "stream",
          "text": [
            "Epoch 3 | Step 3000 | loss = 0.054, acc = 0.971\n"
          ]
        },
        {
          "name": "stderr",
          "output_type": "stream",
          "text": [
            "100%|██████████| 3962/3962 [19:58<00:00,  3.30it/s]\n",
            "  0%|          | 0/4131 [00:00<?, ?it/s]"
          ]
        },
        {
          "name": "stdout",
          "output_type": "stream",
          "text": [
            "Evaluating Dev Set ...\n"
          ]
        },
        {
          "name": "stderr",
          "output_type": "stream",
          "text": [
            "100%|██████████| 4131/4131 [02:37<00:00, 26.21it/s]\n"
          ]
        },
        {
          "name": "stdout",
          "output_type": "stream",
          "text": [
            "Validation | Epoch 3 | acc = 0.826\n",
            "Saving Model with Epoch 3...\n",
            "Requirement already satisfied: accelerate==0.2.0 in /home/tienyi/Machine Learning/MLVENV/lib/python3.8/site-packages (0.2.0)\n",
            "Requirement already satisfied: pyaml>=20.4.0 in /home/tienyi/Machine Learning/MLVENV/lib/python3.8/site-packages (from accelerate==0.2.0) (21.10.1)\n",
            "Requirement already satisfied: torch>=1.4.0 in /home/tienyi/Machine Learning/MLVENV/lib/python3.8/site-packages (from accelerate==0.2.0) (1.10.2+cu113)\n",
            "Requirement already satisfied: PyYAML in /home/tienyi/Machine Learning/MLVENV/lib/python3.8/site-packages (from pyaml>=20.4.0->accelerate==0.2.0) (6.0)\n",
            "Requirement already satisfied: typing-extensions in /home/tienyi/Machine Learning/MLVENV/lib/python3.8/site-packages (from torch>=1.4.0->accelerate==0.2.0) (4.1.1)\n",
            "Start Training ...\n"
          ]
        },
        {
          "name": "stderr",
          "output_type": "stream",
          "text": [
            " 25%|██▌       | 998/3962 [05:01<14:43,  3.36it/s]"
          ]
        },
        {
          "name": "stdout",
          "output_type": "stream",
          "text": [
            "Epoch 1 | Step 1000 | loss = 0.668, acc = 0.747\n"
          ]
        },
        {
          "name": "stderr",
          "output_type": "stream",
          "text": [
            " 50%|█████     | 1998/3962 [10:03<09:46,  3.35it/s]"
          ]
        },
        {
          "name": "stdout",
          "output_type": "stream",
          "text": [
            "Epoch 1 | Step 2000 | loss = 0.518, acc = 0.798\n"
          ]
        },
        {
          "name": "stderr",
          "output_type": "stream",
          "text": [
            " 76%|███████▌  | 2998/3962 [15:07<04:48,  3.34it/s]"
          ]
        },
        {
          "name": "stdout",
          "output_type": "stream",
          "text": [
            "Epoch 1 | Step 3000 | loss = 0.494, acc = 0.804\n"
          ]
        },
        {
          "name": "stderr",
          "output_type": "stream",
          "text": [
            "100%|██████████| 3962/3962 [19:59<00:00,  3.30it/s]\n",
            "  0%|          | 0/4131 [00:00<?, ?it/s]"
          ]
        },
        {
          "name": "stdout",
          "output_type": "stream",
          "text": [
            "Evaluating Dev Set ...\n"
          ]
        },
        {
          "name": "stderr",
          "output_type": "stream",
          "text": [
            "100%|██████████| 4131/4131 [02:37<00:00, 26.21it/s]\n"
          ]
        },
        {
          "name": "stdout",
          "output_type": "stream",
          "text": [
            "Validation | Epoch 1 | acc = 0.825\n",
            "Saving Model with Epoch 1...\n"
          ]
        },
        {
          "name": "stderr",
          "output_type": "stream",
          "text": [
            " 25%|██▌       | 998/3962 [05:02<14:45,  3.35it/s]"
          ]
        },
        {
          "name": "stdout",
          "output_type": "stream",
          "text": [
            "Epoch 2 | Step 1000 | loss = 0.180, acc = 0.913\n"
          ]
        },
        {
          "name": "stderr",
          "output_type": "stream",
          "text": [
            " 50%|█████     | 1998/3962 [10:06<09:46,  3.35it/s]"
          ]
        },
        {
          "name": "stdout",
          "output_type": "stream",
          "text": [
            "Epoch 2 | Step 2000 | loss = 0.178, acc = 0.914\n"
          ]
        },
        {
          "name": "stderr",
          "output_type": "stream",
          "text": [
            " 76%|███████▌  | 2998/3962 [15:08<04:47,  3.35it/s]"
          ]
        },
        {
          "name": "stdout",
          "output_type": "stream",
          "text": [
            "Epoch 2 | Step 3000 | loss = 0.158, acc = 0.919\n"
          ]
        },
        {
          "name": "stderr",
          "output_type": "stream",
          "text": [
            "100%|██████████| 3962/3962 [20:00<00:00,  3.30it/s]\n",
            "  0%|          | 0/4131 [00:00<?, ?it/s]"
          ]
        },
        {
          "name": "stdout",
          "output_type": "stream",
          "text": [
            "Evaluating Dev Set ...\n"
          ]
        },
        {
          "name": "stderr",
          "output_type": "stream",
          "text": [
            "100%|██████████| 4131/4131 [02:38<00:00, 26.10it/s]\n"
          ]
        },
        {
          "name": "stdout",
          "output_type": "stream",
          "text": [
            "Validation | Epoch 2 | acc = 0.823\n"
          ]
        },
        {
          "name": "stderr",
          "output_type": "stream",
          "text": [
            " 25%|██▌       | 998/3962 [05:01<14:41,  3.36it/s]"
          ]
        },
        {
          "name": "stdout",
          "output_type": "stream",
          "text": [
            "Epoch 3 | Step 1000 | loss = 0.052, acc = 0.975\n"
          ]
        },
        {
          "name": "stderr",
          "output_type": "stream",
          "text": [
            " 50%|█████     | 1998/3962 [10:04<09:48,  3.34it/s]"
          ]
        },
        {
          "name": "stdout",
          "output_type": "stream",
          "text": [
            "Epoch 3 | Step 2000 | loss = 0.062, acc = 0.970\n"
          ]
        },
        {
          "name": "stderr",
          "output_type": "stream",
          "text": [
            " 76%|███████▌  | 2998/3962 [15:07<04:47,  3.36it/s]"
          ]
        },
        {
          "name": "stdout",
          "output_type": "stream",
          "text": [
            "Epoch 3 | Step 3000 | loss = 0.048, acc = 0.974\n"
          ]
        },
        {
          "name": "stderr",
          "output_type": "stream",
          "text": [
            "100%|██████████| 3962/3962 [19:58<00:00,  3.31it/s]\n",
            "  0%|          | 0/4131 [00:00<?, ?it/s]"
          ]
        },
        {
          "name": "stdout",
          "output_type": "stream",
          "text": [
            "Evaluating Dev Set ...\n"
          ]
        },
        {
          "name": "stderr",
          "output_type": "stream",
          "text": [
            "100%|█████████▉| 4129/4131 [02:37<00:00, 26.34it/s]"
          ]
        },
        {
          "name": "stdout",
          "output_type": "stream",
          "text": [
            "Validation | Epoch 3 | acc = 0.829\n",
            "Saving Model with Epoch 3...\n"
          ]
        },
        {
          "name": "stderr",
          "output_type": "stream",
          "text": [
            "100%|██████████| 4131/4131 [02:37<00:00, 26.18it/s]\n"
          ]
        },
        {
          "name": "stdout",
          "output_type": "stream",
          "text": [
            "Requirement already satisfied: accelerate==0.2.0 in /home/tienyi/Machine Learning/MLVENV/lib/python3.8/site-packages (0.2.0)\n",
            "Requirement already satisfied: torch>=1.4.0 in /home/tienyi/Machine Learning/MLVENV/lib/python3.8/site-packages (from accelerate==0.2.0) (1.10.2+cu113)\n",
            "Requirement already satisfied: pyaml>=20.4.0 in /home/tienyi/Machine Learning/MLVENV/lib/python3.8/site-packages (from accelerate==0.2.0) (21.10.1)\n",
            "Requirement already satisfied: typing-extensions in /home/tienyi/Machine Learning/MLVENV/lib/python3.8/site-packages (from torch>=1.4.0->accelerate==0.2.0) (4.1.1)\n",
            "Requirement already satisfied: PyYAML in /home/tienyi/Machine Learning/MLVENV/lib/python3.8/site-packages (from pyaml>=20.4.0->accelerate==0.2.0) (6.0)\n"
          ]
        },
        {
          "name": "stderr",
          "output_type": "stream",
          "text": [
            "Some weights of the model checkpoint at hfl/chinese-macbert-large were not used when initializing BertForQuestionAnswering: ['cls.seq_relationship.bias', 'cls.predictions.decoder.bias', 'cls.predictions.transform.LayerNorm.weight', 'cls.predictions.transform.dense.weight', 'cls.predictions.transform.LayerNorm.bias', 'cls.predictions.bias', 'cls.predictions.transform.dense.bias', 'cls.predictions.decoder.weight', 'cls.seq_relationship.weight']\n",
            "- This IS expected if you are initializing BertForQuestionAnswering from the checkpoint of a model trained on another task or with another architecture (e.g. initializing a BertForSequenceClassification model from a BertForPreTraining model).\n",
            "- This IS NOT expected if you are initializing BertForQuestionAnswering from the checkpoint of a model that you expect to be exactly identical (initializing a BertForSequenceClassification model from a BertForSequenceClassification model).\n",
            "Some weights of BertForQuestionAnswering were not initialized from the model checkpoint at hfl/chinese-macbert-large and are newly initialized: ['qa_outputs.weight', 'qa_outputs.bias']\n",
            "You should probably TRAIN this model on a down-stream task to be able to use it for predictions and inference.\n"
          ]
        },
        {
          "name": "stdout",
          "output_type": "stream",
          "text": [
            "Start Training ...\n"
          ]
        },
        {
          "name": "stderr",
          "output_type": "stream",
          "text": [
            " 25%|██▌       | 998/3962 [05:00<14:44,  3.35it/s]"
          ]
        },
        {
          "name": "stdout",
          "output_type": "stream",
          "text": [
            "Epoch 1 | Step 1000 | loss = 1.083, acc = 0.646\n"
          ]
        },
        {
          "name": "stderr",
          "output_type": "stream",
          "text": [
            " 50%|█████     | 1998/3962 [10:05<09:50,  3.32it/s]"
          ]
        },
        {
          "name": "stdout",
          "output_type": "stream",
          "text": [
            "Epoch 1 | Step 2000 | loss = 0.621, acc = 0.758\n"
          ]
        },
        {
          "name": "stderr",
          "output_type": "stream",
          "text": [
            " 76%|███████▌  | 2998/3962 [15:10<04:50,  3.32it/s]"
          ]
        },
        {
          "name": "stdout",
          "output_type": "stream",
          "text": [
            "Epoch 1 | Step 3000 | loss = 0.587, acc = 0.777\n"
          ]
        },
        {
          "name": "stderr",
          "output_type": "stream",
          "text": [
            "100%|██████████| 3962/3962 [20:01<00:00,  3.30it/s]\n",
            "  0%|          | 0/4131 [00:00<?, ?it/s]"
          ]
        },
        {
          "name": "stdout",
          "output_type": "stream",
          "text": [
            "Evaluating Dev Set ...\n"
          ]
        },
        {
          "name": "stderr",
          "output_type": "stream",
          "text": [
            "100%|██████████| 4131/4131 [02:37<00:00, 26.25it/s]\n"
          ]
        },
        {
          "name": "stdout",
          "output_type": "stream",
          "text": [
            "Validation | Epoch 1 | acc = 0.797\n",
            "Saving Model with Epoch 1...\n"
          ]
        },
        {
          "name": "stderr",
          "output_type": "stream",
          "text": [
            " 25%|██▌       | 998/3962 [05:04<14:49,  3.33it/s]"
          ]
        },
        {
          "name": "stdout",
          "output_type": "stream",
          "text": [
            "Epoch 2 | Step 1000 | loss = 0.244, acc = 0.886\n"
          ]
        },
        {
          "name": "stderr",
          "output_type": "stream",
          "text": [
            " 50%|█████     | 1998/3962 [10:07<09:46,  3.35it/s]"
          ]
        },
        {
          "name": "stdout",
          "output_type": "stream",
          "text": [
            "Epoch 2 | Step 2000 | loss = 0.234, acc = 0.891\n"
          ]
        },
        {
          "name": "stderr",
          "output_type": "stream",
          "text": [
            " 76%|███████▌  | 2998/3962 [15:09<04:47,  3.35it/s]"
          ]
        },
        {
          "name": "stdout",
          "output_type": "stream",
          "text": [
            "Epoch 2 | Step 3000 | loss = 0.237, acc = 0.894\n"
          ]
        },
        {
          "name": "stderr",
          "output_type": "stream",
          "text": [
            "100%|██████████| 3962/3962 [20:01<00:00,  3.30it/s]\n",
            "  0%|          | 0/4131 [00:00<?, ?it/s]"
          ]
        },
        {
          "name": "stdout",
          "output_type": "stream",
          "text": [
            "Evaluating Dev Set ...\n"
          ]
        },
        {
          "name": "stderr",
          "output_type": "stream",
          "text": [
            "100%|██████████| 4131/4131 [02:37<00:00, 26.26it/s]\n"
          ]
        },
        {
          "name": "stdout",
          "output_type": "stream",
          "text": [
            "Validation | Epoch 2 | acc = 0.808\n",
            "Saving Model with Epoch 2...\n"
          ]
        },
        {
          "name": "stderr",
          "output_type": "stream",
          "text": [
            " 25%|██▌       | 998/3962 [05:01<14:42,  3.36it/s]"
          ]
        },
        {
          "name": "stdout",
          "output_type": "stream",
          "text": [
            "Epoch 3 | Step 1000 | loss = 0.080, acc = 0.958\n"
          ]
        },
        {
          "name": "stderr",
          "output_type": "stream",
          "text": [
            " 50%|█████     | 1998/3962 [10:03<09:44,  3.36it/s]"
          ]
        },
        {
          "name": "stdout",
          "output_type": "stream",
          "text": [
            "Epoch 3 | Step 2000 | loss = 0.074, acc = 0.961\n"
          ]
        },
        {
          "name": "stderr",
          "output_type": "stream",
          "text": [
            " 76%|███████▌  | 2998/3962 [15:06<04:48,  3.35it/s]"
          ]
        },
        {
          "name": "stdout",
          "output_type": "stream",
          "text": [
            "Epoch 3 | Step 3000 | loss = 0.077, acc = 0.963\n"
          ]
        },
        {
          "name": "stderr",
          "output_type": "stream",
          "text": [
            "100%|██████████| 3962/3962 [19:58<00:00,  3.31it/s]\n",
            "  0%|          | 0/4131 [00:00<?, ?it/s]"
          ]
        },
        {
          "name": "stdout",
          "output_type": "stream",
          "text": [
            "Evaluating Dev Set ...\n"
          ]
        },
        {
          "name": "stderr",
          "output_type": "stream",
          "text": [
            "100%|██████████| 4131/4131 [02:37<00:00, 26.25it/s]\n"
          ]
        },
        {
          "name": "stdout",
          "output_type": "stream",
          "text": [
            "Validation | Epoch 3 | acc = 0.809\n",
            "Saving Model with Epoch 3...\n",
            "Requirement already satisfied: accelerate==0.2.0 in /home/tienyi/Machine Learning/MLVENV/lib/python3.8/site-packages (0.2.0)\n",
            "Requirement already satisfied: pyaml>=20.4.0 in /home/tienyi/Machine Learning/MLVENV/lib/python3.8/site-packages (from accelerate==0.2.0) (21.10.1)\n",
            "Requirement already satisfied: torch>=1.4.0 in /home/tienyi/Machine Learning/MLVENV/lib/python3.8/site-packages (from accelerate==0.2.0) (1.10.2+cu113)\n",
            "Requirement already satisfied: PyYAML in /home/tienyi/Machine Learning/MLVENV/lib/python3.8/site-packages (from pyaml>=20.4.0->accelerate==0.2.0) (6.0)\n",
            "Requirement already satisfied: typing-extensions in /home/tienyi/Machine Learning/MLVENV/lib/python3.8/site-packages (from torch>=1.4.0->accelerate==0.2.0) (4.1.1)\n"
          ]
        },
        {
          "name": "stderr",
          "output_type": "stream",
          "text": [
            "Some weights of the model checkpoint at hfl/chinese-roberta-wwm-ext-large were not used when initializing BertForQuestionAnswering: ['cls.predictions.decoder.weight', 'cls.predictions.bias', 'cls.predictions.transform.dense.bias', 'cls.predictions.transform.dense.weight', 'cls.predictions.transform.LayerNorm.bias', 'cls.predictions.transform.LayerNorm.weight', 'cls.seq_relationship.bias', 'cls.seq_relationship.weight']\n",
            "- This IS expected if you are initializing BertForQuestionAnswering from the checkpoint of a model trained on another task or with another architecture (e.g. initializing a BertForSequenceClassification model from a BertForPreTraining model).\n",
            "- This IS NOT expected if you are initializing BertForQuestionAnswering from the checkpoint of a model that you expect to be exactly identical (initializing a BertForSequenceClassification model from a BertForSequenceClassification model).\n",
            "Some weights of BertForQuestionAnswering were not initialized from the model checkpoint at hfl/chinese-roberta-wwm-ext-large and are newly initialized: ['qa_outputs.weight', 'qa_outputs.bias']\n",
            "You should probably TRAIN this model on a down-stream task to be able to use it for predictions and inference.\n"
          ]
        },
        {
          "name": "stdout",
          "output_type": "stream",
          "text": [
            "Start Training ...\n"
          ]
        },
        {
          "name": "stderr",
          "output_type": "stream",
          "text": [
            " 25%|██▌       | 998/3962 [05:01<14:49,  3.33it/s]"
          ]
        },
        {
          "name": "stdout",
          "output_type": "stream",
          "text": [
            "Epoch 1 | Step 1000 | loss = 1.147, acc = 0.630\n"
          ]
        },
        {
          "name": "stderr",
          "output_type": "stream",
          "text": [
            " 50%|█████     | 1998/3962 [10:06<09:50,  3.33it/s]"
          ]
        },
        {
          "name": "stdout",
          "output_type": "stream",
          "text": [
            "Epoch 1 | Step 2000 | loss = 0.633, acc = 0.756\n"
          ]
        },
        {
          "name": "stderr",
          "output_type": "stream",
          "text": [
            " 76%|███████▌  | 2998/3962 [15:10<04:49,  3.33it/s]"
          ]
        },
        {
          "name": "stdout",
          "output_type": "stream",
          "text": [
            "Epoch 1 | Step 3000 | loss = 0.577, acc = 0.769\n"
          ]
        },
        {
          "name": "stderr",
          "output_type": "stream",
          "text": [
            "100%|██████████| 3962/3962 [20:03<00:00,  3.29it/s]\n",
            "  0%|          | 0/4131 [00:00<?, ?it/s]"
          ]
        },
        {
          "name": "stdout",
          "output_type": "stream",
          "text": [
            "Evaluating Dev Set ...\n"
          ]
        },
        {
          "name": "stderr",
          "output_type": "stream",
          "text": [
            "100%|██████████| 4131/4131 [02:37<00:00, 26.31it/s]\n"
          ]
        },
        {
          "name": "stdout",
          "output_type": "stream",
          "text": [
            "Validation | Epoch 1 | acc = 0.790\n",
            "Saving Model with Epoch 1...\n"
          ]
        },
        {
          "name": "stderr",
          "output_type": "stream",
          "text": [
            " 25%|██▌       | 998/3962 [05:04<14:49,  3.33it/s]"
          ]
        },
        {
          "name": "stdout",
          "output_type": "stream",
          "text": [
            "Epoch 2 | Step 1000 | loss = 0.249, acc = 0.887\n"
          ]
        },
        {
          "name": "stderr",
          "output_type": "stream",
          "text": [
            " 50%|█████     | 1998/3962 [10:07<09:47,  3.34it/s]"
          ]
        },
        {
          "name": "stdout",
          "output_type": "stream",
          "text": [
            "Epoch 2 | Step 2000 | loss = 0.221, acc = 0.895\n"
          ]
        },
        {
          "name": "stderr",
          "output_type": "stream",
          "text": [
            " 76%|███████▌  | 2998/3962 [15:12<04:49,  3.33it/s]"
          ]
        },
        {
          "name": "stdout",
          "output_type": "stream",
          "text": [
            "Epoch 2 | Step 3000 | loss = 0.223, acc = 0.899\n"
          ]
        },
        {
          "name": "stderr",
          "output_type": "stream",
          "text": [
            "100%|██████████| 3962/3962 [20:03<00:00,  3.29it/s]\n",
            "  0%|          | 0/4131 [00:00<?, ?it/s]"
          ]
        },
        {
          "name": "stdout",
          "output_type": "stream",
          "text": [
            "Evaluating Dev Set ...\n"
          ]
        },
        {
          "name": "stderr",
          "output_type": "stream",
          "text": [
            "100%|█████████▉| 4129/4131 [02:36<00:00, 26.59it/s]"
          ]
        },
        {
          "name": "stdout",
          "output_type": "stream",
          "text": [
            "Validation | Epoch 2 | acc = 0.805\n",
            "Saving Model with Epoch 2...\n"
          ]
        },
        {
          "name": "stderr",
          "output_type": "stream",
          "text": [
            "100%|██████████| 4131/4131 [02:36<00:00, 26.35it/s]\n",
            " 25%|██▌       | 998/3962 [05:03<14:45,  3.35it/s]"
          ]
        },
        {
          "name": "stdout",
          "output_type": "stream",
          "text": [
            "Epoch 3 | Step 1000 | loss = 0.075, acc = 0.961\n"
          ]
        },
        {
          "name": "stderr",
          "output_type": "stream",
          "text": [
            " 50%|█████     | 1998/3962 [10:06<09:47,  3.34it/s]"
          ]
        },
        {
          "name": "stdout",
          "output_type": "stream",
          "text": [
            "Epoch 3 | Step 2000 | loss = 0.070, acc = 0.965\n"
          ]
        },
        {
          "name": "stderr",
          "output_type": "stream",
          "text": [
            " 76%|███████▌  | 2998/3962 [15:09<04:47,  3.35it/s]"
          ]
        },
        {
          "name": "stdout",
          "output_type": "stream",
          "text": [
            "Epoch 3 | Step 3000 | loss = 0.065, acc = 0.964\n"
          ]
        },
        {
          "name": "stderr",
          "output_type": "stream",
          "text": [
            "100%|██████████| 3962/3962 [20:00<00:00,  3.30it/s]\n",
            "  0%|          | 0/4131 [00:00<?, ?it/s]"
          ]
        },
        {
          "name": "stdout",
          "output_type": "stream",
          "text": [
            "Evaluating Dev Set ...\n"
          ]
        },
        {
          "name": "stderr",
          "output_type": "stream",
          "text": [
            "100%|██████████| 4131/4131 [02:37<00:00, 26.22it/s]\n"
          ]
        },
        {
          "name": "stdout",
          "output_type": "stream",
          "text": [
            "Validation | Epoch 3 | acc = 0.797\n",
            "Requirement already satisfied: accelerate==0.2.0 in /home/tienyi/Machine Learning/MLVENV/lib/python3.8/site-packages (0.2.0)\n",
            "Requirement already satisfied: pyaml>=20.4.0 in /home/tienyi/Machine Learning/MLVENV/lib/python3.8/site-packages (from accelerate==0.2.0) (21.10.1)\n",
            "Requirement already satisfied: torch>=1.4.0 in /home/tienyi/Machine Learning/MLVENV/lib/python3.8/site-packages (from accelerate==0.2.0) (1.10.2+cu113)\n",
            "Requirement already satisfied: PyYAML in /home/tienyi/Machine Learning/MLVENV/lib/python3.8/site-packages (from pyaml>=20.4.0->accelerate==0.2.0) (6.0)\n",
            "Requirement already satisfied: typing-extensions in /home/tienyi/Machine Learning/MLVENV/lib/python3.8/site-packages (from torch>=1.4.0->accelerate==0.2.0) (4.1.1)\n"
          ]
        },
        {
          "name": "stderr",
          "output_type": "stream",
          "text": [
            "Some weights of the model checkpoint at junnyu/uer_large were not used when initializing BertForQuestionAnswering: ['cls.predictions.transform.dense.weight', 'cls.predictions.decoder.weight', 'cls.predictions.bias', 'cls.seq_relationship.weight', 'cls.seq_relationship.bias', 'cls.predictions.transform.dense.bias', 'cls.predictions.transform.LayerNorm.bias', 'cls.predictions.transform.LayerNorm.weight']\n",
            "- This IS expected if you are initializing BertForQuestionAnswering from the checkpoint of a model trained on another task or with another architecture (e.g. initializing a BertForSequenceClassification model from a BertForPreTraining model).\n",
            "- This IS NOT expected if you are initializing BertForQuestionAnswering from the checkpoint of a model that you expect to be exactly identical (initializing a BertForSequenceClassification model from a BertForSequenceClassification model).\n",
            "Some weights of BertForQuestionAnswering were not initialized from the model checkpoint at junnyu/uer_large and are newly initialized: ['qa_outputs.weight', 'qa_outputs.bias']\n",
            "You should probably TRAIN this model on a down-stream task to be able to use it for predictions and inference.\n"
          ]
        },
        {
          "name": "stdout",
          "output_type": "stream",
          "text": [
            "Start Training ...\n"
          ]
        },
        {
          "name": "stderr",
          "output_type": "stream",
          "text": [
            " 25%|██▌       | 998/3962 [05:02<14:49,  3.33it/s]"
          ]
        },
        {
          "name": "stdout",
          "output_type": "stream",
          "text": [
            "Epoch 1 | Step 1000 | loss = 1.181, acc = 0.613\n"
          ]
        },
        {
          "name": "stderr",
          "output_type": "stream",
          "text": [
            " 50%|█████     | 1998/3962 [10:06<09:50,  3.33it/s]"
          ]
        },
        {
          "name": "stdout",
          "output_type": "stream",
          "text": [
            "Epoch 1 | Step 2000 | loss = 0.663, acc = 0.740\n"
          ]
        },
        {
          "name": "stderr",
          "output_type": "stream",
          "text": [
            " 76%|███████▌  | 2998/3962 [15:11<04:49,  3.33it/s]"
          ]
        },
        {
          "name": "stdout",
          "output_type": "stream",
          "text": [
            "Epoch 1 | Step 3000 | loss = 0.599, acc = 0.766\n"
          ]
        },
        {
          "name": "stderr",
          "output_type": "stream",
          "text": [
            "100%|██████████| 3962/3962 [20:03<00:00,  3.29it/s]\n",
            "  0%|          | 0/4131 [00:00<?, ?it/s]"
          ]
        },
        {
          "name": "stdout",
          "output_type": "stream",
          "text": [
            "Evaluating Dev Set ...\n"
          ]
        },
        {
          "name": "stderr",
          "output_type": "stream",
          "text": [
            "100%|█████████▉| 4129/4131 [02:36<00:00, 26.66it/s]"
          ]
        },
        {
          "name": "stdout",
          "output_type": "stream",
          "text": [
            "Validation | Epoch 1 | acc = 0.793\n",
            "Saving Model with Epoch 1...\n"
          ]
        },
        {
          "name": "stderr",
          "output_type": "stream",
          "text": [
            "100%|██████████| 4131/4131 [02:36<00:00, 26.39it/s]\n",
            " 25%|██▌       | 998/3962 [05:03<14:46,  3.34it/s]"
          ]
        },
        {
          "name": "stdout",
          "output_type": "stream",
          "text": [
            "Epoch 2 | Step 1000 | loss = 0.248, acc = 0.885\n"
          ]
        },
        {
          "name": "stderr",
          "output_type": "stream",
          "text": [
            " 50%|█████     | 1998/3962 [10:07<09:48,  3.34it/s]"
          ]
        },
        {
          "name": "stdout",
          "output_type": "stream",
          "text": [
            "Epoch 2 | Step 2000 | loss = 0.222, acc = 0.898\n"
          ]
        },
        {
          "name": "stderr",
          "output_type": "stream",
          "text": [
            " 76%|███████▌  | 2998/3962 [15:09<04:47,  3.35it/s]"
          ]
        },
        {
          "name": "stdout",
          "output_type": "stream",
          "text": [
            "Epoch 2 | Step 3000 | loss = 0.224, acc = 0.899\n"
          ]
        },
        {
          "name": "stderr",
          "output_type": "stream",
          "text": [
            "100%|██████████| 3962/3962 [20:02<00:00,  3.30it/s]\n",
            "  0%|          | 0/4131 [00:00<?, ?it/s]"
          ]
        },
        {
          "name": "stdout",
          "output_type": "stream",
          "text": [
            "Evaluating Dev Set ...\n"
          ]
        },
        {
          "name": "stderr",
          "output_type": "stream",
          "text": [
            "100%|██████████| 4131/4131 [02:36<00:00, 26.40it/s]\n"
          ]
        },
        {
          "name": "stdout",
          "output_type": "stream",
          "text": [
            "Validation | Epoch 2 | acc = 0.811\n",
            "Saving Model with Epoch 2...\n"
          ]
        },
        {
          "name": "stderr",
          "output_type": "stream",
          "text": [
            " 25%|██▌       | 998/3962 [05:03<14:44,  3.35it/s]"
          ]
        },
        {
          "name": "stdout",
          "output_type": "stream",
          "text": [
            "Epoch 3 | Step 1000 | loss = 0.070, acc = 0.965\n"
          ]
        },
        {
          "name": "stderr",
          "output_type": "stream",
          "text": [
            " 50%|█████     | 1998/3962 [10:06<09:49,  3.33it/s]"
          ]
        },
        {
          "name": "stdout",
          "output_type": "stream",
          "text": [
            "Epoch 3 | Step 2000 | loss = 0.063, acc = 0.967\n"
          ]
        },
        {
          "name": "stderr",
          "output_type": "stream",
          "text": [
            " 76%|███████▌  | 2998/3962 [15:09<04:48,  3.34it/s]"
          ]
        },
        {
          "name": "stdout",
          "output_type": "stream",
          "text": [
            "Epoch 3 | Step 3000 | loss = 0.065, acc = 0.964\n"
          ]
        },
        {
          "name": "stderr",
          "output_type": "stream",
          "text": [
            "100%|██████████| 3962/3962 [20:01<00:00,  3.30it/s]\n",
            "  0%|          | 0/4131 [00:00<?, ?it/s]"
          ]
        },
        {
          "name": "stdout",
          "output_type": "stream",
          "text": [
            "Evaluating Dev Set ...\n"
          ]
        },
        {
          "name": "stderr",
          "output_type": "stream",
          "text": [
            "100%|██████████| 4131/4131 [02:37<00:00, 26.28it/s]\n"
          ]
        },
        {
          "name": "stdout",
          "output_type": "stream",
          "text": [
            "Validation | Epoch 3 | acc = 0.807\n"
          ]
        }
      ],
      "source": [
        "models_path = ['./models/mrc-macbert-qa', './models/mrc-roberta-qa', './models/macbert', './models/roberta', './models/uer']\n",
        "for path in models_path:\n",
        "    model_name = path.split('/')[-1]\n",
        "    # If model is not exist, run the python script.\n",
        "    if not os.path.exists(path):\n",
        "        os.system(f\"python {model_name}-large.py -p {model_name}\")\n",
        "    else:\n",
        "        print(f\"Model {model_name} exits.\")\n",
        "\n",
        "# Load models\n",
        "models = []\n",
        "for path in models_path:\n",
        "    model = BertForQuestionAnswering.from_pretrained(path).to(device)\n",
        "    models.append(model)"
      ]
    },
    {
      "cell_type": "code",
      "execution_count": 10,
      "metadata": {},
      "outputs": [],
      "source": [
        "def evaluate_ensemble(data, outputs, doc_stride, paragraph, paragraph_offset, topk=5):\n",
        "    ##### TODO: Postprocessing #####\n",
        "    # There is a bug and room for improvement in postprocessing \n",
        "    # Hint: Open your prediction file to see what is wrong \n",
        "    \n",
        "    answer = ''                         # Prediction answer.\n",
        "    max_prob = float('-inf')            # Maximum probability of logits.\n",
        "    num_of_windows = data[0].shape[1]   # Total windows.\n",
        "    window = 0                          # Index of window with max probability.\n",
        "    win_context = None                  # Ids list of window.\n",
        "    start_i, end_i = 0, 0               # (Start, End) of window with max probability.\n",
        "    new_start, new_end = 0, 0           # New (start, end) pair in original paragraph.\n",
        "\n",
        "    for k in range(num_of_windows):\n",
        "        # Base index after the Question [CLS] Question? [SEP]\n",
        "        paragraph_base = list(data[0][0][k]).index(102) + 1\n",
        "        # Last index of [SEP] in [SEP] paragraph... [SEP]\n",
        "        paragraph_sep = len(list(data[0][0][k])) - 1 - list(data[0][0][k])[::-1].index(102)\n",
        "\n",
        "        # Mean of logits\n",
        "        start_logits, end_logits = 0, 0\n",
        "        for output in outputs:\n",
        "            start_logits += output.start_logits\n",
        "            end_logits += output.end_logits\n",
        "        start_logits, end_logits = start_logits / len(outputs), end_logits / len(outputs)\n",
        "\n",
        "        # Keep the most probable top k start position / end position\n",
        "        start_probs, start_indices = torch.topk(start_logits[k], topk, dim=0)\n",
        "        end_probs, end_indices = torch.topk(end_logits[k], topk, dim=0)\n",
        "\n",
        "        # Probability of answer is calculated as sum of start_prob and end_prob\n",
        "        # (start_index, end_index) must in the range of [paragraph_base, paragraph_sep)\n",
        "        # Length of answer is less than 30\n",
        "        prob = float('-inf')\n",
        "        for start_prob, start_idx in zip(start_probs, start_indices):\n",
        "            for end_prob, end_idx in zip(end_probs, end_indices):\n",
        "                if (start_idx <= end_idx) and (end_idx - start_idx <= 30) and (start_idx >= paragraph_base) and (end_idx < paragraph_sep):\n",
        "                    if start_prob + end_prob > prob:\n",
        "                        prob = start_prob + end_prob\n",
        "                        start_index, end_index = start_idx, end_idx\n",
        "        \n",
        "        # Replace answer if calculated probability is larger than previous windows\n",
        "        if prob > max_prob:\n",
        "            max_prob = prob\n",
        "            # Convert tokens to chars (e.g. [1920, 7032] --> \"大 金\")\n",
        "            answer = tokenizer.decode(data[0][0][k][start_index : end_index + 1])\n",
        "            win_context = data[0][0][k]\n",
        "            start_i, end_i = start_index - paragraph_base, end_index - paragraph_base + 1\n",
        "            window = k\n",
        "\n",
        "    # '[UNK]' in prediction answer.\n",
        "    if '[UNK]' in answer:\n",
        "        print(f\"[UNK] in prediction answer\\n{answer}\")\n",
        "        print(f\"Prediction range: [{start_i}, {end_i}) in window {window}-th paragraph\")\n",
        "\n",
        "    # Calculate the (start, end) pair corresponding to original paragraph.\n",
        "    for idx in range(start_i + window * doc_stride, end_i + window * doc_stride):\n",
        "        sub_start, sub_end = paragraph_offset[idx]\n",
        "        if idx == start_i + window * doc_stride: \n",
        "            new_start = sub_start\n",
        "        if idx == end_i + window * doc_stride - 1:\n",
        "            new_end = sub_end\n",
        "\n",
        "    if '「' in paragraph[new_start:new_end] and paragraph[new_end - 1] != '」':\n",
        "        new_end += 1\n",
        "    elif paragraph[new_start] != '「' and '」' in paragraph[new_start:new_end]:\n",
        "        new_start -= 1\n",
        "    elif '《' in paragraph[new_start:new_end] and paragraph[new_end - 1] != '》':\n",
        "        new_end += 1\n",
        "    elif paragraph[new_start] != '《' and '》' in paragraph[new_start:new_end]:\n",
        "        new_start -= 1\n",
        "\n",
        "    if '[UNK]' in answer:\n",
        "        print(f\"Original answer\\n{paragraph[new_start:new_end]}\")\n",
        "\n",
        "    # Get answer from original paragraph.\n",
        "    answer = paragraph[new_start:new_end]\n",
        "    return answer"
      ]
    },
    {
      "cell_type": "markdown",
      "metadata": {},
      "source": [
        "## Ensembles on Validation dataset"
      ]
    },
    {
      "cell_type": "code",
      "execution_count": 11,
      "metadata": {},
      "outputs": [
        {
          "name": "stdout",
          "output_type": "stream",
          "text": [
            "Evaluating Dev Set ...\n"
          ]
        },
        {
          "name": "stderr",
          "output_type": "stream",
          "text": [
            "  0%|          | 12/4131 [00:02<15:42,  4.37it/s]"
          ]
        },
        {
          "name": "stdout",
          "output_type": "stream",
          "text": [
            "Question: 中國唯一以「郵」命名的城市指的是哪一個城市?\n",
            "Golden Answer: 高郵\n",
            "Your   Answer: 高郵市\n",
            "Question: 長江是世界第幾長河?\n",
            "Golden Answer: 三\n",
            "Your   Answer: 第三長河\n"
          ]
        },
        {
          "name": "stderr",
          "output_type": "stream",
          "text": [
            "  0%|          | 14/4131 [00:03<16:21,  4.20it/s]"
          ]
        },
        {
          "name": "stdout",
          "output_type": "stream",
          "text": [
            "Question: 梁啟超認為合作勤王計畫失敗的原因是?\n",
            "Golden Answer: 康有為故意不發軍餉造成\n",
            "Your   Answer: 擅作主張分散兵力\n"
          ]
        },
        {
          "name": "stderr",
          "output_type": "stream",
          "text": [
            "  1%|          | 22/4131 [00:05<16:29,  4.15it/s]"
          ]
        },
        {
          "name": "stdout",
          "output_type": "stream",
          "text": [
            "Question: 7月15日汪精衛武漢政府宣布反共，與哪個政府合流?\n",
            "Golden Answer: 南京\n",
            "Your   Answer: 南京政府\n"
          ]
        },
        {
          "name": "stderr",
          "output_type": "stream",
          "text": [
            "  1%|          | 27/4131 [00:06<16:05,  4.25it/s]"
          ]
        },
        {
          "name": "stdout",
          "output_type": "stream",
          "text": [
            "Question: 王陽明死前說了甚麼話?\n",
            "Golden Answer: 「此心光明，亦復何言！」\n",
            "Your   Answer: 此心光明，亦復何言\n"
          ]
        },
        {
          "name": "stderr",
          "output_type": "stream",
          "text": [
            "  1%|          | 29/4131 [00:06<14:47,  4.62it/s]"
          ]
        },
        {
          "name": "stdout",
          "output_type": "stream",
          "text": [
            "Question: 香港的一場勞資糾紛演化成暴動和當時的什麼事件有關?\n",
            "Golden Answer: 「文化大革命」\n",
            "Your   Answer: 文化大革命\n"
          ]
        },
        {
          "name": "stderr",
          "output_type": "stream",
          "text": [
            "  1%|          | 43/4131 [00:09<18:57,  3.59it/s]"
          ]
        },
        {
          "name": "stdout",
          "output_type": "stream",
          "text": [
            "Question: 地球誕生於何時?\n",
            "Golden Answer: 45.4億年前\n",
            "Your   Answer: 約45.4億年前\n"
          ]
        },
        {
          "name": "stderr",
          "output_type": "stream",
          "text": [
            "  1%|▏         | 57/4131 [00:12<15:12,  4.46it/s]"
          ]
        },
        {
          "name": "stdout",
          "output_type": "stream",
          "text": [
            "Question: 首位獲得金球獎殊榮的球員是誰?\n",
            "Golden Answer: 史丹利馬菲士\n",
            "Your   Answer: 卡卡\n",
            "Question: 中華人民共和國的公民結社自由，在哪一個法律中被保障?\n",
            "Golden Answer: 憲法\n",
            "Your   Answer: 憲法第三十五條\n"
          ]
        },
        {
          "name": "stderr",
          "output_type": "stream",
          "text": [
            "  2%|▏         | 70/4131 [00:15<16:03,  4.21it/s]"
          ]
        },
        {
          "name": "stdout",
          "output_type": "stream",
          "text": [
            "Question: 倫敦城牆的功能是?\n",
            "Golden Answer: 用來保衛他們的戰略港口城市\n",
            "Your   Answer: 保衛他們的戰略港口城市\n"
          ]
        },
        {
          "name": "stderr",
          "output_type": "stream",
          "text": [
            "  2%|▏         | 72/4131 [00:16<16:25,  4.12it/s]"
          ]
        },
        {
          "name": "stdout",
          "output_type": "stream",
          "text": [
            "Question: 《中華民國憲法》第十條的內容是甚麼?\n",
            "Golden Answer: 「人民有居住及遷徙之自由。」\n",
            "Your   Answer: 人民有居住及遷徙之自由\n"
          ]
        },
        {
          "name": "stderr",
          "output_type": "stream",
          "text": [
            "  2%|▏         | 74/4131 [00:16<14:51,  4.55it/s]"
          ]
        },
        {
          "name": "stdout",
          "output_type": "stream",
          "text": [
            "Question: ASB是由哪一個研究所整合出來的?\n",
            "Golden Answer: 「澳大利亞管理研究所」\n",
            "Your   Answer: 澳大利亞管理研究所\n"
          ]
        },
        {
          "name": "stderr",
          "output_type": "stream",
          "text": [
            "  2%|▏         | 80/4131 [00:18<17:03,  3.96it/s]"
          ]
        },
        {
          "name": "stdout",
          "output_type": "stream",
          "text": [
            "Question: 太平天國首要的軍事權威和政治權威指的是誰?\n",
            "Golden Answer: 楊秀清\n",
            "Your   Answer: 東王楊秀清\n"
          ]
        },
        {
          "name": "stderr",
          "output_type": "stream",
          "text": [
            "  2%|▏         | 87/4131 [00:19<15:21,  4.39it/s]"
          ]
        },
        {
          "name": "stdout",
          "output_type": "stream",
          "text": [
            "Question: 倫敦市為何被稱為「平方英里」?\n",
            "Golden Answer: 因為其面積正好約為1平方英里\n",
            "Your   Answer: 其面積正好約為1平方英里\n"
          ]
        },
        {
          "name": "stderr",
          "output_type": "stream",
          "text": [
            "  2%|▏         | 93/4131 [00:21<14:49,  4.54it/s]"
          ]
        },
        {
          "name": "stdout",
          "output_type": "stream",
          "text": [
            "Question: 「混同書寫」指的是什麼現象?\n",
            "Golden Answer: 將漢字用假名發音來替代，以這種方式繼續使用原有詞彙\n",
            "Your   Answer: 有人將漢字用假名發音來替代，以這種方式繼續使用原有詞彙\n"
          ]
        },
        {
          "name": "stderr",
          "output_type": "stream",
          "text": [
            "  3%|▎         | 118/4131 [00:27<15:23,  4.35it/s]"
          ]
        },
        {
          "name": "stdout",
          "output_type": "stream",
          "text": [
            "Question: 中國現存的最早記錄戲曲演出活動形象的文物指的是甚麼文物?\n",
            "Golden Answer: 「宋雜劇演員丁都賽雕像磚」\n",
            "Your   Answer: 宋雜劇演員丁都賽雕像磚\n",
            "Question: 卵磷脂對人體有甚麼好處?\n",
            "Golden Answer: 可以防止動脈硬化\n",
            "Your   Answer: 防止動脈硬化\n"
          ]
        },
        {
          "name": "stderr",
          "output_type": "stream",
          "text": [
            "  3%|▎         | 132/4131 [00:30<14:29,  4.60it/s]"
          ]
        },
        {
          "name": "stdout",
          "output_type": "stream",
          "text": [
            "Question: 協約國軍隊為甚麼決定聯合進攻黑海海峽?\n",
            "Golden Answer: 為了解除俄羅斯在高加索被鄂圖曼土耳其牽制的困局\n",
            "Your   Answer: 解除俄羅斯在高加索被鄂圖曼土耳其牽制的困局\n"
          ]
        },
        {
          "name": "stderr",
          "output_type": "stream",
          "text": [
            "  3%|▎         | 134/4131 [00:30<13:49,  4.82it/s]"
          ]
        },
        {
          "name": "stdout",
          "output_type": "stream",
          "text": [
            "Question: 共和黨在當時為甚麼反對自由貿易?\n",
            "Golden Answer: 為了保護美國剛興起的工業\n",
            "Your   Answer: 保護美國剛興起的工業\n"
          ]
        },
        {
          "name": "stderr",
          "output_type": "stream",
          "text": [
            "  4%|▍         | 155/4131 [00:35<14:02,  4.72it/s]"
          ]
        },
        {
          "name": "stdout",
          "output_type": "stream",
          "text": [
            "Question: 為何當時福建人有需要請華人監控當地工人?\n",
            "Golden Answer: 因為福建人很多志願經商，不願替別人工作\n",
            "Your   Answer: 福建人很多志願經商，不願替別人工作\n"
          ]
        },
        {
          "name": "stderr",
          "output_type": "stream",
          "text": [
            "  4%|▍         | 159/4131 [00:35<13:19,  4.97it/s]"
          ]
        },
        {
          "name": "stdout",
          "output_type": "stream",
          "text": [
            "Question: 當時的君主施行九品中正制的目的是?\n",
            "Golden Answer: 用來拔選世族人才，使為己用\n",
            "Your   Answer: 拔選世族人才，使為己用\n"
          ]
        },
        {
          "name": "stderr",
          "output_type": "stream",
          "text": [
            "  4%|▍         | 165/4131 [00:37<13:44,  4.81it/s]"
          ]
        },
        {
          "name": "stdout",
          "output_type": "stream",
          "text": [
            "Question: 哲學家們對於兩項說法所憑依的標準進行了調查研究，此處的兩項說法除了「一個科學理論成功地解釋了一個現象」，還有另一項是?\n",
            "Golden Answer: 「一個科學理論具有解釋力」\n",
            "Your   Answer: 一個科學理論成功地解釋了一個現象」以及「一個科學理論具有解釋力」\n",
            "Question: 九華山有一個關於佛教的稱號是?\n",
            "Golden Answer: 中國四大佛教名山\n",
            "Your   Answer: 東南第一山\n"
          ]
        },
        {
          "name": "stderr",
          "output_type": "stream",
          "text": [
            "  4%|▍         | 174/4131 [00:39<14:19,  4.61it/s]"
          ]
        },
        {
          "name": "stdout",
          "output_type": "stream",
          "text": [
            "Question: 守護之獅所代表的意義是?\n",
            "Golden Answer: 象徵守護英國律法\n",
            "Your   Answer: 守護英國律法\n"
          ]
        },
        {
          "name": "stderr",
          "output_type": "stream",
          "text": [
            "  4%|▍         | 179/4131 [00:40<14:56,  4.41it/s]"
          ]
        },
        {
          "name": "stdout",
          "output_type": "stream",
          "text": [
            "Question: 墨西哥獨立戰爭在何年?\n",
            "Golden Answer: 1821\n",
            "Your   Answer: 1821年\n",
            "Question: 朱棣為何要逐漸解除諸王的兵權?\n",
            "Golden Answer: 為了保證中央政權穩固\n",
            "Your   Answer: 保證中央政權穩固\n"
          ]
        },
        {
          "name": "stderr",
          "output_type": "stream",
          "text": [
            "  4%|▍         | 183/4131 [00:41<14:17,  4.60it/s]"
          ]
        },
        {
          "name": "stdout",
          "output_type": "stream",
          "text": [
            "Question: 梁啟超為何到廣州學海堂刻苦攻讀?\n",
            "Golden Answer: 準備入京會試\n",
            "Your   Answer: 希望得到名師指點\n"
          ]
        },
        {
          "name": "stderr",
          "output_type": "stream",
          "text": [
            "  4%|▍         | 184/4131 [00:41<16:20,  4.03it/s]"
          ]
        },
        {
          "name": "stdout",
          "output_type": "stream",
          "text": [
            "Question: 雲南的國境線長多少?\n",
            "Golden Answer: 4060公里\n",
            "Your   Answer: 4,060公里\n"
          ]
        },
        {
          "name": "stderr",
          "output_type": "stream",
          "text": [
            "  5%|▍         | 197/4131 [00:44<13:54,  4.71it/s]"
          ]
        },
        {
          "name": "stdout",
          "output_type": "stream",
          "text": [
            "Question: 1934年的時候，獲得冠軍的隊伍是?\n",
            "Golden Answer: 紅雀隊\n",
            "Your   Answer: 道奇隊\n"
          ]
        },
        {
          "name": "stderr",
          "output_type": "stream",
          "text": [
            "  5%|▍         | 205/4131 [00:46<14:41,  4.46it/s]"
          ]
        },
        {
          "name": "stdout",
          "output_type": "stream",
          "text": [
            "Question: 中國人民解放軍陸軍機動作戰部隊目前大約編有多少個師?\n",
            "Golden Answer: 15個師\n",
            "Your   Answer: 15個\n"
          ]
        },
        {
          "name": "stderr",
          "output_type": "stream",
          "text": [
            "  5%|▌         | 207/4131 [00:47<15:28,  4.23it/s]"
          ]
        },
        {
          "name": "stdout",
          "output_type": "stream",
          "text": [
            "Question: 「伯余之初作衣也，……手經指掛，其成猶網羅。後世為之機抒勝復以便其用。」此處的「機抒」指的是甚麼東西?\n",
            "Golden Answer: 織布機\n",
            "Your   Answer: 《淮南子·氾論》\n"
          ]
        },
        {
          "name": "stderr",
          "output_type": "stream",
          "text": [
            "  5%|▌         | 217/4131 [00:49<13:33,  4.81it/s]"
          ]
        },
        {
          "name": "stdout",
          "output_type": "stream",
          "text": [
            "Question: 《為人民服務》是哪一個廣播電台的節目之一?\n",
            "Golden Answer: 中央廣播電台\n",
            "Your   Answer: 央廣\n",
            "Question: 民主黨能夠在1976年贏得總統大選的原因有二，除了美國經濟的困難處境之外，還有一項原因是?\n",
            "Golden Answer: 水門案的影響\n",
            "Your   Answer: 水門案\n"
          ]
        },
        {
          "name": "stderr",
          "output_type": "stream",
          "text": [
            "  5%|▌         | 219/4131 [00:49<13:14,  4.92it/s]"
          ]
        },
        {
          "name": "stdout",
          "output_type": "stream",
          "text": [
            "Question: 中華民國政府當時為甚麼要把受日本教育的大部分本省知識分子排除在政經核心之外?\n",
            "Golden Answer: 為了獨裁統治的方便性\n",
            "Your   Answer: 為了獨裁統治的方便性作考量\n",
            "Question: 促進聯盟瓦解的原因為何?\n",
            "Golden Answer: 三人因為促進聯盟的權力起了爭執\n",
            "Your   Answer: 促進聯盟的權力起了爭執\n"
          ]
        },
        {
          "name": "stderr",
          "output_type": "stream",
          "text": [
            "  6%|▌         | 229/4131 [00:51<14:44,  4.41it/s]"
          ]
        },
        {
          "name": "stdout",
          "output_type": "stream",
          "text": [
            "[UNK] in prediction answer\n",
            "李 [UNK]\n",
            "Prediction range: [236, 238) in window 0-th paragraph\n",
            "Original answer\n",
            "李杲\n",
            "Question: 「補土派」是何人創立的?\n",
            "Golden Answer: 李杲師\n",
            "Your   Answer: 李杲\n"
          ]
        },
        {
          "name": "stderr",
          "output_type": "stream",
          "text": [
            "  6%|▌         | 234/4131 [00:52<14:21,  4.52it/s]"
          ]
        },
        {
          "name": "stdout",
          "output_type": "stream",
          "text": [
            "Question: 布魯克林羅賓隊為何被外界稱為「傻瓜男孩」?\n",
            "Golden Answer: 指他們集中力渙散、失誤頻頻的玩球風格\n",
            "Your   Answer: 他們集中力渙散、失誤頻頻的玩球風格\n"
          ]
        },
        {
          "name": "stderr",
          "output_type": "stream",
          "text": [
            "  6%|▌         | 236/4131 [00:53<13:36,  4.77it/s]"
          ]
        },
        {
          "name": "stdout",
          "output_type": "stream",
          "text": [
            "Question: 中央軍的突圍信號和燕軍的什麼信號剛好一樣?\n",
            "Golden Answer: 進攻信號\n",
            "Your   Answer: 進攻信號正巧也是三聲炮響\n",
            "Question: 高爾是哪一計畫的政府層面負責人?\n",
            "Golden Answer: 「國家資訊基礎設施」\n",
            "Your   Answer: 國家資訊基礎設施\n"
          ]
        },
        {
          "name": "stderr",
          "output_type": "stream",
          "text": [
            "  6%|▌         | 242/4131 [00:54<14:54,  4.35it/s]"
          ]
        },
        {
          "name": "stdout",
          "output_type": "stream",
          "text": [
            "Question: 深圳市於1993年起在特區中撥出六處共500多畝土地，這些土地的用途是?\n",
            "Golden Answer: 作為駐港部隊的基地建設用地\n",
            "Your   Answer: 駐港部隊的基地建設用地\n"
          ]
        },
        {
          "name": "stderr",
          "output_type": "stream",
          "text": [
            "  6%|▌         | 245/4131 [00:55<13:33,  4.78it/s]"
          ]
        },
        {
          "name": "stdout",
          "output_type": "stream",
          "text": [
            "Question: 梁啟超在第二次會試中，為何讓守舊派官員無法接受?\n",
            "Golden Answer: 因在策論中痛陳時弊，大談變法\n",
            "Your   Answer: 在策論中痛陳時弊，大談變法\n"
          ]
        },
        {
          "name": "stderr",
          "output_type": "stream",
          "text": [
            "  6%|▌         | 253/4131 [00:57<14:57,  4.32it/s]"
          ]
        },
        {
          "name": "stdout",
          "output_type": "stream",
          "text": [
            "Question: 蔣介石為何以炮擊威脅不允許大陸艦艇經過海峽?\n",
            "Golden Answer: 蔣介石憂心一旦三大艦隊「相通」後，對台灣形成夾擊包圍\n",
            "Your   Answer: 憂心一旦三大艦隊「相通」後，對台灣形成夾擊包圍。\n",
            "Question: 為甚麼許多北高加索很多地區的青少年被吸收進恐怖組織?\n",
            "Golden Answer: 出於生計的需要\n",
            "Your   Answer: 就業困難\n"
          ]
        },
        {
          "name": "stderr",
          "output_type": "stream",
          "text": [
            "  7%|▋         | 272/4131 [01:01<14:56,  4.30it/s]"
          ]
        },
        {
          "name": "stdout",
          "output_type": "stream",
          "text": [
            "Question: 首席大法官約翰·格洛佛·羅伯茨為何和保守派吵了起來?\n",
            "Golden Answer: 因為他主張憲法的確賦予了隱私的權利\n",
            "Your   Answer: 他主張憲法的確賦予了隱私的權利\n"
          ]
        },
        {
          "name": "stderr",
          "output_type": "stream",
          "text": [
            "  7%|▋         | 274/4131 [01:02<13:50,  4.64it/s]"
          ]
        },
        {
          "name": "stdout",
          "output_type": "stream",
          "text": [
            "Question: 腓特烈在1757年末的整個局勢因為何事被扭轉?\n",
            "Golden Answer: 俄羅斯帝國從東普魯士撤軍的決定\n",
            "Your   Answer: 俄羅斯帝國從東普魯士撤軍\n"
          ]
        },
        {
          "name": "stderr",
          "output_type": "stream",
          "text": [
            "  7%|▋         | 277/4131 [01:02<14:46,  4.35it/s]"
          ]
        },
        {
          "name": "stdout",
          "output_type": "stream",
          "text": [
            "Question: 美國海軍登上世界舞台是在20世紀，尤其是在第幾次世界大戰期間?\n",
            "Golden Answer: 二\n",
            "Your   Answer: 第二次\n"
          ]
        },
        {
          "name": "stderr",
          "output_type": "stream",
          "text": [
            "  7%|▋         | 278/4131 [01:03<16:29,  3.89it/s]"
          ]
        },
        {
          "name": "stdout",
          "output_type": "stream",
          "text": [
            "Question: 「公車上書」在茅海建的觀點中有兩個不同的概念，一個是由康有為組織的18行省舉人聯名上書，另一個是?\n",
            "Golden Answer: 由政治高層發動、京官組織的上書\n",
            "Your   Answer: 一次流產的政治事件\n"
          ]
        },
        {
          "name": "stderr",
          "output_type": "stream",
          "text": [
            "  7%|▋         | 287/4131 [01:05<13:47,  4.65it/s]"
          ]
        },
        {
          "name": "stdout",
          "output_type": "stream",
          "text": [
            "Question: 哪一個地區不屬於英屬印度的一部分，而且其地位優於印度總督管轄的印度帝國?\n",
            "Golden Answer: 錫蘭\n",
            "Your   Answer: 馬爾地夫群島\n"
          ]
        },
        {
          "name": "stderr",
          "output_type": "stream",
          "text": [
            "  7%|▋         | 289/4131 [01:05<14:52,  4.30it/s]"
          ]
        },
        {
          "name": "stdout",
          "output_type": "stream",
          "text": [
            "Question: 長頸鹿的脖子會對於何種行為帶來何種不便?\n",
            "Golden Answer: 飲水\n",
            "Your   Answer: 長頸鹿飲水\n"
          ]
        },
        {
          "name": "stderr",
          "output_type": "stream",
          "text": [
            "  7%|▋         | 293/4131 [01:06<14:53,  4.30it/s]"
          ]
        },
        {
          "name": "stdout",
          "output_type": "stream",
          "text": [
            "Question: 目前歐盟的運作方式依照什麼條約?\n",
            "Golden Answer: 里斯本條約\n",
            "Your   Answer: 《里斯本條約》\n"
          ]
        },
        {
          "name": "stderr",
          "output_type": "stream",
          "text": [
            "  7%|▋         | 303/4131 [01:08<14:21,  4.44it/s]"
          ]
        },
        {
          "name": "stdout",
          "output_type": "stream",
          "text": [
            "Question: 中華民國空軍在1970年代之後的主要職責是?\n",
            "Golden Answer: 維護臺海空域制空權，以確保臺澎金馬地區的安全\n",
            "Your   Answer: 維護臺海空域制空權\n",
            "Question: 「雙周一成」的「成」指的是誰?\n",
            "Golden Answer: 成龍\n",
            "Your   Answer: 周星馳\n"
          ]
        },
        {
          "name": "stderr",
          "output_type": "stream",
          "text": [
            "  7%|▋         | 305/4131 [01:09<13:29,  4.73it/s]"
          ]
        },
        {
          "name": "stdout",
          "output_type": "stream",
          "text": [
            "Question: 文斯·麥馬漢為了甚麼事情，決定從根本上改變世界摔角聯盟?\n",
            "Golden Answer: 為了使世界摔角聯盟成為全世界最大的職業摔角公司\n",
            "Your   Answer: 使世界摔角聯盟成為全世界最大的職業摔角公司\n"
          ]
        },
        {
          "name": "stderr",
          "output_type": "stream",
          "text": [
            "  7%|▋         | 308/4131 [01:09<14:03,  4.53it/s]"
          ]
        },
        {
          "name": "stdout",
          "output_type": "stream",
          "text": [
            "Question: 廣州市是中國第幾大城市?\n",
            "Golden Answer: 三\n",
            "Your   Answer: 第三\n"
          ]
        },
        {
          "name": "stderr",
          "output_type": "stream",
          "text": [
            "  8%|▊         | 311/4131 [01:10<13:07,  4.85it/s]"
          ]
        },
        {
          "name": "stdout",
          "output_type": "stream",
          "text": [
            "[UNK] in prediction answer\n",
            "在 日 治 時 代 時 因 為 奧 運 進 場 時 「 [UNK] 」 比 「 [UNK] 」 先 進 場\n",
            "Prediction range: [250, 273) in window 0-th paragraph\n",
            "Original answer\n",
            "在日治時代時因為奧運進場時「C」比「J」先進場，\n",
            "Question: 南韓國名英文為何被日本從「COREA」改為「KOREA」?\n",
            "Golden Answer: 在日治時代時因為奧運進場時「C」比「J」先進場\n",
            "Your   Answer: 在日治時代時因為奧運進場時「C」比「J」先進場，\n"
          ]
        },
        {
          "name": "stderr",
          "output_type": "stream",
          "text": [
            "  8%|▊         | 318/4131 [01:11<16:05,  3.95it/s]"
          ]
        },
        {
          "name": "stdout",
          "output_type": "stream",
          "text": [
            "Question: 1350年元廷下令變更鈔法，此舉造成甚麼影響?\n",
            "Golden Answer: 導致物價迅速上漲\n",
            "Your   Answer: 物價迅速上漲\n"
          ]
        },
        {
          "name": "stderr",
          "output_type": "stream",
          "text": [
            "  8%|▊         | 328/4131 [01:14<13:34,  4.67it/s]"
          ]
        },
        {
          "name": "stdout",
          "output_type": "stream",
          "text": [
            "Question: 解放軍為甚麼將駐防在東南沿海的兵力移往朝鮮半島?\n",
            "Golden Answer: 韓戰爆發\n",
            "Your   Answer: 1950年韓戰爆發\n"
          ]
        },
        {
          "name": "stderr",
          "output_type": "stream",
          "text": [
            "  8%|▊         | 334/4131 [01:15<14:51,  4.26it/s]"
          ]
        },
        {
          "name": "stdout",
          "output_type": "stream",
          "text": [
            "Question: 美國國家環境保護局的設立和誰有關?\n",
            "Golden Answer: 尼克森\n",
            "Your   Answer: 美國總統尼克森\n"
          ]
        },
        {
          "name": "stderr",
          "output_type": "stream",
          "text": [
            "  8%|▊         | 335/4131 [01:15<14:10,  4.46it/s]"
          ]
        },
        {
          "name": "stdout",
          "output_type": "stream",
          "text": [
            "Question: 進步黨是由三個黨派合併而成，除了民主黨、共和黨，還有一個政黨是?\n",
            "Golden Answer: 進步黨\n",
            "Your   Answer: 統一黨\n"
          ]
        },
        {
          "name": "stderr",
          "output_type": "stream",
          "text": [
            "  8%|▊         | 339/4131 [01:16<14:51,  4.25it/s]"
          ]
        },
        {
          "name": "stdout",
          "output_type": "stream",
          "text": [
            "Question: 梁啟超為何失去了張紹曾的軍事力量?\n",
            "Golden Answer: 張紹曾因清廷頒布憲法十九條滿足兵諫要求，早在九月十六解除武裝\n",
            "Your   Answer: 吳祿貞在九月十七被刺殺\n"
          ]
        },
        {
          "name": "stderr",
          "output_type": "stream",
          "text": [
            "  8%|▊         | 343/4131 [01:17<14:46,  4.27it/s]"
          ]
        },
        {
          "name": "stdout",
          "output_type": "stream",
          "text": [
            "Question: 成吉思汗為甚麼要出兵西夏?\n",
            "Golden Answer: 因西夏不配合西征\n",
            "Your   Answer: 西夏不配合西征\n",
            "Question: 荃灣站的月台設計種類為?\n",
            "Golden Answer: 對向式\n",
            "Your   Answer: 對向式月台\n"
          ]
        },
        {
          "name": "stderr",
          "output_type": "stream",
          "text": [
            "  9%|▊         | 361/4131 [01:22<15:02,  4.18it/s]"
          ]
        },
        {
          "name": "stdout",
          "output_type": "stream",
          "text": [
            "Question: 楊再興被岳家軍俘虜之後被如何處置?\n",
            "Golden Answer: 被岳飛收服而成為日後岳家軍的著名悍將之一\n",
            "Your   Answer: 被岳飛收服\n"
          ]
        },
        {
          "name": "stderr",
          "output_type": "stream",
          "text": [
            "  9%|▉         | 373/4131 [01:25<14:27,  4.33it/s]"
          ]
        },
        {
          "name": "stdout",
          "output_type": "stream",
          "text": [
            "Question: 元惠宗命令誰主持《遼史》、《金史》、《宋史》三史的修訂作業?\n",
            "Golden Answer: 脫脫\n",
            "Your   Answer: 右丞相脫脫\n",
            "Question: 量度以什麼單位的標準來表示?\n",
            "Golden Answer: 數字\n",
            "Your   Answer: 數字單位\n"
          ]
        },
        {
          "name": "stderr",
          "output_type": "stream",
          "text": [
            "  9%|▉         | 377/4131 [01:26<15:18,  4.09it/s]"
          ]
        },
        {
          "name": "stdout",
          "output_type": "stream",
          "text": [
            "Question: 元朝時期官田之外的牧場通常是如何取得?\n",
            "Golden Answer: 由奪取民田而得\n",
            "Your   Answer: 奪取民田\n"
          ]
        },
        {
          "name": "stderr",
          "output_type": "stream",
          "text": [
            "  9%|▉         | 379/4131 [01:26<13:51,  4.51it/s]"
          ]
        },
        {
          "name": "stdout",
          "output_type": "stream",
          "text": [
            "Question: 《大紀元》為甚麼在2005年停刊兩天?\n",
            "Golden Answer: 由於承印《大紀元》香港版的印刷公司受中共當局的壓力而把合約提前中止\n",
            "Your   Answer: 承印《大紀元》香港版的印刷公司受中共當局的壓力而把合約提前中止。\n",
            "Question: 無錫的經濟情況為何能夠在中國改革開放之後，取得了令人矚目的發展?\n",
            "Golden Answer: 因鄉鎮民營企業的茁壯而得到復甦\n",
            "Your   Answer: 鄉鎮民營企業的茁壯而得到復甦\n"
          ]
        },
        {
          "name": "stderr",
          "output_type": "stream",
          "text": [
            "  9%|▉         | 385/4131 [01:27<12:35,  4.96it/s]"
          ]
        },
        {
          "name": "stdout",
          "output_type": "stream",
          "text": [
            "Question: 哪一種軍階的軍人才可以擔任「歐洲盟軍最高司令」一職?\n",
            "Golden Answer: 上將\n",
            "Your   Answer: 美軍上將\n"
          ]
        },
        {
          "name": "stderr",
          "output_type": "stream",
          "text": [
            "  9%|▉         | 391/4131 [01:29<14:02,  4.44it/s]"
          ]
        },
        {
          "name": "stdout",
          "output_type": "stream",
          "text": [
            "[UNK] in prediction answer\n",
            "朱 允 [UNK]\n",
            "Prediction range: [18, 21) in window 0-th paragraph\n",
            "Original answer\n",
            "朱允炆\n"
          ]
        },
        {
          "name": "stderr",
          "output_type": "stream",
          "text": [
            " 10%|▉         | 393/4131 [01:29<13:11,  4.72it/s]"
          ]
        },
        {
          "name": "stdout",
          "output_type": "stream",
          "text": [
            "[UNK] in prediction answer\n",
            "[UNK] 崎 八 幡 宮\n",
            "Prediction range: [146, 151) in window 0-th paragraph\n",
            "Original answer\n",
            "筥崎八幡宮\n",
            "Question: 筥崎宮有何稱號?\n",
            "Golden Answer: 日本三大八幡宮之一\n",
            "Your   Answer: 筥崎八幡宮\n"
          ]
        },
        {
          "name": "stderr",
          "output_type": "stream",
          "text": [
            " 10%|▉         | 394/4131 [01:29<15:14,  4.08it/s]"
          ]
        },
        {
          "name": "stdout",
          "output_type": "stream",
          "text": [
            "Question: 雲南與幾個國家相鄰?\n",
            "Golden Answer: 3\n",
            "Your   Answer: 3個\n"
          ]
        },
        {
          "name": "stderr",
          "output_type": "stream",
          "text": [
            " 10%|▉         | 396/4131 [01:30<17:42,  3.52it/s]"
          ]
        },
        {
          "name": "stdout",
          "output_type": "stream",
          "text": [
            "Question: 美國的年輕學者Lindeman在對Mondota湖生態系詳細考察之後提出了生態金字塔能量轉換的什麼?\n",
            "Golden Answer: 十分之一定律\n",
            "Your   Answer: 「十分之一定律」\n"
          ]
        },
        {
          "name": "stderr",
          "output_type": "stream",
          "text": [
            " 10%|▉         | 398/4131 [01:30<16:33,  3.76it/s]"
          ]
        },
        {
          "name": "stdout",
          "output_type": "stream",
          "text": [
            "Question: 歐洲聯盟現擁有幾個成員國?\n",
            "Golden Answer: 28\n",
            "Your   Answer: 28個\n"
          ]
        },
        {
          "name": "stderr",
          "output_type": "stream",
          "text": [
            " 10%|▉         | 401/4131 [01:31<13:48,  4.50it/s]"
          ]
        },
        {
          "name": "stdout",
          "output_type": "stream",
          "text": [
            "Question: 中文裡「奇幻」一詞的來源和誰有關?\n",
            "Golden Answer: 朱學恆\n",
            "Your   Answer: fantasy\n"
          ]
        },
        {
          "name": "stderr",
          "output_type": "stream",
          "text": [
            " 10%|▉         | 406/4131 [01:32<12:37,  4.92it/s]"
          ]
        },
        {
          "name": "stdout",
          "output_type": "stream",
          "text": [
            "Question: 「範式」是什麼?\n",
            "Golden Answer: 這個世界的一個邏輯自洽的「肖像」，並與從它的框架出發所做的觀察一致\n",
            "Your   Answer: 是這個世界的一個邏輯自洽的「肖像」\n",
            "Question: 為甚麼元朝的科舉對於漢族的考試偏難?\n",
            "Golden Answer: 為了保障蒙古人與色目人\n",
            "Your   Answer: 保障蒙古人與色目人\n"
          ]
        },
        {
          "name": "stderr",
          "output_type": "stream",
          "text": [
            " 10%|█         | 422/4131 [01:36<14:21,  4.30it/s]"
          ]
        },
        {
          "name": "stdout",
          "output_type": "stream",
          "text": [
            "Question: 文化大革命結束的指標是?\n",
            "Golden Answer: 四人幫遭到瓦解\n",
            "Your   Answer: 1976年四人幫遭到瓦解\n"
          ]
        },
        {
          "name": "stderr",
          "output_type": "stream",
          "text": [
            " 10%|█         | 432/4131 [01:38<12:19,  5.00it/s]"
          ]
        },
        {
          "name": "stdout",
          "output_type": "stream",
          "text": [
            "Question: 拿破崙三世為甚麼被稱為「香菸男」?\n",
            "Golden Answer: 每天至少要抽掉50根香菸\n",
            "Your   Answer: 菸癮很大的人，每天至少要抽掉50根香菸\n",
            "Question: 當時的上海和福建相比，哪一個地區的經濟實力較強?\n",
            "Golden Answer: 福建\n",
            "Your   Answer: 廣東\n"
          ]
        },
        {
          "name": "stderr",
          "output_type": "stream",
          "text": [
            " 11%|█         | 442/4131 [01:40<12:21,  4.97it/s]"
          ]
        },
        {
          "name": "stdout",
          "output_type": "stream",
          "text": [
            "Question: 「倫敦金融城」一名強調了何概念?\n",
            "Golden Answer: 強調了其作為金融中心的角色\n",
            "Your   Answer: 金融中心\n"
          ]
        },
        {
          "name": "stderr",
          "output_type": "stream",
          "text": [
            " 11%|█         | 452/4131 [01:42<13:21,  4.59it/s]"
          ]
        },
        {
          "name": "stdout",
          "output_type": "stream",
          "text": [
            "Question: 美國海岸防衛隊隸屬於哪一個美國的部隊?\n",
            "Golden Answer: 聯邦制服部隊\n",
            "Your   Answer: 美國軍隊\n"
          ]
        },
        {
          "name": "stderr",
          "output_type": "stream",
          "text": [
            " 11%|█         | 454/4131 [01:42<12:46,  4.80it/s]"
          ]
        },
        {
          "name": "stdout",
          "output_type": "stream",
          "text": [
            "Question: 托爾金在大學時代專攻的科目是?\n",
            "Golden Answer: 希臘哲學\n",
            "Your   Answer: 古希臘哲學\n"
          ]
        },
        {
          "name": "stderr",
          "output_type": "stream",
          "text": [
            " 11%|█         | 460/4131 [01:44<15:00,  4.08it/s]"
          ]
        },
        {
          "name": "stdout",
          "output_type": "stream",
          "text": [
            "Question: 大紐倫堡地區為何是一個繁忙的交通樞紐?\n",
            "Golden Answer: 因為地處中歐中部位置\n",
            "Your   Answer: 地處中歐中部位置\n"
          ]
        },
        {
          "name": "stderr",
          "output_type": "stream",
          "text": [
            " 11%|█▏        | 470/4131 [01:46<12:15,  4.98it/s]"
          ]
        },
        {
          "name": "stdout",
          "output_type": "stream",
          "text": [
            "Question: 央廣在1932年為何開始對日本廣播?\n",
            "Golden Answer: 為了對日本人說明事件真相\n",
            "Your   Answer: 對日本人說明事件真相\n"
          ]
        },
        {
          "name": "stderr",
          "output_type": "stream",
          "text": [
            " 12%|█▏        | 477/4131 [01:48<13:35,  4.48it/s]"
          ]
        },
        {
          "name": "stdout",
          "output_type": "stream",
          "text": [
            "Question: 法國人為何要在現在的西賓夕法尼亞地區建造一系列的要塞?\n",
            "Golden Answer: 為了防止弗吉尼亞與賓夕法尼亞的擴張\n",
            "Your   Answer: 防止弗吉尼亞與賓夕法尼亞的擴張\n"
          ]
        },
        {
          "name": "stderr",
          "output_type": "stream",
          "text": [
            " 12%|█▏        | 480/4131 [01:48<12:37,  4.82it/s]"
          ]
        },
        {
          "name": "stdout",
          "output_type": "stream",
          "text": [
            "Question: 梁啟超到上海之後，為何先到蘇州、杭州等地遊玩?\n",
            "Golden Answer: 為避袁的注意和懷疑\n",
            "Your   Answer: 避袁的注意和懷疑\n"
          ]
        },
        {
          "name": "stderr",
          "output_type": "stream",
          "text": [
            " 12%|█▏        | 493/4131 [01:51<14:54,  4.07it/s]"
          ]
        },
        {
          "name": "stdout",
          "output_type": "stream",
          "text": [
            "Question: 葉卡捷琳娜為何不願意再繼續七年戰爭?\n",
            "Golden Answer: 俄國內部不穩\n",
            "Your   Answer: 她的政變而俄國內部不穩\n"
          ]
        },
        {
          "name": "stderr",
          "output_type": "stream",
          "text": [
            " 12%|█▏        | 495/4131 [01:52<13:27,  4.50it/s]"
          ]
        },
        {
          "name": "stdout",
          "output_type": "stream",
          "text": [
            "Question: 哪一個工會是中國全國唯一的工會?\n",
            "Golden Answer: 「中華全國總工會」\n",
            "Your   Answer: 中華全國總工會\n"
          ]
        },
        {
          "name": "stderr",
          "output_type": "stream",
          "text": [
            " 12%|█▏        | 497/4131 [01:52<14:17,  4.24it/s]"
          ]
        },
        {
          "name": "stdout",
          "output_type": "stream",
          "text": [
            "Question: 「東盡遼左西極流沙，北逾陰山南越海表，漢唐極盛之時不及也」指的是哪一時期的蒙古帝國疆域?\n",
            "Golden Answer: 元武宗時期\n",
            "Your   Answer: 元朝\n"
          ]
        },
        {
          "name": "stderr",
          "output_type": "stream",
          "text": [
            " 12%|█▏        | 505/4131 [01:54<12:26,  4.86it/s]"
          ]
        },
        {
          "name": "stdout",
          "output_type": "stream",
          "text": [
            "[UNK] in prediction answer\n",
            "與 慕 容 [UNK] 雙 方 不 和\n",
            "Prediction range: [35, 43) in window 0-th paragraph\n",
            "Original answer\n",
            "與慕容廆雙方不和\n",
            "Question: 慕容吐谷渾為何率所部西遷並在313年時建立吐谷渾?\n",
            "Golden Answer: 因與慕容廆雙方不和\n",
            "Your   Answer: 與慕容廆雙方不和\n"
          ]
        },
        {
          "name": "stderr",
          "output_type": "stream",
          "text": [
            " 12%|█▏        | 508/4131 [01:55<13:42,  4.40it/s]"
          ]
        },
        {
          "name": "stdout",
          "output_type": "stream",
          "text": [
            "Question: 中央軍為何既不敢傷害朱棣，又難以活捉?\n",
            "Golden Answer: 怕戰後反攻倒算\n",
            "Your   Answer: 懼怕戰後反攻倒算\n"
          ]
        },
        {
          "name": "stderr",
          "output_type": "stream",
          "text": [
            " 12%|█▏        | 510/4131 [01:55<12:51,  4.70it/s]"
          ]
        },
        {
          "name": "stdout",
          "output_type": "stream",
          "text": [
            "Question: 日本南北朝時代中的南朝是何人建立的?\n",
            "Golden Answer: 後醍醐天皇\n",
            "Your   Answer: 醍醐天皇\n"
          ]
        },
        {
          "name": "stderr",
          "output_type": "stream",
          "text": [
            " 12%|█▏        | 513/4131 [01:56<14:55,  4.04it/s]"
          ]
        },
        {
          "name": "stdout",
          "output_type": "stream",
          "text": [
            "Question: 共和黨在1938年的國會選舉裡能夠於眾議院重新奪回75席的原因和甚麼事件相關?\n",
            "Golden Answer: 美國爆發了一次嚴重的經濟衰退，主要的罷工潮遍及全美國\n",
            "Your   Answer: 珍珠港事件\n"
          ]
        },
        {
          "name": "stderr",
          "output_type": "stream",
          "text": [
            " 13%|█▎        | 517/4131 [01:57<14:13,  4.23it/s]"
          ]
        },
        {
          "name": "stdout",
          "output_type": "stream",
          "text": [
            "Question: 美國國家環境保護局的成立宗旨有兩項，一項是保護人類健康不受環境危害影響，另一項是?\n",
            "Golden Answer: 負責維護自然環境\n",
            "Your   Answer: 維護自然環境\n"
          ]
        },
        {
          "name": "stderr",
          "output_type": "stream",
          "text": [
            " 13%|█▎        | 529/4131 [02:00<17:09,  3.50it/s]"
          ]
        },
        {
          "name": "stdout",
          "output_type": "stream",
          "text": [
            "Question: 昆蟲學家陳世驤下的定義?\n",
            "Golden Answer: 物種是繁殖單元，由又連續又間斷的居群所組成；物種是進化單元，是生物系統線上的基本環節，是分類的基本單元。\n",
            "Your   Answer: 物種是繁殖單元，由又連續又間斷的居群所組成\n"
          ]
        },
        {
          "name": "stderr",
          "output_type": "stream",
          "text": [
            " 13%|█▎        | 536/4131 [02:02<16:23,  3.66it/s]"
          ]
        },
        {
          "name": "stdout",
          "output_type": "stream",
          "text": [
            "[UNK] in prediction answer\n",
            "[UNK] [UNK]\n",
            "Prediction range: [248, 250) in window 0-th paragraph\n",
            "Original answer\n",
            "Duff Roblin\n"
          ]
        },
        {
          "name": "stderr",
          "output_type": "stream",
          "text": [
            " 13%|█▎        | 543/4131 [02:03<12:33,  4.76it/s]"
          ]
        },
        {
          "name": "stdout",
          "output_type": "stream",
          "text": [
            "Question: 蘇聯為甚麼能夠在二戰後，佔領南千島群島?\n",
            "Golden Answer: 根據第二次世界大戰結束後對日本領土的安排\n",
            "Your   Answer: 第二次世界大戰結束後對日本領土的安排\n"
          ]
        },
        {
          "name": "stderr",
          "output_type": "stream",
          "text": [
            " 13%|█▎        | 557/4131 [02:07<13:50,  4.30it/s]"
          ]
        },
        {
          "name": "stdout",
          "output_type": "stream",
          "text": [
            "Question: 南北朝最後由哪一方統一?\n",
            "Golden Answer: 北朝\n",
            "Your   Answer: 南朝\n"
          ]
        },
        {
          "name": "stderr",
          "output_type": "stream",
          "text": [
            " 14%|█▍        | 571/4131 [02:10<11:52,  5.00it/s]"
          ]
        },
        {
          "name": "stdout",
          "output_type": "stream",
          "text": [
            "Question: 馮玉祥派薛篤弼提出甘肅省分治案的真正目的是?\n",
            "Golden Answer: 為了鞏固自己在西北的地位\n",
            "Your   Answer: 鞏固自己在西北的地位\n"
          ]
        },
        {
          "name": "stderr",
          "output_type": "stream",
          "text": [
            " 14%|█▍        | 575/4131 [02:11<11:50,  5.01it/s]"
          ]
        },
        {
          "name": "stdout",
          "output_type": "stream",
          "text": [
            "Question: 日軍為何要在山東半島北部登陸?\n",
            "Golden Answer: 以奪取德國在山東的利益\n",
            "Your   Answer: 奪取德國在山東的利益\n"
          ]
        },
        {
          "name": "stderr",
          "output_type": "stream",
          "text": [
            " 14%|█▍        | 578/4131 [02:11<11:48,  5.01it/s]"
          ]
        },
        {
          "name": "stdout",
          "output_type": "stream",
          "text": [
            "Question: 鄧小平理論是在哪一次全國代表大會時才加入《中國共產黨章程》中?\n",
            "Golden Answer: 第十四次全國代表大會\n",
            "Your   Answer: 第十四次\n"
          ]
        },
        {
          "name": "stderr",
          "output_type": "stream",
          "text": [
            " 14%|█▍        | 598/4131 [02:16<12:07,  4.86it/s]"
          ]
        },
        {
          "name": "stdout",
          "output_type": "stream",
          "text": [
            "Question: 哪一美國群體反對移民和非白種人也能領福利?\n",
            "Golden Answer: 白人男性底層勞工\n",
            "Your   Answer: 白人\n",
            "Question: 1959年的時候，道奇在世界大賽的對手是哪一隊?\n",
            "Golden Answer: 芝加哥白襪隊\n",
            "Your   Answer: 密爾瓦基勇士隊\n"
          ]
        },
        {
          "name": "stderr",
          "output_type": "stream",
          "text": [
            " 15%|█▍        | 607/4131 [02:18<13:58,  4.20it/s]"
          ]
        },
        {
          "name": "stdout",
          "output_type": "stream",
          "text": [
            "Question: 德軍為何決定先集中兵力擊潰俄國?\n",
            "Golden Answer: 因為西線的馬恩河會戰失敗\n",
            "Your   Answer: 西線的馬恩河會戰失敗\n"
          ]
        },
        {
          "name": "stderr",
          "output_type": "stream",
          "text": [
            " 15%|█▍        | 613/4131 [02:19<13:48,  4.25it/s]"
          ]
        },
        {
          "name": "stdout",
          "output_type": "stream",
          "text": [
            "Question: 「爐邊談話」是哪一位美國總統的作為?\n",
            "Golden Answer: 1936年\n",
            "Your   Answer: 羅斯福\n"
          ]
        },
        {
          "name": "stderr",
          "output_type": "stream",
          "text": [
            " 15%|█▍        | 617/4131 [02:20<13:39,  4.29it/s]"
          ]
        },
        {
          "name": "stdout",
          "output_type": "stream",
          "text": [
            "Question: 歐馬利為甚麼被洛杉磯人視為英雄?\n",
            "Golden Answer: 因帶了一隻大聯盟球隊到他們的城市\n",
            "Your   Answer: 帶了一隻大聯盟球隊到他們的城市\n"
          ]
        },
        {
          "name": "stderr",
          "output_type": "stream",
          "text": [
            " 15%|█▌        | 620/4131 [02:21<13:24,  4.37it/s]"
          ]
        },
        {
          "name": "stdout",
          "output_type": "stream",
          "text": [
            "Question: 梁啟超為何要在國內聯絡同志，籌組政聞社?\n",
            "Golden Answer: 以推進立憲運動的開展\n",
            "Your   Answer: 推進立憲運動的開展\n"
          ]
        },
        {
          "name": "stderr",
          "output_type": "stream",
          "text": [
            " 15%|█▌        | 637/4131 [02:25<13:11,  4.41it/s]"
          ]
        },
        {
          "name": "stdout",
          "output_type": "stream",
          "text": [
            "Question: 雜色澳洲喜鵲為甚麼造成該地區其他小型鳥類數量銳減?\n",
            "Golden Answer: 雜色澳洲喜鵲捕食其他小型鳥類的雛鳥\n",
            "Your   Answer: 捕食其他小型鳥類的雛鳥\n"
          ]
        },
        {
          "name": "stderr",
          "output_type": "stream",
          "text": [
            " 16%|█▌        | 648/4131 [02:27<14:50,  3.91it/s]"
          ]
        },
        {
          "name": "stdout",
          "output_type": "stream",
          "text": [
            "Question: 梁啟超為何希望向台灣遺老募集辦報資金?\n",
            "Golden Answer: 以擴大君主立憲宣傳\n",
            "Your   Answer: 擴大君主立憲宣傳\n"
          ]
        },
        {
          "name": "stderr",
          "output_type": "stream",
          "text": [
            " 16%|█▌        | 652/4131 [02:28<13:23,  4.33it/s]"
          ]
        },
        {
          "name": "stdout",
          "output_type": "stream",
          "text": [
            "Question: 「科學與技術研究」這項領域的科學哲學主要是在探討甚麼?\n",
            "Golden Answer: 研究科學界實際中是如何運作的\n",
            "Your   Answer: 科學界實際中是如何運作的\n"
          ]
        },
        {
          "name": "stderr",
          "output_type": "stream",
          "text": [
            " 16%|█▌        | 658/4131 [02:29<11:44,  4.93it/s]"
          ]
        },
        {
          "name": "stdout",
          "output_type": "stream",
          "text": [
            "Question: 香港偷渡客之中，以人口作為排名，第三多的是哪個區域的人?\n",
            "Golden Answer: 海陸豐人\n",
            "Your   Answer: 海陸豐地區\n"
          ]
        },
        {
          "name": "stderr",
          "output_type": "stream",
          "text": [
            " 16%|█▌        | 667/4131 [02:31<12:34,  4.59it/s]"
          ]
        },
        {
          "name": "stdout",
          "output_type": "stream",
          "text": [
            "Question: 譚耀文為何表示梅艷芳當時的體能相當驚人?\n",
            "Golden Answer: 因為每場演唱會都有30分鐘不停的唱跳環節\n",
            "Your   Answer: 每場演唱會都有30分鐘不停的唱跳環節\n"
          ]
        },
        {
          "name": "stderr",
          "output_type": "stream",
          "text": [
            " 16%|█▌        | 670/4131 [02:32<11:51,  4.86it/s]"
          ]
        },
        {
          "name": "stdout",
          "output_type": "stream",
          "text": [
            "Question: 太平軍為何沒有把握在短期內攻下武昌?\n",
            "Golden Answer: 由於李秀成部進軍遲緩\n",
            "Your   Answer: 李秀成部進軍遲緩\n"
          ]
        },
        {
          "name": "stderr",
          "output_type": "stream",
          "text": [
            " 16%|█▋        | 674/4131 [02:33<13:02,  4.42it/s]"
          ]
        },
        {
          "name": "stdout",
          "output_type": "stream",
          "text": [
            "Question: 「青年土耳其運動」是哪一個組織提倡的運動?\n",
            "Golden Answer: 「團結進步委員會」\n",
            "Your   Answer: 團結進步委員會\n"
          ]
        },
        {
          "name": "stderr",
          "output_type": "stream",
          "text": [
            " 16%|█▋        | 676/4131 [02:33<13:43,  4.20it/s]"
          ]
        },
        {
          "name": "stdout",
          "output_type": "stream",
          "text": [
            "Question: 命名編號的原則?\n",
            "Golden Answer: 第一個元素便是發現年份，緊接著兩個字母，再來是因需要才加入的下標數字。\n",
            "Your   Answer: 天體在被發現後即時給予的命名\n"
          ]
        },
        {
          "name": "stderr",
          "output_type": "stream",
          "text": [
            " 17%|█▋        | 698/4131 [02:39<12:08,  4.71it/s]"
          ]
        },
        {
          "name": "stdout",
          "output_type": "stream",
          "text": [
            "Question: 「Dirac Place」位於哪一個鎮上?\n",
            "Golden Answer: 迪高特鎮\n",
            "Your   Answer: 牛津郡迪高特鎮\n"
          ]
        },
        {
          "name": "stderr",
          "output_type": "stream",
          "text": [
            " 17%|█▋        | 701/4131 [02:39<11:39,  4.90it/s]"
          ]
        },
        {
          "name": "stdout",
          "output_type": "stream",
          "text": [
            "[UNK] in prediction answer\n",
            "對 日 本 報 紙 的 無 恥 造 謠 誣 [UNK] ， 進 行 了 有 力 駁 斥\n",
            "Prediction range: [103, 123) in window 0-th paragraph\n",
            "Original answer\n",
            "對日本報紙的無恥造謠誣衊，進行了有力駁斥\n"
          ]
        },
        {
          "name": "stderr",
          "output_type": "stream",
          "text": [
            " 17%|█▋        | 706/4131 [02:40<11:55,  4.79it/s]"
          ]
        },
        {
          "name": "stdout",
          "output_type": "stream",
          "text": [
            "Question: 維拉在九十年代時，常常出現的狀況是?\n",
            "Golden Answer: 每次都在下半季後勁不繼\n",
            "Your   Answer: 下半季後勁不繼\n"
          ]
        },
        {
          "name": "stderr",
          "output_type": "stream",
          "text": [
            " 17%|█▋        | 710/4131 [02:41<13:59,  4.07it/s]"
          ]
        },
        {
          "name": "stdout",
          "output_type": "stream",
          "text": [
            "Question: 帕米爾高原在古代又稱為蔥嶺的原因是來自哪一段文字?\n",
            "Golden Answer: 「其山高大，上生蔥」\n",
            "Your   Answer: 《西河舊事》\n"
          ]
        },
        {
          "name": "stderr",
          "output_type": "stream",
          "text": [
            " 17%|█▋        | 715/4131 [02:42<11:46,  4.83it/s]"
          ]
        },
        {
          "name": "stdout",
          "output_type": "stream",
          "text": [
            "Question: 經濟上在義大利排名第一的城市是?\n",
            "Golden Answer: 米蘭\n",
            "Your   Answer: 羅馬\n"
          ]
        },
        {
          "name": "stderr",
          "output_type": "stream",
          "text": [
            " 17%|█▋        | 721/4131 [02:44<11:53,  4.78it/s]"
          ]
        },
        {
          "name": "stdout",
          "output_type": "stream",
          "text": [
            "Question: 全世界地震的位置和強度是由哪一個美國的政府機構負責監測?\n",
            "Golden Answer: 美國地質調查局\n",
            "Your   Answer: 美國地震資訊中心\n"
          ]
        },
        {
          "name": "stderr",
          "output_type": "stream",
          "text": [
            " 18%|█▊        | 724/4131 [02:44<12:29,  4.54it/s]"
          ]
        },
        {
          "name": "stdout",
          "output_type": "stream",
          "text": [
            "Question: 聖週被用來紀念甚麼?\n",
            "Golden Answer: 紀念耶穌受難\n",
            "Your   Answer: 耶穌受難\n"
          ]
        },
        {
          "name": "stderr",
          "output_type": "stream",
          "text": [
            " 18%|█▊        | 726/4131 [02:45<11:53,  4.77it/s]"
          ]
        },
        {
          "name": "stdout",
          "output_type": "stream",
          "text": [
            "Question: 杜魯門發表「韓戰聲明」的目的是?\n",
            "Golden Answer: 為了堅守西太平洋的反共防線\n",
            "Your   Answer: 堅守西太平洋的反共防線\n"
          ]
        },
        {
          "name": "stderr",
          "output_type": "stream",
          "text": [
            " 18%|█▊        | 731/4131 [02:46<11:23,  4.97it/s]"
          ]
        },
        {
          "name": "stdout",
          "output_type": "stream",
          "text": [
            "Question: 中央軍為甚麼沒辦法作戰?\n",
            "Golden Answer: 突然颳起了強烈的東北風，塵埃蔽天\n",
            "Your   Answer: 頂著風沙\n"
          ]
        },
        {
          "name": "stderr",
          "output_type": "stream",
          "text": [
            " 18%|█▊        | 733/4131 [02:46<11:22,  4.98it/s]"
          ]
        },
        {
          "name": "stdout",
          "output_type": "stream",
          "text": [
            "Question: 布魯克林新郎隊這個稱號的由來是?\n",
            "Golden Answer: 數名球員接連結婚\n",
            "Your   Answer: 1888年數名球員接連結婚\n"
          ]
        },
        {
          "name": "stderr",
          "output_type": "stream",
          "text": [
            " 18%|█▊        | 736/4131 [02:47<11:17,  5.01it/s]"
          ]
        },
        {
          "name": "stdout",
          "output_type": "stream",
          "text": [
            "Question: 綏遠省省名的由來是?\n",
            "Golden Answer: 因設有綏遠將軍駐守此地\n",
            "Your   Answer: 設有綏遠將軍駐守此地\n"
          ]
        },
        {
          "name": "stderr",
          "output_type": "stream",
          "text": [
            " 18%|█▊        | 742/4131 [02:48<12:04,  4.68it/s]"
          ]
        },
        {
          "name": "stdout",
          "output_type": "stream",
          "text": [
            "Question: 「炸不死的重慶之蛙」指的是甚麼?\n",
            "Golden Answer: 中央廣播電台\n",
            "Your   Answer: 央廣\n"
          ]
        },
        {
          "name": "stderr",
          "output_type": "stream",
          "text": [
            " 18%|█▊        | 747/4131 [02:49<11:22,  4.96it/s]"
          ]
        },
        {
          "name": "stdout",
          "output_type": "stream",
          "text": [
            "Question: 十六國時期，最先統一中原的是哪一個國家?\n",
            "Golden Answer: 前趙\n",
            "Your   Answer: 前秦\n"
          ]
        },
        {
          "name": "stderr",
          "output_type": "stream",
          "text": [
            " 18%|█▊        | 754/4131 [02:51<11:54,  4.72it/s]"
          ]
        },
        {
          "name": "stdout",
          "output_type": "stream",
          "text": [
            "Question: 《中華民國憲法》對於總統有何任期規範?\n",
            "Golden Answer: 任期4年，可連選連任一次\n",
            "Your   Answer: 4年\n"
          ]
        },
        {
          "name": "stderr",
          "output_type": "stream",
          "text": [
            " 18%|█▊        | 756/4131 [02:51<11:34,  4.86it/s]"
          ]
        },
        {
          "name": "stdout",
          "output_type": "stream",
          "text": [
            "Question: 道奇在2011年球季前半段的戰績表現如何?\n",
            "Golden Answer: 31勝41敗\n",
            "Your   Answer: 差勁\n"
          ]
        },
        {
          "name": "stderr",
          "output_type": "stream",
          "text": [
            " 18%|█▊        | 760/4131 [02:52<12:59,  4.32it/s]"
          ]
        },
        {
          "name": "stdout",
          "output_type": "stream",
          "text": [
            "Question: 梁啟超的《中國史敘論》和哪一個革命息息相關?\n",
            "Golden Answer: 「史學革命」\n",
            "Your   Answer: 史學革命\n",
            "Question: 一個直徑10公尺的隕石的威力相當於?\n",
            "Golden Answer: 投在廣島的原子彈威力\n",
            "Your   Answer: 原子彈\n"
          ]
        },
        {
          "name": "stderr",
          "output_type": "stream",
          "text": [
            " 19%|█▊        | 766/4131 [02:54<12:03,  4.65it/s]"
          ]
        },
        {
          "name": "stdout",
          "output_type": "stream",
          "text": [
            "Question: 英國國會的下議院是如何產生?\n",
            "Golden Answer: 選舉產生\n",
            "Your   Answer: 選舉\n"
          ]
        },
        {
          "name": "stderr",
          "output_type": "stream",
          "text": [
            " 19%|█▉        | 777/4131 [02:56<11:08,  5.02it/s]"
          ]
        },
        {
          "name": "stdout",
          "output_type": "stream",
          "text": [
            "Question: 英國為甚麼在阿森松島建立軍營?\n",
            "Golden Answer: 因為拿破崙被流放至聖赫倫那島的西南部\n",
            "Your   Answer: 以防拿破崙逃脫\n"
          ]
        },
        {
          "name": "stderr",
          "output_type": "stream",
          "text": [
            " 19%|█▉        | 779/4131 [02:56<11:09,  5.01it/s]"
          ]
        },
        {
          "name": "stdout",
          "output_type": "stream",
          "text": [
            "Question: 加那利群島有著冬暖夏涼的什麼氣候?\n",
            "Golden Answer: 亞熱帶\n",
            "Your   Answer: 亞熱帶氣候\n"
          ]
        },
        {
          "name": "stderr",
          "output_type": "stream",
          "text": [
            " 19%|█▉        | 781/4131 [02:57<11:08,  5.01it/s]"
          ]
        },
        {
          "name": "stdout",
          "output_type": "stream",
          "text": [
            "Question: 激進派共和黨人在1866年的國會選舉後，為何對南方施加了許多苛刻的法案?\n",
            "Golden Answer: 以報復南方的分離\n",
            "Your   Answer: 報復南方的分離\n"
          ]
        },
        {
          "name": "stderr",
          "output_type": "stream",
          "text": [
            " 19%|█▉        | 787/4131 [02:58<11:06,  5.02it/s]"
          ]
        },
        {
          "name": "stdout",
          "output_type": "stream",
          "text": [
            "Question: 當時台灣的民營企業為甚麼要上交大量利潤作為反攻大陸的準備?\n",
            "Golden Answer: 因為政治情況\n",
            "Your   Answer: 政治情況\n"
          ]
        },
        {
          "name": "stderr",
          "output_type": "stream",
          "text": [
            " 19%|█▉        | 802/4131 [03:01<12:30,  4.43it/s]"
          ]
        },
        {
          "name": "stdout",
          "output_type": "stream",
          "text": [
            "Question: 都督一開始的時候指的是甚麼職位?\n",
            "Golden Answer: 軍隊中的監察官\n",
            "Your   Answer: 監察官\n"
          ]
        },
        {
          "name": "stderr",
          "output_type": "stream",
          "text": [
            " 20%|█▉        | 807/4131 [03:02<13:20,  4.15it/s]"
          ]
        },
        {
          "name": "stdout",
          "output_type": "stream",
          "text": [
            "Question: 在中國，執法人員對違法嫌疑人員進行執法時，常常沒收甚麼東西?\n",
            "Golden Answer: 被執法者的個人財產\n",
            "Your   Answer: 個人財產\n"
          ]
        },
        {
          "name": "stderr",
          "output_type": "stream",
          "text": [
            " 20%|█▉        | 812/4131 [03:03<11:51,  4.66it/s]"
          ]
        },
        {
          "name": "stdout",
          "output_type": "stream",
          "text": [
            "Question: 「金山一點大如拳，打破維揚水底天。醉倚妙高臺上月，玉簫吹徹洞龍眠。」這首詩的主題是甚麼建築?\n",
            "Golden Answer: 金山寺\n",
            "Your   Answer: 王陽明\n"
          ]
        },
        {
          "name": "stderr",
          "output_type": "stream",
          "text": [
            " 20%|█▉        | 815/4131 [03:04<12:16,  4.50it/s]"
          ]
        },
        {
          "name": "stdout",
          "output_type": "stream",
          "text": [
            "Question: 布希政府為何認為日內瓦公約並不適用於蓋達等恐怖組織的恐怖份子?\n",
            "Golden Answer: 主張日內瓦公約僅只保護主權國家的軍隊人員\n",
            "Your   Answer: 日內瓦公約僅只保護主權國家的軍隊人員\n"
          ]
        },
        {
          "name": "stderr",
          "output_type": "stream",
          "text": [
            " 20%|██        | 831/4131 [03:08<11:21,  4.84it/s]"
          ]
        },
        {
          "name": "stdout",
          "output_type": "stream",
          "text": [
            "Question: 「允許東印度公司在印度建立貿易據點，以此作為從歐洲運輸商品過來的報答。」這是哪一年英王詹姆士一世與莫臥兒簽訂的通商條約之內容?\n",
            "Golden Answer: 1615年\n",
            "Your   Answer: 通商條約\n"
          ]
        },
        {
          "name": "stderr",
          "output_type": "stream",
          "text": [
            " 20%|██        | 838/4131 [03:09<10:57,  5.01it/s]"
          ]
        },
        {
          "name": "stdout",
          "output_type": "stream",
          "text": [
            "Question: 百貨公司通常會販賣較大型和具有什麼性質的商品?\n",
            "Golden Answer: 昂貴\n",
            "Your   Answer: 較昂貴\n"
          ]
        },
        {
          "name": "stderr",
          "output_type": "stream",
          "text": [
            " 20%|██        | 842/4131 [03:10<10:56,  5.01it/s]"
          ]
        },
        {
          "name": "stdout",
          "output_type": "stream",
          "text": [
            "Question: 中國大陸境內第一個使用膠輪導向電車的城市是?\n",
            "Golden Answer: 天津濱海新區\n",
            "Your   Answer: 天津\n",
            "[UNK] in prediction answer\n",
            "杜 恆 - [UNK] 因 論 題\n",
            "Prediction range: [6, 13) in window 0-th paragraph\n",
            "Original answer\n",
            "杜恆-蒯因論題\n"
          ]
        },
        {
          "name": "stderr",
          "output_type": "stream",
          "text": [
            " 21%|██        | 855/4131 [03:13<14:41,  3.72it/s]"
          ]
        },
        {
          "name": "stdout",
          "output_type": "stream",
          "text": [
            "Question: 在荃灣線啟用初期為甚麼車站流量頗低?\n",
            "Golden Answer: 其所在地遠離當時位於沙咀道一帶的荃灣市中心\n",
            "Your   Answer: 所在地遠離當時位於沙咀道一帶的荃灣市中心\n"
          ]
        },
        {
          "name": "stderr",
          "output_type": "stream",
          "text": [
            " 21%|██        | 857/4131 [03:13<14:09,  3.85it/s]"
          ]
        },
        {
          "name": "stdout",
          "output_type": "stream",
          "text": [
            "Question: 波拿巴主義者的領導人指的是誰?\n",
            "Golden Answer: 路易-拿破崙\n",
            "Your   Answer: 拿破崙二世\n",
            "Question: DNA指的是什麼?\n",
            "Golden Answer: 所有生物型態得以表現的遺傳物質的基本結構\n",
            "Your   Answer: 使所有生物型態得以表現的遺傳物質的基本結構\n"
          ]
        },
        {
          "name": "stderr",
          "output_type": "stream",
          "text": [
            " 21%|██        | 864/4131 [03:15<11:51,  4.59it/s]"
          ]
        },
        {
          "name": "stdout",
          "output_type": "stream",
          "text": [
            "Question: 奧地利為何要簽署《艾克斯·拉·沙佩勒條約》?\n",
            "Golden Answer: 以贏得重建軍隊與同盟關係的時間\n",
            "Your   Answer: 贏得重建軍隊與同盟關係的時間\n"
          ]
        },
        {
          "name": "stderr",
          "output_type": "stream",
          "text": [
            " 21%|██        | 866/4131 [03:16<12:45,  4.26it/s]"
          ]
        },
        {
          "name": "stdout",
          "output_type": "stream",
          "text": [
            "Question: 托爾金在軍中的時間為什麼對艾迪絲而言是可怕的壓力?\n",
            "Golden Answer: 她害怕每一次敲門可能帶來丈夫死去的消息\n",
            "Your   Answer: 害怕每一次敲門可能帶來丈夫死去的消息\n"
          ]
        },
        {
          "name": "stderr",
          "output_type": "stream",
          "text": [
            " 21%|██        | 871/4131 [03:17<11:10,  4.87it/s]"
          ]
        },
        {
          "name": "stdout",
          "output_type": "stream",
          "text": [
            "Question: 梁啟超為何毅然放棄共和方案?\n",
            "Golden Answer: 對比中美兩國歷史和國情，深感中國不適合美式共和制度\n",
            "Your   Answer: 深感中國不適合美式共和制度\n"
          ]
        },
        {
          "name": "stderr",
          "output_type": "stream",
          "text": [
            " 22%|██▏       | 895/4131 [03:22<12:29,  4.32it/s]"
          ]
        },
        {
          "name": "stdout",
          "output_type": "stream",
          "text": [
            "Question: 1958年至1960年間，中國共產黨的什麼政策導致國民經濟的倒退和大饑荒的發生?\n",
            "Golden Answer: 大躍進\n",
            "Your   Answer: 「超英趕美」的大躍進\n",
            "Question: 阿肯色州的民眾認為何事是希拉蕊缺乏傳統家庭觀念的表現?\n",
            "Golden Answer: 拒絕改從丈夫姓氏\n",
            "Your   Answer: 蕊拒絕改從丈夫姓氏，仍堅持自稱「希拉蕊·羅登」\n"
          ]
        },
        {
          "name": "stderr",
          "output_type": "stream",
          "text": [
            " 22%|██▏       | 904/4131 [03:24<09:57,  5.40it/s]"
          ]
        },
        {
          "name": "stdout",
          "output_type": "stream",
          "text": [
            "Question: 利用公理如何定義面積?\n",
            "Golden Answer: 由平面圖形的集合映射至實數的函數\n",
            "Your   Answer: 一個由平面圖形的集合映射至實數的函數\n"
          ]
        },
        {
          "name": "stderr",
          "output_type": "stream",
          "text": [
            " 22%|██▏       | 912/4131 [03:26<10:47,  4.97it/s]"
          ]
        },
        {
          "name": "stdout",
          "output_type": "stream",
          "text": [
            "Question: 五四運動間接造成了日後的哪一場戰爭?\n",
            "Golden Answer: 國共內戰\n",
            "Your   Answer: 兩次國共內戰\n"
          ]
        },
        {
          "name": "stderr",
          "output_type": "stream",
          "text": [
            " 22%|██▏       | 923/4131 [03:28<12:24,  4.31it/s]"
          ]
        },
        {
          "name": "stdout",
          "output_type": "stream",
          "text": [
            "Question: 鄧小平為甚麼主張一個社會主義國家可以實行市場經濟政策?\n",
            "Golden Answer: 為了扭轉毛澤東極左派政策所帶來的影響\n",
            "Your   Answer: 扭轉毛澤東極左派政策所帶來的影響\n"
          ]
        },
        {
          "name": "stderr",
          "output_type": "stream",
          "text": [
            " 22%|██▏       | 926/4131 [03:29<11:14,  4.75it/s]"
          ]
        },
        {
          "name": "stdout",
          "output_type": "stream",
          "text": [
            "Question: 路易-拿破崙的父親於何年過世?\n",
            "Golden Answer: 1846年\n",
            "Your   Answer: 1844年\n"
          ]
        },
        {
          "name": "stderr",
          "output_type": "stream",
          "text": [
            " 23%|██▎       | 933/4131 [03:30<10:39,  5.00it/s]"
          ]
        },
        {
          "name": "stdout",
          "output_type": "stream",
          "text": [
            "Question: 電盈在2002年以甚麼理由解僱858名員工?\n",
            "Golden Answer: 「以使營運架構達至效率目標」\n",
            "Your   Answer: 以使營運架構達至效率目標\n"
          ]
        },
        {
          "name": "stderr",
          "output_type": "stream",
          "text": [
            " 23%|██▎       | 935/4131 [03:31<10:37,  5.01it/s]"
          ]
        },
        {
          "name": "stdout",
          "output_type": "stream",
          "text": [
            "Question: 王安石希望透過甚麼變法，將「財政稅收大規模的商業化」?\n",
            "Golden Answer: 「王安石變法」\n",
            "Your   Answer: 王安石變法\n"
          ]
        },
        {
          "name": "stderr",
          "output_type": "stream",
          "text": [
            " 23%|██▎       | 943/4131 [03:33<12:37,  4.21it/s]"
          ]
        },
        {
          "name": "stdout",
          "output_type": "stream",
          "text": [
            "Question: 杜爾伯特旗在哪一場戰爭之後，劃歸嫩江省管轄?\n",
            "Golden Answer: 「九三」抗日戰爭\n",
            "Your   Answer: 「九三」抗日戰爭勝\n"
          ]
        },
        {
          "name": "stderr",
          "output_type": "stream",
          "text": [
            " 23%|██▎       | 954/4131 [03:35<11:17,  4.69it/s]"
          ]
        },
        {
          "name": "stdout",
          "output_type": "stream",
          "text": [
            "Question: 基多市的現代公共建築中，為何要以灰色和玻璃窗的煙色為主導色?\n",
            "Golden Answer: 為的是好抵擋住或許因藍天伸手可及而特別耀眼的陽光\n",
            "Your   Answer: 好抵擋住或許因藍天伸手可及而特別耀眼的陽光\n"
          ]
        },
        {
          "name": "stderr",
          "output_type": "stream",
          "text": [
            " 23%|██▎       | 960/4131 [03:37<11:45,  4.50it/s]"
          ]
        },
        {
          "name": "stdout",
          "output_type": "stream",
          "text": [
            "Question: 中華民國的行政院長是由誰任命的?\n",
            "Golden Answer: 總統\n",
            "Your   Answer: 中華民國總統\n"
          ]
        },
        {
          "name": "stderr",
          "output_type": "stream",
          "text": [
            " 23%|██▎       | 964/4131 [03:38<12:23,  4.26it/s]"
          ]
        },
        {
          "name": "stdout",
          "output_type": "stream",
          "text": [
            "Question: 共和黨的自由派在1960年之後開始衰落的原因是?\n",
            "Golden Answer: 尼克森在1960年美國總統選舉的失敗\n",
            "Your   Answer: 美國總統選舉的失敗\n"
          ]
        },
        {
          "name": "stderr",
          "output_type": "stream",
          "text": [
            " 24%|██▎       | 974/4131 [03:40<10:57,  4.80it/s]"
          ]
        },
        {
          "name": "stdout",
          "output_type": "stream",
          "text": [
            "Question: 北高加索信奉基督教是受到哪一個地區影響?\n",
            "Golden Answer: 拜占庭\n",
            "Your   Answer: 拜占庭傳教士\n",
            "Question: 簡單機械的功能是?\n",
            "Golden Answer: 單純轉換力的大小或方向\n",
            "Your   Answer: 幫助人們節省工作難度或省力的工具裝置\n"
          ]
        },
        {
          "name": "stderr",
          "output_type": "stream",
          "text": [
            " 24%|██▎       | 980/4131 [03:41<10:31,  4.99it/s]"
          ]
        },
        {
          "name": "stdout",
          "output_type": "stream",
          "text": [
            "[UNK] in prediction answer\n",
            "[UNK] · [UNK] · [UNK] · 托 爾 金\n",
            "Prediction range: [150, 159) in window 0-th paragraph\n",
            "Original answer\n",
            "J·R·R·托爾金\n"
          ]
        },
        {
          "name": "stderr",
          "output_type": "stream",
          "text": [
            " 24%|██▍       | 985/4131 [03:42<10:27,  5.02it/s]"
          ]
        },
        {
          "name": "stdout",
          "output_type": "stream",
          "text": [
            "[UNK] in prediction answer\n",
            "青 翁 三 足 [UNK]\n",
            "Prediction range: [221, 226) in window 0-th paragraph\n",
            "Original answer\n",
            "青翁三足缶\n"
          ]
        },
        {
          "name": "stderr",
          "output_type": "stream",
          "text": [
            " 24%|██▍       | 992/4131 [03:44<10:37,  4.92it/s]"
          ]
        },
        {
          "name": "stdout",
          "output_type": "stream",
          "text": [
            "Question: 雷根如何改革美國的社會福利制度?\n",
            "Golden Answer: 使其花費的預算在接下來25年不會超過政府控制\n",
            "Your   Answer: 在兩黨的支持下\n"
          ]
        },
        {
          "name": "stderr",
          "output_type": "stream",
          "text": [
            " 24%|██▍       | 999/4131 [03:46<12:03,  4.33it/s]"
          ]
        },
        {
          "name": "stdout",
          "output_type": "stream",
          "text": [
            "Question: 拿破崙介入墨西哥事務的真正目的是?\n",
            "Golden Answer: 企圖在北美建立一個君主制國家\n",
            "Your   Answer: 在北美建立一個君主制國家\n"
          ]
        },
        {
          "name": "stderr",
          "output_type": "stream",
          "text": [
            " 24%|██▍       | 1002/4131 [03:46<10:57,  4.76it/s]"
          ]
        },
        {
          "name": "stdout",
          "output_type": "stream",
          "text": [
            "Question: 馬步芳的寧海軍在第二次國共內戰末期時被誰消滅?\n",
            "Golden Answer: 彭德懷\n",
            "Your   Answer: 中國人民解放軍\n"
          ]
        },
        {
          "name": "stderr",
          "output_type": "stream",
          "text": [
            " 24%|██▍       | 1005/4131 [03:47<11:53,  4.38it/s]"
          ]
        },
        {
          "name": "stdout",
          "output_type": "stream",
          "text": [
            "Question: 英美在1783年簽訂什麼條約，約定把五大湖區以南的領地劃為美國所轄?\n",
            "Golden Answer: 巴黎條約\n",
            "Your   Answer: 《巴黎條約》\n"
          ]
        },
        {
          "name": "stderr",
          "output_type": "stream",
          "text": [
            " 25%|██▍       | 1013/4131 [03:49<11:10,  4.65it/s]"
          ]
        },
        {
          "name": "stdout",
          "output_type": "stream",
          "text": [
            "Question: 鄧小平理論和中華人民共和國在80年代的哪一項政策有關?\n",
            "Golden Answer: 改革開放政策\n",
            "Your   Answer: 改革開放\n"
          ]
        },
        {
          "name": "stderr",
          "output_type": "stream",
          "text": [
            " 25%|██▍       | 1017/4131 [03:50<12:47,  4.06it/s]"
          ]
        },
        {
          "name": "stdout",
          "output_type": "stream",
          "text": [
            "Question: 軌道離心率的定義?\n",
            "Golden Answer: 定義軌道形狀的重要參數\n",
            "Your   Answer: 軌道形狀的重要參數，而且定義了絕對的形狀\n"
          ]
        },
        {
          "name": "stderr",
          "output_type": "stream",
          "text": [
            " 25%|██▍       | 1029/4131 [03:52<10:45,  4.81it/s]"
          ]
        },
        {
          "name": "stdout",
          "output_type": "stream",
          "text": [
            "Question: 梅艷芳子宮頸癌病情惡化的原因是?\n",
            "Golden Answer: 她以工作繁忙為由拒絕就醫\n",
            "Your   Answer: 以工作繁忙為由拒絕就醫\n"
          ]
        },
        {
          "name": "stderr",
          "output_type": "stream",
          "text": [
            " 25%|██▌       | 1037/4131 [03:54<11:13,  4.59it/s]"
          ]
        },
        {
          "name": "stdout",
          "output_type": "stream",
          "text": [
            "Question: 國家政治在哪一時代，進入了被權門勢家支配所分割的時代?\n",
            "Golden Answer: 平安時代\n",
            "Your   Answer: 中世\n"
          ]
        },
        {
          "name": "stderr",
          "output_type": "stream",
          "text": [
            " 25%|██▌       | 1042/4131 [03:55<10:26,  4.93it/s]"
          ]
        },
        {
          "name": "stdout",
          "output_type": "stream",
          "text": [
            "Question: 光緒皇帝為何聽不懂梁啟超的新會口音?\n",
            "Golden Answer: 因梁啟超不會講北京話\n",
            "Your   Answer: 梁啟超不會講北京話\n"
          ]
        },
        {
          "name": "stderr",
          "output_type": "stream",
          "text": [
            " 25%|██▌       | 1050/4131 [03:57<11:57,  4.29it/s]"
          ]
        },
        {
          "name": "stdout",
          "output_type": "stream",
          "text": [
            "Question: 神聖羅馬帝國與條頓騎士團諸城市之間自什麼時候開始形成了漢薩同盟?\n",
            "Golden Answer: 12世紀\n",
            "Your   Answer: 12世紀中期\n"
          ]
        },
        {
          "name": "stderr",
          "output_type": "stream",
          "text": [
            " 25%|██▌       | 1051/4131 [03:57<11:26,  4.49it/s]"
          ]
        },
        {
          "name": "stdout",
          "output_type": "stream",
          "text": [
            "Question: 澳門特別行政區政府在2002年之後，改為向三家公司發出博彩經營權牌照，上述所指的三家公司中，除了銀河娛樂場股份有限公司、澳門博彩股份有限公司，還有哪一間公司?\n",
            "Golden Answer: 永利渡假村股份有限公司\n",
            "Your   Answer: 澳門博彩股份有限公司\n",
            "Question: 政府對於對中國大陸廣播的政策是?\n",
            "Golden Answer: 對大陸廣播「只能增加不能減少」\n",
            "Your   Answer: 只能增加不能減少\n"
          ]
        },
        {
          "name": "stderr",
          "output_type": "stream",
          "text": [
            " 26%|██▌       | 1058/4131 [03:59<10:44,  4.77it/s]"
          ]
        },
        {
          "name": "stdout",
          "output_type": "stream",
          "text": [
            "Question: 元朝兌換紙幣的機關被稱為甚麼?\n",
            "Golden Answer: 「平準庫」\n",
            "Your   Answer: 平準庫\n"
          ]
        },
        {
          "name": "stderr",
          "output_type": "stream",
          "text": [
            " 26%|██▌       | 1062/4131 [04:00<11:36,  4.41it/s]"
          ]
        },
        {
          "name": "stdout",
          "output_type": "stream",
          "text": [
            "Question: 道奇以什麼價碼網羅日籍強投前田健太?\n",
            "Golden Answer: 一張8年2500萬美金的合約\n",
            "Your   Answer: 2500萬美金\n"
          ]
        },
        {
          "name": "stderr",
          "output_type": "stream",
          "text": [
            " 26%|██▌       | 1068/4131 [04:01<11:14,  4.54it/s]"
          ]
        },
        {
          "name": "stdout",
          "output_type": "stream",
          "text": [
            "Question: 俄國與奧匈帝國的衝突為何加深?\n",
            "Golden Answer: 俄國則藉由塞爾維亞插手巴爾幹半島事務\n",
            "Your   Answer: 藉由塞爾維亞插手巴爾幹半島事務\n",
            "Question: 廣州港是世界第幾大港口?\n",
            "Golden Answer: 八\n",
            "Your   Answer: 第八大港口\n"
          ]
        },
        {
          "name": "stderr",
          "output_type": "stream",
          "text": [
            " 26%|██▌       | 1069/4131 [04:01<10:56,  4.67it/s]"
          ]
        },
        {
          "name": "stdout",
          "output_type": "stream",
          "text": [
            "[UNK] in prediction answer\n",
            "[UNK] 之 作 品 在 [UNK] / [UNK] 媒 體 販 賣 前 ， 經 常 已 在 核 心 局 深 夜 節 目 播 放 過\n",
            "Prediction range: [71, 99) in window 1-th paragraph\n",
            "Original answer\n",
            "OVA之作品在DVD/BD媒體販賣前，經常已在核心局深夜節目播放過\n"
          ]
        },
        {
          "name": "stderr",
          "output_type": "stream",
          "text": [
            " 26%|██▌       | 1082/4131 [04:04<11:48,  4.30it/s]"
          ]
        },
        {
          "name": "stdout",
          "output_type": "stream",
          "text": [
            "Question: 這批撤離大陳島的居民為甚麼在當時被稱為「大陳義胞」?\n",
            "Golden Answer: 為表揚他們對中華民國政府與反共立場的支持\n",
            "Your   Answer: 表揚他們對中華民國政府與反共立場的支持\n"
          ]
        },
        {
          "name": "stderr",
          "output_type": "stream",
          "text": [
            " 26%|██▌       | 1083/4131 [04:04<11:18,  4.49it/s]"
          ]
        },
        {
          "name": "stdout",
          "output_type": "stream",
          "text": [
            "Question: 全國代表大會舉行的頻率是?\n",
            "Golden Answer: 每5年舉行一次\n",
            "Your   Answer: 每5年\n"
          ]
        },
        {
          "name": "stderr",
          "output_type": "stream",
          "text": [
            " 26%|██▋       | 1090/4131 [04:06<12:37,  4.01it/s]"
          ]
        },
        {
          "name": "stdout",
          "output_type": "stream",
          "text": [
            "Question: 地球上現今存活的物種有多少?\n",
            "Golden Answer: 1,200至1,400萬\n",
            "Your   Answer: 1,200至1,400萬個\n"
          ]
        },
        {
          "name": "stderr",
          "output_type": "stream",
          "text": [
            " 27%|██▋       | 1095/4131 [04:07<11:49,  4.28it/s]"
          ]
        },
        {
          "name": "stdout",
          "output_type": "stream",
          "text": [
            "Question: 道教追求老子的什麼經作為修仙、修真境界主要經典?\n",
            "Golden Answer: 道德經\n",
            "Your   Answer: 《道德經》\n",
            "Question: 布萊爾政府改革上議院的第一步是?\n",
            "Golden Answer: 提案撤除所有貴族於上議院中世襲的議席\n",
            "Your   Answer: 撤除所有貴族於上議院中世襲的議席\n"
          ]
        },
        {
          "name": "stderr",
          "output_type": "stream",
          "text": [
            " 27%|██▋       | 1109/4131 [04:10<10:47,  4.66it/s]"
          ]
        },
        {
          "name": "stdout",
          "output_type": "stream",
          "text": [
            "Question: 五胡君主在建國之後，為何需要士大夫的協助?\n",
            "Golden Answer: 為了能夠統治中原地區\n",
            "Your   Answer: 能夠統治中原地區\n"
          ]
        },
        {
          "name": "stderr",
          "output_type": "stream",
          "text": [
            " 27%|██▋       | 1120/4131 [04:13<10:31,  4.77it/s]"
          ]
        },
        {
          "name": "stdout",
          "output_type": "stream",
          "text": [
            "Question: 廣州港是中國第幾大港口?\n",
            "Golden Answer: 五\n",
            "Your   Answer: 第五大\n",
            "Question: 義大利出口額第二多的省份是?\n",
            "Golden Answer: 杜林省還\n",
            "Your   Answer: 杜林省\n"
          ]
        },
        {
          "name": "stderr",
          "output_type": "stream",
          "text": [
            " 27%|██▋       | 1123/4131 [04:14<10:10,  4.93it/s]"
          ]
        },
        {
          "name": "stdout",
          "output_type": "stream",
          "text": [
            "Question: 歐馬利為何要讓自己的球場提議顯得不現實?\n",
            "Golden Answer: 以強化自己是被紐約政治人物趕走的主張\n",
            "Your   Answer: 強化自己是被紐約政治人物趕走的主張\n"
          ]
        },
        {
          "name": "stderr",
          "output_type": "stream",
          "text": [
            " 27%|██▋       | 1130/4131 [04:15<10:43,  4.66it/s]"
          ]
        },
        {
          "name": "stdout",
          "output_type": "stream",
          "text": [
            "Question: 托爾金在一戰後第一份工作的內容是?\n",
            "Golden Answer: 編纂《牛津英語詞典》\n",
            "Your   Answer: 是編纂《牛津英語詞典》\n"
          ]
        },
        {
          "name": "stderr",
          "output_type": "stream",
          "text": [
            " 28%|██▊       | 1143/4131 [04:18<11:37,  4.28it/s]"
          ]
        },
        {
          "name": "stdout",
          "output_type": "stream",
          "text": [
            "Question: 國民革命北伐軍為何廢道治並使無錫縣直屬於江蘇省所轄?\n",
            "Golden Answer: 為地方自治實現民主計\n",
            "Your   Answer: 地方自治實現民主計\n"
          ]
        },
        {
          "name": "stderr",
          "output_type": "stream",
          "text": [
            " 28%|██▊       | 1146/4131 [04:19<10:28,  4.75it/s]"
          ]
        },
        {
          "name": "stdout",
          "output_type": "stream",
          "text": [
            "Question: 「新電影」風潮的發展和哪一作品密不可分?\n",
            "Golden Answer: 《兒子的大玩偶》\n",
            "Your   Answer: 兒子的大玩偶\n"
          ]
        },
        {
          "name": "stderr",
          "output_type": "stream",
          "text": [
            " 28%|██▊       | 1153/4131 [04:20<11:00,  4.51it/s]"
          ]
        },
        {
          "name": "stdout",
          "output_type": "stream",
          "text": [
            "Question: 主流傳媒常常忽略三項因素，就斷章取義認定在求偶婚姻市場中也是「女多男少」的狀況，三項因素除了外傭、長者，還有哪一項?\n",
            "Golden Answer: 已婚人士\n",
            "Your   Answer: 整體人口\n"
          ]
        },
        {
          "name": "stderr",
          "output_type": "stream",
          "text": [
            " 28%|██▊       | 1156/4131 [04:21<11:33,  4.29it/s]"
          ]
        },
        {
          "name": "stdout",
          "output_type": "stream",
          "text": [
            "Question: 元文宗為甚麼要立懿璘質班為帝?\n",
            "Golden Answer: 為洗刷毒死元明宗的罪行\n",
            "Your   Answer: 洗刷毒死元明宗的罪行\n",
            "[UNK] in prediction answer\n",
            "[UNK] 是 作 為 個 人 動 畫 迷 購 買 的 作 品\n",
            "Prediction range: [2, 16) in window 0-th paragraph\n",
            "Original answer\n",
            "OVA是作為個人動畫迷購買的作品\n",
            "Question: 為甚麼OVA可依該群消費者之喜好製作?\n",
            "Golden Answer: 因為OVA是作為個人動畫迷購買的作品\n",
            "Your   Answer: OVA是作為個人動畫迷購買的作品\n"
          ]
        },
        {
          "name": "stderr",
          "output_type": "stream",
          "text": [
            " 28%|██▊       | 1165/4131 [04:23<10:21,  4.77it/s]"
          ]
        },
        {
          "name": "stdout",
          "output_type": "stream",
          "text": [
            "Question: 為甚麼基多有赤道經過，每年的氣候卻四季如春?\n",
            "Golden Answer: 位於高海拔地區\n",
            "Your   Answer: 基多這個城市是位於高海拔地區\n"
          ]
        },
        {
          "name": "stderr",
          "output_type": "stream",
          "text": [
            " 28%|██▊       | 1170/4131 [04:24<10:49,  4.56it/s]"
          ]
        },
        {
          "name": "stdout",
          "output_type": "stream",
          "text": [
            "Question: 上帝是每件事的「內在因」指的是甚麼意思?\n",
            "Golden Answer: 上帝通過自然法則來主宰世界，所以物質世界中發生的每一件事都有其必然性\n",
            "Your   Answer: 史賓諾沙\n",
            "Question: 世界第一高的首都是哪一個國家的首都?\n",
            "Golden Answer: 玻利維亞\n",
            "Your   Answer: 玻利維亞拉巴斯\n"
          ]
        },
        {
          "name": "stderr",
          "output_type": "stream",
          "text": [
            " 28%|██▊       | 1173/4131 [04:25<10:09,  4.85it/s]"
          ]
        },
        {
          "name": "stdout",
          "output_type": "stream",
          "text": [
            "Question: 為甚麼天壇的佈局是兩重壇牆的南側轉角皆為直角，北側轉角皆為圓弧形?\n",
            "Golden Answer: 象徵著「天圓地方」\n",
            "Your   Answer: ，象徵著「天圓地方」\n"
          ]
        },
        {
          "name": "stderr",
          "output_type": "stream",
          "text": [
            " 29%|██▊       | 1178/4131 [04:26<09:50,  5.00it/s]"
          ]
        },
        {
          "name": "stdout",
          "output_type": "stream",
          "text": [
            "Question: 屏東地區因為有兩座山脈的天然屏障，阻隔了冷冽的東北季風，使得屏東的冬天並不明顯，此處的兩座山脈除了中央山脈，還有一座山脈是?\n",
            "Golden Answer: 大武山山脈\n",
            "Your   Answer: 大武山山脈與中央山脈\n"
          ]
        },
        {
          "name": "stderr",
          "output_type": "stream",
          "text": [
            " 29%|██▊       | 1185/4131 [04:27<11:54,  4.12it/s]"
          ]
        },
        {
          "name": "stdout",
          "output_type": "stream",
          "text": [
            "Question: 羅曼語族是從什麼語族衍生出來的現代語族?\n",
            "Golden Answer: 義大利\n",
            "Your   Answer: 義大利語族\n"
          ]
        },
        {
          "name": "stderr",
          "output_type": "stream",
          "text": [
            " 29%|██▊       | 1187/4131 [04:28<12:05,  4.06it/s]"
          ]
        },
        {
          "name": "stdout",
          "output_type": "stream",
          "text": [
            "Question: 中央廣播電臺的成立方式是?\n",
            "Golden Answer: 中華民國政府捐助成立\n",
            "Your   Answer: 中華民國政府捐助\n"
          ]
        },
        {
          "name": "stderr",
          "output_type": "stream",
          "text": [
            " 29%|██▉       | 1203/4131 [04:31<12:02,  4.05it/s]"
          ]
        },
        {
          "name": "stdout",
          "output_type": "stream",
          "text": [
            "Question: 真正的石油國家指的是哪一個國家?\n",
            "Golden Answer: 阿布達比酋長國\n",
            "Your   Answer: 阿布達比\n"
          ]
        },
        {
          "name": "stderr",
          "output_type": "stream",
          "text": [
            " 29%|██▉       | 1209/4131 [04:33<09:57,  4.89it/s]"
          ]
        },
        {
          "name": "stdout",
          "output_type": "stream",
          "text": [
            "Question: 風能要如何轉化為機械能?\n",
            "Golden Answer: 當風吹動渦輪時，風力帶風車動繞軸旋轉\n",
            "Your   Answer: 風力帶風車動繞軸旋轉\n"
          ]
        },
        {
          "name": "stderr",
          "output_type": "stream",
          "text": [
            " 29%|██▉       | 1212/4131 [04:33<09:48,  4.96it/s]"
          ]
        },
        {
          "name": "stdout",
          "output_type": "stream",
          "text": [
            "Question: 太平興國元年的時候，為何要將義川縣為宜川縣?\n",
            "Golden Answer: 為避太宗趙光義名諱\n",
            "Your   Answer: 避太宗趙光義名諱\n",
            "Question: 緬甸一詞的由來是?\n",
            "Golden Answer: 宋朝以後稱緬，國內部落稱甸\n",
            "Your   Answer: 國內部落稱甸\n"
          ]
        },
        {
          "name": "stderr",
          "output_type": "stream",
          "text": [
            " 30%|██▉       | 1223/4131 [04:35<09:51,  4.91it/s]"
          ]
        },
        {
          "name": "stdout",
          "output_type": "stream",
          "text": [
            "Question: 法國以何種方法拉攏俄國並結下法俄同盟?\n",
            "Golden Answer: 向俄羅斯提供資本，實現其工業化\n",
            "Your   Answer: 趁德俄關係惡化時向俄羅斯提供資本\n"
          ]
        },
        {
          "name": "stderr",
          "output_type": "stream",
          "text": [
            " 30%|██▉       | 1237/4131 [04:38<10:28,  4.60it/s]"
          ]
        },
        {
          "name": "stdout",
          "output_type": "stream",
          "text": [
            "Question: 拜上帝教的最終理想是?\n",
            "Golden Answer: 實現「天下一家，共享太平」\n",
            "Your   Answer: 「天下一家，共享太平」\n"
          ]
        },
        {
          "name": "stderr",
          "output_type": "stream",
          "text": [
            " 30%|███       | 1241/4131 [04:39<11:38,  4.14it/s]"
          ]
        },
        {
          "name": "stdout",
          "output_type": "stream",
          "text": [
            "Question: 歷史學家根據兩項資料，認為倫敦最早是公元43年羅馬征服不列顛以前建立的，一項資料是考古證據，另一項資料為?\n",
            "Golden Answer: 威爾斯語傳說文學\n",
            "Your   Answer: 考古證據\n"
          ]
        },
        {
          "name": "stderr",
          "output_type": "stream",
          "text": [
            " 30%|███       | 1245/4131 [04:40<10:39,  4.51it/s]"
          ]
        },
        {
          "name": "stdout",
          "output_type": "stream",
          "text": [
            "Question: 澳門在博彩業方面有何稱號?\n",
            "Golden Answer: 「東方蒙特卡洛」\n",
            "Your   Answer: 東方蒙特卡洛\n"
          ]
        },
        {
          "name": "stderr",
          "output_type": "stream",
          "text": [
            " 30%|███       | 1259/4131 [04:44<11:27,  4.18it/s]"
          ]
        },
        {
          "name": "stdout",
          "output_type": "stream",
          "text": [
            "Question: 何人最早支持用世界歷史方法書寫科學?\n",
            "Golden Answer: G·W·F·黑格爾\n",
            "Your   Answer: 黑格爾\n"
          ]
        },
        {
          "name": "stderr",
          "output_type": "stream",
          "text": [
            " 31%|███       | 1269/4131 [04:46<09:45,  4.88it/s]"
          ]
        },
        {
          "name": "stdout",
          "output_type": "stream",
          "text": [
            "Question: 只要持續地按著板機不放，不斷地進行前後地推拉護木，便可以變相達成半自動射擊的高射速，這種設計又被稱為什麼?\n",
            "Golden Answer: 「撞火」\n",
            "Your   Answer: 成可以「撞火」\n"
          ]
        },
        {
          "name": "stderr",
          "output_type": "stream",
          "text": [
            " 31%|███       | 1272/4131 [04:46<09:34,  4.98it/s]"
          ]
        },
        {
          "name": "stdout",
          "output_type": "stream",
          "text": [
            "Question: 奈及利亞的人口中，從事什麼行業的人口比例最高?\n",
            "Golden Answer: 農業生產\n",
            "Your   Answer: 農業\n"
          ]
        },
        {
          "name": "stderr",
          "output_type": "stream",
          "text": [
            " 31%|███       | 1275/4131 [04:47<11:35,  4.10it/s]"
          ]
        },
        {
          "name": "stdout",
          "output_type": "stream",
          "text": [
            "Question: 哪一個水利計畫屬於國家1992年至1997年推動的計畫?\n",
            "Golden Answer: 「河海堤後續六年計畫」\n",
            "Your   Answer: 河海堤後續六年計畫\n"
          ]
        },
        {
          "name": "stderr",
          "output_type": "stream",
          "text": [
            " 31%|███       | 1279/4131 [04:48<09:58,  4.76it/s]"
          ]
        },
        {
          "name": "stdout",
          "output_type": "stream",
          "text": [
            "Question: Trolley Dodgers這個名稱的由來是?\n",
            "Golden Answer: 走在街道上需小心閃躲往來頻繁的Trolley\n",
            "Your   Answer: 當時的布魯克林區大眾運輸工具已十分發達\n",
            "Question: 中國僧人在出家後通常會改成何姓氏?\n",
            "Golden Answer: 「釋」\n",
            "Your   Answer: 釋\n"
          ]
        },
        {
          "name": "stderr",
          "output_type": "stream",
          "text": [
            " 31%|███▏      | 1291/4131 [04:51<10:59,  4.31it/s]"
          ]
        },
        {
          "name": "stdout",
          "output_type": "stream",
          "text": [
            "[UNK] in prediction answer\n",
            "[UNK] [UNK]\n",
            "Prediction range: [162, 164) in window 0-th paragraph\n",
            "Original answer\n",
            "Frank McCourt\n"
          ]
        },
        {
          "name": "stderr",
          "output_type": "stream",
          "text": [
            " 31%|███▏      | 1298/4131 [04:52<09:30,  4.96it/s]"
          ]
        },
        {
          "name": "stdout",
          "output_type": "stream",
          "text": [
            "Question: 嬰兒的英文字面上的意義是代表甚麼意思?\n",
            "Golden Answer: 「不懂說話」\n",
            "Your   Answer: 不懂說話\n"
          ]
        },
        {
          "name": "stderr",
          "output_type": "stream",
          "text": [
            " 32%|███▏      | 1306/4131 [04:54<09:32,  4.93it/s]"
          ]
        },
        {
          "name": "stdout",
          "output_type": "stream",
          "text": [
            "Question: 威廉一世為何承諾英格蘭維持愛德華國王時期的各個地方的習慣法?\n",
            "Golden Answer: 為了維護其統治\n",
            "Your   Answer: 維護其統治\n"
          ]
        },
        {
          "name": "stderr",
          "output_type": "stream",
          "text": [
            " 32%|███▏      | 1311/4131 [04:55<10:36,  4.43it/s]"
          ]
        },
        {
          "name": "stdout",
          "output_type": "stream",
          "text": [
            "Question: 為甚麼北角的房東不願意賣樓?\n",
            "Golden Answer: 因為放租的利潤高企\n",
            "Your   Answer: 放租的利潤高企\n"
          ]
        },
        {
          "name": "stderr",
          "output_type": "stream",
          "text": [
            " 32%|███▏      | 1314/4131 [04:56<10:35,  4.43it/s]"
          ]
        },
        {
          "name": "stdout",
          "output_type": "stream",
          "text": [
            "Question: 良渚文化長江文明的大約距今多久?\n",
            "Golden Answer: 約六七千年前\n",
            "Your   Answer: 六七千年\n"
          ]
        },
        {
          "name": "stderr",
          "output_type": "stream",
          "text": [
            " 32%|███▏      | 1329/4131 [04:59<09:54,  4.72it/s]"
          ]
        },
        {
          "name": "stdout",
          "output_type": "stream",
          "text": [
            "[UNK] in prediction answer\n",
            "大 原 [UNK] 遺 跡\n",
            "Prediction range: [173, 178) in window 0-th paragraph\n",
            "Original answer\n",
            "大原D遺跡\n"
          ]
        },
        {
          "name": "stderr",
          "output_type": "stream",
          "text": [
            " 32%|███▏      | 1331/4131 [04:59<09:36,  4.86it/s]"
          ]
        },
        {
          "name": "stdout",
          "output_type": "stream",
          "text": [
            "Question: 龍應台為何建議央廣嘗試開發新媒體，擴大接觸面?\n",
            "Golden Answer: 傳統的「短波廣播」容易「被屏蔽」\n",
            "Your   Answer: ，傳統的「短波廣播」容易「被屏蔽」\n"
          ]
        },
        {
          "name": "stderr",
          "output_type": "stream",
          "text": [
            " 32%|███▏      | 1334/4131 [05:00<10:12,  4.57it/s]"
          ]
        },
        {
          "name": "stdout",
          "output_type": "stream",
          "text": [
            "Question: 南共中央建立第一支正規軍的正式名稱是?\n",
            "Golden Answer: 「南斯拉夫人民解放軍和游擊隊」\n",
            "Your   Answer: 第一無產階級旅\n"
          ]
        },
        {
          "name": "stderr",
          "output_type": "stream",
          "text": [
            " 32%|███▏      | 1340/4131 [05:01<09:21,  4.97it/s]"
          ]
        },
        {
          "name": "stdout",
          "output_type": "stream",
          "text": [
            "Question: 奇異鳥能不能飛?\n",
            "Golden Answer: 不能\n",
            "Your   Answer: 不能飛\n"
          ]
        },
        {
          "name": "stderr",
          "output_type": "stream",
          "text": [
            " 33%|███▎      | 1344/4131 [05:02<11:03,  4.20it/s]"
          ]
        },
        {
          "name": "stdout",
          "output_type": "stream",
          "text": [
            "Question: 職業訓練中心隸屬於哪一個行政院的單位?\n",
            "Golden Answer: 勞委會\n",
            "Your   Answer: 行政院勞委會\n"
          ]
        },
        {
          "name": "stderr",
          "output_type": "stream",
          "text": [
            " 33%|███▎      | 1350/4131 [05:04<09:42,  4.78it/s]"
          ]
        },
        {
          "name": "stdout",
          "output_type": "stream",
          "text": [
            "Question: 當時全世界最高的大廈位於目前北角的哪一個區域?\n",
            "Golden Answer: 北角舊樓區\n",
            "Your   Answer: 舊樓區\n"
          ]
        },
        {
          "name": "stderr",
          "output_type": "stream",
          "text": [
            " 33%|███▎      | 1353/4131 [05:04<08:27,  5.47it/s]"
          ]
        },
        {
          "name": "stdout",
          "output_type": "stream",
          "text": [
            "Question: 蒙古國在蒙古人民共和國時期由於蘇聯影響，廢除了傳統蒙文，主要使用什麼字母?\n",
            "Golden Answer: 西里爾\n",
            "Your   Answer: 西里爾字母\n"
          ]
        },
        {
          "name": "stderr",
          "output_type": "stream",
          "text": [
            " 33%|███▎      | 1355/4131 [05:05<10:03,  4.60it/s]"
          ]
        },
        {
          "name": "stdout",
          "output_type": "stream",
          "text": [
            "Question: 中國共產黨在1991年的白皮書中顯示了甚麼意義?\n",
            "Golden Answer: 中國政府終於開始承認人權的相關語言\n",
            "Your   Answer: 中國共產黨從創建那天起就一直高舉民主和人權的旗幟\n"
          ]
        },
        {
          "name": "stderr",
          "output_type": "stream",
          "text": [
            " 33%|███▎      | 1363/4131 [05:07<11:14,  4.10it/s]"
          ]
        },
        {
          "name": "stdout",
          "output_type": "stream",
          "text": [
            "Question: 「高考移民」出現的原因是?\n",
            "Golden Answer: 不同省份學生入學的機率相差懸殊\n",
            "Your   Answer: 大學對其他省份的學生入學資格要求很高\n"
          ]
        },
        {
          "name": "stderr",
          "output_type": "stream",
          "text": [
            " 33%|███▎      | 1366/4131 [05:07<09:46,  4.71it/s]"
          ]
        },
        {
          "name": "stdout",
          "output_type": "stream",
          "text": [
            "Question: 窩闊台為甚麼實行了一些鼓勵生產、安撫流亡的措施?\n",
            "Golden Answer: 為了鞏固對漢地統治\n",
            "Your   Answer: 鞏固對漢地統治\n"
          ]
        },
        {
          "name": "stderr",
          "output_type": "stream",
          "text": [
            " 33%|███▎      | 1381/4131 [05:11<10:29,  4.37it/s]"
          ]
        },
        {
          "name": "stdout",
          "output_type": "stream",
          "text": [
            "[UNK] in prediction answer\n",
            "大 幅 降 低 美 國 [UNK] 增 長\n",
            "Prediction range: [369, 378) in window 0-th paragraph\n",
            "Original answer\n",
            "大幅降低美國GDP增長\n"
          ]
        },
        {
          "name": "stderr",
          "output_type": "stream",
          "text": [
            " 34%|███▎      | 1384/4131 [05:11<09:34,  4.78it/s]"
          ]
        },
        {
          "name": "stdout",
          "output_type": "stream",
          "text": [
            "[UNK] in prediction answer\n",
            "[UNK] [UNK]\n",
            "Prediction range: [290, 292) in window 0-th paragraph\n",
            "Original answer\n",
            "蛞蝓\n"
          ]
        },
        {
          "name": "stderr",
          "output_type": "stream",
          "text": [
            " 34%|███▎      | 1393/4131 [05:13<09:18,  4.90it/s]"
          ]
        },
        {
          "name": "stdout",
          "output_type": "stream",
          "text": [
            "Question: 都察院用什麼理由拒絕接受上書?\n",
            "Golden Answer: 以皇帝蓋璽批准和約為由\n",
            "Your   Answer: 皇帝蓋璽批准和約\n"
          ]
        },
        {
          "name": "stderr",
          "output_type": "stream",
          "text": [
            " 34%|███▍      | 1398/4131 [05:14<10:15,  4.44it/s]"
          ]
        },
        {
          "name": "stdout",
          "output_type": "stream",
          "text": [
            "Question: 梁啟超為何要編寫了二十萬字的《中國近十年史論》?\n",
            "Golden Answer: 為在華僑中進行愛國宣傳\n",
            "Your   Answer: 在華僑中進行愛國宣傳\n"
          ]
        },
        {
          "name": "stderr",
          "output_type": "stream",
          "text": [
            " 34%|███▍      | 1402/4131 [05:15<11:04,  4.11it/s]"
          ]
        },
        {
          "name": "stdout",
          "output_type": "stream",
          "text": [
            "[UNK] in prediction answer\n",
            "朱 允 [UNK]\n",
            "Prediction range: [73, 76) in window 0-th paragraph\n",
            "Original answer\n",
            "朱允炆\n"
          ]
        },
        {
          "name": "stderr",
          "output_type": "stream",
          "text": [
            " 34%|███▍      | 1403/4131 [05:16<12:09,  3.74it/s]"
          ]
        },
        {
          "name": "stdout",
          "output_type": "stream",
          "text": [
            "Question: 周星馳電影中的角色名通常會有哪一個字?\n",
            "Golden Answer: 「星」\n",
            "Your   Answer: 星\n"
          ]
        },
        {
          "name": "stderr",
          "output_type": "stream",
          "text": [
            " 34%|███▍      | 1414/4131 [05:18<10:30,  4.31it/s]"
          ]
        },
        {
          "name": "stdout",
          "output_type": "stream",
          "text": [
            "Question: 《讀宣統二年十月初三上諭感言》的出現和朝廷的何作為有關?\n",
            "Golden Answer: 朝廷於十月初三發布上諭，答應在宣統五年召開國會\n",
            "Your   Answer: 答應在宣統五年召開國會\n"
          ]
        },
        {
          "name": "stderr",
          "output_type": "stream",
          "text": [
            " 34%|███▍      | 1419/4131 [05:19<09:15,  4.88it/s]"
          ]
        },
        {
          "name": "stdout",
          "output_type": "stream",
          "text": [
            "Question: 南極條約的主要目的是?\n",
            "Golden Answer: 確保各國對南極洲的尊重\n",
            "Your   Answer: 約束各國在南極洲這塊地球上唯一一塊沒有常住人口的大陸上的活動\n"
          ]
        },
        {
          "name": "stderr",
          "output_type": "stream",
          "text": [
            " 35%|███▍      | 1432/4131 [05:22<09:09,  4.91it/s]"
          ]
        },
        {
          "name": "stdout",
          "output_type": "stream",
          "text": [
            "Question: 鉛垂面為甚麼會偏離地球的自轉軸?\n",
            "Golden Answer: 山脈的重力影響\n",
            "Your   Answer: 在山脈的重力影響下\n"
          ]
        },
        {
          "name": "stderr",
          "output_type": "stream",
          "text": [
            " 35%|███▍      | 1434/4131 [05:23<09:03,  4.96it/s]"
          ]
        },
        {
          "name": "stdout",
          "output_type": "stream",
          "text": [
            "Question: 伽利略為甚麼合理質疑西門馬里烏斯的聲明?\n",
            "Golden Answer: 因為伽利略在馬里烏斯之前就發布了他的發現，而且相信馬里烏斯也知道這件事。\n",
            "Your   Answer: 伽利略在馬里烏斯之前就發布了他的發現\n"
          ]
        },
        {
          "name": "stderr",
          "output_type": "stream",
          "text": [
            " 35%|███▌      | 1451/4131 [05:26<09:05,  4.92it/s]"
          ]
        },
        {
          "name": "stdout",
          "output_type": "stream",
          "text": [
            "Question: 德國為了什麼戰略考量，因而答應向鄂圖曼土耳其提供一億法郎的貸款，以換取其參戰?\n",
            "Golden Answer: 為了在近東牽制俄國\n",
            "Your   Answer: 在近東牽制俄國\n"
          ]
        },
        {
          "name": "stderr",
          "output_type": "stream",
          "text": [
            " 36%|███▌      | 1477/4131 [05:32<09:15,  4.78it/s]"
          ]
        },
        {
          "name": "stdout",
          "output_type": "stream",
          "text": [
            "[UNK] in prediction answer\n",
            "[UNK] - [UNK] [UNK] 公 司\n",
            "Prediction range: [325, 331) in window 0-th paragraph\n",
            "Original answer\n",
            "Can-Oat Milling公司\n"
          ]
        },
        {
          "name": "stderr",
          "output_type": "stream",
          "text": [
            " 36%|███▌      | 1482/4131 [05:34<10:03,  4.39it/s]"
          ]
        },
        {
          "name": "stdout",
          "output_type": "stream",
          "text": [
            "Question: 原本洛杉磯的官員是希望哪一支球隊能夠遷至天使之城?\n",
            "Golden Answer: 華盛頓參議員隊\n",
            "Your   Answer: 道奇隊\n"
          ]
        },
        {
          "name": "stderr",
          "output_type": "stream",
          "text": [
            " 36%|███▋      | 1499/4131 [05:37<08:45,  5.01it/s]"
          ]
        },
        {
          "name": "stdout",
          "output_type": "stream",
          "text": [
            "Question: 史賓諾沙的祖先為何要在1492年，舉家逃難到葡萄牙?\n",
            "Golden Answer: 因西班牙政府和天主教教會對猶太人的宗教和種族迫害\n",
            "Your   Answer: 西班牙政府和天主教教會對猶太人的宗教和種族迫害\n"
          ]
        },
        {
          "name": "stderr",
          "output_type": "stream",
          "text": [
            " 36%|███▋      | 1507/4131 [05:39<10:22,  4.22it/s]"
          ]
        },
        {
          "name": "stdout",
          "output_type": "stream",
          "text": [
            "Question: 當時大約多少的冀魯豫野戰軍攻入大別山區?\n",
            "Golden Answer: 12萬\n",
            "Your   Answer: 12萬餘人\n"
          ]
        },
        {
          "name": "stderr",
          "output_type": "stream",
          "text": [
            " 37%|███▋      | 1509/4131 [05:39<10:38,  4.10it/s]"
          ]
        },
        {
          "name": "stdout",
          "output_type": "stream",
          "text": [
            "Question: 奧特馬·伊興曾就讀哪一所學院?\n",
            "Golden Answer: 「紐倫堡經濟社會學院」\n",
            "Your   Answer: 紐倫堡經濟社會學院\n"
          ]
        },
        {
          "name": "stderr",
          "output_type": "stream",
          "text": [
            " 37%|███▋      | 1513/4131 [05:40<09:10,  4.76it/s]"
          ]
        },
        {
          "name": "stdout",
          "output_type": "stream",
          "text": [
            "[UNK] in prediction answer\n",
            "為 免 再 次 爆 發 內 [UNK]\n",
            "Prediction range: [317, 325) in window 0-th paragraph\n",
            "Original answer\n",
            "為免再次爆發內訌\n",
            "Question: 安溪文廟庭院為何鋪有3000塊石塊?\n",
            "Golden Answer: 意喻孔聖3000個弟子\n",
            "Your   Answer: 寬闊\n"
          ]
        },
        {
          "name": "stderr",
          "output_type": "stream",
          "text": [
            " 37%|███▋      | 1516/4131 [05:41<09:37,  4.53it/s]"
          ]
        },
        {
          "name": "stdout",
          "output_type": "stream",
          "text": [
            "Question: 1900年巴黎第幾屆奧運會，首次增加了女子田徑比賽?\n",
            "Golden Answer: 二\n",
            "Your   Answer: 第二屆\n",
            "Question: 習近平的哪一項措施使得外國評論家認為其破壞集體領導制度?\n",
            "Golden Answer: 整合中國共產黨中央委員會總書記作為最高領導人的權力\n",
            "Your   Answer: 開始整合中國共產黨中央委員會總書記作為最高領導人的權力"
          ]
        },
        {
          "name": "stderr",
          "output_type": "stream",
          "text": [
            " 37%|███▋      | 1518/4131 [05:41<09:10,  4.75it/s]"
          ]
        },
        {
          "name": "stdout",
          "output_type": "stream",
          "text": [
            "\n",
            "Question: 一開始，足利氏於京都開設幕府的真正目的是?\n",
            "Golden Answer: 為了對付南朝\n",
            "Your   Answer: 對付南朝\n"
          ]
        },
        {
          "name": "stderr",
          "output_type": "stream",
          "text": [
            " 37%|███▋      | 1522/4131 [05:42<09:19,  4.66it/s]"
          ]
        },
        {
          "name": "stdout",
          "output_type": "stream",
          "text": [
            "Question: 艾必斯野場為甚麼甚至在冠軍賽時也難以賣出座位?\n",
            "Golden Answer: 過於老舊\n",
            "Your   Answer: 已過於老舊\n"
          ]
        },
        {
          "name": "stderr",
          "output_type": "stream",
          "text": [
            " 37%|███▋      | 1529/4131 [05:44<09:38,  4.50it/s]"
          ]
        },
        {
          "name": "stdout",
          "output_type": "stream",
          "text": [
            "Question: 為甚麼會有「香港」一詞的出現?\n",
            "Golden Answer: 因為香木的盛產和出口\n",
            "Your   Answer: 香木的盛產和出口\n"
          ]
        },
        {
          "name": "stderr",
          "output_type": "stream",
          "text": [
            " 37%|███▋      | 1531/4131 [05:44<09:06,  4.75it/s]"
          ]
        },
        {
          "name": "stdout",
          "output_type": "stream",
          "text": [
            "Question: 《格致彙編》是哪國人編輯的期刊?\n",
            "Golden Answer: 英國人\n",
            "Your   Answer: 英國\n"
          ]
        },
        {
          "name": "stderr",
          "output_type": "stream",
          "text": [
            " 37%|███▋      | 1544/4131 [05:47<08:39,  4.98it/s]"
          ]
        },
        {
          "name": "stdout",
          "output_type": "stream",
          "text": [
            "Question: 聯邦委員會通常設置七名委員，而瑞士聯邦主席如何產生?\n",
            "Golden Answer: 由這七名委員輪流擔任\n",
            "Your   Answer: 七名委員輪流擔任\n"
          ]
        },
        {
          "name": "stderr",
          "output_type": "stream",
          "text": [
            " 38%|███▊      | 1551/4131 [05:49<11:10,  3.85it/s]"
          ]
        },
        {
          "name": "stdout",
          "output_type": "stream",
          "text": [
            "Question: 日本在飛鳥時代的時候，只有哪一種身分的人可以被立為皇后?\n",
            "Golden Answer: 皇族\n",
            "Your   Answer: 皇族出身者\n"
          ]
        },
        {
          "name": "stderr",
          "output_type": "stream",
          "text": [
            " 38%|███▊      | 1562/4131 [05:51<09:29,  4.51it/s]"
          ]
        },
        {
          "name": "stdout",
          "output_type": "stream",
          "text": [
            "Question: 福壽螺為甚麼會過度繁殖?\n",
            "Golden Answer: 欠缺天敵的制衡\n",
            "Your   Answer: 欠缺天敵的制衡下\n"
          ]
        },
        {
          "name": "stderr",
          "output_type": "stream",
          "text": [
            " 38%|███▊      | 1570/4131 [05:53<08:55,  4.78it/s]"
          ]
        },
        {
          "name": "stdout",
          "output_type": "stream",
          "text": [
            "Question: NHL在2013-2014賽季起，重新劃分四個分區的主要原因有三，除了為了讓球隊所在的分區和其所在的時區匹配、方便球迷看球的時間，還有一個原因是?\n",
            "Golden Answer: 減少球隊在分區內比賽所需要的旅行花費\n",
            "Your   Answer: 時區匹配\n"
          ]
        },
        {
          "name": "stderr",
          "output_type": "stream",
          "text": [
            " 38%|███▊      | 1571/4131 [05:53<08:48,  4.84it/s]"
          ]
        },
        {
          "name": "stdout",
          "output_type": "stream",
          "text": [
            "Question: 楊慕琦計劃的主要目標有二，除了縮減立法局中官守議員人數之外，還有一項是?\n",
            "Golden Answer: 計劃中香港會建立市議會\n",
            "Your   Answer: 建立市議會\n"
          ]
        },
        {
          "name": "stderr",
          "output_type": "stream",
          "text": [
            " 38%|███▊      | 1577/4131 [05:55<08:46,  4.85it/s]"
          ]
        },
        {
          "name": "stdout",
          "output_type": "stream",
          "text": [
            "Question: 維拉在2015年的足協盃決賽的對手是誰?\n",
            "Golden Answer: 兵工廠\n",
            "Your   Answer: 切爾西\n"
          ]
        },
        {
          "name": "stderr",
          "output_type": "stream",
          "text": [
            " 38%|███▊      | 1583/4131 [05:56<09:31,  4.46it/s]"
          ]
        },
        {
          "name": "stdout",
          "output_type": "stream",
          "text": [
            "Question: 高華德為何能夠在幾個南方州獲得壓倒性支持?\n",
            "Golden Answer: 因為他投票反對民權法案\n",
            "Your   Answer: 投票反對民權法案\n"
          ]
        },
        {
          "name": "stderr",
          "output_type": "stream",
          "text": [
            " 38%|███▊      | 1585/4131 [05:57<10:04,  4.21it/s]"
          ]
        },
        {
          "name": "stdout",
          "output_type": "stream",
          "text": [
            "Question: 搏鬥能力越強的雄長頸能夠具有何項優勢?\n",
            "Golden Answer: 容易獲得與雌長頸鹿交配的機會\n",
            "Your   Answer: 越容易獲得與雌長頸鹿交配的機會\n"
          ]
        },
        {
          "name": "stderr",
          "output_type": "stream",
          "text": [
            " 38%|███▊      | 1589/4131 [05:57<09:21,  4.53it/s]"
          ]
        },
        {
          "name": "stdout",
          "output_type": "stream",
          "text": [
            "[UNK] in prediction answer\n",
            "[UNK] 軟 體 基 金 會\n",
            "Prediction range: [63, 69) in window 0-th paragraph\n",
            "Original answer\n",
            "Apache軟體基金會\n",
            "Question: Apache的HTTP伺服器是建構於哪一個組織開發的伺服器上?\n",
            "Golden Answer: 美國伊利諾伊大學超級電腦應用程式國家中心\n",
            "Your   Answer: Apache軟體基金會\n"
          ]
        },
        {
          "name": "stderr",
          "output_type": "stream",
          "text": [
            " 39%|███▊      | 1592/4131 [05:58<08:44,  4.84it/s]"
          ]
        },
        {
          "name": "stdout",
          "output_type": "stream",
          "text": [
            "Question: 中央政府一級國家機關的中國共產黨黨組織主要的職責有兩項，除了負責審批所屬單位幹部的任免資格之外，另一項職責是?\n",
            "Golden Answer: 負責管理幹部\n",
            "Your   Answer: 管理幹部\n"
          ]
        },
        {
          "name": "stderr",
          "output_type": "stream",
          "text": [
            " 39%|███▊      | 1595/4131 [05:59<09:17,  4.55it/s]"
          ]
        },
        {
          "name": "stdout",
          "output_type": "stream",
          "text": [
            "Question: 世界冠軍摔角在哪一年被出售?\n",
            "Golden Answer: 1999年\n",
            "Your   Answer: 2003年\n"
          ]
        },
        {
          "name": "stderr",
          "output_type": "stream",
          "text": [
            " 39%|███▊      | 1597/4131 [05:59<09:55,  4.26it/s]"
          ]
        },
        {
          "name": "stdout",
          "output_type": "stream",
          "text": [
            "Question: 成吉思汗的哪一個兒子成為大汗繼承人?\n",
            "Golden Answer: 窩闊台\n",
            "Your   Answer: 三子窩闊台\n"
          ]
        },
        {
          "name": "stderr",
          "output_type": "stream",
          "text": [
            " 39%|███▉      | 1604/4131 [06:01<08:31,  4.94it/s]"
          ]
        },
        {
          "name": "stdout",
          "output_type": "stream",
          "text": [
            "Question: 「上帝天國」在公元的哪一年被改為「天父天兄天王太平天國」?\n",
            "Golden Answer: 公元1861年\n",
            "Your   Answer: 1861年\n",
            "Question: 外界人員進入阿森松島需要得到專員的書面批准是因為島上有什麼軍事設施?\n",
            "Golden Answer: 空軍基地\n",
            "Your   Answer: 大型空軍基地\n"
          ]
        },
        {
          "name": "stderr",
          "output_type": "stream",
          "text": [
            " 39%|███▉      | 1606/4131 [06:01<08:26,  4.98it/s]"
          ]
        },
        {
          "name": "stdout",
          "output_type": "stream",
          "text": [
            "Question: 金丹派主要注重什麼修煉?\n",
            "Golden Answer: 內丹修煉\n",
            "Your   Answer: 內丹\n"
          ]
        },
        {
          "name": "stderr",
          "output_type": "stream",
          "text": [
            " 39%|███▉      | 1613/4131 [06:03<08:33,  4.90it/s]"
          ]
        },
        {
          "name": "stdout",
          "output_type": "stream",
          "text": [
            "Question: 俄羅斯帝國在哪一位君主即位後，與普魯士單獨締結和約?\n",
            "Golden Answer: 彼得三世\n",
            "Your   Answer: 沙皇彼得三世\n"
          ]
        },
        {
          "name": "stderr",
          "output_type": "stream",
          "text": [
            " 39%|███▉      | 1616/4131 [06:03<08:24,  4.98it/s]"
          ]
        },
        {
          "name": "stdout",
          "output_type": "stream",
          "text": [
            "Question: 中國大陸在哪一事件之後，對王安石等改革家的評價趨向正面?\n",
            "Golden Answer: 改革開放\n",
            "Your   Answer: 文革\n"
          ]
        },
        {
          "name": "stderr",
          "output_type": "stream",
          "text": [
            " 39%|███▉      | 1617/4131 [06:04<09:57,  4.21it/s]"
          ]
        },
        {
          "name": "stdout",
          "output_type": "stream",
          "text": [
            "Question: 中央研究院之任務?\n",
            "Golden Answer: 人文及科學研究，指導、聯絡及獎勵學術研究，培養高級學術研究人才，並兼有科學與人文之研究。\n",
            "Your   Answer: 人文及科學研究\n",
            "Question: 儘管每個中國共產黨中央政治局常務委員會委員在理論上的權力關係相同，但是在實際上則會有什麼措施?\n",
            "Golden Answer: 為中央政治局常務委員會委員排列其名次\n",
            "Your   Answer: 中央政治局常務委員會委員排列其名次\n"
          ]
        },
        {
          "name": "stderr",
          "output_type": "stream",
          "text": [
            " 39%|███▉      | 1619/4131 [06:04<09:08,  4.58it/s]"
          ]
        },
        {
          "name": "stdout",
          "output_type": "stream",
          "text": [
            "Question: 「鐵觀音」為何有「好喝不好栽」的說法?\n",
            "Golden Answer: 「鐵觀音」天性嬌弱，產量不多\n",
            "Your   Answer: 天性嬌弱，產量不多\n"
          ]
        },
        {
          "name": "stderr",
          "output_type": "stream",
          "text": [
            " 39%|███▉      | 1622/4131 [06:05<09:21,  4.47it/s]"
          ]
        },
        {
          "name": "stdout",
          "output_type": "stream",
          "text": [
            "[UNK] in prediction answer\n",
            "《 [UNK] 》\n",
            "Prediction range: [153, 156) in window 0-th paragraph\n",
            "Original answer\n",
            "《DALLOS》\n"
          ]
        },
        {
          "name": "stderr",
          "output_type": "stream",
          "text": [
            " 39%|███▉      | 1625/4131 [06:05<09:44,  4.29it/s]"
          ]
        },
        {
          "name": "stdout",
          "output_type": "stream",
          "text": [
            "Question: 溜馬總裁「大鳥」對於球隊有何期望?\n",
            "Golden Answer: 希望球隊能提高進攻速度，順應潮流\n",
            "Your   Answer: 提高進攻速度\n"
          ]
        },
        {
          "name": "stderr",
          "output_type": "stream",
          "text": [
            " 40%|███▉      | 1640/4131 [06:09<09:25,  4.40it/s]"
          ]
        },
        {
          "name": "stdout",
          "output_type": "stream",
          "text": [
            "Question: 北角為甚麼成為人口全世界最密集的地方?\n",
            "Golden Answer: 因為戰後大量閩籍人口由福建南下，當中很多都聚居在北角\n",
            "Your   Answer: 戰後大量閩籍人口由福建南下\n"
          ]
        },
        {
          "name": "stderr",
          "output_type": "stream",
          "text": [
            " 40%|███▉      | 1650/4131 [06:11<10:20,  4.00it/s]"
          ]
        },
        {
          "name": "stdout",
          "output_type": "stream",
          "text": [
            "Question: 麥克弗森使用何種方式推行永久殖民地政策?\n",
            "Golden Answer: 由地主代征稅收的方式\n",
            "Your   Answer: 讓由地主代征稅收\n"
          ]
        },
        {
          "name": "stderr",
          "output_type": "stream",
          "text": [
            " 40%|████      | 1656/4131 [06:12<08:28,  4.87it/s]"
          ]
        },
        {
          "name": "stdout",
          "output_type": "stream",
          "text": [
            "Question: 孫中山在哪一場會議中被選為中華民國軍政府大元帥?\n",
            "Golden Answer: 「國會非常會議」\n",
            "Your   Answer: 國會非常會議\n"
          ]
        },
        {
          "name": "stderr",
          "output_type": "stream",
          "text": [
            " 40%|████      | 1661/4131 [06:14<08:35,  4.79it/s]"
          ]
        },
        {
          "name": "stdout",
          "output_type": "stream",
          "text": [
            "Question: 潮州市的主要地貌是?\n",
            "Golden Answer: 山區\n",
            "Your   Answer: 北高南低，山區\n"
          ]
        },
        {
          "name": "stderr",
          "output_type": "stream",
          "text": [
            " 40%|████      | 1663/4131 [06:14<08:22,  4.91it/s]"
          ]
        },
        {
          "name": "stdout",
          "output_type": "stream",
          "text": [
            "Question: 哥倫比亞和厄瓜多及委內瑞拉共享什麼山脈地區?\n",
            "Golden Answer: 安第斯\n",
            "Your   Answer: 安第斯山脈\n"
          ]
        },
        {
          "name": "stderr",
          "output_type": "stream",
          "text": [
            " 40%|████      | 1672/4131 [06:16<09:27,  4.33it/s]"
          ]
        },
        {
          "name": "stdout",
          "output_type": "stream",
          "text": [
            "Question: 共和黨的溫和派主張改革移民政策的目的是?\n",
            "Golden Answer: 以吸納更多少數族裔\n",
            "Your   Answer: 吸納更多少數族裔，特別是日益增加的拉美裔美國人\n"
          ]
        },
        {
          "name": "stderr",
          "output_type": "stream",
          "text": [
            " 41%|████      | 1674/4131 [06:17<09:50,  4.16it/s]"
          ]
        },
        {
          "name": "stdout",
          "output_type": "stream",
          "text": [
            "Question: 臺灣因為其氣候特色而被日本人稱作什麼?\n",
            "Golden Answer: 「常夏之島」\n",
            "Your   Answer: 常夏之島\n"
          ]
        },
        {
          "name": "stderr",
          "output_type": "stream",
          "text": [
            " 41%|████      | 1685/4131 [06:19<08:11,  4.97it/s]"
          ]
        },
        {
          "name": "stdout",
          "output_type": "stream",
          "text": [
            "Question: 「潮學」指的是什麼?\n",
            "Golden Answer: 專門研究潮州文化的學問\n",
            "Your   Answer: 研究潮州文化\n"
          ]
        },
        {
          "name": "stderr",
          "output_type": "stream",
          "text": [
            " 41%|████      | 1694/4131 [06:21<09:16,  4.38it/s]"
          ]
        },
        {
          "name": "stdout",
          "output_type": "stream",
          "text": [
            "Question: 高鐵的出現為甚麼東西帶來嚴重影響?\n",
            "Golden Answer: 臺灣西部城際航線\n",
            "Your   Answer: 臺灣西部城際航線的生存與經營\n"
          ]
        },
        {
          "name": "stderr",
          "output_type": "stream",
          "text": [
            " 41%|████      | 1698/4131 [06:22<08:21,  4.85it/s]"
          ]
        },
        {
          "name": "stdout",
          "output_type": "stream",
          "text": [
            "Question: 1401年的時候，當時的中國正值哪一個朝代?\n",
            "Golden Answer: 明朝\n",
            "Your   Answer: 安土桃山時代\n",
            "Question: 世兵制指的是甚麼概念?\n",
            "Golden Answer: 只要是凡識於戰鬥的本族人民，皆作為軍隊基本兵力\n",
            "Your   Answer: 魏晉世兵制\n"
          ]
        },
        {
          "name": "stderr",
          "output_type": "stream",
          "text": [
            " 41%|████      | 1702/4131 [06:23<08:07,  4.98it/s]"
          ]
        },
        {
          "name": "stdout",
          "output_type": "stream",
          "text": [
            "Question: 法國汽車產業在開始發展後投資者於安南和哪一個地區興建了多座橡膠種植園?\n",
            "Golden Answer: 交趾支那地區\n",
            "Your   Answer: 交趾支那\n"
          ]
        },
        {
          "name": "stderr",
          "output_type": "stream",
          "text": [
            " 41%|████▏     | 1705/4131 [06:23<08:05,  5.00it/s]"
          ]
        },
        {
          "name": "stdout",
          "output_type": "stream",
          "text": [
            "Question: 「三階段定律」中的第二階段是?\n",
            "Golden Answer: 形上學的\n",
            "Your   Answer: 實證主義的\n"
          ]
        },
        {
          "name": "stderr",
          "output_type": "stream",
          "text": [
            " 41%|████▏     | 1712/4131 [06:25<08:01,  5.02it/s]"
          ]
        },
        {
          "name": "stdout",
          "output_type": "stream",
          "text": [
            "Question: 天皇獨裁政權指的是甚麼?\n",
            "Golden Answer: 由天皇自行任免官職\n",
            "Your   Answer: 建武新政\n"
          ]
        },
        {
          "name": "stderr",
          "output_type": "stream",
          "text": [
            " 42%|████▏     | 1726/4131 [06:28<09:09,  4.38it/s]"
          ]
        },
        {
          "name": "stdout",
          "output_type": "stream",
          "text": [
            "Question: 尤爾根·哈貝馬斯的理論屬於哪一種哲學?\n",
            "Golden Answer: 歐陸科學哲學\n",
            "Your   Answer: 科學哲學\n",
            "Question: 明鄭政權派遣軍隊分赴各地屯墾是根據哪一政策?\n",
            "Golden Answer: 「兵農合一」\n",
            "Your   Answer: 兵農合一\n"
          ]
        },
        {
          "name": "stderr",
          "output_type": "stream",
          "text": [
            " 42%|████▏     | 1738/4131 [06:31<09:24,  4.24it/s]"
          ]
        },
        {
          "name": "stdout",
          "output_type": "stream",
          "text": [
            "Question: 日本史上最短命的內閣指的是誰?\n",
            "Golden Answer: 東久彌宮\n",
            "Your   Answer: 東久彌宮內閣\n"
          ]
        },
        {
          "name": "stderr",
          "output_type": "stream",
          "text": [
            " 42%|████▏     | 1740/4131 [06:31<09:41,  4.11it/s]"
          ]
        },
        {
          "name": "stdout",
          "output_type": "stream",
          "text": [
            "Question: 中國共產黨名義上為甚麼要審查政治言論和資訊流通?\n",
            "Golden Answer: 為維護社會穩定\n",
            "Your   Answer: 維護社會穩定\n"
          ]
        },
        {
          "name": "stderr",
          "output_type": "stream",
          "text": [
            " 42%|████▏     | 1741/4131 [06:31<09:09,  4.35it/s]"
          ]
        },
        {
          "name": "stdout",
          "output_type": "stream",
          "text": [
            "Question: 清廷為何稱洪秀全為「粵匪」?\n",
            "Golden Answer: 洪秀全籍貫廣東省廣州府花縣\n",
            "Your   Answer: 洪秀全籍貫廣東省廣州府花縣，其他的太平軍將士亦多起自兩粵\n"
          ]
        },
        {
          "name": "stderr",
          "output_type": "stream",
          "text": [
            " 42%|████▏     | 1743/4131 [06:32<09:34,  4.16it/s]"
          ]
        },
        {
          "name": "stdout",
          "output_type": "stream",
          "text": [
            "Question: 蒙古人為甚麼沒有所謂的土地制度?\n",
            "Golden Answer: 蒙古人是遊牧民族，草原時期以畜牧為主\n",
            "Your   Answer: 草原時期以畜牧為主，經濟單一\n"
          ]
        },
        {
          "name": "stderr",
          "output_type": "stream",
          "text": [
            " 42%|████▏     | 1749/4131 [06:33<08:21,  4.75it/s]"
          ]
        },
        {
          "name": "stdout",
          "output_type": "stream",
          "text": [
            "Question: 屏東市為甚麼有「太陽城」的封號?\n",
            "Golden Answer: 全台灣日照時數最長的城市\n",
            "Your   Answer: 南台灣的驕陽以及全台灣日照時數最長的城市\n",
            "Question: 成吉思汗為何要率軍進攻與金朝聯盟的西夏?\n",
            "Golden Answer: 為了避免被西夏牽制\n",
            "Your   Answer: 避免被西夏牽制\n"
          ]
        },
        {
          "name": "stderr",
          "output_type": "stream",
          "text": [
            " 43%|████▎     | 1761/4131 [06:36<08:14,  4.79it/s]"
          ]
        },
        {
          "name": "stdout",
          "output_type": "stream",
          "text": [
            "Question: 誰要求需以平文式羅馬字標示地名?\n",
            "Golden Answer: 戰後駐日盟軍總司令部\n",
            "Your   Answer: 駐日盟軍總司令部\n"
          ]
        },
        {
          "name": "stderr",
          "output_type": "stream",
          "text": [
            " 43%|████▎     | 1770/4131 [06:38<08:18,  4.73it/s]"
          ]
        },
        {
          "name": "stdout",
          "output_type": "stream",
          "text": [
            "Question: 「知中有行，行中有知」指的是哪一概念?\n",
            "Golden Answer: 「知行合一」\n",
            "Your   Answer: 知行合一\n"
          ]
        },
        {
          "name": "stderr",
          "output_type": "stream",
          "text": [
            " 43%|████▎     | 1772/4131 [06:38<08:03,  4.88it/s]"
          ]
        },
        {
          "name": "stdout",
          "output_type": "stream",
          "text": [
            "Question: 蔣中正使用兩種方法試圖加快從桐梓系軍閥手中奪取貴州軍政大權，一種方法是軍事逐步滲入，另一種是?\n",
            "Golden Answer: 運用政治分化瓦解\n",
            "Your   Answer: 政治分化瓦解\n"
          ]
        },
        {
          "name": "stderr",
          "output_type": "stream",
          "text": [
            " 43%|████▎     | 1794/4131 [06:43<08:02,  4.84it/s]"
          ]
        },
        {
          "name": "stdout",
          "output_type": "stream",
          "text": [
            "Question: Fraktur在北歐被稱為甚麼?\n",
            "Golden Answer: 「德國字母」\n",
            "Your   Answer: 德國字母\n"
          ]
        },
        {
          "name": "stderr",
          "output_type": "stream",
          "text": [
            " 43%|████▎     | 1796/4131 [06:44<10:19,  3.77it/s]"
          ]
        },
        {
          "name": "stdout",
          "output_type": "stream",
          "text": [
            "Question: 大臺北地區因為是甚麼地形，所以導致熱能無法快速消散?\n",
            "Golden Answer: 盆地地形\n",
            "Your   Answer: 盆地\n"
          ]
        },
        {
          "name": "stderr",
          "output_type": "stream",
          "text": [
            " 44%|████▎     | 1798/4131 [06:44<09:58,  3.90it/s]"
          ]
        },
        {
          "name": "stdout",
          "output_type": "stream",
          "text": [
            "Question: 首位獲得金球獎獎項的非歐洲球員於何年獲獎?\n",
            "Golden Answer: 1995年\n",
            "Your   Answer: 1956年\n",
            "Question: 佛羅里達在七年戰爭之前，原本是哪一個國家的殖民地?\n",
            "Golden Answer: 西班牙\n",
            "Your   Answer: 法國\n"
          ]
        },
        {
          "name": "stderr",
          "output_type": "stream",
          "text": [
            " 44%|████▎     | 1803/4131 [06:46<09:35,  4.04it/s]"
          ]
        },
        {
          "name": "stdout",
          "output_type": "stream",
          "text": [
            "Question: 何人在咸豐三年十一月二十四日時自稱天父下凡?\n",
            "Golden Answer: 楊秀清\n",
            "Your   Answer: 東王楊秀清\n",
            "Question: 《海角七號》對於臺灣電影發展有甚麼影響?\n",
            "Golden Answer: 臺灣自製電影開始在市場上占有一席之地\n",
            "Your   Answer: 為長期低迷的國片注入了一劑強心針\n"
          ]
        },
        {
          "name": "stderr",
          "output_type": "stream",
          "text": [
            " 44%|████▍     | 1814/4131 [06:48<07:58,  4.84it/s]"
          ]
        },
        {
          "name": "stdout",
          "output_type": "stream",
          "text": [
            "Question: 腹足綱是動物中的第幾大綱?\n",
            "Golden Answer: 二\n",
            "Your   Answer: 第二大綱\n",
            "Question: 倫敦市得以保留工商業或「非居民選票」的原因是?\n",
            "Golden Answer: 倫敦城「主要是做生意的地方」\n",
            "Your   Answer: 是倫敦城「主要是做生意的地方」\n"
          ]
        },
        {
          "name": "stderr",
          "output_type": "stream",
          "text": [
            " 44%|████▍     | 1816/4131 [06:48<08:49,  4.37it/s]"
          ]
        },
        {
          "name": "stdout",
          "output_type": "stream",
          "text": [
            "Question: 梁啟超申請加入三合會的原因是?\n",
            "Golden Answer: 為尋求三合會致公堂的支持\n",
            "Your   Answer: 尋求三合會致公堂的支持\n"
          ]
        },
        {
          "name": "stderr",
          "output_type": "stream",
          "text": [
            " 44%|████▍     | 1820/4131 [06:49<09:06,  4.23it/s]"
          ]
        },
        {
          "name": "stdout",
          "output_type": "stream",
          "text": [
            "Question: 寧王在做甚麼事的時候被王守仁突擊?\n",
            "Golden Answer: 召開「早朝」會議\n",
            "Your   Answer: 召開「早朝」會議，\n"
          ]
        },
        {
          "name": "stderr",
          "output_type": "stream",
          "text": [
            " 44%|████▍     | 1824/4131 [06:50<08:29,  4.53it/s]"
          ]
        },
        {
          "name": "stdout",
          "output_type": "stream",
          "text": [
            "Question: 透過測量兩種因素，科學家確定全部的月球隕石是在過去的2000萬年中被逐出的，這兩種因素除了隕石上的惰性氣體，還有一項是?\n",
            "Golden Answer: 隕石上的宇宙射線\n",
            "Your   Answer: 宇宙射線和惰性氣體\n"
          ]
        },
        {
          "name": "stderr",
          "output_type": "stream",
          "text": [
            " 44%|████▍     | 1825/4131 [06:51<08:14,  4.66it/s]"
          ]
        },
        {
          "name": "stdout",
          "output_type": "stream",
          "text": [
            "Question: 《1835年市議會組織法令》為何沒有對倫敦市法團進行改革?\n",
            "Golden Answer: 因為當時它的選舉基礎已比全國其他區市都要廣泛\n",
            "Your   Answer: 當時它的選舉基礎已比全國其他區市都要廣泛\n"
          ]
        },
        {
          "name": "stderr",
          "output_type": "stream",
          "text": [
            " 44%|████▍     | 1835/4131 [06:53<09:10,  4.17it/s]"
          ]
        },
        {
          "name": "stdout",
          "output_type": "stream",
          "text": [
            "Question: 何本書記載了上海浦?\n",
            "Golden Answer: 水利書\n",
            "Your   Answer: 《水利書》\n"
          ]
        },
        {
          "name": "stderr",
          "output_type": "stream",
          "text": [
            " 45%|████▍     | 1846/4131 [06:55<06:44,  5.65it/s]"
          ]
        },
        {
          "name": "stdout",
          "output_type": "stream",
          "text": [
            "[UNK] in prediction answer\n",
            "[UNK] 船\n",
            "Prediction range: [166, 168) in window 0-th paragraph\n",
            "Original answer\n",
            "艚船\n"
          ]
        },
        {
          "name": "stderr",
          "output_type": "stream",
          "text": [
            " 45%|████▍     | 1849/4131 [06:56<08:14,  4.62it/s]"
          ]
        },
        {
          "name": "stdout",
          "output_type": "stream",
          "text": [
            "Question: 道恩元帥為何被迫率領奧軍部隊向德意志地區邊界撤退?\n",
            "Golden Answer: 以保護暴露的側翼\n",
            "Your   Answer: 保護暴露的側翼\n"
          ]
        },
        {
          "name": "stderr",
          "output_type": "stream",
          "text": [
            " 45%|████▍     | 1851/4131 [06:56<07:53,  4.82it/s]"
          ]
        },
        {
          "name": "stdout",
          "output_type": "stream",
          "text": [
            "Question: 造成巴士海峽成為一個地震多發區的原因是因為受到兩個板塊的交互作用影響，此處的兩個板塊中，一個板塊是歐亞大陸板塊，另一個板塊是?\n",
            "Golden Answer: 菲律賓海板塊\n",
            "Your   Answer: 歐亞大陸板塊\n",
            "Question: DjVu對二進位圖像進行什麼壓縮?\n",
            "Golden Answer: 失真\n",
            "Your   Answer: 失真壓縮\n"
          ]
        },
        {
          "name": "stderr",
          "output_type": "stream",
          "text": [
            " 45%|████▌     | 1868/4131 [07:00<08:22,  4.50it/s]"
          ]
        },
        {
          "name": "stdout",
          "output_type": "stream",
          "text": [
            "Question: 梁啟超為何不讓公開報導劉瑞恆醫生的疏失?\n",
            "Golden Answer: 以維護醫院聲譽\n",
            "Your   Answer: 中國西醫尚未發達\n"
          ]
        },
        {
          "name": "stderr",
          "output_type": "stream",
          "text": [
            " 45%|████▌     | 1870/4131 [07:01<09:21,  4.02it/s]"
          ]
        },
        {
          "name": "stdout",
          "output_type": "stream",
          "text": [
            "Question: 物種的定義?\n",
            "Golden Answer: 指一類形態和遺傳組成相似的生物群體，有生殖能力的個體之間在自然狀態下能產生正常後代\n",
            "Your   Answer: 一類形態和遺傳組成相似的生物群體\n"
          ]
        },
        {
          "name": "stderr",
          "output_type": "stream",
          "text": [
            " 45%|████▌     | 1874/4131 [07:02<07:55,  4.74it/s]"
          ]
        },
        {
          "name": "stdout",
          "output_type": "stream",
          "text": [
            "Question: 王陽明的父親為甚麼被外派南京擔任吏部尚書?\n",
            "Golden Answer: 因得罪劉瑾\n",
            "Your   Answer: 得罪劉瑾\n"
          ]
        },
        {
          "name": "stderr",
          "output_type": "stream",
          "text": [
            " 45%|████▌     | 1876/4131 [07:02<07:42,  4.87it/s]"
          ]
        },
        {
          "name": "stdout",
          "output_type": "stream",
          "text": [
            "Question: 為何有些國家的法令對於賭博有限制或禁止?\n",
            "Golden Answer: 賭博有社會成本\n",
            "Your   Answer: 一般認為賭博有社會成本\n",
            "[UNK] in prediction answer\n",
            "維 生 素 [UNK]\n",
            "Prediction range: [85, 89) in window 0-th paragraph\n",
            "Original answer\n",
            "維生素B12\n"
          ]
        },
        {
          "name": "stderr",
          "output_type": "stream",
          "text": [
            " 46%|████▌     | 1882/4131 [07:03<08:46,  4.27it/s]"
          ]
        },
        {
          "name": "stdout",
          "output_type": "stream",
          "text": [
            "Question: 捷克語有幾個字母?\n",
            "Golden Answer: 42\n",
            "Your   Answer: 42個\n"
          ]
        },
        {
          "name": "stderr",
          "output_type": "stream",
          "text": [
            " 46%|████▌     | 1885/4131 [07:04<08:51,  4.22it/s]"
          ]
        },
        {
          "name": "stdout",
          "output_type": "stream",
          "text": [
            "Question: 《統一商法典》制定的目的是?\n",
            "Golden Answer: 為定份止爭，並統一各州商人間商業規定\n",
            "Your   Answer: 定份止爭，並統一各州商人間商業規定\n"
          ]
        },
        {
          "name": "stderr",
          "output_type": "stream",
          "text": [
            " 46%|████▌     | 1890/4131 [07:05<07:59,  4.67it/s]"
          ]
        },
        {
          "name": "stdout",
          "output_type": "stream",
          "text": [
            "Question: 張俊用什麼當作藉口，不出兵渡長江攻擊金軍和偽齊軍?\n",
            "Golden Answer: 「墜馬傷臂」\n",
            "Your   Answer: 墜馬傷臂\n"
          ]
        },
        {
          "name": "stderr",
          "output_type": "stream",
          "text": [
            " 46%|████▌     | 1906/4131 [07:09<08:32,  4.34it/s]"
          ]
        },
        {
          "name": "stdout",
          "output_type": "stream",
          "text": [
            "Question: 2005年7月8日，在新加坡舉行的國際奧林匹克委員會第117次全會上，決定由香港協辦該屆的什麼項目?\n",
            "Golden Answer: 馬術\n",
            "Your   Answer: 奧運馬術項目\n"
          ]
        },
        {
          "name": "stderr",
          "output_type": "stream",
          "text": [
            " 46%|████▌     | 1908/4131 [07:10<08:53,  4.17it/s]"
          ]
        },
        {
          "name": "stdout",
          "output_type": "stream",
          "text": [
            "Question: 哪一個機構負責管理曼尼托巴的公立學校?\n",
            "Golden Answer: 省教育廳\n",
            "Your   Answer: 省教育委員會\n"
          ]
        },
        {
          "name": "stderr",
          "output_type": "stream",
          "text": [
            " 46%|████▌     | 1909/4131 [07:10<08:26,  4.39it/s]"
          ]
        },
        {
          "name": "stdout",
          "output_type": "stream",
          "text": [
            "Question: 歷史上死亡人數最多的戰爭是第幾次世界大戰?\n",
            "Golden Answer: 二\n",
            "Your   Answer: 第二次世界大戰\n"
          ]
        },
        {
          "name": "stderr",
          "output_type": "stream",
          "text": [
            " 47%|████▋     | 1921/4131 [07:13<08:03,  4.57it/s]"
          ]
        },
        {
          "name": "stdout",
          "output_type": "stream",
          "text": [
            "Question: 工業工程師能夠利用哪一學科的專業應對更為複雜的問題?\n",
            "Golden Answer: 計算機應用\n",
            "Your   Answer: 計算機\n"
          ]
        },
        {
          "name": "stderr",
          "output_type": "stream",
          "text": [
            " 47%|████▋     | 1923/4131 [07:13<07:42,  4.78it/s]"
          ]
        },
        {
          "name": "stdout",
          "output_type": "stream",
          "text": [
            "Question: 俄羅斯為甚麼要派遣一艘大型登陸艦至國後島和擇捉島?\n",
            "Golden Answer: 為紀念二戰中蘇聯軍隊從日本手中解放庫頁島南部和千島群島\n",
            "Your   Answer: 紀念二戰中蘇聯軍隊從日本手中解放庫頁島南部和千島群島\n"
          ]
        },
        {
          "name": "stderr",
          "output_type": "stream",
          "text": [
            " 47%|████▋     | 1926/4131 [07:14<08:01,  4.58it/s]"
          ]
        },
        {
          "name": "stdout",
          "output_type": "stream",
          "text": [
            "Question: 面積的定義?\n",
            "Golden Answer: 表示一個曲面或平面圖形所佔範圍的量\n",
            "Your   Answer: 一個用作表示一個曲面或平面圖形所佔範圍的量\n"
          ]
        },
        {
          "name": "stderr",
          "output_type": "stream",
          "text": [
            " 47%|████▋     | 1928/4131 [07:14<08:35,  4.27it/s]"
          ]
        },
        {
          "name": "stdout",
          "output_type": "stream",
          "text": [
            "Question: 胡耀邦為甚麼被迫辭去中國共產黨中央委員會總書記職務?\n",
            "Golden Answer: 因為被批評反對資產階級自由化不力\n",
            "Your   Answer: 被批評反對資產階級自由化不力\n"
          ]
        },
        {
          "name": "stderr",
          "output_type": "stream",
          "text": [
            " 47%|████▋     | 1935/4131 [07:16<08:47,  4.17it/s]"
          ]
        },
        {
          "name": "stdout",
          "output_type": "stream",
          "text": [
            "Question: 七年戰爭結束後，英法兩國於1763簽訂什麼合約?\n",
            "Golden Answer: 巴黎和約\n",
            "Your   Answer: 《巴黎和約》\n"
          ]
        },
        {
          "name": "stderr",
          "output_type": "stream",
          "text": [
            " 47%|████▋     | 1936/4131 [07:16<08:21,  4.38it/s]"
          ]
        },
        {
          "name": "stdout",
          "output_type": "stream",
          "text": [
            "Question: 安溪移民為甚麼是泉州諸縣邑之中，最晚來臺的?\n",
            "Golden Answer: 因安溪本地的大學士李光地家族反對臺灣的明鄭王朝政權\n",
            "Your   Answer: 安溪本地的大學士李光地家族反對臺灣的明鄭王朝政權\n"
          ]
        },
        {
          "name": "stderr",
          "output_type": "stream",
          "text": [
            " 47%|████▋     | 1943/4131 [07:18<07:30,  4.85it/s]"
          ]
        },
        {
          "name": "stdout",
          "output_type": "stream",
          "text": [
            "Question: 西方文藝中的核心部分指的是哪一宗教的經典?\n",
            "Golden Answer: 基督教\n",
            "Your   Answer: 羅馬基督教\n",
            "Question: 維拉是哪一個聯賽的創始成員之一?\n",
            "Golden Answer: 英格蘭頂級聯賽\n",
            "Your   Answer: 足球聯盟\n"
          ]
        },
        {
          "name": "stderr",
          "output_type": "stream",
          "text": [
            " 47%|████▋     | 1944/4131 [07:18<07:26,  4.90it/s]"
          ]
        },
        {
          "name": "stdout",
          "output_type": "stream",
          "text": [
            "Question: 王安石被降為觀文殿大學士和哪一句話有關?\n",
            "Golden Answer: 「旱災是王安石所導致。」\n",
            "Your   Answer: 旱災是王安石所導致\n"
          ]
        },
        {
          "name": "stderr",
          "output_type": "stream",
          "text": [
            " 47%|████▋     | 1951/4131 [07:19<07:41,  4.73it/s]"
          ]
        },
        {
          "name": "stdout",
          "output_type": "stream",
          "text": [
            "Question: 在1760年之前，加拿大是哪一個國家的殖民地?\n",
            "Golden Answer: 法國\n",
            "Your   Answer: 英國\n",
            "Question: 阿基米德是哪一個時期的科學家?\n",
            "Golden Answer: 古希臘時期\n",
            "Your   Answer: 古希臘\n"
          ]
        },
        {
          "name": "stderr",
          "output_type": "stream",
          "text": [
            " 47%|████▋     | 1958/4131 [07:21<08:02,  4.50it/s]"
          ]
        },
        {
          "name": "stdout",
          "output_type": "stream",
          "text": [
            "Question: 長江是亞洲第幾長河?\n",
            "Golden Answer: 一\n",
            "Your   Answer: 第一\n"
          ]
        },
        {
          "name": "stderr",
          "output_type": "stream",
          "text": [
            " 48%|████▊     | 1963/4131 [07:22<07:20,  4.93it/s]"
          ]
        },
        {
          "name": "stdout",
          "output_type": "stream",
          "text": [
            "Question: 為何日本不管是在編制上，還是武器方面都是偏重防衛?\n",
            "Golden Answer: 由於現行日本憲法的限制\n",
            "Your   Answer: 現行日本憲法的限制\n"
          ]
        },
        {
          "name": "stderr",
          "output_type": "stream",
          "text": [
            " 48%|████▊     | 1979/4131 [07:26<09:16,  3.87it/s]"
          ]
        },
        {
          "name": "stdout",
          "output_type": "stream",
          "text": [
            "Question: 歐洲移民潮造成什麼影響?\n",
            "Golden Answer: 架起了阿根廷與歐洲之橋\n",
            "Your   Answer: 阿根廷與歐洲之橋\n"
          ]
        },
        {
          "name": "stderr",
          "output_type": "stream",
          "text": [
            " 48%|████▊     | 1982/4131 [07:26<07:51,  4.56it/s]"
          ]
        },
        {
          "name": "stdout",
          "output_type": "stream",
          "text": [
            "Question: 慈禧為什麼要發布上諭，查封政聞社?\n",
            "Golden Answer: 為扼制請願運動\n",
            "Your   Answer: 扼制請願運動\n"
          ]
        },
        {
          "name": "stderr",
          "output_type": "stream",
          "text": [
            " 48%|████▊     | 1984/4131 [07:27<07:28,  4.79it/s]"
          ]
        },
        {
          "name": "stdout",
          "output_type": "stream",
          "text": [
            "Question: 博多為何成為日本和東亞大陸交流的窗口?\n",
            "Golden Answer: 因其地理位置\n",
            "Your   Answer: 地理位置\n"
          ]
        },
        {
          "name": "stderr",
          "output_type": "stream",
          "text": [
            " 48%|████▊     | 1998/4131 [07:30<07:25,  4.78it/s]"
          ]
        },
        {
          "name": "stdout",
          "output_type": "stream",
          "text": [
            "Question: copyleft條款除了允許使用者自由使用、散布、改作之外，主要倡導甚麼概念?\n",
            "Golden Answer: 要求使用者改作後的衍生作品必須要以同等的授權方式釋出以回饋社群\n",
            "Your   Answer: 創作自由\n"
          ]
        },
        {
          "name": "stderr",
          "output_type": "stream",
          "text": [
            " 48%|████▊     | 2002/4131 [07:30<07:08,  4.97it/s]"
          ]
        },
        {
          "name": "stdout",
          "output_type": "stream",
          "text": [
            "Question: 哥倫比亞是世界面積第幾大國家?\n",
            "Golden Answer: 26\n",
            "Your   Answer: 第26大\n"
          ]
        },
        {
          "name": "stderr",
          "output_type": "stream",
          "text": [
            " 49%|████▊     | 2005/4131 [07:31<07:05,  5.00it/s]"
          ]
        },
        {
          "name": "stdout",
          "output_type": "stream",
          "text": [
            "Question: 「農業臺灣，工業日本」是何人提出的政策?\n",
            "Golden Answer: 田健治郎\n",
            "Your   Answer: 任田健治郎\n"
          ]
        },
        {
          "name": "stderr",
          "output_type": "stream",
          "text": [
            " 49%|████▊     | 2009/4131 [07:32<07:41,  4.60it/s]"
          ]
        },
        {
          "name": "stdout",
          "output_type": "stream",
          "text": [
            "Question: 哪一個建築構成了內壇的南北軸線?\n",
            "Golden Answer: 「丹陛橋」\n",
            "Your   Answer: 丹陛橋\n"
          ]
        },
        {
          "name": "stderr",
          "output_type": "stream",
          "text": [
            " 49%|████▉     | 2018/4131 [07:34<07:16,  4.84it/s]"
          ]
        },
        {
          "name": "stdout",
          "output_type": "stream",
          "text": [
            "Question: 彭定康在上任後，為何要在香港推行民主政制改革?\n",
            "Golden Answer: 由於六四事件後，民主進程一直備受港人關注\n",
            "Your   Answer: 六四事件後，民主進程一直備受港人關注\n"
          ]
        },
        {
          "name": "stderr",
          "output_type": "stream",
          "text": [
            " 49%|████▉     | 2027/4131 [07:36<08:06,  4.32it/s]"
          ]
        },
        {
          "name": "stdout",
          "output_type": "stream",
          "text": [
            "Question: 雨傘革命指的是甚麼?\n",
            "Golden Answer: 香港為爭取「真普選」而發起的一系列公民抗命\n",
            "Your   Answer: 在香港為爭取「真普選」而發起的一系列公民抗命。\n"
          ]
        },
        {
          "name": "stderr",
          "output_type": "stream",
          "text": [
            " 49%|████▉     | 2041/4131 [07:39<08:09,  4.27it/s]"
          ]
        },
        {
          "name": "stdout",
          "output_type": "stream",
          "text": [
            "Question: 中國大陸是稱呼哪裡?\n",
            "Golden Answer: 中華人民共和國的實際統治領土之稱呼\n",
            "Your   Answer: 中華人民共和國的實際統治領土\n"
          ]
        },
        {
          "name": "stderr",
          "output_type": "stream",
          "text": [
            " 50%|████▉     | 2047/4131 [07:41<08:14,  4.21it/s]"
          ]
        },
        {
          "name": "stdout",
          "output_type": "stream",
          "text": [
            "Question: 經度是甚麼?\n",
            "Golden Answer: 一種用於確定地球表面上不同點東西位置的地理坐標\n",
            "Your   Answer: 一種角度量\n"
          ]
        },
        {
          "name": "stderr",
          "output_type": "stream",
          "text": [
            " 50%|████▉     | 2053/4131 [07:42<07:15,  4.77it/s]"
          ]
        },
        {
          "name": "stdout",
          "output_type": "stream",
          "text": [
            "Question: 政府遷台早期為甚麼強力推行國語教育的政策?\n",
            "Golden Answer: 試圖強化臺灣人對中國的認同和對領袖的崇拜\n",
            "Your   Answer: 去日本化\n"
          ]
        },
        {
          "name": "stderr",
          "output_type": "stream",
          "text": [
            " 50%|████▉     | 2058/4131 [07:43<07:49,  4.41it/s]"
          ]
        },
        {
          "name": "stdout",
          "output_type": "stream",
          "text": [
            "Question: 《中華人民共和國憲法》在2003年的時候有何修改?\n",
            "Golden Answer: 將保護私有財產明文寫入憲法\n",
            "Your   Answer: 首次將保護私有財產明文寫入憲法\n",
            "Question: 為什麼梅布爾·托爾金的家人對她停止了經濟支持?\n",
            "Golden Answer: 於1900年皈依了羅馬天主教\n",
            "Your   Answer: 皈依了羅馬天主教\n"
          ]
        },
        {
          "name": "stderr",
          "output_type": "stream",
          "text": [
            " 50%|████▉     | 2062/4131 [07:44<07:05,  4.87it/s]"
          ]
        },
        {
          "name": "stdout",
          "output_type": "stream",
          "text": [
            "Question: 《政治論》的主題是?\n",
            "Golden Answer: 政治理論\n",
            "Your   Answer: 聖經批評與政治理論\n"
          ]
        },
        {
          "name": "stderr",
          "output_type": "stream",
          "text": [
            " 50%|█████     | 2067/4131 [07:45<08:04,  4.26it/s]"
          ]
        },
        {
          "name": "stdout",
          "output_type": "stream",
          "text": [
            "Question: 船旗的功能是?\n",
            "Golden Answer: 以便在海上識別船隻所屬的國家\n",
            "Your   Answer: 在海上識別船隻所屬的國家\n"
          ]
        },
        {
          "name": "stderr",
          "output_type": "stream",
          "text": [
            " 50%|█████     | 2070/4131 [07:46<07:51,  4.37it/s]"
          ]
        },
        {
          "name": "stdout",
          "output_type": "stream",
          "text": [
            "Question: 大阪自奈良時代開始，就因其臨海的地理位置成為貿易港口，並曾在此建立什麼?\n",
            "Golden Answer: 難波京\n",
            "Your   Answer: 「難波京」\n",
            "Question: 覃美金上訴至終審法院之後，終審法院的判決是?\n",
            "Golden Answer: 覃美金敗訴\n",
            "Your   Answer: 敗訴\n"
          ]
        },
        {
          "name": "stderr",
          "output_type": "stream",
          "text": [
            " 50%|█████     | 2072/4131 [07:46<07:19,  4.68it/s]"
          ]
        },
        {
          "name": "stdout",
          "output_type": "stream",
          "text": [
            "Question: 中國共產黨第十六次全國代表大會於何年召開?\n",
            "Golden Answer: 2003年\n",
            "Your   Answer: 2002年\n"
          ]
        },
        {
          "name": "stderr",
          "output_type": "stream",
          "text": [
            " 50%|█████     | 2075/4131 [07:47<06:59,  4.90it/s]"
          ]
        },
        {
          "name": "stdout",
          "output_type": "stream",
          "text": [
            "Question: 元朝創建了24400所各級官學，因而有何歷史紀錄?\n",
            "Golden Answer: 「書院之設，莫盛於元」\n",
            "Your   Answer: 書院之設，莫盛於元\n",
            "Question: 皮埃爾·戈爾捷德瓦雷訥探索紅河谷的主要目的是?\n",
            "Golden Answer: 為了幫助法國開闢新的貿易區\n",
            "Your   Answer: 幫助法國開闢新的貿易區\n"
          ]
        },
        {
          "name": "stderr",
          "output_type": "stream",
          "text": [
            " 50%|█████     | 2084/4131 [07:49<07:31,  4.53it/s]"
          ]
        },
        {
          "name": "stdout",
          "output_type": "stream",
          "text": [
            "Question: 劉米高和梅艷芳是如何認識的?\n",
            "Golden Answer: 在拍攝手錶廣告時認識\n",
            "Your   Answer: 拍攝手錶廣告\n"
          ]
        },
        {
          "name": "stderr",
          "output_type": "stream",
          "text": [
            " 51%|█████     | 2091/4131 [07:50<07:51,  4.33it/s]"
          ]
        },
        {
          "name": "stdout",
          "output_type": "stream",
          "text": [
            "Question: 戈巴契夫終止與美國軍備競賽的目的是?\n",
            "Golden Answer: 試圖以此挽救蘇聯的共產主義\n",
            "Your   Answer: 挽救蘇聯的共產主義\n"
          ]
        },
        {
          "name": "stderr",
          "output_type": "stream",
          "text": [
            " 51%|█████     | 2097/4131 [07:52<07:09,  4.74it/s]"
          ]
        },
        {
          "name": "stdout",
          "output_type": "stream",
          "text": [
            "Question: 福壽螺的原產地是哪裡?\n",
            "Golden Answer: 南美洲\n",
            "Your   Answer: 台灣\n"
          ]
        },
        {
          "name": "stderr",
          "output_type": "stream",
          "text": [
            " 51%|█████     | 2098/4131 [07:52<07:03,  4.80it/s]"
          ]
        },
        {
          "name": "stdout",
          "output_type": "stream",
          "text": [
            "Question: 有些簡單的漢字為何無法在孩子的名字中使用?\n",
            "Golden Answer: 因不在人名用漢字別表範圍內\n",
            "Your   Answer: 不在人名用漢字別表範圍內\n"
          ]
        },
        {
          "name": "stderr",
          "output_type": "stream",
          "text": [
            " 51%|█████▏    | 2119/4131 [07:57<07:08,  4.69it/s]"
          ]
        },
        {
          "name": "stdout",
          "output_type": "stream",
          "text": [
            "Question: 「深藍漁業」的發展重點有二，一項是遠洋漁業發展，另一項是?\n",
            "Golden Answer: 加快深水網箱產業園區建設\n",
            "Your   Answer: 深水網箱產業園區建設\n"
          ]
        },
        {
          "name": "stderr",
          "output_type": "stream",
          "text": [
            " 52%|█████▏    | 2129/4131 [07:59<07:51,  4.25it/s]"
          ]
        },
        {
          "name": "stdout",
          "output_type": "stream",
          "text": [
            "Question: 吳佩孚與靳雲鶚的內訌最後由誰獲勝?\n",
            "Golden Answer: 靳雲鶚\n",
            "Your   Answer: 馮玉祥\n"
          ]
        },
        {
          "name": "stderr",
          "output_type": "stream",
          "text": [
            " 52%|█████▏    | 2135/4131 [08:00<07:54,  4.20it/s]"
          ]
        },
        {
          "name": "stdout",
          "output_type": "stream",
          "text": [
            "Question: 對外開放「香江衛士－2015C」聯合演習的目的是?\n",
            "Golden Answer: 增強了香港各界對駐軍的理解和信任\n",
            "Your   Answer: 全面展示了駐軍形象，增強了香港各界對駐軍的理解和信任\n"
          ]
        },
        {
          "name": "stderr",
          "output_type": "stream",
          "text": [
            " 52%|█████▏    | 2139/4131 [08:01<06:54,  4.80it/s]"
          ]
        },
        {
          "name": "stdout",
          "output_type": "stream",
          "text": [
            "Question: 根據統計，奈及利亞人民信仰哪一個宗教的人口比例最高?\n",
            "Golden Answer: 伊斯蘭教\n",
            "Your   Answer: 基督教\n"
          ]
        },
        {
          "name": "stderr",
          "output_type": "stream",
          "text": [
            " 52%|█████▏    | 2141/4131 [08:02<06:44,  4.92it/s]"
          ]
        },
        {
          "name": "stdout",
          "output_type": "stream",
          "text": [
            "Question: 哪一詞彙的發明對於生態學思想的散布有相當大的影響?\n",
            "Golden Answer: 「生態」\n",
            "Your   Answer: 生態\n"
          ]
        },
        {
          "name": "stderr",
          "output_type": "stream",
          "text": [
            " 52%|█████▏    | 2157/4131 [08:05<06:44,  4.87it/s]"
          ]
        },
        {
          "name": "stdout",
          "output_type": "stream",
          "text": [
            "Question: 清水祖師文化之發源地指的是何處?\n",
            "Golden Answer: 「蓬萊仙境」\n",
            "Your   Answer: 安溪清水岩\n"
          ]
        },
        {
          "name": "stderr",
          "output_type": "stream",
          "text": [
            " 52%|█████▏    | 2166/4131 [08:07<07:58,  4.11it/s]"
          ]
        },
        {
          "name": "stdout",
          "output_type": "stream",
          "text": [
            "Question: 發元音時，氣流從人體的哪個部位通過聲門衝擊聲帶?\n",
            "Golden Answer: 肺\n",
            "Your   Answer: 肺部\n"
          ]
        },
        {
          "name": "stderr",
          "output_type": "stream",
          "text": [
            " 53%|█████▎    | 2187/4131 [08:12<06:50,  4.73it/s]"
          ]
        },
        {
          "name": "stdout",
          "output_type": "stream",
          "text": [
            "Question: 《1959年終身爵位法令》改變了什麼狀態?\n",
            "Golden Answer: 上議院優勢性的世襲狀態\n",
            "Your   Answer: 世襲狀態\n"
          ]
        },
        {
          "name": "stderr",
          "output_type": "stream",
          "text": [
            " 53%|█████▎    | 2192/4131 [08:13<07:44,  4.18it/s]"
          ]
        },
        {
          "name": "stdout",
          "output_type": "stream",
          "text": [
            "Question: 什麼法律賦予美國國會「配備和保持海軍」的權力是美國海軍建立的基石?\n",
            "Golden Answer: 美國憲法\n",
            "Your   Answer: 《美國憲法》\n",
            "Question: 美國西岸第二大的都會區為哪一個地區?\n",
            "Golden Answer: 舊金山灣區\n",
            "Your   Answer: 洛杉磯\n"
          ]
        },
        {
          "name": "stderr",
          "output_type": "stream",
          "text": [
            " 53%|█████▎    | 2205/4131 [08:16<07:25,  4.32it/s]"
          ]
        },
        {
          "name": "stdout",
          "output_type": "stream",
          "text": [
            "[UNK] in prediction answer\n",
            "朱 載 [UNK]\n",
            "Prediction range: [258, 261) in window 0-th paragraph\n",
            "Original answer\n",
            "朱載堉\n"
          ]
        },
        {
          "name": "stderr",
          "output_type": "stream",
          "text": [
            " 53%|█████▎    | 2208/4131 [08:17<07:18,  4.38it/s]"
          ]
        },
        {
          "name": "stdout",
          "output_type": "stream",
          "text": [
            "Question: 一般認為廣島在工業、商業、行政以及娛樂各方面都取得良好的平衡，是一個怎麼樣的城市?\n",
            "Golden Answer: 「萬能都會型城市」\n",
            "Your   Answer: 萬能都會型城市\n",
            "Question: 中華人民共和國的國慶日在哪一天?\n",
            "Golden Answer: 10月1日\n",
            "Your   Answer: 1949年10月1日\n"
          ]
        },
        {
          "name": "stderr",
          "output_type": "stream",
          "text": [
            " 54%|█████▎    | 2214/4131 [08:18<08:30,  3.76it/s]"
          ]
        },
        {
          "name": "stdout",
          "output_type": "stream",
          "text": [
            "Question: 烏克蘭僅次於俄國的歐洲第二大軍事力量是繼承了誰?\n",
            "Golden Answer: 繼承了蘇聯的軍事基礎\n",
            "Your   Answer: 蘇聯\n"
          ]
        },
        {
          "name": "stderr",
          "output_type": "stream",
          "text": [
            " 54%|█████▎    | 2218/4131 [08:19<07:49,  4.07it/s]"
          ]
        },
        {
          "name": "stdout",
          "output_type": "stream",
          "text": [
            "Question: 希拉蕊的「電郵門事件」指的是何事?\n",
            "Golden Answer: 在卸任後使用個人電子郵件帳戶處理公務\n",
            "Your   Answer: 班加西攻擊事件以及在卸任後使用個人電子郵件帳戶處理公務\n"
          ]
        },
        {
          "name": "stderr",
          "output_type": "stream",
          "text": [
            " 54%|█████▍    | 2223/4131 [08:20<06:34,  4.83it/s]"
          ]
        },
        {
          "name": "stdout",
          "output_type": "stream",
          "text": [
            "Question: 十六國時期，當時的皇帝為何要採取卑劣和殘暴的手段來消除妨礙皇權的不安因素?\n",
            "Golden Answer: 為了鞏固政權\n",
            "Your   Answer: 鞏固政權\n"
          ]
        },
        {
          "name": "stderr",
          "output_type": "stream",
          "text": [
            " 54%|█████▍    | 2235/4131 [08:23<07:00,  4.51it/s]"
          ]
        },
        {
          "name": "stdout",
          "output_type": "stream",
          "text": [
            "Question: 馬克思主義的學者賦予拿破崙什麼稱號?\n",
            "Golden Answer: 「第一個現代的布爾喬亞管治者」\n",
            "Your   Answer: 第一個現代的布爾喬亞管治者\n"
          ]
        },
        {
          "name": "stderr",
          "output_type": "stream",
          "text": [
            " 54%|█████▍    | 2237/4131 [08:24<06:38,  4.75it/s]"
          ]
        },
        {
          "name": "stdout",
          "output_type": "stream",
          "text": [
            "Question: 清廷為何不承認《穿鼻草約》的存在?\n",
            "Golden Answer: 有辱國體\n",
            "Your   Answer: 有辱國體及獲利太少\n"
          ]
        },
        {
          "name": "stderr",
          "output_type": "stream",
          "text": [
            " 54%|█████▍    | 2250/4131 [08:26<06:18,  4.97it/s]"
          ]
        },
        {
          "name": "stdout",
          "output_type": "stream",
          "text": [
            "Question: 香港為何在1973年經歷了一次經濟大衰退?\n",
            "Golden Answer: 由於受石油危機的影響\n",
            "Your   Answer: 受石油危機的影響\n"
          ]
        },
        {
          "name": "stderr",
          "output_type": "stream",
          "text": [
            " 55%|█████▍    | 2255/4131 [08:28<06:30,  4.81it/s]"
          ]
        },
        {
          "name": "stdout",
          "output_type": "stream",
          "text": [
            "Question: 「仍禁約使臣人等勿得於廟學安下，非禮騷擾」此聖旨的貢獻為何?\n",
            "Golden Answer: 對元朝儒學教育的正常運作起到了保護作用\n",
            "Your   Answer: 維護儒學的正常運行\n"
          ]
        },
        {
          "name": "stderr",
          "output_type": "stream",
          "text": [
            " 55%|█████▍    | 2257/4131 [08:28<07:08,  4.37it/s]"
          ]
        },
        {
          "name": "stdout",
          "output_type": "stream",
          "text": [
            "Question: 耶柔米文集在哪一個世紀的時候問世?\n",
            "Golden Answer: 15世紀\n",
            "Your   Answer: 約15世紀\n"
          ]
        },
        {
          "name": "stderr",
          "output_type": "stream",
          "text": [
            " 55%|█████▍    | 2259/4131 [08:28<06:40,  4.67it/s]"
          ]
        },
        {
          "name": "stdout",
          "output_type": "stream",
          "text": [
            "Question: 德川家康被任命為征夷大將軍是因為什麼功勞?\n",
            "Golden Answer: 在關原之戰中獲得勝利\n",
            "Your   Answer: 關原之戰中獲得勝利\n",
            "Question: 哪一事件象徵著退出印度運動的正式開始?\n",
            "Golden Answer: 國大黨中央委員會孟買會議通過了「退出印度決議」\n",
            "Your   Answer: 退出印度決議\n"
          ]
        },
        {
          "name": "stderr",
          "output_type": "stream",
          "text": [
            " 55%|█████▍    | 2262/4131 [08:29<06:55,  4.50it/s]"
          ]
        },
        {
          "name": "stdout",
          "output_type": "stream",
          "text": [
            "[UNK] in prediction answer\n",
            "學 習 訓 [UNK] 學\n",
            "Prediction range: [211, 216) in window 0-th paragraph\n",
            "Original answer\n",
            "學習訓詁學\n"
          ]
        },
        {
          "name": "stderr",
          "output_type": "stream",
          "text": [
            " 55%|█████▍    | 2263/4131 [08:29<06:42,  4.64it/s]"
          ]
        },
        {
          "name": "stdout",
          "output_type": "stream",
          "text": [
            "Question: Google收購摩托羅拉移動的目的是?\n",
            "Golden Answer: 為了獲得摩托羅拉移動的專利，藉此保護專利訴訟\n",
            "Your   Answer: 獲得摩托羅拉移動的專利\n"
          ]
        },
        {
          "name": "stderr",
          "output_type": "stream",
          "text": [
            " 55%|█████▍    | 2265/4131 [08:30<07:14,  4.29it/s]"
          ]
        },
        {
          "name": "stdout",
          "output_type": "stream",
          "text": [
            "Question: 耶律楚材為何建議保留漢人的農業生產?\n",
            "Golden Answer: 以提供財政上的收入來源\n",
            "Your   Answer: 提供財政上的收入來源\n"
          ]
        },
        {
          "name": "stderr",
          "output_type": "stream",
          "text": [
            " 55%|█████▌    | 2278/4131 [08:33<07:13,  4.27it/s]"
          ]
        },
        {
          "name": "stdout",
          "output_type": "stream",
          "text": [
            "Question: 季節的長度如何對應?\n",
            "Golden Answer: 對應於地球在軌道上經過分點與至點間所掃掠過的面積\n",
            "Your   Answer: 地球在軌道上經過分點與至點間所掃掠過的面積\n",
            "Question: 英國居民為甚麼在香港普遍受到尊重?\n",
            "Golden Answer: 由於主流社會普遍崇尚西方文化\n",
            "Your   Answer: 主流社會普遍崇尚西方文化\n"
          ]
        },
        {
          "name": "stderr",
          "output_type": "stream",
          "text": [
            " 55%|█████▌    | 2286/4131 [08:35<06:57,  4.41it/s]"
          ]
        },
        {
          "name": "stdout",
          "output_type": "stream",
          "text": [
            "Question: 臺灣島嶼整體形狀像甚麼?\n",
            "Golden Answer: 蕃薯\n",
            "Your   Answer: 長條蕃薯狀\n"
          ]
        },
        {
          "name": "stderr",
          "output_type": "stream",
          "text": [
            " 55%|█████▌    | 2292/4131 [08:36<06:40,  4.59it/s]"
          ]
        },
        {
          "name": "stdout",
          "output_type": "stream",
          "text": [
            "Question: 路易·瑞爾在紅河叛亂期建立了一個地方性臨時政府，這起事件導致哪一個法案的誕生?\n",
            "Golden Answer: 「曼尼托巴法案」\n",
            "Your   Answer: 曼尼托巴法案\n"
          ]
        },
        {
          "name": "stderr",
          "output_type": "stream",
          "text": [
            " 56%|█████▌    | 2310/4131 [08:40<06:26,  4.72it/s]"
          ]
        },
        {
          "name": "stdout",
          "output_type": "stream",
          "text": [
            "Question: 茶黨運動和什麼勢力有關?\n",
            "Golden Answer: 「反對大政府」的勢力\n",
            "Your   Answer: 反對大政府\n"
          ]
        },
        {
          "name": "stderr",
          "output_type": "stream",
          "text": [
            " 56%|█████▌    | 2313/4131 [08:41<06:42,  4.52it/s]"
          ]
        },
        {
          "name": "stdout",
          "output_type": "stream",
          "text": [
            "[UNK] in prediction answer\n",
            "澳 洲 最 優 秀 的 全 日 制 [UNK]\n",
            "Prediction range: [89, 99) in window 0-th paragraph\n",
            "Original answer\n",
            "澳洲最優秀的全日制MBA\n"
          ]
        },
        {
          "name": "stderr",
          "output_type": "stream",
          "text": [
            " 56%|█████▌    | 2318/4131 [08:42<06:08,  4.93it/s]"
          ]
        },
        {
          "name": "stdout",
          "output_type": "stream",
          "text": [
            "Question: 1970年代之後，哪一新文化覺醒誕生?\n",
            "Golden Answer: 「多元文化政策」\n",
            "Your   Answer: 多元文化政策\n"
          ]
        },
        {
          "name": "stderr",
          "output_type": "stream",
          "text": [
            " 56%|█████▋    | 2329/4131 [08:44<06:52,  4.37it/s]"
          ]
        },
        {
          "name": "stdout",
          "output_type": "stream",
          "text": [
            "Question: 生肖是中國及東亞地區的一些民族用來代表年份的幾種動物?\n",
            "Golden Answer: 十二\n",
            "Your   Answer: 十二種\n"
          ]
        },
        {
          "name": "stderr",
          "output_type": "stream",
          "text": [
            " 56%|█████▋    | 2331/4131 [08:45<07:10,  4.18it/s]"
          ]
        },
        {
          "name": "stdout",
          "output_type": "stream",
          "text": [
            "Question: 元世祖為何發起元日戰爭?\n",
            "Golden Answer: 元世祖六次遣使者要求日本朝貢，均告失敗\n",
            "Your   Answer: 六次遣使者要求日本朝貢，均告失敗\n"
          ]
        },
        {
          "name": "stderr",
          "output_type": "stream",
          "text": [
            " 57%|█████▋    | 2336/4131 [08:46<06:09,  4.86it/s]"
          ]
        },
        {
          "name": "stdout",
          "output_type": "stream",
          "text": [
            "Question: 為甚麼渡渡鳥必須在潮濕季節儲存大量脂肪?\n",
            "Golden Answer: 以抵抗乾燥季節的食物不足\n",
            "Your   Answer: 抵抗乾燥季節的食物不足\n"
          ]
        },
        {
          "name": "stderr",
          "output_type": "stream",
          "text": [
            " 57%|█████▋    | 2339/4131 [08:46<06:45,  4.41it/s]"
          ]
        },
        {
          "name": "stdout",
          "output_type": "stream",
          "text": [
            "Question: 「在民主基礎上的集中，在集中指導下的民主，只有這個制度，才既能表現廣泛的民主，使各級人民代表大會有高度的權力。」這是誰對於民主集中制的觀點?\n",
            "Golden Answer: 毛澤東\n",
            "Your   Answer: 人民代表大會制度\n"
          ]
        },
        {
          "name": "stderr",
          "output_type": "stream",
          "text": [
            " 57%|█████▋    | 2344/4131 [08:47<05:43,  5.20it/s]"
          ]
        },
        {
          "name": "stdout",
          "output_type": "stream",
          "text": [
            "Question: 橢圓的長軸會通過什麼?\n",
            "Golden Answer: 中心和兩個焦點\n",
            "Your   Answer: 中心\n"
          ]
        },
        {
          "name": "stderr",
          "output_type": "stream",
          "text": [
            " 57%|█████▋    | 2369/4131 [08:53<06:38,  4.42it/s]"
          ]
        },
        {
          "name": "stdout",
          "output_type": "stream",
          "text": [
            "Question: 四支球隊在1917年共同創立了NHL，四支球隊除了蒙特婁流浪者隊、渥太華參議員隊、蒙特婁加拿大人隊，還有一隊是?\n",
            "Golden Answer: 魁北克牛頭犬隊\n",
            "Your   Answer: 蒙特婁加拿大人隊\n",
            "Question: 拿破崙造巴黎的主要原因是?\n",
            "Golden Answer: 為了現代化巴黎\n",
            "Your   Answer: 利用巴黎狹小、古舊的街道，設置路障，挑戰政府\n"
          ]
        },
        {
          "name": "stderr",
          "output_type": "stream",
          "text": [
            " 58%|█████▊    | 2376/4131 [08:54<05:53,  4.97it/s]"
          ]
        },
        {
          "name": "stdout",
          "output_type": "stream",
          "text": [
            "Question: 為甚麼那霸市的最高氣溫很少超過35度?\n",
            "Golden Answer: 那霸市屬於海洋性氣候\n",
            "Your   Answer: 屬於海洋性氣候\n",
            "Question: 鄂圖曼帝國的君主蘇丹視自己為天下之主，繼承了東羅馬帝國的文化及什麼文化?\n",
            "Golden Answer: 伊斯蘭\n",
            "Your   Answer: 伊斯蘭文化\n"
          ]
        },
        {
          "name": "stderr",
          "output_type": "stream",
          "text": [
            " 58%|█████▊    | 2388/4131 [08:57<05:59,  4.85it/s]"
          ]
        },
        {
          "name": "stdout",
          "output_type": "stream",
          "text": [
            "Question: 生產總值是屬於什麼主義?\n",
            "Golden Answer: 屬地主義\n",
            "Your   Answer: 屬人主義\n"
          ]
        },
        {
          "name": "stderr",
          "output_type": "stream",
          "text": [
            " 58%|█████▊    | 2390/4131 [08:57<05:52,  4.93it/s]"
          ]
        },
        {
          "name": "stdout",
          "output_type": "stream",
          "text": [
            "Question: 馮雲山在何處傳教，效果十分不錯?\n",
            "Golden Answer: 紫荊山一帶\n",
            "Your   Answer: 紫荊山\n"
          ]
        },
        {
          "name": "stderr",
          "output_type": "stream",
          "text": [
            " 58%|█████▊    | 2397/4131 [08:59<05:44,  5.03it/s]"
          ]
        },
        {
          "name": "stdout",
          "output_type": "stream",
          "text": [
            "Question: 「屏東」一名的由來是?\n",
            "Golden Answer: 此地位於半屏山之東\n",
            "Your   Answer: 日本以此地位於半屏山之東\n"
          ]
        },
        {
          "name": "stderr",
          "output_type": "stream",
          "text": [
            " 58%|█████▊    | 2400/4131 [08:59<05:44,  5.03it/s]"
          ]
        },
        {
          "name": "stdout",
          "output_type": "stream",
          "text": [
            "[UNK] in prediction answer\n",
            "朱 允 [UNK] 的 禁 殺 之 旨\n",
            "Prediction range: [210, 218) in window 1-th paragraph\n",
            "Original answer\n",
            "朱允炆的禁殺之旨\n",
            "Question: 中央軍不敢射箭的原因是因為何令?\n",
            "Golden Answer: 禁殺之旨\n",
            "Your   Answer: 朱允炆的禁殺之旨\n"
          ]
        },
        {
          "name": "stderr",
          "output_type": "stream",
          "text": [
            " 58%|█████▊    | 2414/4131 [09:02<05:50,  4.90it/s]"
          ]
        },
        {
          "name": "stdout",
          "output_type": "stream",
          "text": [
            "Question: 海都聯合欽察汗國與察合台汗國反元的目的是?\n",
            "Golden Answer: 意圖奪回汗位\n",
            "Your   Answer: 奪回汗位\n"
          ]
        },
        {
          "name": "stderr",
          "output_type": "stream",
          "text": [
            " 59%|█████▊    | 2417/4131 [09:03<05:43,  4.99it/s]"
          ]
        },
        {
          "name": "stdout",
          "output_type": "stream",
          "text": [
            "Question: 何人在淝河中了朱棣所設的伏兵?\n",
            "Golden Answer: 平安\n",
            "Your   Answer: 朱高煦\n"
          ]
        },
        {
          "name": "stderr",
          "output_type": "stream",
          "text": [
            " 59%|█████▉    | 2442/4131 [09:09<06:55,  4.06it/s]"
          ]
        },
        {
          "name": "stdout",
          "output_type": "stream",
          "text": [
            "Question: 為甚麼其他中國少數民族在香港聚居的數字十分難掌握?\n",
            "Golden Answer: 香港人普遍很少提及本身的民族\n",
            "Your   Answer: 香港人普遍很少提及本身的民族，除非有人主動提出\n"
          ]
        },
        {
          "name": "stderr",
          "output_type": "stream",
          "text": [
            " 60%|█████▉    | 2460/4131 [09:13<05:37,  4.95it/s]"
          ]
        },
        {
          "name": "stdout",
          "output_type": "stream",
          "text": [
            "Question: 高華德主張反共外交政策並且反對孤立主義和哪一種政策?\n",
            "Golden Answer: 圍堵政策\n",
            "Your   Answer: 冷戰的圍堵政策\n"
          ]
        },
        {
          "name": "stderr",
          "output_type": "stream",
          "text": [
            " 60%|█████▉    | 2462/4131 [09:13<05:34,  4.99it/s]"
          ]
        },
        {
          "name": "stdout",
          "output_type": "stream",
          "text": [
            "Question: 馮雲山在道光二十八年初被依何罪名逮捕?\n",
            "Golden Answer: 「聚眾謀反」\n",
            "Your   Answer: 聚眾謀反\n"
          ]
        },
        {
          "name": "stderr",
          "output_type": "stream",
          "text": [
            " 60%|█████▉    | 2464/4131 [09:14<05:33,  5.00it/s]"
          ]
        },
        {
          "name": "stdout",
          "output_type": "stream",
          "text": [
            "Question: 政治學是一門以研究政治行為、政治體制以及政治相關領域為主的什麼學科?\n",
            "Golden Answer: 社會科學\n",
            "Your   Answer: 社會科學學科\n"
          ]
        },
        {
          "name": "stderr",
          "output_type": "stream",
          "text": [
            " 60%|█████▉    | 2466/4131 [09:14<06:35,  4.21it/s]"
          ]
        },
        {
          "name": "stdout",
          "output_type": "stream",
          "text": [
            "Question: 金朝軍事方面採行軍民合一的什麼制度?\n",
            "Golden Answer: 猛安謀克\n",
            "Your   Answer: 猛安謀克制度\n"
          ]
        },
        {
          "name": "stderr",
          "output_type": "stream",
          "text": [
            " 60%|██████    | 2485/4131 [09:18<06:10,  4.45it/s]"
          ]
        },
        {
          "name": "stdout",
          "output_type": "stream",
          "text": [
            "Question: 人數達30萬人的國民自衛軍建軍目的為?\n",
            "Golden Answer: 為了保衛巴黎\n",
            "Your   Answer: 保衛巴黎\n"
          ]
        },
        {
          "name": "stderr",
          "output_type": "stream",
          "text": [
            " 60%|██████    | 2487/4131 [09:19<05:48,  4.72it/s]"
          ]
        },
        {
          "name": "stdout",
          "output_type": "stream",
          "text": [
            "Question: 英國艦隊在阿森松島進行登陸演練期間正值哪一場戰爭?\n",
            "Golden Answer: 福克蘭戰爭\n",
            "Your   Answer: 阿根廷福克蘭戰爭\n",
            "Question: 北洋政府如何支援協約國?\n",
            "Golden Answer: 組織了數十萬華工前往歐洲戰場為協約國擔負後勤任務\n",
            "Your   Answer: 通過官方與非官方渠道組織了數十萬華工\n"
          ]
        },
        {
          "name": "stderr",
          "output_type": "stream",
          "text": [
            " 61%|██████    | 2502/4131 [09:22<05:28,  4.96it/s]"
          ]
        },
        {
          "name": "stdout",
          "output_type": "stream",
          "text": [
            "Question: 中華民國接管臺灣後，設置了哪一個機構管理台灣?\n",
            "Golden Answer: 「臺灣省行政長官公署」\n",
            "Your   Answer: 臺灣省行政長官公署\n"
          ]
        },
        {
          "name": "stderr",
          "output_type": "stream",
          "text": [
            " 61%|██████    | 2505/4131 [09:22<05:25,  5.00it/s]"
          ]
        },
        {
          "name": "stdout",
          "output_type": "stream",
          "text": [
            "Question: 江澤民則提出了三個重要思想，除了先進文化的前進方向、主張中國共產黨應代表中國先進社會生產力的發展要求，還有一項是?\n",
            "Golden Answer: 要求眾多人民的基本利益\n",
            "Your   Answer: 社會生產力的發展要求\n"
          ]
        },
        {
          "name": "stderr",
          "output_type": "stream",
          "text": [
            " 61%|██████    | 2509/4131 [09:23<05:43,  4.72it/s]"
          ]
        },
        {
          "name": "stdout",
          "output_type": "stream",
          "text": [
            "Question: BBC專訪周星馳時，周星馳說了甚麼?\n",
            "Golden Answer: 「有點不同，我更注重幕後的工作。」\n",
            "Your   Answer: 有點不同，我更注重幕後的工作\n"
          ]
        },
        {
          "name": "stderr",
          "output_type": "stream",
          "text": [
            " 61%|██████    | 2518/4131 [09:25<05:51,  4.59it/s]"
          ]
        },
        {
          "name": "stdout",
          "output_type": "stream",
          "text": [
            "Question: 路易-拿破崙在書中聲稱自己要推行什麼政策?\n",
            "Golden Answer: 社會主義經濟政策\n",
            "Your   Answer: 溫和的社會主義經濟政策\n"
          ]
        },
        {
          "name": "stderr",
          "output_type": "stream",
          "text": [
            " 61%|██████    | 2529/4131 [09:28<06:18,  4.24it/s]"
          ]
        },
        {
          "name": "stdout",
          "output_type": "stream",
          "text": [
            "Question: 雄長頸鹿用甚麼身體部位進行戰鬥?\n",
            "Golden Answer: 脖子\n",
            "Your   Answer: 長脖子\n",
            "[UNK] in prediction answer\n",
            "[UNK] 女 優\n",
            "Prediction range: [0, 3) in window 0-th paragraph\n",
            "Original answer\n",
            "AV女優\n"
          ]
        },
        {
          "name": "stderr",
          "output_type": "stream",
          "text": [
            " 61%|██████▏   | 2533/4131 [09:29<06:43,  3.96it/s]"
          ]
        },
        {
          "name": "stdout",
          "output_type": "stream",
          "text": [
            "Question: 無錫在古時為何被稱為「梁溪」?\n",
            "Golden Answer: 因梁溪河而得名\n",
            "Your   Answer: 梁溪河而得名\n"
          ]
        },
        {
          "name": "stderr",
          "output_type": "stream",
          "text": [
            " 61%|██████▏   | 2536/4131 [09:29<05:47,  4.59it/s]"
          ]
        },
        {
          "name": "stdout",
          "output_type": "stream",
          "text": [
            "Question: 視黃酸的衍伸物為何能夠用於皮膚疾病上的治療?\n",
            "Golden Answer: 視黃酸主要是掌管人體內上皮組織分化\n",
            "Your   Answer: 視黃酸主要是掌管人體內上皮組織分化有關\n"
          ]
        },
        {
          "name": "stderr",
          "output_type": "stream",
          "text": [
            " 61%|██████▏   | 2540/4131 [09:30<05:23,  4.92it/s]"
          ]
        },
        {
          "name": "stdout",
          "output_type": "stream",
          "text": [
            "Question: 明朝的時候為甚麼要在胥河上修築東壩?\n",
            "Golden Answer: 為治理太湖水患\n",
            "Your   Answer: 治理太湖水患\n"
          ]
        },
        {
          "name": "stderr",
          "output_type": "stream",
          "text": [
            " 62%|██████▏   | 2542/4131 [09:31<05:19,  4.97it/s]"
          ]
        },
        {
          "name": "stdout",
          "output_type": "stream",
          "text": [
            "Question: 袁世凱為何派人在上海火車站刺殺宋教仁?\n",
            "Golden Answer: 袁世凱不甘心讓國民黨主持內閣干涉他的獨裁統治\n",
            "Your   Answer: 不甘心讓國民黨主持內閣干涉他的獨裁統治\n"
          ]
        },
        {
          "name": "stderr",
          "output_type": "stream",
          "text": [
            " 62%|██████▏   | 2544/4131 [09:31<05:17,  5.00it/s]"
          ]
        },
        {
          "name": "stdout",
          "output_type": "stream",
          "text": [
            "Question: 在1703年之後，對於荷蘭來說為甚麼阿爾漢格爾斯克的重要性降低了?\n",
            "Golden Answer: 聖彼得堡建成\n",
            "Your   Answer: 聖彼得堡建成之後\n"
          ]
        },
        {
          "name": "stderr",
          "output_type": "stream",
          "text": [
            " 62%|██████▏   | 2547/4131 [09:32<05:15,  5.01it/s]"
          ]
        },
        {
          "name": "stdout",
          "output_type": "stream",
          "text": [
            "Question: 「對北京的權力遊戲的分析上，時常被證明是正確的。」指的是哪一份報紙?\n",
            "Golden Answer: 大紀元\n",
            "Your   Answer: 《紐約時報》\n"
          ]
        },
        {
          "name": "stderr",
          "output_type": "stream",
          "text": [
            " 62%|██████▏   | 2551/4131 [09:33<05:55,  4.44it/s]"
          ]
        },
        {
          "name": "stdout",
          "output_type": "stream",
          "text": [
            "Question: 「一榜九進士、三科六解元」指的是無錫地區在哪一方面的表現?\n",
            "Golden Answer: 歷代科舉考試\n",
            "Your   Answer: 科舉考試\n"
          ]
        },
        {
          "name": "stderr",
          "output_type": "stream",
          "text": [
            " 62%|██████▏   | 2560/4131 [09:35<05:57,  4.39it/s]"
          ]
        },
        {
          "name": "stdout",
          "output_type": "stream",
          "text": [
            "Question: 蒙古使節抵達義州邊境時，被高麗所害，而當時蒙古為何不立即攻打高麗?\n",
            "Golden Answer: 當時蒙古忙於西征，無暇征討\n",
            "Your   Answer: 忙於西征\n",
            "Question: 拿破崙為什麼要把部分財政責任交給議會?\n",
            "Golden Answer: 試圖重振商界信心\n",
            "Your   Answer: 重振商界信心\n"
          ]
        },
        {
          "name": "stderr",
          "output_type": "stream",
          "text": [
            " 62%|██████▏   | 2577/4131 [09:38<05:10,  5.01it/s]"
          ]
        },
        {
          "name": "stdout",
          "output_type": "stream",
          "text": [
            "Question: 為甚麼無論男女嬰兒的胸部都會比較大?\n",
            "Golden Answer: 由於母體的激素造成的短暫情況\n",
            "Your   Answer: 母體的激素造成的短暫情況\n"
          ]
        },
        {
          "name": "stderr",
          "output_type": "stream",
          "text": [
            " 63%|██████▎   | 2582/4131 [09:39<06:30,  3.97it/s]"
          ]
        },
        {
          "name": "stdout",
          "output_type": "stream",
          "text": [
            "Question: 中國共產黨中央顧問委員會設置的目的是?\n",
            "Golden Answer: 為了解決中國共產黨內部的資深黨員安排問題\n",
            "Your   Answer: 解決中國共產黨內部的資深黨員安排問題\n",
            "Question: 延川縣在文化方面有何稱號?\n",
            "Golden Answer: 「全國現代民間藝術之鄉」\n",
            "Your   Answer: 全國現代民間藝術之鄉\n"
          ]
        },
        {
          "name": "stderr",
          "output_type": "stream",
          "text": [
            " 63%|██████▎   | 2585/4131 [09:40<05:35,  4.61it/s]"
          ]
        },
        {
          "name": "stdout",
          "output_type": "stream",
          "text": [
            "Question: 梁啟超以何筆名於《新民叢報》中發表作品?\n",
            "Golden Answer: 「飲冰子」\n",
            "Your   Answer: 飲冰子\n"
          ]
        },
        {
          "name": "stderr",
          "output_type": "stream",
          "text": [
            " 63%|██████▎   | 2592/4131 [09:41<05:08,  4.99it/s]"
          ]
        },
        {
          "name": "stdout",
          "output_type": "stream",
          "text": [
            "Question: 希拉蕊哪一事件之後，才改名為「希拉蕊·柯林頓」?\n",
            "Golden Answer: 比爾·柯林頓在1980年敗選\n",
            "Your   Answer: 比爾·柯林頓在1980年敗選後\n"
          ]
        },
        {
          "name": "stderr",
          "output_type": "stream",
          "text": [
            " 63%|██████▎   | 2602/4131 [09:44<05:24,  4.71it/s]"
          ]
        },
        {
          "name": "stdout",
          "output_type": "stream",
          "text": [
            "Question: 明帝為何把劉炟交給馬貴人撫養?\n",
            "Golden Answer: 馬貴人無子\n",
            "Your   Answer: 父親明帝寵愛的馬貴人無子\n"
          ]
        },
        {
          "name": "stderr",
          "output_type": "stream",
          "text": [
            " 63%|██████▎   | 2603/4131 [09:44<06:14,  4.08it/s]"
          ]
        },
        {
          "name": "stdout",
          "output_type": "stream",
          "text": [
            "Question: 第二十九屆夏季奧林匹克運動會，在上海、天津、瀋陽、秦皇島承辦什麼項目?\n",
            "Golden Answer: 足球\n",
            "Your   Answer: 足球項目\n"
          ]
        },
        {
          "name": "stderr",
          "output_type": "stream",
          "text": [
            " 63%|██████▎   | 2608/4131 [09:45<05:47,  4.39it/s]"
          ]
        },
        {
          "name": "stdout",
          "output_type": "stream",
          "text": [
            "Question: 梁啟超為何不主張用暴力推翻清朝，繼續推行君主立憲制?\n",
            "Golden Answer: 以保持社會平穩過渡，避免巨大動亂\n",
            "Your   Answer: 同情革命\n"
          ]
        },
        {
          "name": "stderr",
          "output_type": "stream",
          "text": [
            " 63%|██████▎   | 2614/4131 [09:47<06:09,  4.11it/s]"
          ]
        },
        {
          "name": "stdout",
          "output_type": "stream",
          "text": [
            "Question: 腓特烈對道恩在夜晚的行動一無所知的原因是因為當天清晨時的什麼狀況?\n",
            "Golden Answer: 一場大霧覆蓋戰場\n",
            "Your   Answer: 大霧\n",
            "[UNK] in prediction answer\n",
            "[UNK] 組 織\n",
            "Prediction range: [89, 92) in window 0-th paragraph\n",
            "Original answer\n",
            "Apache組織\n",
            "Question: Apache軟體基金會的成立和哪一群體有關?\n",
            "Golden Answer: 「Apache組織」\n",
            "Your   Answer: Apache組織\n"
          ]
        },
        {
          "name": "stderr",
          "output_type": "stream",
          "text": [
            " 63%|██████▎   | 2619/4131 [09:48<05:39,  4.45it/s]"
          ]
        },
        {
          "name": "stdout",
          "output_type": "stream",
          "text": [
            "Question: 番茄在哪一種定義中，不被視水果?\n",
            "Golden Answer: 植物學的定義\n",
            "Your   Answer: 植物學\n",
            "Question: 梁啟超為何向段祺瑞建議對德宣戰和中國出兵歐洲的問題?\n",
            "Golden Answer: 為調解府院之爭\n",
            "Your   Answer: 調解府院之爭\n"
          ]
        },
        {
          "name": "stderr",
          "output_type": "stream",
          "text": [
            " 64%|██████▍   | 2634/4131 [09:51<05:32,  4.51it/s]"
          ]
        },
        {
          "name": "stdout",
          "output_type": "stream",
          "text": [
            "Question: 庇護五世為何將伊莉莎白一世逐出教門?\n",
            "Golden Answer: 因伊莉莎白一世對英國公教會所施行的迫害與裂教行為\n",
            "Your   Answer: 伊莉莎白一世對英國公教會所施行的迫害與裂教行為\n"
          ]
        },
        {
          "name": "stderr",
          "output_type": "stream",
          "text": [
            " 64%|██████▍   | 2648/4131 [09:54<04:56,  5.00it/s]"
          ]
        },
        {
          "name": "stdout",
          "output_type": "stream",
          "text": [
            "Question: 哪一個地區的人到東南亞經商並且控制了當地的經濟?\n",
            "Golden Answer: 福建人\n",
            "Your   Answer: 福建\n"
          ]
        },
        {
          "name": "stderr",
          "output_type": "stream",
          "text": [
            " 64%|██████▍   | 2660/4131 [09:57<05:10,  4.73it/s]"
          ]
        },
        {
          "name": "stdout",
          "output_type": "stream",
          "text": [
            "Question: 董建華實施八萬五建屋計劃的目的是?\n",
            "Golden Answer: 希望壓抑樓價升幅\n",
            "Your   Answer: 壓抑樓價升幅\n"
          ]
        },
        {
          "name": "stderr",
          "output_type": "stream",
          "text": [
            " 64%|██████▍   | 2663/4131 [09:58<05:24,  4.53it/s]"
          ]
        },
        {
          "name": "stdout",
          "output_type": "stream",
          "text": [
            "[UNK] in prediction answer\n",
            "李 端 [UNK]\n",
            "Prediction range: [113, 116) in window 0-th paragraph\n",
            "Original answer\n",
            "李端棻\n"
          ]
        },
        {
          "name": "stderr",
          "output_type": "stream",
          "text": [
            " 65%|██████▍   | 2677/4131 [10:00<05:07,  4.73it/s]"
          ]
        },
        {
          "name": "stdout",
          "output_type": "stream",
          "text": [
            "Question: 丸都是當時哪一個國家的城市?\n",
            "Golden Answer: 高句麗\n",
            "Your   Answer: 前燕\n"
          ]
        },
        {
          "name": "stderr",
          "output_type": "stream",
          "text": [
            " 65%|██████▍   | 2683/4131 [10:02<05:36,  4.31it/s]"
          ]
        },
        {
          "name": "stdout",
          "output_type": "stream",
          "text": [
            "Question: 陝北石油案對於中國來說有何里程碑?\n",
            "Golden Answer: 「保護私有財產第一案」\n",
            "Your   Answer: 保護私有財產第一案\n"
          ]
        },
        {
          "name": "stderr",
          "output_type": "stream",
          "text": [
            " 65%|██████▍   | 2685/4131 [10:02<05:10,  4.65it/s]"
          ]
        },
        {
          "name": "stdout",
          "output_type": "stream",
          "text": [
            "Question: 塞爾維亞的國慶日是在哪一天?\n",
            "Golden Answer: 6月28日\n",
            "Your   Answer: 1914年6月28日\n"
          ]
        },
        {
          "name": "stderr",
          "output_type": "stream",
          "text": [
            " 65%|██████▌   | 2694/4131 [10:04<04:47,  5.01it/s]"
          ]
        },
        {
          "name": "stdout",
          "output_type": "stream",
          "text": [
            "Question: 在科學文獻的印刷出版時，學名之引用常以斜體表示，或是於正排體學名下如何標示?\n",
            "Golden Answer: 加底線表示\n",
            "Your   Answer: 加底線\n"
          ]
        },
        {
          "name": "stderr",
          "output_type": "stream",
          "text": [
            " 65%|██████▌   | 2698/4131 [10:05<04:45,  5.03it/s]"
          ]
        },
        {
          "name": "stdout",
          "output_type": "stream",
          "text": [
            "Question: 聯合國第四屆婦女大會在哪一個國家境內舉辦?\n",
            "Golden Answer: 中國\n",
            "Your   Answer: 美國\n"
          ]
        },
        {
          "name": "stderr",
          "output_type": "stream",
          "text": [
            " 66%|██████▌   | 2710/4131 [10:08<05:01,  4.71it/s]"
          ]
        },
        {
          "name": "stdout",
          "output_type": "stream",
          "text": [
            "Question: 《聯邦準備法案》創設的目的是?\n",
            "Golden Answer: 以避免再度發生類似1907年的銀行危機\n",
            "Your   Answer: 避免再度發生類似1907年的銀行危機\n"
          ]
        },
        {
          "name": "stderr",
          "output_type": "stream",
          "text": [
            " 66%|██████▌   | 2713/4131 [10:08<05:50,  4.05it/s]"
          ]
        },
        {
          "name": "stdout",
          "output_type": "stream",
          "text": [
            "Question: 為甚麼當時的大批知識分子被劃成右派成員?\n",
            "Golden Answer: 因為國內階級鬥爭形勢過於嚴重\n",
            "Your   Answer: 國內階級鬥爭形勢過於嚴重\n"
          ]
        },
        {
          "name": "stderr",
          "output_type": "stream",
          "text": [
            " 66%|██████▌   | 2729/4131 [10:12<05:42,  4.09it/s]"
          ]
        },
        {
          "name": "stdout",
          "output_type": "stream",
          "text": [
            "Question: 瑞士近衛隊成立500周年慶祝活動的嘉賓是?\n",
            "Golden Answer: 榮譽砲兵團\n",
            "Your   Answer: 榮譽砲兵團員\n"
          ]
        },
        {
          "name": "stderr",
          "output_type": "stream",
          "text": [
            " 66%|██████▌   | 2732/4131 [10:13<05:00,  4.66it/s]"
          ]
        },
        {
          "name": "stdout",
          "output_type": "stream",
          "text": [
            "Question: 設置林肯日的目的是?\n",
            "Golden Answer: 以此紀念共和黨最早的總統亞伯拉罕·林肯\n",
            "Your   Answer: 紀念共和黨最早的總統亞伯拉罕·林肯\n"
          ]
        },
        {
          "name": "stderr",
          "output_type": "stream",
          "text": [
            " 66%|██████▋   | 2740/4131 [10:14<05:14,  4.43it/s]"
          ]
        },
        {
          "name": "stdout",
          "output_type": "stream",
          "text": [
            "Question: 農民工的出現和什麼制度有關?\n",
            "Golden Answer: 中國戶籍制度\n",
            "Your   Answer: 戶籍制度\n"
          ]
        },
        {
          "name": "stderr",
          "output_type": "stream",
          "text": [
            " 66%|██████▋   | 2744/4131 [10:15<04:45,  4.86it/s]"
          ]
        },
        {
          "name": "stdout",
          "output_type": "stream",
          "text": [
            "Question: 蔡鍔為甚麼要經常與妓女小鳳仙尋歡作樂?\n",
            "Golden Answer: 以迷惑特務監視\n",
            "Your   Answer: 迷惑特務監視\n",
            "Question: 麥積山石窟有何稱號?\n",
            "Golden Answer: 「東方雕塑陳列館」\n",
            "Your   Answer: 東方雕塑陳列館\n"
          ]
        },
        {
          "name": "stderr",
          "output_type": "stream",
          "text": [
            " 67%|██████▋   | 2748/4131 [10:16<04:37,  4.99it/s]"
          ]
        },
        {
          "name": "stdout",
          "output_type": "stream",
          "text": [
            "Question: 御史台負責的職務是?\n",
            "Golden Answer: 負責督察\n",
            "Your   Answer: 督察\n"
          ]
        },
        {
          "name": "stderr",
          "output_type": "stream",
          "text": [
            " 67%|██████▋   | 2752/4131 [10:17<04:52,  4.71it/s]"
          ]
        },
        {
          "name": "stdout",
          "output_type": "stream",
          "text": [
            "Question: 甚麼軍事行動標誌著法國對英國戰爭的開始?\n",
            "Golden Answer: 對地中海上米諾卡島的進攻\n",
            "Your   Answer: 法國對地中海上米諾卡島的進攻\n",
            "[UNK] in prediction answer\n",
            "[UNK]. [UNK]. [UNK] 因\n",
            "Prediction range: [7, 13) in window 0-th paragraph\n",
            "Original answer\n",
            "W.V.蒯因\n"
          ]
        },
        {
          "name": "stderr",
          "output_type": "stream",
          "text": [
            " 67%|██████▋   | 2754/4131 [10:17<04:43,  4.86it/s]"
          ]
        },
        {
          "name": "stdout",
          "output_type": "stream",
          "text": [
            "Question: 誰生下耶穌?\n",
            "Golden Answer: 馬利亞\n",
            "Your   Answer: 童貞女馬利亞\n"
          ]
        },
        {
          "name": "stderr",
          "output_type": "stream",
          "text": [
            " 67%|██████▋   | 2763/4131 [10:19<04:35,  4.97it/s]"
          ]
        },
        {
          "name": "stdout",
          "output_type": "stream",
          "text": [
            "Question: 《清議報》的創辦漢哪一個組織的協助有關?\n",
            "Golden Answer: 興中會橫濱分會\n",
            "Your   Answer: 興中會\n"
          ]
        },
        {
          "name": "stderr",
          "output_type": "stream",
          "text": [
            " 67%|██████▋   | 2773/4131 [10:22<05:13,  4.34it/s]"
          ]
        },
        {
          "name": "stdout",
          "output_type": "stream",
          "text": [
            "Question: 聖多美普林西比在1469到1472年之間被哪國人發現?\n",
            "Golden Answer: 葡萄牙\n",
            "Your   Answer: 葡萄牙人\n"
          ]
        },
        {
          "name": "stderr",
          "output_type": "stream",
          "text": [
            " 67%|██████▋   | 2775/4131 [10:22<05:26,  4.16it/s]"
          ]
        },
        {
          "name": "stdout",
          "output_type": "stream",
          "text": [
            "Question: 梁啟超為何在光緒二十四年二月，在康廣仁陪同下進京?\n",
            "Golden Answer: 因康有為在北京辦保國會急需助手\n",
            "Your   Answer: 康有為在北京辦保國會急需助手\n"
          ]
        },
        {
          "name": "stderr",
          "output_type": "stream",
          "text": [
            " 67%|██████▋   | 2778/4131 [10:23<05:22,  4.19it/s]"
          ]
        },
        {
          "name": "stdout",
          "output_type": "stream",
          "text": [
            "Question: 墨西哥推翻獨裁統治是在何年?\n",
            "Golden Answer: 1910\n",
            "Your   Answer: 1910年\n"
          ]
        },
        {
          "name": "stderr",
          "output_type": "stream",
          "text": [
            " 67%|██████▋   | 2780/4131 [10:23<05:30,  4.09it/s]"
          ]
        },
        {
          "name": "stdout",
          "output_type": "stream",
          "text": [
            "Question: 火星在太陽系的八大行星中，是第幾小的行星?\n",
            "Golden Answer: 二\n",
            "Your   Answer: 第二\n",
            "Question: 共和黨設置「安全網絡」的目的是?\n",
            "Golden Answer: 以協助那些較貧窮的人口\n",
            "Your   Answer: 協助那些較貧窮的人口\n"
          ]
        },
        {
          "name": "stderr",
          "output_type": "stream",
          "text": [
            " 67%|██████▋   | 2786/4131 [10:25<04:34,  4.89it/s]"
          ]
        },
        {
          "name": "stdout",
          "output_type": "stream",
          "text": [
            "Question: 清廷為何在1662年下令沿海居民內陸遷徙50里?\n",
            "Golden Answer: 為防沿海居民接濟明朝遺臣鄭成功\n",
            "Your   Answer: 防沿海居民接濟明朝遺臣鄭成功\n"
          ]
        },
        {
          "name": "stderr",
          "output_type": "stream",
          "text": [
            " 68%|██████▊   | 2798/4131 [10:28<04:35,  4.84it/s]"
          ]
        },
        {
          "name": "stdout",
          "output_type": "stream",
          "text": [
            "Question: 軍旗的作用是?\n",
            "Golden Answer: 作為戰場識別的標誌\n",
            "Your   Answer: 戰場識別的標誌\n"
          ]
        },
        {
          "name": "stderr",
          "output_type": "stream",
          "text": [
            " 68%|██████▊   | 2808/4131 [10:30<04:29,  4.92it/s]"
          ]
        },
        {
          "name": "stdout",
          "output_type": "stream",
          "text": [
            "Question: 誰對《愛麗絲夢遊仙境》的評價是「有趣但令人不安」?\n",
            "Golden Answer: 托爾金\n",
            "Your   Answer: 路易斯·卡羅\n"
          ]
        },
        {
          "name": "stderr",
          "output_type": "stream",
          "text": [
            " 68%|██████▊   | 2814/4131 [10:31<04:58,  4.42it/s]"
          ]
        },
        {
          "name": "stdout",
          "output_type": "stream",
          "text": [
            "Question: 人類馴化山羊的歷史最早可以追溯至多久以前?\n",
            "Golden Answer: 至少10,000年前\n",
            "Your   Answer: 10,000年\n"
          ]
        },
        {
          "name": "stderr",
          "output_type": "stream",
          "text": [
            " 68%|██████▊   | 2819/4131 [10:32<04:26,  4.91it/s]"
          ]
        },
        {
          "name": "stdout",
          "output_type": "stream",
          "text": [
            "Question: 民主黨與「酒」之間的牽連指的是何事?\n",
            "Golden Answer: 民主黨與釀酒業和酒館業的利益\n",
            "Your   Answer: 爭取支持度\n"
          ]
        },
        {
          "name": "stderr",
          "output_type": "stream",
          "text": [
            " 68%|██████▊   | 2821/4131 [10:33<04:23,  4.97it/s]"
          ]
        },
        {
          "name": "stdout",
          "output_type": "stream",
          "text": [
            "Question: 王守仁在明武宗正德元年的時候，為甚麼要假裝自盡?\n",
            "Golden Answer: 為了躲避劉瑾派來的刺客\n",
            "Your   Answer: 躲避劉瑾派來的刺客\n"
          ]
        },
        {
          "name": "stderr",
          "output_type": "stream",
          "text": [
            " 68%|██████▊   | 2822/4131 [10:33<04:23,  4.97it/s]"
          ]
        },
        {
          "name": "stdout",
          "output_type": "stream",
          "text": [
            "Question: 全真教在元朝為甚麼得以壯大?\n",
            "Golden Answer: 因丘處機獲得可汗的尊信\n",
            "Your   Answer: 丘處機獲得可汗的尊信\n"
          ]
        },
        {
          "name": "stderr",
          "output_type": "stream",
          "text": [
            " 68%|██████▊   | 2824/4131 [10:33<04:55,  4.43it/s]"
          ]
        },
        {
          "name": "stdout",
          "output_type": "stream",
          "text": [
            "Question: 哪一個國家派轟炸機重創了日本的飛機工廠和機場?\n",
            "Golden Answer: 美國\n",
            "Your   Answer: 美軍\n"
          ]
        },
        {
          "name": "stderr",
          "output_type": "stream",
          "text": [
            " 68%|██████▊   | 2828/4131 [10:34<04:27,  4.86it/s]"
          ]
        },
        {
          "name": "stdout",
          "output_type": "stream",
          "text": [
            "Question: 中共的哪個行為被列入聯合國報告中?\n",
            "Golden Answer: 摘取法輪功學員器官的指控\n",
            "Your   Answer: 摘取法輪功學員器官\n"
          ]
        },
        {
          "name": "stderr",
          "output_type": "stream",
          "text": [
            " 69%|██████▊   | 2833/4131 [10:35<04:31,  4.79it/s]"
          ]
        },
        {
          "name": "stdout",
          "output_type": "stream",
          "text": [
            "Question: 中國白銀外流的原因和哪一場戰爭失利有關?\n",
            "Golden Answer: 鴉片戰爭\n",
            "Your   Answer: 第一次鴉片戰爭\n"
          ]
        },
        {
          "name": "stderr",
          "output_type": "stream",
          "text": [
            " 69%|██████▉   | 2841/4131 [10:37<04:17,  5.02it/s]"
          ]
        },
        {
          "name": "stdout",
          "output_type": "stream",
          "text": [
            "Question: 《中國共產黨章程》中的四項基本原則指的是遵循馬克斯列寧主義和毛澤東思想、人民民主專政、社會主義，還有哪一項原則?\n",
            "Golden Answer: 中國共產黨領導\n",
            "Your   Answer: 社會主義\n"
          ]
        },
        {
          "name": "stderr",
          "output_type": "stream",
          "text": [
            " 69%|██████▉   | 2843/4131 [10:37<04:16,  5.03it/s]"
          ]
        },
        {
          "name": "stdout",
          "output_type": "stream",
          "text": [
            "Question: 「共和黨」的名稱主要源自甚麼價值?\n",
            "Golden Answer: 共和主義價值\n",
            "Your   Answer: 共和主義\n"
          ]
        },
        {
          "name": "stderr",
          "output_type": "stream",
          "text": [
            " 69%|██████▉   | 2847/4131 [10:38<04:15,  5.03it/s]"
          ]
        },
        {
          "name": "stdout",
          "output_type": "stream",
          "text": [
            "Question: 貴州省的簡稱是?\n",
            "Golden Answer: 「黔」\n",
            "Your   Answer: 黔\n"
          ]
        },
        {
          "name": "stderr",
          "output_type": "stream",
          "text": [
            " 69%|██████▉   | 2862/4131 [10:42<05:06,  4.14it/s]"
          ]
        },
        {
          "name": "stdout",
          "output_type": "stream",
          "text": [
            "Question: 梅啟明在2013年為何被香港法院頒令破產?\n",
            "Golden Answer: 因為不能支付17.7萬元訟費\n",
            "Your   Answer: 不能支付17.7萬元訟費\n"
          ]
        },
        {
          "name": "stderr",
          "output_type": "stream",
          "text": [
            " 69%|██████▉   | 2870/4131 [10:43<04:17,  4.89it/s]"
          ]
        },
        {
          "name": "stdout",
          "output_type": "stream",
          "text": [
            "Question: 彼得三世為何在登基後立即與腓特烈結盟?\n",
            "Golden Answer: 彼得三世是腓特烈的狂熱崇拜者\n",
            "Your   Answer: 是腓特烈的狂熱崇拜者\n"
          ]
        },
        {
          "name": "stderr",
          "output_type": "stream",
          "text": [
            " 70%|██████▉   | 2877/4131 [10:45<04:18,  4.86it/s]"
          ]
        },
        {
          "name": "stdout",
          "output_type": "stream",
          "text": [
            "Question: 大多數共和黨人支持還是反對同性婚姻合法化?\n",
            "Golden Answer: 反對\n",
            "Your   Answer: 反對墮胎\n"
          ]
        },
        {
          "name": "stderr",
          "output_type": "stream",
          "text": [
            " 70%|███████   | 2898/4131 [10:49<04:12,  4.89it/s]"
          ]
        },
        {
          "name": "stdout",
          "output_type": "stream",
          "text": [
            "Question: 耶穌基督視同三位一體的－神／主的位格之一，稱為「聖子」或?\n",
            "Golden Answer: 上帝之子\n",
            "Your   Answer: 「上帝之子」\n"
          ]
        },
        {
          "name": "stderr",
          "output_type": "stream",
          "text": [
            " 70%|███████   | 2906/4131 [10:51<04:30,  4.53it/s]"
          ]
        },
        {
          "name": "stdout",
          "output_type": "stream",
          "text": [
            "Question: 舊金山灣境內哪一個地方是許多高科技公司的所在地?\n",
            "Golden Answer: 矽谷\n",
            "Your   Answer: 聖塔克拉拉谷\n"
          ]
        },
        {
          "name": "stderr",
          "output_type": "stream",
          "text": [
            " 71%|███████   | 2915/4131 [10:53<04:05,  4.96it/s]"
          ]
        },
        {
          "name": "stdout",
          "output_type": "stream",
          "text": [
            "Question: conatus指的是甚麼概念?\n",
            "Golden Answer: 「努力於維護自己的存有」\n",
            "Your   Answer: 努力於維護自己的存有\n"
          ]
        },
        {
          "name": "stderr",
          "output_type": "stream",
          "text": [
            " 71%|███████   | 2917/4131 [10:54<04:48,  4.21it/s]"
          ]
        },
        {
          "name": "stdout",
          "output_type": "stream",
          "text": [
            "Question: 大量中國共產黨黨員退黨和哪一篇社論有關?\n",
            "Golden Answer: 《九評共產黨》\n",
            "Your   Answer: 《九評》\n"
          ]
        },
        {
          "name": "stderr",
          "output_type": "stream",
          "text": [
            " 71%|███████   | 2920/4131 [10:55<04:48,  4.20it/s]"
          ]
        },
        {
          "name": "stdout",
          "output_type": "stream",
          "text": [
            "Question: 1887年，什麼俱樂部完成了第一部書面羽球運動規則?\n",
            "Golden Answer: 巴斯羽球\n",
            "Your   Answer: 巴斯羽球俱樂部\n"
          ]
        },
        {
          "name": "stderr",
          "output_type": "stream",
          "text": [
            " 71%|███████   | 2923/4131 [10:55<05:09,  3.91it/s]"
          ]
        },
        {
          "name": "stdout",
          "output_type": "stream",
          "text": [
            "Question: 歐洲面積第二大的國家是?\n",
            "Golden Answer: 烏克蘭\n",
            "Your   Answer: 俄國\n"
          ]
        },
        {
          "name": "stderr",
          "output_type": "stream",
          "text": [
            " 71%|███████   | 2931/4131 [10:57<04:55,  4.06it/s]"
          ]
        },
        {
          "name": "stdout",
          "output_type": "stream",
          "text": [
            "Question: 蒙古為甚麼要派探馬赤軍進駐漢地?\n",
            "Golden Answer: 為了防止華北的漢人世侯叛變\n",
            "Your   Answer: 防止華北的漢人世侯叛變\n"
          ]
        },
        {
          "name": "stderr",
          "output_type": "stream",
          "text": [
            " 71%|███████   | 2933/4131 [10:58<04:26,  4.50it/s]"
          ]
        },
        {
          "name": "stdout",
          "output_type": "stream",
          "text": [
            "[UNK] in prediction answer\n",
            "為 美 國 [UNK] 做 準 備\n",
            "Prediction range: [45, 52) in window 1-th paragraph\n",
            "Original answer\n",
            "為美國IPO做準備\n"
          ]
        },
        {
          "name": "stderr",
          "output_type": "stream",
          "text": [
            " 71%|███████   | 2937/4131 [10:59<05:10,  3.85it/s]"
          ]
        },
        {
          "name": "stdout",
          "output_type": "stream",
          "text": [
            "Question: 由於科技的飛速進步，下一代電腦總是在效能上能夠顯著地超過其前一代，這一現象有時被稱作?\n",
            "Golden Answer: 摩爾定律\n",
            "Your   Answer: 「摩爾定律」\n",
            "[UNK] in prediction answer\n",
            "拓 跋 [UNK]\n",
            "Prediction range: [43, 46) in window 0-th paragraph\n",
            "Original answer\n",
            "拓跋燾\n"
          ]
        },
        {
          "name": "stderr",
          "output_type": "stream",
          "text": [
            " 71%|███████   | 2940/4131 [10:59<04:43,  4.20it/s]"
          ]
        },
        {
          "name": "stdout",
          "output_type": "stream",
          "text": [
            "[UNK] in prediction answer\n",
            "[UNK] 公 司\n",
            "Prediction range: [235, 238) in window 0-th paragraph\n",
            "Original answer\n",
            "OmniTRAX公司\n"
          ]
        },
        {
          "name": "stderr",
          "output_type": "stream",
          "text": [
            " 71%|███████   | 2942/4131 [11:00<04:49,  4.10it/s]"
          ]
        },
        {
          "name": "stdout",
          "output_type": "stream",
          "text": [
            "Question: 牛頓為何沒有發表泰勒級數的原理?\n",
            "Golden Answer: 因為無窮小方法在當時仍然飽受爭議\n",
            "Your   Answer: 無窮小方法在當時仍然飽受爭議\n",
            "Question: 荷蘭為何拒絕英國的同盟邀約?\n",
            "Golden Answer: 因為荷蘭人希望保證自己完全的中立\n",
            "Your   Answer: 荷蘭人希望保證自己完全的中立\n"
          ]
        },
        {
          "name": "stderr",
          "output_type": "stream",
          "text": [
            " 71%|███████▏  | 2951/4131 [11:02<04:01,  4.89it/s]"
          ]
        },
        {
          "name": "stdout",
          "output_type": "stream",
          "text": [
            "Question: 哪一種因素造成生物數量增減周期的改變最突出?\n",
            "Golden Answer: 人類活動\n",
            "Your   Answer: 人類活動所帶來的地貌改變\n"
          ]
        },
        {
          "name": "stderr",
          "output_type": "stream",
          "text": [
            " 72%|███████▏  | 2965/4131 [11:05<03:54,  4.98it/s]"
          ]
        },
        {
          "name": "stdout",
          "output_type": "stream",
          "text": [
            "Question: 《中國立國大方針》一文的主要重點有二，除了提出一個共和政治的方案，另外一項重點是?\n",
            "Golden Answer: 對辛亥革命的意義作出充分肯定\n",
            "Your   Answer: 對辛亥革命\n"
          ]
        },
        {
          "name": "stderr",
          "output_type": "stream",
          "text": [
            " 72%|███████▏  | 2969/4131 [11:06<03:52,  5.01it/s]"
          ]
        },
        {
          "name": "stdout",
          "output_type": "stream",
          "text": [
            "Question: 在一國之中，實行兩種不同的軍政體制指的是十六國時期的什麼制度?\n",
            "Golden Answer: 異族分治制度\n",
            "Your   Answer: 胡漢分治制度\n"
          ]
        },
        {
          "name": "stderr",
          "output_type": "stream",
          "text": [
            " 72%|███████▏  | 2989/4131 [11:10<04:16,  4.45it/s]"
          ]
        },
        {
          "name": "stdout",
          "output_type": "stream",
          "text": [
            "Question: 狄托採取雙叉式策略的主要原因有二，除了為了爭取成為反法西斯同盟公認成員，對德國、義大利進行武裝作戰，另一項原因是?\n",
            "Golden Answer: 要在大戰結束時成為戰勝的政治力量\n",
            "Your   Answer: 義大利\n",
            "[UNK] in prediction answer\n",
            "減 少 所 得 稅 率 會 增 加 [UNK] 成 長\n",
            "Prediction range: [151, 163) in window 0-th paragraph\n",
            "Original answer\n",
            "減少所得稅率會增加GDP成長\n",
            "Question: 雷根經濟學的主要理論是?\n",
            "Golden Answer: 主張減少所得稅率會增加GDP成長，額外的成長也因此會替政府帶來更多額外的收入\n",
            "Your   Answer: 減少所得稅率會增加GDP成長\n"
          ]
        },
        {
          "name": "stderr",
          "output_type": "stream",
          "text": [
            " 72%|███████▏  | 2994/4131 [11:11<04:11,  4.51it/s]"
          ]
        },
        {
          "name": "stdout",
          "output_type": "stream",
          "text": [
            "Question: 美國最大獨立城市是哪一個市?\n",
            "Golden Answer: 巴爾的摩市\n",
            "Your   Answer: 巴爾的摩\n"
          ]
        },
        {
          "name": "stderr",
          "output_type": "stream",
          "text": [
            " 73%|███████▎  | 2996/4131 [11:11<04:28,  4.23it/s]"
          ]
        },
        {
          "name": "stdout",
          "output_type": "stream",
          "text": [
            "Question: 梁啟超在青年時期為何逃至日本?\n",
            "Golden Answer: 與老師康有為合作進行戊戌變法\n",
            "Your   Answer: 戊戌變法\n"
          ]
        },
        {
          "name": "stderr",
          "output_type": "stream",
          "text": [
            " 73%|███████▎  | 3008/4131 [11:14<03:59,  4.69it/s]"
          ]
        },
        {
          "name": "stdout",
          "output_type": "stream",
          "text": [
            "Question: 法國人為何要在1759年於布雷斯特和土倫集結艦隊?\n",
            "Golden Answer: 以準備計劃中對英國本土的入侵行動\n",
            "Your   Answer: 準備計劃中對英國本土的入侵行動\n"
          ]
        },
        {
          "name": "stderr",
          "output_type": "stream",
          "text": [
            " 73%|███████▎  | 3010/4131 [11:15<04:19,  4.32it/s]"
          ]
        },
        {
          "name": "stdout",
          "output_type": "stream",
          "text": [
            "Question: 福建籍人口原本是以銅鑼灣為中心居住，但是為甚麼後來逐漸向東移居?\n",
            "Golden Answer: 因為土地有限\n",
            "Your   Answer: 土地有限\n"
          ]
        },
        {
          "name": "stderr",
          "output_type": "stream",
          "text": [
            " 73%|███████▎  | 3013/4131 [11:15<04:14,  4.39it/s]"
          ]
        },
        {
          "name": "stdout",
          "output_type": "stream",
          "text": [
            "Question: 銅鑼灣天后廟附近居住的人以哪一個籍貫為主?\n",
            "Golden Answer: 福建籍\n",
            "Your   Answer: 閩籍\n"
          ]
        },
        {
          "name": "stderr",
          "output_type": "stream",
          "text": [
            " 73%|███████▎  | 3015/4131 [11:16<03:58,  4.69it/s]"
          ]
        },
        {
          "name": "stdout",
          "output_type": "stream",
          "text": [
            "Question: 鄧小平認為中國政府在香港駐軍有何作用?\n",
            "Golden Answer: 防止動亂的作用\n",
            "Your   Answer: 防止動亂\n"
          ]
        },
        {
          "name": "stderr",
          "output_type": "stream",
          "text": [
            " 73%|███████▎  | 3017/4131 [11:16<03:49,  4.86it/s]"
          ]
        },
        {
          "name": "stdout",
          "output_type": "stream",
          "text": [
            "Question: 「翰林風月三千首，吏部文章二百年。老去自憐心尚在，後來誰與子爭先。」這篇詩句是在形容誰?\n",
            "Golden Answer: 王安石\n",
            "Your   Answer: 歐陽修\n"
          ]
        },
        {
          "name": "stderr",
          "output_type": "stream",
          "text": [
            " 73%|███████▎  | 3020/4131 [11:17<04:04,  4.55it/s]"
          ]
        },
        {
          "name": "stdout",
          "output_type": "stream",
          "text": [
            "Question: 「淺降山水」指的是甚麼繪畫技法?\n",
            "Golden Answer: 先以水墨鉤勒皴染為基礎，加上以赭石為主色的淡彩山水畫\n",
            "Your   Answer: 水墨鉤勒皴染為基礎，加上以赭石為主色的淡彩山水畫\n"
          ]
        },
        {
          "name": "stderr",
          "output_type": "stream",
          "text": [
            " 73%|███████▎  | 3025/4131 [11:18<03:53,  4.74it/s]"
          ]
        },
        {
          "name": "stdout",
          "output_type": "stream",
          "text": [
            "Question: 誰從根本上改變了中央和諸藩的軍事力量對比?\n",
            "Golden Answer: 朱棣\n",
            "Your   Answer: 明宣宗\n"
          ]
        },
        {
          "name": "stderr",
          "output_type": "stream",
          "text": [
            " 73%|███████▎  | 3027/4131 [11:18<04:14,  4.33it/s]"
          ]
        },
        {
          "name": "stdout",
          "output_type": "stream",
          "text": [
            "Question: 泰國何時開始有人居住?\n",
            "Golden Answer: 4萬年前\n",
            "Your   Answer: 大約4萬年前\n"
          ]
        },
        {
          "name": "stderr",
          "output_type": "stream",
          "text": [
            " 74%|███████▍  | 3053/4131 [11:24<04:42,  3.82it/s]"
          ]
        },
        {
          "name": "stdout",
          "output_type": "stream",
          "text": [
            "Question: 歐洲聯盟正式官方語言有幾種?\n",
            "Golden Answer: 24\n",
            "Your   Answer: 24種\n"
          ]
        },
        {
          "name": "stderr",
          "output_type": "stream",
          "text": [
            " 74%|███████▍  | 3075/4131 [11:29<03:37,  4.86it/s]"
          ]
        },
        {
          "name": "stdout",
          "output_type": "stream",
          "text": [
            "Question: 高考制度在甚麼期間被中斷?\n",
            "Golden Answer: 文化大革命期間\n",
            "Your   Answer: 文化大革命\n"
          ]
        },
        {
          "name": "stderr",
          "output_type": "stream",
          "text": [
            " 74%|███████▍  | 3077/4131 [11:30<04:00,  4.38it/s]"
          ]
        },
        {
          "name": "stdout",
          "output_type": "stream",
          "text": [
            "Question: 「保種」一詞所代表的意義是?\n",
            "Golden Answer: 「保人民種類之自立」\n",
            "Your   Answer: 保人民種類之自立\n"
          ]
        },
        {
          "name": "stderr",
          "output_type": "stream",
          "text": [
            " 75%|███████▍  | 3078/4131 [11:30<03:51,  4.55it/s]"
          ]
        },
        {
          "name": "stdout",
          "output_type": "stream",
          "text": [
            "Question: 道安對於寺院制度有何貢獻?\n",
            "Golden Answer: 為僧團制定法規\n",
            "Your   Answer: 奠定基礎\n"
          ]
        },
        {
          "name": "stderr",
          "output_type": "stream",
          "text": [
            " 75%|███████▍  | 3086/4131 [11:32<03:38,  4.79it/s]"
          ]
        },
        {
          "name": "stdout",
          "output_type": "stream",
          "text": [
            "Question: 沖繩都市單軌電車在2003年開通單軌鐵路的目的是?\n",
            "Golden Answer: 為解決嚴重的交通堵塞問題\n",
            "Your   Answer: 解決嚴重的交通堵塞問題\n"
          ]
        },
        {
          "name": "stderr",
          "output_type": "stream",
          "text": [
            " 75%|███████▍  | 3090/4131 [11:33<03:42,  4.67it/s]"
          ]
        },
        {
          "name": "stdout",
          "output_type": "stream",
          "text": [
            "Question: 央廣高層計畫以哪一理由逐步全面取消短波廣播業務?\n",
            "Golden Answer: 「重整分台發射台土地設施」\n",
            "Your   Answer: 重整分台發射台土地設施\n"
          ]
        },
        {
          "name": "stderr",
          "output_type": "stream",
          "text": [
            " 75%|███████▌  | 3099/4131 [11:35<03:27,  4.97it/s]"
          ]
        },
        {
          "name": "stdout",
          "output_type": "stream",
          "text": [
            "Question: 倫敦為何在19世紀中能夠擴張到前所未有的規模?\n",
            "Golden Answer: 由於鐵路和倫敦地鐵的到來\n",
            "Your   Answer: 鐵路和倫敦地鐵的到來\n"
          ]
        },
        {
          "name": "stderr",
          "output_type": "stream",
          "text": [
            " 75%|███████▌  | 3105/4131 [11:36<03:50,  4.45it/s]"
          ]
        },
        {
          "name": "stdout",
          "output_type": "stream",
          "text": [
            "[UNK] in prediction answer\n",
            "[UNK]\n",
            "Prediction range: [382, 383) in window 1-th paragraph\n",
            "Original answer\n",
            "MSDN\n"
          ]
        },
        {
          "name": "stderr",
          "output_type": "stream",
          "text": [
            " 76%|███████▌  | 3125/4131 [11:40<03:20,  5.01it/s]"
          ]
        },
        {
          "name": "stdout",
          "output_type": "stream",
          "text": [
            "Question: 7月15日汪精衛武漢政府宣布反共，與哪個政府合流?\n",
            "Golden Answer: 南京\n",
            "Your   Answer: 南京政府\n"
          ]
        },
        {
          "name": "stderr",
          "output_type": "stream",
          "text": [
            " 76%|███████▌  | 3140/4131 [11:43<02:43,  6.07it/s]"
          ]
        },
        {
          "name": "stdout",
          "output_type": "stream",
          "text": [
            "Question: 泰國為了奪回之前所失去的領土而於1940年10月時發起了哪一個戰爭?\n",
            "Golden Answer: 泰法戰爭\n",
            "Your   Answer: 態法戰爭\n"
          ]
        },
        {
          "name": "stderr",
          "output_type": "stream",
          "text": [
            " 76%|███████▌  | 3144/4131 [11:44<03:08,  5.24it/s]"
          ]
        },
        {
          "name": "stdout",
          "output_type": "stream",
          "text": [
            "Question: 美國西岸第二大的都會區為哪一個地區?\n",
            "Golden Answer: 舊金山灣區\n",
            "Your   Answer: 洛杉磯\n"
          ]
        },
        {
          "name": "stderr",
          "output_type": "stream",
          "text": [
            " 76%|███████▋  | 3153/4131 [11:46<03:13,  5.04it/s]"
          ]
        },
        {
          "name": "stdout",
          "output_type": "stream",
          "text": [
            "Question: 永安公司是由郭樂以及哪一個人在香港創辦的?\n",
            "Golden Answer: 郭泉\n",
            "Your   Answer: 勾勒\n"
          ]
        },
        {
          "name": "stderr",
          "output_type": "stream",
          "text": [
            " 76%|███████▋  | 3155/4131 [11:46<03:14,  5.03it/s]"
          ]
        },
        {
          "name": "stdout",
          "output_type": "stream",
          "text": [
            "Question: 上海境內的永安新廈是在什麼時候建立的?\n",
            "Golden Answer: 1933年\n",
            "Your   Answer: 1918年9月5日\n"
          ]
        },
        {
          "name": "stderr",
          "output_type": "stream",
          "text": [
            " 76%|███████▋  | 3159/4131 [11:47<03:03,  5.30it/s]"
          ]
        },
        {
          "name": "stdout",
          "output_type": "stream",
          "text": [
            "Question: 魁北克省最大城市叫什麼?\n",
            "Golden Answer: 蒙特婁\n",
            "Your   Answer: 蒙特雷\n"
          ]
        },
        {
          "name": "stderr",
          "output_type": "stream",
          "text": [
            " 77%|███████▋  | 3163/4131 [11:48<03:10,  5.09it/s]"
          ]
        },
        {
          "name": "stdout",
          "output_type": "stream",
          "text": [
            "Question: 歌詠田園生活的《牧歌》作品是哪一個人所做的?\n",
            "Golden Answer: 維吉爾\n",
            "Your   Answer: 吉爾\n"
          ]
        },
        {
          "name": "stderr",
          "output_type": "stream",
          "text": [
            " 77%|███████▋  | 3167/4131 [11:48<03:11,  5.04it/s]"
          ]
        },
        {
          "name": "stdout",
          "output_type": "stream",
          "text": [
            "Question: 腹足綱是動物中的第幾大綱?\n",
            "Golden Answer: 二\n",
            "Your   Answer: 昆蟲綱的第二\n"
          ]
        },
        {
          "name": "stderr",
          "output_type": "stream",
          "text": [
            " 77%|███████▋  | 3169/4131 [11:49<03:11,  5.04it/s]"
          ]
        },
        {
          "name": "stdout",
          "output_type": "stream",
          "text": [
            "[UNK] in prediction answer\n",
            "[UNK] [UNK]\n",
            "Prediction range: [31, 33) in window 0-th paragraph\n",
            "Original answer\n",
            "蛞蝓\n"
          ]
        },
        {
          "name": "stderr",
          "output_type": "stream",
          "text": [
            " 77%|███████▋  | 3173/4131 [11:50<03:10,  5.03it/s]"
          ]
        },
        {
          "name": "stdout",
          "output_type": "stream",
          "text": [
            "Question: 聖多美普林西比在1469到1472年之間被哪國人發現?\n",
            "Golden Answer: 葡萄牙\n",
            "Your   Answer: 葡萄牙人\n",
            "Question: 在16世紀中葉，聖多美普林西比變成了非洲最重要的什麼出口地?\n",
            "Golden Answer: 砂糖\n",
            "Your   Answer: 可可\n"
          ]
        },
        {
          "name": "stderr",
          "output_type": "stream",
          "text": [
            " 77%|███████▋  | 3176/4131 [11:50<03:10,  5.02it/s]"
          ]
        },
        {
          "name": "stdout",
          "output_type": "stream",
          "text": [
            "Question: 第二十九屆夏季奧林匹克運動會，在上海、天津、瀋陽、秦皇島承辦什麼項目?\n",
            "Golden Answer: 足球\n",
            "Your   Answer: 足球項目\n"
          ]
        },
        {
          "name": "stderr",
          "output_type": "stream",
          "text": [
            " 77%|███████▋  | 3177/4131 [11:50<03:09,  5.02it/s]"
          ]
        },
        {
          "name": "stdout",
          "output_type": "stream",
          "text": [
            "Question: 大不列顛及愛爾蘭聯合王國是兩國組成的，一國是大不列顛王國，另一個是?\n",
            "Golden Answer: 愛爾蘭王國\n",
            "Your   Answer: 邇來王國\n"
          ]
        },
        {
          "name": "stderr",
          "output_type": "stream",
          "text": [
            " 77%|███████▋  | 3185/4131 [11:52<03:10,  4.96it/s]"
          ]
        },
        {
          "name": "stdout",
          "output_type": "stream",
          "text": [
            "Question: 杜林連接了兩個國家，一個是義大利，另一個是?\n",
            "Golden Answer: 法國\n",
            "Your   Answer: 西班牙\n"
          ]
        },
        {
          "name": "stderr",
          "output_type": "stream",
          "text": [
            " 77%|███████▋  | 3189/4131 [11:53<03:08,  5.01it/s]"
          ]
        },
        {
          "name": "stdout",
          "output_type": "stream",
          "text": [
            "Question: 全世界地震的位置和強度是由哪一個美國的政府機構負責監測?\n",
            "Golden Answer: 美國地質調查局\n",
            "Your   Answer: 美國地震資訊中心\n"
          ]
        },
        {
          "name": "stderr",
          "output_type": "stream",
          "text": [
            " 77%|███████▋  | 3192/4131 [11:54<04:05,  3.82it/s]"
          ]
        },
        {
          "name": "stdout",
          "output_type": "stream",
          "text": [
            "Question: 中華民國空軍在1970年代之後的主要職責是?\n",
            "Golden Answer: 維護臺海空域制空權，以確保臺澎金馬地區的安全\n",
            "Your   Answer: 維護臺海空域制空權\n"
          ]
        },
        {
          "name": "stderr",
          "output_type": "stream",
          "text": [
            " 78%|███████▊  | 3206/4131 [11:56<02:19,  6.65it/s]"
          ]
        },
        {
          "name": "stdout",
          "output_type": "stream",
          "text": [
            "Question: 托爾金在大學時代專攻的科目是?\n",
            "Golden Answer: 希臘哲學\n",
            "Your   Answer: 古希臘哲學\n"
          ]
        },
        {
          "name": "stderr",
          "output_type": "stream",
          "text": [
            " 78%|███████▊  | 3212/4131 [11:57<02:53,  5.30it/s]"
          ]
        },
        {
          "name": "stdout",
          "output_type": "stream",
          "text": [
            "Question: 誰對《愛麗絲夢遊仙境》的評價是「有趣但令人不安」?\n",
            "Golden Answer: 托爾金\n",
            "Your   Answer: 路易斯塔羅\n",
            "Question: 為什麼梅布爾·托爾金的家人對她停止了經濟支持?\n",
            "Golden Answer: 於1900年皈依了羅馬天主教\n",
            "Your   Answer: 皈依了羅馬天主教\n"
          ]
        },
        {
          "name": "stderr",
          "output_type": "stream",
          "text": [
            " 78%|███████▊  | 3220/4131 [11:59<02:54,  5.23it/s]"
          ]
        },
        {
          "name": "stdout",
          "output_type": "stream",
          "text": [
            "Question: 耶穌生前的最後一段時期又被稱為什麼?\n",
            "Golden Answer: 受難\n",
            "Your   Answer: 十字架\n",
            "Question: 聖週被用來紀念甚麼?\n",
            "Golden Answer: 紀念耶穌受難\n",
            "Your   Answer: 耶穌\n"
          ]
        },
        {
          "name": "stderr",
          "output_type": "stream",
          "text": [
            " 78%|███████▊  | 3227/4131 [12:00<02:59,  5.05it/s]"
          ]
        },
        {
          "name": "stdout",
          "output_type": "stream",
          "text": [
            "Question: 中華人民共和國的公民結社自由，在哪一個法律中被保障?\n",
            "Golden Answer: 憲法\n",
            "Your   Answer: 憲法第35條\n"
          ]
        },
        {
          "name": "stderr",
          "output_type": "stream",
          "text": [
            " 78%|███████▊  | 3230/4131 [12:01<02:59,  5.03it/s]"
          ]
        },
        {
          "name": "stdout",
          "output_type": "stream",
          "text": [
            "Question: 三個種類的非政府組織在中國的活動比較自由，除了文化協會、體育，還有哪一種?\n",
            "Golden Answer: 職業\n",
            "Your   Answer: 職業體育\n"
          ]
        },
        {
          "name": "stderr",
          "output_type": "stream",
          "text": [
            " 78%|███████▊  | 3237/4131 [12:02<02:58,  5.02it/s]"
          ]
        },
        {
          "name": "stdout",
          "output_type": "stream",
          "text": [
            "Question: 在中國，執法人員對違法嫌疑人員進行執法時，常常沒收甚麼東西?\n",
            "Golden Answer: 被執法者的個人財產\n",
            "Your   Answer: 個人財產\n",
            "Question: 都市計畫拆遷中，拆遷費是由誰決定?\n",
            "Golden Answer: 政府\n",
            "Your   Answer: 城管\n"
          ]
        },
        {
          "name": "stderr",
          "output_type": "stream",
          "text": [
            " 79%|███████▊  | 3246/4131 [12:04<02:55,  5.03it/s]"
          ]
        },
        {
          "name": "stdout",
          "output_type": "stream",
          "text": [
            "Question: 「雙周一成」的「成」指的是誰?\n",
            "Golden Answer: 成龍\n",
            "Your   Answer: 周星馳\n"
          ]
        },
        {
          "name": "stderr",
          "output_type": "stream",
          "text": [
            " 79%|███████▊  | 3250/4131 [12:05<02:54,  5.03it/s]"
          ]
        },
        {
          "name": "stdout",
          "output_type": "stream",
          "text": [
            "Question: 一個直徑10公尺的隕石的威力相當於?\n",
            "Golden Answer: 投在廣島的原子彈威力\n",
            "Your   Answer: 原子彈\n"
          ]
        },
        {
          "name": "stderr",
          "output_type": "stream",
          "text": [
            " 79%|███████▉  | 3255/4131 [12:06<03:28,  4.19it/s]"
          ]
        },
        {
          "name": "stdout",
          "output_type": "stream",
          "text": [
            "Question: 青海省首任省主席是誰?\n",
            "Golden Answer: 孫連仲\n",
            "Your   Answer: 馬奇\n"
          ]
        },
        {
          "name": "stderr",
          "output_type": "stream",
          "text": [
            " 79%|███████▉  | 3257/4131 [12:07<03:10,  4.58it/s]"
          ]
        },
        {
          "name": "stdout",
          "output_type": "stream",
          "text": [
            "Question: 人類的出現，往往伴隨著甚麼的出現?\n",
            "Golden Answer: 原始社會\n",
            "Your   Answer: 國家\n",
            "Question: 哪一個指標代表原始社會的終結?\n",
            "Golden Answer: 國家的誕生\n",
            "Your   Answer: 國家的產生，國家的誕生\n"
          ]
        },
        {
          "name": "stderr",
          "output_type": "stream",
          "text": [
            " 79%|███████▉  | 3259/4131 [12:07<03:01,  4.79it/s]"
          ]
        },
        {
          "name": "stdout",
          "output_type": "stream",
          "text": [
            "Question: 舊石器時代的分工中，男性負責甚麼工作?\n",
            "Golden Answer: 狩獵\n",
            "Your   Answer: 製造簡單石器，通過狩獵和採集\n"
          ]
        },
        {
          "name": "stderr",
          "output_type": "stream",
          "text": [
            " 79%|███████▉  | 3263/4131 [12:08<02:54,  4.96it/s]"
          ]
        },
        {
          "name": "stdout",
          "output_type": "stream",
          "text": [
            "Question: 拿破崙做了甚麼事導致國內的天主教徒開始反對他?\n",
            "Golden Answer: 幫助薩丁尼亞\n",
            "Your   Answer: 幫助大丁尼亞\n"
          ]
        },
        {
          "name": "stderr",
          "output_type": "stream",
          "text": [
            " 79%|███████▉  | 3272/4131 [12:09<02:31,  5.65it/s]"
          ]
        },
        {
          "name": "stdout",
          "output_type": "stream",
          "text": [
            "Question: 以屈原為代表的戰國詩人所創作的文體是?\n",
            "Golden Answer: 楚辭\n",
            "Your   Answer: 楚辭，有時也被稱爲騷體楚辭體\n"
          ]
        },
        {
          "name": "stderr",
          "output_type": "stream",
          "text": [
            " 79%|███████▉  | 3279/4131 [12:11<02:47,  5.08it/s]"
          ]
        },
        {
          "name": "stdout",
          "output_type": "stream",
          "text": [
            "Question: 曼尼托巴的主要湖泊有三個，除了溫尼伯戈西斯湖、曼尼托巴湖，還有哪一個湖泊?\n",
            "Golden Answer: 溫尼伯湖\n",
            "Your   Answer: 博哥西斯湖\n"
          ]
        },
        {
          "name": "stderr",
          "output_type": "stream",
          "text": [
            " 80%|███████▉  | 3289/4131 [12:13<02:32,  5.54it/s]"
          ]
        },
        {
          "name": "stdout",
          "output_type": "stream",
          "text": [
            "Question: 1401年的時候，當時的中國正值哪一個朝代?\n",
            "Golden Answer: 明朝\n",
            "Your   Answer: 安土桃山時代\n"
          ]
        },
        {
          "name": "stderr",
          "output_type": "stream",
          "text": [
            " 80%|███████▉  | 3297/4131 [12:14<02:44,  5.06it/s]"
          ]
        },
        {
          "name": "stdout",
          "output_type": "stream",
          "text": [
            "Question: 自民黨三十八年的執政在哪一年結束?\n",
            "Golden Answer: 1993年\n",
            "Your   Answer: 1994年\n"
          ]
        },
        {
          "name": "stderr",
          "output_type": "stream",
          "text": [
            " 80%|████████  | 3308/4131 [12:16<02:43,  5.02it/s]"
          ]
        },
        {
          "name": "stdout",
          "output_type": "stream",
          "text": [
            "Question: 中央軍為何既不敢傷害朱棣，又難以活捉?\n",
            "Golden Answer: 怕戰後反攻倒算\n",
            "Your   Answer: 懼怕戰後反攻倒算\n"
          ]
        },
        {
          "name": "stderr",
          "output_type": "stream",
          "text": [
            " 81%|████████  | 3335/4131 [12:22<02:49,  4.71it/s]"
          ]
        },
        {
          "name": "stdout",
          "output_type": "stream",
          "text": [
            "Question: 「對北京的權力遊戲的分析上，時常被證明是正確的。」指的是哪一份報紙?\n",
            "Golden Answer: 大紀元\n",
            "Your   Answer: 紐約時報\n"
          ]
        },
        {
          "name": "stderr",
          "output_type": "stream",
          "text": [
            " 81%|████████  | 3339/4131 [12:23<02:40,  4.95it/s]"
          ]
        },
        {
          "name": "stdout",
          "output_type": "stream",
          "text": [
            "Question: 維拉是哪一個聯賽的創始成員之一?\n",
            "Golden Answer: 英格蘭頂級聯賽\n",
            "Your   Answer: 足球聯盟\n"
          ]
        },
        {
          "name": "stderr",
          "output_type": "stream",
          "text": [
            " 81%|████████  | 3341/4131 [12:23<02:38,  4.99it/s]"
          ]
        },
        {
          "name": "stdout",
          "output_type": "stream",
          "text": [
            "Question: 維拉目前在英超開季最差成績是在哪一球季時發生?\n",
            "Golden Answer: 2015-16年球季\n",
            "Your   Answer: 2015-16年\n"
          ]
        },
        {
          "name": "stderr",
          "output_type": "stream",
          "text": [
            " 81%|████████  | 3343/4131 [12:24<02:37,  5.01it/s]"
          ]
        },
        {
          "name": "stdout",
          "output_type": "stream",
          "text": [
            "Question: 世界摔角娛樂的節目主要目的是?\n",
            "Golden Answer: 娛樂\n",
            "Your   Answer: 純粹娛樂\n"
          ]
        },
        {
          "name": "stderr",
          "output_type": "stream",
          "text": [
            " 81%|████████  | 3348/4131 [12:25<02:35,  5.02it/s]"
          ]
        },
        {
          "name": "stdout",
          "output_type": "stream",
          "text": [
            "Question: 現今全世界最大的職業摔角公司是哪一間公司?\n",
            "Golden Answer: 世界摔角聯盟\n",
            "Your   Answer: 世界雙角聯盟\n"
          ]
        },
        {
          "name": "stderr",
          "output_type": "stream",
          "text": [
            " 81%|████████▏ | 3366/4131 [12:28<02:33,  5.00it/s]"
          ]
        },
        {
          "name": "stdout",
          "output_type": "stream",
          "text": [
            "Question: 臺灣境內流域最廣的河川是?\n",
            "Golden Answer: 高屏溪\n",
            "Your   Answer: 濁水溪\n"
          ]
        },
        {
          "name": "stderr",
          "output_type": "stream",
          "text": [
            " 82%|████████▏ | 3368/4131 [12:29<02:51,  4.44it/s]"
          ]
        },
        {
          "name": "stdout",
          "output_type": "stream",
          "text": [
            "Question: 大臺北地區因為是甚麼地形，所以導致熱能無法快速消散?\n",
            "Golden Answer: 盆地地形\n",
            "Your   Answer: 盆地\n"
          ]
        },
        {
          "name": "stderr",
          "output_type": "stream",
          "text": [
            " 82%|████████▏ | 3370/4131 [12:29<02:40,  4.73it/s]"
          ]
        },
        {
          "name": "stdout",
          "output_type": "stream",
          "text": [
            "Question: 傳統產業在1980年代被哪一種產業取代?\n",
            "Golden Answer: 技術密集型科技產業\n",
            "Your   Answer: 高科技產業\n"
          ]
        },
        {
          "name": "stderr",
          "output_type": "stream",
          "text": [
            " 82%|████████▏ | 3378/4131 [12:31<02:12,  5.68it/s]"
          ]
        },
        {
          "name": "stdout",
          "output_type": "stream",
          "text": [
            "Question: 臺灣的華人是在哪一個世紀從中國大陸遷入的?\n",
            "Golden Answer: 17世紀\n",
            "Your   Answer: 七世紀\n"
          ]
        },
        {
          "name": "stderr",
          "output_type": "stream",
          "text": [
            " 82%|████████▏ | 3383/4131 [12:32<02:26,  5.12it/s]"
          ]
        },
        {
          "name": "stdout",
          "output_type": "stream",
          "text": [
            "Question: 司馬中原是以哪一種文學出名的?\n",
            "Golden Answer: 反共文學\n",
            "Your   Answer: 反共懷鄉文學\n"
          ]
        },
        {
          "name": "stderr",
          "output_type": "stream",
          "text": [
            " 82%|████████▏ | 3390/4131 [12:33<01:51,  6.66it/s]"
          ]
        },
        {
          "name": "stdout",
          "output_type": "stream",
          "text": [
            "Question: 美國國家環境保護局的成立宗旨有兩項，一項是保護人類健康不受環境危害影響，另一項是?\n",
            "Golden Answer: 負責維護自然環境\n",
            "Your   Answer: 維護自然環境\n"
          ]
        },
        {
          "name": "stderr",
          "output_type": "stream",
          "text": [
            " 82%|████████▏ | 3392/4131 [12:33<01:54,  6.44it/s]"
          ]
        },
        {
          "name": "stdout",
          "output_type": "stream",
          "text": [
            "Question: 從事或贊助環境研究及環保項目是哪一個機構的職責?\n",
            "Golden Answer: 環保局\n",
            "Your   Answer: 美國國家環境保護局\n"
          ]
        },
        {
          "name": "stderr",
          "output_type": "stream",
          "text": [
            " 82%|████████▏ | 3396/4131 [12:34<02:18,  5.30it/s]"
          ]
        },
        {
          "name": "stdout",
          "output_type": "stream",
          "text": [
            "Question: 蒸汽渦輪發動機被運用於兩種發電方法，一種是火力發電，另一種是?\n",
            "Golden Answer: 核能發電\n",
            "Your   Answer: 核能發電機\n"
          ]
        },
        {
          "name": "stderr",
          "output_type": "stream",
          "text": [
            " 82%|████████▏ | 3399/4131 [12:35<02:02,  5.98it/s]"
          ]
        },
        {
          "name": "stdout",
          "output_type": "stream",
          "text": [
            "Question: 美國最大獨立城市是哪一個市?\n",
            "Golden Answer: 巴爾的摩市\n",
            "Your   Answer: 巴爾的摩\n"
          ]
        },
        {
          "name": "stderr",
          "output_type": "stream",
          "text": [
            " 82%|████████▏ | 3408/4131 [12:36<02:19,  5.17it/s]"
          ]
        },
        {
          "name": "stdout",
          "output_type": "stream",
          "text": [
            "Question: 狄拉克的哪一方法成為量子電動力學的基礎?\n",
            "Golden Answer: 二次量子化\n",
            "Your   Answer: 量子化學\n"
          ]
        },
        {
          "name": "stderr",
          "output_type": "stream",
          "text": [
            " 83%|████████▎ | 3420/4131 [12:39<03:01,  3.92it/s]"
          ]
        },
        {
          "name": "stdout",
          "output_type": "stream",
          "text": [
            "Question: 新古典派經濟學主要強調甚麼概念?\n",
            "Golden Answer: 以穩固的個體經濟學基礎發展總體經濟學\n",
            "Your   Answer: 個體經濟學\n"
          ]
        },
        {
          "name": "stderr",
          "output_type": "stream",
          "text": [
            " 83%|████████▎ | 3428/4131 [12:41<02:22,  4.94it/s]"
          ]
        },
        {
          "name": "stdout",
          "output_type": "stream",
          "text": [
            "Question: 蘇聯為甚麼能夠在二戰後，佔領南千島群島?\n",
            "Golden Answer: 根據第二次世界大戰結束後對日本領土的安排\n",
            "Your   Answer: 第二次世界大戰結束後對日本領土的安排\n"
          ]
        },
        {
          "name": "stderr",
          "output_type": "stream",
          "text": [
            " 83%|████████▎ | 3440/4131 [12:43<02:17,  5.03it/s]"
          ]
        },
        {
          "name": "stdout",
          "output_type": "stream",
          "text": [
            "Question: 番茄在哪一種定義中，不被視水果?\n",
            "Golden Answer: 植物學的定義\n",
            "Your   Answer: 植物學\n"
          ]
        },
        {
          "name": "stderr",
          "output_type": "stream",
          "text": [
            " 83%|████████▎ | 3445/4131 [12:44<02:16,  5.02it/s]"
          ]
        },
        {
          "name": "stdout",
          "output_type": "stream",
          "text": [
            "Question: 英國國會的下議院是如何產生?\n",
            "Golden Answer: 選舉產生\n",
            "Your   Answer: 選舉\n"
          ]
        },
        {
          "name": "stderr",
          "output_type": "stream",
          "text": [
            " 83%|████████▎ | 3446/4131 [12:44<02:41,  4.24it/s]"
          ]
        },
        {
          "name": "stdout",
          "output_type": "stream",
          "text": [
            "Question: 首相一職的發展是哪一個世紀議會最大的改變?\n",
            "Golden Answer: 18世紀\n",
            "Your   Answer: 1847\n"
          ]
        },
        {
          "name": "stderr",
          "output_type": "stream",
          "text": [
            " 84%|████████▎ | 3450/4131 [12:45<02:42,  4.20it/s]"
          ]
        },
        {
          "name": "stdout",
          "output_type": "stream",
          "text": [
            "Question: 《1959年終身爵位法令》改變了什麼狀態?\n",
            "Golden Answer: 上議院優勢性的世襲狀態\n",
            "Your   Answer: 世襲\n"
          ]
        },
        {
          "name": "stderr",
          "output_type": "stream",
          "text": [
            " 84%|████████▎ | 3454/4131 [12:46<02:21,  4.80it/s]"
          ]
        },
        {
          "name": "stdout",
          "output_type": "stream",
          "text": [
            "Question: 三個部分組成了國會，除了上議院、下議院，還有哪一個部分?\n",
            "Golden Answer: 國王\n",
            "Your   Answer: 上議院\n"
          ]
        },
        {
          "name": "stderr",
          "output_type": "stream",
          "text": [
            " 84%|████████▍ | 3469/4131 [12:49<02:11,  5.02it/s]"
          ]
        },
        {
          "name": "stdout",
          "output_type": "stream",
          "text": [
            "Question: 高考制度在甚麼期間被中斷?\n",
            "Golden Answer: 文化大革命期間\n",
            "Your   Answer: 文化大革命\n"
          ]
        },
        {
          "name": "stderr",
          "output_type": "stream",
          "text": [
            " 84%|████████▍ | 3476/4131 [12:51<02:20,  4.67it/s]"
          ]
        },
        {
          "name": "stdout",
          "output_type": "stream",
          "text": [
            "Question: 為甚麼其他中國少數民族在香港聚居的數字十分難掌握?\n",
            "Golden Answer: 香港人普遍很少提及本身的民族\n",
            "Your   Answer: 香港人普遍很少提及本身的民族，除非有人主動提出\n"
          ]
        },
        {
          "name": "stderr",
          "output_type": "stream",
          "text": [
            " 84%|████████▍ | 3479/4131 [12:51<02:12,  4.91it/s]"
          ]
        },
        {
          "name": "stdout",
          "output_type": "stream",
          "text": [
            "Question: 順風順水到尖沙咀，這句流行用語是來自甚麼身分的人?\n",
            "Golden Answer: 廣府偷渡客\n",
            "Your   Answer: 廣府人\n"
          ]
        },
        {
          "name": "stderr",
          "output_type": "stream",
          "text": [
            " 85%|████████▍ | 3502/4131 [12:56<02:46,  3.79it/s]"
          ]
        },
        {
          "name": "stdout",
          "output_type": "stream",
          "text": [
            "Question: 豌豆的莖葉有什麼用途?\n",
            "Golden Answer: 牲畜飼料\n",
            "Your   Answer: 作爲蔬菜烹製\n"
          ]
        },
        {
          "name": "stderr",
          "output_type": "stream",
          "text": [
            " 85%|████████▌ | 3517/4131 [13:00<02:42,  3.78it/s]"
          ]
        },
        {
          "name": "stdout",
          "output_type": "stream",
          "text": [
            "Question: 「爐邊談話」是哪一位美國總統的作為?\n",
            "Golden Answer: 1936年\n",
            "Your   Answer: 羅斯福\n"
          ]
        },
        {
          "name": "stderr",
          "output_type": "stream",
          "text": [
            " 85%|████████▌ | 3520/4131 [13:00<02:15,  4.51it/s]"
          ]
        },
        {
          "name": "stdout",
          "output_type": "stream",
          "text": [
            "Question: 聯邦委員會通常設置七名委員，而瑞士聯邦主席如何產生?\n",
            "Golden Answer: 由這七名委員輪流擔任\n",
            "Your   Answer: 國會選舉\n"
          ]
        },
        {
          "name": "stderr",
          "output_type": "stream",
          "text": [
            " 85%|████████▌ | 3525/4131 [13:01<02:02,  4.93it/s]"
          ]
        },
        {
          "name": "stdout",
          "output_type": "stream",
          "text": [
            "Question: 生肖是中國及東亞地區的一些民族用來代表年份的幾種動物?\n",
            "Golden Answer: 十二\n",
            "Your   Answer: 12種\n"
          ]
        },
        {
          "name": "stderr",
          "output_type": "stream",
          "text": [
            " 85%|████████▌ | 3530/4131 [13:02<01:59,  5.02it/s]"
          ]
        },
        {
          "name": "stdout",
          "output_type": "stream",
          "text": [
            "Question: 科學家在哪一年發現脫氧核糖核酸結構?\n",
            "Golden Answer: 1953年\n",
            "Your   Answer: 11953年\n"
          ]
        },
        {
          "name": "stderr",
          "output_type": "stream",
          "text": [
            " 86%|████████▌ | 3545/4131 [13:06<01:57,  4.97it/s]"
          ]
        },
        {
          "name": "stdout",
          "output_type": "stream",
          "text": [
            "Question: 華南工學院在1958年分裂出一個新的學院，此處的新的學院指的是?\n",
            "Golden Answer: 華南化工學院\n",
            "Your   Answer: 電信工程系\n"
          ]
        },
        {
          "name": "stderr",
          "output_type": "stream",
          "text": [
            " 86%|████████▌ | 3549/4131 [13:07<01:56,  5.01it/s]"
          ]
        },
        {
          "name": "stdout",
          "output_type": "stream",
          "text": [
            "Question: 歐馬利為何要讓自己的球場提議顯得不現實?\n",
            "Golden Answer: 以強化自己是被紐約政治人物趕走的主張\n",
            "Your   Answer: 強化自己是被紐約政治人物趕走的主張\n"
          ]
        },
        {
          "name": "stderr",
          "output_type": "stream",
          "text": [
            " 86%|████████▌ | 3557/4131 [13:08<01:49,  5.23it/s]"
          ]
        },
        {
          "name": "stdout",
          "output_type": "stream",
          "text": [
            "Question: 在2009年的國家聯盟冠軍賽中，最後獲得勝利的是哪一支球隊?\n",
            "Golden Answer: 費城人\n",
            "Your   Answer: 道奇\n"
          ]
        },
        {
          "name": "stderr",
          "output_type": "stream",
          "text": [
            " 86%|████████▋ | 3564/4131 [13:10<02:16,  4.14it/s]"
          ]
        },
        {
          "name": "stdout",
          "output_type": "stream",
          "text": [
            "Question: 紐約巨人隊在哪一年贏得了國家聯盟冠軍?\n",
            "Golden Answer: 1951年\n",
            "Your   Answer: 1953年\n"
          ]
        },
        {
          "name": "stderr",
          "output_type": "stream",
          "text": [
            " 86%|████████▋ | 3572/4131 [13:11<01:52,  4.96it/s]"
          ]
        },
        {
          "name": "stdout",
          "output_type": "stream",
          "text": [
            "Question: 「沒有菸抽的日子」這首歌的作詞人是誰?\n",
            "Golden Answer: 王丹\n",
            "Your   Answer: 王丹萍\n"
          ]
        },
        {
          "name": "stderr",
          "output_type": "stream",
          "text": [
            " 87%|████████▋ | 3581/4131 [13:13<01:49,  5.03it/s]"
          ]
        },
        {
          "name": "stdout",
          "output_type": "stream",
          "text": [
            "Question: 發元音時，氣流從人體的哪個部位通過聲門衝擊聲帶?\n",
            "Golden Answer: 肺\n",
            "Your   Answer: 肺部\n"
          ]
        },
        {
          "name": "stderr",
          "output_type": "stream",
          "text": [
            " 87%|████████▋ | 3587/4131 [13:15<02:12,  4.09it/s]"
          ]
        },
        {
          "name": "stdout",
          "output_type": "stream",
          "text": [
            "Question: 元文宗指的是誰?\n",
            "Golden Answer: 圖帖睦爾\n",
            "Your   Answer: 泰定帝\n"
          ]
        },
        {
          "name": "stderr",
          "output_type": "stream",
          "text": [
            " 87%|████████▋ | 3593/4131 [13:16<01:58,  4.56it/s]"
          ]
        },
        {
          "name": "stdout",
          "output_type": "stream",
          "text": [
            "Question: 1350年元廷下令變更鈔法，此舉造成甚麼影響?\n",
            "Golden Answer: 導致物價迅速上漲\n",
            "Your   Answer: 物價迅速上漲\n",
            "Question: 何人過世之後，蒙古帝國開始分裂?\n",
            "Golden Answer: 蒙哥\n",
            "Your   Answer: 忽必烈\n"
          ]
        },
        {
          "name": "stderr",
          "output_type": "stream",
          "text": [
            " 87%|████████▋ | 3596/4131 [13:17<01:50,  4.85it/s]"
          ]
        },
        {
          "name": "stdout",
          "output_type": "stream",
          "text": [
            "Question: 「真命皇帝和順萬夷之寶」是何人賜與伊兒汗國君主的漢文印璽?\n",
            "Golden Answer: 元成宗\n",
            "Your   Answer: 袁承宗\n"
          ]
        },
        {
          "name": "stderr",
          "output_type": "stream",
          "text": [
            " 87%|████████▋ | 3597/4131 [13:17<02:08,  4.16it/s]"
          ]
        },
        {
          "name": "stdout",
          "output_type": "stream",
          "text": [
            "Question: 「東盡遼左西極流沙，北逾陰山南越海表，漢唐極盛之時不及也」指的是哪一時期的蒙古帝國疆域?\n",
            "Golden Answer: 元武宗時期\n",
            "Your   Answer: 元朝\n"
          ]
        },
        {
          "name": "stderr",
          "output_type": "stream",
          "text": [
            " 87%|████████▋ | 3602/4131 [13:18<01:53,  4.66it/s]"
          ]
        },
        {
          "name": "stdout",
          "output_type": "stream",
          "text": [
            "Question: 耶律楚材為何建議保留漢人的農業生產?\n",
            "Golden Answer: 以提供財政上的收入來源\n",
            "Your   Answer: 提供財政上的收入來源\n"
          ]
        },
        {
          "name": "stderr",
          "output_type": "stream",
          "text": [
            " 87%|████████▋ | 3605/4131 [13:19<01:47,  4.90it/s]"
          ]
        },
        {
          "name": "stdout",
          "output_type": "stream",
          "text": [
            "Question: 青花瓷是出自中國的哪一個朝代?\n",
            "Golden Answer: 元代\n",
            "Your   Answer: 元朝\n"
          ]
        },
        {
          "name": "stderr",
          "output_type": "stream",
          "text": [
            " 87%|████████▋ | 3609/4131 [13:20<01:44,  4.99it/s]"
          ]
        },
        {
          "name": "stdout",
          "output_type": "stream",
          "text": [
            "Question: 《三國演義》屬於哪一種文學類型?\n",
            "Golden Answer: 長篇小說\n",
            "Your   Answer: 敘事文學\n",
            "Question: 為什麼元代有一些不法之徒投機為僧?\n",
            "Golden Answer: 元朝僧人有免稅免役特權\n",
            "Your   Answer: 有免稅免役特權\n"
          ]
        },
        {
          "name": "stderr",
          "output_type": "stream",
          "text": [
            " 88%|████████▊ | 3617/4131 [13:21<01:42,  5.03it/s]"
          ]
        },
        {
          "name": "stdout",
          "output_type": "stream",
          "text": [
            "Question: 圭表是哪一種工具?\n",
            "Golden Answer: 天文儀器\n",
            "Your   Answer: 算盤\n"
          ]
        },
        {
          "name": "stderr",
          "output_type": "stream",
          "text": [
            " 88%|████████▊ | 3622/4131 [13:22<01:41,  5.03it/s]"
          ]
        },
        {
          "name": "stdout",
          "output_type": "stream",
          "text": [
            "Question: 奈及利亞的人口中，從事什麼行業的人口比例最高?\n",
            "Golden Answer: 農業生產\n",
            "Your   Answer: 農業\n"
          ]
        },
        {
          "name": "stderr",
          "output_type": "stream",
          "text": [
            " 88%|████████▊ | 3643/4131 [13:26<01:37,  5.02it/s]"
          ]
        },
        {
          "name": "stdout",
          "output_type": "stream",
          "text": [
            "Question: 「在民主基礎上的集中，在集中指導下的民主，只有這個制度，才既能表現廣泛的民主，使各級人民代表大會有高度的權力。」這是誰對於民主集中制的觀點?\n",
            "Golden Answer: 毛澤東\n",
            "Your   Answer: 人民代表大會制度\n"
          ]
        },
        {
          "name": "stderr",
          "output_type": "stream",
          "text": [
            " 88%|████████▊ | 3652/4131 [13:28<01:35,  5.03it/s]"
          ]
        },
        {
          "name": "stdout",
          "output_type": "stream",
          "text": [
            "Question: 中央政府一級國家機關的中國共產黨黨組織主要的職責有兩項，除了負責審批所屬單位幹部的任免資格之外，另一項職責是?\n",
            "Golden Answer: 負責管理幹部\n",
            "Your   Answer: 管理幹部\n"
          ]
        },
        {
          "name": "stderr",
          "output_type": "stream",
          "text": [
            " 88%|████████▊ | 3654/4131 [13:28<01:34,  5.03it/s]"
          ]
        },
        {
          "name": "stdout",
          "output_type": "stream",
          "text": [
            "Question: 為甚麼渡渡鳥必須在潮濕季節儲存大量脂肪?\n",
            "Golden Answer: 以抵抗乾燥季節的食物不足\n",
            "Your   Answer: 抵抗乾燥季節的食物不足\n"
          ]
        },
        {
          "name": "stderr",
          "output_type": "stream",
          "text": [
            " 89%|████████▊ | 3656/4131 [13:29<01:21,  5.86it/s]"
          ]
        },
        {
          "name": "stdout",
          "output_type": "stream",
          "text": [
            "Question: 雲南與幾個國家相鄰?\n",
            "Golden Answer: 3\n",
            "Your   Answer: 三個\n"
          ]
        },
        {
          "name": "stderr",
          "output_type": "stream",
          "text": [
            " 89%|████████▊ | 3659/4131 [13:29<01:29,  5.28it/s]"
          ]
        },
        {
          "name": "stdout",
          "output_type": "stream",
          "text": [
            "Question: 對外開放「香江衛士－2015C」聯合演習的目的是?\n",
            "Golden Answer: 增強了香港各界對駐軍的理解和信任\n",
            "Your   Answer: 全面展示了駐軍形象\n"
          ]
        },
        {
          "name": "stderr",
          "output_type": "stream",
          "text": [
            " 89%|████████▉ | 3671/4131 [13:31<01:18,  5.86it/s]"
          ]
        },
        {
          "name": "stdout",
          "output_type": "stream",
          "text": [
            "Question: 「允許東印度公司在印度建立貿易據點，以此作為從歐洲運輸商品過來的報答。」這是哪一年英王詹姆士一世與莫臥兒簽訂的通商條約之內容?\n",
            "Golden Answer: 1615年\n",
            "Your   Answer: 通商條約\n"
          ]
        },
        {
          "name": "stderr",
          "output_type": "stream",
          "text": [
            " 89%|████████▉ | 3674/4131 [13:32<01:20,  5.70it/s]"
          ]
        },
        {
          "name": "stdout",
          "output_type": "stream",
          "text": [
            "Question: 鄧小平理論和中華人民共和國在80年代的哪一項政策有關?\n",
            "Golden Answer: 改革開放政策\n",
            "Your   Answer: 改革開放\n"
          ]
        },
        {
          "name": "stderr",
          "output_type": "stream",
          "text": [
            " 90%|████████▉ | 3703/4131 [13:37<01:40,  4.24it/s]"
          ]
        },
        {
          "name": "stdout",
          "output_type": "stream",
          "text": [
            "Question: 日本在飛鳥時代的時候，只有哪一種身分的人可以被立為皇后?\n",
            "Golden Answer: 皇族\n",
            "Your   Answer: 皇族出身者\n"
          ]
        },
        {
          "name": "stderr",
          "output_type": "stream",
          "text": [
            " 90%|█████████ | 3718/4131 [13:40<01:10,  5.90it/s]"
          ]
        },
        {
          "name": "stdout",
          "output_type": "stream",
          "text": [
            "[UNK] in prediction answer\n",
            "拓 跋 [UNK]\n",
            "Prediction range: [42, 45) in window 0-th paragraph\n",
            "Original answer\n",
            "拓跋燾\n"
          ]
        },
        {
          "name": "stderr",
          "output_type": "stream",
          "text": [
            " 90%|█████████ | 3720/4131 [13:41<01:15,  5.41it/s]"
          ]
        },
        {
          "name": "stdout",
          "output_type": "stream",
          "text": [
            "Question: 高車指的是哪一個國家?\n",
            "Golden Answer: 敕勒\n",
            "Your   Answer: 高車國\n"
          ]
        },
        {
          "name": "stderr",
          "output_type": "stream",
          "text": [
            " 90%|█████████ | 3730/4131 [13:43<01:19,  5.04it/s]"
          ]
        },
        {
          "name": "stdout",
          "output_type": "stream",
          "text": [
            "Question: 朝廷為何要降低邊疆民族的地位?\n",
            "Golden Answer: 以方便控制\n",
            "Your   Answer: 方便控制\n"
          ]
        },
        {
          "name": "stderr",
          "output_type": "stream",
          "text": [
            " 91%|█████████ | 3754/4131 [13:47<01:15,  5.02it/s]"
          ]
        },
        {
          "name": "stdout",
          "output_type": "stream",
          "text": [
            "Question: 後醍醐天皇派何人去平定足利尊氏?\n",
            "Golden Answer: 新田義貞\n",
            "Your   Answer: 田一真\n"
          ]
        },
        {
          "name": "stderr",
          "output_type": "stream",
          "text": [
            " 91%|█████████ | 3759/4131 [13:48<01:18,  4.73it/s]"
          ]
        },
        {
          "name": "stdout",
          "output_type": "stream",
          "text": [
            "Question: 喀喇汗國在哪一年的時候正式把于闐滅國?\n",
            "Golden Answer: 1004年\n",
            "Your   Answer: 1081年\n"
          ]
        },
        {
          "name": "stderr",
          "output_type": "stream",
          "text": [
            " 91%|█████████ | 3766/4131 [13:50<01:13,  4.99it/s]"
          ]
        },
        {
          "name": "stdout",
          "output_type": "stream",
          "text": [
            "Question: 中央廣播電臺的成立方式是?\n",
            "Golden Answer: 中華民國政府捐助成立\n",
            "Your   Answer: 中華民國政府捐助\n"
          ]
        },
        {
          "name": "stderr",
          "output_type": "stream",
          "text": [
            " 92%|█████████▏| 3784/4131 [13:53<01:09,  5.02it/s]"
          ]
        },
        {
          "name": "stdout",
          "output_type": "stream",
          "text": [
            "Question: 美國海岸防衛隊隸屬於哪一個美國的部隊?\n",
            "Golden Answer: 聯邦制服部隊\n",
            "Your   Answer: 美國海岸防衛隊，縮寫爲sc系，是美國軍隊\n"
          ]
        },
        {
          "name": "stderr",
          "output_type": "stream",
          "text": [
            " 92%|█████████▏| 3789/4131 [13:54<01:08,  5.02it/s]"
          ]
        },
        {
          "name": "stdout",
          "output_type": "stream",
          "text": [
            "Question: 阿基米德是哪一個時期的科學家?\n",
            "Golden Answer: 古希臘時期\n",
            "Your   Answer: 古希臘\n"
          ]
        },
        {
          "name": "stderr",
          "output_type": "stream",
          "text": [
            " 92%|█████████▏| 3795/4131 [13:55<01:06,  5.03it/s]"
          ]
        },
        {
          "name": "stdout",
          "output_type": "stream",
          "text": [
            "Question: 何人最先將微積分的理論發表?\n",
            "Golden Answer: 萊布尼茨\n",
            "Your   Answer: 牛頓\n"
          ]
        },
        {
          "name": "stderr",
          "output_type": "stream",
          "text": [
            " 92%|█████████▏| 3799/4131 [13:56<01:06,  5.03it/s]"
          ]
        },
        {
          "name": "stdout",
          "output_type": "stream",
          "text": [
            "Question: 志賀直哉認為哪一種文字是世界上最美的語言拼字?\n",
            "Golden Answer: 法語\n",
            "Your   Answer: 漢字\n"
          ]
        },
        {
          "name": "stderr",
          "output_type": "stream",
          "text": [
            " 92%|█████████▏| 3805/4131 [13:57<00:49,  6.64it/s]"
          ]
        },
        {
          "name": "stdout",
          "output_type": "stream",
          "text": [
            "Question: 筥崎宮放生會在每年的哪一個月份舉行?\n",
            "Golden Answer: 9月\n",
            "Your   Answer: 7月\n"
          ]
        },
        {
          "name": "stderr",
          "output_type": "stream",
          "text": [
            " 92%|█████████▏| 3809/4131 [13:58<00:46,  6.95it/s]"
          ]
        },
        {
          "name": "stdout",
          "output_type": "stream",
          "text": [
            "Question: 哪一個城市負責舉辦2001年的世界游泳錦標賽?\n",
            "Golden Answer: 福岡市\n",
            "Your   Answer: 福岡\n"
          ]
        },
        {
          "name": "stderr",
          "output_type": "stream",
          "text": [
            " 92%|█████████▏| 3813/4131 [13:59<00:59,  5.39it/s]"
          ]
        },
        {
          "name": "stdout",
          "output_type": "stream",
          "text": [
            "Question: 刀伊入寇發生於何年?\n",
            "Golden Answer: 1019年\n",
            "Your   Answer: 1281年\n"
          ]
        },
        {
          "name": "stderr",
          "output_type": "stream",
          "text": [
            " 92%|█████████▏| 3820/4131 [14:00<01:01,  5.05it/s]"
          ]
        },
        {
          "name": "stdout",
          "output_type": "stream",
          "text": [
            "Question: 威廉一世設置的諮詢會議有何功能?\n",
            "Golden Answer: 負責輔助國王政務\n",
            "Your   Answer: 輔助國王政務\n"
          ]
        },
        {
          "name": "stderr",
          "output_type": "stream",
          "text": [
            " 93%|█████████▎| 3823/4131 [14:01<01:01,  5.03it/s]"
          ]
        },
        {
          "name": "stdout",
          "output_type": "stream",
          "text": [
            "Question: 《賭徒的悲傷》是哪一種類型的文學作品?\n",
            "Golden Answer: 古印度詩歌\n",
            "Your   Answer: 詩歌\n",
            "Question: 為何有些國家的法令對於賭博有限制或禁止?\n",
            "Golden Answer: 賭博有社會成本\n",
            "Your   Answer: 一般認爲賭博有社會成本\n"
          ]
        },
        {
          "name": "stderr",
          "output_type": "stream",
          "text": [
            " 93%|█████████▎| 3826/4131 [14:01<01:00,  5.02it/s]"
          ]
        },
        {
          "name": "stdout",
          "output_type": "stream",
          "text": [
            "Question: 阿爾漢格爾斯克州除了東北地區外，其他地區可以被歸類為哪一種氣候?\n",
            "Golden Answer: 大陸性氣候\n",
            "Your   Answer: 亞寒帶氣候\n"
          ]
        },
        {
          "name": "stderr",
          "output_type": "stream",
          "text": [
            " 93%|█████████▎| 3829/4131 [14:02<01:00,  5.01it/s]"
          ]
        },
        {
          "name": "stdout",
          "output_type": "stream",
          "text": [
            "Question: 在1703年之後，對於荷蘭來說為甚麼阿爾漢格爾斯克的重要性降低了?\n",
            "Golden Answer: 聖彼得堡建成\n",
            "Your   Answer: 聖彼得堡建成之後\n"
          ]
        },
        {
          "name": "stderr",
          "output_type": "stream",
          "text": [
            " 93%|█████████▎| 3832/4131 [14:02<00:51,  5.85it/s]"
          ]
        },
        {
          "name": "stdout",
          "output_type": "stream",
          "text": [
            "Question: 透過測量兩種因素，科學家確定全部的月球隕石是在過去的2000萬年中被逐出的，這兩種因素除了隕石上的惰性氣體，還有一項是?\n",
            "Golden Answer: 隕石上的宇宙射線\n",
            "Your   Answer: 宇宙射線和惰性氣體\n",
            "Question: 元祐元年指的是西元的哪一年?\n",
            "Golden Answer: 1086年\n",
            "Your   Answer: 1021年\n"
          ]
        },
        {
          "name": "stderr",
          "output_type": "stream",
          "text": [
            " 93%|█████████▎| 3835/4131 [14:03<00:51,  5.70it/s]"
          ]
        },
        {
          "name": "stdout",
          "output_type": "stream",
          "text": [
            "Question: 「翰林風月三千首，吏部文章二百年。老去自憐心尚在，後來誰與子爭先。」這篇詩句是在形容誰?\n",
            "Golden Answer: 王安石\n",
            "Your   Answer: 歐陽修\n"
          ]
        },
        {
          "name": "stderr",
          "output_type": "stream",
          "text": [
            " 93%|█████████▎| 3838/4131 [14:03<00:55,  5.25it/s]"
          ]
        },
        {
          "name": "stdout",
          "output_type": "stream",
          "text": [
            "Question: 中國大陸在哪一事件之後，對王安石等改革家的評價趨向正面?\n",
            "Golden Answer: 改革開放\n",
            "Your   Answer: 文革\n"
          ]
        },
        {
          "name": "stderr",
          "output_type": "stream",
          "text": [
            " 94%|█████████▎| 3868/4131 [14:09<00:52,  5.04it/s]"
          ]
        },
        {
          "name": "stdout",
          "output_type": "stream",
          "text": [
            "Question: 戈巴契夫終止與美國軍備競賽的目的是?\n",
            "Golden Answer: 試圖以此挽救蘇聯的共產主義\n",
            "Your   Answer: 挽救蘇聯的共產主義\n"
          ]
        },
        {
          "name": "stderr",
          "output_type": "stream",
          "text": [
            " 94%|█████████▎| 3871/4131 [14:10<00:51,  5.03it/s]"
          ]
        },
        {
          "name": "stdout",
          "output_type": "stream",
          "text": [
            "Question: 比爾·柯林頓是隸屬於哪一個政黨的美國總統?\n",
            "Golden Answer: 民主黨\n",
            "Your   Answer: 共和黨\n"
          ]
        },
        {
          "name": "stderr",
          "output_type": "stream",
          "text": [
            " 94%|█████████▍| 3874/4131 [14:10<00:51,  5.03it/s]"
          ]
        },
        {
          "name": "stdout",
          "output_type": "stream",
          "text": [
            "Question: 「共和黨」的名稱主要源自甚麼價值?\n",
            "Golden Answer: 共和主義價值\n",
            "Your   Answer: 共和主義\n"
          ]
        },
        {
          "name": "stderr",
          "output_type": "stream",
          "text": [
            " 94%|█████████▍| 3881/4131 [14:12<00:49,  5.02it/s]"
          ]
        },
        {
          "name": "stdout",
          "output_type": "stream",
          "text": [
            "Question: 共和黨的溫和派主張改革移民政策的目的是?\n",
            "Golden Answer: 以吸納更多少數族裔\n",
            "Your   Answer: 吸納更多少數族裔\n"
          ]
        },
        {
          "name": "stderr",
          "output_type": "stream",
          "text": [
            " 94%|█████████▍| 3889/4131 [14:13<00:48,  5.03it/s]"
          ]
        },
        {
          "name": "stdout",
          "output_type": "stream",
          "text": [
            "Question: 激進派共和黨人在1866年的國會選舉後，為何對南方施加了許多苛刻的法案?\n",
            "Golden Answer: 以報復南方的分離\n",
            "Your   Answer: 報復南方的分離\n"
          ]
        },
        {
          "name": "stderr",
          "output_type": "stream",
          "text": [
            " 94%|█████████▍| 3898/4131 [14:15<00:38,  6.05it/s]"
          ]
        },
        {
          "name": "stdout",
          "output_type": "stream",
          "text": [
            "Question: 中國唯一以「郵」命名的城市指的是哪一個城市?\n",
            "Golden Answer: 高郵\n",
            "Your   Answer: 高郵市\n"
          ]
        },
        {
          "name": "stderr",
          "output_type": "stream",
          "text": [
            " 94%|█████████▍| 3901/4131 [14:16<00:57,  4.01it/s]"
          ]
        },
        {
          "name": "stdout",
          "output_type": "stream",
          "text": [
            "Question: 首位獲得金球獎獎項的非歐洲球員於何年獲獎?\n",
            "Golden Answer: 1995年\n",
            "Your   Answer: 1956年\n"
          ]
        },
        {
          "name": "stderr",
          "output_type": "stream",
          "text": [
            " 95%|█████████▍| 3909/4131 [14:17<00:45,  4.88it/s]"
          ]
        },
        {
          "name": "stdout",
          "output_type": "stream",
          "text": [
            "Question: 澳大利亞的理工菁英主要來自哪一所大學?\n",
            "Golden Answer: 新南威爾斯大學\n",
            "Your   Answer: 新南威爾士大學\n"
          ]
        },
        {
          "name": "stderr",
          "output_type": "stream",
          "text": [
            " 95%|█████████▍| 3916/4131 [14:19<00:42,  5.02it/s]"
          ]
        },
        {
          "name": "stdout",
          "output_type": "stream",
          "text": [
            "Question: NHL在2013-2014賽季起，重新劃分四個分區的主要原因有三，除了為了讓球隊所在的分區和其所在的時區匹配、方便球迷看球的時間，還有一個原因是?\n",
            "Golden Answer: 減少球隊在分區內比賽所需要的旅行花費\n",
            "Your   Answer: 時區匹配\n"
          ]
        },
        {
          "name": "stderr",
          "output_type": "stream",
          "text": [
            " 95%|█████████▍| 3918/4131 [14:19<00:42,  5.02it/s]"
          ]
        },
        {
          "name": "stdout",
          "output_type": "stream",
          "text": [
            "Question: 美國有兩家公司負責轉播NHL的賽事，除了Versus之外，還有一家公司是?\n",
            "Golden Answer: 國家廣播公司\n",
            "Your   Answer: st國家廣播公司\n"
          ]
        },
        {
          "name": "stderr",
          "output_type": "stream",
          "text": [
            " 95%|█████████▌| 3929/4131 [14:21<00:37,  5.41it/s]"
          ]
        },
        {
          "name": "stdout",
          "output_type": "stream",
          "text": [
            "Question: 《艱難的抉擇》是何人的自傳?\n",
            "Golden Answer: 希拉蕊\n",
            "Your   Answer: 希拉里\n"
          ]
        },
        {
          "name": "stderr",
          "output_type": "stream",
          "text": [
            " 95%|█████████▌| 3937/4131 [14:23<00:38,  5.05it/s]"
          ]
        },
        {
          "name": "stdout",
          "output_type": "stream",
          "text": [
            "Question: 沙頭角槍戰是哪一軍隊策動的?\n",
            "Golden Answer: 紅衛兵\n",
            "Your   Answer: 共產黨民兵\n"
          ]
        },
        {
          "name": "stderr",
          "output_type": "stream",
          "text": [
            " 95%|█████████▌| 3942/4131 [14:24<00:37,  5.03it/s]"
          ]
        },
        {
          "name": "stdout",
          "output_type": "stream",
          "text": [
            "Question: 楊慕琦計劃的主要目標有二，除了縮減立法局中官守議員人數之外，還有一項是?\n",
            "Golden Answer: 計劃中香港會建立市議會\n",
            "Your   Answer: 建立市議會\n"
          ]
        },
        {
          "name": "stderr",
          "output_type": "stream",
          "text": [
            " 95%|█████████▌| 3945/4131 [14:24<00:33,  5.59it/s]"
          ]
        },
        {
          "name": "stdout",
          "output_type": "stream",
          "text": [
            "Question: 董建華實施八萬五建屋計劃的目的是?\n",
            "Golden Answer: 希望壓抑樓價升幅\n",
            "Your   Answer: 壓抑樓價升幅\n"
          ]
        },
        {
          "name": "stderr",
          "output_type": "stream",
          "text": [
            " 96%|█████████▌| 3954/4131 [14:26<00:33,  5.23it/s]"
          ]
        },
        {
          "name": "stdout",
          "output_type": "stream",
          "text": [
            "Question: 清政府最初只允許在哪一個港口進行有限通商?\n",
            "Golden Answer: 廣州\n",
            "Your   Answer: 香港\n",
            "Question: 哪一個地區的人到東南亞經商並且控制了當地的經濟?\n",
            "Golden Answer: 福建人\n",
            "Your   Answer: 福建\n"
          ]
        },
        {
          "name": "stderr",
          "output_type": "stream",
          "text": [
            " 96%|█████████▌| 3962/4131 [14:28<00:33,  5.04it/s]"
          ]
        },
        {
          "name": "stdout",
          "output_type": "stream",
          "text": [
            "Question: 太平軍為何沒有把握在短期內攻下武昌?\n",
            "Golden Answer: 由於李秀成部進軍遲緩\n",
            "Your   Answer: 李秀成部進軍遲緩\n"
          ]
        },
        {
          "name": "stderr",
          "output_type": "stream",
          "text": [
            " 96%|█████████▌| 3964/4131 [14:28<00:33,  5.03it/s]"
          ]
        },
        {
          "name": "stdout",
          "output_type": "stream",
          "text": [
            "Question: 清廷為何稱洪秀全為「粵匪」?\n",
            "Golden Answer: 洪秀全籍貫廣東省廣州府花縣\n",
            "Your   Answer: 籍貫廣東省廣州府花縣\n",
            "Question: 「上帝天國」在公元的哪一年被改為「天父天兄天王太平天國」?\n",
            "Golden Answer: 公元1861年\n",
            "Your   Answer: 1861年\n"
          ]
        },
        {
          "name": "stderr",
          "output_type": "stream",
          "text": [
            " 96%|█████████▌| 3967/4131 [14:29<00:32,  5.03it/s]"
          ]
        },
        {
          "name": "stdout",
          "output_type": "stream",
          "text": [
            "Question: 中國白銀外流的原因和哪一場戰爭失利有關?\n",
            "Golden Answer: 鴉片戰爭\n",
            "Your   Answer: 第一次鴉片戰爭\n"
          ]
        },
        {
          "name": "stderr",
          "output_type": "stream",
          "text": [
            " 96%|█████████▋| 3983/4131 [14:32<00:29,  5.03it/s]"
          ]
        },
        {
          "name": "stdout",
          "output_type": "stream",
          "text": [
            "[UNK] in prediction answer\n",
            "學 習 訓 [UNK] 學\n",
            "Prediction range: [217, 222) in window 0-th paragraph\n",
            "Original answer\n",
            "學習訓詁學\n"
          ]
        },
        {
          "name": "stderr",
          "output_type": "stream",
          "text": [
            " 97%|█████████▋| 3990/4131 [14:33<00:28,  5.03it/s]"
          ]
        },
        {
          "name": "stdout",
          "output_type": "stream",
          "text": [
            "Question: 《中國立國大方針》一文的主要重點有二，除了提出一個共和政治的方案，另外一項重點是?\n",
            "Golden Answer: 對辛亥革命的意義作出充分肯定\n",
            "Your   Answer: 辛亥革命\n"
          ]
        },
        {
          "name": "stderr",
          "output_type": "stream",
          "text": [
            " 97%|█████████▋| 3994/4131 [14:34<00:27,  5.03it/s]"
          ]
        },
        {
          "name": "stdout",
          "output_type": "stream",
          "text": [
            "Question: 《共和與君主論》的作者是誰?\n",
            "Golden Answer: 古德諾\n",
            "Your   Answer: 梁啓超\n"
          ]
        },
        {
          "name": "stderr",
          "output_type": "stream",
          "text": [
            " 97%|█████████▋| 4006/4131 [14:36<00:25,  4.87it/s]"
          ]
        },
        {
          "name": "stdout",
          "output_type": "stream",
          "text": [
            "Question: 《格致彙編》是哪國人編輯的期刊?\n",
            "Golden Answer: 英國人\n",
            "Your   Answer: 英國\n"
          ]
        },
        {
          "name": "stderr",
          "output_type": "stream",
          "text": [
            " 97%|█████████▋| 4014/4131 [14:38<00:23,  5.02it/s]"
          ]
        },
        {
          "name": "stdout",
          "output_type": "stream",
          "text": [
            "Question: 無錫市的南方連接哪一個中國省份?\n",
            "Golden Answer: 浙江省\n",
            "Your   Answer: 江蘇省\n"
          ]
        },
        {
          "name": "stderr",
          "output_type": "stream",
          "text": [
            " 97%|█████████▋| 4024/4131 [14:40<00:21,  5.03it/s]"
          ]
        },
        {
          "name": "stdout",
          "output_type": "stream",
          "text": [
            "Question: 「至德名邦」石坊指的是位於何處的遺跡?\n",
            "Golden Answer: 泰伯廟\n",
            "Your   Answer: 無錫\n"
          ]
        },
        {
          "name": "stderr",
          "output_type": "stream",
          "text": [
            " 98%|█████████▊| 4032/4131 [14:42<00:19,  5.03it/s]"
          ]
        },
        {
          "name": "stdout",
          "output_type": "stream",
          "text": [
            "Question: 良渚文化長江文明的大約距今多久?\n",
            "Golden Answer: 約六七千年前\n",
            "Your   Answer: 六七千年\n"
          ]
        },
        {
          "name": "stderr",
          "output_type": "stream",
          "text": [
            " 98%|█████████▊| 4040/4131 [14:44<00:19,  4.70it/s]"
          ]
        },
        {
          "name": "stdout",
          "output_type": "stream",
          "text": [
            "Question: 斐迪南在哪一年成功將法國人趕出威斯特伐利亞?\n",
            "Golden Answer: 1758年\n",
            "Your   Answer: 01758年\n"
          ]
        },
        {
          "name": "stderr",
          "output_type": "stream",
          "text": [
            " 98%|█████████▊| 4043/4131 [14:44<00:17,  4.91it/s]"
          ]
        },
        {
          "name": "stdout",
          "output_type": "stream",
          "text": [
            "Question: 奧地利的進攻力量其實在沒有哪一個國家的幫助下，是很難獲得勝利的?\n",
            "Golden Answer: 俄國\n",
            "Your   Answer: 俄羅斯\n",
            "Question: 《巴黎和約》是由三個國家共同簽署的條約，此處的三個國家除了西班牙、英國，還有一個國家是?\n",
            "Golden Answer: 法國\n",
            "Your   Answer: 奧地利\n"
          ]
        },
        {
          "name": "stderr",
          "output_type": "stream",
          "text": [
            " 98%|█████████▊| 4045/4131 [14:45<00:17,  4.96it/s]"
          ]
        },
        {
          "name": "stdout",
          "output_type": "stream",
          "text": [
            "Question: 佛羅里達在七年戰爭之前，原本是哪一個國家的殖民地?\n",
            "Golden Answer: 西班牙\n",
            "Your   Answer: 英國\n"
          ]
        },
        {
          "name": "stderr",
          "output_type": "stream",
          "text": [
            " 98%|█████████▊| 4053/4131 [14:46<00:15,  5.02it/s]"
          ]
        },
        {
          "name": "stdout",
          "output_type": "stream",
          "text": [
            "Question: 倫敦市的郡尉代任專員之首指的是哪一個職務?\n",
            "Golden Answer: 倫敦市市長\n",
            "Your   Answer: 市長\n"
          ]
        },
        {
          "name": "stderr",
          "output_type": "stream",
          "text": [
            " 98%|█████████▊| 4065/4131 [14:49<00:13,  5.03it/s]"
          ]
        },
        {
          "name": "stdout",
          "output_type": "stream",
          "text": [
            "Question: 倫敦為何在19世紀中能夠擴張到前所未有的規模?\n",
            "Golden Answer: 由於鐵路和倫敦地鐵的到來\n",
            "Your   Answer: 鐵路和倫敦地鐵的到來\n"
          ]
        },
        {
          "name": "stderr",
          "output_type": "stream",
          "text": [
            " 99%|█████████▊| 4073/4131 [14:50<00:11,  4.96it/s]"
          ]
        },
        {
          "name": "stdout",
          "output_type": "stream",
          "text": [
            "Question: 《為了忘卻的紀念》依雯主要是為了紀念誰?\n",
            "Golden Answer: 柔石\n",
            "Your   Answer: 魯迅\n"
          ]
        },
        {
          "name": "stderr",
          "output_type": "stream",
          "text": [
            " 99%|█████████▊| 4077/4131 [14:51<00:10,  5.01it/s]"
          ]
        },
        {
          "name": "stdout",
          "output_type": "stream",
          "text": [
            "Question: 「華夏民族之根」指的是何處?\n",
            "Golden Answer: 新鄭\n",
            "Your   Answer: 新政\n"
          ]
        },
        {
          "name": "stderr",
          "output_type": "stream",
          "text": [
            " 99%|█████████▉| 4081/4131 [14:52<00:08,  6.05it/s]"
          ]
        },
        {
          "name": "stdout",
          "output_type": "stream",
          "text": [
            "Question: 用來描述什麼?\n",
            "Golden Answer: 橢圓和雙曲線的維度\n",
            "Your   Answer: 橢圓\n",
            "Question: 量度以什麼單位的標準來表示?\n",
            "Golden Answer: 數字\n",
            "Your   Answer: 計量單位\n"
          ]
        },
        {
          "name": "stderr",
          "output_type": "stream",
          "text": [
            " 99%|█████████▉| 4085/4131 [14:52<00:08,  5.23it/s]"
          ]
        },
        {
          "name": "stdout",
          "output_type": "stream",
          "text": [
            "Question: 美國海軍登上世界舞台是在20世紀，尤其是在第幾次世界大戰期間?\n",
            "Golden Answer: 二\n",
            "Your   Answer: 第二次\n"
          ]
        },
        {
          "name": "stderr",
          "output_type": "stream",
          "text": [
            " 99%|█████████▉| 4095/4131 [14:54<00:07,  5.03it/s]"
          ]
        },
        {
          "name": "stdout",
          "output_type": "stream",
          "text": [
            "Question: 長江是亞洲第幾長河?\n",
            "Golden Answer: 一\n",
            "Your   Answer: 第一\n",
            "Question: 長江是世界第幾長河?\n",
            "Golden Answer: 三\n",
            "Your   Answer: 第三長河\n"
          ]
        },
        {
          "name": "stderr",
          "output_type": "stream",
          "text": [
            " 99%|█████████▉| 4100/4131 [14:55<00:05,  5.59it/s]"
          ]
        },
        {
          "name": "stdout",
          "output_type": "stream",
          "text": [
            "Question: 女真族原為哪個朝的藩屬?\n",
            "Golden Answer: 遼朝\n",
            "Your   Answer: 金朝\n",
            "Question: 歐洲聯盟現擁有幾個成員國?\n",
            "Golden Answer: 28\n",
            "Your   Answer: 28個\n"
          ]
        },
        {
          "name": "stderr",
          "output_type": "stream",
          "text": [
            " 99%|█████████▉| 4102/4131 [14:56<00:05,  5.29it/s]"
          ]
        },
        {
          "name": "stdout",
          "output_type": "stream",
          "text": [
            "Question: 歐洲聯盟正式官方語言有幾種?\n",
            "Golden Answer: 24\n",
            "Your   Answer: 24種\n"
          ]
        },
        {
          "name": "stderr",
          "output_type": "stream",
          "text": [
            " 99%|█████████▉| 4109/4131 [14:57<00:04,  5.05it/s]"
          ]
        },
        {
          "name": "stdout",
          "output_type": "stream",
          "text": [
            "Question: 氯分子的原子數是幾?\n",
            "Golden Answer: 2\n",
            "Your   Answer: 兩\n"
          ]
        },
        {
          "name": "stderr",
          "output_type": "stream",
          "text": [
            "100%|█████████▉| 4115/4131 [14:59<00:03,  4.42it/s]"
          ]
        },
        {
          "name": "stdout",
          "output_type": "stream",
          "text": [
            "Question: 絕大多數的政治經濟學家都將私人產權視為?\n",
            "Golden Answer: 資本主義\n",
            "Your   Answer: 資本財產\n"
          ]
        },
        {
          "name": "stderr",
          "output_type": "stream",
          "text": [
            "100%|█████████▉| 4123/4131 [15:00<00:01,  4.98it/s]"
          ]
        },
        {
          "name": "stdout",
          "output_type": "stream",
          "text": [
            "Question: 2011年被評為全國文明城市為?\n",
            "Golden Answer: 長沙\n",
            "Your   Answer: 長沙市\n"
          ]
        },
        {
          "name": "stderr",
          "output_type": "stream",
          "text": [
            "100%|█████████▉| 4126/4131 [15:01<00:00,  5.01it/s]"
          ]
        },
        {
          "name": "stdout",
          "output_type": "stream",
          "text": [
            "Question: 哥倫比亞和厄瓜多及委內瑞拉共享什麼山脈地區?\n",
            "Golden Answer: 安第斯\n",
            "Your   Answer: 安第斯山脈\n"
          ]
        },
        {
          "name": "stderr",
          "output_type": "stream",
          "text": [
            "100%|█████████▉| 4127/4131 [15:01<00:00,  5.01it/s]"
          ]
        },
        {
          "name": "stdout",
          "output_type": "stream",
          "text": [
            "Question: 哥倫比亞是世界面積第幾大國家?\n",
            "Golden Answer: 26\n",
            "Your   Answer: 第26大\n"
          ]
        },
        {
          "name": "stderr",
          "output_type": "stream",
          "text": [
            "100%|██████████| 4131/4131 [15:02<00:00,  4.58it/s]"
          ]
        },
        {
          "name": "stdout",
          "output_type": "stream",
          "text": [
            "Validation | acc = 0.839\n"
          ]
        },
        {
          "name": "stderr",
          "output_type": "stream",
          "text": [
            "\n"
          ]
        }
      ],
      "source": [
        "print(\"Evaluating Dev Set ...\")\n",
        "model.eval()\n",
        "with torch.no_grad():\n",
        "    dev_acc = 0\n",
        "    for i, data in enumerate(tqdm(dev_loader)):\n",
        "        outputs = []\n",
        "        for model in models:\n",
        "            output = model(input_ids=data[0].squeeze(dim=0).to(device), token_type_ids=data[1].squeeze(dim=0).to(device),\n",
        "                       attention_mask=data[2].squeeze(dim=0).to(device))\n",
        "            outputs.append(output)\n",
        "        # prediction is correct only if answer text exactly matches\n",
        "        predict_ans = evaluate_ensemble(data, outputs, doc_stride, dev_paragraphs[dev_questions[i]['paragraph_id']], dev_paragraphs_tokenized[dev_questions[i]['paragraph_id']].offsets, topk)\n",
        "        golden_ans = dev_questions[i][\"answer_text\"]\n",
        "        if predict_ans != golden_ans:\n",
        "            print(f\"Question: {dev_questions[i]['question_text']}\\nGolden Answer: {golden_ans}\")\n",
        "            print(f\"Your   Answer: {predict_ans}\")\n",
        "        dev_acc += predict_ans == golden_ans\n",
        "    print(f\"Validation | acc = {dev_acc / len(dev_loader):.3f}\")"
      ]
    },
    {
      "cell_type": "markdown",
      "metadata": {},
      "source": [
        "## Ensembles on Testing dataset"
      ]
    },
    {
      "cell_type": "code",
      "execution_count": 12,
      "metadata": {
        "colab": {
          "base_uri": "https://localhost:8080/",
          "height": 84,
          "referenced_widgets": [
            "682d69388b314ea7a2fadf58985e0c02",
            "c3c7317c19614af58475c1c74357b7e7",
            "d19cf9c883c341db86e854baa596d791",
            "cb6611c1b50d4ae29e234dcf5a3518ee",
            "904d85d3aa6646b4b6451355aba8b1cb",
            "e649c9fe8bba49488b632941c2e8e3e0",
            "1b47ace6bc414828a2d80f4fd0ffdf43",
            "3afb784916b74e6eaa50742cb1ff1b66",
            "73209ed88f74407ebe1de1e30933cee6",
            "2a03ead67dad4b849c69551e456e0d16",
            "5902c53a797b4999b1baedd280a14576"
          ]
        },
        "id": "U5scNKC9xz0C",
        "outputId": "98225edc-8280-46fa-c409-f633a99dad0d"
      },
      "outputs": [
        {
          "name": "stdout",
          "output_type": "stream",
          "text": [
            "Evaluating Test Set ...\n"
          ]
        },
        {
          "name": "stderr",
          "output_type": "stream",
          "text": [
            "  1%|          | 51/4957 [00:11<17:05,  4.78it/s]"
          ]
        },
        {
          "name": "stdout",
          "output_type": "stream",
          "text": [
            "[UNK] in prediction answer\n",
            "大 型 購 物 中 心 [UNK] 開 幕\n",
            "Prediction range: [161, 170) in window 0-th paragraph\n",
            "Original answer\n",
            "大型購物中心MegaBox開幕\n"
          ]
        },
        {
          "name": "stderr",
          "output_type": "stream",
          "text": [
            "  5%|▌         | 252/4957 [00:58<17:20,  4.52it/s]"
          ]
        },
        {
          "name": "stdout",
          "output_type": "stream",
          "text": [
            "[UNK] in prediction answer\n",
            "溥 [UNK]\n",
            "Prediction range: [392, 394) in window 0-th paragraph\n",
            "Original answer\n",
            "溥儁\n"
          ]
        },
        {
          "name": "stderr",
          "output_type": "stream",
          "text": [
            "  7%|▋         | 333/4957 [01:16<16:16,  4.74it/s]"
          ]
        },
        {
          "name": "stdout",
          "output_type": "stream",
          "text": [
            "[UNK] in prediction answer\n",
            "目 前 沒 有 觀 察 到 任 何 語 言 純 [UNK] 以 力 道 來 區 分 不 同 輔 音\n",
            "Prediction range: [186, 209) in window 0-th paragraph\n",
            "Original answer\n",
            "目前沒有觀察到任何語言純綷以力道來區分不同輔音\n"
          ]
        },
        {
          "name": "stderr",
          "output_type": "stream",
          "text": [
            "  7%|▋         | 341/4957 [01:18<19:38,  3.92it/s]"
          ]
        },
        {
          "name": "stdout",
          "output_type": "stream",
          "text": [
            "[UNK] in prediction answer\n",
            "[UNK] 人 國\n",
            "Prediction range: [231, 234) in window 0-th paragraph\n",
            "Original answer\n",
            "荇人國\n"
          ]
        },
        {
          "name": "stderr",
          "output_type": "stream",
          "text": [
            " 11%|█▏        | 565/4957 [02:08<14:50,  4.93it/s]"
          ]
        },
        {
          "name": "stdout",
          "output_type": "stream",
          "text": [
            "[UNK] in prediction answer\n",
            "馬 [UNK]\n",
            "Prediction range: [174, 176) in window 0-th paragraph\n",
            "Original answer\n",
            "馬馼\n"
          ]
        },
        {
          "name": "stderr",
          "output_type": "stream",
          "text": [
            " 13%|█▎        | 637/4957 [02:25<17:11,  4.19it/s]"
          ]
        },
        {
          "name": "stdout",
          "output_type": "stream",
          "text": [
            "[UNK] in prediction answer\n",
            "東 晉 常 [UNK]\n",
            "Prediction range: [284, 288) in window 1-th paragraph\n",
            "Original answer\n",
            "東晉常璩\n"
          ]
        },
        {
          "name": "stderr",
          "output_type": "stream",
          "text": [
            " 14%|█▍        | 700/4957 [02:40<17:19,  4.09it/s]"
          ]
        },
        {
          "name": "stdout",
          "output_type": "stream",
          "text": [
            "[UNK] in prediction answer\n",
            "[UNK] 校 長\n",
            "Prediction range: [30, 33) in window 1-th paragraph\n",
            "Original answer\n",
            "USC校長\n"
          ]
        },
        {
          "name": "stderr",
          "output_type": "stream",
          "text": [
            " 19%|█▉        | 940/4957 [03:34<14:20,  4.67it/s]"
          ]
        },
        {
          "name": "stdout",
          "output_type": "stream",
          "text": [
            "[UNK] in prediction answer\n",
            "[UNK] 稻\n",
            "Prediction range: [222, 224) in window 0-th paragraph\n",
            "Original answer\n",
            "秈稻\n"
          ]
        },
        {
          "name": "stderr",
          "output_type": "stream",
          "text": [
            " 20%|██        | 993/4957 [03:46<12:49,  5.15it/s]"
          ]
        },
        {
          "name": "stdout",
          "output_type": "stream",
          "text": [
            "[UNK] in prediction answer\n",
            "白 [UNK] 紀 滅 絕 事 件\n",
            "Prediction range: [228, 235) in window 0-th paragraph\n",
            "Original answer\n",
            "白堊紀滅絕事件\n"
          ]
        },
        {
          "name": "stderr",
          "output_type": "stream",
          "text": [
            " 29%|██▊       | 1425/4957 [05:25<12:06,  4.86it/s]"
          ]
        },
        {
          "name": "stdout",
          "output_type": "stream",
          "text": [
            "[UNK] in prediction answer\n",
            "抗 佝 [UNK] 病\n",
            "Prediction range: [19, 23) in window 0-th paragraph\n",
            "Original answer\n",
            "抗佝僂病\n"
          ]
        },
        {
          "name": "stderr",
          "output_type": "stream",
          "text": [
            " 30%|███       | 1495/4957 [05:41<12:51,  4.49it/s]"
          ]
        },
        {
          "name": "stdout",
          "output_type": "stream",
          "text": [
            "[UNK] in prediction answer\n",
            "[UNK] 以 下 的 聲 音 對 基 底 膜 的 影 響\n",
            "Prediction range: [172, 185) in window 0-th paragraph\n",
            "Original answer\n",
            "500Hz以下的聲音對基底膜的影響\n"
          ]
        },
        {
          "name": "stderr",
          "output_type": "stream",
          "text": [
            " 30%|███       | 1503/4957 [05:43<14:48,  3.89it/s]"
          ]
        },
        {
          "name": "stdout",
          "output_type": "stream",
          "text": [
            "[UNK] in prediction answer\n",
            "[UNK]\n",
            "Prediction range: [257, 258) in window 0-th paragraph\n",
            "Original answer\n",
            "F4U\n"
          ]
        },
        {
          "name": "stderr",
          "output_type": "stream",
          "text": [
            " 31%|███       | 1535/4957 [05:50<11:53,  4.80it/s]"
          ]
        },
        {
          "name": "stdout",
          "output_type": "stream",
          "text": [
            "[UNK] in prediction answer\n",
            "杭 州 [UNK] 橋 機 場\n",
            "Prediction range: [81, 87) in window 1-th paragraph\n",
            "Original answer\n",
            "杭州筧橋機場\n"
          ]
        },
        {
          "name": "stderr",
          "output_type": "stream",
          "text": [
            " 31%|███▏      | 1559/4957 [05:56<12:16,  4.61it/s]"
          ]
        },
        {
          "name": "stdout",
          "output_type": "stream",
          "text": [
            "[UNK] in prediction answer\n",
            "蔡 [UNK]\n",
            "Prediction range: [9, 11) in window 0-th paragraph\n",
            "Original answer\n",
            "蔡鍔\n"
          ]
        },
        {
          "name": "stderr",
          "output_type": "stream",
          "text": [
            " 34%|███▎      | 1667/4957 [06:20<13:02,  4.21it/s]"
          ]
        },
        {
          "name": "stdout",
          "output_type": "stream",
          "text": [
            "[UNK] in prediction answer\n",
            "[UNK] 染 色 體\n",
            "Prediction range: [199, 203) in window 0-th paragraph\n",
            "Original answer\n",
            "XX染色體\n"
          ]
        },
        {
          "name": "stderr",
          "output_type": "stream",
          "text": [
            " 34%|███▍      | 1682/4957 [06:23<11:53,  4.59it/s]"
          ]
        },
        {
          "name": "stdout",
          "output_type": "stream",
          "text": [
            "[UNK] in prediction answer\n",
            "丁 [UNK]\n",
            "Prediction range: [155, 157) in window 0-th paragraph\n",
            "Original answer\n",
            "丁旿\n"
          ]
        },
        {
          "name": "stderr",
          "output_type": "stream",
          "text": [
            " 35%|███▍      | 1726/4957 [06:34<12:30,  4.30it/s]"
          ]
        },
        {
          "name": "stdout",
          "output_type": "stream",
          "text": [
            "[UNK] in prediction answer\n",
            "日 本 各 [UNK] 鐵 路 公 司 的 票 務 櫃 臺\n",
            "Prediction range: [9, 22) in window 0-th paragraph\n",
            "Original answer\n",
            "日本各JR鐵路公司的票務櫃臺\n"
          ]
        },
        {
          "name": "stderr",
          "output_type": "stream",
          "text": [
            " 35%|███▌      | 1752/4957 [06:39<12:16,  4.35it/s]"
          ]
        },
        {
          "name": "stdout",
          "output_type": "stream",
          "text": [
            "[UNK] in prediction answer\n",
            "隋 [UNK] 帝\n",
            "Prediction range: [27, 30) in window 0-th paragraph\n",
            "Original answer\n",
            "隋煬帝\n"
          ]
        },
        {
          "name": "stderr",
          "output_type": "stream",
          "text": [
            " 37%|███▋      | 1814/4957 [06:54<11:59,  4.37it/s]"
          ]
        },
        {
          "name": "stdout",
          "output_type": "stream",
          "text": [
            "[UNK] in prediction answer\n",
            "[UNK]\n",
            "Prediction range: [407, 408) in window 0-th paragraph\n",
            "Original answer\n",
            "6500K\n"
          ]
        },
        {
          "name": "stderr",
          "output_type": "stream",
          "text": [
            " 39%|███▊      | 1914/4957 [07:17<12:56,  3.92it/s]"
          ]
        },
        {
          "name": "stdout",
          "output_type": "stream",
          "text": [
            "[UNK] in prediction answer\n",
            "胡 季 [UNK]\n",
            "Prediction range: [173, 176) in window 2-th paragraph\n",
            "Original answer\n",
            "胡季犛\n"
          ]
        },
        {
          "name": "stderr",
          "output_type": "stream",
          "text": [
            " 41%|████      | 2043/4957 [07:48<10:01,  4.84it/s]"
          ]
        },
        {
          "name": "stdout",
          "output_type": "stream",
          "text": [
            "[UNK] in prediction answer\n",
            "其 英 文 縮 寫 首 字 母 為 「 [UNK] · ㄎㄟ · ㄨㄞ 」\n",
            "Prediction range: [146, 164) in window 0-th paragraph\n",
            "Original answer\n",
            "因其英文縮寫首字母為「ㄟㄙ·ㄎㄟ·ㄨㄞ」\n"
          ]
        },
        {
          "name": "stderr",
          "output_type": "stream",
          "text": [
            " 42%|████▏     | 2070/4957 [07:54<11:02,  4.36it/s]"
          ]
        },
        {
          "name": "stdout",
          "output_type": "stream",
          "text": [
            "[UNK] in prediction answer\n",
            "[UNK] 國 際\n",
            "Prediction range: [137, 140) in window 0-th paragraph\n",
            "Original answer\n",
            "ECA國際\n"
          ]
        },
        {
          "name": "stderr",
          "output_type": "stream",
          "text": [
            " 43%|████▎     | 2130/4957 [08:07<09:36,  4.90it/s]"
          ]
        },
        {
          "name": "stdout",
          "output_type": "stream",
          "text": [
            "[UNK] in prediction answer\n",
            "[UNK] - 16\n",
            "Prediction range: [390, 393) in window 0-th paragraph\n",
            "Original answer\n",
            "F-16\n"
          ]
        },
        {
          "name": "stderr",
          "output_type": "stream",
          "text": [
            " 45%|████▌     | 2244/4957 [08:34<12:43,  3.55it/s]"
          ]
        },
        {
          "name": "stdout",
          "output_type": "stream",
          "text": [
            "[UNK] in prediction answer\n",
            "[UNK] - 51 戰 鬥 機\n",
            "Prediction range: [211, 217) in window 1-th paragraph\n",
            "Original answer\n",
            "P-51戰鬥機\n"
          ]
        },
        {
          "name": "stderr",
          "output_type": "stream",
          "text": [
            " 46%|████▌     | 2277/4957 [08:42<10:16,  4.35it/s]"
          ]
        },
        {
          "name": "stdout",
          "output_type": "stream",
          "text": [
            "[UNK] in prediction answer\n",
            "[UNK] 染 色 體\n",
            "Prediction range: [189, 193) in window 0-th paragraph\n",
            "Original answer\n",
            "XY染色體\n"
          ]
        },
        {
          "name": "stderr",
          "output_type": "stream",
          "text": [
            " 48%|████▊     | 2395/4957 [09:08<09:28,  4.51it/s]"
          ]
        },
        {
          "name": "stdout",
          "output_type": "stream",
          "text": [
            "[UNK] in prediction answer\n",
            "[UNK] 連 線 酶\n",
            "Prediction range: [103, 107) in window 0-th paragraph\n",
            "Original answer\n",
            "DNA連線酶\n"
          ]
        },
        {
          "name": "stderr",
          "output_type": "stream",
          "text": [
            " 48%|████▊     | 2400/4957 [09:09<08:32,  4.99it/s]"
          ]
        },
        {
          "name": "stdout",
          "output_type": "stream",
          "text": [
            "[UNK] in prediction answer\n",
            "梁 [UNK]\n",
            "Prediction range: [159, 161) in window 1-th paragraph\n",
            "Original answer\n",
            "梁鵠\n"
          ]
        },
        {
          "name": "stderr",
          "output_type": "stream",
          "text": [
            " 49%|████▉     | 2436/4957 [09:17<08:33,  4.91it/s]"
          ]
        },
        {
          "name": "stdout",
          "output_type": "stream",
          "text": [
            "[UNK] in prediction answer\n",
            "[UNK]\n",
            "Prediction range: [186, 187) in window 0-th paragraph\n",
            "Original answer\n",
            "350kW\n"
          ]
        },
        {
          "name": "stderr",
          "output_type": "stream",
          "text": [
            " 51%|█████     | 2514/4957 [09:35<08:10,  4.98it/s]"
          ]
        },
        {
          "name": "stdout",
          "output_type": "stream",
          "text": [
            "[UNK] in prediction answer\n",
            "[UNK] 靼 海 峽\n",
            "Prediction range: [119, 123) in window 0-th paragraph\n",
            "Original answer\n",
            "韃靼海峽\n"
          ]
        },
        {
          "name": "stderr",
          "output_type": "stream",
          "text": [
            " 53%|█████▎    | 2621/4957 [09:59<07:24,  5.26it/s]"
          ]
        },
        {
          "name": "stdout",
          "output_type": "stream",
          "text": [
            "[UNK] in prediction answer\n",
            "白 [UNK] 紀 末 滅 絕 事 件\n",
            "Prediction range: [114, 122) in window 0-th paragraph\n",
            "Original answer\n",
            "白堊紀末滅絕事件\n"
          ]
        },
        {
          "name": "stderr",
          "output_type": "stream",
          "text": [
            " 56%|█████▌    | 2755/4957 [10:29<07:29,  4.89it/s]"
          ]
        },
        {
          "name": "stdout",
          "output_type": "stream",
          "text": [
            "[UNK] in prediction answer\n",
            "[UNK] 集 團\n",
            "Prediction range: [187, 190) in window 0-th paragraph\n",
            "Original answer\n",
            "JR集團\n"
          ]
        },
        {
          "name": "stderr",
          "output_type": "stream",
          "text": [
            " 56%|█████▌    | 2769/4957 [10:33<07:58,  4.57it/s]"
          ]
        },
        {
          "name": "stdout",
          "output_type": "stream",
          "text": [
            "[UNK] in prediction answer\n",
            "侏 [UNK] 紀\n",
            "Prediction range: [237, 240) in window 0-th paragraph\n",
            "Original answer\n",
            "侏儸紀\n"
          ]
        },
        {
          "name": "stderr",
          "output_type": "stream",
          "text": [
            " 61%|██████    | 3027/4957 [11:32<08:22,  3.84it/s]"
          ]
        },
        {
          "name": "stdout",
          "output_type": "stream",
          "text": [
            "[UNK] in prediction answer\n",
            "克 里 米 亞 [UNK] 靼 人\n",
            "Prediction range: [104, 111) in window 0-th paragraph\n",
            "Original answer\n",
            "克里米亞韃靼人\n"
          ]
        },
        {
          "name": "stderr",
          "output_type": "stream",
          "text": [
            " 64%|██████▍   | 3168/4957 [12:04<06:41,  4.45it/s]"
          ]
        },
        {
          "name": "stdout",
          "output_type": "stream",
          "text": [
            "[UNK] in prediction answer\n",
            "[UNK]\n",
            "Prediction range: [228, 229) in window 1-th paragraph\n",
            "Original answer\n",
            "UCLA\n"
          ]
        },
        {
          "name": "stderr",
          "output_type": "stream",
          "text": [
            " 64%|██████▍   | 3171/4957 [12:05<06:10,  4.82it/s]"
          ]
        },
        {
          "name": "stdout",
          "output_type": "stream",
          "text": [
            "[UNK] in prediction answer\n",
            "[UNK]. [UNK]. [UNK] [UNK]\n",
            "Prediction range: [180, 186) in window 0-th paragraph\n",
            "Original answer\n",
            "C.L. Max Nikias\n"
          ]
        },
        {
          "name": "stderr",
          "output_type": "stream",
          "text": [
            " 68%|██████▊   | 3371/4957 [12:50<05:50,  4.53it/s]"
          ]
        },
        {
          "name": "stdout",
          "output_type": "stream",
          "text": [
            "[UNK] in prediction answer\n",
            "白 [UNK] 紀 中 期\n",
            "Prediction range: [43, 48) in window 0-th paragraph\n",
            "Original answer\n",
            "白堊紀中期\n"
          ]
        },
        {
          "name": "stderr",
          "output_type": "stream",
          "text": [
            " 69%|██████▉   | 3432/4957 [13:04<04:58,  5.11it/s]"
          ]
        },
        {
          "name": "stdout",
          "output_type": "stream",
          "text": [
            "[UNK] in prediction answer\n",
            "美 國 [UNK] 電 視 台\n",
            "Prediction range: [374, 380) in window 0-th paragraph\n",
            "Original answer\n",
            "美國HBO電視台\n"
          ]
        },
        {
          "name": "stderr",
          "output_type": "stream",
          "text": [
            " 73%|███████▎  | 3604/4957 [13:39<04:12,  5.36it/s]"
          ]
        },
        {
          "name": "stdout",
          "output_type": "stream",
          "text": [
            "[UNK] in prediction answer\n",
            "白 [UNK] 紀\n",
            "Prediction range: [115, 118) in window 0-th paragraph\n",
            "Original answer\n",
            "白堊紀\n"
          ]
        },
        {
          "name": "stderr",
          "output_type": "stream",
          "text": [
            " 73%|███████▎  | 3608/4957 [13:40<04:23,  5.11it/s]"
          ]
        },
        {
          "name": "stdout",
          "output_type": "stream",
          "text": [
            "[UNK] in prediction answer\n",
            "白 [UNK] 紀\n",
            "Prediction range: [0, 3) in window 0-th paragraph\n",
            "Original answer\n",
            "白堊紀\n"
          ]
        },
        {
          "name": "stderr",
          "output_type": "stream",
          "text": [
            "100%|██████████| 4957/4957 [18:38<00:00,  4.43it/s]"
          ]
        },
        {
          "name": "stdout",
          "output_type": "stream",
          "text": [
            "Completed! Result is in result-ensemble-top5-mix5-30.csv\n"
          ]
        },
        {
          "name": "stderr",
          "output_type": "stream",
          "text": [
            "\n"
          ]
        }
      ],
      "source": [
        "print(\"Evaluating Test Set ...\")\n",
        "\n",
        "result = []\n",
        "\n",
        "model.eval()\n",
        "with torch.no_grad():\n",
        "    for i, data in enumerate(tqdm(test_loader)):\n",
        "        outputs = []\n",
        "        for model in models:\n",
        "            output = model(input_ids=data[0].squeeze(dim=0).to(device), token_type_ids=data[1].squeeze(dim=0).to(device),\n",
        "                       attention_mask=data[2].squeeze(dim=0).to(device))\n",
        "            outputs.append(output)\n",
        "        result.append(evaluate_ensemble(data, outputs, doc_stride, test_paragraphs[test_questions[i]['paragraph_id']], test_paragraphs_tokenized[test_questions[i]['paragraph_id']].offsets, topk))\n",
        "\n",
        "result_file = f\"result-ensemble-top5-mix{topk}-30.csv\"\n",
        "with open(result_file, 'w') as f:\n",
        "    f.write(\"ID,Answer\\n\")\n",
        "    for i, test_question in enumerate(test_questions):\n",
        "        # Replace commas in answers with empty strings (since csv is separated by comma)\n",
        "        # Answers in kaggle are processed in the same way\n",
        "        f.write(f\"{test_question['id']},{result[i].replace(',','')}\\n\")\n",
        "\n",
        "print(f\"Completed! Result is in {result_file}\")"
      ]
    },
    {
      "cell_type": "markdown",
      "metadata": {},
      "source": [
        "### Public Accuracy: 0.85155"
      ]
    }
  ],
  "metadata": {
    "accelerator": "GPU",
    "colab": {
      "collapsed_sections": [],
      "name": "ML2022Spring - HW7.ipynb",
      "provenance": []
    },
    "interpreter": {
      "hash": "d32e569115ea5e4d1897d8400b93aaca20c0f65b5cbb6859a9b08207b19a0cda"
    },
    "kernelspec": {
      "display_name": "MLVENV",
      "language": "python",
      "name": "python3"
    },
    "language_info": {
      "codemirror_mode": {
        "name": "ipython",
        "version": 3
      },
      "file_extension": ".py",
      "mimetype": "text/x-python",
      "name": "python",
      "nbconvert_exporter": "python",
      "pygments_lexer": "ipython3",
      "version": "3.8.10"
    },
    "widgets": {
      "application/vnd.jupyter.widget-state+json": {
        "0286106eac6449b1846a3d988bc222c3": {
          "model_module": "@jupyter-widgets/base",
          "model_module_version": "1.2.0",
          "model_name": "LayoutModel",
          "state": {
            "_model_module": "@jupyter-widgets/base",
            "_model_module_version": "1.2.0",
            "_model_name": "LayoutModel",
            "_view_count": null,
            "_view_module": "@jupyter-widgets/base",
            "_view_module_version": "1.2.0",
            "_view_name": "LayoutView",
            "align_content": null,
            "align_items": null,
            "align_self": null,
            "border": null,
            "bottom": null,
            "display": null,
            "flex": null,
            "flex_flow": null,
            "grid_area": null,
            "grid_auto_columns": null,
            "grid_auto_flow": null,
            "grid_auto_rows": null,
            "grid_column": null,
            "grid_gap": null,
            "grid_row": null,
            "grid_template_areas": null,
            "grid_template_columns": null,
            "grid_template_rows": null,
            "height": null,
            "justify_content": null,
            "justify_items": null,
            "left": null,
            "margin": null,
            "max_height": null,
            "max_width": null,
            "min_height": null,
            "min_width": null,
            "object_fit": null,
            "object_position": null,
            "order": null,
            "overflow": null,
            "overflow_x": null,
            "overflow_y": null,
            "padding": null,
            "right": null,
            "top": null,
            "visibility": null,
            "width": null
          }
        },
        "05703fe006a24d95a075b89cbd7db981": {
          "model_module": "@jupyter-widgets/controls",
          "model_module_version": "1.5.0",
          "model_name": "FloatProgressModel",
          "state": {
            "_dom_classes": [],
            "_model_module": "@jupyter-widgets/controls",
            "_model_module_version": "1.5.0",
            "_model_name": "FloatProgressModel",
            "_view_count": null,
            "_view_module": "@jupyter-widgets/controls",
            "_view_module_version": "1.5.0",
            "_view_name": "ProgressView",
            "bar_style": "success",
            "description": "",
            "description_tooltip": null,
            "layout": "IPY_MODEL_7804e7ad7cfb4e0f9e0df0892de98133",
            "max": 4131,
            "min": 0,
            "orientation": "horizontal",
            "style": "IPY_MODEL_0c0263fa154744948067f3c9b10362c3",
            "value": 4131
          }
        },
        "0881b8789a97483babee4c52201a8574": {
          "model_module": "@jupyter-widgets/base",
          "model_module_version": "1.2.0",
          "model_name": "LayoutModel",
          "state": {
            "_model_module": "@jupyter-widgets/base",
            "_model_module_version": "1.2.0",
            "_model_name": "LayoutModel",
            "_view_count": null,
            "_view_module": "@jupyter-widgets/base",
            "_view_module_version": "1.2.0",
            "_view_name": "LayoutView",
            "align_content": null,
            "align_items": null,
            "align_self": null,
            "border": null,
            "bottom": null,
            "display": null,
            "flex": null,
            "flex_flow": null,
            "grid_area": null,
            "grid_auto_columns": null,
            "grid_auto_flow": null,
            "grid_auto_rows": null,
            "grid_column": null,
            "grid_gap": null,
            "grid_row": null,
            "grid_template_areas": null,
            "grid_template_columns": null,
            "grid_template_rows": null,
            "height": null,
            "justify_content": null,
            "justify_items": null,
            "left": null,
            "margin": null,
            "max_height": null,
            "max_width": null,
            "min_height": null,
            "min_width": null,
            "object_fit": null,
            "object_position": null,
            "order": null,
            "overflow": null,
            "overflow_x": null,
            "overflow_y": null,
            "padding": null,
            "right": null,
            "top": null,
            "visibility": null,
            "width": null
          }
        },
        "0a49726a094f484e85a503828619f8eb": {
          "model_module": "@jupyter-widgets/controls",
          "model_module_version": "1.5.0",
          "model_name": "HTMLModel",
          "state": {
            "_dom_classes": [],
            "_model_module": "@jupyter-widgets/controls",
            "_model_module_version": "1.5.0",
            "_model_name": "HTMLModel",
            "_view_count": null,
            "_view_module": "@jupyter-widgets/controls",
            "_view_module_version": "1.5.0",
            "_view_name": "HTMLView",
            "description": "",
            "description_tooltip": null,
            "layout": "IPY_MODEL_68edf5ce0e224f11b4cc92b7cbdd189b",
            "placeholder": "​",
            "style": "IPY_MODEL_95dc984b74fa4dc1be056f7455c21554",
            "value": "Downloading: 100%"
          }
        },
        "0c0263fa154744948067f3c9b10362c3": {
          "model_module": "@jupyter-widgets/controls",
          "model_module_version": "1.5.0",
          "model_name": "ProgressStyleModel",
          "state": {
            "_model_module": "@jupyter-widgets/controls",
            "_model_module_version": "1.5.0",
            "_model_name": "ProgressStyleModel",
            "_view_count": null,
            "_view_module": "@jupyter-widgets/base",
            "_view_module_version": "1.2.0",
            "_view_name": "StyleView",
            "bar_color": null,
            "description_width": ""
          }
        },
        "0e718373d3d64b8cb7908c0bf27d1d79": {
          "model_module": "@jupyter-widgets/controls",
          "model_module_version": "1.5.0",
          "model_name": "ProgressStyleModel",
          "state": {
            "_model_module": "@jupyter-widgets/controls",
            "_model_module_version": "1.5.0",
            "_model_name": "ProgressStyleModel",
            "_view_count": null,
            "_view_module": "@jupyter-widgets/base",
            "_view_module_version": "1.2.0",
            "_view_name": "StyleView",
            "bar_color": null,
            "description_width": ""
          }
        },
        "0ff1ec1d6cce4076856a325d983bba90": {
          "model_module": "@jupyter-widgets/base",
          "model_module_version": "1.2.0",
          "model_name": "LayoutModel",
          "state": {
            "_model_module": "@jupyter-widgets/base",
            "_model_module_version": "1.2.0",
            "_model_name": "LayoutModel",
            "_view_count": null,
            "_view_module": "@jupyter-widgets/base",
            "_view_module_version": "1.2.0",
            "_view_name": "LayoutView",
            "align_content": null,
            "align_items": null,
            "align_self": null,
            "border": null,
            "bottom": null,
            "display": null,
            "flex": null,
            "flex_flow": null,
            "grid_area": null,
            "grid_auto_columns": null,
            "grid_auto_flow": null,
            "grid_auto_rows": null,
            "grid_column": null,
            "grid_gap": null,
            "grid_row": null,
            "grid_template_areas": null,
            "grid_template_columns": null,
            "grid_template_rows": null,
            "height": null,
            "justify_content": null,
            "justify_items": null,
            "left": null,
            "margin": null,
            "max_height": null,
            "max_width": null,
            "min_height": null,
            "min_width": null,
            "object_fit": null,
            "object_position": null,
            "order": null,
            "overflow": null,
            "overflow_x": null,
            "overflow_y": null,
            "padding": null,
            "right": null,
            "top": null,
            "visibility": null,
            "width": null
          }
        },
        "11d7d2d63ad84057b1ca7f0365bf7502": {
          "model_module": "@jupyter-widgets/controls",
          "model_module_version": "1.5.0",
          "model_name": "HBoxModel",
          "state": {
            "_dom_classes": [],
            "_model_module": "@jupyter-widgets/controls",
            "_model_module_version": "1.5.0",
            "_model_name": "HBoxModel",
            "_view_count": null,
            "_view_module": "@jupyter-widgets/controls",
            "_view_module_version": "1.5.0",
            "_view_name": "HBoxView",
            "box_style": "",
            "children": [
              "IPY_MODEL_62c76c876ff644179789ee99f04c27f6",
              "IPY_MODEL_05703fe006a24d95a075b89cbd7db981",
              "IPY_MODEL_8ef6f7567d7743b09dacad38667ebd39"
            ],
            "layout": "IPY_MODEL_3d35561017a94eebb67791ef4e6aef78"
          }
        },
        "1ad40cfa6edf41aea4c5e796ac1893b7": {
          "model_module": "@jupyter-widgets/base",
          "model_module_version": "1.2.0",
          "model_name": "LayoutModel",
          "state": {
            "_model_module": "@jupyter-widgets/base",
            "_model_module_version": "1.2.0",
            "_model_name": "LayoutModel",
            "_view_count": null,
            "_view_module": "@jupyter-widgets/base",
            "_view_module_version": "1.2.0",
            "_view_name": "LayoutView",
            "align_content": null,
            "align_items": null,
            "align_self": null,
            "border": null,
            "bottom": null,
            "display": null,
            "flex": null,
            "flex_flow": null,
            "grid_area": null,
            "grid_auto_columns": null,
            "grid_auto_flow": null,
            "grid_auto_rows": null,
            "grid_column": null,
            "grid_gap": null,
            "grid_row": null,
            "grid_template_areas": null,
            "grid_template_columns": null,
            "grid_template_rows": null,
            "height": null,
            "justify_content": null,
            "justify_items": null,
            "left": null,
            "margin": null,
            "max_height": null,
            "max_width": null,
            "min_height": null,
            "min_width": null,
            "object_fit": null,
            "object_position": null,
            "order": null,
            "overflow": null,
            "overflow_x": null,
            "overflow_y": null,
            "padding": null,
            "right": null,
            "top": null,
            "visibility": null,
            "width": null
          }
        },
        "1b47ace6bc414828a2d80f4fd0ffdf43": {
          "model_module": "@jupyter-widgets/controls",
          "model_module_version": "1.5.0",
          "model_name": "DescriptionStyleModel",
          "state": {
            "_model_module": "@jupyter-widgets/controls",
            "_model_module_version": "1.5.0",
            "_model_name": "DescriptionStyleModel",
            "_view_count": null,
            "_view_module": "@jupyter-widgets/base",
            "_view_module_version": "1.2.0",
            "_view_name": "StyleView",
            "description_width": ""
          }
        },
        "1ea24fdaee53457eae02f5349b0c4196": {
          "model_module": "@jupyter-widgets/controls",
          "model_module_version": "1.5.0",
          "model_name": "ProgressStyleModel",
          "state": {
            "_model_module": "@jupyter-widgets/controls",
            "_model_module_version": "1.5.0",
            "_model_name": "ProgressStyleModel",
            "_view_count": null,
            "_view_module": "@jupyter-widgets/base",
            "_view_module_version": "1.2.0",
            "_view_name": "StyleView",
            "bar_color": null,
            "description_width": ""
          }
        },
        "1f6e1c93ad78452a84972838947ac87a": {
          "model_module": "@jupyter-widgets/base",
          "model_module_version": "1.2.0",
          "model_name": "LayoutModel",
          "state": {
            "_model_module": "@jupyter-widgets/base",
            "_model_module_version": "1.2.0",
            "_model_name": "LayoutModel",
            "_view_count": null,
            "_view_module": "@jupyter-widgets/base",
            "_view_module_version": "1.2.0",
            "_view_name": "LayoutView",
            "align_content": null,
            "align_items": null,
            "align_self": null,
            "border": null,
            "bottom": null,
            "display": null,
            "flex": null,
            "flex_flow": null,
            "grid_area": null,
            "grid_auto_columns": null,
            "grid_auto_flow": null,
            "grid_auto_rows": null,
            "grid_column": null,
            "grid_gap": null,
            "grid_row": null,
            "grid_template_areas": null,
            "grid_template_columns": null,
            "grid_template_rows": null,
            "height": null,
            "justify_content": null,
            "justify_items": null,
            "left": null,
            "margin": null,
            "max_height": null,
            "max_width": null,
            "min_height": null,
            "min_width": null,
            "object_fit": null,
            "object_position": null,
            "order": null,
            "overflow": null,
            "overflow_x": null,
            "overflow_y": null,
            "padding": null,
            "right": null,
            "top": null,
            "visibility": null,
            "width": null
          }
        },
        "25dd086b18ef431cb00129ab8e78f27f": {
          "model_module": "@jupyter-widgets/controls",
          "model_module_version": "1.5.0",
          "model_name": "HTMLModel",
          "state": {
            "_dom_classes": [],
            "_model_module": "@jupyter-widgets/controls",
            "_model_module_version": "1.5.0",
            "_model_name": "HTMLModel",
            "_view_count": null,
            "_view_module": "@jupyter-widgets/controls",
            "_view_module_version": "1.5.0",
            "_view_name": "HTMLView",
            "description": "",
            "description_tooltip": null,
            "layout": "IPY_MODEL_f91747d6687e4245ba03624d39ef9d79",
            "placeholder": "​",
            "style": "IPY_MODEL_3fa44210c2314dcb85be53c8fbd0fd7d",
            "value": "Downloading: 100%"
          }
        },
        "2a03ead67dad4b849c69551e456e0d16": {
          "model_module": "@jupyter-widgets/base",
          "model_module_version": "1.2.0",
          "model_name": "LayoutModel",
          "state": {
            "_model_module": "@jupyter-widgets/base",
            "_model_module_version": "1.2.0",
            "_model_name": "LayoutModel",
            "_view_count": null,
            "_view_module": "@jupyter-widgets/base",
            "_view_module_version": "1.2.0",
            "_view_name": "LayoutView",
            "align_content": null,
            "align_items": null,
            "align_self": null,
            "border": null,
            "bottom": null,
            "display": null,
            "flex": null,
            "flex_flow": null,
            "grid_area": null,
            "grid_auto_columns": null,
            "grid_auto_flow": null,
            "grid_auto_rows": null,
            "grid_column": null,
            "grid_gap": null,
            "grid_row": null,
            "grid_template_areas": null,
            "grid_template_columns": null,
            "grid_template_rows": null,
            "height": null,
            "justify_content": null,
            "justify_items": null,
            "left": null,
            "margin": null,
            "max_height": null,
            "max_width": null,
            "min_height": null,
            "min_width": null,
            "object_fit": null,
            "object_position": null,
            "order": null,
            "overflow": null,
            "overflow_x": null,
            "overflow_y": null,
            "padding": null,
            "right": null,
            "top": null,
            "visibility": null,
            "width": null
          }
        },
        "2a365f55329d4eb5989bf1415aa841a2": {
          "model_module": "@jupyter-widgets/controls",
          "model_module_version": "1.5.0",
          "model_name": "FloatProgressModel",
          "state": {
            "_dom_classes": [],
            "_model_module": "@jupyter-widgets/controls",
            "_model_module_version": "1.5.0",
            "_model_name": "FloatProgressModel",
            "_view_count": null,
            "_view_module": "@jupyter-widgets/controls",
            "_view_module_version": "1.5.0",
            "_view_name": "ProgressView",
            "bar_style": "success",
            "description": "",
            "description_tooltip": null,
            "layout": "IPY_MODEL_0881b8789a97483babee4c52201a8574",
            "max": 109540,
            "min": 0,
            "orientation": "horizontal",
            "style": "IPY_MODEL_f342bbce7b2b452280a38a63781b0f35",
            "value": 109540
          }
        },
        "2d5d292a2ace4d43a5dad92ed8f376a4": {
          "model_module": "@jupyter-widgets/base",
          "model_module_version": "1.2.0",
          "model_name": "LayoutModel",
          "state": {
            "_model_module": "@jupyter-widgets/base",
            "_model_module_version": "1.2.0",
            "_model_name": "LayoutModel",
            "_view_count": null,
            "_view_module": "@jupyter-widgets/base",
            "_view_module_version": "1.2.0",
            "_view_name": "LayoutView",
            "align_content": null,
            "align_items": null,
            "align_self": null,
            "border": null,
            "bottom": null,
            "display": null,
            "flex": null,
            "flex_flow": null,
            "grid_area": null,
            "grid_auto_columns": null,
            "grid_auto_flow": null,
            "grid_auto_rows": null,
            "grid_column": null,
            "grid_gap": null,
            "grid_row": null,
            "grid_template_areas": null,
            "grid_template_columns": null,
            "grid_template_rows": null,
            "height": null,
            "justify_content": null,
            "justify_items": null,
            "left": null,
            "margin": null,
            "max_height": null,
            "max_width": null,
            "min_height": null,
            "min_width": null,
            "object_fit": null,
            "object_position": null,
            "order": null,
            "overflow": null,
            "overflow_x": null,
            "overflow_y": null,
            "padding": null,
            "right": null,
            "top": null,
            "visibility": null,
            "width": null
          }
        },
        "2ff1b05c562140deb9aa8210e1556bf8": {
          "model_module": "@jupyter-widgets/controls",
          "model_module_version": "1.5.0",
          "model_name": "ProgressStyleModel",
          "state": {
            "_model_module": "@jupyter-widgets/controls",
            "_model_module_version": "1.5.0",
            "_model_name": "ProgressStyleModel",
            "_view_count": null,
            "_view_module": "@jupyter-widgets/base",
            "_view_module_version": "1.2.0",
            "_view_name": "StyleView",
            "bar_color": null,
            "description_width": ""
          }
        },
        "321ddf9eb4c6486c952c0a2d9a25bb76": {
          "model_module": "@jupyter-widgets/base",
          "model_module_version": "1.2.0",
          "model_name": "LayoutModel",
          "state": {
            "_model_module": "@jupyter-widgets/base",
            "_model_module_version": "1.2.0",
            "_model_name": "LayoutModel",
            "_view_count": null,
            "_view_module": "@jupyter-widgets/base",
            "_view_module_version": "1.2.0",
            "_view_name": "LayoutView",
            "align_content": null,
            "align_items": null,
            "align_self": null,
            "border": null,
            "bottom": null,
            "display": null,
            "flex": null,
            "flex_flow": null,
            "grid_area": null,
            "grid_auto_columns": null,
            "grid_auto_flow": null,
            "grid_auto_rows": null,
            "grid_column": null,
            "grid_gap": null,
            "grid_row": null,
            "grid_template_areas": null,
            "grid_template_columns": null,
            "grid_template_rows": null,
            "height": null,
            "justify_content": null,
            "justify_items": null,
            "left": null,
            "margin": null,
            "max_height": null,
            "max_width": null,
            "min_height": null,
            "min_width": null,
            "object_fit": null,
            "object_position": null,
            "order": null,
            "overflow": null,
            "overflow_x": null,
            "overflow_y": null,
            "padding": null,
            "right": null,
            "top": null,
            "visibility": null,
            "width": null
          }
        },
        "32f567d5fcb349458b6d3624449b8935": {
          "model_module": "@jupyter-widgets/controls",
          "model_module_version": "1.5.0",
          "model_name": "DescriptionStyleModel",
          "state": {
            "_model_module": "@jupyter-widgets/controls",
            "_model_module_version": "1.5.0",
            "_model_name": "DescriptionStyleModel",
            "_view_count": null,
            "_view_module": "@jupyter-widgets/base",
            "_view_module_version": "1.2.0",
            "_view_name": "StyleView",
            "description_width": ""
          }
        },
        "332e1eb78fad4cf4a55839f4ebcdc8ed": {
          "model_module": "@jupyter-widgets/controls",
          "model_module_version": "1.5.0",
          "model_name": "DescriptionStyleModel",
          "state": {
            "_model_module": "@jupyter-widgets/controls",
            "_model_module_version": "1.5.0",
            "_model_name": "DescriptionStyleModel",
            "_view_count": null,
            "_view_module": "@jupyter-widgets/base",
            "_view_module_version": "1.2.0",
            "_view_name": "StyleView",
            "description_width": ""
          }
        },
        "3afb784916b74e6eaa50742cb1ff1b66": {
          "model_module": "@jupyter-widgets/base",
          "model_module_version": "1.2.0",
          "model_name": "LayoutModel",
          "state": {
            "_model_module": "@jupyter-widgets/base",
            "_model_module_version": "1.2.0",
            "_model_name": "LayoutModel",
            "_view_count": null,
            "_view_module": "@jupyter-widgets/base",
            "_view_module_version": "1.2.0",
            "_view_name": "LayoutView",
            "align_content": null,
            "align_items": null,
            "align_self": null,
            "border": null,
            "bottom": null,
            "display": null,
            "flex": null,
            "flex_flow": null,
            "grid_area": null,
            "grid_auto_columns": null,
            "grid_auto_flow": null,
            "grid_auto_rows": null,
            "grid_column": null,
            "grid_gap": null,
            "grid_row": null,
            "grid_template_areas": null,
            "grid_template_columns": null,
            "grid_template_rows": null,
            "height": null,
            "justify_content": null,
            "justify_items": null,
            "left": null,
            "margin": null,
            "max_height": null,
            "max_width": null,
            "min_height": null,
            "min_width": null,
            "object_fit": null,
            "object_position": null,
            "order": null,
            "overflow": null,
            "overflow_x": null,
            "overflow_y": null,
            "padding": null,
            "right": null,
            "top": null,
            "visibility": null,
            "width": null
          }
        },
        "3ccab0716bca476fa0257d4ab9be54b7": {
          "model_module": "@jupyter-widgets/controls",
          "model_module_version": "1.5.0",
          "model_name": "HBoxModel",
          "state": {
            "_dom_classes": [],
            "_model_module": "@jupyter-widgets/controls",
            "_model_module_version": "1.5.0",
            "_model_name": "HBoxModel",
            "_view_count": null,
            "_view_module": "@jupyter-widgets/controls",
            "_view_module_version": "1.5.0",
            "_view_name": "HBoxView",
            "box_style": "",
            "children": [
              "IPY_MODEL_5c04734076b34bf5b7ab4edaf3f67d2e",
              "IPY_MODEL_845c16d058ae4dd7bc348318b1a0b09a",
              "IPY_MODEL_9138fe5874cd4fe98d6a0d848a1b44a9"
            ],
            "layout": "IPY_MODEL_8514a9caad1d48b4b5199ff359cac85b"
          }
        },
        "3d35561017a94eebb67791ef4e6aef78": {
          "model_module": "@jupyter-widgets/base",
          "model_module_version": "1.2.0",
          "model_name": "LayoutModel",
          "state": {
            "_model_module": "@jupyter-widgets/base",
            "_model_module_version": "1.2.0",
            "_model_name": "LayoutModel",
            "_view_count": null,
            "_view_module": "@jupyter-widgets/base",
            "_view_module_version": "1.2.0",
            "_view_name": "LayoutView",
            "align_content": null,
            "align_items": null,
            "align_self": null,
            "border": null,
            "bottom": null,
            "display": null,
            "flex": null,
            "flex_flow": null,
            "grid_area": null,
            "grid_auto_columns": null,
            "grid_auto_flow": null,
            "grid_auto_rows": null,
            "grid_column": null,
            "grid_gap": null,
            "grid_row": null,
            "grid_template_areas": null,
            "grid_template_columns": null,
            "grid_template_rows": null,
            "height": null,
            "justify_content": null,
            "justify_items": null,
            "left": null,
            "margin": null,
            "max_height": null,
            "max_width": null,
            "min_height": null,
            "min_width": null,
            "object_fit": null,
            "object_position": null,
            "order": null,
            "overflow": null,
            "overflow_x": null,
            "overflow_y": null,
            "padding": null,
            "right": null,
            "top": null,
            "visibility": null,
            "width": null
          }
        },
        "3e13f72cd62e41eab73688915cb1e430": {
          "model_module": "@jupyter-widgets/base",
          "model_module_version": "1.2.0",
          "model_name": "LayoutModel",
          "state": {
            "_model_module": "@jupyter-widgets/base",
            "_model_module_version": "1.2.0",
            "_model_name": "LayoutModel",
            "_view_count": null,
            "_view_module": "@jupyter-widgets/base",
            "_view_module_version": "1.2.0",
            "_view_name": "LayoutView",
            "align_content": null,
            "align_items": null,
            "align_self": null,
            "border": null,
            "bottom": null,
            "display": null,
            "flex": null,
            "flex_flow": null,
            "grid_area": null,
            "grid_auto_columns": null,
            "grid_auto_flow": null,
            "grid_auto_rows": null,
            "grid_column": null,
            "grid_gap": null,
            "grid_row": null,
            "grid_template_areas": null,
            "grid_template_columns": null,
            "grid_template_rows": null,
            "height": null,
            "justify_content": null,
            "justify_items": null,
            "left": null,
            "margin": null,
            "max_height": null,
            "max_width": null,
            "min_height": null,
            "min_width": null,
            "object_fit": null,
            "object_position": null,
            "order": null,
            "overflow": null,
            "overflow_x": null,
            "overflow_y": null,
            "padding": null,
            "right": null,
            "top": null,
            "visibility": null,
            "width": null
          }
        },
        "3fa44210c2314dcb85be53c8fbd0fd7d": {
          "model_module": "@jupyter-widgets/controls",
          "model_module_version": "1.5.0",
          "model_name": "DescriptionStyleModel",
          "state": {
            "_model_module": "@jupyter-widgets/controls",
            "_model_module_version": "1.5.0",
            "_model_name": "DescriptionStyleModel",
            "_view_count": null,
            "_view_module": "@jupyter-widgets/base",
            "_view_module_version": "1.2.0",
            "_view_name": "StyleView",
            "description_width": ""
          }
        },
        "41ca88d91aeb49f98a10ca1d9923de40": {
          "model_module": "@jupyter-widgets/controls",
          "model_module_version": "1.5.0",
          "model_name": "HTMLModel",
          "state": {
            "_dom_classes": [],
            "_model_module": "@jupyter-widgets/controls",
            "_model_module_version": "1.5.0",
            "_model_name": "HTMLModel",
            "_view_count": null,
            "_view_module": "@jupyter-widgets/controls",
            "_view_module_version": "1.5.0",
            "_view_name": "HTMLView",
            "description": "",
            "description_tooltip": null,
            "layout": "IPY_MODEL_3e13f72cd62e41eab73688915cb1e430",
            "placeholder": "​",
            "style": "IPY_MODEL_5f2f61f4648b46c8a83a4fcd610bdbf4",
            "value": "Downloading: 100%"
          }
        },
        "43c8e2f94f4641d0aa2b36b5aa60b296": {
          "model_module": "@jupyter-widgets/controls",
          "model_module_version": "1.5.0",
          "model_name": "DescriptionStyleModel",
          "state": {
            "_model_module": "@jupyter-widgets/controls",
            "_model_module_version": "1.5.0",
            "_model_name": "DescriptionStyleModel",
            "_view_count": null,
            "_view_module": "@jupyter-widgets/base",
            "_view_module_version": "1.2.0",
            "_view_name": "StyleView",
            "description_width": ""
          }
        },
        "471fa35353c4453f84d0280d77bb5e8b": {
          "model_module": "@jupyter-widgets/base",
          "model_module_version": "1.2.0",
          "model_name": "LayoutModel",
          "state": {
            "_model_module": "@jupyter-widgets/base",
            "_model_module_version": "1.2.0",
            "_model_name": "LayoutModel",
            "_view_count": null,
            "_view_module": "@jupyter-widgets/base",
            "_view_module_version": "1.2.0",
            "_view_name": "LayoutView",
            "align_content": null,
            "align_items": null,
            "align_self": null,
            "border": null,
            "bottom": null,
            "display": null,
            "flex": null,
            "flex_flow": null,
            "grid_area": null,
            "grid_auto_columns": null,
            "grid_auto_flow": null,
            "grid_auto_rows": null,
            "grid_column": null,
            "grid_gap": null,
            "grid_row": null,
            "grid_template_areas": null,
            "grid_template_columns": null,
            "grid_template_rows": null,
            "height": null,
            "justify_content": null,
            "justify_items": null,
            "left": null,
            "margin": null,
            "max_height": null,
            "max_width": null,
            "min_height": null,
            "min_width": null,
            "object_fit": null,
            "object_position": null,
            "order": null,
            "overflow": null,
            "overflow_x": null,
            "overflow_y": null,
            "padding": null,
            "right": null,
            "top": null,
            "visibility": null,
            "width": null
          }
        },
        "48395b91ef1940c3a37619e1c6d5a719": {
          "model_module": "@jupyter-widgets/controls",
          "model_module_version": "1.5.0",
          "model_name": "HBoxModel",
          "state": {
            "_dom_classes": [],
            "_model_module": "@jupyter-widgets/controls",
            "_model_module_version": "1.5.0",
            "_model_name": "HBoxModel",
            "_view_count": null,
            "_view_module": "@jupyter-widgets/controls",
            "_view_module_version": "1.5.0",
            "_view_name": "HBoxView",
            "box_style": "",
            "children": [
              "IPY_MODEL_41ca88d91aeb49f98a10ca1d9923de40",
              "IPY_MODEL_5d4bddac56cc49e6badae42e5a3be7ba",
              "IPY_MODEL_6c18df09f6bb43f0a248fa6dc567374f"
            ],
            "layout": "IPY_MODEL_0ff1ec1d6cce4076856a325d983bba90"
          }
        },
        "4da40521d8c34dd098d9ac4cac6c83bf": {
          "model_module": "@jupyter-widgets/base",
          "model_module_version": "1.2.0",
          "model_name": "LayoutModel",
          "state": {
            "_model_module": "@jupyter-widgets/base",
            "_model_module_version": "1.2.0",
            "_model_name": "LayoutModel",
            "_view_count": null,
            "_view_module": "@jupyter-widgets/base",
            "_view_module_version": "1.2.0",
            "_view_name": "LayoutView",
            "align_content": null,
            "align_items": null,
            "align_self": null,
            "border": null,
            "bottom": null,
            "display": null,
            "flex": null,
            "flex_flow": null,
            "grid_area": null,
            "grid_auto_columns": null,
            "grid_auto_flow": null,
            "grid_auto_rows": null,
            "grid_column": null,
            "grid_gap": null,
            "grid_row": null,
            "grid_template_areas": null,
            "grid_template_columns": null,
            "grid_template_rows": null,
            "height": null,
            "justify_content": null,
            "justify_items": null,
            "left": null,
            "margin": null,
            "max_height": null,
            "max_width": null,
            "min_height": null,
            "min_width": null,
            "object_fit": null,
            "object_position": null,
            "order": null,
            "overflow": null,
            "overflow_x": null,
            "overflow_y": null,
            "padding": null,
            "right": null,
            "top": null,
            "visibility": null,
            "width": null
          }
        },
        "513da36fbe49481fb827e302463b0a5f": {
          "model_module": "@jupyter-widgets/controls",
          "model_module_version": "1.5.0",
          "model_name": "HTMLModel",
          "state": {
            "_dom_classes": [],
            "_model_module": "@jupyter-widgets/controls",
            "_model_module_version": "1.5.0",
            "_model_name": "HTMLModel",
            "_view_count": null,
            "_view_module": "@jupyter-widgets/controls",
            "_view_module_version": "1.5.0",
            "_view_name": "HTMLView",
            "description": "",
            "description_tooltip": null,
            "layout": "IPY_MODEL_1f6e1c93ad78452a84972838947ac87a",
            "placeholder": "​",
            "style": "IPY_MODEL_f6f67dc7418c4d2eae5fc706f5f3944d",
            "value": "Downloading: 100%"
          }
        },
        "53df685d281e4b9ead87b8891f788825": {
          "model_module": "@jupyter-widgets/base",
          "model_module_version": "1.2.0",
          "model_name": "LayoutModel",
          "state": {
            "_model_module": "@jupyter-widgets/base",
            "_model_module_version": "1.2.0",
            "_model_name": "LayoutModel",
            "_view_count": null,
            "_view_module": "@jupyter-widgets/base",
            "_view_module_version": "1.2.0",
            "_view_name": "LayoutView",
            "align_content": null,
            "align_items": null,
            "align_self": null,
            "border": null,
            "bottom": null,
            "display": null,
            "flex": null,
            "flex_flow": null,
            "grid_area": null,
            "grid_auto_columns": null,
            "grid_auto_flow": null,
            "grid_auto_rows": null,
            "grid_column": null,
            "grid_gap": null,
            "grid_row": null,
            "grid_template_areas": null,
            "grid_template_columns": null,
            "grid_template_rows": null,
            "height": null,
            "justify_content": null,
            "justify_items": null,
            "left": null,
            "margin": null,
            "max_height": null,
            "max_width": null,
            "min_height": null,
            "min_width": null,
            "object_fit": null,
            "object_position": null,
            "order": null,
            "overflow": null,
            "overflow_x": null,
            "overflow_y": null,
            "padding": null,
            "right": null,
            "top": null,
            "visibility": null,
            "width": null
          }
        },
        "58fb752d7f7c4d2292a1a17eb72d217b": {
          "model_module": "@jupyter-widgets/base",
          "model_module_version": "1.2.0",
          "model_name": "LayoutModel",
          "state": {
            "_model_module": "@jupyter-widgets/base",
            "_model_module_version": "1.2.0",
            "_model_name": "LayoutModel",
            "_view_count": null,
            "_view_module": "@jupyter-widgets/base",
            "_view_module_version": "1.2.0",
            "_view_name": "LayoutView",
            "align_content": null,
            "align_items": null,
            "align_self": null,
            "border": null,
            "bottom": null,
            "display": null,
            "flex": null,
            "flex_flow": null,
            "grid_area": null,
            "grid_auto_columns": null,
            "grid_auto_flow": null,
            "grid_auto_rows": null,
            "grid_column": null,
            "grid_gap": null,
            "grid_row": null,
            "grid_template_areas": null,
            "grid_template_columns": null,
            "grid_template_rows": null,
            "height": null,
            "justify_content": null,
            "justify_items": null,
            "left": null,
            "margin": null,
            "max_height": null,
            "max_width": null,
            "min_height": null,
            "min_width": null,
            "object_fit": null,
            "object_position": null,
            "order": null,
            "overflow": null,
            "overflow_x": null,
            "overflow_y": null,
            "padding": null,
            "right": null,
            "top": null,
            "visibility": null,
            "width": null
          }
        },
        "5902c53a797b4999b1baedd280a14576": {
          "model_module": "@jupyter-widgets/controls",
          "model_module_version": "1.5.0",
          "model_name": "DescriptionStyleModel",
          "state": {
            "_model_module": "@jupyter-widgets/controls",
            "_model_module_version": "1.5.0",
            "_model_name": "DescriptionStyleModel",
            "_view_count": null,
            "_view_module": "@jupyter-widgets/base",
            "_view_module_version": "1.2.0",
            "_view_name": "StyleView",
            "description_width": ""
          }
        },
        "590fced4b9bf46e0b9afa5613ad0d5b8": {
          "model_module": "@jupyter-widgets/base",
          "model_module_version": "1.2.0",
          "model_name": "LayoutModel",
          "state": {
            "_model_module": "@jupyter-widgets/base",
            "_model_module_version": "1.2.0",
            "_model_name": "LayoutModel",
            "_view_count": null,
            "_view_module": "@jupyter-widgets/base",
            "_view_module_version": "1.2.0",
            "_view_name": "LayoutView",
            "align_content": null,
            "align_items": null,
            "align_self": null,
            "border": null,
            "bottom": null,
            "display": null,
            "flex": null,
            "flex_flow": null,
            "grid_area": null,
            "grid_auto_columns": null,
            "grid_auto_flow": null,
            "grid_auto_rows": null,
            "grid_column": null,
            "grid_gap": null,
            "grid_row": null,
            "grid_template_areas": null,
            "grid_template_columns": null,
            "grid_template_rows": null,
            "height": null,
            "justify_content": null,
            "justify_items": null,
            "left": null,
            "margin": null,
            "max_height": null,
            "max_width": null,
            "min_height": null,
            "min_width": null,
            "object_fit": null,
            "object_position": null,
            "order": null,
            "overflow": null,
            "overflow_x": null,
            "overflow_y": null,
            "padding": null,
            "right": null,
            "top": null,
            "visibility": null,
            "width": null
          }
        },
        "5c04734076b34bf5b7ab4edaf3f67d2e": {
          "model_module": "@jupyter-widgets/controls",
          "model_module_version": "1.5.0",
          "model_name": "HTMLModel",
          "state": {
            "_dom_classes": [],
            "_model_module": "@jupyter-widgets/controls",
            "_model_module_version": "1.5.0",
            "_model_name": "HTMLModel",
            "_view_count": null,
            "_view_module": "@jupyter-widgets/controls",
            "_view_module_version": "1.5.0",
            "_view_name": "HTMLView",
            "description": "",
            "description_tooltip": null,
            "layout": "IPY_MODEL_4da40521d8c34dd098d9ac4cac6c83bf",
            "placeholder": "​",
            "style": "IPY_MODEL_332e1eb78fad4cf4a55839f4ebcdc8ed",
            "value": "100%"
          }
        },
        "5d4bddac56cc49e6badae42e5a3be7ba": {
          "model_module": "@jupyter-widgets/controls",
          "model_module_version": "1.5.0",
          "model_name": "FloatProgressModel",
          "state": {
            "_dom_classes": [],
            "_model_module": "@jupyter-widgets/controls",
            "_model_module_version": "1.5.0",
            "_model_name": "FloatProgressModel",
            "_view_count": null,
            "_view_module": "@jupyter-widgets/controls",
            "_view_module_version": "1.5.0",
            "_view_name": "ProgressView",
            "bar_style": "success",
            "description": "",
            "description_tooltip": null,
            "layout": "IPY_MODEL_7369ec53e6964a44ab1b217c51967d8c",
            "max": 411577189,
            "min": 0,
            "orientation": "horizontal",
            "style": "IPY_MODEL_2ff1b05c562140deb9aa8210e1556bf8",
            "value": 411577189
          }
        },
        "5d9e9b5a38a142b6ad50d6bc6ddd9f20": {
          "model_module": "@jupyter-widgets/base",
          "model_module_version": "1.2.0",
          "model_name": "LayoutModel",
          "state": {
            "_model_module": "@jupyter-widgets/base",
            "_model_module_version": "1.2.0",
            "_model_name": "LayoutModel",
            "_view_count": null,
            "_view_module": "@jupyter-widgets/base",
            "_view_module_version": "1.2.0",
            "_view_name": "LayoutView",
            "align_content": null,
            "align_items": null,
            "align_self": null,
            "border": null,
            "bottom": null,
            "display": null,
            "flex": null,
            "flex_flow": null,
            "grid_area": null,
            "grid_auto_columns": null,
            "grid_auto_flow": null,
            "grid_auto_rows": null,
            "grid_column": null,
            "grid_gap": null,
            "grid_row": null,
            "grid_template_areas": null,
            "grid_template_columns": null,
            "grid_template_rows": null,
            "height": null,
            "justify_content": null,
            "justify_items": null,
            "left": null,
            "margin": null,
            "max_height": null,
            "max_width": null,
            "min_height": null,
            "min_width": null,
            "object_fit": null,
            "object_position": null,
            "order": null,
            "overflow": null,
            "overflow_x": null,
            "overflow_y": null,
            "padding": null,
            "right": null,
            "top": null,
            "visibility": null,
            "width": null
          }
        },
        "5f2f61f4648b46c8a83a4fcd610bdbf4": {
          "model_module": "@jupyter-widgets/controls",
          "model_module_version": "1.5.0",
          "model_name": "DescriptionStyleModel",
          "state": {
            "_model_module": "@jupyter-widgets/controls",
            "_model_module_version": "1.5.0",
            "_model_name": "DescriptionStyleModel",
            "_view_count": null,
            "_view_module": "@jupyter-widgets/base",
            "_view_module_version": "1.2.0",
            "_view_name": "StyleView",
            "description_width": ""
          }
        },
        "62c76c876ff644179789ee99f04c27f6": {
          "model_module": "@jupyter-widgets/controls",
          "model_module_version": "1.5.0",
          "model_name": "HTMLModel",
          "state": {
            "_dom_classes": [],
            "_model_module": "@jupyter-widgets/controls",
            "_model_module_version": "1.5.0",
            "_model_name": "HTMLModel",
            "_view_count": null,
            "_view_module": "@jupyter-widgets/controls",
            "_view_module_version": "1.5.0",
            "_view_name": "HTMLView",
            "description": "",
            "description_tooltip": null,
            "layout": "IPY_MODEL_78e7f33003044d05beb3e6b3f725e44b",
            "placeholder": "​",
            "style": "IPY_MODEL_7588693da1cf437f9ec7c3d3b85b499a",
            "value": "100%"
          }
        },
        "6468d98ca49e4e088ab18bfc6af14701": {
          "model_module": "@jupyter-widgets/controls",
          "model_module_version": "1.5.0",
          "model_name": "FloatProgressModel",
          "state": {
            "_dom_classes": [],
            "_model_module": "@jupyter-widgets/controls",
            "_model_module_version": "1.5.0",
            "_model_name": "FloatProgressModel",
            "_view_count": null,
            "_view_module": "@jupyter-widgets/controls",
            "_view_module_version": "1.5.0",
            "_view_name": "ProgressView",
            "bar_style": "success",
            "description": "",
            "description_tooltip": null,
            "layout": "IPY_MODEL_5d9e9b5a38a142b6ad50d6bc6ddd9f20",
            "max": 29,
            "min": 0,
            "orientation": "horizontal",
            "style": "IPY_MODEL_0e718373d3d64b8cb7908c0bf27d1d79",
            "value": 29
          }
        },
        "682d69388b314ea7a2fadf58985e0c02": {
          "model_module": "@jupyter-widgets/controls",
          "model_module_version": "1.5.0",
          "model_name": "HBoxModel",
          "state": {
            "_dom_classes": [],
            "_model_module": "@jupyter-widgets/controls",
            "_model_module_version": "1.5.0",
            "_model_name": "HBoxModel",
            "_view_count": null,
            "_view_module": "@jupyter-widgets/controls",
            "_view_module_version": "1.5.0",
            "_view_name": "HBoxView",
            "box_style": "",
            "children": [
              "IPY_MODEL_c3c7317c19614af58475c1c74357b7e7",
              "IPY_MODEL_d19cf9c883c341db86e854baa596d791",
              "IPY_MODEL_cb6611c1b50d4ae29e234dcf5a3518ee"
            ],
            "layout": "IPY_MODEL_904d85d3aa6646b4b6451355aba8b1cb"
          }
        },
        "68edf5ce0e224f11b4cc92b7cbdd189b": {
          "model_module": "@jupyter-widgets/base",
          "model_module_version": "1.2.0",
          "model_name": "LayoutModel",
          "state": {
            "_model_module": "@jupyter-widgets/base",
            "_model_module_version": "1.2.0",
            "_model_name": "LayoutModel",
            "_view_count": null,
            "_view_module": "@jupyter-widgets/base",
            "_view_module_version": "1.2.0",
            "_view_name": "LayoutView",
            "align_content": null,
            "align_items": null,
            "align_self": null,
            "border": null,
            "bottom": null,
            "display": null,
            "flex": null,
            "flex_flow": null,
            "grid_area": null,
            "grid_auto_columns": null,
            "grid_auto_flow": null,
            "grid_auto_rows": null,
            "grid_column": null,
            "grid_gap": null,
            "grid_row": null,
            "grid_template_areas": null,
            "grid_template_columns": null,
            "grid_template_rows": null,
            "height": null,
            "justify_content": null,
            "justify_items": null,
            "left": null,
            "margin": null,
            "max_height": null,
            "max_width": null,
            "min_height": null,
            "min_width": null,
            "object_fit": null,
            "object_position": null,
            "order": null,
            "overflow": null,
            "overflow_x": null,
            "overflow_y": null,
            "padding": null,
            "right": null,
            "top": null,
            "visibility": null,
            "width": null
          }
        },
        "6c18df09f6bb43f0a248fa6dc567374f": {
          "model_module": "@jupyter-widgets/controls",
          "model_module_version": "1.5.0",
          "model_name": "HTMLModel",
          "state": {
            "_dom_classes": [],
            "_model_module": "@jupyter-widgets/controls",
            "_model_module_version": "1.5.0",
            "_model_name": "HTMLModel",
            "_view_count": null,
            "_view_module": "@jupyter-widgets/controls",
            "_view_module_version": "1.5.0",
            "_view_name": "HTMLView",
            "description": "",
            "description_tooltip": null,
            "layout": "IPY_MODEL_824667f4ed754e0ea4e7265af89e434a",
            "placeholder": "​",
            "style": "IPY_MODEL_32f567d5fcb349458b6d3624449b8935",
            "value": " 412M/412M [00:08&lt;00:00, 55.8MB/s]"
          }
        },
        "7092c547dc0c4f769b05e0c4b510582c": {
          "model_module": "@jupyter-widgets/controls",
          "model_module_version": "1.5.0",
          "model_name": "HTMLModel",
          "state": {
            "_dom_classes": [],
            "_model_module": "@jupyter-widgets/controls",
            "_model_module_version": "1.5.0",
            "_model_name": "HTMLModel",
            "_view_count": null,
            "_view_module": "@jupyter-widgets/controls",
            "_view_module_version": "1.5.0",
            "_view_name": "HTMLView",
            "description": "",
            "description_tooltip": null,
            "layout": "IPY_MODEL_58fb752d7f7c4d2292a1a17eb72d217b",
            "placeholder": "​",
            "style": "IPY_MODEL_43c8e2f94f4641d0aa2b36b5aa60b296",
            "value": " 110k/110k [00:00&lt;00:00, 210kB/s]"
          }
        },
        "7178fb2e98ce48aca28885c726740d43": {
          "model_module": "@jupyter-widgets/base",
          "model_module_version": "1.2.0",
          "model_name": "LayoutModel",
          "state": {
            "_model_module": "@jupyter-widgets/base",
            "_model_module_version": "1.2.0",
            "_model_name": "LayoutModel",
            "_view_count": null,
            "_view_module": "@jupyter-widgets/base",
            "_view_module_version": "1.2.0",
            "_view_name": "LayoutView",
            "align_content": null,
            "align_items": null,
            "align_self": null,
            "border": null,
            "bottom": null,
            "display": null,
            "flex": null,
            "flex_flow": null,
            "grid_area": null,
            "grid_auto_columns": null,
            "grid_auto_flow": null,
            "grid_auto_rows": null,
            "grid_column": null,
            "grid_gap": null,
            "grid_row": null,
            "grid_template_areas": null,
            "grid_template_columns": null,
            "grid_template_rows": null,
            "height": null,
            "justify_content": null,
            "justify_items": null,
            "left": null,
            "margin": null,
            "max_height": null,
            "max_width": null,
            "min_height": null,
            "min_width": null,
            "object_fit": null,
            "object_position": null,
            "order": null,
            "overflow": null,
            "overflow_x": null,
            "overflow_y": null,
            "padding": null,
            "right": null,
            "top": null,
            "visibility": null,
            "width": null
          }
        },
        "73209ed88f74407ebe1de1e30933cee6": {
          "model_module": "@jupyter-widgets/controls",
          "model_module_version": "1.5.0",
          "model_name": "ProgressStyleModel",
          "state": {
            "_model_module": "@jupyter-widgets/controls",
            "_model_module_version": "1.5.0",
            "_model_name": "ProgressStyleModel",
            "_view_count": null,
            "_view_module": "@jupyter-widgets/base",
            "_view_module_version": "1.2.0",
            "_view_name": "StyleView",
            "bar_color": null,
            "description_width": ""
          }
        },
        "7369ec53e6964a44ab1b217c51967d8c": {
          "model_module": "@jupyter-widgets/base",
          "model_module_version": "1.2.0",
          "model_name": "LayoutModel",
          "state": {
            "_model_module": "@jupyter-widgets/base",
            "_model_module_version": "1.2.0",
            "_model_name": "LayoutModel",
            "_view_count": null,
            "_view_module": "@jupyter-widgets/base",
            "_view_module_version": "1.2.0",
            "_view_name": "LayoutView",
            "align_content": null,
            "align_items": null,
            "align_self": null,
            "border": null,
            "bottom": null,
            "display": null,
            "flex": null,
            "flex_flow": null,
            "grid_area": null,
            "grid_auto_columns": null,
            "grid_auto_flow": null,
            "grid_auto_rows": null,
            "grid_column": null,
            "grid_gap": null,
            "grid_row": null,
            "grid_template_areas": null,
            "grid_template_columns": null,
            "grid_template_rows": null,
            "height": null,
            "justify_content": null,
            "justify_items": null,
            "left": null,
            "margin": null,
            "max_height": null,
            "max_width": null,
            "min_height": null,
            "min_width": null,
            "object_fit": null,
            "object_position": null,
            "order": null,
            "overflow": null,
            "overflow_x": null,
            "overflow_y": null,
            "padding": null,
            "right": null,
            "top": null,
            "visibility": null,
            "width": null
          }
        },
        "7588693da1cf437f9ec7c3d3b85b499a": {
          "model_module": "@jupyter-widgets/controls",
          "model_module_version": "1.5.0",
          "model_name": "DescriptionStyleModel",
          "state": {
            "_model_module": "@jupyter-widgets/controls",
            "_model_module_version": "1.5.0",
            "_model_name": "DescriptionStyleModel",
            "_view_count": null,
            "_view_module": "@jupyter-widgets/base",
            "_view_module_version": "1.2.0",
            "_view_name": "StyleView",
            "description_width": ""
          }
        },
        "7804e7ad7cfb4e0f9e0df0892de98133": {
          "model_module": "@jupyter-widgets/base",
          "model_module_version": "1.2.0",
          "model_name": "LayoutModel",
          "state": {
            "_model_module": "@jupyter-widgets/base",
            "_model_module_version": "1.2.0",
            "_model_name": "LayoutModel",
            "_view_count": null,
            "_view_module": "@jupyter-widgets/base",
            "_view_module_version": "1.2.0",
            "_view_name": "LayoutView",
            "align_content": null,
            "align_items": null,
            "align_self": null,
            "border": null,
            "bottom": null,
            "display": null,
            "flex": null,
            "flex_flow": null,
            "grid_area": null,
            "grid_auto_columns": null,
            "grid_auto_flow": null,
            "grid_auto_rows": null,
            "grid_column": null,
            "grid_gap": null,
            "grid_row": null,
            "grid_template_areas": null,
            "grid_template_columns": null,
            "grid_template_rows": null,
            "height": null,
            "justify_content": null,
            "justify_items": null,
            "left": null,
            "margin": null,
            "max_height": null,
            "max_width": null,
            "min_height": null,
            "min_width": null,
            "object_fit": null,
            "object_position": null,
            "order": null,
            "overflow": null,
            "overflow_x": null,
            "overflow_y": null,
            "padding": null,
            "right": null,
            "top": null,
            "visibility": null,
            "width": null
          }
        },
        "78e7f33003044d05beb3e6b3f725e44b": {
          "model_module": "@jupyter-widgets/base",
          "model_module_version": "1.2.0",
          "model_name": "LayoutModel",
          "state": {
            "_model_module": "@jupyter-widgets/base",
            "_model_module_version": "1.2.0",
            "_model_name": "LayoutModel",
            "_view_count": null,
            "_view_module": "@jupyter-widgets/base",
            "_view_module_version": "1.2.0",
            "_view_name": "LayoutView",
            "align_content": null,
            "align_items": null,
            "align_self": null,
            "border": null,
            "bottom": null,
            "display": null,
            "flex": null,
            "flex_flow": null,
            "grid_area": null,
            "grid_auto_columns": null,
            "grid_auto_flow": null,
            "grid_auto_rows": null,
            "grid_column": null,
            "grid_gap": null,
            "grid_row": null,
            "grid_template_areas": null,
            "grid_template_columns": null,
            "grid_template_rows": null,
            "height": null,
            "justify_content": null,
            "justify_items": null,
            "left": null,
            "margin": null,
            "max_height": null,
            "max_width": null,
            "min_height": null,
            "min_width": null,
            "object_fit": null,
            "object_position": null,
            "order": null,
            "overflow": null,
            "overflow_x": null,
            "overflow_y": null,
            "padding": null,
            "right": null,
            "top": null,
            "visibility": null,
            "width": null
          }
        },
        "7ab9a69eefb641c6a7208a3805d9c04a": {
          "model_module": "@jupyter-widgets/controls",
          "model_module_version": "1.5.0",
          "model_name": "DescriptionStyleModel",
          "state": {
            "_model_module": "@jupyter-widgets/controls",
            "_model_module_version": "1.5.0",
            "_model_name": "DescriptionStyleModel",
            "_view_count": null,
            "_view_module": "@jupyter-widgets/base",
            "_view_module_version": "1.2.0",
            "_view_name": "StyleView",
            "description_width": ""
          }
        },
        "824667f4ed754e0ea4e7265af89e434a": {
          "model_module": "@jupyter-widgets/base",
          "model_module_version": "1.2.0",
          "model_name": "LayoutModel",
          "state": {
            "_model_module": "@jupyter-widgets/base",
            "_model_module_version": "1.2.0",
            "_model_name": "LayoutModel",
            "_view_count": null,
            "_view_module": "@jupyter-widgets/base",
            "_view_module_version": "1.2.0",
            "_view_name": "LayoutView",
            "align_content": null,
            "align_items": null,
            "align_self": null,
            "border": null,
            "bottom": null,
            "display": null,
            "flex": null,
            "flex_flow": null,
            "grid_area": null,
            "grid_auto_columns": null,
            "grid_auto_flow": null,
            "grid_auto_rows": null,
            "grid_column": null,
            "grid_gap": null,
            "grid_row": null,
            "grid_template_areas": null,
            "grid_template_columns": null,
            "grid_template_rows": null,
            "height": null,
            "justify_content": null,
            "justify_items": null,
            "left": null,
            "margin": null,
            "max_height": null,
            "max_width": null,
            "min_height": null,
            "min_width": null,
            "object_fit": null,
            "object_position": null,
            "order": null,
            "overflow": null,
            "overflow_x": null,
            "overflow_y": null,
            "padding": null,
            "right": null,
            "top": null,
            "visibility": null,
            "width": null
          }
        },
        "83c25332291b46abac011349b8795d92": {
          "model_module": "@jupyter-widgets/base",
          "model_module_version": "1.2.0",
          "model_name": "LayoutModel",
          "state": {
            "_model_module": "@jupyter-widgets/base",
            "_model_module_version": "1.2.0",
            "_model_name": "LayoutModel",
            "_view_count": null,
            "_view_module": "@jupyter-widgets/base",
            "_view_module_version": "1.2.0",
            "_view_name": "LayoutView",
            "align_content": null,
            "align_items": null,
            "align_self": null,
            "border": null,
            "bottom": null,
            "display": null,
            "flex": null,
            "flex_flow": null,
            "grid_area": null,
            "grid_auto_columns": null,
            "grid_auto_flow": null,
            "grid_auto_rows": null,
            "grid_column": null,
            "grid_gap": null,
            "grid_row": null,
            "grid_template_areas": null,
            "grid_template_columns": null,
            "grid_template_rows": null,
            "height": null,
            "justify_content": null,
            "justify_items": null,
            "left": null,
            "margin": null,
            "max_height": null,
            "max_width": null,
            "min_height": null,
            "min_width": null,
            "object_fit": null,
            "object_position": null,
            "order": null,
            "overflow": null,
            "overflow_x": null,
            "overflow_y": null,
            "padding": null,
            "right": null,
            "top": null,
            "visibility": null,
            "width": null
          }
        },
        "845c16d058ae4dd7bc348318b1a0b09a": {
          "model_module": "@jupyter-widgets/controls",
          "model_module_version": "1.5.0",
          "model_name": "FloatProgressModel",
          "state": {
            "_dom_classes": [],
            "_model_module": "@jupyter-widgets/controls",
            "_model_module_version": "1.5.0",
            "_model_name": "FloatProgressModel",
            "_view_count": null,
            "_view_module": "@jupyter-widgets/controls",
            "_view_module_version": "1.5.0",
            "_view_name": "ProgressView",
            "bar_style": "success",
            "description": "",
            "description_tooltip": null,
            "layout": "IPY_MODEL_0286106eac6449b1846a3d988bc222c3",
            "max": 991,
            "min": 0,
            "orientation": "horizontal",
            "style": "IPY_MODEL_e2983acae8294b9695f9f483520f779b",
            "value": 991
          }
        },
        "8514a9caad1d48b4b5199ff359cac85b": {
          "model_module": "@jupyter-widgets/base",
          "model_module_version": "1.2.0",
          "model_name": "LayoutModel",
          "state": {
            "_model_module": "@jupyter-widgets/base",
            "_model_module_version": "1.2.0",
            "_model_name": "LayoutModel",
            "_view_count": null,
            "_view_module": "@jupyter-widgets/base",
            "_view_module_version": "1.2.0",
            "_view_name": "LayoutView",
            "align_content": null,
            "align_items": null,
            "align_self": null,
            "border": null,
            "bottom": null,
            "display": null,
            "flex": null,
            "flex_flow": null,
            "grid_area": null,
            "grid_auto_columns": null,
            "grid_auto_flow": null,
            "grid_auto_rows": null,
            "grid_column": null,
            "grid_gap": null,
            "grid_row": null,
            "grid_template_areas": null,
            "grid_template_columns": null,
            "grid_template_rows": null,
            "height": null,
            "justify_content": null,
            "justify_items": null,
            "left": null,
            "margin": null,
            "max_height": null,
            "max_width": null,
            "min_height": null,
            "min_width": null,
            "object_fit": null,
            "object_position": null,
            "order": null,
            "overflow": null,
            "overflow_x": null,
            "overflow_y": null,
            "padding": null,
            "right": null,
            "top": null,
            "visibility": null,
            "width": null
          }
        },
        "862f35dc94d3496ca03a33a0a2d66f7a": {
          "model_module": "@jupyter-widgets/base",
          "model_module_version": "1.2.0",
          "model_name": "LayoutModel",
          "state": {
            "_model_module": "@jupyter-widgets/base",
            "_model_module_version": "1.2.0",
            "_model_name": "LayoutModel",
            "_view_count": null,
            "_view_module": "@jupyter-widgets/base",
            "_view_module_version": "1.2.0",
            "_view_name": "LayoutView",
            "align_content": null,
            "align_items": null,
            "align_self": null,
            "border": null,
            "bottom": null,
            "display": null,
            "flex": null,
            "flex_flow": null,
            "grid_area": null,
            "grid_auto_columns": null,
            "grid_auto_flow": null,
            "grid_auto_rows": null,
            "grid_column": null,
            "grid_gap": null,
            "grid_row": null,
            "grid_template_areas": null,
            "grid_template_columns": null,
            "grid_template_rows": null,
            "height": null,
            "justify_content": null,
            "justify_items": null,
            "left": null,
            "margin": null,
            "max_height": null,
            "max_width": null,
            "min_height": null,
            "min_width": null,
            "object_fit": null,
            "object_position": null,
            "order": null,
            "overflow": null,
            "overflow_x": null,
            "overflow_y": null,
            "padding": null,
            "right": null,
            "top": null,
            "visibility": null,
            "width": null
          }
        },
        "88853de796f14a7e9c0a9d8182f181df": {
          "model_module": "@jupyter-widgets/controls",
          "model_module_version": "1.5.0",
          "model_name": "HTMLModel",
          "state": {
            "_dom_classes": [],
            "_model_module": "@jupyter-widgets/controls",
            "_model_module_version": "1.5.0",
            "_model_name": "HTMLModel",
            "_view_count": null,
            "_view_module": "@jupyter-widgets/controls",
            "_view_module_version": "1.5.0",
            "_view_name": "HTMLView",
            "description": "",
            "description_tooltip": null,
            "layout": "IPY_MODEL_590fced4b9bf46e0b9afa5613ad0d5b8",
            "placeholder": "​",
            "style": "IPY_MODEL_ca6aada7ba224c6eba1cdd4b1bce6504",
            "value": " 269k/269k [00:00&lt;00:00, 335kB/s]"
          }
        },
        "8b1cd8574eeb4be481b9a81689671f21": {
          "model_module": "@jupyter-widgets/controls",
          "model_module_version": "1.5.0",
          "model_name": "HBoxModel",
          "state": {
            "_dom_classes": [],
            "_model_module": "@jupyter-widgets/controls",
            "_model_module_version": "1.5.0",
            "_model_name": "HBoxModel",
            "_view_count": null,
            "_view_module": "@jupyter-widgets/controls",
            "_view_module_version": "1.5.0",
            "_view_name": "HBoxView",
            "box_style": "",
            "children": [
              "IPY_MODEL_fe357de2578b42c2880bf0696b2fbddf",
              "IPY_MODEL_c5fc2e83919a4e339133a10a5794951e",
              "IPY_MODEL_b00759c1e81e41b795679f115bb200ce"
            ],
            "layout": "IPY_MODEL_9a6e94d371804e81ba5040a33ed4a9bd"
          }
        },
        "8c7001b1dc584a3b8abc3999e9dabce9": {
          "model_module": "@jupyter-widgets/controls",
          "model_module_version": "1.5.0",
          "model_name": "HBoxModel",
          "state": {
            "_dom_classes": [],
            "_model_module": "@jupyter-widgets/controls",
            "_model_module_version": "1.5.0",
            "_model_name": "HBoxModel",
            "_view_count": null,
            "_view_module": "@jupyter-widgets/controls",
            "_view_module_version": "1.5.0",
            "_view_name": "HBoxView",
            "box_style": "",
            "children": [
              "IPY_MODEL_0a49726a094f484e85a503828619f8eb",
              "IPY_MODEL_2a365f55329d4eb5989bf1415aa841a2",
              "IPY_MODEL_7092c547dc0c4f769b05e0c4b510582c"
            ],
            "layout": "IPY_MODEL_cf79dec0847142bca22871a019df6740"
          }
        },
        "8ef6f7567d7743b09dacad38667ebd39": {
          "model_module": "@jupyter-widgets/controls",
          "model_module_version": "1.5.0",
          "model_name": "HTMLModel",
          "state": {
            "_dom_classes": [],
            "_model_module": "@jupyter-widgets/controls",
            "_model_module_version": "1.5.0",
            "_model_name": "HTMLModel",
            "_view_count": null,
            "_view_module": "@jupyter-widgets/controls",
            "_view_module_version": "1.5.0",
            "_view_name": "HTMLView",
            "description": "",
            "description_tooltip": null,
            "layout": "IPY_MODEL_471fa35353c4453f84d0280d77bb5e8b",
            "placeholder": "​",
            "style": "IPY_MODEL_cc7ca1c295834d5f92bc5f16c34f4951",
            "value": " 4131/4131 [01:58&lt;00:00, 35.65it/s]"
          }
        },
        "904d85d3aa6646b4b6451355aba8b1cb": {
          "model_module": "@jupyter-widgets/base",
          "model_module_version": "1.2.0",
          "model_name": "LayoutModel",
          "state": {
            "_model_module": "@jupyter-widgets/base",
            "_model_module_version": "1.2.0",
            "_model_name": "LayoutModel",
            "_view_count": null,
            "_view_module": "@jupyter-widgets/base",
            "_view_module_version": "1.2.0",
            "_view_name": "LayoutView",
            "align_content": null,
            "align_items": null,
            "align_self": null,
            "border": null,
            "bottom": null,
            "display": null,
            "flex": null,
            "flex_flow": null,
            "grid_area": null,
            "grid_auto_columns": null,
            "grid_auto_flow": null,
            "grid_auto_rows": null,
            "grid_column": null,
            "grid_gap": null,
            "grid_row": null,
            "grid_template_areas": null,
            "grid_template_columns": null,
            "grid_template_rows": null,
            "height": null,
            "justify_content": null,
            "justify_items": null,
            "left": null,
            "margin": null,
            "max_height": null,
            "max_width": null,
            "min_height": null,
            "min_width": null,
            "object_fit": null,
            "object_position": null,
            "order": null,
            "overflow": null,
            "overflow_x": null,
            "overflow_y": null,
            "padding": null,
            "right": null,
            "top": null,
            "visibility": null,
            "width": null
          }
        },
        "9138fe5874cd4fe98d6a0d848a1b44a9": {
          "model_module": "@jupyter-widgets/controls",
          "model_module_version": "1.5.0",
          "model_name": "HTMLModel",
          "state": {
            "_dom_classes": [],
            "_model_module": "@jupyter-widgets/controls",
            "_model_module_version": "1.5.0",
            "_model_name": "HTMLModel",
            "_view_count": null,
            "_view_module": "@jupyter-widgets/controls",
            "_view_module_version": "1.5.0",
            "_view_name": "HTMLView",
            "description": "",
            "description_tooltip": null,
            "layout": "IPY_MODEL_321ddf9eb4c6486c952c0a2d9a25bb76",
            "placeholder": "​",
            "style": "IPY_MODEL_7ab9a69eefb641c6a7208a3805d9c04a",
            "value": " 991/991 [09:43&lt;00:00,  2.11it/s]"
          }
        },
        "946cf759cefd45bab98955ba95caf271": {
          "model_module": "@jupyter-widgets/controls",
          "model_module_version": "1.5.0",
          "model_name": "FloatProgressModel",
          "state": {
            "_dom_classes": [],
            "_model_module": "@jupyter-widgets/controls",
            "_model_module_version": "1.5.0",
            "_model_name": "FloatProgressModel",
            "_view_count": null,
            "_view_module": "@jupyter-widgets/controls",
            "_view_module_version": "1.5.0",
            "_view_name": "ProgressView",
            "bar_style": "success",
            "description": "",
            "description_tooltip": null,
            "layout": "IPY_MODEL_53df685d281e4b9ead87b8891f788825",
            "max": 268943,
            "min": 0,
            "orientation": "horizontal",
            "style": "IPY_MODEL_1ea24fdaee53457eae02f5349b0c4196",
            "value": 268943
          }
        },
        "95dc984b74fa4dc1be056f7455c21554": {
          "model_module": "@jupyter-widgets/controls",
          "model_module_version": "1.5.0",
          "model_name": "DescriptionStyleModel",
          "state": {
            "_model_module": "@jupyter-widgets/controls",
            "_model_module_version": "1.5.0",
            "_model_name": "DescriptionStyleModel",
            "_view_count": null,
            "_view_module": "@jupyter-widgets/base",
            "_view_module_version": "1.2.0",
            "_view_name": "StyleView",
            "description_width": ""
          }
        },
        "9976f33250d84ffd85da6df20dc9107e": {
          "model_module": "@jupyter-widgets/controls",
          "model_module_version": "1.5.0",
          "model_name": "ProgressStyleModel",
          "state": {
            "_model_module": "@jupyter-widgets/controls",
            "_model_module_version": "1.5.0",
            "_model_name": "ProgressStyleModel",
            "_view_count": null,
            "_view_module": "@jupyter-widgets/base",
            "_view_module_version": "1.2.0",
            "_view_name": "StyleView",
            "bar_color": null,
            "description_width": ""
          }
        },
        "9a6e94d371804e81ba5040a33ed4a9bd": {
          "model_module": "@jupyter-widgets/base",
          "model_module_version": "1.2.0",
          "model_name": "LayoutModel",
          "state": {
            "_model_module": "@jupyter-widgets/base",
            "_model_module_version": "1.2.0",
            "_model_name": "LayoutModel",
            "_view_count": null,
            "_view_module": "@jupyter-widgets/base",
            "_view_module_version": "1.2.0",
            "_view_name": "LayoutView",
            "align_content": null,
            "align_items": null,
            "align_self": null,
            "border": null,
            "bottom": null,
            "display": null,
            "flex": null,
            "flex_flow": null,
            "grid_area": null,
            "grid_auto_columns": null,
            "grid_auto_flow": null,
            "grid_auto_rows": null,
            "grid_column": null,
            "grid_gap": null,
            "grid_row": null,
            "grid_template_areas": null,
            "grid_template_columns": null,
            "grid_template_rows": null,
            "height": null,
            "justify_content": null,
            "justify_items": null,
            "left": null,
            "margin": null,
            "max_height": null,
            "max_width": null,
            "min_height": null,
            "min_width": null,
            "object_fit": null,
            "object_position": null,
            "order": null,
            "overflow": null,
            "overflow_x": null,
            "overflow_y": null,
            "padding": null,
            "right": null,
            "top": null,
            "visibility": null,
            "width": null
          }
        },
        "b00759c1e81e41b795679f115bb200ce": {
          "model_module": "@jupyter-widgets/controls",
          "model_module_version": "1.5.0",
          "model_name": "HTMLModel",
          "state": {
            "_dom_classes": [],
            "_model_module": "@jupyter-widgets/controls",
            "_model_module_version": "1.5.0",
            "_model_name": "HTMLModel",
            "_view_count": null,
            "_view_module": "@jupyter-widgets/controls",
            "_view_module_version": "1.5.0",
            "_view_name": "HTMLView",
            "description": "",
            "description_tooltip": null,
            "layout": "IPY_MODEL_862f35dc94d3496ca03a33a0a2d66f7a",
            "placeholder": "​",
            "style": "IPY_MODEL_d6cbe631180340c5ac3837457a212610",
            "value": " 624/624 [00:00&lt;00:00, 18.3kB/s]"
          }
        },
        "b872511013814bb786b1c8fb84d28e14": {
          "model_module": "@jupyter-widgets/controls",
          "model_module_version": "1.5.0",
          "model_name": "DescriptionStyleModel",
          "state": {
            "_model_module": "@jupyter-widgets/controls",
            "_model_module_version": "1.5.0",
            "_model_name": "DescriptionStyleModel",
            "_view_count": null,
            "_view_module": "@jupyter-widgets/base",
            "_view_module_version": "1.2.0",
            "_view_name": "StyleView",
            "description_width": ""
          }
        },
        "c3c7317c19614af58475c1c74357b7e7": {
          "model_module": "@jupyter-widgets/controls",
          "model_module_version": "1.5.0",
          "model_name": "HTMLModel",
          "state": {
            "_dom_classes": [],
            "_model_module": "@jupyter-widgets/controls",
            "_model_module_version": "1.5.0",
            "_model_name": "HTMLModel",
            "_view_count": null,
            "_view_module": "@jupyter-widgets/controls",
            "_view_module_version": "1.5.0",
            "_view_name": "HTMLView",
            "description": "",
            "description_tooltip": null,
            "layout": "IPY_MODEL_e649c9fe8bba49488b632941c2e8e3e0",
            "placeholder": "​",
            "style": "IPY_MODEL_1b47ace6bc414828a2d80f4fd0ffdf43",
            "value": "100%"
          }
        },
        "c5fc2e83919a4e339133a10a5794951e": {
          "model_module": "@jupyter-widgets/controls",
          "model_module_version": "1.5.0",
          "model_name": "FloatProgressModel",
          "state": {
            "_dom_classes": [],
            "_model_module": "@jupyter-widgets/controls",
            "_model_module_version": "1.5.0",
            "_model_name": "FloatProgressModel",
            "_view_count": null,
            "_view_module": "@jupyter-widgets/controls",
            "_view_module_version": "1.5.0",
            "_view_name": "ProgressView",
            "bar_style": "success",
            "description": "",
            "description_tooltip": null,
            "layout": "IPY_MODEL_c88fa61d9eb946d2afdf45bfd1dda431",
            "max": 624,
            "min": 0,
            "orientation": "horizontal",
            "style": "IPY_MODEL_9976f33250d84ffd85da6df20dc9107e",
            "value": 624
          }
        },
        "c88fa61d9eb946d2afdf45bfd1dda431": {
          "model_module": "@jupyter-widgets/base",
          "model_module_version": "1.2.0",
          "model_name": "LayoutModel",
          "state": {
            "_model_module": "@jupyter-widgets/base",
            "_model_module_version": "1.2.0",
            "_model_name": "LayoutModel",
            "_view_count": null,
            "_view_module": "@jupyter-widgets/base",
            "_view_module_version": "1.2.0",
            "_view_name": "LayoutView",
            "align_content": null,
            "align_items": null,
            "align_self": null,
            "border": null,
            "bottom": null,
            "display": null,
            "flex": null,
            "flex_flow": null,
            "grid_area": null,
            "grid_auto_columns": null,
            "grid_auto_flow": null,
            "grid_auto_rows": null,
            "grid_column": null,
            "grid_gap": null,
            "grid_row": null,
            "grid_template_areas": null,
            "grid_template_columns": null,
            "grid_template_rows": null,
            "height": null,
            "justify_content": null,
            "justify_items": null,
            "left": null,
            "margin": null,
            "max_height": null,
            "max_width": null,
            "min_height": null,
            "min_width": null,
            "object_fit": null,
            "object_position": null,
            "order": null,
            "overflow": null,
            "overflow_x": null,
            "overflow_y": null,
            "padding": null,
            "right": null,
            "top": null,
            "visibility": null,
            "width": null
          }
        },
        "ca6aada7ba224c6eba1cdd4b1bce6504": {
          "model_module": "@jupyter-widgets/controls",
          "model_module_version": "1.5.0",
          "model_name": "DescriptionStyleModel",
          "state": {
            "_model_module": "@jupyter-widgets/controls",
            "_model_module_version": "1.5.0",
            "_model_name": "DescriptionStyleModel",
            "_view_count": null,
            "_view_module": "@jupyter-widgets/base",
            "_view_module_version": "1.2.0",
            "_view_name": "StyleView",
            "description_width": ""
          }
        },
        "cb6611c1b50d4ae29e234dcf5a3518ee": {
          "model_module": "@jupyter-widgets/controls",
          "model_module_version": "1.5.0",
          "model_name": "HTMLModel",
          "state": {
            "_dom_classes": [],
            "_model_module": "@jupyter-widgets/controls",
            "_model_module_version": "1.5.0",
            "_model_name": "HTMLModel",
            "_view_count": null,
            "_view_module": "@jupyter-widgets/controls",
            "_view_module_version": "1.5.0",
            "_view_name": "HTMLView",
            "description": "",
            "description_tooltip": null,
            "layout": "IPY_MODEL_2a03ead67dad4b849c69551e456e0d16",
            "placeholder": "​",
            "style": "IPY_MODEL_5902c53a797b4999b1baedd280a14576",
            "value": " 4957/4957 [02:21&lt;00:00, 34.30it/s]"
          }
        },
        "cc7ca1c295834d5f92bc5f16c34f4951": {
          "model_module": "@jupyter-widgets/controls",
          "model_module_version": "1.5.0",
          "model_name": "DescriptionStyleModel",
          "state": {
            "_model_module": "@jupyter-widgets/controls",
            "_model_module_version": "1.5.0",
            "_model_name": "DescriptionStyleModel",
            "_view_count": null,
            "_view_module": "@jupyter-widgets/base",
            "_view_module_version": "1.2.0",
            "_view_name": "StyleView",
            "description_width": ""
          }
        },
        "cf79dec0847142bca22871a019df6740": {
          "model_module": "@jupyter-widgets/base",
          "model_module_version": "1.2.0",
          "model_name": "LayoutModel",
          "state": {
            "_model_module": "@jupyter-widgets/base",
            "_model_module_version": "1.2.0",
            "_model_name": "LayoutModel",
            "_view_count": null,
            "_view_module": "@jupyter-widgets/base",
            "_view_module_version": "1.2.0",
            "_view_name": "LayoutView",
            "align_content": null,
            "align_items": null,
            "align_self": null,
            "border": null,
            "bottom": null,
            "display": null,
            "flex": null,
            "flex_flow": null,
            "grid_area": null,
            "grid_auto_columns": null,
            "grid_auto_flow": null,
            "grid_auto_rows": null,
            "grid_column": null,
            "grid_gap": null,
            "grid_row": null,
            "grid_template_areas": null,
            "grid_template_columns": null,
            "grid_template_rows": null,
            "height": null,
            "justify_content": null,
            "justify_items": null,
            "left": null,
            "margin": null,
            "max_height": null,
            "max_width": null,
            "min_height": null,
            "min_width": null,
            "object_fit": null,
            "object_position": null,
            "order": null,
            "overflow": null,
            "overflow_x": null,
            "overflow_y": null,
            "padding": null,
            "right": null,
            "top": null,
            "visibility": null,
            "width": null
          }
        },
        "d19cf9c883c341db86e854baa596d791": {
          "model_module": "@jupyter-widgets/controls",
          "model_module_version": "1.5.0",
          "model_name": "FloatProgressModel",
          "state": {
            "_dom_classes": [],
            "_model_module": "@jupyter-widgets/controls",
            "_model_module_version": "1.5.0",
            "_model_name": "FloatProgressModel",
            "_view_count": null,
            "_view_module": "@jupyter-widgets/controls",
            "_view_module_version": "1.5.0",
            "_view_name": "ProgressView",
            "bar_style": "success",
            "description": "",
            "description_tooltip": null,
            "layout": "IPY_MODEL_3afb784916b74e6eaa50742cb1ff1b66",
            "max": 4957,
            "min": 0,
            "orientation": "horizontal",
            "style": "IPY_MODEL_73209ed88f74407ebe1de1e30933cee6",
            "value": 4957
          }
        },
        "d6cbe631180340c5ac3837457a212610": {
          "model_module": "@jupyter-widgets/controls",
          "model_module_version": "1.5.0",
          "model_name": "DescriptionStyleModel",
          "state": {
            "_model_module": "@jupyter-widgets/controls",
            "_model_module_version": "1.5.0",
            "_model_name": "DescriptionStyleModel",
            "_view_count": null,
            "_view_module": "@jupyter-widgets/base",
            "_view_module_version": "1.2.0",
            "_view_name": "StyleView",
            "description_width": ""
          }
        },
        "d6f32459b3b04dd2b1c48d935b51a9be": {
          "model_module": "@jupyter-widgets/controls",
          "model_module_version": "1.5.0",
          "model_name": "HBoxModel",
          "state": {
            "_dom_classes": [],
            "_model_module": "@jupyter-widgets/controls",
            "_model_module_version": "1.5.0",
            "_model_name": "HBoxModel",
            "_view_count": null,
            "_view_module": "@jupyter-widgets/controls",
            "_view_module_version": "1.5.0",
            "_view_name": "HBoxView",
            "box_style": "",
            "children": [
              "IPY_MODEL_25dd086b18ef431cb00129ab8e78f27f",
              "IPY_MODEL_946cf759cefd45bab98955ba95caf271",
              "IPY_MODEL_88853de796f14a7e9c0a9d8182f181df"
            ],
            "layout": "IPY_MODEL_1ad40cfa6edf41aea4c5e796ac1893b7"
          }
        },
        "da689370fc98488eaa3be4a56a1271c0": {
          "model_module": "@jupyter-widgets/controls",
          "model_module_version": "1.5.0",
          "model_name": "HBoxModel",
          "state": {
            "_dom_classes": [],
            "_model_module": "@jupyter-widgets/controls",
            "_model_module_version": "1.5.0",
            "_model_name": "HBoxModel",
            "_view_count": null,
            "_view_module": "@jupyter-widgets/controls",
            "_view_module_version": "1.5.0",
            "_view_name": "HBoxView",
            "box_style": "",
            "children": [
              "IPY_MODEL_513da36fbe49481fb827e302463b0a5f",
              "IPY_MODEL_6468d98ca49e4e088ab18bfc6af14701",
              "IPY_MODEL_f559d69de6514e2f8795389409532697"
            ],
            "layout": "IPY_MODEL_7178fb2e98ce48aca28885c726740d43"
          }
        },
        "e2983acae8294b9695f9f483520f779b": {
          "model_module": "@jupyter-widgets/controls",
          "model_module_version": "1.5.0",
          "model_name": "ProgressStyleModel",
          "state": {
            "_model_module": "@jupyter-widgets/controls",
            "_model_module_version": "1.5.0",
            "_model_name": "ProgressStyleModel",
            "_view_count": null,
            "_view_module": "@jupyter-widgets/base",
            "_view_module_version": "1.2.0",
            "_view_name": "StyleView",
            "bar_color": null,
            "description_width": ""
          }
        },
        "e649c9fe8bba49488b632941c2e8e3e0": {
          "model_module": "@jupyter-widgets/base",
          "model_module_version": "1.2.0",
          "model_name": "LayoutModel",
          "state": {
            "_model_module": "@jupyter-widgets/base",
            "_model_module_version": "1.2.0",
            "_model_name": "LayoutModel",
            "_view_count": null,
            "_view_module": "@jupyter-widgets/base",
            "_view_module_version": "1.2.0",
            "_view_name": "LayoutView",
            "align_content": null,
            "align_items": null,
            "align_self": null,
            "border": null,
            "bottom": null,
            "display": null,
            "flex": null,
            "flex_flow": null,
            "grid_area": null,
            "grid_auto_columns": null,
            "grid_auto_flow": null,
            "grid_auto_rows": null,
            "grid_column": null,
            "grid_gap": null,
            "grid_row": null,
            "grid_template_areas": null,
            "grid_template_columns": null,
            "grid_template_rows": null,
            "height": null,
            "justify_content": null,
            "justify_items": null,
            "left": null,
            "margin": null,
            "max_height": null,
            "max_width": null,
            "min_height": null,
            "min_width": null,
            "object_fit": null,
            "object_position": null,
            "order": null,
            "overflow": null,
            "overflow_x": null,
            "overflow_y": null,
            "padding": null,
            "right": null,
            "top": null,
            "visibility": null,
            "width": null
          }
        },
        "e8a4fe6ad6bc40649cd2a71552f6485d": {
          "model_module": "@jupyter-widgets/controls",
          "model_module_version": "1.5.0",
          "model_name": "DescriptionStyleModel",
          "state": {
            "_model_module": "@jupyter-widgets/controls",
            "_model_module_version": "1.5.0",
            "_model_name": "DescriptionStyleModel",
            "_view_count": null,
            "_view_module": "@jupyter-widgets/base",
            "_view_module_version": "1.2.0",
            "_view_name": "StyleView",
            "description_width": ""
          }
        },
        "f342bbce7b2b452280a38a63781b0f35": {
          "model_module": "@jupyter-widgets/controls",
          "model_module_version": "1.5.0",
          "model_name": "ProgressStyleModel",
          "state": {
            "_model_module": "@jupyter-widgets/controls",
            "_model_module_version": "1.5.0",
            "_model_name": "ProgressStyleModel",
            "_view_count": null,
            "_view_module": "@jupyter-widgets/base",
            "_view_module_version": "1.2.0",
            "_view_name": "StyleView",
            "bar_color": null,
            "description_width": ""
          }
        },
        "f559d69de6514e2f8795389409532697": {
          "model_module": "@jupyter-widgets/controls",
          "model_module_version": "1.5.0",
          "model_name": "HTMLModel",
          "state": {
            "_dom_classes": [],
            "_model_module": "@jupyter-widgets/controls",
            "_model_module_version": "1.5.0",
            "_model_name": "HTMLModel",
            "_view_count": null,
            "_view_module": "@jupyter-widgets/controls",
            "_view_module_version": "1.5.0",
            "_view_name": "HTMLView",
            "description": "",
            "description_tooltip": null,
            "layout": "IPY_MODEL_2d5d292a2ace4d43a5dad92ed8f376a4",
            "placeholder": "​",
            "style": "IPY_MODEL_b872511013814bb786b1c8fb84d28e14",
            "value": " 29.0/29.0 [00:00&lt;00:00, 999B/s]"
          }
        },
        "f6f67dc7418c4d2eae5fc706f5f3944d": {
          "model_module": "@jupyter-widgets/controls",
          "model_module_version": "1.5.0",
          "model_name": "DescriptionStyleModel",
          "state": {
            "_model_module": "@jupyter-widgets/controls",
            "_model_module_version": "1.5.0",
            "_model_name": "DescriptionStyleModel",
            "_view_count": null,
            "_view_module": "@jupyter-widgets/base",
            "_view_module_version": "1.2.0",
            "_view_name": "StyleView",
            "description_width": ""
          }
        },
        "f91747d6687e4245ba03624d39ef9d79": {
          "model_module": "@jupyter-widgets/base",
          "model_module_version": "1.2.0",
          "model_name": "LayoutModel",
          "state": {
            "_model_module": "@jupyter-widgets/base",
            "_model_module_version": "1.2.0",
            "_model_name": "LayoutModel",
            "_view_count": null,
            "_view_module": "@jupyter-widgets/base",
            "_view_module_version": "1.2.0",
            "_view_name": "LayoutView",
            "align_content": null,
            "align_items": null,
            "align_self": null,
            "border": null,
            "bottom": null,
            "display": null,
            "flex": null,
            "flex_flow": null,
            "grid_area": null,
            "grid_auto_columns": null,
            "grid_auto_flow": null,
            "grid_auto_rows": null,
            "grid_column": null,
            "grid_gap": null,
            "grid_row": null,
            "grid_template_areas": null,
            "grid_template_columns": null,
            "grid_template_rows": null,
            "height": null,
            "justify_content": null,
            "justify_items": null,
            "left": null,
            "margin": null,
            "max_height": null,
            "max_width": null,
            "min_height": null,
            "min_width": null,
            "object_fit": null,
            "object_position": null,
            "order": null,
            "overflow": null,
            "overflow_x": null,
            "overflow_y": null,
            "padding": null,
            "right": null,
            "top": null,
            "visibility": null,
            "width": null
          }
        },
        "fe357de2578b42c2880bf0696b2fbddf": {
          "model_module": "@jupyter-widgets/controls",
          "model_module_version": "1.5.0",
          "model_name": "HTMLModel",
          "state": {
            "_dom_classes": [],
            "_model_module": "@jupyter-widgets/controls",
            "_model_module_version": "1.5.0",
            "_model_name": "HTMLModel",
            "_view_count": null,
            "_view_module": "@jupyter-widgets/controls",
            "_view_module_version": "1.5.0",
            "_view_name": "HTMLView",
            "description": "",
            "description_tooltip": null,
            "layout": "IPY_MODEL_83c25332291b46abac011349b8795d92",
            "placeholder": "​",
            "style": "IPY_MODEL_e8a4fe6ad6bc40649cd2a71552f6485d",
            "value": "Downloading: 100%"
          }
        }
      }
    }
  },
  "nbformat": 4,
  "nbformat_minor": 0
}
