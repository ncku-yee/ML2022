{
 "cells": [
  {
   "cell_type": "markdown",
   "metadata": {
    "id": "OYlaRwNu7ojq"
   },
   "source": [
    "# **Homework 2 Phoneme Classification**\n",
    "\n",
    "* Slides: https://docs.google.com/presentation/d/1v6HkBWiJb8WNDcJ9_-2kwVstxUWml87b9CnA16Gdoio/edit?usp=sharing\n",
    "* Kaggle: https://www.kaggle.com/c/ml2022spring-hw2\n",
    "* Video: TBA\n"
   ]
  },
  {
   "cell_type": "code",
   "execution_count": 1,
   "metadata": {
    "colab": {
     "base_uri": "https://localhost:8080/"
    },
    "id": "mLQI0mNcmM-O",
    "outputId": "7d5b4d81-9438-4d50-8153-cd235c47ee21"
   },
   "outputs": [
    {
     "name": "stdout",
     "output_type": "stream",
     "text": [
      "Wed Mar  9 17:31:15 2022       \r\n",
      "+-----------------------------------------------------------------------------+\r\n",
      "| NVIDIA-SMI 510.39.01    Driver Version: 511.23       CUDA Version: 11.6     |\r\n",
      "|-------------------------------+----------------------+----------------------+\r\n",
      "| GPU  Name        Persistence-M| Bus-Id        Disp.A | Volatile Uncorr. ECC |\r\n",
      "| Fan  Temp  Perf  Pwr:Usage/Cap|         Memory-Usage | GPU-Util  Compute M. |\r\n",
      "|                               |                      |               MIG M. |\r\n",
      "|===============================+======================+======================|\r\n",
      "|   0  NVIDIA GeForce ...  On   | 00000000:01:00.0  On |                  N/A |\r\n",
      "|  0%   51C    P8    21W / 170W |   1492MiB /  6144MiB |      9%      Default |\r\n",
      "|                               |                      |                  N/A |\r\n",
      "+-------------------------------+----------------------+----------------------+\r\n",
      "                                                                               \r\n",
      "+-----------------------------------------------------------------------------+\r\n",
      "| Processes:                                                                  |\r\n",
      "|  GPU   GI   CI        PID   Type   Process name                  GPU Memory |\r\n",
      "|        ID   ID                                                   Usage      |\r\n",
      "|=============================================================================|\r\n",
      "|  No running processes found                                                 |\r\n",
      "+-----------------------------------------------------------------------------+\r\n"
     ]
    }
   ],
   "source": [
    "!nvidia-smi"
   ]
  },
  {
   "cell_type": "markdown",
   "metadata": {},
   "source": [
    "# Git Clone `torchsummay` packages to fix the bugs."
   ]
  },
  {
   "cell_type": "code",
   "execution_count": null,
   "metadata": {},
   "outputs": [],
   "source": [
    "!git clone https://github.com/Bond-SYSU/pytorch-summary\n",
    "!mv pytorch-summary/torchsummary ./\n",
    "!rm pytorch-summary -rf"
   ]
  },
  {
   "cell_type": "markdown",
   "metadata": {
    "id": "KVUGfWTo7_Oj"
   },
   "source": [
    "## Download Data\n",
    "Download data from google drive, then unzip it.\n",
    "\n",
    "You should have\n",
    "- `libriphone/train_split.txt`\n",
    "- `libriphone/train_labels`\n",
    "- `libriphone/test_split.txt`\n",
    "- `libriphone/feat/train/*.pt`: training feature<br>\n",
    "- `libriphone/feat/test/*.pt`:  testing feature<br>\n",
    "\n",
    "after running the following block.\n",
    "\n",
    "> **Notes: if the google drive link is dead, you can download the data directly from [Kaggle](https://www.kaggle.com/c/ml2022spring-hw2/data) and upload it to the workspace**\n"
   ]
  },
  {
   "cell_type": "markdown",
   "metadata": {
    "id": "Bj5jYXsD9Ef3"
   },
   "source": [
    "### Download train/test metadata"
   ]
  },
  {
   "cell_type": "code",
   "execution_count": null,
   "metadata": {
    "colab": {
     "base_uri": "https://localhost:8080/"
    },
    "id": "OzkiMEcC3Foq",
    "outputId": "0c8644b9-8a1e-4d23-de78-bef46c22bb1f"
   },
   "outputs": [],
   "source": [
    "!pip install --upgrade gdown\n",
    "\n",
    "# Main link\n",
    "!gdown --id '1o6Ag-G3qItSmYhTheX6DYiuyNzWyHyTc' --output libriphone.zip\n",
    "\n",
    "# Backup link 1\n",
    "# !gdown --id '1R1uQYi4QpX0tBfUWt2mbZcncdBsJkxeW' --output libriphone.zip\n",
    "\n",
    "# Bqckup link 2\n",
    "# !wget -O libriphone.zip \"https://www.dropbox.com/s/wqww8c5dbrl2ka9/libriphone.zip?dl=1\"\n",
    "\n",
    "!unzip -q libriphone.zip\n",
    "!ls libriphone"
   ]
  },
  {
   "cell_type": "markdown",
   "metadata": {},
   "source": [
    "# Import packages"
   ]
  },
  {
   "cell_type": "code",
   "execution_count": 2,
   "metadata": {},
   "outputs": [],
   "source": [
    "# Numerical Operations\n",
    "import random\n",
    "import numpy as np\n",
    "\n",
    "# Reading/Writing Data\n",
    "import os\n",
    "import pandas as pd\n",
    "\n",
    "# Garbage Collection\n",
    "import gc\n",
    "\n",
    "# For Progress Bar\n",
    "from tqdm import tqdm\n",
    "\n",
    "# Pytorch\n",
    "import torch\n",
    "import torch.nn as nn\n",
    "from torch.utils.data import Dataset, DataLoader\n",
    "# Ref: https://github.com/Bond-SYSU/pytorch-summary\n",
    "from torchsummary import summary\n",
    "\n",
    "# Visualize the training information\n",
    "import matplotlib.pyplot as plt\n",
    "\n",
    "# For hyper-parameters searching\n",
    "import optuna"
   ]
  },
  {
   "cell_type": "markdown",
   "metadata": {},
   "source": [
    "# Utility Functions"
   ]
  },
  {
   "cell_type": "code",
   "execution_count": 3,
   "metadata": {
    "id": "88xPiUnm0tAd"
   },
   "outputs": [],
   "source": [
    "def same_seed(seed): \n",
    "    \"\"\" Fixes random number generator seeds for reproducibility. \"\"\"\n",
    "    torch.backends.cudnn.deterministic = True\n",
    "    torch.backends.cudnn.benchmark = False\n",
    "    np.random.seed(seed)\n",
    "    torch.manual_seed(seed)\n",
    "    if torch.cuda.is_available():\n",
    "        torch.cuda.manual_seed_all(seed)"
   ]
  },
  {
   "cell_type": "markdown",
   "metadata": {
    "id": "_L_4anls8Drv"
   },
   "source": [
    "# Preparing Data"
   ]
  },
  {
   "cell_type": "markdown",
   "metadata": {
    "id": "po4N3C-AWuWl"
   },
   "source": [
    "**Helper functions to pre-process the training data from raw MFCC features of each utterance.**\n",
    "\n",
    "A phoneme may span several frames and is dependent to past and future frames. \\\n",
    "Hence we concatenate neighboring phonemes for training to achieve higher accuracy. The **concat_feat** function concatenates past and future k frames (total 2k+1 = n frames), and we predict the center frame.\n",
    "\n",
    "Feel free to modify the data preprocess functions, but **do not drop any frame** (if you modify the functions, remember to check that the number of frames are the same as mentioned in the slides)"
   ]
  },
  {
   "cell_type": "code",
   "execution_count": 4,
   "metadata": {
    "id": "IJjLT8em-y9G"
   },
   "outputs": [],
   "source": [
    "def load_feat(path):\n",
    "    feat = torch.load(path)\n",
    "    return feat\n",
    "\n",
    "def shift(x, n):\n",
    "    if n < 0:\n",
    "        left = x[0].repeat(-n, 1)\n",
    "        right = x[:n]\n",
    "    elif n > 0:\n",
    "        right = x[-1].repeat(n, 1)\n",
    "        left = x[n:]\n",
    "    else:\n",
    "        return x\n",
    "\n",
    "    return torch.cat((left, right), dim=0)\n",
    "\n",
    "def concat_feat(x, concat_n):\n",
    "    \"\"\" Get n frames' features. \"\"\"\n",
    "    assert concat_n % 2 == 1                # Total n frames must be odd\n",
    "    if concat_n < 2:\n",
    "        return x\n",
    "    seq_len, feature_dim = x.size()         # Dimension: (seq_len, feature_dim)\n",
    "    x = x.repeat(1, concat_n)               # Repeats tensor x along the specified dimensions.\n",
    "    x = x.view(seq_len, concat_n, feature_dim).permute(1, 0, 2) # Dimension: (concat_n, seq_len, feature_dim)\n",
    "    mid = (concat_n // 2)                   # Get the middle of n frames(We want to predict).\n",
    "    for r_idx in range(1, mid+1):\n",
    "        x[mid + r_idx] = shift(x[mid + r_idx], r_idx)\n",
    "        x[mid - r_idx] = shift(x[mid - r_idx], -r_idx)\n",
    "\n",
    "    return x.permute(1, 0, 2)               # Dimension: (seq_len, concat_n, feature_dim)\n",
    "\n",
    "def preprocess_data(split, feat_dir, phone_path, concat_nframes, train_ratio=0.8, train_val_seed=1337):\n",
    "    class_num = 41                          # NOTE: pre-computed, should not need change\n",
    "    mode = 'train' if (split == 'train' or split == 'valid') else 'test'\n",
    "\n",
    "    # Get train / valid label dictionary\n",
    "    label_dict = {}\n",
    "    if mode != 'test':\n",
    "        phone_file = open(os.path.join(phone_path, f'{mode}_labels.txt')).readlines()\n",
    "\n",
    "        for line in phone_file:\n",
    "            line = line.strip('\\n').split(' ')\n",
    "            label_dict[line[0]] = [int(p) for p in line[1:]]\n",
    "\n",
    "    if split == 'train' or split == 'valid':\n",
    "        # split training and validation data\n",
    "        usage_list = open(os.path.join(phone_path, 'train_split.txt')).readlines()\n",
    "        random.seed(train_val_seed)                         # Fix the random seed.\n",
    "        random.shuffle(usage_list)                          # Training data shuffled.\n",
    "        percent = int(len(usage_list) * train_ratio)        # Border index between training and validation data.\n",
    "        usage_list = usage_list[:percent] if split == 'train' else usage_list[percent:] # Get training / validation data\n",
    "    elif split == 'test':\n",
    "        usage_list = open(os.path.join(phone_path, 'test_split.txt')).readlines()\n",
    "    else:\n",
    "        raise ValueError('Invalid \\'split\\' argument for dataset: PhoneDataset!')\n",
    "\n",
    "    usage_list = [line.strip('\\n') for line in usage_list]  # Strip newline in dataset.\n",
    "    print(f\"[Dataset] - # phone classes: {str(class_num)}, number of utterances for {split}: {str(len(usage_list))}\")\n",
    "\n",
    "    max_len = 3000000\n",
    "    X = torch.empty(max_len, concat_nframes, 39)            # Create an empty tensor.\n",
    "    if mode != 'test':\n",
    "        y = torch.empty(max_len, dtype=torch.long)          # Create an empty tensor.\n",
    "\n",
    "    idx = 0\n",
    "    for fname in tqdm(usage_list):\n",
    "        feat = load_feat(os.path.join(feat_dir, mode, f'{fname}.pt'))       # Load features.\n",
    "        cur_len = len(feat)                                                 # Length of features\n",
    "        feat = concat_feat(feat, concat_nframes)                            # Get features after concatenating n frames.\n",
    "        # Get train / valid labels.\n",
    "        if mode != 'test':\n",
    "            label = torch.LongTensor(label_dict[fname])\n",
    "\n",
    "        X[idx: idx + cur_len, :] = feat                                     # Copy features to X.\n",
    "        if mode != 'test':\n",
    "            y[idx: idx + cur_len] = label                                   # Copy label to y.\n",
    "\n",
    "        idx += cur_len\n",
    "\n",
    "    X = X[:idx, :]      # Discard other empty tensor.\n",
    "    if mode != 'test':\n",
    "        y = y[:idx]     # Discard other empty tensor.\n",
    "\n",
    "    print(f\"[INFO] {split} set\")\n",
    "    print(X.shape)\n",
    "    if mode != 'test':\n",
    "        print(y.shape)\n",
    "        return X, y\n",
    "    else:\n",
    "        return X\n"
   ]
  },
  {
   "cell_type": "markdown",
   "metadata": {
    "id": "us5XW_x6udZQ"
   },
   "source": [
    "## Define Dataset"
   ]
  },
  {
   "cell_type": "code",
   "execution_count": 5,
   "metadata": {
    "id": "Fjf5EcmJtf4e"
   },
   "outputs": [],
   "source": [
    "class LibriDataset(Dataset):\n",
    "    def __init__(self, X, y=None):\n",
    "        self.data = X\n",
    "        if y is not None:\n",
    "            self.label = torch.LongTensor(y)\n",
    "        else:\n",
    "            self.label = None\n",
    "\n",
    "    def __getitem__(self, idx):\n",
    "        if self.label is not None:\n",
    "            return self.data[idx], self.label[idx]\n",
    "        else:\n",
    "            return self.data[idx]\n",
    "\n",
    "    def __len__(self):\n",
    "        return len(self.data)\n"
   ]
  },
  {
   "cell_type": "markdown",
   "metadata": {
    "id": "IRqKNvNZwe3V"
   },
   "source": [
    "## Define Model"
   ]
  },
  {
   "cell_type": "code",
   "execution_count": 6,
   "metadata": {
    "id": "Bg-GRd7ywdrL"
   },
   "outputs": [],
   "source": [
    "class BasicBlock(nn.Module):\n",
    "    def __init__(self, input_dim, output_dim, prob=0.2):\n",
    "        super(BasicBlock, self).__init__()\n",
    "\n",
    "        self.block = nn.Sequential(\n",
    "            nn.Linear(input_dim, output_dim),\n",
    "            nn.LeakyReLU(),\n",
    "            nn.BatchNorm1d(output_dim),\n",
    "            nn.Dropout(p=prob),\n",
    "        )\n",
    "\n",
    "    def forward(self, x):\n",
    "        x = self.block(x)\n",
    "        return x\n",
    "\n",
    "\n",
    "class LSTMClassifier(nn.Module):\n",
    "    def __init__(self, input_dim, output_dim=41, hidden_layers=1, hidden_dim=256, num_layers=3, prob=0.3, device='cuda'):\n",
    "        super(LSTMClassifier, self).__init__()\n",
    "        self.num_layers = hidden_layers\n",
    "        self.hidden_size = hidden_dim\n",
    "        self.device = device\n",
    "        \n",
    "        self.lstm = nn.LSTM(\n",
    "            input_size=input_dim,\n",
    "            hidden_size=hidden_dim,\n",
    "            num_layers=num_layers,\n",
    "            dropout=prob,\n",
    "            batch_first=True,\n",
    "            bidirectional=True,\n",
    "        )\n",
    "\n",
    "        self.fc = nn.Sequential(\n",
    "            *[BasicBlock(int(hidden_dim / pow(2, i)), int(hidden_dim / pow(2, i+1)), prob) for i in range(hidden_layers)],\n",
    "            nn.Linear(int(hidden_dim / pow(2, hidden_layers)), output_dim)\n",
    "        )\n",
    "\n",
    "    def forward(self, x):\n",
    "        # h_0 = torch.zeros(self.num_layers, x.size(0), self.hidden_size).to(self.device) # hidden state\n",
    "        # c_0 = torch.zeros(self.num_layers, x.size(0), self.hidden_size).to(self.device) # internal state\n",
    "        output, (h_n, c_n) = self.lstm(x)   # Propagate to LSTM getting output, hidden state and internal state\n",
    "        h_n = self.fc(h_n[-1])              # Use the hidden state of output in last layer of LSTM.\n",
    "        return h_n"
   ]
  },
  {
   "cell_type": "markdown",
   "metadata": {},
   "source": [
    "# Configurations\n",
    "Define own parameters for the whole architecture."
   ]
  },
  {
   "cell_type": "code",
   "execution_count": 7,
   "metadata": {},
   "outputs": [
    {
     "name": "stdout",
     "output_type": "stream",
     "text": [
      "Using cuda device\n"
     ]
    }
   ],
   "source": [
    "device = 'cuda' if torch.cuda.is_available() else 'cpu'\n",
    "print(f\"Using {device} device\")\n",
    "\n",
    "concat_nframes = 51             # Number of frames to concat with, n must be odd (total 2k+1 = n frames)\n",
    "\n",
    "config = {\n",
    "    # Data Processing parameters.\n",
    "    'train_ratio': 0.95,        # training_size = train_size * train_ratio(The rest are validation)\n",
    "\n",
    "    # Training parameters.\n",
    "    'seed': 5201314,            # Your seed number, you can pick your lucky number. :)\n",
    "    'n_epochs': 20,             # Number of epochs\n",
    "    'batch_size': 256,          # Batch size\n",
    "    'optimizer': 'AdamW',       # Select optimizer\n",
    "    'optim_hparas': {           # Hyper-parameters of optimizer\n",
    "        'lr': 0.001,            # Learning rate for optimizer\n",
    "        'weight_decay': 0.1     # L2 Regularization\n",
    "    },\n",
    "    \n",
    "    # Learning Rate Scheduler\n",
    "    'lr_scheduler': 'CosineAnnealingLR',\n",
    "    'lr_hparas': {              # Hyper-parameters of Learning Rate Scheduler\n",
    "        'T_max': 5,\n",
    "        'verbose': True\n",
    "    },\n",
    "    \n",
    "    'save_path': './models/modelLSTM.ckpt',  # Your model will be saved here.\n",
    "\n",
    "    # Model parameters.\n",
    "    'model_paras': {\n",
    "        'input_dim': 39,        # Input dimension of the model(Varies with concat frames)\n",
    "        'hidden_layers': 2,     # Number of hidden layers\n",
    "        'hidden_dim': 256,      # Each hidden layer's dimension\n",
    "        'num_layers': 5,        # Number of LSTM layers\n",
    "        'prob': 0.5,            # Dropout probability\n",
    "        'device': device\n",
    "    }\n",
    "}"
   ]
  },
  {
   "cell_type": "markdown",
   "metadata": {
    "id": "IIUFRgG5yoDn"
   },
   "source": [
    "# Dataloader\n",
    "Read data from files and set up training, validation, and testing sets. You do not need to modify this part."
   ]
  },
  {
   "cell_type": "code",
   "execution_count": 8,
   "metadata": {
    "colab": {
     "base_uri": "https://localhost:8080/"
    },
    "id": "c1zI3v5jyrDn",
    "outputId": "7fd90470-ef44-404a-a043-cb8e83fd1801"
   },
   "outputs": [
    {
     "name": "stdout",
     "output_type": "stream",
     "text": [
      "[Dataset] - # phone classes: 41, number of utterances for train: 4071\n"
     ]
    },
    {
     "name": "stderr",
     "output_type": "stream",
     "text": [
      "100%|█████████████████████████████████████████████████████████████████████████████████████████████████████████████████████████████████| 4071/4071 [00:34<00:00, 117.39it/s]\n"
     ]
    },
    {
     "name": "stdout",
     "output_type": "stream",
     "text": [
      "[INFO] train set\n",
      "torch.Size([2513163, 51, 39])\n",
      "torch.Size([2513163])\n",
      "[Dataset] - # phone classes: 41, number of utterances for valid: 215\n"
     ]
    },
    {
     "name": "stderr",
     "output_type": "stream",
     "text": [
      "100%|███████████████████████████████████████████████████████████████████████████████████████████████████████████████████████████████████| 215/215 [00:01<00:00, 117.08it/s]"
     ]
    },
    {
     "name": "stdout",
     "output_type": "stream",
     "text": [
      "[INFO] valid set\n",
      "torch.Size([130995, 51, 39])\n",
      "torch.Size([130995])\n"
     ]
    },
    {
     "name": "stderr",
     "output_type": "stream",
     "text": [
      "\n"
     ]
    }
   ],
   "source": [
    "# Preprocess data\n",
    "train_X, train_y = preprocess_data(split='train', feat_dir='./libriphone/feat', phone_path='./libriphone', concat_nframes=concat_nframes, train_ratio=config['train_ratio'])\n",
    "valid_X, valid_y = preprocess_data(split='valid', feat_dir='./libriphone/feat', phone_path='./libriphone', concat_nframes=concat_nframes, train_ratio=config['train_ratio'])\n",
    "\n",
    "# Get dataset\n",
    "train_set = LibriDataset(train_X, train_y)\n",
    "valid_set = LibriDataset(valid_X, valid_y)\n",
    "\n",
    "# Remove raw feature to save memory\n",
    "del train_X, train_y, valid_X, valid_y\n",
    "gc.collect()\n",
    "\n",
    "# Get dataloader\n",
    "train_loader = DataLoader(train_set, batch_size=config['batch_size'], num_workers=2, shuffle=True)\n",
    "valid_loader = DataLoader(valid_set, batch_size=config['batch_size'], num_workers=2, shuffle=False)"
   ]
  },
  {
   "cell_type": "markdown",
   "metadata": {
    "id": "pwWH1KIqzxEr"
   },
   "source": [
    "## Training Loop"
   ]
  },
  {
   "cell_type": "code",
   "execution_count": 9,
   "metadata": {
    "colab": {
     "base_uri": "https://localhost:8080/"
    },
    "id": "CdMWsBs7zzNs",
    "outputId": "cfb0046d-52a5-4a90-c073-f4091e8b230e"
   },
   "outputs": [],
   "source": [
    "def trainer(train_loader, valid_loader, model, config, device, param=None, trial=None):\n",
    "\n",
    "    criterion = nn.CrossEntropyLoss()           # Define the loss function.\n",
    "\n",
    "    # If we sepcify parameters for selection of optimizer, otherwise use optimizer in config.\n",
    "    if param:\n",
    "        optimizer = getattr(torch.optim, param['optimizer'])(model.parameters(), **param['optim_hparas'])\n",
    "    else:\n",
    "        optimizer = getattr(torch.optim, config['optimizer'])(model.parameters(), **config['optim_hparas'])\n",
    "        \n",
    "    # Learning rate scheduling\n",
    "    if hasattr(torch.optim.lr_scheduler, config['lr_scheduler']):\n",
    "        scheduler = getattr(torch.optim.lr_scheduler, config['lr_scheduler'])(optimizer, **config['lr_hparas'])\n",
    "    else:\n",
    "        scheduler = None\n",
    "\n",
    "    if not os.path.isdir('./models'):\n",
    "        os.mkdir('./models')                    # Create directory of saving models.\n",
    "\n",
    "    n_epochs, best_acc = config['n_epochs'], 0.0\n",
    "    train_acc_record, train_loss_record = [], []\n",
    "    valid_acc_record, valid_loss_record = [], []\n",
    "\n",
    "\n",
    "    for epoch in range(n_epochs):\n",
    "        train_acc, train_loss = 0.0, 0.0\n",
    "        valid_acc, valid_loss = 0.0, 0.0\n",
    "\n",
    "        \"\"\"Training\"\"\"\n",
    "        size = len(train_loader.dataset)        # Number of training data.\n",
    "        batch_size = len(train_loader)          # Number of batches.\n",
    "\n",
    "        model.train()                           # Set your model to training mode.\n",
    "\n",
    "        # tqdm is a package to visualize your training progress.\n",
    "        train_pbar = tqdm(train_loader, position=0, leave=True)\n",
    "\n",
    "        for X, y in train_pbar:\n",
    "            X, y = X.to(device), y.to(device)   # Move the dataset to the device('cpu'/'cuda') that torch assign.\n",
    "\n",
    "            # Compute prediction error\n",
    "            pred = model(X) \n",
    "            loss = criterion(pred, y)\n",
    "\n",
    "            # Backpropagation\n",
    "            optimizer.zero_grad()               # Set gradient to zero.\n",
    "            loss.backward()                     # Compute gradient(backpropagate).\n",
    "            optimizer.step()                    # Update parameters.\n",
    "\n",
    "            # Get the index of the class with the highest probability\n",
    "            train_acc += (pred.argmax(1) == y).type(torch.float).sum().item()\n",
    "            train_loss += loss.item()\n",
    "\n",
    "            # Display current epoch number and loss on tqdm progress bar.\n",
    "            train_pbar.set_description(f\"Train\")\n",
    "\n",
    "        # Compute the average loss among all batches and the accuracy of an epoch.\n",
    "        train_acc_record.append(train_acc / size)\n",
    "        train_loss_record.append(train_loss / batch_size)\n",
    "\n",
    "        \"\"\"Validation\"\"\"\n",
    "        if len(valid_loader.dataset) > 0:       # No data in validation dataloader.\n",
    "            size = len(valid_loader.dataset)    # Number of validation data.\n",
    "            batch_size = len(valid_loader)      # Number of batches.\n",
    "\n",
    "            model.eval()                        # Set your model to evaluation mode.\n",
    "\n",
    "            # tqdm is a package to visualize your validation progress.\n",
    "            valid_pbar = tqdm(valid_loader, position=0, leave=True)\n",
    "\n",
    "            with torch.no_grad():\n",
    "                for X, y in valid_pbar:\n",
    "                    X, y = X.to(device), y.to(device)   # Move the dataset to the device('cpu'/'cuda') that torch assign.\n",
    "\n",
    "                    # Compute prediction error\n",
    "                    pred = model(X) \n",
    "                    loss = criterion(pred, y)\n",
    "\n",
    "                    valid_acc += (pred.argmax(1) == y).type(torch.float).sum().item()\n",
    "                    valid_loss += loss.item()\n",
    "\n",
    "                    # Display current epoch number and loss on tqdm progress bar.\n",
    "                    valid_pbar.set_description(f\"Valid\")\n",
    "\n",
    "                # Compute the average loss among all batches and the accuracy of an epoch\n",
    "                valid_acc_record.append(valid_acc / size)\n",
    "                valid_loss_record.append(valid_loss / batch_size)\n",
    "\n",
    "            print(f\"Epoch: {epoch+1:>3d} / {n_epochs:>3d}\")\n",
    "            print(f\"\\tTraining   Acc: {train_acc_record[-1]:>7f} | loss: {train_loss_record[-1]:>7f}\")\n",
    "            print(f\"\\tValidation Acc: {valid_acc_record[-1]:>7f} | loss: {valid_loss_record[-1]:>7f}\")\n",
    "\n",
    "            # Updates the current best acc and save the best model\n",
    "            if valid_acc_record[-1] > best_acc:\n",
    "                best_acc = valid_acc_record[-1]\n",
    "                torch.save(model.state_dict(), config['save_path'])\n",
    "                print(f\"Saving model with acc {best_acc:0.3f}\")\n",
    "                \n",
    "            if scheduler:                       # Use Learning Rate Scheduler\n",
    "                scheduler.step()\n",
    "        else:\n",
    "            print(f\"Epoch: {epoch+1:>3d} / {n_epochs:>3d}\")\n",
    "            print(f\"\\tTraining Acc: {train_acc[-1]:>7f} | loss: {train_loss[-1]:>7f}\")\n",
    "\n",
    "    # If not validation, save the last epoch\n",
    "    if len(valid_loader.dataset) == 0:\n",
    "        torch.save(model.state_dict(), config['save_path'])\n",
    "        print('Saving model at last epoch')\n",
    "\n",
    "    return train_acc_record, train_loss_record, valid_acc_record, valid_loss_record # Return the information about training & validation\n"
   ]
  },
  {
   "cell_type": "markdown",
   "metadata": {},
   "source": [
    "# Start training!"
   ]
  },
  {
   "cell_type": "code",
   "execution_count": 10,
   "metadata": {
    "id": "QTp3ZXg1yO9Y"
   },
   "outputs": [],
   "source": [
    "# Set seed for reproducibility\n",
    "same_seed(config['seed'])"
   ]
  },
  {
   "cell_type": "code",
   "execution_count": 11,
   "metadata": {
    "scrolled": true
   },
   "outputs": [
    {
     "name": "stdout",
     "output_type": "stream",
     "text": [
      "LSTMClassifier(\n",
      "  (lstm): LSTM(39, 256, num_layers=5, batch_first=True, dropout=0.5, bidirectional=True)\n",
      "  (fc): Sequential(\n",
      "    (0): BasicBlock(\n",
      "      (block): Sequential(\n",
      "        (0): Linear(in_features=256, out_features=128, bias=True)\n",
      "        (1): LeakyReLU(negative_slope=0.01)\n",
      "        (2): BatchNorm1d(128, eps=1e-05, momentum=0.1, affine=True, track_running_stats=True)\n",
      "        (3): Dropout(p=0.5, inplace=False)\n",
      "      )\n",
      "    )\n",
      "    (1): BasicBlock(\n",
      "      (block): Sequential(\n",
      "        (0): Linear(in_features=128, out_features=64, bias=True)\n",
      "        (1): LeakyReLU(negative_slope=0.01)\n",
      "        (2): BatchNorm1d(64, eps=1e-05, momentum=0.1, affine=True, track_running_stats=True)\n",
      "        (3): Dropout(p=0.5, inplace=False)\n",
      "      )\n",
      "    )\n",
      "    (2): Linear(in_features=64, out_features=41, bias=True)\n",
      "  )\n",
      ")\n",
      "----------------------------------------------------------------\n",
      "        Layer (type)               Output Shape         Param #\n",
      "================================================================\n",
      "              LSTM-1  [[-1, 51, 512], [[10, -1, 256], [10, -1, 256]]]         6916096\n",
      "            Linear-2                  [-1, 128]           32896\n",
      "         LeakyReLU-3                  [-1, 128]               0\n",
      "       BatchNorm1d-4                  [-1, 128]             256\n",
      "           Dropout-5                  [-1, 128]               0\n",
      "        BasicBlock-6                  [-1, 128]           33152\n",
      "            Linear-7                   [-1, 64]            8256\n",
      "         LeakyReLU-8                   [-1, 64]               0\n",
      "       BatchNorm1d-9                   [-1, 64]             128\n",
      "          Dropout-10                   [-1, 64]               0\n",
      "       BasicBlock-11                   [-1, 64]            8384\n",
      "           Linear-12                   [-1, 41]            2665\n",
      "================================================================\n",
      "Total params: tensor(7001833)\n",
      "Trainable params: tensor(7001833)\n",
      "Non-trainable params: tensor(0)\n",
      "----------------------------------------------------------------\n"
     ]
    }
   ],
   "source": [
    "model = LSTMClassifier(**config['model_paras']).to(device)      # Put the model and data on the same computation device.\n",
    "\n",
    "# Get the input size of training data.\n",
    "input_size = None\n",
    "for X, y in train_loader:\n",
    "    input_size = X.shape[1:]                                    # input_size = (C, H, W)\n",
    "    break\n",
    "\n",
    "# Pass model and the input size as parameters.\n",
    "print(model)\n",
    "summary(model, input_size)"
   ]
  },
  {
   "cell_type": "code",
   "execution_count": 12,
   "metadata": {
    "scrolled": true
   },
   "outputs": [
    {
     "name": "stdout",
     "output_type": "stream",
     "text": [
      "Adjusting learning rate of group 0 to 1.0000e-03.\n"
     ]
    },
    {
     "name": "stderr",
     "output_type": "stream",
     "text": [
      "Train: 100%|███████████████████████████████████████████████████████████████████████████████████████████████████████████████████████████| 9818/9818 [25:04<00:00,  6.53it/s]\n",
      "Valid: 100%|█████████████████████████████████████████████████████████████████████████████████████████████████████████████████████████████| 512/512 [00:25<00:00, 20.39it/s]\n"
     ]
    },
    {
     "name": "stdout",
     "output_type": "stream",
     "text": [
      "Epoch:   1 /  20\n",
      "\tTraining   Acc: 0.613654 | loss: 1.411458\n",
      "\tValidation Acc: 0.755830 | loss: 0.863238\n",
      "Saving model with acc 0.756\n",
      "Adjusting learning rate of group 0 to 9.0451e-04.\n"
     ]
    },
    {
     "name": "stderr",
     "output_type": "stream",
     "text": [
      "Train: 100%|███████████████████████████████████████████████████████████████████████████████████████████████████████████████████████████| 9818/9818 [25:17<00:00,  6.47it/s]\n",
      "Valid: 100%|█████████████████████████████████████████████████████████████████████████████████████████████████████████████████████████████| 512/512 [00:25<00:00, 19.97it/s]\n"
     ]
    },
    {
     "name": "stdout",
     "output_type": "stream",
     "text": [
      "Epoch:   2 /  20\n",
      "\tTraining   Acc: 0.779677 | loss: 0.828883\n",
      "\tValidation Acc: 0.790389 | loss: 0.756297\n",
      "Saving model with acc 0.790\n",
      "Adjusting learning rate of group 0 to 6.5451e-04.\n"
     ]
    },
    {
     "name": "stderr",
     "output_type": "stream",
     "text": [
      "Train: 100%|███████████████████████████████████████████████████████████████████████████████████████████████████████████████████████████| 9818/9818 [25:22<00:00,  6.45it/s]\n",
      "Valid: 100%|█████████████████████████████████████████████████████████████████████████████████████████████████████████████████████████████| 512/512 [00:25<00:00, 20.30it/s]\n"
     ]
    },
    {
     "name": "stdout",
     "output_type": "stream",
     "text": [
      "Epoch:   3 /  20\n",
      "\tTraining   Acc: 0.826582 | loss: 0.649360\n",
      "\tValidation Acc: 0.807428 | loss: 0.730772\n",
      "Saving model with acc 0.807\n",
      "Adjusting learning rate of group 0 to 3.4549e-04.\n"
     ]
    },
    {
     "name": "stderr",
     "output_type": "stream",
     "text": [
      "Train: 100%|███████████████████████████████████████████████████████████████████████████████████████████████████████████████████████████| 9818/9818 [25:17<00:00,  6.47it/s]\n",
      "Valid: 100%|█████████████████████████████████████████████████████████████████████████████████████████████████████████████████████████████| 512/512 [00:24<00:00, 20.78it/s]\n"
     ]
    },
    {
     "name": "stdout",
     "output_type": "stream",
     "text": [
      "Epoch:   4 /  20\n",
      "\tTraining   Acc: 0.866282 | loss: 0.489429\n",
      "\tValidation Acc: 0.827887 | loss: 0.685771\n",
      "Saving model with acc 0.828\n",
      "Adjusting learning rate of group 0 to 9.5492e-05.\n"
     ]
    },
    {
     "name": "stderr",
     "output_type": "stream",
     "text": [
      "Train: 100%|███████████████████████████████████████████████████████████████████████████████████████████████████████████████████████████| 9818/9818 [26:12<00:00,  6.24it/s]\n",
      "Valid: 100%|█████████████████████████████████████████████████████████████████████████████████████████████████████████████████████████████| 512/512 [00:27<00:00, 18.95it/s]\n"
     ]
    },
    {
     "name": "stdout",
     "output_type": "stream",
     "text": [
      "Epoch:   5 /  20\n",
      "\tTraining   Acc: 0.900720 | loss: 0.353229\n",
      "\tValidation Acc: 0.838414 | loss: 0.703346\n",
      "Saving model with acc 0.838\n",
      "Adjusting learning rate of group 0 to 0.0000e+00.\n"
     ]
    },
    {
     "name": "stderr",
     "output_type": "stream",
     "text": [
      "Train: 100%|███████████████████████████████████████████████████████████████████████████████████████████████████████████████████████████| 9818/9818 [26:54<00:00,  6.08it/s]\n",
      "Valid: 100%|█████████████████████████████████████████████████████████████████████████████████████████████████████████████████████████████| 512/512 [00:25<00:00, 19.87it/s]\n"
     ]
    },
    {
     "name": "stdout",
     "output_type": "stream",
     "text": [
      "Epoch:   6 /  20\n",
      "\tTraining   Acc: 0.909908 | loss: 0.315798\n",
      "\tValidation Acc: 0.838742 | loss: 0.702994\n",
      "Saving model with acc 0.839\n",
      "Adjusting learning rate of group 0 to 9.5492e-05.\n"
     ]
    },
    {
     "name": "stderr",
     "output_type": "stream",
     "text": [
      "Train: 100%|███████████████████████████████████████████████████████████████████████████████████████████████████████████████████████████| 9818/9818 [25:59<00:00,  6.30it/s]\n",
      "Valid: 100%|█████████████████████████████████████████████████████████████████████████████████████████████████████████████████████████████| 512/512 [00:25<00:00, 19.95it/s]\n"
     ]
    },
    {
     "name": "stdout",
     "output_type": "stream",
     "text": [
      "Epoch:   7 /  20\n",
      "\tTraining   Acc: 0.910134 | loss: 0.312978\n",
      "\tValidation Acc: 0.837192 | loss: 0.728249\n",
      "Adjusting learning rate of group 0 to 3.4549e-04.\n"
     ]
    },
    {
     "name": "stderr",
     "output_type": "stream",
     "text": [
      "Train: 100%|███████████████████████████████████████████████████████████████████████████████████████████████████████████████████████████| 9818/9818 [25:59<00:00,  6.30it/s]\n",
      "Valid: 100%|█████████████████████████████████████████████████████████████████████████████████████████████████████████████████████████████| 512/512 [00:25<00:00, 19.89it/s]\n"
     ]
    },
    {
     "name": "stdout",
     "output_type": "stream",
     "text": [
      "Epoch:   8 /  20\n",
      "\tTraining   Acc: 0.880119 | loss: 0.428260\n",
      "\tValidation Acc: 0.822047 | loss: 0.719087\n",
      "Adjusting learning rate of group 0 to 6.5451e-04.\n"
     ]
    },
    {
     "name": "stderr",
     "output_type": "stream",
     "text": [
      "Train: 100%|███████████████████████████████████████████████████████████████████████████████████████████████████████████████████████████| 9818/9818 [26:02<00:00,  6.28it/s]\n",
      "Valid: 100%|█████████████████████████████████████████████████████████████████████████████████████████████████████████████████████████████| 512/512 [00:25<00:00, 20.37it/s]\n"
     ]
    },
    {
     "name": "stdout",
     "output_type": "stream",
     "text": [
      "Epoch:   9 /  20\n",
      "\tTraining   Acc: 0.844412 | loss: 0.570620\n",
      "\tValidation Acc: 0.811359 | loss: 0.716336\n",
      "Adjusting learning rate of group 0 to 9.0451e-04.\n"
     ]
    },
    {
     "name": "stderr",
     "output_type": "stream",
     "text": [
      "Train: 100%|███████████████████████████████████████████████████████████████████████████████████████████████████████████████████████████| 9818/9818 [25:19<00:00,  6.46it/s]\n",
      "Valid: 100%|█████████████████████████████████████████████████████████████████████████████████████████████████████████████████████████████| 512/512 [00:24<00:00, 20.54it/s]\n"
     ]
    },
    {
     "name": "stdout",
     "output_type": "stream",
     "text": [
      "Epoch:  10 /  20\n",
      "\tTraining   Acc: 0.823573 | loss: 0.654297\n",
      "\tValidation Acc: 0.805825 | loss: 0.722975\n",
      "Adjusting learning rate of group 0 to 1.0000e-03.\n"
     ]
    },
    {
     "name": "stderr",
     "output_type": "stream",
     "text": [
      "Train: 100%|███████████████████████████████████████████████████████████████████████████████████████████████████████████████████████████| 9818/9818 [25:16<00:00,  6.47it/s]\n",
      "Valid: 100%|█████████████████████████████████████████████████████████████████████████████████████████████████████████████████████████████| 512/512 [00:24<00:00, 20.69it/s]\n"
     ]
    },
    {
     "name": "stdout",
     "output_type": "stream",
     "text": [
      "Epoch:  11 /  20\n",
      "\tTraining   Acc: 0.823688 | loss: 0.653062\n",
      "\tValidation Acc: 0.806641 | loss: 0.716947\n",
      "Adjusting learning rate of group 0 to 9.0451e-04.\n"
     ]
    },
    {
     "name": "stderr",
     "output_type": "stream",
     "text": [
      "Train: 100%|███████████████████████████████████████████████████████████████████████████████████████████████████████████████████████████| 9818/9818 [25:13<00:00,  6.49it/s]\n",
      "Valid: 100%|█████████████████████████████████████████████████████████████████████████████████████████████████████████████████████████████| 512/512 [00:25<00:00, 20.11it/s]\n"
     ]
    },
    {
     "name": "stdout",
     "output_type": "stream",
     "text": [
      "Epoch:  12 /  20\n",
      "\tTraining   Acc: 0.831097 | loss: 0.624229\n",
      "\tValidation Acc: 0.809985 | loss: 0.709838\n",
      "Adjusting learning rate of group 0 to 6.5451e-04.\n"
     ]
    },
    {
     "name": "stderr",
     "output_type": "stream",
     "text": [
      "Train: 100%|███████████████████████████████████████████████████████████████████████████████████████████████████████████████████████████| 9818/9818 [25:17<00:00,  6.47it/s]\n",
      "Valid: 100%|█████████████████████████████████████████████████████████████████████████████████████████████████████████████████████████████| 512/512 [00:24<00:00, 20.56it/s]\n"
     ]
    },
    {
     "name": "stdout",
     "output_type": "stream",
     "text": [
      "Epoch:  13 /  20\n",
      "\tTraining   Acc: 0.856223 | loss: 0.522761\n",
      "\tValidation Acc: 0.816642 | loss: 0.714426\n",
      "Adjusting learning rate of group 0 to 3.4549e-04.\n"
     ]
    },
    {
     "name": "stderr",
     "output_type": "stream",
     "text": [
      "Train: 100%|███████████████████████████████████████████████████████████████████████████████████████████████████████████████████████████| 9818/9818 [25:30<00:00,  6.42it/s]\n",
      "Valid: 100%|█████████████████████████████████████████████████████████████████████████████████████████████████████████████████████████████| 512/512 [00:25<00:00, 19.89it/s]\n"
     ]
    },
    {
     "name": "stdout",
     "output_type": "stream",
     "text": [
      "Epoch:  14 /  20\n",
      "\tTraining   Acc: 0.890233 | loss: 0.386461\n",
      "\tValidation Acc: 0.834200 | loss: 0.696203\n",
      "Adjusting learning rate of group 0 to 9.5492e-05.\n"
     ]
    },
    {
     "name": "stderr",
     "output_type": "stream",
     "text": [
      "Train: 100%|███████████████████████████████████████████████████████████████████████████████████████████████████████████████████████████| 9818/9818 [25:53<00:00,  6.32it/s]\n",
      "Valid: 100%|█████████████████████████████████████████████████████████████████████████████████████████████████████████████████████████████| 512/512 [00:25<00:00, 20.07it/s]\n"
     ]
    },
    {
     "name": "stdout",
     "output_type": "stream",
     "text": [
      "Epoch:  15 /  20\n",
      "\tTraining   Acc: 0.919552 | loss: 0.273785\n",
      "\tValidation Acc: 0.848551 | loss: 0.707304\n",
      "Saving model with acc 0.849\n",
      "Adjusting learning rate of group 0 to 0.0000e+00.\n"
     ]
    },
    {
     "name": "stderr",
     "output_type": "stream",
     "text": [
      "Train: 100%|███████████████████████████████████████████████████████████████████████████████████████████████████████████████████████████| 9818/9818 [25:52<00:00,  6.32it/s]\n",
      "Valid: 100%|█████████████████████████████████████████████████████████████████████████████████████████████████████████████████████████████| 512/512 [00:25<00:00, 19.83it/s]\n"
     ]
    },
    {
     "name": "stdout",
     "output_type": "stream",
     "text": [
      "Epoch:  16 /  20\n",
      "\tTraining   Acc: 0.927097 | loss: 0.244127\n",
      "\tValidation Acc: 0.848697 | loss: 0.710587\n",
      "Saving model with acc 0.849\n",
      "Adjusting learning rate of group 0 to 9.5492e-05.\n"
     ]
    },
    {
     "name": "stderr",
     "output_type": "stream",
     "text": [
      "Train: 100%|███████████████████████████████████████████████████████████████████████████████████████████████████████████████████████████| 9818/9818 [28:08<00:00,  5.81it/s]\n",
      "Valid: 100%|█████████████████████████████████████████████████████████████████████████████████████████████████████████████████████████████| 512/512 [00:35<00:00, 14.34it/s]\n"
     ]
    },
    {
     "name": "stdout",
     "output_type": "stream",
     "text": [
      "Epoch:  17 /  20\n",
      "\tTraining   Acc: 0.926702 | loss: 0.244335\n",
      "\tValidation Acc: 0.846330 | loss: 0.750472\n",
      "Adjusting learning rate of group 0 to 3.4549e-04.\n"
     ]
    },
    {
     "name": "stderr",
     "output_type": "stream",
     "text": [
      "Train: 100%|███████████████████████████████████████████████████████████████████████████████████████████████████████████████████████████| 9818/9818 [42:27<00:00,  3.85it/s]\n",
      "Valid: 100%|█████████████████████████████████████████████████████████████████████████████████████████████████████████████████████████████| 512/512 [00:25<00:00, 20.48it/s]\n"
     ]
    },
    {
     "name": "stdout",
     "output_type": "stream",
     "text": [
      "Epoch:  18 /  20\n",
      "\tTraining   Acc: 0.896877 | loss: 0.358248\n",
      "\tValidation Acc: 0.829383 | loss: 0.729060\n",
      "Adjusting learning rate of group 0 to 6.5451e-04.\n"
     ]
    },
    {
     "name": "stderr",
     "output_type": "stream",
     "text": [
      "Train: 100%|███████████████████████████████████████████████████████████████████████████████████████████████████████████████████████████| 9818/9818 [25:22<00:00,  6.45it/s]\n",
      "Valid: 100%|█████████████████████████████████████████████████████████████████████████████████████████████████████████████████████████████| 512/512 [00:24<00:00, 20.96it/s]\n"
     ]
    },
    {
     "name": "stdout",
     "output_type": "stream",
     "text": [
      "Epoch:  19 /  20\n",
      "\tTraining   Acc: 0.854642 | loss: 0.526702\n",
      "\tValidation Acc: 0.820321 | loss: 0.702851\n",
      "Adjusting learning rate of group 0 to 9.0451e-04.\n"
     ]
    },
    {
     "name": "stderr",
     "output_type": "stream",
     "text": [
      "Train: 100%|███████████████████████████████████████████████████████████████████████████████████████████████████████████████████████████| 9818/9818 [25:13<00:00,  6.49it/s]\n",
      "Valid: 100%|█████████████████████████████████████████████████████████████████████████████████████████████████████████████████████████████| 512/512 [00:25<00:00, 20.17it/s]"
     ]
    },
    {
     "name": "stdout",
     "output_type": "stream",
     "text": [
      "Epoch:  20 /  20\n",
      "\tTraining   Acc: 0.834263 | loss: 0.608924\n",
      "\tValidation Acc: 0.814481 | loss: 0.715519\n",
      "Adjusting learning rate of group 0 to 1.0000e-03.\n"
     ]
    },
    {
     "name": "stderr",
     "output_type": "stream",
     "text": [
      "\n"
     ]
    }
   ],
   "source": [
    "train_acc, train_loss, valid_acc, valid_loss = trainer(train_loader, valid_loader, model, config, device)"
   ]
  },
  {
   "cell_type": "code",
   "execution_count": 13,
   "metadata": {},
   "outputs": [
    {
     "data": {
      "image/png": "[encoded data removed]",
      "text/plain": [
       "<Figure size 864x576 with 1 Axes>"
      ]
     },
     "metadata": {
      "needs_background": "light"
     },
     "output_type": "display_data"
    },
    {
     "data": {
      "image/png": "[encoded data removed]",
      "text/plain": [
       "<Figure size 864x576 with 1 Axes>"
      ]
     },
     "metadata": {
      "needs_background": "light"
     },
     "output_type": "display_data"
    }
   ],
   "source": [
    "plt.figure(figsize=(12, 8))\n",
    "plt.plot(list(range(1, config['n_epochs'] + 1)), train_loss)   # plot your training loss\n",
    "plt.plot(list(range(1, config['n_epochs'] + 1)), valid_loss)   # plot your validation loss\n",
    "plt.title('Loss')\n",
    "plt.ylabel('loss'), plt.xlabel('epoch')\n",
    "plt.legend(['training loss', 'testing loss'], loc = 'upper right')\n",
    "plt.savefig('loss.png')\n",
    "plt.show()\n",
    "\n",
    "plt.figure(figsize=(12, 8))\n",
    "plt.plot(list(range(1, config['n_epochs'] + 1)), train_acc)    # plot your training accuracy\n",
    "plt.plot(list(range(1, config['n_epochs'] + 1)), valid_acc)    # plot your validation accuracy\n",
    "plt.title('Accuracy')\n",
    "plt.ylabel('acc'), plt.xlabel('epoch')\n",
    "plt.legend(['training acc', 'testing acc'], loc = 'upper left')\n",
    "plt.savefig('acc.png')\n",
    "plt.show()"
   ]
  },
  {
   "cell_type": "code",
   "execution_count": 14,
   "metadata": {
    "colab": {
     "base_uri": "https://localhost:8080/"
    },
    "id": "ab33MxosWLmG",
    "outputId": "7ea97815-15cc-4afa-fa7e-b65460b91640"
   },
   "outputs": [
    {
     "data": {
      "text/plain": [
       "7042"
      ]
     },
     "execution_count": 14,
     "metadata": {},
     "output_type": "execute_result"
    }
   ],
   "source": [
    "del train_loader, valid_loader\n",
    "gc.collect()"
   ]
  },
  {
   "cell_type": "markdown",
   "metadata": {
    "id": "1Hi7jTn3PX-m"
   },
   "source": [
    "## Testing\n",
    "Create a testing dataset, and load model from the saved checkpoint."
   ]
  },
  {
   "cell_type": "code",
   "execution_count": 15,
   "metadata": {
    "colab": {
     "base_uri": "https://localhost:8080/"
    },
    "id": "VOG1Ou0PGrhc",
    "outputId": "81077fbc-a6ea-46b7-9a57-a690480fbb6b"
   },
   "outputs": [
    {
     "name": "stdout",
     "output_type": "stream",
     "text": [
      "[Dataset] - # phone classes: 41, number of utterances for test: 1078\n"
     ]
    },
    {
     "name": "stderr",
     "output_type": "stream",
     "text": [
      "100%|██████████████████████████████████████████████████████████████████████████████████████████████████████████████████████████████████| 1078/1078 [00:24<00:00, 44.38it/s]"
     ]
    },
    {
     "name": "stdout",
     "output_type": "stream",
     "text": [
      "[INFO] test set\n",
      "torch.Size([646268, 51, 39])\n"
     ]
    },
    {
     "name": "stderr",
     "output_type": "stream",
     "text": [
      "\n"
     ]
    }
   ],
   "source": [
    "# load data\n",
    "test_X = preprocess_data(split='test', feat_dir='./libriphone/feat', phone_path='./libriphone', concat_nframes=concat_nframes)\n",
    "test_set = LibriDataset(test_X, None)\n",
    "test_loader = DataLoader(test_set, batch_size=config['batch_size'], shuffle=False)"
   ]
  },
  {
   "cell_type": "code",
   "execution_count": 16,
   "metadata": {
    "colab": {
     "base_uri": "https://localhost:8080/"
    },
    "id": "ay0Fu8Ovkdad",
    "outputId": "a29d1dbc-3222-4cec-8f84-04475b77cceb"
   },
   "outputs": [
    {
     "data": {
      "text/plain": [
       "<All keys matched successfully>"
      ]
     },
     "execution_count": 16,
     "metadata": {},
     "output_type": "execute_result"
    }
   ],
   "source": [
    "# load model\n",
    "model = LSTMClassifier(**config['model_paras']).to(device)\n",
    "model.load_state_dict(torch.load(config['save_path']))"
   ]
  },
  {
   "cell_type": "markdown",
   "metadata": {
    "id": "zp-DV1p4r7Nz"
   },
   "source": [
    "# Prediction"
   ]
  },
  {
   "cell_type": "code",
   "execution_count": 17,
   "metadata": {
    "colab": {
     "base_uri": "https://localhost:8080/"
    },
    "id": "84HU5GGjPqR0",
    "outputId": "bbaaa8c5-d88c-4ef3-f7be-d75b208cd5df"
   },
   "outputs": [
    {
     "name": "stderr",
     "output_type": "stream",
     "text": [
      "100%|██████████████████████████████████████████████████████████████████████████████████████████████████████████████████████████████████| 2525/2525 [02:01<00:00, 20.84it/s]\n"
     ]
    }
   ],
   "source": [
    "test_acc = 0.0\n",
    "test_lengths = 0\n",
    "preds = np.array([], dtype=np.int32)\n",
    "\n",
    "model.eval()                        # Set your model to evaluation mode.\n",
    "with torch.no_grad():               # In evaluation mode, no need gradient\n",
    "    for X in tqdm(test_loader):\n",
    "        X = X.to(device)            # Move the dataset to the device('cpu'/'cuda') that torch assign.\n",
    "\n",
    "        pred = model(X)             # Predictions.\n",
    "\n",
    "        pred = pred.argmax(axis=1)  # Get the index of maximum prediction values.\n",
    "        preds = np.concatenate((preds, pred.cpu().numpy()), axis=0)"
   ]
  },
  {
   "cell_type": "markdown",
   "metadata": {
    "id": "wyZqy40Prz0v"
   },
   "source": [
    "Write prediction to a CSV file.\n",
    "\n",
    "After finish running this block, download the file `prediction.csv` from the files section on the left-hand side and submit it to Kaggle."
   ]
  },
  {
   "cell_type": "code",
   "execution_count": 18,
   "metadata": {
    "id": "GuljYSPHcZir"
   },
   "outputs": [],
   "source": [
    "with open('prediction.csv', 'w') as f:\n",
    "    f.write('Id,Class\\n')\n",
    "    for i, y in enumerate(preds):\n",
    "        f.write('{},{}\\n'.format(i, y))"
   ]
  },
  {
   "cell_type": "markdown",
   "metadata": {},
   "source": [
    "# Optuna Hyper-paramters Search (optional)\n",
    "Define the objective function and find the best parameters for given range of parameters."
   ]
  },
  {
   "cell_type": "code",
   "execution_count": null,
   "metadata": {},
   "outputs": [],
   "source": [
    "def objective(trial):\n",
    "    \"\"\" Objective function \"\"\"\n",
    "    # Parameters will search\n",
    "    params = {\n",
    "        'n_frames': trial.suggest_int(\"n_frames\", 1, 51, 2),\n",
    "        'batch_size': trial.suggest_categorical('batch_size', [64, 128, 256, 512, 1024]),\n",
    "         \n",
    "        # Model parameters.\n",
    "        'model_paras': {\n",
    "            'input_dim': 39,        # Input dimension of the model(Varies with concat frames)\n",
    "            'hidden_layers': trial.suggest_int(\"hidden_layers\", 1, 3, 1),\n",
    "            'hidden_dim': trial.suggest_categorical('hidden_dim', [128, 256, 512, 1024]),\n",
    "            'num_layers': trial.suggest_int(\"num_layers\", 1, 6, 1),\n",
    "            'prob': trial.suggest_categorical('prob', [0.2, 0.3, 0.5, 0.7, 0.8]),\n",
    "            'device': device\n",
    "        }\n",
    "    }\n",
    "    \n",
    "    config = {\n",
    "        # Data Processing parameters.\n",
    "        'train_ratio': 0.95,        # training_size = train_size * train_ratio(The rest are validation)\n",
    "\n",
    "        # Training parameters.\n",
    "        'seed': 5201314,            # Your seed number, you can pick your lucky number. :)\n",
    "        'n_epochs': 20,             # Number of epochs\n",
    "        'batch_size': 256,          # Batch size\n",
    "        'optimizer': 'AdamW',       # Select optimizer\n",
    "        'optim_hparas': {           # Hyper-parameters of optimizer\n",
    "            'lr': 0.001,            # Learning rate for optimizer\n",
    "            'weight_decay': 0.1     # L2 Regularization\n",
    "        },\n",
    "        \n",
    "        # Learning Rate Scheduler\n",
    "        'lr_scheduler': 'CosineAnnealingLR',\n",
    "        'lr_hparas': {              # Hyper-parameters of Learning Rate Scheduler\n",
    "            'T_max': 5,\n",
    "            'verbose': True\n",
    "        },\n",
    "        \n",
    "        'save_path': './models/modelOptuna.ckpt',  # Your model will be saved here.\n",
    "\n",
    "        # Model parameters.\n",
    "        'model_paras': {\n",
    "            'input_dim': 39,        # Input dimension of the model(Varies with concat frames)\n",
    "            'hidden_layers': 2,     # Number of hidden layers\n",
    "            'hidden_dim': 256,      # Each hidden layer's dimension\n",
    "            'num_layers': 5,        # Number of LSTM layers\n",
    "            'prob': 0.5,            # Dropout probability\n",
    "            'device': device\n",
    "        }\n",
    "    }\n",
    "\n",
    "    # Preprocess data\n",
    "    train_X, train_y = preprocess_data(split='train', feat_dir='./libriphone/feat', phone_path='./libriphone', concat_nframes=43, train_ratio=config['train_ratio'])\n",
    "    valid_X, valid_y = preprocess_data(split='valid', feat_dir='./libriphone/feat', phone_path='./libriphone', concat_nframes=43, train_ratio=config['train_ratio'])\n",
    "\n",
    "    # Get dataset\n",
    "    train_set = LibriDataset(train_X, train_y)\n",
    "    valid_set = LibriDataset(valid_X, valid_y)\n",
    "\n",
    "    # Remove raw feature to save memory\n",
    "    del train_X, train_y, valid_X, valid_y\n",
    "    gc.collect()\n",
    "\n",
    "    # Get dataloader\n",
    "    train_loader = DataLoader(train_set, batch_size=params['batch_size'], shuffle=True)\n",
    "    valid_loader = DataLoader(valid_set, batch_size=params['batch_size'], shuffle=False)\n",
    "    \n",
    "    same_seed(config['seed'])\n",
    "\n",
    "    model = LSTMClassifier(**params['model_paras']).to(device)  # Specify the activation and n_units\n",
    "    train_acc, train_loss, valid_acc, valid_loss = trainer(train_loader, valid_loader, model, config, device)   # Get the best acc / loss of validation\n",
    "    return max(valid_acc)                                       # Return maximum accuracy of validation"
   ]
  },
  {
   "cell_type": "code",
   "execution_count": null,
   "metadata": {},
   "outputs": [],
   "source": [
    "study = optuna.create_study(direction=\"maximize\", sampler=optuna.samplers.TPESampler(), pruner=optuna.pruners.MedianPruner())   # Maximize the objective accuracy\n",
    "study.optimize(objective, n_trials=25)                                                                                          # Do n_trails"
   ]
  },
  {
   "cell_type": "code",
   "execution_count": null,
   "metadata": {},
   "outputs": [],
   "source": [
    "best_trial = study.best_trial               # The best trial's parameters\n",
    "\n",
    "for key, value in best_trial.params.items():\n",
    "    print(\"{}: {}\".format(key, value))"
   ]
  },
  {
   "cell_type": "code",
   "execution_count": null,
   "metadata": {},
   "outputs": [],
   "source": [
    "for trial in study.trials:                  # Total trials\n",
    "    print(f\"Params: {trial.params}, Acc: {trial.values[0]}\")"
   ]
  },
  {
   "cell_type": "code",
   "execution_count": null,
   "metadata": {},
   "outputs": [],
   "source": []
  }
 ],
 "metadata": {
  "accelerator": "GPU",
  "colab": {
   "collapsed_sections": [],
   "name": "ML2022Spring - HW2.ipynb",
   "provenance": []
  },
  "kernelspec": {
   "display_name": "Python 3 (ipykernel)",
   "language": "python",
   "name": "python3"
  },
  "language_info": {
   "codemirror_mode": {
    "name": "ipython",
    "version": 3
   },
   "file_extension": ".py",
   "mimetype": "text/x-python",
   "name": "python",
   "nbconvert_exporter": "python",
   "pygments_lexer": "ipython3",
   "version": "3.8.10"
  }
 },
 "nbformat": 4,
 "nbformat_minor": 1
}
