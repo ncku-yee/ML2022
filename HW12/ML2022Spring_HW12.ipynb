{
  "cells": [
    {
      "cell_type": "markdown",
      "metadata": {
        "id": "Fp30SB4bxeQb"
      },
      "source": [
        "# **Homework 12 - Reinforcement Learning**\n",
        "\n",
        "If you have any problem, e-mail us at ntu-ml-2022spring-ta@googlegroups.com\n",
        "\n"
      ]
    },
    {
      "cell_type": "markdown",
      "metadata": {
        "id": "yXsnCWPtWSNk"
      },
      "source": [
        "## Preliminary work\n",
        "\n",
        "First, we need to install all necessary packages.\n",
        "One of them, gym, builded by OpenAI, is a toolkit for developing Reinforcement Learning algorithm. Other packages are for visualization in colab."
      ]
    },
    {
      "cell_type": "code",
      "execution_count": null,
      "metadata": {
        "colab": {
          "base_uri": "https://localhost:8080/"
        },
        "id": "5e2bScpnkVbv",
        "outputId": "7820b1d8-6bda-41bf-c9cc-d459a67c0129"
      },
      "outputs": [],
      "source": [
        "!apt update\n",
        "!apt install python-opengl xvfb -y\n",
        "!pip install gym[box2d]==0.18.3 pyvirtualdisplay tqdm numpy==1.19.5 torch==1.8.1"
      ]
    },
    {
      "cell_type": "markdown",
      "metadata": {
        "id": "M_-i3cdoYsks"
      },
      "source": [
        "\n",
        "Next, set up virtual display，and import all necessaary packages."
      ]
    },
    {
      "cell_type": "code",
      "execution_count": 1,
      "metadata": {
        "id": "nl2nREINDLiw"
      },
      "outputs": [],
      "source": [
        "%%capture\n",
        "from pyvirtualdisplay import Display\n",
        "virtual_display = Display(visible=0, size=(1400, 900))\n",
        "virtual_display.start()\n",
        "\n",
        "%matplotlib inline\n",
        "import matplotlib.pyplot as plt\n",
        "\n",
        "from IPython import display\n",
        "\n",
        "import numpy as np\n",
        "import torch\n",
        "import torch.nn as nn\n",
        "import torch.optim as optim\n",
        "import torch.nn.functional as F\n",
        "from torch.distributions import Categorical\n",
        "from tqdm.notebook import tqdm\n",
        "from argparse import Namespace\n",
        "from collections import deque"
      ]
    },
    {
      "cell_type": "markdown",
      "metadata": {
        "id": "CaEJ8BUCpN9P"
      },
      "source": [
        "# Warning ! Do not revise random seed !!!\n",
        "# Your submission on JudgeBoi will not reproduce your result !!!\n",
        "Make your HW result to be reproducible.\n"
      ]
    },
    {
      "cell_type": "code",
      "execution_count": 2,
      "metadata": {},
      "outputs": [],
      "source": [
        "seed = 543 # Do not change this\n",
        "def fix(env, seed):\n",
        "    env.seed(seed)\n",
        "    env.action_space.seed(seed)\n",
        "    torch.manual_seed(seed)\n",
        "    torch.cuda.manual_seed(seed)\n",
        "    torch.cuda.manual_seed_all(seed)\n",
        "    np.random.seed(seed)\n",
        "    random.seed(seed)\n",
        "    torch.set_deterministic(True)\n",
        "    torch.backends.cudnn.benchmark = False\n",
        "    torch.backends.cudnn.deterministic = True"
      ]
    },
    {
      "cell_type": "markdown",
      "metadata": {
        "id": "He0XDx6bzjgC"
      },
      "source": [
        "Last, call gym and build an [Lunar Lander](https://gym.openai.com/envs/LunarLander-v2/) environment."
      ]
    },
    {
      "cell_type": "code",
      "execution_count": 3,
      "metadata": {
        "id": "N_4-xJcbBt09"
      },
      "outputs": [
        {
          "name": "stderr",
          "output_type": "stream",
          "text": [
            "[W Context.cpp:70] Warning: torch.use_deterministic_algorithms is in beta, and its design and functionality may change in the future. (function operator())\n"
          ]
        }
      ],
      "source": [
        "%%capture\n",
        "import gym\n",
        "import random\n",
        "env = gym.make('LunarLander-v2')\n",
        "fix(env, seed) # fix the environment Do not revise this !!!"
      ]
    },
    {
      "cell_type": "markdown",
      "metadata": {
        "id": "NrkVvTrvWZ5H"
      },
      "source": [
        "## What Lunar Lander？\n",
        "\n",
        "“LunarLander-v2”is to simulate the situation when the craft lands on the surface of the moon.\n",
        "\n",
        "This task is to enable the craft to land \"safely\" at the pad between the two yellow flags.\n",
        "> Landing pad is always at coordinates (0,0).\n",
        "> Coordinates are the first two numbers in state vector.\n",
        "\n",
        "![](https://gym.openai.com/assets/docs/aeloop-138c89d44114492fd02822303e6b4b07213010bb14ca5856d2d49d6b62d88e53.svg)\n",
        "\n",
        "\"LunarLander-v2\" actually includes \"Agent\" and \"Environment\". \n",
        "\n",
        "In this homework, we will utilize the function `step()` to control the action of \"Agent\". \n",
        "\n",
        "Then `step()` will return the observation/state and reward given by the \"Environment\"."
      ]
    },
    {
      "cell_type": "markdown",
      "metadata": {
        "id": "bIbp82sljvAt"
      },
      "source": [
        "### Observation / State\n",
        "\n",
        "First, we can take a look at what an Observation / State looks like."
      ]
    },
    {
      "cell_type": "code",
      "execution_count": 4,
      "metadata": {
        "colab": {
          "base_uri": "https://localhost:8080/"
        },
        "id": "rsXZra3N9R5T",
        "outputId": "82e9e3ab-099d-4c0a-db3b-d6e78bad214b"
      },
      "outputs": [
        {
          "name": "stdout",
          "output_type": "stream",
          "text": [
            "Box(-inf, inf, (8,), float32)\n"
          ]
        }
      ],
      "source": [
        "print(env.observation_space)"
      ]
    },
    {
      "cell_type": "markdown",
      "metadata": {
        "id": "ezdfoThbAQ49"
      },
      "source": [
        "\n",
        "`Box(8,)`means that observation is an 8-dim vector\n",
        "### Action\n",
        "\n",
        "Actions can be taken by looks like"
      ]
    },
    {
      "cell_type": "code",
      "execution_count": 5,
      "metadata": {
        "colab": {
          "base_uri": "https://localhost:8080/"
        },
        "id": "p1k4dIrBAaKi",
        "outputId": "bdcbaf22-f826-4f64-9991-64206f374fda"
      },
      "outputs": [
        {
          "name": "stdout",
          "output_type": "stream",
          "text": [
            "Discrete(4)\n"
          ]
        }
      ],
      "source": [
        "print(env.action_space)"
      ]
    },
    {
      "cell_type": "markdown",
      "metadata": {
        "id": "dejXT6PHBrPn"
      },
      "source": [
        "`Discrete(4)` implies that there are four kinds of actions can be taken by agent.\n",
        "- 0 implies the agent will not take any actions\n",
        "- 2 implies the agent will accelerate downward\n",
        "- 1, 3 implies the agent will accelerate left and right\n",
        "\n",
        "Next, we will try to make the agent interact with the environment. \n",
        "Before taking any actions, we recommend to call `reset()` function to reset the environment. Also, this function will return the initial state of the environment."
      ]
    },
    {
      "cell_type": "code",
      "execution_count": 6,
      "metadata": {
        "colab": {
          "base_uri": "https://localhost:8080/"
        },
        "id": "pi4OmrmZgnWA",
        "outputId": "41f0b315-a5d9-47f9-b742-94eb3f67242a"
      },
      "outputs": [
        {
          "name": "stdout",
          "output_type": "stream",
          "text": [
            "[ 0.00396109  1.4083536   0.40119505 -0.11407257 -0.00458307 -0.09087662\n",
            "  0.          0.        ]\n"
          ]
        }
      ],
      "source": [
        "initial_state = env.reset()\n",
        "print(initial_state)"
      ]
    },
    {
      "cell_type": "markdown",
      "metadata": {
        "id": "uBx0mEqqgxJ9"
      },
      "source": [
        "Then, we try to get a random action from the agent's action space."
      ]
    },
    {
      "cell_type": "code",
      "execution_count": 7,
      "metadata": {
        "colab": {
          "base_uri": "https://localhost:8080/"
        },
        "id": "vxkOEXRKgizt",
        "outputId": "03b68bf0-a25e-4b94-d686-1b3ca6402338"
      },
      "outputs": [
        {
          "name": "stdout",
          "output_type": "stream",
          "text": [
            "0\n"
          ]
        }
      ],
      "source": [
        "random_action = env.action_space.sample()\n",
        "print(random_action)"
      ]
    },
    {
      "cell_type": "markdown",
      "metadata": {
        "id": "mns-bO01g0-J"
      },
      "source": [
        "More, we can utilize `step()` to make agent act according to the randomly-selected `random_action`.\n",
        "The `step()` function will return four values:\n",
        "- observation / state\n",
        "- reward\n",
        "- done (True/ False)\n",
        "- Other information"
      ]
    },
    {
      "cell_type": "code",
      "execution_count": 8,
      "metadata": {
        "id": "E_WViSxGgIk9"
      },
      "outputs": [],
      "source": [
        "observation, reward, done, info = env.step(random_action)"
      ]
    },
    {
      "cell_type": "code",
      "execution_count": 9,
      "metadata": {
        "colab": {
          "base_uri": "https://localhost:8080/"
        },
        "id": "yK7r126kuCNp",
        "outputId": "4c00ab4a-6f08-4d4a-df5f-917ad6d3ca52"
      },
      "outputs": [
        {
          "name": "stdout",
          "output_type": "stream",
          "text": [
            "False\n"
          ]
        }
      ],
      "source": [
        "print(done)"
      ]
    },
    {
      "cell_type": "markdown",
      "metadata": {
        "id": "GKdS8vOihxhc"
      },
      "source": [
        "### Reward\n",
        "\n",
        "\n",
        "> Landing pad is always at coordinates (0,0). Coordinates are the first two numbers in state vector. Reward for moving from the top of the screen to landing pad and zero speed is about 100..140 points. If lander moves away from landing pad it loses reward back. Episode finishes if the lander crashes or comes to rest, receiving additional -100 or +100 points. Each leg ground contact is +10. Firing main engine is -0.3 points each frame. Solved is 200 points. "
      ]
    },
    {
      "cell_type": "code",
      "execution_count": 10,
      "metadata": {
        "colab": {
          "base_uri": "https://localhost:8080/"
        },
        "id": "vxQNs77hi0_7",
        "outputId": "2fea6e0d-1b91-4871-8251-a62cc8b7532e"
      },
      "outputs": [
        {
          "name": "stdout",
          "output_type": "stream",
          "text": [
            "-0.8588845024543161\n"
          ]
        }
      ],
      "source": [
        "print(reward)"
      ]
    },
    {
      "cell_type": "markdown",
      "metadata": {
        "id": "Mhqp6D-XgHpe"
      },
      "source": [
        "### Random Agent\n",
        "In the end, before we start training, we can see whether a random agent can successfully land the moon or not."
      ]
    },
    {
      "cell_type": "code",
      "execution_count": 11,
      "metadata": {
        "colab": {
          "base_uri": "https://localhost:8080/",
          "height": 640
        },
        "id": "Y3G0bxoccelv",
        "outputId": "8d80bae2-d1e1-4c12-bef2-8f8fcaf53c12"
      },
      "outputs": [],
      "source": [
        "env.reset()\n",
        "\n",
        "img = plt.imshow(env.render(mode='rgb_array'))\n",
        "\n",
        "done = False\n",
        "while not done:\n",
        "    action = env.action_space.sample()\n",
        "    observation, reward, done, _ = env.step(action)\n",
        "\n",
        "    img.set_data(env.render(mode='rgb_array'))\n",
        "    display.display(plt.gcf())\n",
        "    display.clear_output(wait=True)"
      ]
    },
    {
      "cell_type": "markdown",
      "metadata": {
        "id": "F5paWqo7tWL2"
      },
      "source": [
        "## Advantage Actor Critic\n",
        "Ref: https://github.com/tejaskhot/pytorch-LunarLander/blob/master/a2c.py  \n",
        "Now, we can build actor and critic network.  \n",
        "Actor network will return one of action in the action space.  \n",
        "Critic network will return the expected value."
      ]
    },
    {
      "cell_type": "code",
      "execution_count": 12,
      "metadata": {
        "id": "J8tdmeD-tZew"
      },
      "outputs": [],
      "source": [
        "class Actor(nn.Module):\n",
        "\n",
        "    def __init__(self, state_size=8, action_size=4, hidden_size=64):\n",
        "        super().__init__()\n",
        "        self.fc = nn.Sequential(\n",
        "            nn.Linear(state_size, hidden_size),\n",
        "            nn.ReLU(),\n",
        "            nn.Linear(hidden_size, hidden_size),\n",
        "            nn.ReLU(),\n",
        "            nn.Linear(hidden_size, hidden_size),\n",
        "            nn.ReLU(),\n",
        "            nn.Linear(hidden_size, action_size),\n",
        "            nn.Softmax(dim=-1),\n",
        "        )\n",
        "\n",
        "    def forward(self, state):\n",
        "        # Returning probability of each action\n",
        "        return self.fc(state)\n",
        "\n",
        "class Critic(nn.Module):\n",
        "\n",
        "    def __init__(self, state_size=8, hidden_size=64, drop_prob=0.3):\n",
        "        super().__init__()\n",
        "        self.fc = nn.Sequential(\n",
        "            nn.Linear(state_size, hidden_size),\n",
        "            nn.ReLU(),\n",
        "            nn.Dropout(p=drop_prob),\n",
        "            nn.Linear(hidden_size, hidden_size // 2),\n",
        "            nn.ReLU(),\n",
        "            nn.Dropout(p=drop_prob),\n",
        "            nn.Linear(hidden_size // 2, 1),\n",
        "        )\n",
        "\n",
        "    def forward(self, state):\n",
        "        # critic: evaluates being in the state s_t\n",
        "        return self.fc(state)"
      ]
    },
    {
      "cell_type": "markdown",
      "metadata": {
        "id": "ynbqJrhIFTC3"
      },
      "source": [
        "Then, we need to build a simple agent. The agent will acts according to the output of the actor / critic network above. There are a few things can be done by agent:\n",
        "- `learn()`：update the actor network from log probabilities and advantages and the critic network from rewards.\n",
        "- `sample()`：After receiving observation from the environment, utilize actor network to tell which action to take and critic network to predict the state value. The return values of this function includes action, log probabilities and state value.\n",
        "- `step()`: Performs a step, if reach the `update_freq` then call `learn()` to update the agent / critic network.\n",
        "- `empty()`: Empty the experience list includes (reward, log_prob, next_state_value, state_value, done)."
      ]
    },
    {
      "cell_type": "code",
      "execution_count": 13,
      "metadata": {
        "id": "zZo-IxJx286z"
      },
      "outputs": [],
      "source": [
        "from torch.optim.lr_scheduler import StepLR\n",
        "class ActorCriticAgent():\n",
        "    \n",
        "    def __init__(self, actor, critic, **kwargs):\n",
        "        # Configuration parameters\n",
        "        self.config = Namespace(**kwargs)\n",
        "\n",
        "        # Actor-Critic Network\n",
        "        self.actor = actor\n",
        "        self.critic = critic\n",
        "        self.optimizer_actor = getattr(optim, self.config.optimizer)(self.actor.parameters(), lr=self.config.learning_rate)\n",
        "        self.optimizer_critic = getattr(optim, self.config.optimizer)(self.critic.parameters(), lr=self.config.learning_rate)\n",
        "        self.loss_fn = nn.SmoothL1Loss()\n",
        "\n",
        "        # Step and update frequency\n",
        "        self.step_t = 0\n",
        "        self.update_freq = self.config.update_freq\n",
        "\n",
        "        # Records\n",
        "        self.loss_values = []\n",
        "\n",
        "        self.empty()\n",
        "\n",
        "    def step(self, log_probs, rewards, state_values, next_state_values, dones):\n",
        "        self.step_t = (self.step_t + 1) % self.update_freq\n",
        "\n",
        "        # Append the experiences\n",
        "        self.rewards += rewards\n",
        "        self.log_probs += log_probs\n",
        "        self.state_values += state_values\n",
        "        self.next_state_values += next_state_values\n",
        "        self.dones += dones\n",
        "\n",
        "        # Update Network\n",
        "        if self.step_t == 0:\n",
        "            self.learn(\n",
        "                torch.stack(self.log_probs),                                # log probabilities\n",
        "                torch.tensor(self.rewards, dtype=torch.float32),            # discounted cumulative rewards\n",
        "                torch.tensor(self.state_values, requires_grad=True),        # state_values\n",
        "                torch.tensor(self.next_state_values, requires_grad=True),   # next_state_values\n",
        "                torch.tensor(self.dones),                                   # dones\n",
        "            )\n",
        "            # Empty the experiences\n",
        "            self.empty()\n",
        "\n",
        "    def empty(self):\n",
        "        \"\"\" Empty the experience list \"\"\"\n",
        "        self.rewards = []\n",
        "        self.log_probs = []\n",
        "        self.state_values = []\n",
        "        self.next_state_values = []\n",
        "        self.dones = []\n",
        "\n",
        "    def learn(self, log_probs, rewards, state_values, next_state_values, dones):\n",
        "        \"\"\"\n",
        "        Update value parameters using given experience list.\n",
        "\n",
        "        Arguments:\n",
        "            log_probs (torch.Tensor): log probabilities\n",
        "            rewards (torch.Tensor): discounted cumulative rewards\n",
        "            state_values (torch.Tensor): predicted current state_values\n",
        "            next_state_values (torch.Tensor): predicted next state_values\n",
        "            dones (torch.Tensor): dones\n",
        "        \"\"\"\n",
        "        # Advantages\n",
        "        advantages = []\n",
        "        for R, next_value, value in zip(rewards, next_state_values, state_values):\n",
        "            advantages.append(R + next_value.item() - value.item())\n",
        "\n",
        "        # Normalization\n",
        "        advantages = torch.tensor(advantages)\n",
        "        advantages = (advantages - advantages.mean()) / (advantages.std() + 1e-9)\n",
        "\n",
        "        # Calculate loss\n",
        "        loss_actor = (-log_probs * advantages).sum()\n",
        "        loss_critic = self.loss_fn(state_values, rewards)\n",
        "        self.loss_values.append(loss_actor.detach().item() + loss_critic.detach().item())\n",
        "\n",
        "        # Backpropagation\n",
        "        self.optimizer_actor.zero_grad()\n",
        "        self.optimizer_critic.zero_grad()\n",
        "        loss_actor.backward()\n",
        "        loss_critic.backward()\n",
        "        self.optimizer_actor.step()\n",
        "        self.optimizer_critic.step()\n",
        "\n",
        "    def sample(self, state):\n",
        "        \"\"\"\n",
        "        Returns action, log_prob, state_value for given state.\n",
        "        \n",
        "        Arguments:\n",
        "            state (array_like): current state\n",
        "        \"\"\"\n",
        "        action_prob = self.actor(torch.FloatTensor(state))\n",
        "        state_value = self.critic(torch.FloatTensor(state))\n",
        "        action_dist = Categorical(action_prob)\n",
        "        action = action_dist.sample()\n",
        "        log_prob = action_dist.log_prob(action)\n",
        "        return action.item(), log_prob, state_value"
      ]
    },
    {
      "cell_type": "markdown",
      "metadata": {},
      "source": [
        "## Configurations"
      ]
    },
    {
      "cell_type": "code",
      "execution_count": 14,
      "metadata": {},
      "outputs": [
        {
          "data": {
            "text/plain": [
              "(Namespace(action_size=4, hidden_size=64, state_size=8),\n",
              " Namespace(drop_prob=0.3, hidden_size=64, state_size=8),\n",
              " Namespace(learning_rate=0.0005, optimizer='Adam', update_freq=5),\n",
              " Namespace(gamma=0.99, max_t=None, n_episodes=10000, window_size=500))"
            ]
          },
          "execution_count": 14,
          "metadata": {},
          "output_type": "execute_result"
        }
      ],
      "source": [
        "Actor_config = Namespace(\n",
        "    state_size = 8,\n",
        "    action_size = 4,\n",
        "    hidden_size = 64,\n",
        ")\n",
        "\n",
        "Critic_config = Namespace(\n",
        "    state_size = 8,\n",
        "    hidden_size = 64,\n",
        "    drop_prob = 0.3,\n",
        ")\n",
        "\n",
        "Agent_config = Namespace(\n",
        "    optimizer = 'Adam',\n",
        "    learning_rate = 5e-4,\n",
        "    update_freq = 5,\n",
        ")\n",
        "\n",
        "ActorCritic_config = Namespace(\n",
        "    n_episodes = 10000,\n",
        "    max_t = None,\n",
        "    window_size = 500,\n",
        "    gamma = 0.99,\n",
        ")\n",
        "\n",
        "Actor_config, Critic_config, Agent_config, ActorCritic_config"
      ]
    },
    {
      "cell_type": "markdown",
      "metadata": {
        "id": "ehPlnTKyRZf9"
      },
      "source": [
        "Lastly, build a network and agent to start training."
      ]
    },
    {
      "cell_type": "code",
      "execution_count": 15,
      "metadata": {
        "id": "GfJIvML-RYjL"
      },
      "outputs": [],
      "source": [
        "actor = Actor(**vars(Actor_config))\n",
        "critic = Critic(**vars(Critic_config))\n",
        "agent = ActorCriticAgent(actor, critic, **vars(Agent_config))"
      ]
    },
    {
      "cell_type": "markdown",
      "metadata": {
        "id": "ouv23glgf5Qt"
      },
      "source": [
        "## Training Agent\n",
        "\n",
        "Now let's start to train our A2C agent.\n",
        "Through taking all the interactions between agent and environment as training data, the A2C network can learn from all these attempts."
      ]
    },
    {
      "cell_type": "code",
      "execution_count": 16,
      "metadata": {},
      "outputs": [],
      "source": [
        "def ActorCritic(n_episodes=2000, max_t=1000, window_size=100, gamma=0.99):\n",
        "    \"\"\"\n",
        "    A2C Algorithm.\n",
        "    Arguments:\n",
        "        n_episodes (int): maximum number of training episodes\n",
        "        max_t (int): maximum number of timesteps per episode(None: No limit)\n",
        "        window_size (int): maximum size to record observed total rewards\n",
        "        gamma (float): discount factor\n",
        "    \"\"\"\n",
        "    agent.actor.train()                         # Switch network into training mode\n",
        "    agent.critic.train()                        # Switch network into training mode\n",
        "\n",
        "    total_rewards = []                          # list containing total reward from each episode\n",
        "    final_rewards = []                          # list containing final reward from each episode\n",
        "    rewards_window = deque(maxlen=window_size)  # last window_size rewards\n",
        "    best_reward = -np.inf\n",
        "\n",
        "    progress_bar = tqdm(range(1, n_episodes + 1))\n",
        "    for i_episode in progress_bar:\n",
        "        state = env.reset()                     # Reset the environment\n",
        "        total_reward, reward = 0, 0             # Total reward / current reward\n",
        "        max_t = max_t if max_t else np.inf      # max_t is infinite if the value id None\n",
        "        total_step = 0                          # Step of each episode\n",
        "\n",
        "        rewards = []\n",
        "        log_probs = []\n",
        "        state_values = []\n",
        "        next_state_values = []\n",
        "        dones = []\n",
        "        while True:\n",
        "            # Reach the max_t\n",
        "            if total_step == max_t:\n",
        "                break\n",
        "\n",
        "            # Sample an action and interact with the environment\n",
        "            action, log_prob, state_value = agent.sample(state) # action at, log(at|st)\n",
        "            next_state, reward, done, _ = env.step(action)\n",
        "            _, __, next_state_value = agent.sample(next_state)  # action at, log(at+1|st+1)\n",
        "\n",
        "            # Information about a state\n",
        "            next_state_values.append(next_state_value)\n",
        "            state_values.append(state_value)\n",
        "            rewards.append(reward)\n",
        "            dones.append(done)\n",
        "            log_probs.append(log_prob)\n",
        "\n",
        "            state = next_state\n",
        "            total_reward += reward\n",
        "            total_step += 1\n",
        "\n",
        "            if done:\n",
        "                break\n",
        "\n",
        "        \"\"\" Discounted cumulative rewards \"\"\"\n",
        "        discounted_rewards = []\n",
        "        T_max = len(rewards)\n",
        "        for t in range(T_max):\n",
        "            discounted_rewards.append(sum([r * (gamma**power) for r, power in zip(rewards[t:], range(T_max - t))]))\n",
        "        assert (len(rewards) == len(discounted_rewards)), \"Dimension does not match.\"\n",
        "        rewards = discounted_rewards\n",
        "\n",
        "        final_rewards.append(reward)            # save final reward in episode\n",
        "        total_rewards.append(total_reward)      # save total rewards in episode\n",
        "        rewards_window.append(total_reward)     # save total rewards in episode\n",
        "\n",
        "        # Agent performs one step\n",
        "        agent.step(log_probs, rewards, state_values, next_state_values, dones)\n",
        "\n",
        "        # record training process\n",
        "        progress_bar.set_description(f\"Total: {total_reward: 4.1f}, Final: {reward: 4.1f}\")\n",
        "        # Information\n",
        "        print(f'Episode {i_episode}\\tAverage {window_size} Score: {np.mean(rewards_window): 4.1f}\\tScore: {total_reward: 4.1f}{\" \"*5}', end='\\r')\n",
        "        if i_episode % window_size == 0:\n",
        "            print(f'Episode {i_episode}\\tAverage {window_size} Score: {np.mean(rewards_window): 4.1f}')\n",
        "\n",
        "        if total_reward > best_reward:\n",
        "            torch.save(agent.actor.state_dict(), f'actor.pt')\n",
        "            best_reward = total_reward\n",
        "    return total_rewards, final_rewards"
      ]
    },
    {
      "cell_type": "code",
      "execution_count": 17,
      "metadata": {},
      "outputs": [
        {
          "data": {
            "application/vnd.jupyter.widget-view+json": {
              "model_id": "b108aa40d1a44ebf80902de27647d741",
              "version_major": 2,
              "version_minor": 0
            },
            "text/plain": [
              "  0%|          | 0/10000 [00:00<?, ?it/s]"
            ]
          },
          "metadata": {},
          "output_type": "display_data"
        },
        {
          "name": "stdout",
          "output_type": "stream",
          "text": [
            "Episode 500\tAverage 500 Score: -168.3\tScore: -167.3     \n",
            "Episode 1000\tAverage 500 Score: -129.7\tScore: -109.5     \n",
            "Episode 1500\tAverage 500 Score: -92.1\tScore: -85.1       \n",
            "Episode 2000\tAverage 500 Score: -32.2\tScore:  82.6      \n",
            "Episode 2500\tAverage 500 Score:  28.8\tScore:  14.6      \n",
            "Episode 3000\tAverage 500 Score:  91.2\tScore:  147.0     \n",
            "Episode 3500\tAverage 500 Score:  96.1\tScore: -23.2       \n",
            "Episode 4000\tAverage 500 Score:  105.5\tScore:  142.6     \n",
            "Episode 4500\tAverage 500 Score:  127.0\tScore:  159.8     \n",
            "Episode 5000\tAverage 500 Score:  135.0\tScore:  131.1     \n",
            "Episode 5500\tAverage 500 Score:  145.8\tScore:  141.8     \n",
            "Episode 6000\tAverage 500 Score:  200.1\tScore:  303.4     \n",
            "Episode 6500\tAverage 500 Score:  231.7\tScore:  299.0     \n",
            "Episode 7000\tAverage 500 Score:  237.8\tScore:  274.4     \n",
            "Episode 7500\tAverage 500 Score:  238.0\tScore:  275.4     \n",
            "Episode 8000\tAverage 500 Score:  221.3\tScore:  287.2     \n",
            "Episode 8500\tAverage 500 Score:  251.9\tScore:  293.9     \n",
            "Episode 9000\tAverage 500 Score:  233.4\tScore:  20.3      \n",
            "Episode 9500\tAverage 500 Score:  246.1\tScore:  257.5     \n",
            "Episode 10000\tAverage 500 Score:  226.5\tScore:  299.6     \n"
          ]
        }
      ],
      "source": [
        "total_rewards, final_rewards = ActorCritic(**vars(ActorCritic_config))"
      ]
    },
    {
      "cell_type": "markdown",
      "metadata": {
        "id": "vNb_tuFYhKVK"
      },
      "source": [
        "### Training Result\n",
        "During the training process, we recorded `total_reward`, which represents the average total reward of episodes before updating the policy network.\n",
        "\n",
        "Theoretically, if the agent becomes better, the `total_reward` will increase.\n",
        "The visualization of the training process is shown below:  \n"
      ]
    },
    {
      "cell_type": "code",
      "execution_count": 18,
      "metadata": {},
      "outputs": [
        {
          "data": {
            "image/png": "[encoded data removed]",
            "text/plain": [
              "<Figure size 432x288 with 1 Axes>"
            ]
          },
          "metadata": {
            "needs_background": "light"
          },
          "output_type": "display_data"
        }
      ],
      "source": [
        "plt.plot(agent.loss_values)\n",
        "plt.title(\"Loss\")\n",
        "plt.show()"
      ]
    },
    {
      "cell_type": "code",
      "execution_count": 19,
      "metadata": {
        "colab": {
          "base_uri": "https://localhost:8080/",
          "height": 281
        },
        "id": "wZYOI8H10SHN",
        "outputId": "4eb0f708-48c5-4dbc-dfef-2c68188eac6a"
      },
      "outputs": [
        {
          "data": {
            "image/png": "[encoded data removed]",
            "text/plain": [
              "<Figure size 432x288 with 1 Axes>"
            ]
          },
          "metadata": {
            "needs_background": "light"
          },
          "output_type": "display_data"
        }
      ],
      "source": [
        "plt.plot(total_rewards)\n",
        "plt.title(\"Total Rewards\")\n",
        "plt.show()"
      ]
    },
    {
      "cell_type": "markdown",
      "metadata": {
        "id": "mV5jj4dThz0Y"
      },
      "source": [
        "In addition, `final_reward` represents average final rewards of episodes. To be specific, final rewards is the last reward received in one episode, indicating whether the craft lands successfully or not.\n"
      ]
    },
    {
      "cell_type": "code",
      "execution_count": 20,
      "metadata": {
        "colab": {
          "base_uri": "https://localhost:8080/",
          "height": 281
        },
        "id": "txDZ5vlGWz5w",
        "outputId": "9ce5b8fb-be23-4d12-8f04-63d3fca3c5e2"
      },
      "outputs": [
        {
          "data": {
            "image/png": "[encoded data removed]",
            "text/plain": [
              "<Figure size 432x288 with 1 Axes>"
            ]
          },
          "metadata": {
            "needs_background": "light"
          },
          "output_type": "display_data"
        }
      ],
      "source": [
        "plt.plot(final_rewards)\n",
        "plt.title(\"Final Rewards\")\n",
        "plt.show()"
      ]
    },
    {
      "cell_type": "markdown",
      "metadata": {
        "id": "u2HaGRVEYGQS"
      },
      "source": [
        "## Testing\n",
        "The testing result will be the average reward of 5 testing"
      ]
    },
    {
      "cell_type": "code",
      "execution_count": 21,
      "metadata": {},
      "outputs": [
        {
          "name": "stdout",
          "output_type": "stream",
          "text": [
            "284.0140434487449\n"
          ]
        },
        {
          "data": {
            "image/png": "[encoded data removed]",
            "text/plain": [
              "<Figure size 432x288 with 1 Axes>"
            ]
          },
          "metadata": {
            "needs_background": "light"
          },
          "output_type": "display_data"
        }
      ],
      "source": [
        "fix(env, seed)\n",
        "agent.actor.eval()  # set the network into evaluation mode\n",
        "agent.critic.eval()\n",
        "NUM_OF_TEST = 5 # Do not revise this !!!\n",
        "test_total_reward = []\n",
        "action_list = []\n",
        "for i in range(NUM_OF_TEST):\n",
        "    actions = []\n",
        "    state = env.reset()\n",
        "\n",
        "    img = plt.imshow(env.render(mode='rgb_array'))\n",
        "\n",
        "    total_reward = 0\n",
        "\n",
        "    done = False\n",
        "    while not done:\n",
        "        action, _, __ = agent.sample(state)\n",
        "        actions.append(action)\n",
        "        state, reward, done, _ = env.step(action)\n",
        "\n",
        "        total_reward += reward\n",
        "\n",
        "        img.set_data(env.render(mode='rgb_array'))\n",
        "        display.display(plt.gcf())\n",
        "        display.clear_output(wait=True)\n",
        "\n",
        "    print(total_reward)\n",
        "    test_total_reward.append(total_reward)\n",
        "\n",
        "    action_list.append(actions) # save the result of testing "
      ]
    },
    {
      "cell_type": "code",
      "execution_count": 22,
      "metadata": {
        "colab": {
          "base_uri": "https://localhost:8080/"
        },
        "id": "Aex7mcKr0J01",
        "outputId": "494c694b-e229-414a-f29f-dc57dc9c6749"
      },
      "outputs": [
        {
          "name": "stdout",
          "output_type": "stream",
          "text": [
            "283.6601476684121\n"
          ]
        }
      ],
      "source": [
        "print(np.mean(test_total_reward))"
      ]
    },
    {
      "cell_type": "markdown",
      "metadata": {
        "id": "leyebGYRpqsF"
      },
      "source": [
        "Action list"
      ]
    },
    {
      "cell_type": "code",
      "execution_count": 23,
      "metadata": {
        "colab": {
          "base_uri": "https://localhost:8080/"
        },
        "id": "hGAH4YWDpp4u",
        "outputId": "af7a4a2a-6572-4589-8731-35d000988448"
      },
      "outputs": [
        {
          "name": "stdout",
          "output_type": "stream",
          "text": [
            "Action list looks like  [[0, 1, 1, 0, 1, 1, 0, 1, 0, 0, 0, 0, 0, 1, 1, 0, 0, 0, 0, 3, 0, 0, 0, 2, 3, 2, 1, 0, 2, 0, 0, 3, 2, 2, 2, 3, 2, 2, 3, 2, 2, 2, 2, 2, 2, 2, 2, 1, 2, 2, 2, 2, 2, 2, 0, 2, 3, 2, 2, 3, 2, 2, 2, 0, 2, 2, 3, 2, 3, 2, 2, 2, 2, 2, 2, 3, 3, 2, 2, 2, 3, 2, 1, 2, 2, 2, 2, 2, 0, 0, 2, 2, 2, 1, 2, 2, 1, 2, 2, 2, 1, 3, 1, 1, 2, 2, 2, 1, 2, 2, 2, 2, 0, 0, 2, 1, 2, 2, 1, 2, 1, 2, 2, 1, 3, 2, 2, 2, 0, 0, 2, 3, 3, 2, 2, 2, 2, 2, 0, 3, 2, 2, 2, 3, 2, 2, 3, 2, 3, 2, 2, 2, 2, 0, 1, 0, 2, 0, 0, 2, 2, 0, 0, 0, 0, 0, 0, 0, 0, 0, 0, 0, 0, 0, 0, 0, 0, 0, 0, 0, 0, 0, 0, 0, 0, 0, 0, 0, 0, 0, 0, 0, 0, 0, 0, 0, 0, 0, 0, 0, 1, 0, 2, 0, 2, 0, 2, 1, 2, 0, 0, 2, 0, 0, 0, 0, 0, 0, 0, 0, 0, 0, 0, 0, 0, 0, 0, 0, 0, 0, 0, 0, 0, 0, 0, 0, 0, 0, 0, 0, 0, 0, 0, 0, 0], [0, 3, 3, 3, 0, 0, 3, 0, 3, 3, 2, 2, 3, 2, 0, 0, 2, 2, 0, 0, 2, 2, 2, 2, 2, 2, 2, 1, 0, 2, 2, 2, 2, 1, 2, 2, 2, 2, 2, 2, 2, 2, 2, 0, 1, 2, 1, 2, 1, 2, 1, 2, 2, 2, 2, 2, 2, 1, 2, 2, 1, 3, 2, 2, 3, 2, 1, 2, 2, 2, 0, 2, 2, 2, 2, 2, 3, 2, 2, 2, 2, 2, 0, 3, 1, 2, 2, 2, 2, 3, 3, 2, 1, 2, 0, 2, 2, 2, 2, 3, 3, 2, 2, 2, 3, 2, 2, 2, 2, 0, 2, 2, 3, 3, 2, 2, 2, 3, 2, 2, 2, 2, 1, 2, 2, 2, 1, 0, 2, 0, 0, 0, 0, 0, 0, 0, 0, 0, 0, 0, 0, 0, 0, 0, 0, 0, 0, 0, 0, 0, 3, 0, 0, 0, 0, 0, 0, 0, 0, 0, 0, 0, 0, 0, 0, 0, 0, 3, 0, 0, 0, 0, 0, 0, 0, 0, 0, 0, 0, 0, 0, 0, 0, 0, 0, 0, 0, 0, 0, 0, 0, 0, 0, 0, 0], [1, 0, 1, 1, 0, 0, 0, 1, 1, 0, 0, 0, 1, 0, 2, 0, 0, 1, 2, 2, 0, 2, 2, 3, 2, 2, 2, 2, 2, 2, 3, 2, 2, 2, 3, 3, 2, 2, 2, 2, 2, 2, 3, 3, 2, 2, 2, 2, 3, 2, 2, 3, 3, 2, 2, 2, 2, 2, 2, 2, 2, 2, 2, 2, 3, 3, 2, 2, 2, 2, 2, 2, 2, 0, 2, 2, 2, 0, 2, 0, 2, 2, 2, 3, 2, 2, 3, 2, 2, 2, 1, 1, 2, 1, 2, 2, 2, 2, 1, 2, 1, 1, 2, 1, 1, 1, 2, 2, 2, 2, 2, 2, 1, 2, 2, 2, 2, 2, 2, 1, 2, 0, 2, 2, 2, 3, 2, 2, 2, 2, 2, 3, 1, 2, 2, 2, 3, 2, 2, 0, 0, 0, 0, 0, 0, 0, 0, 0, 0, 0, 0, 0, 0, 0, 0, 0, 0, 0, 0, 0, 0, 0, 0, 0, 0, 0, 0, 0, 0, 0, 0, 0, 0, 0, 0, 0, 0, 3, 0, 0, 0, 0, 0, 0, 0, 0, 0, 0, 0, 0, 0, 0, 0, 0, 0, 0, 0, 0, 0, 0, 0, 0, 0], [0, 0, 1, 0, 0, 0, 0, 0, 0, 0, 0, 0, 0, 1, 0, 0, 1, 0, 0, 1, 1, 0, 1, 1, 0, 0, 0, 1, 3, 0, 0, 0, 1, 2, 1, 0, 0, 1, 0, 3, 3, 0, 3, 3, 1, 0, 0, 3, 2, 2, 3, 1, 0, 2, 2, 3, 3, 2, 2, 2, 2, 2, 2, 2, 2, 3, 2, 0, 2, 2, 0, 2, 2, 3, 2, 2, 1, 2, 2, 3, 2, 2, 3, 2, 2, 0, 2, 2, 2, 2, 3, 2, 2, 2, 2, 2, 0, 2, 2, 2, 2, 2, 3, 2, 2, 2, 2, 2, 2, 2, 2, 3, 3, 2, 2, 2, 2, 2, 2, 2, 2, 0, 2, 2, 1, 2, 2, 2, 0, 2, 2, 2, 2, 1, 2, 1, 2, 1, 2, 2, 2, 2, 1, 0, 2, 1, 1, 2, 2, 2, 2, 2, 2, 2, 2, 1, 2, 1, 2, 2, 3, 3, 2, 2, 2, 2, 2, 0, 2, 1, 2, 2, 1, 2, 2, 1, 0, 2, 2, 0, 0, 0, 0, 3, 0, 0, 0, 0, 0, 0, 0, 0, 0, 0, 0, 0, 0, 0, 0, 0, 0, 0, 0, 0, 0, 0, 0, 0, 0, 0, 0, 0, 0, 0, 0, 0, 0, 0, 0, 0, 0, 0, 0, 0, 0, 0, 0, 0, 0, 0, 0, 0, 0, 0, 0, 0, 0, 0, 0, 0, 0, 0, 0, 0, 0, 0, 0, 0, 0, 0, 0, 0, 0, 0, 0, 0, 0, 0, 0, 0, 0, 0, 0, 0, 0, 0, 0, 0, 0, 0, 0, 0, 0, 0, 0, 0, 0, 0, 0, 0, 0], [1, 3, 1, 1, 1, 0, 1, 0, 0, 0, 1, 1, 1, 1, 1, 1, 1, 1, 1, 1, 2, 3, 0, 0, 0, 3, 2, 3, 2, 3, 0, 0, 0, 3, 3, 2, 0, 2, 2, 2, 3, 3, 2, 3, 2, 3, 2, 2, 2, 2, 2, 2, 2, 2, 3, 3, 2, 2, 2, 2, 3, 2, 2, 3, 2, 1, 3, 2, 0, 2, 2, 2, 2, 2, 2, 2, 2, 3, 2, 2, 2, 2, 2, 2, 2, 2, 2, 3, 2, 2, 2, 2, 3, 2, 1, 1, 2, 2, 2, 2, 2, 3, 2, 2, 2, 1, 1, 1, 1, 1, 2, 2, 2, 2, 3, 3, 1, 2, 1, 1, 2, 2, 0, 2, 0, 2, 1, 2, 2, 2, 2, 2, 2, 2, 2, 0, 2, 0, 0, 2, 1, 3, 3, 2, 2, 3, 1, 2, 3, 2, 3, 2, 3, 2, 3, 2, 2, 2, 2, 2, 0, 2, 2, 2, 0, 2, 2, 3, 2, 2, 2, 0, 0, 0, 0, 0, 0, 0, 0, 0, 0, 0, 0, 0, 0, 0, 0, 0, 0, 0, 0, 0, 0, 0, 0, 0, 0, 0, 0, 0, 0, 0, 0, 0, 1, 0, 0, 0, 0, 0, 0, 0, 0, 0, 0, 0, 0, 0, 0, 0, 0, 0, 0, 0, 0, 0, 0, 0, 0, 0, 0, 0, 3, 0, 0, 0, 0, 0, 0, 0, 0, 0, 0, 0, 0, 0, 0, 0, 0, 0, 0, 0, 0, 0, 0, 0, 0, 0]]\n",
            "Action list's shape looks like  (5,)\n"
          ]
        },
        {
          "name": "stderr",
          "output_type": "stream",
          "text": [
            "/home/tienyi/.local/lib/python3.8/site-packages/numpy/core/_asarray.py:83: VisibleDeprecationWarning: Creating an ndarray from ragged nested sequences (which is a list-or-tuple of lists-or-tuples-or ndarrays with different lengths or shapes) is deprecated. If you meant to do this, you must specify 'dtype=object' when creating the ndarray\n",
            "  return array(a, dtype, copy=False, order=order)\n"
          ]
        }
      ],
      "source": [
        "print(\"Action list looks like \", action_list)\n",
        "print(\"Action list's shape looks like \", np.shape(action_list))"
      ]
    },
    {
      "cell_type": "markdown",
      "metadata": {
        "id": "fNkmwucrHMen"
      },
      "source": [
        "Analysis of actions taken by agent"
      ]
    },
    {
      "cell_type": "code",
      "execution_count": 24,
      "metadata": {},
      "outputs": [
        {
          "name": "stdout",
          "output_type": "stream",
          "text": [
            "{0: 509, 1: 111, 3: 109, 2: 453}\n"
          ]
        }
      ],
      "source": [
        "distribution = {}\n",
        "for actions in action_list:\n",
        "    for action in actions:\n",
        "        if action not in distribution.keys():\n",
        "            distribution[action] = 1\n",
        "        else:\n",
        "            distribution[action] += 1\n",
        "print(distribution)"
      ]
    },
    {
      "cell_type": "markdown",
      "metadata": {
        "id": "ricE0schY75M"
      },
      "source": [
        "Saving the result of Model Testing\n"
      ]
    },
    {
      "cell_type": "code",
      "execution_count": 25,
      "metadata": {},
      "outputs": [],
      "source": [
        "PATH = \"Action_List_A2C.npy\" # Can be modified into the name or path you want"
      ]
    },
    {
      "cell_type": "code",
      "execution_count": 26,
      "metadata": {
        "colab": {
          "base_uri": "https://localhost:8080/"
        },
        "id": "GZsMkGmIY42b",
        "outputId": "a2506560-a0d6-415e-810c-4ba1ca38ce59"
      },
      "outputs": [
        {
          "name": "stderr",
          "output_type": "stream",
          "text": [
            "/tmp/ipykernel_792558/3777543850.py:1: VisibleDeprecationWarning: Creating an ndarray from ragged nested sequences (which is a list-or-tuple of lists-or-tuples-or ndarrays with different lengths or shapes) is deprecated. If you meant to do this, you must specify 'dtype=object' when creating the ndarray\n",
            "  np.save(PATH ,np.array(action_list))\n"
          ]
        }
      ],
      "source": [
        "np.save(PATH ,np.array(action_list)) "
      ]
    },
    {
      "cell_type": "markdown",
      "metadata": {
        "id": "seT4NUmWmAZ1"
      },
      "source": [
        "# Server \n",
        "The code below simulate the environment on the judge server. Can be used for testing."
      ]
    },
    {
      "cell_type": "code",
      "execution_count": 27,
      "metadata": {},
      "outputs": [
        {
          "name": "stdout",
          "output_type": "stream",
          "text": [
            "Your reward is : 263.83\n",
            "Your reward is : 283.67\n",
            "Your reward is : 283.16\n",
            "Your reward is : 303.62\n",
            "Your reward is : 284.01\n"
          ]
        },
        {
          "data": {
            "image/png": "[encoded data removed]",
            "text/plain": [
              "<Figure size 432x288 with 1 Axes>"
            ]
          },
          "metadata": {
            "needs_background": "light"
          },
          "output_type": "display_data"
        }
      ],
      "source": [
        "action_list = np.load(PATH, allow_pickle=True) # The action list you upload\n",
        "seed = 543 # Do not revise this\n",
        "fix(env, seed)\n",
        "\n",
        "agent.actor.eval()  # set network to evaluation mode\n",
        "agent.critic.eval()  # set network to evaluation mode\n",
        "\n",
        "test_total_reward = []\n",
        "if len(action_list) != 5:\n",
        "    print(\"Wrong format of file !!!\")\n",
        "    exit(0)\n",
        "\n",
        "for actions in action_list:\n",
        "    state = env.reset()\n",
        "    img = plt.imshow(env.render(mode='rgb_array'))\n",
        "\n",
        "    total_reward = 0\n",
        "\n",
        "    done = False\n",
        "\n",
        "    for action in actions:\n",
        "\n",
        "        state, reward, done, _ = env.step(action)\n",
        "        total_reward += reward\n",
        "        if done:\n",
        "            break\n",
        "\n",
        "    print(f\"Your reward is : %.2f\"%total_reward)\n",
        "    test_total_reward.append(total_reward)"
      ]
    },
    {
      "cell_type": "markdown",
      "metadata": {
        "id": "TjFBWwQP1hVe"
      },
      "source": [
        "# Your score"
      ]
    },
    {
      "cell_type": "code",
      "execution_count": 28,
      "metadata": {
        "colab": {
          "base_uri": "https://localhost:8080/"
        },
        "id": "GpJpZz3Wbm0X",
        "outputId": "deb1429f-12a1-47dd-fc43-f0ab7312e7e2"
      },
      "outputs": [
        {
          "name": "stdout",
          "output_type": "stream",
          "text": [
            "Your final reward is : 283.66\n"
          ]
        }
      ],
      "source": [
        "print(f\"Your final reward is : {np.mean(test_total_reward):.2f}\")"
      ]
    },
    {
      "cell_type": "markdown",
      "metadata": {
        "id": "wUBtYXG2eaqf"
      },
      "source": [
        "## Reference\n",
        "\n",
        "Below are some useful tips for you to get high score.\n",
        "\n",
        "- [DRL Lecture 1: Policy Gradient (Review)](https://youtu.be/z95ZYgPgXOY)\n",
        "- [ML Lecture 23-3: Reinforcement Learning (including Q-learning) start at 30:00](https://youtu.be/2-JNBzCq77c?t=1800)\n",
        "- [Lecture 7: Policy Gradient, David Silver](http://www0.cs.ucl.ac.uk/staff/d.silver/web/Teaching_files/pg.pdf)\n"
      ]
    }
  ],
  "metadata": {
    "colab": {
      "collapsed_sections": [],
      "name": "hw12_reinforcement_learning_english_version.ipynb",
      "provenance": []
    },
    "interpreter": {
      "hash": "767d51c1340bd893661ea55ea3124f6de3c7a262a8b4abca0554b478b1e2ff90"
    },
    "kernelspec": {
      "display_name": "Python 3.8.10 64-bit",
      "language": "python",
      "name": "python3"
    },
    "language_info": {
      "codemirror_mode": {
        "name": "ipython",
        "version": 3
      },
      "file_extension": ".py",
      "mimetype": "text/x-python",
      "name": "python",
      "nbconvert_exporter": "python",
      "pygments_lexer": "ipython3",
      "version": "3.8.10"
    },
    "widgets": {
      "application/vnd.jupyter.widget-state+json": {
        "06dfabe998944232abb5489ce6045d2a": {
          "model_module": "@jupyter-widgets/controls",
          "model_module_version": "1.5.0",
          "model_name": "HTMLModel",
          "state": {
            "_dom_classes": [],
            "_model_module": "@jupyter-widgets/controls",
            "_model_module_version": "1.5.0",
            "_model_name": "HTMLModel",
            "_view_count": null,
            "_view_module": "@jupyter-widgets/controls",
            "_view_module_version": "1.5.0",
            "_view_name": "HTMLView",
            "description": "",
            "description_tooltip": null,
            "layout": "IPY_MODEL_dbb666fbdffe41fd8b2a8485ad3177f0",
            "placeholder": "​",
            "style": "IPY_MODEL_ca300afee8834b69833adb0c1cf03937",
            "value": " 400/400 [11:19&lt;00:00,  1.70s/it]"
          }
        },
        "154182745b5d45389a58f69f01214abf": {
          "model_module": "@jupyter-widgets/base",
          "model_module_version": "1.2.0",
          "model_name": "LayoutModel",
          "state": {
            "_model_module": "@jupyter-widgets/base",
            "_model_module_version": "1.2.0",
            "_model_name": "LayoutModel",
            "_view_count": null,
            "_view_module": "@jupyter-widgets/base",
            "_view_module_version": "1.2.0",
            "_view_name": "LayoutView",
            "align_content": null,
            "align_items": null,
            "align_self": null,
            "border": null,
            "bottom": null,
            "display": null,
            "flex": null,
            "flex_flow": null,
            "grid_area": null,
            "grid_auto_columns": null,
            "grid_auto_flow": null,
            "grid_auto_rows": null,
            "grid_column": null,
            "grid_gap": null,
            "grid_row": null,
            "grid_template_areas": null,
            "grid_template_columns": null,
            "grid_template_rows": null,
            "height": null,
            "justify_content": null,
            "justify_items": null,
            "left": null,
            "margin": null,
            "max_height": null,
            "max_width": null,
            "min_height": null,
            "min_width": null,
            "object_fit": null,
            "object_position": null,
            "order": null,
            "overflow": null,
            "overflow_x": null,
            "overflow_y": null,
            "padding": null,
            "right": null,
            "top": null,
            "visibility": null,
            "width": null
          }
        },
        "30f1bc6f241e4729880fff0775f6bf7f": {
          "model_module": "@jupyter-widgets/controls",
          "model_module_version": "1.5.0",
          "model_name": "HBoxModel",
          "state": {
            "_dom_classes": [],
            "_model_module": "@jupyter-widgets/controls",
            "_model_module_version": "1.5.0",
            "_model_name": "HBoxModel",
            "_view_count": null,
            "_view_module": "@jupyter-widgets/controls",
            "_view_module_version": "1.5.0",
            "_view_name": "HBoxView",
            "box_style": "",
            "children": [
              "IPY_MODEL_8d3251f885d047349f8628f7a2c9ed1a",
              "IPY_MODEL_06dfabe998944232abb5489ce6045d2a"
            ],
            "layout": "IPY_MODEL_154182745b5d45389a58f69f01214abf"
          }
        },
        "8d3251f885d047349f8628f7a2c9ed1a": {
          "model_module": "@jupyter-widgets/controls",
          "model_module_version": "1.5.0",
          "model_name": "FloatProgressModel",
          "state": {
            "_dom_classes": [],
            "_model_module": "@jupyter-widgets/controls",
            "_model_module_version": "1.5.0",
            "_model_name": "FloatProgressModel",
            "_view_count": null,
            "_view_module": "@jupyter-widgets/controls",
            "_view_module_version": "1.5.0",
            "_view_name": "ProgressView",
            "bar_style": "success",
            "description": "Total:  86.3, Final:  0.0: 100%",
            "description_tooltip": null,
            "layout": "IPY_MODEL_e740b0be22714c7ea1a8130b9d5ff5f7",
            "max": 400,
            "min": 0,
            "orientation": "horizontal",
            "style": "IPY_MODEL_99d70e7bee484942959132b8d8f2e261",
            "value": 400
          }
        },
        "99d70e7bee484942959132b8d8f2e261": {
          "model_module": "@jupyter-widgets/controls",
          "model_module_version": "1.5.0",
          "model_name": "ProgressStyleModel",
          "state": {
            "_model_module": "@jupyter-widgets/controls",
            "_model_module_version": "1.5.0",
            "_model_name": "ProgressStyleModel",
            "_view_count": null,
            "_view_module": "@jupyter-widgets/base",
            "_view_module_version": "1.2.0",
            "_view_name": "StyleView",
            "bar_color": null,
            "description_width": "initial"
          }
        },
        "ca300afee8834b69833adb0c1cf03937": {
          "model_module": "@jupyter-widgets/controls",
          "model_module_version": "1.5.0",
          "model_name": "DescriptionStyleModel",
          "state": {
            "_model_module": "@jupyter-widgets/controls",
            "_model_module_version": "1.5.0",
            "_model_name": "DescriptionStyleModel",
            "_view_count": null,
            "_view_module": "@jupyter-widgets/base",
            "_view_module_version": "1.2.0",
            "_view_name": "StyleView",
            "description_width": ""
          }
        },
        "dbb666fbdffe41fd8b2a8485ad3177f0": {
          "model_module": "@jupyter-widgets/base",
          "model_module_version": "1.2.0",
          "model_name": "LayoutModel",
          "state": {
            "_model_module": "@jupyter-widgets/base",
            "_model_module_version": "1.2.0",
            "_model_name": "LayoutModel",
            "_view_count": null,
            "_view_module": "@jupyter-widgets/base",
            "_view_module_version": "1.2.0",
            "_view_name": "LayoutView",
            "align_content": null,
            "align_items": null,
            "align_self": null,
            "border": null,
            "bottom": null,
            "display": null,
            "flex": null,
            "flex_flow": null,
            "grid_area": null,
            "grid_auto_columns": null,
            "grid_auto_flow": null,
            "grid_auto_rows": null,
            "grid_column": null,
            "grid_gap": null,
            "grid_row": null,
            "grid_template_areas": null,
            "grid_template_columns": null,
            "grid_template_rows": null,
            "height": null,
            "justify_content": null,
            "justify_items": null,
            "left": null,
            "margin": null,
            "max_height": null,
            "max_width": null,
            "min_height": null,
            "min_width": null,
            "object_fit": null,
            "object_position": null,
            "order": null,
            "overflow": null,
            "overflow_x": null,
            "overflow_y": null,
            "padding": null,
            "right": null,
            "top": null,
            "visibility": null,
            "width": null
          }
        },
        "e740b0be22714c7ea1a8130b9d5ff5f7": {
          "model_module": "@jupyter-widgets/base",
          "model_module_version": "1.2.0",
          "model_name": "LayoutModel",
          "state": {
            "_model_module": "@jupyter-widgets/base",
            "_model_module_version": "1.2.0",
            "_model_name": "LayoutModel",
            "_view_count": null,
            "_view_module": "@jupyter-widgets/base",
            "_view_module_version": "1.2.0",
            "_view_name": "LayoutView",
            "align_content": null,
            "align_items": null,
            "align_self": null,
            "border": null,
            "bottom": null,
            "display": null,
            "flex": null,
            "flex_flow": null,
            "grid_area": null,
            "grid_auto_columns": null,
            "grid_auto_flow": null,
            "grid_auto_rows": null,
            "grid_column": null,
            "grid_gap": null,
            "grid_row": null,
            "grid_template_areas": null,
            "grid_template_columns": null,
            "grid_template_rows": null,
            "height": null,
            "justify_content": null,
            "justify_items": null,
            "left": null,
            "margin": null,
            "max_height": null,
            "max_width": null,
            "min_height": null,
            "min_width": null,
            "object_fit": null,
            "object_position": null,
            "order": null,
            "overflow": null,
            "overflow_x": null,
            "overflow_y": null,
            "padding": null,
            "right": null,
            "top": null,
            "visibility": null,
            "width": null
          }
        }
      }
    }
  },
  "nbformat": 4,
  "nbformat_minor": 0
}
