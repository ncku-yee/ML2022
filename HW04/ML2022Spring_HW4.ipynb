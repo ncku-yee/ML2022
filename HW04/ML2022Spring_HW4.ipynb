{
 "cells": [
  {
   "cell_type": "markdown",
   "metadata": {
    "id": "C_jdZ5vHJ4A9"
   },
   "source": [
    "# Task description\n",
    "- Classify the speakers of given features.\n",
    "- Main goal: Learn how to use transformer.\n",
    "- Baselines:\n",
    "  - Easy: Run sample code and know how to use transformer.\n",
    "  - Medium: Know how to adjust parameters of transformer.\n",
    "  - Strong: Construct [conformer](https://arxiv.org/abs/2005.08100) which is a variety of transformer. \n",
    "  - Boss: Implement [Self-Attention Pooling](https://arxiv.org/pdf/2008.01077v1.pdf) & [Additive Margin Softmax](https://arxiv.org/pdf/1801.05599.pdf) to further boost the performance.\n",
    "\n",
    "- Other links\n",
    "  - Kaggle: [link](https://www.kaggle.com/t/ac77388c90204a4c8daebeddd40ff916)\n",
    "  - Slide: [link](https://docs.google.com/presentation/d/1HLAj7UUIjZOycDe7DaVLSwJfXVd3bXPOyzSb6Zk3hYU/edit?usp=sharing)\n",
    "  - Data: [link](https://github.com/MachineLearningHW/ML_HW4_Dataset)\n",
    "\n",
    "# Download dataset\n",
    "- Data is [here](https://github.com/MachineLearningHW/ML_HW4_Dataset)"
   ]
  },
  {
   "cell_type": "code",
   "execution_count": 1,
   "metadata": {
    "colab": {
     "base_uri": "https://localhost:8080/"
    },
    "id": "LhLNWB-AK2Z5",
    "outputId": "7834c418-6b6c-4534-a3dc-1c0394d94a48"
   },
   "outputs": [
    {
     "data": {
      "text/plain": [
       "'\\nIf the links below become inaccessible, please connect TAs.\\n'"
      ]
     },
     "execution_count": 1,
     "metadata": {},
     "output_type": "execute_result"
    }
   ],
   "source": [
    "\"\"\"\n",
    "If the links below become inaccessible, please connect TAs.\n",
    "\"\"\"\n",
    "\n",
    "# !wget https://github.com/MachineLearningHW/ML_HW4_Dataset/raw/0.0.1/Dataset.tar.gz.partaa\n",
    "# !wget https://github.com/MachineLearningHW/ML_HW4_Dataset/raw/0.0.1/Dataset.tar.gz.partab\n",
    "# !wget https://github.com/MachineLearningHW/ML_HW4_Dataset/raw/0.0.1/Dataset.tar.gz.partac\n",
    "# !wget https://github.com/MachineLearningHW/ML_HW4_Dataset/raw/0.0.1/Dataset.tar.gz.partad\n",
    "\n",
    "# !cat Dataset.tar.gz.parta* > Dataset.tar.gz\n",
    "\n",
    "# !tar zxvf Dataset.tar.gz"
   ]
  },
  {
   "cell_type": "markdown",
   "metadata": {},
   "source": [
    "# Git Clone `conformer` packages to fix the bugs."
   ]
  },
  {
   "cell_type": "code",
   "execution_count": null,
   "metadata": {},
   "outputs": [],
   "source": [
    "!git clone https://github.com/sooftware/conformer\n",
    "!cp conformer/conformer -r ./Conformer\n",
    "!rm conformer -rf\n",
    "!mv Conformer conformer"
   ]
  },
  {
   "cell_type": "markdown",
   "metadata": {
    "id": "ENWVAUDVJtVY"
   },
   "source": [
    "# Packages"
   ]
  },
  {
   "cell_type": "code",
   "execution_count": 2,
   "metadata": {
    "id": "E6burzCXIyuA"
   },
   "outputs": [],
   "source": [
    "# Numerical Operations\n",
    "import random\n",
    "import numpy as np\n",
    "import math\n",
    "\n",
    "# Reading/Writing Data\n",
    "import os\n",
    "import csv\n",
    "import json\n",
    "from pathlib import Path\n",
    "\n",
    "# For Progress Bar\n",
    "from tqdm import tqdm\n",
    "\n",
    "# Pytorch\n",
    "import torch\n",
    "import torch.nn as nn\n",
    "import torch.nn.functional as F\n",
    "from torch.nn.utils.rnn import pad_sequence\n",
    "from torch.utils.data import Dataset, DataLoader, random_split\n",
    "import torchvision.transforms as transforms\n",
    "import torchvision.models as models\n",
    "\n",
    "# Visualize the training information\n",
    "import matplotlib.pyplot as plt\n",
    "\n",
    "# Conformer\n",
    "# Ref: https://github.com/sooftware/conformer\n",
    "from conformer import Conformer"
   ]
  },
  {
   "cell_type": "markdown",
   "metadata": {},
   "source": [
    "# Utility Functions"
   ]
  },
  {
   "cell_type": "code",
   "execution_count": 3,
   "metadata": {},
   "outputs": [],
   "source": [
    "def same_seed(seed): \n",
    "    \"\"\" Fixes random number generator seeds for reproducibility. \"\"\"\n",
    "    torch.backends.cudnn.deterministic = True\n",
    "    torch.backends.cudnn.benchmark = False\n",
    "    np.random.seed(seed)\n",
    "    random.seed(seed)\n",
    "    torch.manual_seed(seed)\n",
    "    if torch.cuda.is_available():\n",
    "        torch.cuda.manual_seed_all(seed)\n",
    "\n",
    "def train_valid_split(dataset, train_ratio, seed):\n",
    "    \"\"\" Split provided training data into training set and validation set. \"\"\"\n",
    "    train_set_size = int(train_ratio * len(dataset))\n",
    "    valid_set_size = len(dataset) - train_set_size\n",
    "    train_set, valid_set = random_split(dataset, [train_set_size, valid_set_size], generator=torch.Generator().manual_seed(seed))\n",
    "    print(f\"[INFO]:\\nTraining size: {train_set_size}\\nValidation size: {valid_set_size}\")\n",
    "    return train_set, valid_set\n",
    "\n",
    "def print_model(model, dataloader):\n",
    "    \"\"\"\n",
    "    Print the model architecture.\n",
    "    Arguments:\n",
    "        model: Your Neural Network model.\n",
    "        dataloader: Training data loader.\n",
    "    Returns:\n",
    "        void: No return value.\n",
    "    \"\"\"\n",
    "    # Get the input size of training data.\n",
    "    input_size = None\n",
    "    for X, y in dataloader:\n",
    "        input_size = X.shape[1:]        # input_size = (C, H, W)\n",
    "        break\n",
    "\n",
    "    # Pass model and the input size as parameters.\n",
    "    print(model)"
   ]
  },
  {
   "cell_type": "markdown",
   "metadata": {
    "id": "k7dVbxW2LASN"
   },
   "source": [
    "# Data\n",
    "\n",
    "## Dataset\n",
    "- Original dataset is [Voxceleb2](https://www.robots.ox.ac.uk/~vgg/data/voxceleb/vox2.html).\n",
    "- The [license](https://creativecommons.org/licenses/by/4.0/) and [complete version](https://www.robots.ox.ac.uk/~vgg/data/voxceleb/files/license.txt) of Voxceleb2.\n",
    "- We randomly select 600 speakers from Voxceleb2.\n",
    "- Then preprocess the raw waveforms into mel-spectrograms.\n",
    "\n",
    "- Args:\n",
    "  - data_dir: The path to the data directory.\n",
    "  - metadata_path: The path to the metadata.\n",
    "  - segment_len: The length of audio segment for training. \n",
    "- The architecture of data directory  \n",
    "  - data directory  \n",
    "  |---- metadata.json  \n",
    "  |---- testdata.json  \n",
    "  |---- mapping.json  \n",
    "  |---- uttr-{random string}.pt  \n",
    "\n",
    "- The information in metadata\n",
    "  - \"n_mels\": The dimention of mel-spectrogram.\n",
    "  - \"speakers\": A dictionary. \n",
    "    - Key: speaker ids.\n",
    "    - value: \"feature_path\" and \"mel_len\"\n",
    "\n",
    "\n",
    "For efficiency, we segment the mel-spectrograms into segments in the traing step."
   ]
  },
  {
   "cell_type": "code",
   "execution_count": 4,
   "metadata": {
    "id": "KpuGxl4CI2pr"
   },
   "outputs": [],
   "source": [
    "class SpeakerDataset(Dataset):\n",
    "    def __init__(self, data_dir, segment_len=128):\n",
    "        self.data_dir = data_dir\n",
    "        self.segment_len = segment_len\n",
    "\n",
    "        # Load the mapping from speaker neme to their corresponding \"id\". \n",
    "        mapping_path = Path(data_dir) / \"mapping.json\"   # Concatenate the path.\n",
    "        mapping = json.load(mapping_path.open())\n",
    "        self.speaker2id = mapping[\"speaker2id\"]\n",
    "\n",
    "        # Load metadata of training data, get each speaker's utterances' info.\n",
    "        metadata_path = Path(data_dir) / \"metadata.json\" # Concatenate the path.\n",
    "        metadata = json.load(open(metadata_path))[\"speakers\"]\n",
    "        \n",
    "        # Get the total number of speaker.\n",
    "        self.speaker_num = len(metadata.keys())\n",
    "        self.data = []                                   # Each element records a speaker's utterances list and its id(label). \n",
    "        for speaker in metadata.keys():\n",
    "            for utterances in metadata[speaker]:\n",
    "                self.data.append([utterances[\"feature_path\"], self.speaker2id[speaker]])\n",
    "\n",
    "    def __len__(self):\n",
    "        return len(self.data)\n",
    "\n",
    "    def __getitem__(self, index):\n",
    "        feat_path, speaker = self.data[index]\n",
    "        # Load preprocessed mel-spectrogram.\n",
    "        mel = torch.load(os.path.join(self.data_dir, feat_path))\n",
    "\n",
    "        # Segmemt mel-spectrogram into \"segment_len\" frames.\n",
    "        if len(mel) > self.segment_len:\n",
    "            # Randomly get the starting point of the segment.\n",
    "            start = random.randint(0, len(mel) - self.segment_len)\n",
    "            # Get a segment with \"segment_len\" frames.\n",
    "            mel = torch.FloatTensor(mel[start:start+self.segment_len])\n",
    "        else:\n",
    "            mel = torch.FloatTensor(mel)\n",
    "        # Turn the speaker id into long for computing loss later.\n",
    "        speaker = torch.FloatTensor([speaker]).long()\n",
    "        return mel, speaker\n",
    "\n",
    "    def get_speaker_number(self):\n",
    "        return self.speaker_num"
   ]
  },
  {
   "cell_type": "markdown",
   "metadata": {
    "id": "668hverTMlGN"
   },
   "source": [
    "## Dataloader\n",
    "- Split dataset into training dataset(90%) and validation dataset(10%).\n",
    "- Create dataloader to iterate the data."
   ]
  },
  {
   "cell_type": "code",
   "execution_count": 5,
   "metadata": {
    "id": "B7c2gZYoJDRS"
   },
   "outputs": [],
   "source": [
    "def collate_batch(batch):\n",
    "    \"\"\"\n",
    "    Arguments:\n",
    "        batch: A list of tuples with (feature, label)\n",
    "               feature -> mel-spectrogram.\n",
    "               label   -> speaker id.\n",
    "    \"\"\"\n",
    "    # Process features within a batch.\n",
    "    \"\"\" Collate a batch of data. \"\"\"\n",
    "    mel, speaker = zip(*batch)\n",
    "    # Because we train the model batch by batch, we need to pad the features in the same batch to make their lengths the same.\n",
    "    # batch_first=True to see the first dimension as batch_size.\n",
    "    mel = pad_sequence(mel, batch_first=True, padding_value=-20)    # pad log 10^(-20) which is very small value.\n",
    "    # mel: (batch size, segment_len, n_mels) n_mels: 40(The dimention of mel-spectrogram)\n",
    "    return mel, torch.FloatTensor(speaker).long()\n",
    "\n",
    "\n",
    "def get_dataloader(data_dir, train_ratio, seed, segment_len, batch_size, n_workers):\n",
    "    \"\"\"Generate dataloader\"\"\"\n",
    "    dataset = SpeakerDataset(data_dir, segment_len)\n",
    "    speaker_num = dataset.get_speaker_number()\n",
    "    # Split dataset into training dataset and validation dataset\n",
    "    trainset, validset = train_valid_split(dataset, train_ratio, seed)\n",
    "\n",
    "    train_loader = DataLoader(\n",
    "        trainset,\n",
    "        batch_size=batch_size,\n",
    "        shuffle=True,\n",
    "        drop_last=True,\n",
    "        num_workers=n_workers,\n",
    "        pin_memory=True,\n",
    "        collate_fn=collate_batch,\n",
    "    )\n",
    "    valid_loader = DataLoader(\n",
    "        validset,\n",
    "        batch_size=batch_size,\n",
    "        num_workers=n_workers,\n",
    "        drop_last=True,\n",
    "        pin_memory=True,\n",
    "        collate_fn=collate_batch,\n",
    "    )\n",
    "\n",
    "    return train_loader, valid_loader, speaker_num"
   ]
  },
  {
   "cell_type": "markdown",
   "metadata": {
    "id": "5FOSZYxrMqhc"
   },
   "source": [
    "# Model Template\n",
    "- TransformerEncoderLayer:\n",
    "  - Base transformer encoder layer in [Attention Is All You Need](https://arxiv.org/abs/1706.03762)\n",
    "  - Parameters:\n",
    "    - d_model: the number of expected features of the input (required).\n",
    "\n",
    "    - nhead: the number of heads of the multiheadattention models (required).\n",
    "\n",
    "    - dim_feedforward: the dimension of the feedforward network model (default=2048).\n",
    "\n",
    "    - dropout: the dropout value (default=0.1).\n",
    "\n",
    "    - activation: the activation function of intermediate layer, relu or gelu (default=relu).\n",
    "\n",
    "- TransformerEncoder:\n",
    "  - TransformerEncoder is a stack of N transformer encoder layers\n",
    "  - Parameters:\n",
    "    - encoder_layer: an instance of the TransformerEncoderLayer() class (required).\n",
    "\n",
    "    - num_layers: the number of sub-encoder-layers in the encoder (required).\n",
    "\n",
    "    - norm: the layer normalization component (optional)."
   ]
  },
  {
   "cell_type": "code",
   "execution_count": 6,
   "metadata": {
    "id": "iXZ5B0EKJGs8"
   },
   "outputs": [],
   "source": [
    "class Classifier(nn.Module):\n",
    "    def __init__(self, d_model=256, segment_len=128, n_spks=600, dropout=0.3, device='cuda'):\n",
    "        super().__init__()\n",
    "        # Project the dimension of features from that of input into d_model.\n",
    "        self.prenet = nn.Linear(40, d_model)\n",
    "        \"\"\"\n",
    "        Arguments:\n",
    "            num_classes            : Number of classification classes.\n",
    "            input_dim              : Dimension of input vector.\n",
    "            encoder_dim            : Dimension of conformer encoder.\n",
    "            num_encoder_layers     : Number of conformer blocks.\n",
    "            num_attention_heads    : Number of attention heads(default=8).\n",
    "            feed_forward_dropout_p : Probability of feed forward module dropout(default=0.1).\n",
    "            attention_dropout_p    : Probability of attention module dropout(default=0.1).\n",
    "            conv_dropout_p         : Probability of conformer convolution module dropout(default=0.1).\n",
    "            half_step_residual     : Flag indication whether to use half step residual or not(fefault=True).\n",
    "        \"\"\"\n",
    "        self.conformer = Conformer(num_classes=d_model, \n",
    "                                   input_dim=d_model, \n",
    "                                   encoder_dim=512,\n",
    "                                   num_encoder_layers=6).to(device)\n",
    "        self.segment_len = segment_len\n",
    "        # TODO:\n",
    "        #   Change Transformer to Conformer.\n",
    "        #   https://arxiv.org/abs/2005.08100\n",
    "        \"\"\"\n",
    "        Arguments:\n",
    "            d_model        : The number of expected features in the input (required).\n",
    "            nhead          : The number of heads in the multiheadattention models (required).\n",
    "            dim_feedforward: The dimension of the feedforward network model (default=2048).\n",
    "            dropout        : The dropout value (default=0.1).\n",
    "            activation     : The activation function of intermediate layer, relu or gelu (default=relu).\n",
    "        \"\"\"\n",
    "        self.encoder_layer = nn.TransformerEncoderLayer(\n",
    "            d_model=d_model, dim_feedforward=256, nhead=8, dropout=dropout, batch_first=True,\n",
    "        )\n",
    "\n",
    "        \"\"\"\n",
    "        TransformerEncoder is stacked of TransformerEncoderLayer.\n",
    "        Arguments:\n",
    "            encoder_layer : An instance of the TransformerEncoderLayer() class (required).\n",
    "            num_layers    : The number of sub-encoder-layers in the encoder (required).\n",
    "            norm          : The layer normalization component (optional).\n",
    "        \"\"\"\n",
    "        self.encoder = nn.TransformerEncoder(self.encoder_layer, num_layers=2)\n",
    "\n",
    "        # Project the the dimension of features from d_model into speaker nums.\n",
    "        self.pred_layer = nn.Sequential(\n",
    "            nn.Linear(d_model, d_model),\n",
    "            nn.BatchNorm1d(d_model),\n",
    "            nn.ReLU(),\n",
    "            nn.Dropout(p=0.3),\n",
    "            nn.Linear(d_model, n_spks),\n",
    "        )\n",
    "\n",
    "    def forward(self, mels):\n",
    "        \"\"\"\n",
    "        Arguments:\n",
    "            mels: (batch size, segment_len, n_mels) n_mels: 40(The dimention of mel-spectrogram)\n",
    "        Returns:\n",
    "            out: (batch size, n_spks)\n",
    "        \"\"\"\n",
    "        # out: (batch size, segment_len, d_model)\n",
    "        out = self.prenet(mels)\n",
    "        \"\"\" Conformer \"\"\"\n",
    "        # out: (batch size, out_len, d_model)\n",
    "        out, out_len = self.conformer(out, self.segment_len)\n",
    "        \"\"\" Self-attention \"\"\"\n",
    "        out = self.encoder(out)\n",
    "        \"\"\" Mean pooling \"\"\"\n",
    "        # out: (batch size, d_model)\n",
    "        stats = out.mean(dim=1)\n",
    "        \"\"\" Prediction layer \"\"\"\n",
    "        out = self.pred_layer(stats)\n",
    "        return out"
   ]
  },
  {
   "cell_type": "markdown",
   "metadata": {
    "id": "W7yX8JinM5Ly"
   },
   "source": [
    "# Learning rate schedule\n",
    "- For transformer architecture, the design of learning rate schedule is different from that of CNN.\n",
    "- Previous works show that the warmup of learning rate is useful for training models with transformer architectures.\n",
    "- The warmup schedule\n",
    "  - Set learning rate to 0 in the beginning.\n",
    "  - The learning rate increases linearly from 0 to initial learning rate during warmup period."
   ]
  },
  {
   "cell_type": "code",
   "execution_count": 7,
   "metadata": {
    "id": "ykt0N1nVJJi2"
   },
   "outputs": [],
   "source": [
    "def get_cosine_schedule_with_warmup(\n",
    "    optimizer: torch.optim.Optimizer,\n",
    "    num_warmup_steps: int,\n",
    "    num_training_steps: int,\n",
    "    num_cycles: float = 0.5,\n",
    "    last_epoch: int = -1,\n",
    "):\n",
    "    \"\"\"\n",
    "    Create a schedule with a learning rate that decreases following the values of the cosine function between the\n",
    "    initial lr set in the optimizer to 0, after a warmup period during which it increases linearly between 0 and the\n",
    "    initial lr set in the optimizer.\n",
    "\n",
    "    Args:\n",
    "        optimizer (:class:`~torch.optim.Optimizer`):\n",
    "        The optimizer for which to schedule the learning rate.\n",
    "        num_warmup_steps (:obj:`int`):\n",
    "        The number of steps for the warmup phase.\n",
    "        num_training_steps (:obj:`int`):\n",
    "        The total number of training steps.\n",
    "        num_cycles (:obj:`float`, `optional`, defaults to 0.5):\n",
    "        The number of waves in the cosine schedule (the defaults is to just decrease from the max value to 0\n",
    "        following a half-cosine).\n",
    "        last_epoch (:obj:`int`, `optional`, defaults to -1):\n",
    "        The index of the last epoch when resuming training.\n",
    "\n",
    "    Return:\n",
    "        :obj:`torch.optim.lr_scheduler.LambdaLR` with the appropriate schedule.\n",
    "    \"\"\"\n",
    "    def lr_lambda(current_step):\n",
    "        # Warmup\n",
    "        if current_step < num_warmup_steps:\n",
    "            return float(current_step) / float(max(1, num_warmup_steps))\n",
    "        # decadence\n",
    "        progress = float(current_step - num_warmup_steps) / float(\n",
    "            max(1, num_training_steps - num_warmup_steps)\n",
    "        )\n",
    "        return max(\n",
    "            0.0, 0.5 * (1.0 + math.cos(math.pi * float(num_cycles) * 2.0 * progress))\n",
    "        )\n",
    "\n",
    "    return torch.optim.lr_scheduler.LambdaLR(optimizer, lr_lambda, last_epoch)"
   ]
  },
  {
   "cell_type": "markdown",
   "metadata": {
    "id": "-LN2XkteM_uH"
   },
   "source": [
    "# Model Function\n",
    "- Model forward function."
   ]
  },
  {
   "cell_type": "code",
   "execution_count": 8,
   "metadata": {
    "id": "N-rr8529JMz0"
   },
   "outputs": [],
   "source": [
    "def model_fn(batch, model, criterion, device):\n",
    "    \"\"\"Forward a batch through the model.\"\"\"\n",
    "\n",
    "    mels, labels = batch\n",
    "    mels = mels.to(device)\n",
    "    labels = labels.to(device)\n",
    "\n",
    "    outs = model(mels)\n",
    "    \n",
    "    loss = criterion(outs, labels)\n",
    "\n",
    "    # Get the speaker id with highest probability.\n",
    "    preds = outs.argmax(1)\n",
    "    # Compute accuracy.\n",
    "    accuracy = torch.mean((preds == labels).float())\n",
    "\n",
    "    return loss, accuracy"
   ]
  },
  {
   "cell_type": "markdown",
   "metadata": {
    "id": "cwM_xyOtNCI2"
   },
   "source": [
    "# Validate\n",
    "- Calculate accuracy of the validation set."
   ]
  },
  {
   "cell_type": "code",
   "execution_count": 9,
   "metadata": {
    "id": "YAiv6kpdJRTJ"
   },
   "outputs": [],
   "source": [
    "def valid(dataloader, model, criterion, device): \n",
    "    \"\"\"Validate on validation set.\"\"\"\n",
    "\n",
    "    model.eval()\n",
    "    running_loss = 0.0\n",
    "    running_accuracy = 0.0\n",
    "    pbar = tqdm(total=len(dataloader.dataset), ncols=0, desc=\"Valid\", unit=\" uttr\")\n",
    "\n",
    "    for i, batch in enumerate(dataloader):\n",
    "        with torch.no_grad():\n",
    "            loss, accuracy = model_fn(batch, model, criterion, device)\n",
    "            running_loss += loss.item()\n",
    "            running_accuracy += accuracy.item()\n",
    "        \n",
    "        pbar.update(dataloader.batch_size)\n",
    "        pbar.set_postfix(\n",
    "            loss=f\"{running_loss / (i+1):.2f}\",\n",
    "            accuracy=f\"{running_accuracy / (i+1):.2f}\",\n",
    "        )\n",
    "\n",
    "    pbar.close()\n",
    "    model.train()\n",
    "\n",
    "    return running_loss / len(dataloader),  running_accuracy / len(dataloader)"
   ]
  },
  {
   "cell_type": "markdown",
   "metadata": {
    "id": "g6ne9G-eNEdG"
   },
   "source": [
    "# Main function"
   ]
  },
  {
   "cell_type": "code",
   "execution_count": 10,
   "metadata": {
    "colab": {
     "base_uri": "https://localhost:8080/",
     "height": 365
    },
    "id": "Usv9s-CuJSG7",
    "outputId": "4f3028a3-de67-4594-d37f-ba8c43b6dfe2"
   },
   "outputs": [],
   "source": [
    "def parse_args():\n",
    "    \"\"\"arguments\"\"\"\n",
    "    config = {\n",
    "        \"seed\": 5401314,\n",
    "        \"train_ratio\": 0.9,\n",
    "        \"data_dir\": \"./Dataset\",\n",
    "        \"segment_len\": 256, \n",
    "        \"save_path\": \"./models/model.ckpt\",\n",
    "        \"batch_size\": 32,\n",
    "        \"n_workers\": 8,\n",
    "        \"valid_steps\": 2000,\n",
    "        \"warmup_steps\": 1000,\n",
    "        \"save_steps\": 10000,\n",
    "        \"total_steps\": 70000,\n",
    "    }\n",
    "\n",
    "    return config\n",
    "\n",
    "\n",
    "def main(\n",
    "    seed,\n",
    "    train_ratio,\n",
    "    data_dir,\n",
    "    segment_len,\n",
    "    save_path,\n",
    "    batch_size,\n",
    "    n_workers,\n",
    "    valid_steps,\n",
    "    warmup_steps,\n",
    "    total_steps,\n",
    "    save_steps,\n",
    "):\n",
    "    \"\"\"Main function.\"\"\"\n",
    "    device = torch.device(\"cuda\" if torch.cuda.is_available() else \"cpu\")\n",
    "    print(f\"[Info]: Use {device} now!\")\n",
    "\n",
    "    train_loader, valid_loader, speaker_num = get_dataloader(data_dir, train_ratio, seed, segment_len, batch_size, n_workers)\n",
    "    train_iterator = iter(train_loader)\n",
    "    print(f\"[Info]: Finish loading data!\",flush = True)\n",
    "\n",
    "    model = Classifier(n_spks=speaker_num, segment_len=segment_len).to(device)\n",
    "    # print(model, train_loader)\n",
    "    criterion = nn.CrossEntropyLoss()\n",
    "    optimizer = torch.optim.AdamW(model.parameters(), lr=1e-4, weight_decay=0.001)\n",
    "    # scheduler = get_cosine_schedule_with_warmup(optimizer, warmup_steps, total_steps)\n",
    "    print(f\"[Info]: Finish creating model!\",flush = True)\n",
    "    \n",
    "    if not os.path.isdir('./models'):\n",
    "        os.mkdir('./models')                    # Create directory of saving models.\n",
    "\n",
    "    best_accuracy = -1.0\n",
    "    best_state_dict = None\n",
    "\n",
    "    train_batch_acc_record, train_batch_loss_record = [], []\n",
    "    valid_acc_record, valid_loss_record = [], []\n",
    "    \n",
    "    pbar = tqdm(total=valid_steps, ncols=0, desc=\"Train\", unit=\" step\")\n",
    "\n",
    "    for step in range(total_steps):\n",
    "        # Get data\n",
    "        try:\n",
    "            batch = next(train_iterator)\n",
    "        except StopIteration:\n",
    "            train_iterator = iter(train_loader)\n",
    "            batch = next(train_iterator)\n",
    "\n",
    "        loss, accuracy = model_fn(batch, model, criterion, device)\n",
    "        batch_loss = loss.item()\n",
    "        batch_accuracy = accuracy.item()\n",
    "\n",
    "        # Record accuracy and loss of each epoch.\n",
    "        train_batch_acc_record.append(batch_accuracy)\n",
    "        train_batch_loss_record.append(batch_loss)\n",
    "        \n",
    "        # Updata model\n",
    "        loss.backward()\n",
    "        optimizer.step()\n",
    "        # scheduler.step()\n",
    "        optimizer.zero_grad()\n",
    "\n",
    "        # Log\n",
    "        pbar.update()\n",
    "        pbar.set_postfix(\n",
    "            loss=f\"{batch_loss:.2f}\",\n",
    "            accuracy=f\"{batch_accuracy:.2f}\",\n",
    "            step=step + 1,\n",
    "        )\n",
    "\n",
    "        # Do validation\n",
    "        if (step + 1) % valid_steps == 0:\n",
    "            pbar.close()\n",
    "\n",
    "            valid_loss, valid_accuracy = valid(valid_loader, model, criterion, device)\n",
    "            \n",
    "            # Record accuracy and loss of each epoch.\n",
    "            valid_acc_record.append(valid_accuracy)\n",
    "            valid_loss_record.append(valid_loss)\n",
    "\n",
    "            # keep the best model\n",
    "            if valid_accuracy > best_accuracy:\n",
    "                best_accuracy = valid_accuracy\n",
    "                best_state_dict = model.state_dict()\n",
    "\n",
    "            pbar = tqdm(total=valid_steps, ncols=0, desc=\"Train\", unit=\" step\")\n",
    "\n",
    "        # Save the best model so far.\n",
    "        if (step + 1) % save_steps == 0 and best_state_dict is not None:\n",
    "            torch.save(best_state_dict, save_path)\n",
    "            pbar.write(f\"Step {step + 1}, best model saved. (accuracy={best_accuracy:.4f})\")\n",
    "\n",
    "    pbar.close()\n",
    "\n",
    "    return train_batch_acc_record, train_batch_loss_record, valid_acc_record, valid_loss_record"
   ]
  },
  {
   "cell_type": "markdown",
   "metadata": {},
   "source": [
    "# Run scripts "
   ]
  },
  {
   "cell_type": "code",
   "execution_count": null,
   "metadata": {},
   "outputs": [],
   "source": [
    "scripts = [f\"classifier{i+1}.py\" for i in range(6)]\n",
    "for script in scripts:\n",
    "    print(f\"[Info]: {script}\")\n",
    "    %run {script}"
   ]
  },
  {
   "cell_type": "markdown",
   "metadata": {
    "id": "NLatBYAhNNMx"
   },
   "source": [
    "# Inference"
   ]
  },
  {
   "cell_type": "code",
   "execution_count": 11,
   "metadata": {
    "colab": {
     "background_save": true
    },
    "id": "efS4pCmAJXJH"
   },
   "outputs": [
    {
     "name": "stdout",
     "output_type": "stream",
     "text": [
      "[Info]: Finish loading data!\n",
      "[Info]: Use cuda now!\n"
     ]
    },
    {
     "name": "stderr",
     "output_type": "stream",
     "text": [
      "100%|██████████| 8000/8000 [01:16<00:00, 104.06it/s]\n",
      "100%|██████████| 8000/8000 [01:12<00:00, 110.59it/s]\n",
      "100%|██████████| 8000/8000 [01:31<00:00, 87.22it/s] \n",
      "100%|██████████| 8000/8000 [01:07<00:00, 118.43it/s]\n",
      "100%|██████████| 8000/8000 [01:12<00:00, 109.76it/s]\n",
      "100%|██████████| 8000/8000 [00:41<00:00, 191.37it/s]\n"
     ]
    }
   ],
   "source": [
    "%run ensemble.py"
   ]
  },
  {
   "cell_type": "code",
   "execution_count": null,
   "metadata": {},
   "outputs": [],
   "source": []
  }
 ],
 "metadata": {
  "accelerator": "GPU",
  "colab": {
   "collapsed_sections": [],
   "name": "hw04.ipynb",
   "provenance": []
  },
  "interpreter": {
   "hash": "b5413b086da39172df5a68bbe9aa6e86edd1b36307e8219d36dc58aee2f27b39"
  },
  "kernelspec": {
   "display_name": "MLVENV",
   "language": "python",
   "name": "python3"
  },
  "language_info": {
   "codemirror_mode": {
    "name": "ipython",
    "version": 3
   },
   "file_extension": ".py",
   "mimetype": "text/x-python",
   "name": "python",
   "nbconvert_exporter": "python",
   "pygments_lexer": "ipython3",
   "version": "3.8.10"
  }
 },
 "nbformat": 4,
 "nbformat_minor": 1
}
